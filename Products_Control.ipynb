{
  "nbformat": 4,
  "nbformat_minor": 0,
  "metadata": {
    "colab": {
      "name": "Products_Control.ipynb",
      "provenance": [],
      "collapsed_sections": [],
      "toc_visible": true,
      "include_colab_link": true
    },
    "kernelspec": {
      "name": "python3",
      "display_name": "Python 3"
    }
  },
  "cells": [
    {
      "cell_type": "markdown",
      "metadata": {
        "id": "view-in-github",
        "colab_type": "text"
      },
      "source": [
        "<a href=\"https://colab.research.google.com/github/Edward-TL/amazon_scraper/blob/master/Products_Control.ipynb\" target=\"_parent\"><img src=\"https://colab.research.google.com/assets/colab-badge.svg\" alt=\"Open In Colab\"/></a>"
      ]
    },
    {
      "cell_type": "markdown",
      "metadata": {
        "id": "iFpwmSDo89NU",
        "colab_type": "text"
      },
      "source": [
        "#Start"
      ]
    },
    {
      "cell_type": "code",
      "metadata": {
        "id": "y3UwmIu89Dhk",
        "colab_type": "code",
        "colab": {
          "base_uri": "https://localhost:8080/",
          "height": 34
        },
        "outputId": "833a62e6-d709-46d7-834c-d43d0b3ea8a7"
      },
      "source": [
        "from google.colab import drive\n",
        "drive.mount('/content/drive')"
      ],
      "execution_count": 3,
      "outputs": [
        {
          "output_type": "stream",
          "text": [
            "Drive already mounted at /content/drive; to attempt to forcibly remount, call drive.mount(\"/content/drive\", force_remount=True).\n"
          ],
          "name": "stdout"
        }
      ]
    },
    {
      "cell_type": "markdown",
      "metadata": {
        "id": "zsyDnFS29FZ9",
        "colab_type": "text"
      },
      "source": [
        "#Import"
      ]
    },
    {
      "cell_type": "code",
      "metadata": {
        "id": "kZISofJV9Fl2",
        "colab_type": "code",
        "colab": {
          "base_uri": "https://localhost:8080/",
          "height": 51
        },
        "outputId": "f9ce9d2c-9af8-4a65-c852-bac9e70ea8b1"
      },
      "source": [
        "#For the system\n",
        "import os\n",
        "\n",
        "#Manage of time\n",
        "from datetime import datetime, timedelta\n",
        "from pytz import timezone\n",
        "import time\n",
        "\n",
        "#Manage of files\n",
        "import pandas as pd\n",
        "import csv\n",
        "import numpy as np\n",
        "\n",
        "#scrap\n",
        "from bs4 import BeautifulSoup\n",
        "from openpyxl.workbook import Workbook\n",
        "import requests\n",
        "\n",
        "#For SQL\n",
        "!pip install psycopg2\n",
        "import psycopg2\n",
        "\n",
        "!pip install sqlalchemy\n",
        "import sqlalchemy as sql"
      ],
      "execution_count": 146,
      "outputs": [
        {
          "output_type": "stream",
          "text": [
            "Requirement already satisfied: psycopg2 in /usr/local/lib/python3.6/dist-packages (2.7.6.1)\n",
            "Requirement already satisfied: sqlalchemy in /usr/local/lib/python3.6/dist-packages (1.3.18)\n"
          ],
          "name": "stdout"
        }
      ]
    },
    {
      "cell_type": "markdown",
      "metadata": {
        "id": "-B3sfl7QBYdZ",
        "colab_type": "text"
      },
      "source": [
        "#Go to folder"
      ]
    },
    {
      "cell_type": "markdown",
      "metadata": {
        "id": "hGcBkNnQ1KZ3",
        "colab_type": "text"
      },
      "source": [
        "Hay que considerar que se trabajara con las bases de datos (cualquier formato) y con las carpetas de control de product. Por ello, es que se inicia en la carpeta que permite seleccionar esto. Recordando:\n",
        "*  Masters: Se encuentran las bases de datos, organizadas por tipo de archivo.\n",
        "*  Origin: Primeros experimentos, se encuentran los archivos originales por consulta, divididos por país y categoría del país.\n",
        "*   Products: Dónde se pretende almacenar las base de características de productos."
      ]
    },
    {
      "cell_type": "code",
      "metadata": {
        "id": "1qUDSX-SBSGK",
        "colab_type": "code",
        "colab": {
          "base_uri": "https://localhost:8080/",
          "height": 51
        },
        "outputId": "719d08e2-04b8-4d30-f7a1-51c44c951718"
      },
      "source": [
        "%cd 'drive/My Drive/Colab Notebooks/4SS/4SS_db/testing'\n",
        "!ls"
      ],
      "execution_count": 5,
      "outputs": [
        {
          "output_type": "stream",
          "text": [
            "/content/drive/My Drive/Colab Notebooks/4SS/4SS_db/testing\n",
            "Masters  Origin  Products\n"
          ],
          "name": "stdout"
        }
      ]
    },
    {
      "cell_type": "markdown",
      "metadata": {
        "id": "si4wTbhl6Ont",
        "colab_type": "text"
      },
      "source": [
        "#Tools"
      ]
    },
    {
      "cell_type": "markdown",
      "metadata": {
        "id": "_eb_Adiq6Qz5",
        "colab_type": "text"
      },
      "source": [
        "##Centered Len"
      ]
    },
    {
      "cell_type": "code",
      "metadata": {
        "id": "2Pl3_KTM6SzC",
        "colab_type": "code",
        "colab": {}
      },
      "source": [
        ""
      ],
      "execution_count": 5,
      "outputs": []
    },
    {
      "cell_type": "markdown",
      "metadata": {
        "id": "u22BYwCD6SGS",
        "colab_type": "text"
      },
      "source": [
        "#Count if"
      ]
    },
    {
      "cell_type": "code",
      "metadata": {
        "id": "1_7XA6I76U3z",
        "colab_type": "code",
        "colab": {}
      },
      "source": [
        "def count_if(array, value):\n",
        "    count = 0\n",
        "    for element in array:\n",
        "        if element == value:\n",
        "            count += 1\n",
        "    return count"
      ],
      "execution_count": 6,
      "outputs": []
    },
    {
      "cell_type": "markdown",
      "metadata": {
        "id": "HlVD09ZaO-yj",
        "colab_type": "text"
      },
      "source": [
        "##Tools"
      ]
    },
    {
      "cell_type": "code",
      "metadata": {
        "id": "z92xbHFXPAS-",
        "colab_type": "code",
        "colab": {}
      },
      "source": [
        "def mode(array):\n",
        "    elements = [None]*len(array)\n",
        "    counter = [None]*len(array)\n",
        "\n",
        "    for element in array:\n",
        "\n",
        "        #Check the element\n",
        "        searcher = 0\n",
        "        while elements[searcher] != element and elements[searcher] != None and searcher < (len(array) - 1):\n",
        "            searcher += 1\n",
        "        \n",
        "        if elements[searcher] == element:\n",
        "            counter[searcher] += 1\n",
        "        \n",
        "        elif elements[searcher] == None:\n",
        "            elements[searcher] = element\n",
        "            counter[searcher] = 1\n",
        "\n",
        "    max = 0\n",
        "    c = 0\n",
        "    while counter[c] != None and c<(len(counter)-1):\n",
        "        if counter[c] >= max:\n",
        "            max = counter[c]\n",
        "            max_position = c\n",
        "        c += 1\n",
        "\n",
        "    mode = elements[max_position]\n",
        "    return mode"
      ],
      "execution_count": 32,
      "outputs": []
    },
    {
      "cell_type": "markdown",
      "metadata": {
        "id": "qVvuJLAGMIyi",
        "colab_type": "text"
      },
      "source": [
        "#Standarize dates"
      ]
    },
    {
      "cell_type": "code",
      "metadata": {
        "id": "MWZ93CLnMHkz",
        "colab_type": "code",
        "colab": {}
      },
      "source": [
        "def standarize_dates(date):\n",
        "    check = False\n",
        "    try:\n",
        "        date = datetime.strptime(str(date), '%Y-%m-%d %H:%M:%S.%f')\n",
        "        check = True\n",
        "    except ValueError:\n",
        "        try:\n",
        "            date = datetime.strptime(str(date), '%Y-%m-%d %H:%M:%S')\n",
        "            check = True\n",
        "        except:\n",
        "            try:\n",
        "                date = datetime.strptime(str(date), '%Y-%m-%d %H_%M')\n",
        "                check = True\n",
        "            except:\n",
        "                pass\n",
        "    if check == True:\n",
        "        date = date.strftime('%Y-%m-%d %H:%M')\n",
        "    \n",
        "    return date"
      ],
      "execution_count": 7,
      "outputs": []
    },
    {
      "cell_type": "code",
      "metadata": {
        "id": "iuuN3iQiP_fq",
        "colab_type": "code",
        "colab": {}
      },
      "source": [
        ""
      ],
      "execution_count": 7,
      "outputs": []
    },
    {
      "cell_type": "markdown",
      "metadata": {
        "id": "4YQVeDHQ0v_2",
        "colab_type": "text"
      },
      "source": [
        "#Lab"
      ]
    },
    {
      "cell_type": "markdown",
      "metadata": {
        "id": "nRGcZjM_0109",
        "colab_type": "text"
      },
      "source": [
        "##Extract Products"
      ]
    },
    {
      "cell_type": "markdown",
      "metadata": {
        "id": "VDyf-xBV4tOI",
        "colab_type": "text"
      },
      "source": [
        "###Name Products"
      ]
    },
    {
      "cell_type": "code",
      "metadata": {
        "id": "ZEm2-R_l06Xw",
        "colab_type": "code",
        "colab": {}
      },
      "source": [
        "entry = 'Masters/mx/parquet/mx-master_db_music.parquet'\n",
        "\n",
        "#Get de Nanmes\n",
        "df = pd.read_parquet(entry)\n",
        "df['time'] = df['time'].apply(standarize_dates)\n",
        "df = df.sort_values(by=\"time\")\n",
        "product_names_raw = df['Product Names'].tolist()\n",
        "#Remember, this gets de None Value\n",
        "products = list(set(product_names_raw))\n",
        "None_cases = count_if(product_names_raw, None)\n",
        "products.remove(None)"
      ],
      "execution_count": 97,
      "outputs": []
    },
    {
      "cell_type": "code",
      "metadata": {
        "id": "kRM00OAoNI67",
        "colab_type": "code",
        "colab": {}
      },
      "source": [
        ""
      ],
      "execution_count": 8,
      "outputs": []
    },
    {
      "cell_type": "markdown",
      "metadata": {
        "id": "X92oQSyNAZYH",
        "colab_type": "text"
      },
      "source": [
        "##Scrap Dates"
      ]
    },
    {
      "cell_type": "code",
      "metadata": {
        "id": "7UA41oBq63PF",
        "colab_type": "code",
        "colab": {
          "base_uri": "https://localhost:8080/",
          "height": 255
        },
        "outputId": "a553f349-647d-45b0-a337-704874b87904"
      },
      "source": [
        "dates_raw = df['time'].tolist()\n",
        "dates_time = set(dates_raw)\n",
        "\n",
        "just_dates = []\n",
        "for dt in dates_time:\n",
        "    try:\n",
        "        date = datetime.strptime(dt,'%Y-%m-%d %H:%M').date()\n",
        "    except:\n",
        "        date = datetime.strptime(dt,'%Y-%m-%d %H_%M').date()\n",
        "\n",
        "    if not date in just_dates:\n",
        "        just_dates.append(date)\n",
        "\n",
        "just_dates.sort()\n",
        "just_dates"
      ],
      "execution_count": 130,
      "outputs": [
        {
          "output_type": "execute_result",
          "data": {
            "text/plain": [
              "[datetime.date(2020, 7, 31),\n",
              " datetime.date(2020, 8, 1),\n",
              " datetime.date(2020, 8, 2),\n",
              " datetime.date(2020, 8, 3),\n",
              " datetime.date(2020, 8, 4),\n",
              " datetime.date(2020, 8, 5),\n",
              " datetime.date(2020, 8, 6),\n",
              " datetime.date(2020, 8, 7),\n",
              " datetime.date(2020, 8, 8),\n",
              " datetime.date(2020, 8, 9),\n",
              " datetime.date(2020, 8, 10),\n",
              " datetime.date(2020, 8, 11),\n",
              " datetime.date(2020, 8, 12),\n",
              " datetime.date(2020, 8, 13)]"
            ]
          },
          "metadata": {
            "tags": []
          },
          "execution_count": 130
        }
      ]
    },
    {
      "cell_type": "markdown",
      "metadata": {
        "id": "NfRFjxnNAcpl",
        "colab_type": "text"
      },
      "source": [
        "#Obtaining All Mode Ranks in table"
      ]
    },
    {
      "cell_type": "code",
      "metadata": {
        "id": "hjje59KxCayy",
        "colab_type": "code",
        "colab": {}
      },
      "source": [
        "products_dict = {products[n]:n for n in range(len(products))}\n",
        "# products_dict"
      ],
      "execution_count": null,
      "outputs": []
    },
    {
      "cell_type": "code",
      "metadata": {
        "id": "Sk-TZdR_AkqX",
        "colab_type": "code",
        "colab": {
          "base_uri": "https://localhost:8080/",
          "height": 513
        },
        "outputId": "b01eb9f2-1fc8-4738-b287-ac51b527104a"
      },
      "source": [
        "ranks = df['Rank'].tolist()\n",
        "day_arrays = [None] * (len(just_dates) - 1)\n",
        "zero_rank_day_array = [None] * len(products)\n",
        "rank_day_array = [None] * len(products)\n",
        "\n",
        "d_counter = 0\n",
        "first_date = just_dates[0]\n",
        "\n",
        "for r in range(len(ranks)):\n",
        "    \n",
        "    #Day that we are\n",
        "    try:\n",
        "        date_check = datetime.strptime(dates_raw[r],'%Y-%m-%d %H:%M').date()\n",
        "    except:\n",
        "        date_check = datetime.strptime(dates_raw[r],'%Y-%m-%d %H_%M').date()\n",
        "\n",
        "    if date_check != first_date:\n",
        "        day_arrays[d_counter] = rank_day_array\n",
        "        rank_day_array = [None] * len(products)\n",
        "        if d_counter < (len(just_dates)-1):\n",
        "            d_counter += 1\n",
        "            first_date = just_dates[d_counter]\n",
        "\n",
        "    if date_check == first_date:\n",
        "        # if date_check == just_dates[0]:\n",
        "        #     print(date_check)\n",
        "        rank = ranks[r]\n",
        "        #What product are we talking about\n",
        "        product_name = product_names_raw[r]\n",
        "        if product_name != None:\n",
        "            product_position = products_dict[product_name]\n",
        "            if rank_day_array[product_position] == None:\n",
        "                array = []\n",
        "                rank_day_array[product_position] = array\n",
        "            else:\n",
        "                array_rank = rank_day_array[product_position]\n",
        "                array_rank.append(rank)\n",
        "        \n",
        "            # print(f'{product_name} Position: {product_position} rank: {rank} -> {rank_day_array[product_position]}')\n",
        "\n",
        "for ranked_day in day_arrays:\n",
        "    print(ranked_day)\n",
        "\n",
        "print('\\n')\n",
        "\n",
        "for ranked_day in day_arrays:\n",
        "    for r in range(len(ranked_day)):\n",
        "        product = ranked_day[r]\n",
        "        if product != None:\n",
        "            if len(product) > 1:\n",
        "                moda = mode(ranked_day[r])\n",
        "                ranked_day[r] = moda\n",
        "            elif len(product) == 0:\n",
        "                ranked_day[r] = None\n",
        "            elif len(product) == 1:\n",
        "                ranked_day[r] = product[0]\n",
        "\n",
        "for ranked_day in day_arrays:\n",
        "    print(ranked_day)\n"
      ],
      "execution_count": 149,
      "outputs": [
        {
          "output_type": "stream",
          "text": [
            "[None, None, None, None, None, None, None, [47.0, 47.0, 47.0], None, None, None, None, [39.0, 39.0, 39.0, 39.0, 39.0], None, None, None, None, None, [27.0, 27.0, 27.0, 41.0, 41.0, 41.0, 41.0, 41.0], [], None, None, [], None, None, None, None, None, None, None, None, None, None, None, None, None, None, None, [2.0, 2.0, 2.0, 2.0, 3.0, 3.0, 3.0, 3.0, 3.0, 8.0, 8.0, 8.0, 8.0, 8.0, 8.0], None, None, None, None, None, None, None, [22.0, 22.0, 22.0, 22.0, 34.0, 34.0, 34.0, 34.0, 34.0], None, None, None, None, None, None, None, [45.0, 45.0, 45.0, 45.0], None, None, None, None, [11.0, 11.0, 11.0, 7.0, 7.0, 7.0, 7.0, 7.0, 21.0, 21.0, 21.0, 21.0, 21.0, 21.0], None, None, None, None, None, None, None, None, [5.0, 5.0, 5.0, 5.0, 8.0, 8.0, 8.0, 8.0, 8.0, 15.0, 15.0, 15.0, 15.0, 15.0, 15.0], [50.0, 50.0, 50.0, 50.0], None, None, None, None, None, [], None, None, [26.0, 26.0, 26.0, 39.0, 39.0, 39.0, 39.0, 39.0], [], None, None, None, None, None, [], None, None, None, None, None, None, None, [19.0, 19.0, 19.0, 19.0, 28.0, 28.0, 28.0, 28.0, 28.0], [], None, None, [4.0, 4.0, 4.0, 10.0, 10.0, 10.0, 10.0, 10.0, 22.0, 22.0, 22.0, 22.0, 22.0, 22.0], [48.0, 48.0, 48.0, 48.0], None, [], None, None, None, None, None, None, None, None, [], [39.0, 39.0, 39.0], None, None, None, None, None, None, None, None, None, None, None, None, [14.0, 14.0, 14.0, 14.0, 14.0, 14.0], [43.0, 43.0, 43.0], None, None, None, None, None, None, None, None, [46.0, 46.0, 46.0, 46.0], [32.0, 32.0, 32.0], None, [31.0, 31.0, 31.0, 31.0, 31.0, 31.0], None, None, None, [1.0, 1.0, 1.0, 1.0, 2.0, 2.0, 2.0, 2.0, 2.0, 7.0, 7.0, 7.0, 7.0, 7.0, 7.0], None, None, None, None, None, None, None, [30.0, 30.0, 30.0, 30.0, 14.0, 14.0, 14.0, 14.0, 14.0, 10.0, 10.0, 10.0, 10.0, 10.0, 10.0], None, [24.0, 24.0, 24.0, 24.0, 37.0, 37.0, 37.0, 37.0, 37.0, 24.0, 24.0, 24.0, 24.0, 24.0, 24.0], None, None, None, None, [48.0, 48.0, 48.0, 48.0, 48.0], None, None, None, None, None, None, None, [18.0, 18.0, 18.0, 18.0, 27.0, 27.0, 27.0, 27.0, 27.0], [38.0, 38.0, 38.0, 16.0, 16.0, 16.0, 16.0, 16.0, 13.0, 13.0, 13.0, 13.0, 13.0, 13.0], None, None, None, None, None, [42.0, 42.0, 42.0, 42.0], [40.0, 40.0, 40.0, 28.0, 28.0, 28.0, 28.0, 28.0, 28.0], [], None, None, None, None, None, None, None, None, None, None, None, None, None, [29.0, 29.0, 29.0, 42.0, 42.0, 42.0, 42.0, 42.0], None, [45.0, 45.0, 45.0], [35.0, 35.0, 35.0, 35.0, 35.0, 35.0], [47.0, 47.0, 47.0, 47.0], None, None, [11.0, 11.0, 11.0, 11.0, 11.0], None, None, None, None, None, None, None, None, None, [9.0, 9.0, 9.0, 6.0, 6.0, 6.0, 6.0, 6.0, 1.0, 1.0, 1.0, 1.0, 1.0, 1.0], None, None, None, None, None, None, None, None, [33.0, 33.0, 33.0, 33.0, 23.0, 23.0, 23.0, 23.0, 23.0, 23.0], None, None, None, None, None, None, None, [49.0, 49.0, 49.0, 49.0, 49.0], None, None, None, None, None, [26.0, 26.0, 26.0, 26.0, 26.0], None, None, None, [36.0, 36.0, 36.0, 36.0, 36.0], None, None, None, None, None, None, None, None, [25.0, 25.0, 25.0, 25.0], None, None, None, None, None, None, None, None, [49.0, 49.0, 49.0, 49.0], None, None, [28.0, 28.0, 28.0, 28.0, 13.0, 13.0, 13.0, 13.0, 13.0, 27.0, 27.0, 27.0, 27.0, 27.0, 27.0], None, None, [33.0, 33.0, 33.0, 33.0, 33.0, 33.0], None, None, [49.0, 49.0, 49.0], None, None, [33.0, 33.0, 33.0], None, None, None, None, None, None, None, None, None, None, None, None, [7.0, 7.0, 7.0, 7.0, 5.0, 5.0, 5.0, 5.0, 5.0, 9.0, 9.0, 9.0, 9.0, 9.0, 9.0], None, None, None, [17.0, 17.0, 17.0, 17.0, 23.0, 23.0, 23.0, 23.0, 23.0, 42.0, 42.0, 42.0, 42.0, 42.0, 42.0], None, None, [12.0, 12.0, 12.0, 12.0, 18.0, 18.0, 18.0, 18.0, 18.0, 34.0, 34.0, 34.0, 34.0, 34.0, 34.0], None, None, None, None, None, None, None, None, None, [32.0, 32.0, 32.0, 32.0], None, None, None, [], None, None, None, None, None, [18.0, 18.0, 18.0, 18.0, 18.0], [], None, None, None, None, [26.0, 26.0, 26.0, 26.0, 26.0, 50.0, 50.0, 50.0, 50.0, 50.0, 50.0], None, None, [16.0, 16.0, 16.0, 16.0, 16.0], None, [50.0, 50.0, 50.0], None, None, [20.0, 20.0, 20.0, 20.0, 41.0, 41.0, 41.0, 41.0, 41.0, 41.0], None, None, None, None, None, [37.0, 37.0, 37.0, 37.0, 32.0, 32.0, 32.0, 32.0, 32.0, 32.0], None, None, None, None, [], [36.0, 36.0, 36.0], None, None, None, [38.0, 38.0, 38.0, 38.0, 38.0], None, None, [30.0, 30.0, 30.0, 30.0, 30.0, 30.0], None, None, None, None, None, None, None, None, [], [24.0, 24.0, 24.0, 24.0, 46.0, 46.0, 46.0, 46.0, 46.0, 46.0], [34.0, 34.0, 34.0], None, None, [21.0, 21.0, 21.0, 21.0, 45.0, 45.0, 45.0, 45.0, 45.0, 45.0], None, None, None, None, None, None, None, None, None, None, None, None, None, None, None, None, None, None, None, None, None, None, [44.0, 44.0, 44.0, 44.0], None, [44.0, 44.0, 44.0, 44.0], None, None, None, [30.0, 30.0, 30.0, 30.0], None, None, None, [10.0, 10.0, 10.0, 10.0, 17.0, 17.0, 17.0, 17.0, 17.0, 29.0, 29.0, 29.0, 29.0, 29.0, 29.0], None, None, None, None, None, None, None, None, None, None, None, [16.0, 16.0, 16.0, 16.0, 9.0, 9.0, 9.0, 9.0, 9.0, 19.0, 19.0, 19.0, 19.0, 19.0, 19.0], None, None, None, [38.0, 38.0, 38.0, 38.0], None, None, None, None, None, None, None, None, None, None, None, None, None, None, None, None, None, None, None, None, None, None, None, None, [40.0, 40.0, 40.0, 40.0, 40.0], None, None, None, None, None, None, None, [], None, None, [6.0, 6.0, 6.0, 6.0, 11.0, 11.0, 11.0, 11.0, 11.0, 20.0, 20.0, 20.0, 20.0, 20.0, 20.0], [], None, None, None, None, None, None, None, [21.0, 21.0, 21.0, 21.0, 29.0, 29.0, 29.0, 29.0, 29.0, 3.0, 3.0, 3.0, 3.0, 3.0, 3.0], None, [48.0, 48.0, 48.0, 48.0], None, [23.0, 23.0, 23.0, 23.0, 35.0, 35.0, 35.0, 35.0, 35.0], None, [14.0, 14.0, 14.0, 4.0, 4.0, 4.0, 4.0, 4.0, 4.0, 4.0, 4.0, 4.0, 4.0, 4.0], None, None, None, None, None, None, None, [3.0, 3.0, 3.0, 3.0, 1.0, 1.0, 1.0, 1.0, 1.0, 2.0, 2.0, 2.0, 2.0, 2.0, 2.0], [], None, None, None, None, None, [36.0, 36.0, 36.0, 36.0], None, None, None, None, None, None, None, None, [41.0, 41.0, 41.0], None, None, None, None, [], None, None, None, None, [15.0, 15.0, 15.0, 15.0, 22.0, 22.0, 22.0, 22.0, 22.0, 17.0, 17.0, 17.0, 17.0, 17.0, 17.0], None, None, None, None, None, None, None, [35.0, 35.0, 35.0, 35.0, 43.0, 43.0, 43.0, 43.0, 43.0], [43.0, 43.0, 43.0, 43.0, 43.0], None, [31.0, 31.0, 31.0], None, None, None, None, None, [12.0, 12.0, 12.0, 12.0, 12.0], None, [8.0, 20.0, 8.0, 8.0, 20.0, 20.0, 8.0, 15.0, 12.0, 15.0, 12.0, 12.0, 15.0, 15.0, 12.0, 15.0, 12.0, 5.0, 6.0, 5.0, 6.0, 5.0, 6.0, 6.0, 5.0, 6.0, 5.0, 6.0, 5.0], None, None, None, None, None, [44.0, 44.0, 44.0, 44.0, 44.0], None, [], None, None, [13.0, 13.0, 13.0, 19.0, 19.0, 19.0, 19.0, 19.0, 37.0, 37.0, 37.0, 37.0, 37.0, 37.0], None, [], None, None, None, None, None, None, None, [47.0, 47.0, 47.0, 47.0, 47.0], None, None, None, None, None, [25.0, 25.0, 25.0, 40.0, 40.0, 40.0, 40.0, 40.0], None, [31.0, 31.0, 31.0, 31.0, 25.0, 25.0, 25.0, 25.0, 25.0, 25.0], None, [46.0, 46.0, 46.0, 46.0], None, None, None, None]\n",
            "[None, [21.0, 21.0, 21.0, 21.0, 21.0, 21.0, 21.0, 21.0, 21.0, 21.0, 21.0, 21.0], None, None, None, None, None, None, None, None, None, [18.0, 18.0, 18.0, 18.0, 18.0, 18.0, 18.0, 18.0, 18.0, 18.0, 18.0, 18.0], [29.0, 29.0, 29.0, 29.0, 29.0, 29.0, 29.0, 29.0, 29.0, 29.0, 29.0, 29.0], [13.0, 13.0, 13.0, 13.0, 13.0, 13.0, 13.0, 13.0, 13.0, 13.0, 13.0, 13.0], None, None, None, None, None, None, None, None, None, None, None, None, None, None, None, None, None, None, None, None, None, None, None, None, [2.0, 2.0, 2.0, 2.0, 2.0, 2.0, 2.0, 2.0, 2.0, 2.0, 2.0, 2.0], None, None, None, None, None, None, None, [35.0, 35.0, 35.0, 35.0, 35.0, 35.0, 35.0, 35.0, 35.0, 35.0, 35.0, 35.0], None, None, None, None, None, None, None, None, None, None, None, None, [11.0, 11.0, 11.0, 11.0, 11.0, 11.0, 11.0, 11.0, 11.0, 11.0, 11.0, 11.0], None, None, None, None, None, None, None, None, [8.0, 8.0, 8.0, 8.0, 8.0, 8.0, 8.0, 8.0, 8.0, 8.0, 8.0, 8.0], None, [17.0, 17.0, 17.0, 17.0, 17.0, 17.0, 17.0, 17.0, 17.0, 17.0, 17.0, 17.0], None, None, None, None, None, None, None, [33.0, 33.0, 33.0, 33.0, 33.0, 33.0, 33.0, 33.0, 33.0, 33.0, 33.0, 33.0], None, None, None, None, None, None, None, None, None, None, None, None, None, None, None, None, None, None, None, [30.0, 30.0, 30.0, 30.0, 30.0, 30.0, 30.0, 30.0, 30.0, 30.0, 30.0, 30.0], None, None, None, None, None, None, None, None, None, None, None, None, None, None, [26.0, 26.0, 26.0, 26.0, 26.0, 26.0, 26.0, 26.0, 26.0, 26.0, 26.0, 26.0], None, None, None, None, None, None, None, None, None, None, None, None, None, None, None, [49.0, 49.0, 49.0, 49.0, 49.0, 49.0, 49.0, 49.0, 49.0, 49.0, 49.0, 49.0], None, None, None, None, None, None, None, None, None, None, [1.0, 1.0, 1.0, 1.0, 1.0, 1.0, 1.0, 1.0, 1.0, 1.0, 1.0, 1.0], None, None, None, [46.0, 46.0, 46.0, 46.0, 46.0, 46.0, 46.0, 46.0, 46.0, 46.0, 46.0, 46.0], [38.0, 38.0, 38.0, 38.0, 38.0, 38.0, 38.0, 38.0, 38.0, 38.0, 38.0, 38.0], None, None, None, None, None, None, None, [44.0, 44.0, 44.0, 44.0, 44.0, 44.0, 44.0, 44.0, 44.0, 44.0, 44.0, 44.0], None, None, None, None, None, None, None, None, None, None, None, None, None, None, None, None, None, [31.0, 31.0, 31.0, 31.0, 31.0, 31.0, 31.0, 31.0, 31.0, 31.0, 31.0, 31.0], None, None, None, None, None, None, None, None, None, None, None, None, None, None, None, None, None, None, None, None, None, [27.0, 27.0, 27.0, 27.0, 27.0, 27.0, 27.0, 27.0, 27.0, 27.0, 27.0, 27.0], [50.0, 50.0, 50.0, 50.0, 50.0, 50.0, 50.0, 50.0, 50.0, 50.0, 50.0, 50.0], None, None, None, None, None, None, None, None, [3.0, 3.0, 3.0, 3.0, 3.0, 3.0, 3.0, 3.0, 3.0, 3.0, 3.0, 3.0], None, None, None, None, None, None, None, None, [20.0, 20.0, 20.0, 20.0, 20.0, 20.0, 20.0, 20.0, 20.0, 20.0, 20.0, 20.0], None, None, None, None, None, None, None, None, None, None, None, None, None, None, None, None, None, None, None, None, None, None, [39.0, 39.0, 39.0, 39.0, 39.0, 39.0, 39.0, 39.0, 39.0, 39.0, 39.0, 39.0], None, None, None, None, None, None, None, None, None, None, None, None, None, None, None, [16.0, 16.0, 16.0, 16.0, 16.0, 16.0, 16.0, 16.0, 16.0, 16.0, 16.0, 16.0], None, None, None, None, None, None, None, None, None, None, None, None, [28.0, 28.0, 28.0, 28.0, 28.0, 28.0, 28.0, 28.0, 28.0, 28.0, 28.0, 28.0], None, None, None, None, None, None, None, None, [47.0, 47.0, 47.0, 47.0, 47.0, 47.0, 47.0, 47.0, 47.0, 47.0, 47.0, 47.0], None, None, None, [15.0, 15.0, 15.0, 15.0, 15.0, 15.0, 15.0, 15.0, 15.0, 15.0, 15.0, 15.0], None, None, None, [22.0, 22.0, 22.0, 22.0, 22.0, 22.0, 22.0, 22.0, 22.0, 22.0, 22.0, 22.0], None, None, None, None, None, None, None, None, None, None, None, None, None, [43.0, 43.0, 43.0, 43.0, 43.0, 43.0, 43.0, 43.0, 43.0, 43.0, 43.0, 43.0], None, None, None, [48.0, 48.0, 48.0, 48.0, 48.0, 48.0, 48.0, 48.0, 48.0, 48.0, 48.0, 48.0], None, None, None, None, None, None, None, None, None, None, None, None, None, None, None, None, None, None, None, None, [23.0, 23.0, 23.0, 23.0, 23.0, 23.0, 23.0, 23.0, 23.0, 23.0, 23.0, 23.0], None, None, None, None, None, None, None, None, None, None, None, None, None, None, None, None, None, None, None, None, None, None, None, None, None, None, None, None, None, None, None, None, None, [36.0, 36.0, 36.0, 36.0, 36.0, 36.0, 36.0, 36.0, 36.0, 36.0, 36.0, 36.0], None, None, None, None, None, None, None, None, None, None, None, None, None, None, None, [42.0, 42.0, 42.0, 42.0, 42.0, 42.0, 42.0, 42.0, 42.0, 42.0, 42.0, 42.0], None, None, None, None, None, None, None, None, None, [45.0, 45.0, 45.0, 45.0, 45.0, 45.0, 45.0, 45.0, 45.0, 45.0, 45.0, 45.0], None, None, None, None, None, None, None, None, None, None, None, [6.0, 6.0, 6.0, 6.0, 6.0, 6.0, 6.0, 6.0, 6.0, 6.0, 6.0, 6.0], None, None, None, None, None, None, None, None, None, None, None, None, None, None, None, None, None, None, None, [12.0, 12.0, 12.0, 12.0, 12.0, 12.0, 12.0, 12.0, 12.0, 12.0, 12.0, 12.0], None, None, None, None, [37.0, 37.0, 37.0, 37.0, 37.0, 37.0, 37.0, 37.0, 37.0, 37.0, 37.0, 37.0], None, None, None, None, None, None, None, None, None, None, None, None, None, None, [24.0, 24.0, 24.0, 24.0, 24.0, 24.0, 24.0, 24.0, 24.0, 24.0, 24.0, 24.0], None, [32.0, 32.0, 32.0, 32.0, 32.0, 32.0, 32.0, 32.0, 32.0, 32.0, 32.0, 32.0], None, None, None, None, None, None, [10.0, 10.0, 10.0, 10.0, 10.0, 10.0, 10.0, 10.0, 10.0, 10.0, 10.0, 10.0], None, None, None, None, None, None, None, None, None, None, None, None, None, [5.0, 5.0, 5.0, 5.0, 5.0, 5.0, 5.0, 5.0, 5.0, 5.0, 5.0, 5.0], None, None, None, None, None, None, [41.0, 41.0, 41.0, 41.0, 41.0, 41.0, 41.0, 41.0, 41.0, 41.0, 41.0, 41.0], None, None, None, None, None, None, None, None, None, None, None, None, None, None, None, None, None, None, [7.0, 7.0, 7.0, 7.0, 7.0, 7.0, 7.0, 7.0, 7.0, 7.0, 7.0, 7.0], None, None, None, None, None, None, None, [19.0, 19.0, 19.0, 19.0, 19.0, 19.0, 19.0, 19.0, 19.0, 19.0, 19.0, 19.0], None, [14.0, 14.0, 14.0, 14.0, 14.0, 14.0, 14.0, 14.0, 14.0, 14.0, 14.0, 14.0], None, None, None, None, None, None, [25.0, 25.0, 25.0, 25.0, 25.0, 25.0, 25.0, 25.0, 25.0, 25.0, 25.0, 25.0], None, [4.0, 4.0, 9.0, 4.0, 9.0, 9.0, 4.0, 4.0, 9.0, 4.0, 9.0, 9.0, 4.0, 9.0, 4.0, 9.0, 4.0, 4.0, 9.0, 4.0, 9.0, 4.0, 9.0, 9.0, 4.0], None, None, None, None, [40.0, 40.0, 40.0, 40.0, 40.0, 40.0, 40.0, 40.0, 40.0, 40.0, 40.0, 40.0], None, None, None, None, None, None, None, None, None, None, None, None, None, None, None, None, None, None, None, None, None, None, None, None, None, None, None, None, [34.0, 34.0, 34.0, 34.0, 34.0, 34.0, 34.0, 34.0, 34.0, 34.0, 34.0, 34.0], None]\n",
            "[None, None, None, None, None, None, None, None, None, None, None, None, None, None, None, None, None, None, None, None, None, None, None, None, None, None, None, None, None, None, None, None, None, None, None, None, None, None, [4.0, 4.0, 4.0, 4.0], None, None, None, None, None, None, None, None, None, None, None, None, None, None, None, None, None, [48.0, 48.0, 48.0, 48.0], None, None, [41.0, 41.0, 41.0, 41.0], None, None, None, None, None, [18.0, 18.0, 18.0, 18.0], [47.0, 47.0, 47.0, 47.0], None, [7.0, 7.0, 7.0, 7.0], None, None, None, None, None, None, None, None, None, [11.0, 11.0, 11.0, 11.0], None, None, None, None, None, None, None, None, None, None, None, None, None, None, [15.0, 15.0, 15.0, 15.0], None, None, None, None, None, None, None, None, None, None, None, None, None, None, None, None, None, None, None, None, None, None, None, None, None, None, None, None, None, [21.0, 21.0, 21.0, 21.0], None, None, None, None, None, None, None, None, None, None, None, None, None, None, None, None, [5.0, 5.0, 5.0, 5.0], [33.0, 33.0, 33.0, 33.0], None, None, None, None, [30.0, 30.0, 30.0, 30.0], None, None, None, None, None, None, None, None, None, None, None, None, None, None, None, None, [14.0, 14.0, 14.0, 14.0], None, None, None, None, [38.0, 38.0, 38.0, 38.0], None, None, [13.0, 13.0, 13.0, 13.0], None, None, None, None, None, None, None, None, None, None, None, None, None, None, None, None, None, None, None, None, None, None, None, [32.0, 32.0, 32.0, 32.0], [49.0, 49.0, 49.0, 49.0], [36.0, 36.0, 36.0, 36.0], None, None, None, None, None, [16.0, 16.0, 16.0, 16.0], None, None, None, [46.0, 46.0, 46.0, 46.0], None, None, None, None, None, None, None, None, None, None, None, None, None, None, None, None, None, None, None, None, None, None, None, None, None, None, None, None, None, None, None, None, None, None, None, None, None, None, None, None, None, None, None, None, None, None, None, None, None, None, None, None, None, None, None, None, None, None, None, None, None, None, None, None, None, [19.0, 19.0, 19.0, 19.0], None, None, None, [25.0, 25.0, 25.0, 25.0], None, None, [43.0, 43.0, 43.0, 43.0], [42.0, 42.0, 42.0, 42.0], None, None, None, None, None, None, None, None, None, None, None, None, None, None, None, [44.0, 44.0, 44.0, 44.0], None, None, None, None, [35.0, 35.0, 35.0, 35.0], None, None, [20.0, 20.0, 20.0, 20.0], [10.0, 10.0, 10.0, 10.0], None, None, None, None, None, None, None, None, None, None, None, None, None, None, None, None, [27.0, 27.0, 27.0, 27.0], None, None, None, None, None, None, [34.0, 34.0, 34.0, 34.0], None, None, None, None, None, None, None, None, None, None, None, None, None, None, None, None, None, None, None, None, None, None, None, None, None, None, None, None, None, None, None, None, None, [37.0, 37.0, 37.0, 37.0], None, None, None, None, None, None, None, None, None, None, None, None, None, None, None, [23.0, 23.0, 23.0, 23.0], None, None, None, None, None, None, None, None, None, None, None, [29.0, 29.0, 29.0, 29.0], None, None, None, None, None, None, None, None, None, None, None, None, None, None, [45.0, 45.0, 45.0, 45.0], None, None, None, None, None, None, None, None, None, None, None, None, None, [31.0, 31.0, 31.0, 31.0], None, None, None, None, None, None, None, None, None, None, [12.0, 12.0, 12.0, 12.0], None, None, None, None, None, None, None, None, [2.0, 2.0, 2.0, 2.0], None, None, None, [17.0, 17.0, 17.0, 17.0], None, [9.0, 9.0, 9.0, 9.0], None, None, None, None, None, None, None, [3.0, 3.0, 3.0, 3.0], None, [39.0, 39.0, 39.0, 39.0], None, None, None, None, None, None, None, None, None, None, None, [50.0, 50.0, 50.0, 50.0], None, None, None, None, None, None, [22.0, 22.0, 22.0, 22.0], None, None, None, None, [8.0, 8.0, 8.0, 8.0], None, None, None, None, None, None, None, [24.0, 24.0, 24.0, 24.0], None, None, None, None, None, None, None, None, None, None, [6.0, 1.0, 6.0, 6.0, 1.0, 6.0, 1.0, 1.0, 6.0], None, None, None, None, [26.0, 26.0, 26.0, 26.0], None, None, None, None, None, [40.0, 40.0, 40.0, 40.0], None, None, None, None, None, None, None, None, None, None, None, None, None, None, None, None, None, None, None, None, None, [28.0, 28.0, 28.0, 28.0], None, None]\n",
            "[None, None, None, None, [], None, None, None, None, None, None, None, [34.0, 34.0, 22.0], None, None, None, None, None, None, None, None, None, None, None, None, None, [], None, None, None, None, None, None, None, None, None, None, None, [4.0, 4.0, 15.0], None, None, None, [16.0, 16.0], None, None, None, [], None, None, None, None, None, None, None, None, None, None, None, None, None, [30.0, 30.0, 45.0], None, None, None, None, [18.0, 18.0, 3.0], None, None, [2.0, 2.0, 1.0], None, None, None, None, None, [45.0, 45.0], None, None, None, [6.0, 6.0, 8.0], None, None, None, None, None, None, None, None, [], None, None, None, None, [31.0, 31.0], [19.0, 19.0, 11.0], None, None, None, None, [], None, None, None, None, None, None, None, None, None, None, None, None, None, None, None, None, None, None, None, None, None, None, None, None, [29.0, 29.0, 19.0], None, None, [], None, None, [], None, None, None, None, None, None, None, None, None, None, [3.0, 3.0, 4.0], None, [49.0, 49.0], None, None, None, None, [], None, None, None, None, None, None, None, None, None, None, None, None, None, None, None, [23.0, 23.0, 17.0], None, None, [], None, None, None, None, None, None, None, None, None, None, [48.0, 48.0], [22.0, 22.0], None, None, None, None, None, None, None, None, None, None, None, None, None, None, [], None, [33.0, 33.0], None, None, [], None, [27.0, 27.0], None, None, [26.0, 26.0], None, [25.0, 25.0], None, None, None, None, None, None, None, None, None, None, None, None, None, None, None, [35.0, 35.0], None, None, None, None, None, None, None, None, None, [], None, None, None, None, None, None, None, None, [17.0, 17.0], None, None, None, None, None, [42.0, 42.0], None, None, None, None, None, None, None, [], None, None, None, None, None, [], [47.0, 47.0], None, None, None, None, None, None, None, None, None, None, None, None, [], None, None, None, None, [37.0, 37.0], [44.0, 44.0, 30.0], [14.0, 14.0], None, None, None, [50.0, 50.0], None, None, None, None, None, None, None, None, [], None, None, None, None, None, None, None, None, None, None, None, [8.0, 8.0, 20.0], None, None, [], None, None, None, None, None, None, None, None, None, None, None, None, None, None, [24.0, 24.0], None, None, None, [38.0, 38.0], None, None, None, None, [], None, None, None, [39.0, 39.0], None, None, None, None, None, None, None, None, None, None, None, None, None, None, None, None, None, None, None, [21.0, 21.0], None, None, None, None, None, None, None, None, None, None, None, None, [], None, None, None, None, None, None, None, None, None, [20.0, 20.0, 49.0], None, None, None, None, None, [40.0, 40.0], None, None, None, None, None, [11.0, 11.0, 14.0], None, None, None, None, None, None, None, None, None, None, None, None, None, None, None, None, None, None, None, None, None, None, None, None, None, None, None, [], None, None, None, None, None, None, None, None, None, None, None, [12.0, 12.0, 26.0], None, None, None, None, [46.0, 46.0], None, None, None, [5.0, 5.0, 5.0], None, None, None, [], None, [36.0, 36.0], None, [43.0, 43.0], None, None, None, None, [], [1.0, 1.0, 2.0], None, None, None, None, None, None, None, None, None, None, None, None, None, None, None, None, None, None, None, None, [], [], None, None, None, [9.0, 9.0, 7.0], None, None, [32.0, 32.0], None, None, None, None, [13.0, 13.0, 28.0], None, None, None, [], None, [28.0, 28.0], None, [], None, None, [7.0, 15.0, 7.0, 7.0, 15.0, 34.0, 10.0], [], None, None, None, None, None, None, None, None, None, [10.0, 10.0, 6.0], None, None, [], None, None, None, None, None, None, None, None, None, None, None, None, None, None, None, None, None, None, None, None, [41.0, 41.0]]\n",
            "[None, None, None, None, None, None, None, None, None, None, None, None, [48.0, 20.0, 20.0, 20.0, 20.0, 32.0, 32.0], [], None, None, None, [28.0, 28.0], None, [40.0, 40.0, 40.0], None, [49.0, 49.0, 49.0], None, None, None, None, [27.0, 27.0], None, [], None, [40.0, 40.0, 22.0, 22.0], [33.0, 33.0, 33.0, 49.0, 49.0], None, None, None, None, None, None, [34.0, 43.0, 43.0, 43.0], None, None, None, None, None, None, None, [20.0, 20.0, 20.0, 34.0, 34.0, 34.0, 34.0, 46.0, 46.0], None, None, None, None, None, None, None, None, None, [], None, None, [36.0, 36.0], None, None, [45.0, 45.0, 45.0, 12.0, 12.0], None, None, [6.0, 4.0, 4.0, 4.0, 3.0, 3.0, 3.0, 3.0, 5.0, 5.0], None, None, [1.0, 1.0, 1.0, 1.0, 2.0, 2.0, 2.0, 2.0, 1.0, 1.0], None, None, None, None, None, [13.0, 13.0, 13.0, 25.0, 25.0, 25.0, 25.0, 40.0, 40.0], None, None, None, [15.0, 22.0, 22.0, 22.0, 31.0, 31.0, 31.0, 31.0, 36.0, 36.0], None, None, None, None, None, None, None, None, None, None, None, None, None, None, [16.0, 16.0, 16.0, 8.0, 8.0, 8.0, 8.0, 11.0, 11.0], None, None, None, None, [39.0], None, None, None, None, None, [50.0, 50.0, 50.0], None, None, [37.0, 37.0], [45.0], None, None, None, None, None, None, None, None, [46.0, 46.0, 46.0], None, None, None, None, None, [38.0, 24.0, 24.0, 24.0, 36.0, 36.0, 36.0, 36.0, 48.0, 48.0], [11.0, 12.0, 12.0, 12.0, 21.0, 21.0, 21.0, 21.0, 34.0, 34.0], None, None, None, None, [33.0], None, None, None, [50.0], None, None, [39.0, 39.0, 17.0, 17.0, 17.0, 17.0, 30.0, 30.0], None, [], None, [7.0, 9.0, 9.0, 9.0, 6.0, 6.0, 6.0, 6.0, 6.0, 6.0], None, None, None, None, None, None, [19.0, 29.0, 29.0, 29.0, 44.0, 44.0, 44.0, 44.0, 14.0, 14.0], [37.0, 37.0, 37.0], None, None, None, None, None, [50.0, 50.0, 50.0], None, None, None, None, None, None, None, None, [39.0], None, None, None, [17.0, 17.0, 17.0, 29.0, 29.0, 29.0, 29.0, 42.0, 42.0], None, None, None, [], None, None, None, None, None, None, None, None, None, None, [21.0, 21.0, 39.0, 39.0, 39.0, 39.0], None, None, None, None, None, [27.0, 27.0, 27.0, 27.0, 41.0, 41.0], None, None, None, None, [], None, None, None, [], None, None, None, None, None, [13.0, 5.0, 5.0, 5.0, 5.0, 5.0, 5.0, 5.0, 4.0, 4.0], None, None, None, None, None, None, None, None, [31.0, 31.0, 48.0, 48.0, 48.0, 48.0], None, None, [35.0, 35.0, 35.0], None, None, None, None, None, None, [44.0], None, None, None, None, None, None, None, None, None, None, None, None, None, [], [32.0, 32.0], None, None, [41.0, 41.0, 41.0], None, None, None, None, None, None, None, None, None, None, [35.0, 35.0, 35.0], None, [44.0, 44.0, 44.0, 20.0, 20.0], None, None, None, None, None, None, None, None, [41.0, 18.0, 18.0], None, None, None, None, None, None, None, None, None, None, [45.0, 45.0, 45.0, 15.0, 15.0, 15.0, 15.0, 23.0, 23.0], [44.0], None, [26.0, 26.0, 26.0, 13.0, 13.0, 13.0, 13.0, 19.0, 19.0], None, None, None, [22.0, 34.0, 34.0, 34.0, 14.0, 14.0, 14.0, 14.0, 17.0, 17.0], [32.0, 7.0, 7.0, 7.0, 7.0, 8.0, 8.0], [], None, None, None, None, None, None, None, None, None, None, [29.0], None, None, [25.0, 25.0, 10.0, 10.0, 10.0, 10.0, 16.0, 16.0], [], None, None, None, [47.0, 47.0], None, None, None, None, [15.0, 15.0, 15.0, 26.0, 26.0, 26.0, 26.0, 7.0, 7.0], None, None, [26.0, 42.0, 42.0, 42.0], None, None, None, None, None, None, [], [33.0, 33.0, 33.0], None, None, None, None, None, None, None, [38.0, 38.0, 38.0], None, None, None, None, None, None, None, None, None, None, [], None, [], None, [43.0, 43.0, 43.0], None, None, None, None, None, None, None, [], None, None, None, None, None, None, [26.0], None, None, None, None, None, None, None, [49.0, 49.0, 49.0], None, None, None, None, None, None, None, None, None, None, None, None, None, None, [18.0, 18.0, 32.0, 32.0, 32.0, 32.0, 47.0, 47.0], None, [8.0, 8.0, 8.0, 16.0, 16.0, 16.0, 16.0, 24.0, 24.0], None, [22.0, 22.0, 22.0, 22.0, 37.0, 37.0], None, None, None, None, None, None, None, None, None, [5.0, 7.0, 7.0, 7.0, 12.0, 12.0, 12.0, 12.0, 15.0, 15.0], None, None, None, None, None, None, None, None, None, None, None, [38.0, 38.0], [], None, None, None, None, None, None, None, None, None, None, None, None, None, None, None, None, None, None, None, None, [], None, None, None, None, [41.0, 41.0, 41.0], [12.0, 19.0, 19.0, 19.0, 28.0, 28.0, 28.0, 28.0, 35.0, 35.0], None, None, None, None, None, None, None, None, [3.0, 3.0, 3.0, 3.0, 1.0, 1.0, 1.0, 1.0, 3.0, 3.0], None, None, None, [10.0, 14.0, 14.0, 14.0, 23.0, 23.0, 23.0, 23.0, 33.0, 33.0], None, None, None, None, None, None, None, None, [], [2.0, 2.0, 2.0, 2.0, 4.0, 4.0, 4.0, 4.0, 2.0, 2.0], None, None, None, [28.0, 28.0, 47.0, 47.0, 47.0, 47.0], None, None, None, [], [], None, None, None, None, None, None, None, None, None, None, None, None, [17.0, 30.0, 30.0, 30.0, 46.0, 46.0, 46.0, 46.0], None, None, None, [16.0, 23.0, 23.0, 23.0, 9.0, 9.0, 9.0, 9.0, 10.0, 10.0], None, None, [48.0, 48.0], None, None, None, None, [46.0], None, [], [24.0, 24.0, 24.0, 24.0, 38.0, 38.0], None, None, [30.0, 30.0, 30.0, 9.0, 9.0], None, None, None, None, [9.0, 10.0, 10.0, 10.0, 18.0, 18.0, 18.0, 18.0, 25.0, 25.0], None, None, None, None, None, None, None, None, None, None, [4.0, 6.0, 6.0, 6.0, 11.0, 11.0, 11.0, 11.0, 13.0, 13.0], [14.0, 27.0, 27.0, 27.0, 42.0, 42.0, 42.0, 42.0], [21.0], None, [43.0], None, None, [8.0, 11.0, 11.0, 11.0, 19.0, 19.0, 19.0, 19.0, 31.0, 31.0], None, None, None, None, None, None, None, None, None, None, None, None, None, None, [], [], None]\n",
            "[None, None, None, [44.0], None, None, None, None, None, None, [25.0], None, [21.0, 21.0, 21.0, 41.0, 41.0, 41.0, 41.0, 23.0, 23.0, 27.0, 27.0], [15.0, 19.0, 19.0], [29.0, 29.0, 29.0], None, None, None, [42.0, 42.0, 42.0], [33.0], None, None, None, None, None, None, None, None, None, None, None, None, [13.0, 13.0, 13.0, 32.0, 32.0, 32.0, 32.0], None, [21.0, 21.0, 21.0], None, None, None, None, None, None, None, None, None, None, None, [24.0, 24.0, 24.0, 12.0, 12.0, 12.0, 12.0, 21.0, 21.0, 26.0, 26.0], None, None, None, None, [25.0, 25.0, 25.0], [49.0, 49.0, 49.0], None, [14.0, 14.0, 14.0, 36.0, 36.0, 36.0, 36.0], None, None, None, [19.0, 30.0, 30.0], None, None, [35.0, 35.0, 35.0], [32.0], None, None, [3.0, 3.0, 3.0, 4.0, 4.0, 4.0, 4.0, 4.0, 4.0, 5.0, 5.0], None, [27.0, 40.0, 40.0], [1.0, 1.0, 1.0, 2.0, 2.0, 2.0, 2.0, 1.0, 1.0, 2.0, 2.0], None, None, None, [20.0], None, [26.0, 26.0, 26.0], None, None, None, [18.0, 18.0, 18.0, 39.0, 39.0, 39.0, 39.0, 15.0, 15.0], None, None, None, None, None, [41.0], None, None, None, None, None, None, [17.0, 17.0, 17.0], None, [29.0, 29.0, 29.0], None, None, [32.0, 32.0, 32.0], None, [27.0, 27.0, 27.0], None, None, [45.0, 45.0, 45.0], None, None, None, None, [43.0], None, [37.0], None, [44.0], None, [45.0, 45.0, 45.0], None, None, None, None, None, None, None, None, None, None, [16.0, 16.0, 16.0], None, None, None, None, None, None, None, None, None, None, None, None, [20.0, 20.0, 20.0, 40.0, 40.0, 40.0, 40.0], None, None, [39.0, 39.0, 39.0], [6.0, 6.0, 6.0, 3.0, 3.0, 3.0, 3.0, 14.0, 14.0, 7.0, 7.0], None, None, None, [29.0], None, None, [42.0, 42.0, 42.0, 12.0, 12.0, 17.0, 17.0], [25.0, 25.0, 25.0], None, None, [50.0, 50.0, 50.0], None, None, None, None, [28.0, 42.0, 42.0], None, None, [36.0, 36.0, 36.0], None, None, [46.0, 46.0, 46.0], [40.0, 40.0, 40.0, 30.0, 30.0, 39.0, 39.0], None, None, None, None, None, [28.0, 28.0, 28.0], None, None, None, None, None, [43.0, 43.0, 43.0], None, None, None, None, [22.0, 22.0, 22.0], None, None, None, None, None, None, None, None, None, None, None, None, [16.0, 16.0, 16.0, 10.0, 10.0, 10.0, 10.0, 35.0, 35.0, 47.0, 47.0], None, [47.0], None, None, None, None, None, None, None, [5.0, 5.0, 5.0, 6.0, 6.0, 6.0, 6.0, 13.0, 13.0, 4.0, 4.0], None, None, None, None, None, None, None, [36.0, 48.0, 48.0], [47.0, 47.0, 47.0], None, None, None, None, None, [43.0, 43.0, 43.0, 34.0, 34.0, 46.0, 46.0], None, None, None, None, [31.0], None, None, None, None, [39.0], None, None, None, [23.0], None, None, [47.0, 47.0, 47.0], None, None, None, None, None, [20.0, 20.0, 20.0, 20.0, 20.0, 29.0, 29.0], None, None, None, None, None, [49.0, 49.0, 49.0], None, None, None, None, None, None, None, None, None, None, None, None, None, None, None, None, None, None, None, None, None, None, None, None, None, [9.0, 36.0, 36.0], None, [32.0, 13.0, 13.0], None, None, None, None, [17.0, 17.0, 17.0, 35.0, 35.0, 35.0, 35.0], [33.0, 33.0, 33.0], None, None, None, None, [12.0, 12.0, 12.0, 30.0, 30.0, 30.0, 30.0, 7.0, 7.0, 9.0, 9.0], None, None, None, None, None, [22.0, 34.0, 34.0], None, None, None, [22.0, 22.0, 22.0, 48.0, 48.0, 48.0, 48.0], None, None, None, None, None, None, None, None, None, [9.0, 9.0, 9.0, 11.0, 11.0, 11.0, 11.0, 10.0, 10.0, 12.0, 12.0], None, [49.0], None, None, None, None, None, None, None, None, None, None, None, None, None, None, None, None, None, None, None, None, None, None, None, [31.0, 31.0, 31.0], [34.0, 34.0, 34.0, 33.0, 33.0, 43.0, 43.0], None, [37.0, 37.0, 37.0], None, None, None, None, None, None, None, None, None, None, None, None, None, None, None, None, None, None, None, None, None, None, [38.0, 38.0, 38.0], None, [38.0, 38.0, 38.0], None, [31.0, 45.0, 45.0], [26.0, 26.0, 26.0], None, None, None, None, None, None, None, None, [41.0], None, None, None, None, None, [15.0, 15.0, 15.0], None, [15.0, 15.0, 15.0, 33.0, 33.0, 33.0, 33.0, 5.0, 5.0, 8.0, 8.0], [24.0, 38.0, 38.0], None, None, None, [6.0], None, None, None, None, None, None, [11.0, 11.0, 11.0, 7.0, 7.0, 7.0, 7.0, 6.0, 6.0, 21.0, 21.0], None, [35.0], None, None, None, None, None, None, None, None, None, None, None, None, None, [44.0, 44.0, 44.0], None, None, [46.0], None, [28.0, 28.0, 28.0], None, [30.0, 30.0, 30.0], [50.0, 50.0, 50.0], None, None, None, None, [27.0, 27.0, 27.0, 26.0, 26.0, 37.0, 37.0], None, None, [18.0], None, None, None, None, None, None, None, [48.0, 48.0, 48.0, 18.0, 18.0, 22.0, 22.0], None, None, [49.0], [23.0, 23.0, 23.0], None, None, [37.0, 37.0, 37.0], None, [2.0, 2.0, 2.0, 1.0, 1.0, 1.0, 1.0, 2.0, 2.0, 1.0, 1.0], None, None, None, None, [14.0], None, None, None, None, [41.0, 41.0, 41.0], None, None, None, [4.0, 4.0, 4.0, 5.0, 5.0, 5.0, 5.0, 3.0, 3.0, 3.0, 3.0], None, None, [44.0, 44.0, 44.0], None, None, None, None, None, None, None, None, None, None, None, None, None, None, None, None, None, None, [18.0, 18.0, 18.0, 17.0, 17.0, 24.0, 24.0], None, None, None, [10.0, 10.0, 10.0, 19.0, 19.0, 19.0, 19.0, 45.0, 45.0, 50.0, 50.0], None, None, None, None, [48.0], None, None, [8.0, 8.0, 8.0, 9.0, 9.0, 9.0, 9.0, 8.0, 8.0, 11.0, 11.0], None, None, [34.0, 34.0, 34.0, 13.0, 13.0, 13.0, 13.0, 40.0, 40.0], None, None, [46.0, 46.0, 46.0, 14.0, 14.0, 14.0, 14.0, 42.0, 42.0], None, [28.0], [16.0, 25.0, 25.0], None, [19.0, 19.0, 19.0, 31.0, 31.0, 31.0, 31.0, 16.0, 16.0], None, None, None, None, None, None, [24.0, 24.0, 24.0], [38.0], None, None, [7.0, 7.0, 7.0, 8.0, 8.0, 8.0, 8.0, 11.0, 11.0, 10.0, 10.0], None, [23.0, 23.0, 23.0], None, None, None, None, None, None, None, None, None, None, None, None, None, None, [50.0], None, None, None, None, None, None, None]\n",
            "[None, None, None, None, None, None, None, None, [24.0, 24.0, 24.0, 24.0, 24.0, 24.0], None, None, None, [22.0, 22.0, 22.0, 22.0, 5.0, 5.0, 5.0, 5.0, 5.0, 5.0], [8.0, 8.0, 8.0, 8.0, 26.0, 26.0, 26.0, 26.0, 26.0, 26.0], None, None, None, None, [], None, None, None, None, None, None, None, None, None, None, None, None, [14.0, 14.0, 14.0, 42.0, 42.0, 42.0, 42.0, 42.0, 42.0], None, [], None, None, None, None, [21.0, 21.0, 21.0], [38.0, 38.0, 38.0], None, None, None, None, None, [25.0, 25.0, 25.0], [47.0, 47.0, 47.0, 47.0], None, None, None, None, None, None, None, None, None, None, [50.0, 50.0, 50.0, 21.0, 21.0, 21.0, 21.0, 21.0, 21.0], None, None, None, None, [34.0, 34.0, 34.0, 34.0, 34.0], [40.0, 40.0, 40.0], None, [2.0, 2.0, 2.0, 2.0, 2.0, 2.0, 2.0, 2.0, 2.0, 2.0], None, None, [4.0, 4.0, 4.0, 4.0, 6.0, 6.0, 6.0, 6.0, 6.0, 6.0], None, None, None, [1.0, 1.0, 1.0, 1.0, 1.0, 1.0, 1.0, 1.0, 1.0, 1.0], None, None, None, None, None, [29.0, 29.0, 29.0, 29.0, 15.0, 15.0, 15.0, 15.0, 15.0, 15.0], None, [36.0, 36.0, 36.0, 36.0, 36.0], None, None, None, None, None, [49.0, 49.0, 49.0], None, None, None, None, None, None, None, None, None, None, None, None, None, None, None, None, [32.0, 32.0, 32.0], None, [37.0, 37.0, 37.0], None, None, [], None, None, [47.0, 47.0, 47.0, 47.0, 47.0], None, None, [50.0, 50.0, 50.0, 50.0, 50.0], [48.0, 48.0, 48.0, 48.0, 48.0], [37.0, 37.0, 37.0, 37.0, 37.0], None, None, [6.0, 6.0, 6.0, 7.0, 7.0, 7.0, 7.0, 7.0, 7.0], None, None, None, None, None, None, None, None, None, [34.0, 34.0, 34.0], None, None, None, None, None, None, None, None, None, None, [13.0, 13.0, 13.0, 13.0, 8.0, 8.0, 8.0, 8.0, 8.0, 8.0], None, None, None, None, None, None, None, [11.0, 11.0, 11.0, 11.0, 11.0], None, None, None, None, None, None, None, None, None, [], None, None, [38.0, 38.0, 38.0, 38.0, 38.0], None, [28.0, 28.0, 28.0, 28.0, 46.0, 46.0, 46.0, 46.0, 46.0, 46.0], None, [], None, [43.0, 43.0, 43.0, 43.0, 43.0], None, None, [], None, None, None, None, None, [45.0, 45.0, 45.0, 45.0, 45.0], None, None, None, None, [10.0, 10.0, 10.0, 35.0, 35.0, 35.0, 35.0, 35.0, 35.0], None, None, None, None, None, None, None, [17.0, 17.0, 17.0, 17.0, 17.0, 17.0, 17.0, 17.0, 17.0], None, [31.0, 31.0, 31.0, 31.0], None, None, None, [41.0, 41.0, 41.0], None, None, None, None, None, None, None, [7.0, 7.0, 7.0, 7.0, 20.0, 20.0, 20.0, 20.0, 20.0, 20.0], None, None, None, None, [], None, None, None, [26.0, 26.0, 26.0], None, None, None, [33.0, 33.0, 33.0, 33.0, 33.0], None, [33.0, 33.0, 33.0, 33.0], None, None, None, None, None, None, None, None, None, None, None, None, None, None, None, None, None, None, None, [25.0, 25.0, 25.0, 25.0, 25.0], None, None, None, None, None, None, None, None, None, None, None, [], None, None, None, None, [], None, None, None, None, None, None, [36.0, 36.0, 36.0, 36.0], None, None, None, None, None, None, None, None, None, None, [12.0, 12.0, 12.0, 12.0, 10.0, 10.0, 10.0, 10.0, 10.0, 10.0], None, None, None, None, None, None, None, None, None, None, None, None, [], None, [], None, None, None, None, None, None, None, None, None, None, None, None, None, None, None, [42.0, 42.0, 42.0, 42.0], None, [9.0, 9.0, 9.0, 9.0, 22.0, 22.0, 22.0, 22.0, 22.0, 22.0], None, None, [19.0, 19.0, 19.0], None, None, None, None, None, None, None, None, None, [], None, None, None, None, None, None, None, None, None, None, [39.0, 39.0, 39.0, 27.0, 27.0, 27.0, 27.0, 27.0, 27.0], None, None, [16.0, 16.0, 16.0, 14.0, 14.0, 14.0, 14.0, 14.0, 14.0], None, None, None, None, None, None, None, None, None, None, None, [], None, None, [], None, None, None, [44.0, 44.0, 44.0, 44.0, 44.0], [35.0, 35.0, 35.0, 35.0], None, None, None, None, None, None, None, None, None, None, None, None, None, None, None, None, None, [27.0, 27.0, 27.0], None, None, None, None, None, None, None, None, [11.0, 11.0, 11.0, 11.0, 9.0, 9.0, 9.0, 9.0, 9.0, 9.0], [], None, None, None, None, None, None, None, None, None, None, [], [43.0, 43.0, 43.0, 43.0], [41.0, 41.0, 41.0, 41.0, 41.0], None, None, None, None, None, None, None, None, None, None, None, None, None, None, None, None, None, None, None, None, None, None, None, None, None, None, [20.0, 20.0, 20.0, 19.0, 19.0, 19.0, 19.0, 19.0, 19.0], [48.0, 48.0, 48.0], None, [30.0, 30.0, 30.0, 30.0, 13.0, 13.0, 13.0, 13.0, 13.0, 13.0], None, None, None, None, None, None, None, [46.0, 46.0, 46.0, 46.0], None, None, [], None, None, None, [44.0, 44.0, 44.0, 44.0], None, [5.0, 5.0, 5.0, 5.0, 4.0, 4.0, 4.0, 4.0, 4.0, 4.0], None, [23.0, 23.0, 23.0, 23.0, 23.0], None, None, [32.0, 32.0, 32.0, 32.0, 32.0], None, None, None, None, None, None, None, None, [3.0, 3.0, 3.0, 3.0, 3.0, 3.0, 3.0, 3.0, 3.0, 3.0], None, None, None, None, None, None, None, None, None, None, None, None, None, None, None, None, None, None, None, None, [29.0, 29.0, 29.0, 29.0, 29.0], None, None, None, None, [30.0, 30.0, 30.0, 30.0, 30.0], [49.0, 49.0, 49.0, 49.0, 49.0], None, None, None, None, None, None, [24.0, 24.0, 24.0, 24.0, 39.0, 39.0, 39.0, 39.0, 39.0, 39.0], None, None, None, None, None, None, None, None, [23.0, 23.0, 23.0, 23.0, 16.0, 16.0, 16.0, 16.0, 16.0, 16.0], [28.0, 28.0, 28.0, 28.0, 28.0], [31.0, 18.0, 31.0, 18.0, 31.0, 18.0, 31.0, 18.0, 31.0, 18.0, 31.0, 18.0], None, None, None, None, None, None, None, None, None, None, [18.0, 18.0, 18.0, 18.0, 12.0, 12.0, 12.0, 12.0, 12.0, 12.0], None, [45.0, 45.0, 45.0, 45.0], None, None, None, None, [15.0, 15.0, 15.0, 15.0, 40.0, 40.0, 40.0, 40.0, 40.0, 40.0], None, None, None, None, None, None, None, None, None, [], None, None, None, [], None, None, None]\n",
            "[None, None, [27.0, 27.0], None, None, None, None, None, None, None, None, None, [8.0, 8.0, 8.0, 10.0, 10.0, 10.0, 9.0, 9.0, 9.0, 15.0, 15.0, 15.0], [27.0, 27.0], None, None, [36.0, 36.0], None, [48.0, 48.0], None, None, None, None, [31.0, 31.0, 31.0], None, None, None, None, None, None, None, [42.0, 42.0, 19.0, 19.0, 19.0], None, None, None, None, [20.0, 20.0, 20.0, 42.0, 42.0, 42.0], None, [34.0, 34.0], None, [32.0, 32.0], None, None, None, None, None, [20.0, 20.0, 20.0, 5.0, 5.0, 5.0, 10.0, 10.0, 10.0], None, None, None, None, None, None, [49.0, 49.0], [39.0, 39.0], [41.0, 41.0], None, [25.0, 25.0, 25.0], [38.0, 38.0], [], None, None, [], None, [47.0, 47.0], [6.0, 6.0, 6.0, 8.0, 8.0, 8.0, 12.0, 12.0, 12.0, 5.0, 5.0, 5.0], None, None, [4.0, 4.0, 4.0, 6.0, 6.0, 6.0, 6.0, 6.0, 6.0, 2.0, 2.0, 2.0], None, None, None, [3.0, 3.0, 3.0, 3.0, 3.0, 3.0, 3.0, 3.0, 3.0, 3.0, 3.0, 3.0], None, None, None, None, None, [7.0, 7.0, 7.0, 7.0, 7.0, 7.0, 10.0, 10.0, 10.0, 7.0, 7.0, 7.0], None, None, None, None, [], None, None, None, None, None, None, None, None, None, None, None, None, None, None, None, None, None, None, None, None, None, None, None, None, None, None, None, None, None, None, None, None, None, None, None, [19.0, 19.0, 19.0, 40.0, 40.0, 40.0, 16.0, 16.0, 16.0, 33.0, 33.0, 33.0], [38.0, 38.0], None, None, [35.0, 35.0], None, None, None, [33.0, 33.0, 33.0], None, [37.0, 37.0], None, None, None, None, None, None, None, [19.0, 19.0, 36.0, 36.0, 36.0], None, None, [12.0, 12.0, 12.0, 18.0, 18.0, 18.0, 27.0, 27.0, 27.0, 30.0, 30.0, 30.0], None, None, None, [], None, None, None, [14.0, 14.0, 14.0, 21.0, 21.0, 21.0, 37.0, 37.0, 37.0], None, None, None, None, None, None, None, None, [40.0, 40.0], None, None, None, None, None, [18.0, 18.0, 18.0, 35.0, 35.0, 35.0, 13.0, 13.0, 13.0, 22.0, 22.0, 22.0], [13.0, 13.0, 13.0, 5.0, 5.0, 5.0, 4.0, 4.0, 4.0, 6.0, 6.0, 6.0], None, None, [50.0, 50.0], None, None, None, None, None, None, None, None, [], None, None, None, None, [], None, None, None, [44.0, 44.0], None, [44.0, 44.0], None, [30.0, 30.0, 30.0, 23.0, 23.0, 23.0, 37.0, 37.0, 37.0], None, [], None, None, None, None, None, None, None, [42.0, 42.0], None, None, None, [11.0, 11.0, 11.0, 15.0, 15.0, 15.0, 22.0, 22.0, 22.0, 14.0, 14.0, 14.0], None, None, None, None, None, [29.0, 29.0], [], None, None, None, None, [], None, None, None, None, None, None, None, None, None, None, None, None, None, None, None, None, None, None, None, None, None, None, None, None, [26.0, 26.0, 49.0, 49.0, 49.0], [30.0, 30.0], [], [50.0, 50.0], None, [22.0, 22.0, 45.0, 45.0, 45.0], None, None, None, None, None, None, None, None, [16.0, 16.0, 33.0, 33.0, 33.0], None, [19.0, 19.0, 38.0, 38.0, 38.0], None, None, None, None, None, None, [], None, [48.0, 48.0], None, [26.0, 26.0, 26.0], None, None, None, None, [48.0, 48.0], [23.0, 23.0, 39.0, 39.0, 39.0, 17.0, 17.0, 17.0], [40.0, 40.0], None, None, None, None, None, [47.0, 47.0], [9.0, 9.0, 18.0, 18.0, 18.0, 32.0, 32.0, 32.0], None, [45.0, 45.0, 18.0, 18.0, 18.0], None, None, [5.0, 5.0, 5.0, 2.0, 2.0, 2.0, 2.0, 2.0, 2.0, 4.0, 4.0, 4.0], [50.0, 50.0], None, None, None, None, None, None, [], None, None, [24.0, 24.0, 15.0, 15.0, 15.0, 13.0, 13.0, 13.0], None, None, None, None, [32.0, 32.0], None, None, None, [23.0, 23.0, 23.0, 43.0, 43.0, 43.0, 14.0, 14.0, 14.0], [9.0, 9.0, 14.0, 14.0, 14.0, 30.0, 30.0, 30.0, 48.0, 48.0, 48.0], None, None, None, None, None, None, None, None, None, None, None, None, None, [49.0, 49.0], None, None, None, None, None, None, None, [1.0, 1.0, 1.0, 1.0, 1.0, 1.0, 1.0, 1.0, 1.0, 1.0, 1.0, 1.0], None, None, None, [29.0, 29.0, 43.0, 43.0, 43.0], None, [], None, None, None, None, None, None, None, None, None, None, None, None, None, [23.0, 23.0], None, None, None, None, None, None, [], None, None, [34.0, 34.0], None, [45.0, 45.0], None, None, None, None, None, None, [21.0, 21.0, 46.0, 46.0, 46.0], None, None, [25.0, 25.0, 25.0, 41.0, 41.0, 41.0], None, [47.0, 47.0], None, None, None, None, None, None, [31.0, 31.0, 31.0, 21.0, 21.0, 21.0], None, None, None, None, None, None, [46.0, 46.0], None, [46.0, 46.0], None, [44.0, 44.0], [17.0, 17.0, 17.0, 31.0, 31.0, 31.0, 11.0, 11.0, 11.0, 20.0, 20.0, 20.0], None, None, None, None, None, None, None, None, None, None, None, None, [41.0, 41.0], None, None, None, [21.0, 21.0, 40.0, 40.0, 40.0], None, None, None, None, None, None, None, None, None, [49.0, 49.0], None, None, None, None, [32.0, 32.0, 47.0, 47.0, 47.0], None, None, None, [29.0, 29.0, 8.0, 8.0, 8.0, 8.0, 8.0, 8.0], None, None, [39.0, 39.0, 26.0, 26.0, 26.0], [10.0, 10.0, 10.0, 11.0, 11.0, 11.0, 20.0, 20.0, 20.0, 28.0, 28.0, 28.0], None, None, [], None, None, None, None, None, [15.0, 15.0, 15.0, 25.0, 25.0, 25.0, 36.0, 36.0, 36.0, 16.0, 16.0, 16.0], None, None, None, [28.0, 28.0], None, None, None, None, None, None, None, None, None, [2.0, 2.0, 2.0, 4.0, 4.0, 4.0, 7.0, 7.0, 7.0, 11.0, 11.0, 11.0], None, None, None, [], None, None, None, None, None, None, [36.0, 36.0], [34.0, 34.0], None, None, [37.0, 37.0], None, [17.0, 17.0, 29.0, 29.0, 29.0], [16.0, 16.0, 31.0, 31.0, 31.0], None, None, [44.0, 44.0], [28.0, 28.0, 28.0, 13.0, 13.0, 13.0, 26.0, 26.0, 26.0, 39.0, 39.0, 39.0], None, None, None, [35.0, 35.0, 35.0, 12.0, 12.0, 12.0, 24.0, 24.0, 24.0, 35.0, 35.0, 35.0], None, None, None, None, None, None, [], [42.0, 42.0, 42.0, 17.0, 17.0, 17.0, 28.0, 28.0, 28.0, 38.0, 38.0, 38.0], None, [50.0, 50.0], None, None, None, [25.0, 25.0, 25.0, 24.0, 24.0, 24.0], None, None, [24.0, 24.0, 41.0, 41.0, 41.0, 12.0, 12.0, 12.0], None, [33.0, 33.0, 9.0, 9.0, 9.0], None, [], None, None, None, None, [45.0, 45.0], [27.0, 27.0, 46.0, 46.0, 46.0], None, None, [43.0, 43.0, 43.0], None, None, None, None, None, None, None, None, None, None, None, None, [22.0, 22.0, 43.0, 43.0, 43.0], None, None, None, None, None, [34.0, 34.0], None, None, None, None, None]\n",
            "[None, None, [], None, None, None, None, None, None, None, None, None, [33.0, 33.0, 33.0, 49.0, 49.0, 49.0], None, None, None, None, None, [14.0, 14.0, 29.0, 29.0, 29.0, 38.0], None, None, [50.0, 50.0], None, None, [50.0, 50.0, 50.0], None, [], None, [34.0, 34.0], None, [39.0, 39.0], None, None, None, None, None, None, None, [12.0, 12.0, 12.0, 17.0, 17.0, 17.0, 8.0, 8.0, 8.0, 13.0], None, None, None, None, None, [35.0, 35.0, 35.0], None, [5.0, 5.0, 5.0, 13.0, 13.0, 13.0, 23.0, 23.0, 23.0, 10.0], None, [46.0, 46.0], None, None, None, None, None, None, [26.0, 26.0], None, [23.0, 23.0, 41.0, 41.0, 41.0], None, None, None, None, None, None, [19.0, 19.0, 36.0, 36.0, 36.0], [10.0, 10.0, 10.0, 6.0, 6.0, 6.0, 7.0, 7.0, 7.0, 12.0], None, None, [6.0, 6.0, 6.0, 4.0, 4.0, 4.0, 3.0, 3.0, 3.0, 2.0], None, None, None, [2.0, 2.0, 2.0, 3.0, 3.0, 3.0, 5.0, 5.0, 5.0, 4.0], [48.0, 48.0], None, None, None, None, [9.0, 9.0, 9.0, 11.0, 11.0, 11.0, 17.0, 17.0, 17.0, 18.0], None, [22.0, 22.0, 43.0, 43.0, 43.0], None, None, None, [25.0, 25.0, 11.0], None, None, None, None, None, [46.0, 46.0], None, None, [28.0, 28.0], None, None, None, [25.0, 25.0], [38.0, 38.0], None, None, None, None, None, None, None, [30.0, 30.0], None, None, None, None, None, None, None, None, None, None, None, None, None, None, None, [41.0, 41.0], None, None, [45.0, 45.0], None, None, None, None, None, None, [41.0, 41.0, 41.0], [14.0, 14.0, 14.0, 21.0, 21.0, 21.0, 37.0, 37.0, 37.0, 49.0], None, None, None, None, None, None, [23.0, 23.0, 23.0, 31.0, 31.0, 31.0, 13.0, 13.0, 13.0, 19.0], None, None, None, None, None, None, None, None, None, None, None, [31.0, 31.0, 31.0], None, None, None, None, None, None, None, None, [45.0, 45.0], None, [24.0, 24.0, 24.0, 36.0, 36.0, 36.0, 11.0, 11.0, 11.0, 20.0], [15.0, 15.0, 15.0, 20.0, 20.0, 20.0, 32.0, 32.0, 32.0, 39.0], None, None, None, None, None, None, [28.0, 28.0, 28.0, 14.0, 14.0, 14.0, 23.0], None, None, None, None, None, None, None, None, None, None, None, [47.0, 47.0], None, None, None, [7.0, 7.0, 18.0, 18.0, 18.0, 27.0], None, [47.0, 47.0, 47.0], None, None, None, None, None, [37.0, 37.0], None, None, None, None, None, [44.0, 44.0, 44.0], None, [16.0, 16.0, 16.0, 24.0, 24.0, 24.0, 35.0, 35.0, 35.0, 41.0], [30.0, 30.0, 14.0], [], None, None, None, None, None, None, None, None, [43.0, 43.0, 43.0], None, [42.0, 42.0], None, None, None, None, None, None, None, None, None, None, None, None, None, None, None, None, None, None, None, None, None, None, None, None, None, None, None, None, None, None, None, None, [33.0, 33.0], None, None, None, None, None, None, None, None, None, [34.0, 34.0], None, None, None, None, None, None, None, None, None, None, None, None, None, [17.0, 17.0, 17.0, 8.0, 8.0, 8.0, 15.0, 15.0, 15.0, 21.0], [19.0, 19.0, 19.0, 32.0, 32.0, 32.0], [35.0, 35.0], None, None, [25.0, 25.0, 25.0], None, [18.0, 18.0, 18.0, 27.0, 27.0, 27.0], None, None, None, [42.0, 42.0], None, [13.0, 13.0, 13.0, 16.0, 16.0, 16.0, 26.0, 26.0, 26.0, 32.0], None, None, None, None, None, None, None, [27.0, 27.0, 27.0, 44.0, 44.0, 44.0], None, None, None, None, None, None, None, None, [37.0, 37.0, 37.0], None, [26.0, 26.0, 26.0, 43.0, 43.0, 43.0], [29.0, 29.0, 29.0, 39.0, 39.0, 39.0, 19.0, 19.0, 19.0, 8.0], [11.0, 11.0, 11.0, 18.0, 18.0, 18.0, 10.0, 10.0, 10.0, 16.0], None, None, None, None, None, None, None, [48.0, 48.0, 48.0], None, None, None, None, None, None, None, None, None, None, None, [45.0, 45.0, 45.0], None, [1.0, 1.0, 1.0, 1.0, 1.0, 1.0, 1.0, 1.0, 1.0, 1.0], None, [40.0, 40.0, 40.0], None, [15.0, 15.0, 28.0, 28.0, 28.0, 37.0], [49.0, 49.0], [], [], None, None, None, None, None, None, None, None, None, None, [], None, None, None, None, None, None, None, None, [24.0, 24.0, 31.0], None, None, None, None, None, None, None, None, None, [50.0, 50.0], [39.0, 39.0, 39.0, 28.0], None, None, None, [34.0, 34.0, 34.0, 22.0], None, None, None, None, None, [27.0, 27.0, 40.0], None, None, [7.0, 7.0, 7.0, 5.0, 5.0, 5.0, 4.0, 4.0, 4.0, 5.0], None, None, None, None, None, None, None, [], [32.0, 32.0, 32.0], [], None, None, None, None, None, None, None, None, None, None, None, None, None, None, None, None, None, None, None, None, None, None, None, None, None, None, None, None, None, None, None, None, None, None, None, None, None, [21.0, 21.0, 21.0, 29.0, 29.0, 29.0, 48.0, 48.0, 48.0], None, [47.0, 47.0], None, None, None, None, None, None, None, [], None, None, [8.0, 8.0, 8.0, 10.0, 10.0, 10.0, 16.0, 16.0, 16.0, 17.0], None, None, None, None, None, None, [22.0, 22.0, 22.0, 38.0, 38.0, 38.0], None, None, None, [36.0, 36.0, 36.0], [], None, [3.0, 3.0, 3.0, 2.0, 2.0, 2.0, 2.0, 2.0, 2.0, 3.0], None, None, None, [], None, None, None, None, None, None, None, None, [], None, None, None, None, None, None, [], [9.0, 9.0, 15.0], None, None, None, None, [], None, [44.0, 44.0], None, None, None, None, None, None, None, None, None, None, None, [4.0, 4.0, 4.0, 9.0, 9.0, 9.0, 20.0, 20.0, 20.0, 24.0], None, None, [42.0, 42.0, 42.0], None, [30.0, 30.0, 30.0, 40.0, 40.0, 40.0, 12.0, 12.0, 12.0, 6.0], None, None, [38.0, 38.0, 38.0], None, None, None, [31.0, 31.0, 46.0], None, [40.0, 40.0], [46.0, 46.0, 46.0], [20.0, 20.0, 20.0, 12.0, 12.0, 12.0, 21.0, 21.0, 21.0, 26.0], None, None, None, None, [49.0, 49.0, 49.0], None, [33.0, 33.0, 6.0, 6.0, 6.0, 9.0], None, None, None, None, None, None, None, [22.0, 22.0, 30.0], None, None, None, None, None, None, None, None, None]\n",
            "[None, None, None, None, None, None, [38.0, 38.0, 38.0], None, None, None, None, None, [], None, [16.0, 16.0, 16.0, 26.0], None, None, None, None, None, None, None, None, None, None, None, None, None, None, None, None, None, None, None, None, [15.0, 15.0, 15.0, 27.0], None, None, [18.0, 18.0, 18.0, 23.0], None, None, None, None, None, None, None, [19.0, 19.0, 19.0, 24.0], None, None, None, [49.0, 49.0, 49.0], None, None, None, None, None, None, [], None, None, None, None, None, None, None, [5.0, 5.0, 5.0, 7.0], None, None, [4.0, 4.0, 4.0, 5.0], None, None, None, [12.0, 12.0, 12.0, 16.0], None, None, None, None, None, [9.0, 9.0, 9.0, 11.0], None, None, [32.0, 32.0, 32.0], None, None, [], None, None, None, None, None, None, None, None, None, None, None, None, None, [30.0, 30.0, 30.0, 48.0], None, None, None, None, None, None, None, None, None, None, None, None, None, None, None, None, None, None, None, None, None, None, None, None, None, None, None, None, None, None, None, None, None, None, None, None, [], [42.0, 42.0, 42.0], None, None, None, [6.0, 6.0, 6.0, 9.0], None, None, None, [], None, None, None, None, [40.0, 40.0, 40.0], None, None, None, None, None, None, None, None, None, None, None, None, None, None, [27.0, 27.0, 27.0, 41.0], None, None, None, None, None, [31.0, 31.0, 31.0], [45.0, 45.0, 45.0], None, None, None, None, None, None, None, None, None, None, None, None, None, None, None, None, None, [], None, None, None, None, None, [], None, None, None, None, None, None, None, None, [37.0, 37.0, 37.0], [41.0, 41.0, 41.0], [50.0, 50.0, 50.0], None, None, None, None, None, None, None, None, None, None, None, None, None, None, None, None, None, None, None, None, None, None, None, None, None, None, [], None, None, None, None, None, None, None, None, None, None, None, [48.0, 48.0, 48.0], None, None, None, None, None, [], [35.0, 35.0, 35.0], None, None, None, None, None, None, None, None, None, [20.0, 20.0, 20.0, 34.0], None, None, None, None, None, [36.0, 36.0, 36.0], None, None, None, None, [33.0, 33.0, 33.0], None, None, [44.0, 44.0, 44.0], None, None, None, None, None, None, None, None, None, None, None, None, None, None, None, None, None, None, None, None, None, None, None, None, None, None, None, None, None, [17.0, 17.0, 17.0, 25.0], [], None, None, None, None, [24.0, 24.0, 24.0, 43.0], None, None, None, None, None, None, None, None, None, None, None, None, None, None, None, None, [1.0, 1.0, 1.0, 1.0], None, None, None, None, None, None, None, None, [21.0, 21.0, 21.0, 38.0], None, None, None, None, None, None, None, None, None, None, None, None, None, None, None, None, None, None, None, None, None, None, None, None, None, None, [], None, [], None, None, [28.0, 28.0, 28.0, 49.0], None, [47.0, 47.0, 47.0], None, None, None, None, None, None, [26.0, 26.0, 26.0, 45.0], [11.0, 11.0, 11.0, 10.0], None, [], None, None, None, None, None, None, None, [29.0, 29.0, 29.0, 6.0], None, [13.0, 13.0, 13.0, 20.0], None, None, None, None, None, None, [10.0, 10.0, 10.0, 12.0], None, [43.0, 43.0, 43.0], None, [46.0, 46.0, 46.0], None, None, None, None, None, None, None, None, None, None, None, None, None, None, None, None, None, [], None, None, None, None, None, None, [], None, None, None, [14.0, 14.0, 14.0, 21.0], None, None, None, None, None, None, None, None, [3.0, 3.0, 3.0, 4.0], None, None, None, None, None, None, None, None, None, None, None, [], None, [2.0, 2.0, 2.0, 2.0], None, None, None, [22.0, 22.0, 22.0, 39.0], None, None, None, None, None, None, None, None, None, None, None, None, None, None, None, None, [8.0, 8.0, 8.0, 32.0], None, None, None, None, [7.0, 7.0, 7.0, 3.0], None, None, None, [], None, None, None, None, None, None, None, None, None, None, None, None, [], None, [25.0, 25.0, 25.0, 8.0], None, None, None, None, None, None, None, None, None, None, [23.0, 23.0, 23.0, 36.0], None, None, None, None, None, None, [39.0, 39.0, 39.0], None, None, None, [], None, [34.0, 34.0, 34.0, 13.0], None, None, None, None, None, None, None, None, None, None, None]\n",
            "[None, None, [44.0, 44.0], None, None, [41.0, 41.0], None, None, None, None, None, None, [46.0], None, None, None, None, None, None, None, None, None, None, None, None, None, None, [43.0, 43.0], None, None, None, None, None, None, None, [29.0, 44.0, 44.0, 44.0], None, [18.0, 40.0, 40.0, 40.0], [12.0, 5.0, 5.0, 5.0, 5.0, 5.0, 5.0], None, None, None, None, [46.0, 46.0], None, None, [14.0, 23.0, 23.0, 23.0, 12.0, 12.0, 12.0], None, None, [42.0], None, None, None, None, None, None, None, [18.0, 18.0], None, [16.0, 26.0, 26.0, 26.0, 40.0, 40.0, 40.0], None, None, None, None, None, [2.0, 4.0, 4.0, 4.0, 8.0, 8.0, 8.0], None, None, [5.0, 2.0, 2.0, 2.0, 4.0, 4.0, 4.0], None, None, None, [19.0, 6.0, 6.0, 6.0, 3.0, 3.0, 3.0], None, None, None, [45.0], None, [10.0, 19.0, 19.0, 19.0, 23.0, 23.0, 23.0], None, None, None, None, None, [48.0], None, None, None, None, [34.0], None, None, None, [43.0, 43.0], None, None, None, None, None, None, None, None, [42.0, 42.0], None, None, [35.0, 35.0], [26.0, 17.0, 17.0, 17.0, 25.0, 25.0, 25.0], [32.0, 48.0, 48.0, 48.0], None, None, None, None, None, None, None, None, None, None, None, None, None, None, None, [34.0, 34.0], None, [24.0, 24.0, 35.0, 35.0, 35.0], None, None, None, None, None, [39.0], None, None, None, None, None, None, None, None, [20.0, 27.0, 27.0, 27.0, 34.0, 34.0, 34.0], None, None, [15.0, 13.0, 13.0, 13.0, 22.0, 22.0, 22.0], None, None, None, [37.0, 20.0, 20.0, 20.0, 30.0, 30.0, 30.0], [36.0, 36.0], [37.0, 37.0], None, None, None, None, None, None, None, None, None, None, None, None, None, None, None, None, None, None, None, None, [41.0, 24.0, 24.0, 24.0], None, None, None, [43.0], None, None, None, [47.0, 47.0], None, None, None, None, None, None, [31.0, 31.0], None, None, None, None, None, None, None, None, None, None, None, None, None, None, [50.0, 50.0], None, [42.0, 42.0], None, None, [25.0, 16.0, 16.0, 16.0, 48.0, 48.0, 48.0], None, None, None, None, None, [49.0, 29.0, 29.0, 29.0], None, None, None, None, None, None, None, None, None, None, None, None, [49.0, 49.0], None, None, None, None, None, None, None, None, None, None, None, None, None, None, None, None, [40.0], None, None, [35.0], None, None, None, None, None, None, [27.0, 27.0], None, None, None, None, None, None, None, None, None, None, [29.0, 29.0], None, None, None, None, None, None, None, None, None, None, [36.0, 39.0, 39.0, 39.0, 21.0, 21.0, 21.0], None, None, None, [41.0, 41.0], None, None, None, None, None, None, None, None, None, None, None, None, None, None, None, None, [45.0, 45.0], None, None, None, None, None, None, None, [28.0, 45.0, 45.0, 45.0], None, None, None, [32.0, 32.0], [28.0, 28.0, 46.0, 46.0, 46.0], None, None, None, None, None, [36.0, 36.0], None, None, None, None, None, None, None, None, None, None, None, None, None, None, None, [1.0, 1.0, 1.0, 1.0, 1.0, 1.0, 1.0], None, None, None, [33.0], None, None, None, None, None, None, None, None, None, None, None, None, None, None, None, None, None, None, None, None, None, None, None, None, None, None, None, None, None, None, None, None, None, [39.0, 39.0], None, None, [27.0, 32.0, 32.0, 32.0], [38.0, 50.0, 50.0, 50.0], None, None, [11.0], None, None, None, None, None, [13.0, 22.0, 22.0, 22.0, 15.0, 15.0, 15.0], None, None, [31.0, 31.0], None, None, None, None, [44.0], None, [4.0, 10.0, 10.0, 10.0, 11.0, 11.0, 11.0], None, [8.0, 11.0, 11.0, 11.0, 13.0, 13.0, 13.0], None, None, None, None, None, None, [23.0, 14.0, 14.0, 14.0, 20.0, 20.0, 20.0], None, None, None, [33.0, 33.0], None, None, None, None, None, None, None, None, None, None, None, None, None, None, None, None, None, None, None, None, [31.0, 47.0, 47.0, 47.0], None, None, [30.0, 49.0, 49.0, 49.0], None, None, None, None, [21.0, 21.0, 16.0, 16.0, 16.0], None, None, None, None, None, None, None, None, [9.0, 18.0, 18.0, 18.0, 10.0, 10.0, 10.0], None, None, [50.0], None, None, None, None, None, [30.0, 30.0], None, None, None, None, [3.0, 8.0, 8.0, 8.0, 2.0, 2.0, 2.0], None, None, None, None, None, [47.0], None, None, None, None, None, None, None, None, None, None, None, None, None, None, [26.0, 26.0], [37.0, 37.0], [21.0, 9.0, 9.0, 9.0, 14.0, 14.0, 14.0], None, None, [24.0, 7.0, 7.0, 7.0, 7.0, 7.0, 7.0], None, None, None, [22.0, 15.0, 15.0, 15.0, 9.0, 9.0, 9.0], None, None, None, None, None, None, None, None, None, None, None, None, [33.0, 33.0], None, [6.0, 12.0, 12.0, 12.0, 19.0, 19.0, 19.0], None, None, None, None, None, None, None, None, None, [28.0, 28.0], [17.0, 25.0, 25.0, 25.0, 17.0, 17.0, 17.0], None, None, None, None, None, None, [38.0, 38.0], None, None, None, None, None, None, [7.0, 3.0, 3.0, 3.0, 6.0, 6.0, 6.0], [38.0, 38.0], None, None, None, None, None, None, None, None, None]\n",
            "[None, None, None, None, None, None, None, None, None, None, None, None, None, [], None, None, None, None, None, None, [31.0, 31.0, 31.0, 31.0, 31.0], None, None, None, None, [44.0, 44.0, 44.0, 44.0, 44.0], None, None, None, None, None, None, None, None, None, [22.0, 22.0, 22.0, 22.0, 22.0], None, [], [11.0, 11.0, 11.0, 11.0, 11.0, 11.0], None, None, None, None, None, None, None, [15.0, 15.0, 15.0, 15.0, 15.0, 15.0], [41.0, 41.0, 41.0, 41.0, 41.0], None, None, None, None, None, None, None, None, None, [], None, [], None, None, None, [37.0, 37.0, 37.0, 37.0, 37.0], None, [4.0, 4.0, 4.0, 4.0, 4.0, 4.0], None, None, [2.0, 2.0, 2.0, 2.0, 2.0, 2.0], None, None, None, [6.0, 6.0, 6.0, 6.0, 6.0, 6.0], None, None, None, None, [43.0, 43.0, 43.0, 43.0, 43.0], [23.0, 23.0, 23.0, 23.0, 23.0, 23.0], None, None, None, [], None, None, None, None, None, [38.0, 38.0, 38.0, 38.0, 38.0, 38.0], None, None, None, None, None, None, None, None, None, [7.0, 7.0, 7.0, 7.0, 7.0, 7.0], [], None, None, None, None, None, None, None, [], None, None, None, None, None, None, None, None, None, None, None, None, None, None, None, None, None, [], None, None, None, None, None, None, None, None, None, None, None, None, None, None, [28.0, 28.0, 28.0, 28.0, 28.0, 28.0], None, None, None, [], None, None, [], None, None, None, None, None, None, None, None, None, None, None, None, None, None, None, [35.0, 35.0, 35.0, 35.0, 35.0], None, None, None, None, None, None, [21.0, 21.0, 21.0, 21.0, 21.0, 21.0], None, None, None, None, None, None, None, None, None, None, None, None, None, None, None, None, None, None, None, None, None, None, None, None, [32.0, 32.0, 32.0, 32.0, 32.0], None, None, None, None, None, None, None, [17.0, 17.0, 17.0, 17.0, 17.0], None, None, None, None, None, None, None, None, None, None, None, None, None, [], None, None, None, None, None, None, None, None, None, None, None, None, None, None, None, None, [], None, None, None, None, None, None, [], None, None, None, None, None, None, None, None, None, None, None, None, None, None, None, None, None, None, None, None, None, None, None, None, None, None, None, None, None, None, None, [], None, None, None, None, None, None, None, None, None, None, None, None, [19.0, 19.0, 19.0, 19.0, 19.0], None, None, [48.0, 48.0, 48.0, 48.0, 48.0], None, None, None, None, None, None, None, None, None, None, None, None, None, None, None, None, [13.0, 13.0, 13.0, 13.0, 13.0, 13.0], None, None, None, [], None, None, None, None, None, None, None, None, None, None, None, None, None, None, None, None, None, None, [1.0, 1.0, 1.0, 1.0, 1.0, 1.0], None, None, None, None, None, None, None, None, None, [46.0, 46.0, 46.0, 46.0, 46.0], None, None, None, None, None, None, None, None, None, None, [], None, None, None, None, None, None, None, None, None, None, None, None, None, None, None, None, None, None, None, None, [], None, None, [], None, None, None, None, None, [14.0, 14.0, 14.0, 14.0, 14.0, 14.0], None, None, None, None, None, None, None, None, None, [3.0, 3.0, 3.0, 3.0, 3.0, 3.0], None, [8.0, 8.0, 8.0, 8.0, 8.0, 8.0], None, None, None, None, [25.0, 25.0, 25.0, 25.0, 25.0], None, [33.0, 33.0, 33.0, 33.0, 33.0, 33.0], None, None, None, None, None, None, [], None, None, None, None, None, None, None, None, None, None, None, [47.0, 47.0, 47.0, 47.0, 47.0], None, None, None, None, None, None, None, None, None, None, None, None, None, [24.0, 24.0, 24.0, 24.0, 24.0, 24.0], None, None, None, None, None, None, None, [], [12.0, 12.0, 12.0, 12.0, 12.0, 12.0], None, None, None, [26.0, 26.0, 26.0, 26.0, 26.0], None, None, None, None, None, None, None, None, None, [5.0, 5.0, 5.0, 5.0, 5.0, 5.0], None, None, None, None, None, [49.0, 49.0, 49.0, 49.0, 49.0, 49.0], None, None, None, [18.0, 18.0, 18.0, 18.0, 18.0], None, None, None, None, None, None, None, None, None, None, [39.0, 39.0, 39.0, 39.0, 39.0, 39.0], None, [], None, [50.0, 50.0, 50.0, 50.0, 50.0], [10.0, 10.0, 10.0, 10.0, 10.0, 10.0], None, None, None, [9.0, 9.0, 9.0, 9.0, 9.0, 9.0], None, None, None, [40.0, 40.0, 40.0, 40.0, 40.0], None, [16.0, 16.0, 16.0, 16.0, 16.0], None, None, [45.0, 45.0, 45.0, 45.0, 45.0], None, None, None, None, None, [27.0, 27.0, 27.0, 27.0, 27.0, 27.0], None, None, None, [], None, None, None, None, None, None, [30.0, 30.0, 30.0, 30.0, 30.0, 30.0], None, [20.0, 20.0, 20.0, 20.0, 20.0], None, None, None, [36.0, 36.0, 36.0, 36.0, 36.0], [], None, [], None, None, [42.0, 42.0, 42.0, 42.0, 42.0], None, [29.0, 29.0, 29.0, 29.0, 29.0, 29.0], None, [34.0, 34.0, 34.0, 34.0, 34.0], None, None, None, None, None, None, None, None]\n",
            "[[29.0, 29.0], None, None, None, None, None, None, None, None, None, None, None, None, None, None, None, None, None, [48.0, 48.0, 48.0, 48.0, 48.0, 48.0], None, None, None, None, None, None, None, None, None, None, [43.0, 43.0], None, None, None, None, None, [47.0, 47.0, 47.0, 47.0, 47.0, 47.0], None, [32.0, 32.0], [4.0, 4.0, 4.0, 4.0, 4.0, 4.0, 5.0, 5.0, 5.0], None, None, None, None, None, None, None, [13.0, 13.0, 13.0, 13.0, 13.0, 13.0, 21.0, 21.0, 21.0], None, None, None, None, None, None, None, None, None, None, None, None, None, None, None, None, [26.0, 26.0, 26.0, 26.0, 26.0, 26.0, 44.0, 44.0, 44.0], None, [9.0, 9.0, 9.0, 9.0, 9.0, 9.0, 9.0, 9.0, 9.0], None, None, [3.0, 3.0, 3.0, 3.0, 3.0, 3.0, 2.0, 2.0, 2.0], None, None, None, [2.0, 2.0, 2.0, 2.0, 2.0, 2.0, 3.0, 3.0, 3.0], None, None, None, None, None, [32.0, 32.0, 32.0, 32.0, 32.0, 32.0, 50.0, 50.0, 50.0], None, None, None, None, None, [31.0, 31.0, 31.0, 31.0, 31.0, 31.0], None, None, None, None, None, None, None, None, None, None, None, None, None, [36.0, 36.0, 36.0, 36.0, 36.0, 36.0], None, None, None, None, None, None, None, None, None, [33.0, 33.0], None, None, None, None, None, None, None, None, None, [20.0, 20.0, 20.0, 20.0, 20.0, 20.0, 38.0, 38.0, 38.0], None, None, None, None, [19.0, 19.0, 19.0, 19.0, 19.0, 19.0, 35.0, 35.0, 35.0], None, None, None, None, None, None, None, None, None, None, None, None, [21.0, 21.0, 21.0, 21.0, 21.0, 21.0, 12.0, 12.0, 12.0], None, None, None, [22.0, 22.0, 22.0, 22.0, 22.0, 22.0, 13.0, 13.0, 13.0], None, None, None, [28.0, 28.0, 28.0, 28.0, 28.0, 28.0, 48.0, 48.0, 48.0], None, None, [18.0, 18.0, 18.0, 18.0, 18.0, 18.0, 10.0, 10.0, 10.0], None, None, None, None, None, None, None, None, None, None, None, None, None, None, None, None, None, None, None, None, None, None, None, None, None, [10.0, 10.0, 10.0, 10.0, 10.0, 10.0, 18.0, 18.0, 18.0], None, None, None, None, None, None, None, None, None, None, None, None, None, None, None, None, None, None, [42.0, 42.0, 42.0, 42.0, 42.0, 42.0], None, None, None, None, None, None, None, None, None, None, [14.0, 14.0, 14.0, 14.0, 14.0, 14.0, 20.0, 20.0, 20.0], None, None, None, None, None, None, None, None, [16.0, 16.0], None, None, None, None, None, [40.0, 40.0, 40.0, 40.0, 40.0, 40.0], [43.0, 43.0, 43.0, 43.0, 43.0, 43.0], None, None, None, None, None, None, [50.0, 50.0, 50.0, 50.0, 50.0, 50.0], None, None, None, None, None, None, None, None, None, None, None, None, None, None, None, None, None, None, None, None, None, None, None, None, None, None, None, [11.0, 11.0, 11.0, 11.0, 11.0, 11.0, 19.0, 19.0, 19.0], None, None, None, [15.0, 15.0, 15.0, 15.0, 15.0, 15.0, 27.0, 27.0, 27.0], None, None, None, [33.0, 33.0, 33.0, 33.0, 33.0, 33.0], None, None, None, None, None, None, None, None, None, None, [8.0, 8.0, 8.0, 8.0, 8.0, 8.0, 7.0, 7.0, 7.0], None, None, None, None, None, None, None, None, [26.0, 26.0], None, None, None, None, None, None, None, None, None, None, None, None, [47.0, 47.0], None, None, [49.0, 49.0, 49.0, 49.0, 49.0, 49.0], None, None, None, None, None, None, None, None, None, None, None, None, None, None, None, None, None, None, None, None, None, None, None, [37.0, 37.0, 37.0, 37.0, 37.0, 37.0], [27.0, 27.0, 27.0, 27.0, 27.0, 27.0, 15.0, 15.0, 15.0], [44.0, 44.0, 44.0, 44.0, 44.0, 44.0], None, None, None, None, [1.0, 1.0, 1.0, 1.0, 1.0, 1.0, 1.0, 1.0, 1.0], None, None, None, None, None, [34.0, 34.0], None, None, None, None, None, [31.0, 31.0], None, None, None, None, None, None, None, None, None, [39.0, 39.0, 39.0, 39.0, 39.0, 39.0], None, None, None, None, None, None, None, None, None, None, None, None, None, None, None, None, None, [35.0, 35.0, 35.0, 35.0, 35.0, 35.0], None, None, [40.0, 40.0], None, None, None, None, None, None, None, [29.0, 29.0, 29.0, 29.0, 29.0, 29.0, 42.0, 42.0, 42.0], None, [37.0, 37.0], None, None, None, None, None, [22.0, 22.0], None, [38.0, 38.0, 38.0, 38.0, 38.0, 38.0], None, [12.0, 12.0, 12.0, 12.0, 12.0, 12.0, 17.0, 17.0, 17.0], None, None, [46.0, 46.0, 46.0, 46.0, 46.0, 46.0], None, None, None, None, None, None, [41.0, 41.0], None, None, None, None, None, None, None, [25.0, 25.0, 25.0, 25.0, 25.0, 25.0, 14.0, 14.0, 14.0], None, None, None, None, None, None, None, None, None, None, None, None, None, None, None, None, None, None, None, None, None, [24.0, 24.0, 24.0, 24.0, 24.0, 24.0, 36.0, 36.0, 36.0], None, None, None, None, None, None, None, None, [34.0, 34.0, 34.0, 34.0, 34.0, 34.0], [30.0, 30.0, 30.0, 30.0, 30.0, 30.0], None, None, [45.0, 45.0], None, None, None, None, None, None, None, None, None, [7.0, 7.0, 7.0, 7.0, 7.0, 7.0, 4.0, 4.0, 4.0], None, None, None, [23.0, 23.0, 23.0, 23.0, 23.0, 23.0, 39.0, 39.0, 39.0], [24.0, 24.0], None, None, None, None, None, None, [16.0, 16.0, 16.0, 16.0, 16.0, 16.0, 11.0, 11.0, 11.0], None, None, None, None, None, None, None, None, None, None, None, None, None, [45.0, 45.0, 45.0, 45.0, 45.0, 45.0], None, None, None, [6.0, 6.0, 6.0, 6.0, 6.0, 6.0, 6.0, 6.0, 6.0], None, None, None, None, None, [28.0, 28.0], None, None, None, None, None, None, [49.0, 49.0], None, [17.0, 17.0, 17.0, 17.0, 17.0, 17.0, 30.0, 30.0, 30.0], None, None, None, None, None, None, None, None, [46.0, 46.0], None, [25.0, 25.0], None, None, None, None, None, None, [5.0, 5.0, 5.0, 5.0, 5.0, 5.0, 8.0, 8.0, 8.0], [41.0, 41.0, 41.0, 41.0, 41.0, 41.0], None, None, None, None, None, None, [23.0, 23.0], None, None, None, None, None, None, None, None, None]\n",
            "\n",
            "\n",
            "[None, None, None, None, None, None, None, 47.0, None, None, None, None, 39.0, None, None, None, None, None, 41.0, None, None, None, None, None, None, None, None, None, None, None, None, None, None, None, None, None, None, None, 8.0, None, None, None, None, None, None, None, 34.0, None, None, None, None, None, None, None, 45.0, None, None, None, None, 21.0, None, None, None, None, None, None, None, None, 15.0, 50.0, None, None, None, None, None, None, None, None, 39.0, None, None, None, None, None, None, None, None, None, None, None, None, None, None, 28.0, None, None, None, 22.0, 48.0, None, None, None, None, None, None, None, None, None, None, None, 39.0, None, None, None, None, None, None, None, None, None, None, None, None, 14.0, 43.0, None, None, None, None, None, None, None, None, 46.0, 32.0, None, 31.0, None, None, None, 7.0, None, None, None, None, None, None, None, 10.0, None, 24.0, None, None, None, None, 48.0, None, None, None, None, None, None, None, 27.0, 13.0, None, None, None, None, None, 42.0, 28.0, None, None, None, None, None, None, None, None, None, None, None, None, None, None, 42.0, None, 45.0, 35.0, 47.0, None, None, 11.0, None, None, None, None, None, None, None, None, None, 1.0, None, None, None, None, None, None, None, None, 23.0, None, None, None, None, None, None, None, 49.0, None, None, None, None, None, 26.0, None, None, None, 36.0, None, None, None, None, None, None, None, None, 25.0, None, None, None, None, None, None, None, None, 49.0, None, None, 27.0, None, None, 33.0, None, None, 49.0, None, None, 33.0, None, None, None, None, None, None, None, None, None, None, None, None, 9.0, None, None, None, 42.0, None, None, 34.0, None, None, None, None, None, None, None, None, None, 32.0, None, None, None, None, None, None, None, None, None, 18.0, None, None, None, None, None, 50.0, None, None, 16.0, None, 50.0, None, None, 41.0, None, None, None, None, None, 32.0, None, None, None, None, None, 36.0, None, None, None, 38.0, None, None, 30.0, None, None, None, None, None, None, None, None, None, 46.0, 34.0, None, None, 45.0, None, None, None, None, None, None, None, None, None, None, None, None, None, None, None, None, None, None, None, None, None, None, 44.0, None, 44.0, None, None, None, 30.0, None, None, None, 29.0, None, None, None, None, None, None, None, None, None, None, None, 19.0, None, None, None, 38.0, None, None, None, None, None, None, None, None, None, None, None, None, None, None, None, None, None, None, None, None, None, None, None, None, 40.0, None, None, None, None, None, None, None, None, None, None, 20.0, None, None, None, None, None, None, None, None, 3.0, None, 48.0, None, 35.0, None, 4.0, None, None, None, None, None, None, None, 2.0, None, None, None, None, None, None, 36.0, None, None, None, None, None, None, None, None, 41.0, None, None, None, None, None, None, None, None, None, 17.0, None, None, None, None, None, None, None, 43.0, 43.0, None, 31.0, None, None, None, None, None, 12.0, None, 6.0, None, None, None, None, None, 44.0, None, None, None, None, 37.0, None, None, None, None, None, None, None, None, None, 47.0, None, None, None, None, None, 40.0, None, 25.0, None, 46.0, None, None, None, None]\n",
            "[None, 21.0, None, None, None, None, None, None, None, None, None, 18.0, 29.0, 13.0, None, None, None, None, None, None, None, None, None, None, None, None, None, None, None, None, None, None, None, None, None, None, None, None, 2.0, None, None, None, None, None, None, None, 35.0, None, None, None, None, None, None, None, None, None, None, None, None, 11.0, None, None, None, None, None, None, None, None, 8.0, None, 17.0, None, None, None, None, None, None, None, 33.0, None, None, None, None, None, None, None, None, None, None, None, None, None, None, None, None, None, None, None, 30.0, None, None, None, None, None, None, None, None, None, None, None, None, None, None, 26.0, None, None, None, None, None, None, None, None, None, None, None, None, None, None, None, 49.0, None, None, None, None, None, None, None, None, None, None, 1.0, None, None, None, 46.0, 38.0, None, None, None, None, None, None, None, 44.0, None, None, None, None, None, None, None, None, None, None, None, None, None, None, None, None, None, 31.0, None, None, None, None, None, None, None, None, None, None, None, None, None, None, None, None, None, None, None, None, None, 27.0, 50.0, None, None, None, None, None, None, None, None, 3.0, None, None, None, None, None, None, None, None, 20.0, None, None, None, None, None, None, None, None, None, None, None, None, None, None, None, None, None, None, None, None, None, None, 39.0, None, None, None, None, None, None, None, None, None, None, None, None, None, None, None, 16.0, None, None, None, None, None, None, None, None, None, None, None, None, 28.0, None, None, None, None, None, None, None, None, 47.0, None, None, None, 15.0, None, None, None, 22.0, None, None, None, None, None, None, None, None, None, None, None, None, None, 43.0, None, None, None, 48.0, None, None, None, None, None, None, None, None, None, None, None, None, None, None, None, None, None, None, None, None, 23.0, None, None, None, None, None, None, None, None, None, None, None, None, None, None, None, None, None, None, None, None, None, None, None, None, None, None, None, None, None, None, None, None, None, 36.0, None, None, None, None, None, None, None, None, None, None, None, None, None, None, None, 42.0, None, None, None, None, None, None, None, None, None, 45.0, None, None, None, None, None, None, None, None, None, None, None, 6.0, None, None, None, None, None, None, None, None, None, None, None, None, None, None, None, None, None, None, None, 12.0, None, None, None, None, 37.0, None, None, None, None, None, None, None, None, None, None, None, None, None, None, 24.0, None, 32.0, None, None, None, None, None, None, 10.0, None, None, None, None, None, None, None, None, None, None, None, None, None, 5.0, None, None, None, None, None, None, 41.0, None, None, None, None, None, None, None, None, None, None, None, None, None, None, None, None, None, None, 7.0, None, None, None, None, None, None, None, 19.0, None, 14.0, None, None, None, None, None, None, 25.0, None, 4.0, None, None, None, None, 40.0, None, None, None, None, None, None, None, None, None, None, None, None, None, None, None, None, None, None, None, None, None, None, None, None, None, None, None, None, 34.0, None]\n",
            "[None, None, None, None, None, None, None, None, None, None, None, None, None, None, None, None, None, None, None, None, None, None, None, None, None, None, None, None, None, None, None, None, None, None, None, None, None, None, 4.0, None, None, None, None, None, None, None, None, None, None, None, None, None, None, None, None, None, 48.0, None, None, 41.0, None, None, None, None, None, 18.0, 47.0, None, 7.0, None, None, None, None, None, None, None, None, None, 11.0, None, None, None, None, None, None, None, None, None, None, None, None, None, None, 15.0, None, None, None, None, None, None, None, None, None, None, None, None, None, None, None, None, None, None, None, None, None, None, None, None, None, None, None, None, None, 21.0, None, None, None, None, None, None, None, None, None, None, None, None, None, None, None, None, 5.0, 33.0, None, None, None, None, 30.0, None, None, None, None, None, None, None, None, None, None, None, None, None, None, None, None, 14.0, None, None, None, None, 38.0, None, None, 13.0, None, None, None, None, None, None, None, None, None, None, None, None, None, None, None, None, None, None, None, None, None, None, None, 32.0, 49.0, 36.0, None, None, None, None, None, 16.0, None, None, None, 46.0, None, None, None, None, None, None, None, None, None, None, None, None, None, None, None, None, None, None, None, None, None, None, None, None, None, None, None, None, None, None, None, None, None, None, None, None, None, None, None, None, None, None, None, None, None, None, None, None, None, None, None, None, None, None, None, None, None, None, None, None, None, None, None, None, None, 19.0, None, None, None, 25.0, None, None, 43.0, 42.0, None, None, None, None, None, None, None, None, None, None, None, None, None, None, None, 44.0, None, None, None, None, 35.0, None, None, 20.0, 10.0, None, None, None, None, None, None, None, None, None, None, None, None, None, None, None, None, 27.0, None, None, None, None, None, None, 34.0, None, None, None, None, None, None, None, None, None, None, None, None, None, None, None, None, None, None, None, None, None, None, None, None, None, None, None, None, None, None, None, None, None, 37.0, None, None, None, None, None, None, None, None, None, None, None, None, None, None, None, 23.0, None, None, None, None, None, None, None, None, None, None, None, 29.0, None, None, None, None, None, None, None, None, None, None, None, None, None, None, 45.0, None, None, None, None, None, None, None, None, None, None, None, None, None, 31.0, None, None, None, None, None, None, None, None, None, None, 12.0, None, None, None, None, None, None, None, None, 2.0, None, None, None, 17.0, None, 9.0, None, None, None, None, None, None, None, 3.0, None, 39.0, None, None, None, None, None, None, None, None, None, None, None, 50.0, None, None, None, None, None, None, 22.0, None, None, None, None, 8.0, None, None, None, None, None, None, None, 24.0, None, None, None, None, None, None, None, None, None, None, 6.0, None, None, None, None, 26.0, None, None, None, None, None, 40.0, None, None, None, None, None, None, None, None, None, None, None, None, None, None, None, None, None, None, None, None, None, 28.0, None, None]\n",
            "[None, None, None, None, None, None, None, None, None, None, None, None, 34.0, None, None, None, None, None, None, None, None, None, None, None, None, None, None, None, None, None, None, None, None, None, None, None, None, None, 4.0, None, None, None, 16.0, None, None, None, None, None, None, None, None, None, None, None, None, None, None, None, None, None, 30.0, None, None, None, None, 18.0, None, None, 2.0, None, None, None, None, None, 45.0, None, None, None, 6.0, None, None, None, None, None, None, None, None, None, None, None, None, None, 31.0, 19.0, None, None, None, None, None, None, None, None, None, None, None, None, None, None, None, None, None, None, None, None, None, None, None, None, None, None, None, None, None, 29.0, None, None, None, None, None, None, None, None, None, None, None, None, None, None, None, None, 3.0, None, 49.0, None, None, None, None, None, None, None, None, None, None, None, None, None, None, None, None, None, None, None, None, 23.0, None, None, None, None, None, None, None, None, None, None, None, None, None, 48.0, 22.0, None, None, None, None, None, None, None, None, None, None, None, None, None, None, None, None, 33.0, None, None, None, None, 27.0, None, None, 26.0, None, 25.0, None, None, None, None, None, None, None, None, None, None, None, None, None, None, None, 35.0, None, None, None, None, None, None, None, None, None, None, None, None, None, None, None, None, None, None, 17.0, None, None, None, None, None, 42.0, None, None, None, None, None, None, None, None, None, None, None, None, None, None, 47.0, None, None, None, None, None, None, None, None, None, None, None, None, None, None, None, None, None, 37.0, 44.0, 14.0, None, None, None, 50.0, None, None, None, None, None, None, None, None, None, None, None, None, None, None, None, None, None, None, None, None, 8.0, None, None, None, None, None, None, None, None, None, None, None, None, None, None, None, None, None, 24.0, None, None, None, 38.0, None, None, None, None, None, None, None, None, 39.0, None, None, None, None, None, None, None, None, None, None, None, None, None, None, None, None, None, None, None, 21.0, None, None, None, None, None, None, None, None, None, None, None, None, None, None, None, None, None, None, None, None, None, None, 20.0, None, None, None, None, None, 40.0, None, None, None, None, None, 11.0, None, None, None, None, None, None, None, None, None, None, None, None, None, None, None, None, None, None, None, None, None, None, None, None, None, None, None, None, None, None, None, None, None, None, None, None, None, None, None, 12.0, None, None, None, None, 46.0, None, None, None, 5.0, None, None, None, None, None, 36.0, None, 43.0, None, None, None, None, None, 1.0, None, None, None, None, None, None, None, None, None, None, None, None, None, None, None, None, None, None, None, None, None, None, None, None, None, 9.0, None, None, 32.0, None, None, None, None, 13.0, None, None, None, None, None, 28.0, None, None, None, None, 7.0, None, None, None, None, None, None, None, None, None, None, 10.0, None, None, None, None, None, None, None, None, None, None, None, None, None, None, None, None, None, None, None, None, None, None, None, 41.0]\n",
            "[None, None, None, None, None, None, None, None, None, None, None, None, 20.0, None, None, None, None, 28.0, None, 40.0, None, 49.0, None, None, None, None, 27.0, None, None, None, 22.0, 33.0, None, None, None, None, None, None, 43.0, None, None, None, None, None, None, None, 34.0, None, None, None, None, None, None, None, None, None, None, None, None, 36.0, None, None, 45.0, None, None, 3.0, None, None, 1.0, None, None, None, None, None, 25.0, None, None, None, 31.0, None, None, None, None, None, None, None, None, None, None, None, None, None, None, 8.0, None, None, None, None, 39.0, None, None, None, None, None, 50.0, None, None, 37.0, 45.0, None, None, None, None, None, None, None, None, 46.0, None, None, None, None, None, 36.0, 21.0, None, None, None, None, 33.0, None, None, None, 50.0, None, None, 17.0, None, None, None, 6.0, None, None, None, None, None, None, 44.0, 37.0, None, None, None, None, None, 50.0, None, None, None, None, None, None, None, None, 39.0, None, None, None, 29.0, None, None, None, None, None, None, None, None, None, None, None, None, None, None, 39.0, None, None, None, None, None, 27.0, None, None, None, None, None, None, None, None, None, None, None, None, None, None, 5.0, None, None, None, None, None, None, None, None, 48.0, None, None, 35.0, None, None, None, None, None, None, 44.0, None, None, None, None, None, None, None, None, None, None, None, None, None, None, 32.0, None, None, 41.0, None, None, None, None, None, None, None, None, None, None, 35.0, None, 44.0, None, None, None, None, None, None, None, None, 18.0, None, None, None, None, None, None, None, None, None, None, 15.0, 44.0, None, 13.0, None, None, None, 14.0, 7.0, None, None, None, None, None, None, None, None, None, None, None, 29.0, None, None, 10.0, None, None, None, None, 47.0, None, None, None, None, 26.0, None, None, 42.0, None, None, None, None, None, None, None, 33.0, None, None, None, None, None, None, None, 38.0, None, None, None, None, None, None, None, None, None, None, None, None, None, None, 43.0, None, None, None, None, None, None, None, None, None, None, None, None, None, None, 26.0, None, None, None, None, None, None, None, 49.0, None, None, None, None, None, None, None, None, None, None, None, None, None, None, 32.0, None, 16.0, None, 22.0, None, None, None, None, None, None, None, None, None, 12.0, None, None, None, None, None, None, None, None, None, None, None, 38.0, None, None, None, None, None, None, None, None, None, None, None, None, None, None, None, None, None, None, None, None, None, None, None, None, None, None, 41.0, 28.0, None, None, None, None, None, None, None, None, 3.0, None, None, None, 23.0, None, None, None, None, None, None, None, None, None, 2.0, None, None, None, 47.0, None, None, None, None, None, None, None, None, None, None, None, None, None, None, None, None, None, 46.0, None, None, None, 9.0, None, None, 48.0, None, None, None, None, 46.0, None, None, 24.0, None, None, 30.0, None, None, None, None, 18.0, None, None, None, None, None, None, None, None, None, None, 11.0, 42.0, 21.0, None, 43.0, None, None, 19.0, None, None, None, None, None, None, None, None, None, None, None, None, None, None, None, None, None]\n",
            "[None, None, None, 44.0, None, None, None, None, None, None, 25.0, None, 41.0, 19.0, 29.0, None, None, None, 42.0, 33.0, None, None, None, None, None, None, None, None, None, None, None, None, 32.0, None, 21.0, None, None, None, None, None, None, None, None, None, None, None, 12.0, None, None, None, None, 25.0, 49.0, None, 36.0, None, None, None, 30.0, None, None, 35.0, 32.0, None, None, 4.0, None, 40.0, 2.0, None, None, None, 20.0, None, 26.0, None, None, None, 39.0, None, None, None, None, None, 41.0, None, None, None, None, None, None, 17.0, None, 29.0, None, None, 32.0, None, 27.0, None, None, 45.0, None, None, None, None, 43.0, None, 37.0, None, 44.0, None, 45.0, None, None, None, None, None, None, None, None, None, None, 16.0, None, None, None, None, None, None, None, None, None, None, None, None, 40.0, None, None, 39.0, 3.0, None, None, None, 29.0, None, None, 42.0, 25.0, None, None, 50.0, None, None, None, None, 42.0, None, None, 36.0, None, None, 46.0, 40.0, None, None, None, None, None, 28.0, None, None, None, None, None, 43.0, None, None, None, None, 22.0, None, None, None, None, None, None, None, None, None, None, None, None, 10.0, None, 47.0, None, None, None, None, None, None, None, 6.0, None, None, None, None, None, None, None, 48.0, 47.0, None, None, None, None, None, 43.0, None, None, None, None, 31.0, None, None, None, None, 39.0, None, None, None, 23.0, None, None, 47.0, None, None, None, None, None, 20.0, None, None, None, None, None, 49.0, None, None, None, None, None, None, None, None, None, None, None, None, None, None, None, None, None, None, None, None, None, None, None, None, None, 36.0, None, 13.0, None, None, None, None, 35.0, 33.0, None, None, None, None, 30.0, None, None, None, None, None, 34.0, None, None, None, 48.0, None, None, None, None, None, None, None, None, None, 11.0, None, 49.0, None, None, None, None, None, None, None, None, None, None, None, None, None, None, None, None, None, None, None, None, None, None, None, 31.0, 34.0, None, 37.0, None, None, None, None, None, None, None, None, None, None, None, None, None, None, None, None, None, None, None, None, None, None, 38.0, None, 38.0, None, 45.0, 26.0, None, None, None, None, None, None, None, None, 41.0, None, None, None, None, None, 15.0, None, 33.0, 38.0, None, None, None, 6.0, None, None, None, None, None, None, 7.0, None, 35.0, None, None, None, None, None, None, None, None, None, None, None, None, None, 44.0, None, None, 46.0, None, 28.0, None, 30.0, 50.0, None, None, None, None, 27.0, None, None, 18.0, None, None, None, None, None, None, None, 48.0, None, None, 49.0, 23.0, None, None, 37.0, None, 1.0, None, None, None, None, 14.0, None, None, None, None, 41.0, None, None, None, 3.0, None, None, 44.0, None, None, None, None, None, None, None, None, None, None, None, None, None, None, None, None, None, None, 18.0, None, None, None, 19.0, None, None, None, None, 48.0, None, None, 8.0, None, None, 13.0, None, None, 14.0, None, 28.0, 25.0, None, 31.0, None, None, None, None, None, None, 24.0, 38.0, None, None, 8.0, None, 23.0, None, None, None, None, None, None, None, None, None, None, None, None, None, None, 50.0, None, None, None, None, None, None, None]\n",
            "[None, None, None, None, None, None, None, None, 24.0, None, None, None, 5.0, 26.0, None, None, None, None, None, None, None, None, None, None, None, None, None, None, None, None, None, 42.0, None, None, None, None, None, None, 21.0, 38.0, None, None, None, None, None, 25.0, 47.0, None, None, None, None, None, None, None, None, None, None, 21.0, None, None, None, None, 34.0, 40.0, None, 2.0, None, None, 6.0, None, None, None, 1.0, None, None, None, None, None, 15.0, None, 36.0, None, None, None, None, None, 49.0, None, None, None, None, None, None, None, None, None, None, None, None, None, None, None, None, 32.0, None, 37.0, None, None, None, None, None, 47.0, None, None, 50.0, 48.0, 37.0, None, None, 7.0, None, None, None, None, None, None, None, None, None, 34.0, None, None, None, None, None, None, None, None, None, None, 8.0, None, None, None, None, None, None, None, 11.0, None, None, None, None, None, None, None, None, None, None, None, None, 38.0, None, 46.0, None, None, None, 43.0, None, None, None, None, None, None, None, None, 45.0, None, None, None, None, 35.0, None, None, None, None, None, None, None, 17.0, None, 31.0, None, None, None, 41.0, None, None, None, None, None, None, None, 20.0, None, None, None, None, None, None, None, None, 26.0, None, None, None, 33.0, None, 33.0, None, None, None, None, None, None, None, None, None, None, None, None, None, None, None, None, None, None, None, 25.0, None, None, None, None, None, None, None, None, None, None, None, None, None, None, None, None, None, None, None, None, None, None, None, 36.0, None, None, None, None, None, None, None, None, None, None, 10.0, None, None, None, None, None, None, None, None, None, None, None, None, None, None, None, None, None, None, None, None, None, None, None, None, None, None, None, None, None, None, 42.0, None, 22.0, None, None, 19.0, None, None, None, None, None, None, None, None, None, None, None, None, None, None, None, None, None, None, None, None, 27.0, None, None, 14.0, None, None, None, None, None, None, None, None, None, None, None, None, None, None, None, None, None, None, 44.0, 35.0, None, None, None, None, None, None, None, None, None, None, None, None, None, None, None, None, None, 27.0, None, None, None, None, None, None, None, None, 9.0, None, None, None, None, None, None, None, None, None, None, None, None, 43.0, 41.0, None, None, None, None, None, None, None, None, None, None, None, None, None, None, None, None, None, None, None, None, None, None, None, None, None, None, 19.0, 48.0, None, 13.0, None, None, None, None, None, None, None, 46.0, None, None, None, None, None, None, 44.0, None, 4.0, None, 23.0, None, None, 32.0, None, None, None, None, None, None, None, None, 3.0, None, None, None, None, None, None, None, None, None, None, None, None, None, None, None, None, None, None, None, None, 29.0, None, None, None, None, 30.0, 49.0, None, None, None, None, None, None, 39.0, None, None, None, None, None, None, None, None, 16.0, 28.0, 18.0, None, None, None, None, None, None, None, None, None, None, 12.0, None, 45.0, None, None, None, None, 40.0, None, None, None, None, None, None, None, None, None, None, None, None, None, None, None, None, None]\n",
            "[None, None, 27.0, None, None, None, None, None, None, None, None, None, 15.0, 27.0, None, None, 36.0, None, 48.0, None, None, None, None, 31.0, None, None, None, None, None, None, None, 19.0, None, None, None, None, 42.0, None, 34.0, None, 32.0, None, None, None, None, None, 10.0, None, None, None, None, None, None, 49.0, 39.0, 41.0, None, 25.0, 38.0, None, None, None, None, None, 47.0, 5.0, None, None, 6.0, None, None, None, 3.0, None, None, None, None, None, 7.0, None, None, None, None, None, None, None, None, None, None, None, None, None, None, None, None, None, None, None, None, None, None, None, None, None, None, None, None, None, None, None, None, None, None, None, None, None, None, None, None, 33.0, 38.0, None, None, 35.0, None, None, None, 33.0, None, 37.0, None, None, None, None, None, None, None, 36.0, None, None, 30.0, None, None, None, None, None, None, None, 37.0, None, None, None, None, None, None, None, None, 40.0, None, None, None, None, None, 22.0, 6.0, None, None, 50.0, None, None, None, None, None, None, None, None, None, None, None, None, None, None, None, None, None, 44.0, None, 44.0, None, 37.0, None, None, None, None, None, None, None, None, None, 42.0, None, None, None, 14.0, None, None, None, None, None, 29.0, None, None, None, None, None, None, None, None, None, None, None, None, None, None, None, None, None, None, None, None, None, None, None, None, None, None, None, None, None, None, 49.0, 30.0, None, 50.0, None, 45.0, None, None, None, None, None, None, None, None, 33.0, None, 38.0, None, None, None, None, None, None, None, None, 48.0, None, 26.0, None, None, None, None, 48.0, 17.0, 40.0, None, None, None, None, None, 47.0, 32.0, None, 18.0, None, None, 2.0, 50.0, None, None, None, None, None, None, None, None, None, 13.0, None, None, None, None, 32.0, None, None, None, 14.0, 48.0, None, None, None, None, None, None, None, None, None, None, None, None, None, 49.0, None, None, None, None, None, None, None, 1.0, None, None, None, 43.0, None, None, None, None, None, None, None, None, None, None, None, None, None, None, None, 23.0, None, None, None, None, None, None, None, None, None, 34.0, None, 45.0, None, None, None, None, None, None, 46.0, None, None, 41.0, None, 47.0, None, None, None, None, None, None, 21.0, None, None, None, None, None, None, 46.0, None, 46.0, None, 44.0, 20.0, None, None, None, None, None, None, None, None, None, None, None, None, 41.0, None, None, None, 40.0, None, None, None, None, None, None, None, None, None, 49.0, None, None, None, None, 47.0, None, None, None, 8.0, None, None, 26.0, 28.0, None, None, None, None, None, None, None, None, 16.0, None, None, None, 28.0, None, None, None, None, None, None, None, None, None, 11.0, None, None, None, None, None, None, None, None, None, None, 36.0, 34.0, None, None, 37.0, None, 29.0, 31.0, None, None, 44.0, 39.0, None, None, None, 35.0, None, None, None, None, None, None, None, 38.0, None, 50.0, None, None, None, 24.0, None, None, 12.0, None, 9.0, None, None, None, None, None, None, 45.0, 46.0, None, None, 43.0, None, None, None, None, None, None, None, None, None, None, None, None, 43.0, None, None, None, None, None, 34.0, None, None, None, None, None]\n",
            "[None, None, None, None, None, None, None, None, None, None, None, None, 49.0, None, None, None, None, None, 29.0, None, None, 50.0, None, None, 50.0, None, None, None, 34.0, None, 39.0, None, None, None, None, None, None, None, 8.0, None, None, None, None, None, 35.0, None, 23.0, None, 46.0, None, None, None, None, None, None, 26.0, None, 41.0, None, None, None, None, None, None, 36.0, 7.0, None, None, 3.0, None, None, None, 5.0, 48.0, None, None, None, None, 17.0, None, 43.0, None, None, None, 25.0, None, None, None, None, None, 46.0, None, None, 28.0, None, None, None, 25.0, 38.0, None, None, None, None, None, None, None, 30.0, None, None, None, None, None, None, None, None, None, None, None, None, None, None, None, 41.0, None, None, 45.0, None, None, None, None, None, None, 41.0, 37.0, None, None, None, None, None, None, 13.0, None, None, None, None, None, None, None, None, None, None, None, 31.0, None, None, None, None, None, None, None, None, 45.0, None, 11.0, 32.0, None, None, None, None, None, None, 14.0, None, None, None, None, None, None, None, None, None, None, None, 47.0, None, None, None, 18.0, None, 47.0, None, None, None, None, None, 37.0, None, None, None, None, None, 44.0, None, 35.0, 30.0, None, None, None, None, None, None, None, None, None, 43.0, None, 42.0, None, None, None, None, None, None, None, None, None, None, None, None, None, None, None, None, None, None, None, None, None, None, None, None, None, None, None, None, None, None, None, None, 33.0, None, None, None, None, None, None, None, None, None, 34.0, None, None, None, None, None, None, None, None, None, None, None, None, None, 15.0, 32.0, 35.0, None, None, 25.0, None, 27.0, None, None, None, 42.0, None, 26.0, None, None, None, None, None, None, None, 44.0, None, None, None, None, None, None, None, None, 37.0, None, 43.0, 19.0, 10.0, None, None, None, None, None, None, None, 48.0, None, None, None, None, None, None, None, None, None, None, None, 45.0, None, 1.0, None, 40.0, None, 28.0, 49.0, None, None, None, None, None, None, None, None, None, None, None, None, None, None, None, None, None, None, None, None, None, 24.0, None, None, None, None, None, None, None, None, None, 50.0, 39.0, None, None, None, 34.0, None, None, None, None, None, 27.0, None, None, 5.0, None, None, None, None, None, None, None, None, 32.0, None, None, None, None, None, None, None, None, None, None, None, None, None, None, None, None, None, None, None, None, None, None, None, None, None, None, None, None, None, None, None, None, None, None, None, None, None, None, 48.0, None, 47.0, None, None, None, None, None, None, None, None, None, None, 16.0, None, None, None, None, None, None, 38.0, None, None, None, 36.0, None, None, 2.0, None, None, None, None, None, None, None, None, None, None, None, None, None, None, None, None, None, None, None, None, 9.0, None, None, None, None, None, None, 44.0, None, None, None, None, None, None, None, None, None, None, None, 20.0, None, None, 42.0, None, 12.0, None, None, 38.0, None, None, None, 31.0, None, 40.0, 46.0, 21.0, None, None, None, None, 49.0, None, 6.0, None, None, None, None, None, None, None, 22.0, None, None, None, None, None, None, None, None, None]\n",
            "[None, None, None, None, None, None, 38.0, None, None, None, None, None, None, None, 16.0, None, None, None, None, None, None, None, None, None, None, None, None, None, None, None, None, None, None, None, None, 15.0, None, None, 18.0, None, None, None, None, None, None, None, 19.0, None, None, None, 49.0, None, None, None, None, None, None, None, None, None, None, None, None, None, None, 5.0, None, None, 4.0, None, None, None, 12.0, None, None, None, None, None, 9.0, None, None, 32.0, None, None, None, None, None, None, None, None, None, None, None, None, None, None, None, None, 30.0, None, None, None, None, None, None, None, None, None, None, None, None, None, None, None, None, None, None, None, None, None, None, None, None, None, None, None, None, None, None, None, None, None, None, None, None, None, 42.0, None, None, None, 6.0, None, None, None, None, None, None, None, None, 40.0, None, None, None, None, None, None, None, None, None, None, None, None, None, None, 27.0, None, None, None, None, None, 31.0, 45.0, None, None, None, None, None, None, None, None, None, None, None, None, None, None, None, None, None, None, None, None, None, None, None, None, None, None, None, None, None, None, None, None, 37.0, 41.0, 50.0, None, None, None, None, None, None, None, None, None, None, None, None, None, None, None, None, None, None, None, None, None, None, None, None, None, None, None, None, None, None, None, None, None, None, None, None, None, None, 48.0, None, None, None, None, None, None, 35.0, None, None, None, None, None, None, None, None, None, 20.0, None, None, None, None, None, 36.0, None, None, None, None, 33.0, None, None, 44.0, None, None, None, None, None, None, None, None, None, None, None, None, None, None, None, None, None, None, None, None, None, None, None, None, None, None, None, None, None, 17.0, None, None, None, None, None, 24.0, None, None, None, None, None, None, None, None, None, None, None, None, None, None, None, None, 1.0, None, None, None, None, None, None, None, None, 21.0, None, None, None, None, None, None, None, None, None, None, None, None, None, None, None, None, None, None, None, None, None, None, None, None, None, None, None, None, None, None, None, 28.0, None, 47.0, None, None, None, None, None, None, 26.0, 11.0, None, None, None, None, None, None, None, None, None, 29.0, None, 13.0, None, None, None, None, None, None, 10.0, None, 43.0, None, 46.0, None, None, None, None, None, None, None, None, None, None, None, None, None, None, None, None, None, None, None, None, None, None, None, None, None, None, None, None, 14.0, None, None, None, None, None, None, None, None, 3.0, None, None, None, None, None, None, None, None, None, None, None, None, None, 2.0, None, None, None, 22.0, None, None, None, None, None, None, None, None, None, None, None, None, None, None, None, None, 8.0, None, None, None, None, 7.0, None, None, None, None, None, None, None, None, None, None, None, None, None, None, None, None, None, None, 25.0, None, None, None, None, None, None, None, None, None, None, 23.0, None, None, None, None, None, None, 39.0, None, None, None, None, None, 34.0, None, None, None, None, None, None, None, None, None, None, None]\n",
            "[None, None, 44.0, None, None, 41.0, None, None, None, None, None, None, 46.0, None, None, None, None, None, None, None, None, None, None, None, None, None, None, 43.0, None, None, None, None, None, None, None, 44.0, None, 40.0, 5.0, None, None, None, None, 46.0, None, None, 12.0, None, None, 42.0, None, None, None, None, None, None, None, 18.0, None, 40.0, None, None, None, None, None, 8.0, None, None, 4.0, None, None, None, 3.0, None, None, None, 45.0, None, 23.0, None, None, None, None, None, 48.0, None, None, None, None, 34.0, None, None, None, 43.0, None, None, None, None, None, None, None, None, 42.0, None, None, 35.0, 25.0, 48.0, None, None, None, None, None, None, None, None, None, None, None, None, None, None, None, 34.0, None, 35.0, None, None, None, None, None, 39.0, None, None, None, None, None, None, None, None, 34.0, None, None, 22.0, None, None, None, 30.0, 36.0, 37.0, None, None, None, None, None, None, None, None, None, None, None, None, None, None, None, None, None, None, None, None, 24.0, None, None, None, 43.0, None, None, None, 47.0, None, None, None, None, None, None, 31.0, None, None, None, None, None, None, None, None, None, None, None, None, None, None, 50.0, None, 42.0, None, None, 48.0, None, None, None, None, None, 29.0, None, None, None, None, None, None, None, None, None, None, None, None, 49.0, None, None, None, None, None, None, None, None, None, None, None, None, None, None, None, None, 40.0, None, None, 35.0, None, None, None, None, None, None, 27.0, None, None, None, None, None, None, None, None, None, None, 29.0, None, None, None, None, None, None, None, None, None, None, 21.0, None, None, None, 41.0, None, None, None, None, None, None, None, None, None, None, None, None, None, None, None, None, 45.0, None, None, None, None, None, None, None, 45.0, None, None, None, 32.0, 46.0, None, None, None, None, None, 36.0, None, None, None, None, None, None, None, None, None, None, None, None, None, None, None, 1.0, None, None, None, 33.0, None, None, None, None, None, None, None, None, None, None, None, None, None, None, None, None, None, None, None, None, None, None, None, None, None, None, None, None, None, None, None, None, None, 39.0, None, None, 32.0, 50.0, None, None, 11.0, None, None, None, None, None, 15.0, None, None, 31.0, None, None, None, None, 44.0, None, 11.0, None, 13.0, None, None, None, None, None, None, 20.0, None, None, None, 33.0, None, None, None, None, None, None, None, None, None, None, None, None, None, None, None, None, None, None, None, None, 47.0, None, None, 49.0, None, None, None, None, 16.0, None, None, None, None, None, None, None, None, 10.0, None, None, 50.0, None, None, None, None, None, 30.0, None, None, None, None, 2.0, None, None, None, None, None, 47.0, None, None, None, None, None, None, None, None, None, None, None, None, None, None, 26.0, 37.0, 14.0, None, None, 7.0, None, None, None, 9.0, None, None, None, None, None, None, None, None, None, None, None, None, 33.0, None, 19.0, None, None, None, None, None, None, None, None, None, 28.0, 17.0, None, None, None, None, None, None, 38.0, None, None, None, None, None, None, 6.0, 38.0, None, None, None, None, None, None, None, None, None]\n",
            "[None, None, None, None, None, None, None, None, None, None, None, None, None, None, None, None, None, None, None, None, 31.0, None, None, None, None, 44.0, None, None, None, None, None, None, None, None, None, 22.0, None, None, 11.0, None, None, None, None, None, None, None, 15.0, 41.0, None, None, None, None, None, None, None, None, None, None, None, None, None, None, None, 37.0, None, 4.0, None, None, 2.0, None, None, None, 6.0, None, None, None, None, 43.0, 23.0, None, None, None, None, None, None, None, None, None, 38.0, None, None, None, None, None, None, None, None, None, 7.0, None, None, None, None, None, None, None, None, None, None, None, None, None, None, None, None, None, None, None, None, None, None, None, None, None, None, None, None, None, None, None, None, None, None, None, None, None, None, None, None, None, 28.0, None, None, None, None, None, None, None, None, None, None, None, None, None, None, None, None, None, None, None, None, None, None, 35.0, None, None, None, None, None, None, 21.0, None, None, None, None, None, None, None, None, None, None, None, None, None, None, None, None, None, None, None, None, None, None, None, None, 32.0, None, None, None, None, None, None, None, 17.0, None, None, None, None, None, None, None, None, None, None, None, None, None, None, None, None, None, None, None, None, None, None, None, None, None, None, None, None, None, None, None, None, None, None, None, None, None, None, None, None, None, None, None, None, None, None, None, None, None, None, None, None, None, None, None, None, None, None, None, None, None, None, None, None, None, None, None, None, None, None, None, None, None, None, None, None, None, None, None, None, None, None, 19.0, None, None, 48.0, None, None, None, None, None, None, None, None, None, None, None, None, None, None, None, None, 13.0, None, None, None, None, None, None, None, None, None, None, None, None, None, None, None, None, None, None, None, None, None, None, 1.0, None, None, None, None, None, None, None, None, None, 46.0, None, None, None, None, None, None, None, None, None, None, None, None, None, None, None, None, None, None, None, None, None, None, None, None, None, None, None, None, None, None, None, None, None, None, None, None, None, None, None, None, 14.0, None, None, None, None, None, None, None, None, None, 3.0, None, 8.0, None, None, None, None, 25.0, None, 33.0, None, None, None, None, None, None, None, None, None, None, None, None, None, None, None, None, None, None, 47.0, None, None, None, None, None, None, None, None, None, None, None, None, None, 24.0, None, None, None, None, None, None, None, None, 12.0, None, None, None, 26.0, None, None, None, None, None, None, None, None, None, 5.0, None, None, None, None, None, 49.0, None, None, None, 18.0, None, None, None, None, None, None, None, None, None, None, 39.0, None, None, None, 50.0, 10.0, None, None, None, 9.0, None, None, None, 40.0, None, 16.0, None, None, 45.0, None, None, None, None, None, 27.0, None, None, None, None, None, None, None, None, None, None, 30.0, None, 20.0, None, None, None, 36.0, None, None, None, None, None, 42.0, None, 29.0, None, 34.0, None, None, None, None, None, None, None, None]\n",
            "[29.0, None, None, None, None, None, None, None, None, None, None, None, None, None, None, None, None, None, 48.0, None, None, None, None, None, None, None, None, None, None, 43.0, None, None, None, None, None, 47.0, None, 32.0, 4.0, None, None, None, None, None, None, None, 13.0, None, None, None, None, None, None, None, None, None, None, None, None, None, None, None, None, 26.0, None, 9.0, None, None, 3.0, None, None, None, 2.0, None, None, None, None, None, 32.0, None, None, None, None, None, 31.0, None, None, None, None, None, None, None, None, None, None, None, None, None, 36.0, None, None, None, None, None, None, None, None, None, 33.0, None, None, None, None, None, None, None, None, None, 20.0, None, None, None, None, 19.0, None, None, None, None, None, None, None, None, None, None, None, None, 21.0, None, None, None, 22.0, None, None, None, 28.0, None, None, 18.0, None, None, None, None, None, None, None, None, None, None, None, None, None, None, None, None, None, None, None, None, None, None, None, None, None, 10.0, None, None, None, None, None, None, None, None, None, None, None, None, None, None, None, None, None, None, 42.0, None, None, None, None, None, None, None, None, None, None, 14.0, None, None, None, None, None, None, None, None, 16.0, None, None, None, None, None, 40.0, 43.0, None, None, None, None, None, None, 50.0, None, None, None, None, None, None, None, None, None, None, None, None, None, None, None, None, None, None, None, None, None, None, None, None, None, None, None, 11.0, None, None, None, 15.0, None, None, None, 33.0, None, None, None, None, None, None, None, None, None, None, 8.0, None, None, None, None, None, None, None, None, 26.0, None, None, None, None, None, None, None, None, None, None, None, None, 47.0, None, None, 49.0, None, None, None, None, None, None, None, None, None, None, None, None, None, None, None, None, None, None, None, None, None, None, None, 37.0, 27.0, 44.0, None, None, None, None, 1.0, None, None, None, None, None, 34.0, None, None, None, None, None, 31.0, None, None, None, None, None, None, None, None, None, 39.0, None, None, None, None, None, None, None, None, None, None, None, None, None, None, None, None, None, 35.0, None, None, 40.0, None, None, None, None, None, None, None, 29.0, None, 37.0, None, None, None, None, None, 22.0, None, 38.0, None, 12.0, None, None, 46.0, None, None, None, None, None, None, 41.0, None, None, None, None, None, None, None, 25.0, None, None, None, None, None, None, None, None, None, None, None, None, None, None, None, None, None, None, None, None, None, 24.0, None, None, None, None, None, None, None, None, 34.0, 30.0, None, None, 45.0, None, None, None, None, None, None, None, None, None, 7.0, None, None, None, 23.0, 24.0, None, None, None, None, None, None, 16.0, None, None, None, None, None, None, None, None, None, None, None, None, None, 45.0, None, None, None, 6.0, None, None, None, None, None, 28.0, None, None, None, None, None, None, 49.0, None, 17.0, None, None, None, None, None, None, None, None, 46.0, None, 25.0, None, None, None, None, None, None, 5.0, 41.0, None, None, None, None, None, None, 23.0, None, None, None, None, None, None, None, None, None]\n"
          ],
          "name": "stdout"
        }
      ]
    },
    {
      "cell_type": "code",
      "metadata": {
        "id": "3BiOc6onigdV",
        "colab_type": "code",
        "colab": {}
      },
      "source": [
        ""
      ],
      "execution_count": null,
      "outputs": []
    },
    {
      "cell_type": "markdown",
      "metadata": {
        "id": "wob_3zLrX1H1",
        "colab_type": "text"
      },
      "source": [
        "##Query for product"
      ]
    },
    {
      "cell_type": "code",
      "metadata": {
        "id": "kb_YRx1QihhV",
        "colab_type": "code",
        "colab": {
          "base_uri": "https://localhost:8080/",
          "height": 35
        },
        "outputId": "0b50c1e9-c667-42de-b55a-8ea5c5f98ccc"
      },
      "source": [
        "products[10]"
      ],
      "execution_count": 138,
      "outputs": [
        {
          "output_type": "execute_result",
          "data": {
            "application/vnd.google.colaboratory.intrinsic+json": {
              "type": "string"
            },
            "text/plain": [
              "'Re'"
            ]
          },
          "metadata": {
            "tags": []
          },
          "execution_count": 138
        }
      ]
    },
    {
      "cell_type": "code",
      "metadata": {
        "id": "g2TuqGRukhs4",
        "colab_type": "code",
        "colab": {
          "base_uri": "https://localhost:8080/",
          "height": 340
        },
        "outputId": "7eeb59ed-7e19-43ad-a7ba-f073784dfc77"
      },
      "source": [
        "database_type = 'mysql'\n",
        "\n",
        "user = 'user_name'\n",
        "password = 'password'\n",
        "host = 'xxx.xxx.xxx.xxx:port'\n",
        "database = 'database_name'\n",
        "\n",
        "conn_string = '{}://{}:{}@{}/{}'.format(database_type, user, password, host, database)\n",
        "\n",
        "sql_conn = sql.create_engine(conn_string)"
      ],
      "execution_count": 148,
      "outputs": [
        {
          "output_type": "error",
          "ename": "ValueError",
          "evalue": "ignored",
          "traceback": [
            "\u001b[0;31m---------------------------------------------------------------------------\u001b[0m",
            "\u001b[0;31mValueError\u001b[0m                                Traceback (most recent call last)",
            "\u001b[0;32m<ipython-input-148-528f222cb9fb>\u001b[0m in \u001b[0;36m<module>\u001b[0;34m()\u001b[0m\n\u001b[1;32m      8\u001b[0m \u001b[0mconn_string\u001b[0m \u001b[0;34m=\u001b[0m \u001b[0;34m'{}://{}:{}@{}/{}'\u001b[0m\u001b[0;34m.\u001b[0m\u001b[0mformat\u001b[0m\u001b[0;34m(\u001b[0m\u001b[0mdatabase_type\u001b[0m\u001b[0;34m,\u001b[0m \u001b[0muser\u001b[0m\u001b[0;34m,\u001b[0m \u001b[0mpassword\u001b[0m\u001b[0;34m,\u001b[0m \u001b[0mhost\u001b[0m\u001b[0;34m,\u001b[0m \u001b[0mdatabase\u001b[0m\u001b[0;34m)\u001b[0m\u001b[0;34m\u001b[0m\u001b[0;34m\u001b[0m\u001b[0m\n\u001b[1;32m      9\u001b[0m \u001b[0;34m\u001b[0m\u001b[0m\n\u001b[0;32m---> 10\u001b[0;31m \u001b[0msql_conn\u001b[0m \u001b[0;34m=\u001b[0m \u001b[0msql\u001b[0m\u001b[0;34m.\u001b[0m\u001b[0mcreate_engine\u001b[0m\u001b[0;34m(\u001b[0m\u001b[0mconn_string\u001b[0m\u001b[0;34m)\u001b[0m\u001b[0;34m\u001b[0m\u001b[0;34m\u001b[0m\u001b[0m\n\u001b[0m",
            "\u001b[0;32m/usr/local/lib/python3.6/dist-packages/sqlalchemy/engine/__init__.py\u001b[0m in \u001b[0;36mcreate_engine\u001b[0;34m(*args, **kwargs)\u001b[0m\n\u001b[1;32m    498\u001b[0m     \u001b[0mstrategy\u001b[0m \u001b[0;34m=\u001b[0m \u001b[0mkwargs\u001b[0m\u001b[0;34m.\u001b[0m\u001b[0mpop\u001b[0m\u001b[0;34m(\u001b[0m\u001b[0;34m\"strategy\"\u001b[0m\u001b[0;34m,\u001b[0m \u001b[0mdefault_strategy\u001b[0m\u001b[0;34m)\u001b[0m\u001b[0;34m\u001b[0m\u001b[0;34m\u001b[0m\u001b[0m\n\u001b[1;32m    499\u001b[0m     \u001b[0mstrategy\u001b[0m \u001b[0;34m=\u001b[0m \u001b[0mstrategies\u001b[0m\u001b[0;34m.\u001b[0m\u001b[0mstrategies\u001b[0m\u001b[0;34m[\u001b[0m\u001b[0mstrategy\u001b[0m\u001b[0;34m]\u001b[0m\u001b[0;34m\u001b[0m\u001b[0;34m\u001b[0m\u001b[0m\n\u001b[0;32m--> 500\u001b[0;31m     \u001b[0;32mreturn\u001b[0m \u001b[0mstrategy\u001b[0m\u001b[0;34m.\u001b[0m\u001b[0mcreate\u001b[0m\u001b[0;34m(\u001b[0m\u001b[0;34m*\u001b[0m\u001b[0margs\u001b[0m\u001b[0;34m,\u001b[0m \u001b[0;34m**\u001b[0m\u001b[0mkwargs\u001b[0m\u001b[0;34m)\u001b[0m\u001b[0;34m\u001b[0m\u001b[0;34m\u001b[0m\u001b[0m\n\u001b[0m\u001b[1;32m    501\u001b[0m \u001b[0;34m\u001b[0m\u001b[0m\n\u001b[1;32m    502\u001b[0m \u001b[0;34m\u001b[0m\u001b[0m\n",
            "\u001b[0;32m/usr/local/lib/python3.6/dist-packages/sqlalchemy/engine/strategies.py\u001b[0m in \u001b[0;36mcreate\u001b[0;34m(self, name_or_url, **kwargs)\u001b[0m\n\u001b[1;32m     52\u001b[0m     \u001b[0;32mdef\u001b[0m \u001b[0mcreate\u001b[0m\u001b[0;34m(\u001b[0m\u001b[0mself\u001b[0m\u001b[0;34m,\u001b[0m \u001b[0mname_or_url\u001b[0m\u001b[0;34m,\u001b[0m \u001b[0;34m**\u001b[0m\u001b[0mkwargs\u001b[0m\u001b[0;34m)\u001b[0m\u001b[0;34m:\u001b[0m\u001b[0;34m\u001b[0m\u001b[0;34m\u001b[0m\u001b[0m\n\u001b[1;32m     53\u001b[0m         \u001b[0;31m# create url.URL object\u001b[0m\u001b[0;34m\u001b[0m\u001b[0;34m\u001b[0m\u001b[0;34m\u001b[0m\u001b[0m\n\u001b[0;32m---> 54\u001b[0;31m         \u001b[0mu\u001b[0m \u001b[0;34m=\u001b[0m \u001b[0murl\u001b[0m\u001b[0;34m.\u001b[0m\u001b[0mmake_url\u001b[0m\u001b[0;34m(\u001b[0m\u001b[0mname_or_url\u001b[0m\u001b[0;34m)\u001b[0m\u001b[0;34m\u001b[0m\u001b[0;34m\u001b[0m\u001b[0m\n\u001b[0m\u001b[1;32m     55\u001b[0m \u001b[0;34m\u001b[0m\u001b[0m\n\u001b[1;32m     56\u001b[0m         \u001b[0mplugins\u001b[0m \u001b[0;34m=\u001b[0m \u001b[0mu\u001b[0m\u001b[0;34m.\u001b[0m\u001b[0m_instantiate_plugins\u001b[0m\u001b[0;34m(\u001b[0m\u001b[0mkwargs\u001b[0m\u001b[0;34m)\u001b[0m\u001b[0;34m\u001b[0m\u001b[0;34m\u001b[0m\u001b[0m\n",
            "\u001b[0;32m/usr/local/lib/python3.6/dist-packages/sqlalchemy/engine/url.py\u001b[0m in \u001b[0;36mmake_url\u001b[0;34m(name_or_url)\u001b[0m\n\u001b[1;32m    227\u001b[0m \u001b[0;34m\u001b[0m\u001b[0m\n\u001b[1;32m    228\u001b[0m     \u001b[0;32mif\u001b[0m \u001b[0misinstance\u001b[0m\u001b[0;34m(\u001b[0m\u001b[0mname_or_url\u001b[0m\u001b[0;34m,\u001b[0m \u001b[0mutil\u001b[0m\u001b[0;34m.\u001b[0m\u001b[0mstring_types\u001b[0m\u001b[0;34m)\u001b[0m\u001b[0;34m:\u001b[0m\u001b[0;34m\u001b[0m\u001b[0;34m\u001b[0m\u001b[0m\n\u001b[0;32m--> 229\u001b[0;31m         \u001b[0;32mreturn\u001b[0m \u001b[0m_parse_rfc1738_args\u001b[0m\u001b[0;34m(\u001b[0m\u001b[0mname_or_url\u001b[0m\u001b[0;34m)\u001b[0m\u001b[0;34m\u001b[0m\u001b[0;34m\u001b[0m\u001b[0m\n\u001b[0m\u001b[1;32m    230\u001b[0m     \u001b[0;32melse\u001b[0m\u001b[0;34m:\u001b[0m\u001b[0;34m\u001b[0m\u001b[0;34m\u001b[0m\u001b[0m\n\u001b[1;32m    231\u001b[0m         \u001b[0;32mreturn\u001b[0m \u001b[0mname_or_url\u001b[0m\u001b[0;34m\u001b[0m\u001b[0;34m\u001b[0m\u001b[0m\n",
            "\u001b[0;32m/usr/local/lib/python3.6/dist-packages/sqlalchemy/engine/url.py\u001b[0m in \u001b[0;36m_parse_rfc1738_args\u001b[0;34m(name)\u001b[0m\n\u001b[1;32m    286\u001b[0m         \u001b[0mcomponents\u001b[0m\u001b[0;34m[\u001b[0m\u001b[0;34m\"host\"\u001b[0m\u001b[0;34m]\u001b[0m \u001b[0;34m=\u001b[0m \u001b[0mipv4host\u001b[0m \u001b[0;32mor\u001b[0m \u001b[0mipv6host\u001b[0m\u001b[0;34m\u001b[0m\u001b[0;34m\u001b[0m\u001b[0m\n\u001b[1;32m    287\u001b[0m         \u001b[0mname\u001b[0m \u001b[0;34m=\u001b[0m \u001b[0mcomponents\u001b[0m\u001b[0;34m.\u001b[0m\u001b[0mpop\u001b[0m\u001b[0;34m(\u001b[0m\u001b[0;34m\"name\"\u001b[0m\u001b[0;34m)\u001b[0m\u001b[0;34m\u001b[0m\u001b[0;34m\u001b[0m\u001b[0m\n\u001b[0;32m--> 288\u001b[0;31m         \u001b[0;32mreturn\u001b[0m \u001b[0mURL\u001b[0m\u001b[0;34m(\u001b[0m\u001b[0mname\u001b[0m\u001b[0;34m,\u001b[0m \u001b[0;34m**\u001b[0m\u001b[0mcomponents\u001b[0m\u001b[0;34m)\u001b[0m\u001b[0;34m\u001b[0m\u001b[0;34m\u001b[0m\u001b[0m\n\u001b[0m\u001b[1;32m    289\u001b[0m     \u001b[0;32melse\u001b[0m\u001b[0;34m:\u001b[0m\u001b[0;34m\u001b[0m\u001b[0;34m\u001b[0m\u001b[0m\n\u001b[1;32m    290\u001b[0m         raise exc.ArgumentError(\n",
            "\u001b[0;32m/usr/local/lib/python3.6/dist-packages/sqlalchemy/engine/url.py\u001b[0m in \u001b[0;36m__init__\u001b[0;34m(self, drivername, username, password, host, port, database, query)\u001b[0m\n\u001b[1;32m     69\u001b[0m         \u001b[0mself\u001b[0m\u001b[0;34m.\u001b[0m\u001b[0mhost\u001b[0m \u001b[0;34m=\u001b[0m \u001b[0mhost\u001b[0m\u001b[0;34m\u001b[0m\u001b[0;34m\u001b[0m\u001b[0m\n\u001b[1;32m     70\u001b[0m         \u001b[0;32mif\u001b[0m \u001b[0mport\u001b[0m \u001b[0;32mis\u001b[0m \u001b[0;32mnot\u001b[0m \u001b[0;32mNone\u001b[0m\u001b[0;34m:\u001b[0m\u001b[0;34m\u001b[0m\u001b[0;34m\u001b[0m\u001b[0m\n\u001b[0;32m---> 71\u001b[0;31m             \u001b[0mself\u001b[0m\u001b[0;34m.\u001b[0m\u001b[0mport\u001b[0m \u001b[0;34m=\u001b[0m \u001b[0mint\u001b[0m\u001b[0;34m(\u001b[0m\u001b[0mport\u001b[0m\u001b[0;34m)\u001b[0m\u001b[0;34m\u001b[0m\u001b[0;34m\u001b[0m\u001b[0m\n\u001b[0m\u001b[1;32m     72\u001b[0m         \u001b[0;32melse\u001b[0m\u001b[0;34m:\u001b[0m\u001b[0;34m\u001b[0m\u001b[0;34m\u001b[0m\u001b[0m\n\u001b[1;32m     73\u001b[0m             \u001b[0mself\u001b[0m\u001b[0;34m.\u001b[0m\u001b[0mport\u001b[0m \u001b[0;34m=\u001b[0m \u001b[0;32mNone\u001b[0m\u001b[0;34m\u001b[0m\u001b[0;34m\u001b[0m\u001b[0m\n",
            "\u001b[0;31mValueError\u001b[0m: invalid literal for int() with base 10: 'port'"
          ]
        }
      ]
    },
    {
      "cell_type": "code",
      "metadata": {
        "id": "WUalokUKj4HL",
        "colab_type": "code",
        "colab": {}
      },
      "source": [
        "query_sql = '''\n",
        "SELECT time, Product Names, rank\n",
        "from \n",
        "'''"
      ],
      "execution_count": null,
      "outputs": []
    },
    {
      "cell_type": "code",
      "metadata": {
        "id": "q9POYDtEhxjG",
        "colab_type": "code",
        "colab": {
          "base_uri": "https://localhost:8080/",
          "height": 759
        },
        "outputId": "b4b0afad-a9ae-488a-8e65-da9595a46794"
      },
      "source": [
        "music_db = df\n",
        "music_db"
      ],
      "execution_count": 144,
      "outputs": [
        {
          "output_type": "execute_result",
          "data": {
            "text/html": [
              "<div>\n",
              "<style scoped>\n",
              "    .dataframe tbody tr th:only-of-type {\n",
              "        vertical-align: middle;\n",
              "    }\n",
              "\n",
              "    .dataframe tbody tr th {\n",
              "        vertical-align: top;\n",
              "    }\n",
              "\n",
              "    .dataframe thead th {\n",
              "        text-align: right;\n",
              "    }\n",
              "</style>\n",
              "<table border=\"1\" class=\"dataframe\">\n",
              "  <thead>\n",
              "    <tr style=\"text-align: right;\">\n",
              "      <th></th>\n",
              "      <th>time</th>\n",
              "      <th>Rank</th>\n",
              "      <th>Product Names</th>\n",
              "      <th>Image urls</th>\n",
              "      <th>Product links</th>\n",
              "      <th>Stars</th>\n",
              "      <th>Reviews</th>\n",
              "      <th>Authors/Company</th>\n",
              "      <th>Edition/Console</th>\n",
              "      <th>Price_std_or_min</th>\n",
              "      <th>Max_prices</th>\n",
              "    </tr>\n",
              "  </thead>\n",
              "  <tbody>\n",
              "    <tr>\n",
              "      <th>3763</th>\n",
              "      <td>2020-07-31 00:38</td>\n",
              "      <td>14.0</td>\n",
              "      <td>Map Of The Soul: Persona</td>\n",
              "      <td>https://images-na.ssl-images-amazon.com/images...</td>\n",
              "      <td>https://www.amazon.com.mx/Map-Soul-Persona-BTS...</td>\n",
              "      <td>4.8</td>\n",
              "      <td>2464.0</td>\n",
              "      <td>BTS</td>\n",
              "      <td>Audio CD</td>\n",
              "      <td>432.86</td>\n",
              "      <td>None</td>\n",
              "    </tr>\n",
              "    <tr>\n",
              "      <th>3773</th>\n",
              "      <td>2020-07-31 00:38</td>\n",
              "      <td>24.0</td>\n",
              "      <td>Love Yourself: Her (Random cover, incl. 100-pa...</td>\n",
              "      <td>https://images-na.ssl-images-amazon.com/images...</td>\n",
              "      <td>https://www.amazon.com.mx/Love-Yourself-Her-BT...</td>\n",
              "      <td>4.7</td>\n",
              "      <td>900.0</td>\n",
              "      <td>BTS</td>\n",
              "      <td>Audio CD</td>\n",
              "      <td>688.00</td>\n",
              "      <td>None</td>\n",
              "    </tr>\n",
              "    <tr>\n",
              "      <th>3772</th>\n",
              "      <td>2020-07-31 00:38</td>\n",
              "      <td>23.0</td>\n",
              "      <td>Harry Styles (Edición Especial) (Vinyl)</td>\n",
              "      <td>https://images-na.ssl-images-amazon.com/images...</td>\n",
              "      <td>https://www.amazon.com.mx/Harry-Styles-Edici%C...</td>\n",
              "      <td>4.7</td>\n",
              "      <td>1388.0</td>\n",
              "      <td>Harry Styles</td>\n",
              "      <td>Vinil</td>\n",
              "      <td>1223.28</td>\n",
              "      <td>None</td>\n",
              "    </tr>\n",
              "    <tr>\n",
              "      <th>3771</th>\n",
              "      <td>2020-07-31 00:38</td>\n",
              "      <td>22.0</td>\n",
              "      <td>Blurryface (Vinyl)</td>\n",
              "      <td>https://images-na.ssl-images-amazon.com/images...</td>\n",
              "      <td>https://www.amazon.com.mx/Blurryface-Vinyl-Twe...</td>\n",
              "      <td>4.7</td>\n",
              "      <td>2255.0</td>\n",
              "      <td>Twenty One Pilots</td>\n",
              "      <td>Vinil</td>\n",
              "      <td>561.00</td>\n",
              "      <td>None</td>\n",
              "    </tr>\n",
              "    <tr>\n",
              "      <th>3769</th>\n",
              "      <td>2020-07-31 00:38</td>\n",
              "      <td>20.0</td>\n",
              "      <td>Up All Night</td>\n",
              "      <td>https://images-na.ssl-images-amazon.com/images...</td>\n",
              "      <td>https://www.amazon.com.mx/Up-All-Night-One-Dir...</td>\n",
              "      <td>4.7</td>\n",
              "      <td>1108.0</td>\n",
              "      <td>One Direction</td>\n",
              "      <td>Audio CD</td>\n",
              "      <td>127.00</td>\n",
              "      <td>None</td>\n",
              "    </tr>\n",
              "    <tr>\n",
              "      <th>...</th>\n",
              "      <td>...</td>\n",
              "      <td>...</td>\n",
              "      <td>...</td>\n",
              "      <td>...</td>\n",
              "      <td>...</td>\n",
              "      <td>...</td>\n",
              "      <td>...</td>\n",
              "      <td>...</td>\n",
              "      <td>...</td>\n",
              "      <td>...</td>\n",
              "      <td>...</td>\n",
              "    </tr>\n",
              "    <tr>\n",
              "      <th>19</th>\n",
              "      <td>2020-08-13 20:46</td>\n",
              "      <td>20.0</td>\n",
              "      <td>Is This It (Vinyl)</td>\n",
              "      <td>https://images-na.ssl-images-amazon.com/images...</td>\n",
              "      <td>https://www.amazon.com.mx/This-Vinyl-Strokes/d...</td>\n",
              "      <td>4.3</td>\n",
              "      <td>575.0</td>\n",
              "      <td>The Strokes</td>\n",
              "      <td>Vinil</td>\n",
              "      <td>392.25</td>\n",
              "      <td>None</td>\n",
              "    </tr>\n",
              "    <tr>\n",
              "      <th>20</th>\n",
              "      <td>2020-08-13 20:46</td>\n",
              "      <td>21.0</td>\n",
              "      <td>Caifanes</td>\n",
              "      <td>https://images-na.ssl-images-amazon.com/images...</td>\n",
              "      <td>https://www.amazon.com.mx/Caifanes/dp/B00WKNGH...</td>\n",
              "      <td>4.4</td>\n",
              "      <td>132.0</td>\n",
              "      <td>Caifanes</td>\n",
              "      <td>Audio CD</td>\n",
              "      <td>99.00</td>\n",
              "      <td>None</td>\n",
              "    </tr>\n",
              "    <tr>\n",
              "      <th>21</th>\n",
              "      <td>2020-08-13 20:46</td>\n",
              "      <td>22.0</td>\n",
              "      <td>Black Pumas (Vinyl)</td>\n",
              "      <td>https://images-na.ssl-images-amazon.com/images...</td>\n",
              "      <td>https://www.amazon.com.mx/Black-Pumas-Vinyl/dp...</td>\n",
              "      <td>NaN</td>\n",
              "      <td>NaN</td>\n",
              "      <td>Black Pumas</td>\n",
              "      <td>Vinil</td>\n",
              "      <td>1162.03</td>\n",
              "      <td>None</td>\n",
              "    </tr>\n",
              "    <tr>\n",
              "      <th>11</th>\n",
              "      <td>2020-08-13 20:46</td>\n",
              "      <td>12.0</td>\n",
              "      <td>Dynasty (Vinyl) [Importado]</td>\n",
              "      <td>https://images-na.ssl-images-amazon.com/images...</td>\n",
              "      <td>https://www.amazon.com.mx/Dynasty-Vinyl-Import...</td>\n",
              "      <td>4.6</td>\n",
              "      <td>239.0</td>\n",
              "      <td>Kiss</td>\n",
              "      <td>Vinil</td>\n",
              "      <td>NaN</td>\n",
              "      <td>None</td>\n",
              "    </tr>\n",
              "    <tr>\n",
              "      <th>49</th>\n",
              "      <td>2020-08-13 20:46</td>\n",
              "      <td>50.0</td>\n",
              "      <td>Random Access Memories</td>\n",
              "      <td>https://images-na.ssl-images-amazon.com/images...</td>\n",
              "      <td>https://www.amazon.com.mx/Random-Access-Memori...</td>\n",
              "      <td>4.5</td>\n",
              "      <td>2955.0</td>\n",
              "      <td>Daft Punk</td>\n",
              "      <td>Audio CD</td>\n",
              "      <td>194.32</td>\n",
              "      <td>None</td>\n",
              "    </tr>\n",
              "  </tbody>\n",
              "</table>\n",
              "<p>6850 rows × 11 columns</p>\n",
              "</div>"
            ],
            "text/plain": [
              "                  time  Rank  ... Price_std_or_min Max_prices\n",
              "3763  2020-07-31 00:38  14.0  ...           432.86       None\n",
              "3773  2020-07-31 00:38  24.0  ...           688.00       None\n",
              "3772  2020-07-31 00:38  23.0  ...          1223.28       None\n",
              "3771  2020-07-31 00:38  22.0  ...           561.00       None\n",
              "3769  2020-07-31 00:38  20.0  ...           127.00       None\n",
              "...                ...   ...  ...              ...        ...\n",
              "19    2020-08-13 20:46  20.0  ...           392.25       None\n",
              "20    2020-08-13 20:46  21.0  ...            99.00       None\n",
              "21    2020-08-13 20:46  22.0  ...          1162.03       None\n",
              "11    2020-08-13 20:46  12.0  ...              NaN       None\n",
              "49    2020-08-13 20:46  50.0  ...           194.32       None\n",
              "\n",
              "[6850 rows x 11 columns]"
            ]
          },
          "metadata": {
            "tags": []
          },
          "execution_count": 144
        }
      ]
    }
  ]
}