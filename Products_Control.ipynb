{
  "nbformat": 4,
  "nbformat_minor": 0,
  "metadata": {
    "colab": {
      "name": "Products_Control.ipynb",
      "provenance": [],
      "collapsed_sections": [],
      "toc_visible": true,
      "include_colab_link": true
    },
    "kernelspec": {
      "name": "python3",
      "display_name": "Python 3"
    }
  },
  "cells": [
    {
      "cell_type": "markdown",
      "metadata": {
        "id": "view-in-github",
        "colab_type": "text"
      },
      "source": [
        "<a href=\"https://colab.research.google.com/github/Edward-TL/amazon_scraper/blob/master/Products_Control.ipynb\" target=\"_parent\"><img src=\"https://colab.research.google.com/assets/colab-badge.svg\" alt=\"Open In Colab\"/></a>"
      ]
    },
    {
      "cell_type": "markdown",
      "metadata": {
        "id": "iFpwmSDo89NU",
        "colab_type": "text"
      },
      "source": [
        "#Start"
      ]
    },
    {
      "cell_type": "code",
      "metadata": {
        "id": "y3UwmIu89Dhk",
        "colab_type": "code",
        "colab": {
          "base_uri": "https://localhost:8080/",
          "height": 34
        },
        "outputId": "d25f37ad-42d2-48bd-a996-4420fa7e08fb"
      },
      "source": [
        "from google.colab import drive\n",
        "drive.mount('/content/drive')"
      ],
      "execution_count": null,
      "outputs": [
        {
          "output_type": "stream",
          "text": [
            "Drive already mounted at /content/drive; to attempt to forcibly remount, call drive.mount(\"/content/drive\", force_remount=True).\n"
          ],
          "name": "stdout"
        }
      ]
    },
    {
      "cell_type": "markdown",
      "metadata": {
        "id": "zsyDnFS29FZ9",
        "colab_type": "text"
      },
      "source": [
        "#Import"
      ]
    },
    {
      "cell_type": "code",
      "metadata": {
        "id": "kZISofJV9Fl2",
        "colab_type": "code",
        "colab": {}
      },
      "source": [
        "#For the system\n",
        "import os\n",
        "\n",
        "#Manage of time\n",
        "from datetime import datetime, timedelta\n",
        "from pytz import timezone\n",
        "import time\n",
        "\n",
        "#Manage of files\n",
        "import pandas as pd\n",
        "import csv\n",
        "import numpy as np\n",
        "\n",
        "#scrap\n",
        "from bs4 import BeautifulSoup\n",
        "from openpyxl.workbook import Workbook\n",
        "import requests"
      ],
      "execution_count": null,
      "outputs": []
    },
    {
      "cell_type": "markdown",
      "metadata": {
        "id": "-B3sfl7QBYdZ",
        "colab_type": "text"
      },
      "source": [
        "#Go to folder"
      ]
    },
    {
      "cell_type": "markdown",
      "metadata": {
        "id": "hGcBkNnQ1KZ3",
        "colab_type": "text"
      },
      "source": [
        "Hay que considerar que se trabajara con las bases de datos (cualquier formato) y con las carpetas de control de product. Por ello, es que se inicia en la carpeta que permite seleccionar esto. Recordando:\n",
        "*  Masters: Se encuentran las bases de datos, organizadas por tipo de archivo.\n",
        "*  Origin: Primeros experimentos, se encuentran los archivos originales por consulta, divididos por país y categoría del país.\n",
        "*   Products: Dónde se pretende almacenar las base de características de productos."
      ]
    },
    {
      "cell_type": "code",
      "metadata": {
        "id": "1qUDSX-SBSGK",
        "colab_type": "code",
        "colab": {
          "base_uri": "https://localhost:8080/",
          "height": 68
        },
        "outputId": "4729bbbd-5cab-4f76-f213-743efcff6407"
      },
      "source": [
        "%cd 'drive/My Drive/Colab Notebooks/4SS/4SS_db/testing'\n",
        "!ls"
      ],
      "execution_count": null,
      "outputs": [
        {
          "output_type": "stream",
          "text": [
            "[Errno 2] No such file or directory: 'drive/My Drive/Colab Notebooks/4SS/4SS_db/testing'\n",
            "/content/drive/My Drive/Colab Notebooks/4SS/4SS_db/testing\n",
            "Masters  Origin  Products\n"
          ],
          "name": "stdout"
        }
      ]
    },
    {
      "cell_type": "markdown",
      "metadata": {
        "id": "si4wTbhl6Ont",
        "colab_type": "text"
      },
      "source": [
        "#Tools"
      ]
    },
    {
      "cell_type": "markdown",
      "metadata": {
        "id": "_eb_Adiq6Qz5",
        "colab_type": "text"
      },
      "source": [
        "##Centered Len"
      ]
    },
    {
      "cell_type": "code",
      "metadata": {
        "id": "2Pl3_KTM6SzC",
        "colab_type": "code",
        "colab": {}
      },
      "source": [
        ""
      ],
      "execution_count": null,
      "outputs": []
    },
    {
      "cell_type": "markdown",
      "metadata": {
        "id": "u22BYwCD6SGS",
        "colab_type": "text"
      },
      "source": [
        "#Count if"
      ]
    },
    {
      "cell_type": "code",
      "metadata": {
        "id": "1_7XA6I76U3z",
        "colab_type": "code",
        "colab": {}
      },
      "source": [
        "def count_if(array, value):\n",
        "    count = 0\n",
        "    for element in array:\n",
        "        if element == value:\n",
        "            count += 1\n",
        "    return count"
      ],
      "execution_count": null,
      "outputs": []
    },
    {
      "cell_type": "markdown",
      "metadata": {
        "id": "qVvuJLAGMIyi",
        "colab_type": "text"
      },
      "source": [
        "#Standarize dates"
      ]
    },
    {
      "cell_type": "code",
      "metadata": {
        "id": "MWZ93CLnMHkz",
        "colab_type": "code",
        "colab": {}
      },
      "source": [
        "def standarize_dates(date):\n",
        "    check = False\n",
        "    try:\n",
        "        date = datetime.strptime(str(date), '%Y-%m-%d %H:%M:%S.%f')\n",
        "        check = True\n",
        "    except ValueError:\n",
        "        try:\n",
        "            date = datetime.strptime(str(date), '%Y-%m-%d %H:%M:%S')\n",
        "            check = True\n",
        "        except:\n",
        "            try:\n",
        "                date = datetime.strptime(str(date), '%Y-%m-%d %H_%M')\n",
        "                check = True\n",
        "            except:\n",
        "                pass\n",
        "    if check == True:\n",
        "        date = date.strftime('%Y-%m-%d %H:%M')\n",
        "    \n",
        "    return date"
      ],
      "execution_count": null,
      "outputs": []
    },
    {
      "cell_type": "code",
      "metadata": {
        "id": "iuuN3iQiP_fq",
        "colab_type": "code",
        "colab": {
          "base_uri": "https://localhost:8080/",
          "height": 606
        },
        "outputId": "071aa076-0335-40d2-bfc2-ff24ef3d2ab1"
      },
      "source": [
        "df"
      ],
      "execution_count": null,
      "outputs": [
        {
          "output_type": "execute_result",
          "data": {
            "text/html": [
              "<div>\n",
              "<style scoped>\n",
              "    .dataframe tbody tr th:only-of-type {\n",
              "        vertical-align: middle;\n",
              "    }\n",
              "\n",
              "    .dataframe tbody tr th {\n",
              "        vertical-align: top;\n",
              "    }\n",
              "\n",
              "    .dataframe thead th {\n",
              "        text-align: right;\n",
              "    }\n",
              "</style>\n",
              "<table border=\"1\" class=\"dataframe\">\n",
              "  <thead>\n",
              "    <tr style=\"text-align: right;\">\n",
              "      <th></th>\n",
              "      <th>time</th>\n",
              "      <th>Rank</th>\n",
              "      <th>Product Names</th>\n",
              "      <th>Image urls</th>\n",
              "      <th>Product links</th>\n",
              "      <th>Stars</th>\n",
              "      <th>Reviews</th>\n",
              "      <th>Authors/Company</th>\n",
              "      <th>Edition/Console</th>\n",
              "      <th>Price_std_or_min</th>\n",
              "      <th>Max_prices</th>\n",
              "    </tr>\n",
              "  </thead>\n",
              "  <tbody>\n",
              "    <tr>\n",
              "      <th>3763</th>\n",
              "      <td>2020-07-31 00:38</td>\n",
              "      <td>14.0</td>\n",
              "      <td>Map Of The Soul: Persona</td>\n",
              "      <td>https://images-na.ssl-images-amazon.com/images...</td>\n",
              "      <td>https://www.amazon.com.mx/Map-Soul-Persona-BTS...</td>\n",
              "      <td>4.8</td>\n",
              "      <td>2464.0</td>\n",
              "      <td>BTS</td>\n",
              "      <td>Audio CD</td>\n",
              "      <td>432.86</td>\n",
              "      <td>None</td>\n",
              "    </tr>\n",
              "    <tr>\n",
              "      <th>3773</th>\n",
              "      <td>2020-07-31 00:38</td>\n",
              "      <td>24.0</td>\n",
              "      <td>Love Yourself: Her (Random cover, incl. 100-pa...</td>\n",
              "      <td>https://images-na.ssl-images-amazon.com/images...</td>\n",
              "      <td>https://www.amazon.com.mx/Love-Yourself-Her-BT...</td>\n",
              "      <td>4.7</td>\n",
              "      <td>900.0</td>\n",
              "      <td>BTS</td>\n",
              "      <td>Audio CD</td>\n",
              "      <td>688.00</td>\n",
              "      <td>None</td>\n",
              "    </tr>\n",
              "    <tr>\n",
              "      <th>3772</th>\n",
              "      <td>2020-07-31 00:38</td>\n",
              "      <td>23.0</td>\n",
              "      <td>Harry Styles (Edición Especial) (Vinyl)</td>\n",
              "      <td>https://images-na.ssl-images-amazon.com/images...</td>\n",
              "      <td>https://www.amazon.com.mx/Harry-Styles-Edici%C...</td>\n",
              "      <td>4.7</td>\n",
              "      <td>1388.0</td>\n",
              "      <td>Harry Styles</td>\n",
              "      <td>Vinil</td>\n",
              "      <td>1223.28</td>\n",
              "      <td>None</td>\n",
              "    </tr>\n",
              "    <tr>\n",
              "      <th>3771</th>\n",
              "      <td>2020-07-31 00:38</td>\n",
              "      <td>22.0</td>\n",
              "      <td>Blurryface (Vinyl)</td>\n",
              "      <td>https://images-na.ssl-images-amazon.com/images...</td>\n",
              "      <td>https://www.amazon.com.mx/Blurryface-Vinyl-Twe...</td>\n",
              "      <td>4.7</td>\n",
              "      <td>2255.0</td>\n",
              "      <td>Twenty One Pilots</td>\n",
              "      <td>Vinil</td>\n",
              "      <td>561.00</td>\n",
              "      <td>None</td>\n",
              "    </tr>\n",
              "    <tr>\n",
              "      <th>3769</th>\n",
              "      <td>2020-07-31 00:38</td>\n",
              "      <td>20.0</td>\n",
              "      <td>Up All Night</td>\n",
              "      <td>https://images-na.ssl-images-amazon.com/images...</td>\n",
              "      <td>https://www.amazon.com.mx/Up-All-Night-One-Dir...</td>\n",
              "      <td>4.7</td>\n",
              "      <td>1108.0</td>\n",
              "      <td>One Direction</td>\n",
              "      <td>Audio CD</td>\n",
              "      <td>127.00</td>\n",
              "      <td>None</td>\n",
              "    </tr>\n",
              "    <tr>\n",
              "      <th>...</th>\n",
              "      <td>...</td>\n",
              "      <td>...</td>\n",
              "      <td>...</td>\n",
              "      <td>...</td>\n",
              "      <td>...</td>\n",
              "      <td>...</td>\n",
              "      <td>...</td>\n",
              "      <td>...</td>\n",
              "      <td>...</td>\n",
              "      <td>...</td>\n",
              "      <td>...</td>\n",
              "    </tr>\n",
              "    <tr>\n",
              "      <th>19</th>\n",
              "      <td>2020-08-13 18:25</td>\n",
              "      <td>20.0</td>\n",
              "      <td>Is This It (Vinyl)</td>\n",
              "      <td>https://images-na.ssl-images-amazon.com/images...</td>\n",
              "      <td>https://www.amazon.com.mx/This-Vinyl-Strokes/d...</td>\n",
              "      <td>4.3</td>\n",
              "      <td>575.0</td>\n",
              "      <td>The Strokes</td>\n",
              "      <td>Vinil</td>\n",
              "      <td>392.25</td>\n",
              "      <td>None</td>\n",
              "    </tr>\n",
              "    <tr>\n",
              "      <th>20</th>\n",
              "      <td>2020-08-13 18:25</td>\n",
              "      <td>21.0</td>\n",
              "      <td>Caifanes</td>\n",
              "      <td>https://images-na.ssl-images-amazon.com/images...</td>\n",
              "      <td>https://www.amazon.com.mx/Caifanes/dp/B00WKNGH...</td>\n",
              "      <td>4.4</td>\n",
              "      <td>132.0</td>\n",
              "      <td>Caifanes</td>\n",
              "      <td>Audio CD</td>\n",
              "      <td>99.00</td>\n",
              "      <td>None</td>\n",
              "    </tr>\n",
              "    <tr>\n",
              "      <th>21</th>\n",
              "      <td>2020-08-13 18:25</td>\n",
              "      <td>22.0</td>\n",
              "      <td>Black Pumas (Vinyl)</td>\n",
              "      <td>https://images-na.ssl-images-amazon.com/images...</td>\n",
              "      <td>https://www.amazon.com.mx/Black-Pumas-Vinyl/dp...</td>\n",
              "      <td>NaN</td>\n",
              "      <td>NaN</td>\n",
              "      <td>Black Pumas</td>\n",
              "      <td>Vinil</td>\n",
              "      <td>1163.07</td>\n",
              "      <td>None</td>\n",
              "    </tr>\n",
              "    <tr>\n",
              "      <th>10</th>\n",
              "      <td>2020-08-13 18:25</td>\n",
              "      <td>11.0</td>\n",
              "      <td>FINE LINE</td>\n",
              "      <td>https://images-na.ssl-images-amazon.com/images...</td>\n",
              "      <td>https://www.amazon.com.mx/FINE-LINE-HARRY-STYL...</td>\n",
              "      <td>4.8</td>\n",
              "      <td>781.0</td>\n",
              "      <td>HARRY STYLES</td>\n",
              "      <td>Audio CD</td>\n",
              "      <td>170.00</td>\n",
              "      <td>None</td>\n",
              "    </tr>\n",
              "    <tr>\n",
              "      <th>49</th>\n",
              "      <td>2020-08-13 18:25</td>\n",
              "      <td>50.0</td>\n",
              "      <td>Random Access Memories</td>\n",
              "      <td>https://images-na.ssl-images-amazon.com/images...</td>\n",
              "      <td>https://www.amazon.com.mx/Random-Access-Memori...</td>\n",
              "      <td>4.5</td>\n",
              "      <td>2955.0</td>\n",
              "      <td>Daft Punk</td>\n",
              "      <td>Audio CD</td>\n",
              "      <td>194.32</td>\n",
              "      <td>None</td>\n",
              "    </tr>\n",
              "  </tbody>\n",
              "</table>\n",
              "<p>6700 rows × 11 columns</p>\n",
              "</div>"
            ],
            "text/plain": [
              "                  time  Rank  ... Price_std_or_min Max_prices\n",
              "3763  2020-07-31 00:38  14.0  ...           432.86       None\n",
              "3773  2020-07-31 00:38  24.0  ...           688.00       None\n",
              "3772  2020-07-31 00:38  23.0  ...          1223.28       None\n",
              "3771  2020-07-31 00:38  22.0  ...           561.00       None\n",
              "3769  2020-07-31 00:38  20.0  ...           127.00       None\n",
              "...                ...   ...  ...              ...        ...\n",
              "19    2020-08-13 18:25  20.0  ...           392.25       None\n",
              "20    2020-08-13 18:25  21.0  ...            99.00       None\n",
              "21    2020-08-13 18:25  22.0  ...          1163.07       None\n",
              "10    2020-08-13 18:25  11.0  ...           170.00       None\n",
              "49    2020-08-13 18:25  50.0  ...           194.32       None\n",
              "\n",
              "[6700 rows x 11 columns]"
            ]
          },
          "metadata": {
            "tags": []
          },
          "execution_count": 129
        }
      ]
    },
    {
      "cell_type": "markdown",
      "metadata": {
        "id": "4YQVeDHQ0v_2",
        "colab_type": "text"
      },
      "source": [
        "#Lab"
      ]
    },
    {
      "cell_type": "markdown",
      "metadata": {
        "id": "nRGcZjM_0109",
        "colab_type": "text"
      },
      "source": [
        "##Extract Products"
      ]
    },
    {
      "cell_type": "markdown",
      "metadata": {
        "id": "VDyf-xBV4tOI",
        "colab_type": "text"
      },
      "source": [
        "###Name Products"
      ]
    },
    {
      "cell_type": "code",
      "metadata": {
        "id": "ZEm2-R_l06Xw",
        "colab_type": "code",
        "colab": {
          "base_uri": "https://localhost:8080/",
          "height": 34
        },
        "outputId": "736dc027-f4eb-4425-ed2d-595f9113c683"
      },
      "source": [
        "entry = 'Masters/mx/parquet/mx-master_db_music.parquet'\n",
        "\n",
        "#Get de Nanmes\n",
        "df = pd.read_parquet(entry)\n",
        "df['time'] = df['time'].apply(standarize_dates)\n",
        "df = df.sort_values(by=\"time\")\n",
        "product_names_raw = df['Product Names'].tolist()\n",
        "#Remember, this gets de None Value\n",
        "products = list(set(product_names_raw))\n",
        "None_cases = count_if(product_names_raw, None)\n",
        "None_cases"
      ],
      "execution_count": null,
      "outputs": [
        {
          "output_type": "execute_result",
          "data": {
            "text/plain": [
              "50"
            ]
          },
          "metadata": {
            "tags": []
          },
          "execution_count": 121
        }
      ]
    },
    {
      "cell_type": "code",
      "metadata": {
        "id": "kRM00OAoNI67",
        "colab_type": "code",
        "colab": {}
      },
      "source": [
        ""
      ],
      "execution_count": null,
      "outputs": []
    },
    {
      "cell_type": "markdown",
      "metadata": {
        "id": "X92oQSyNAZYH",
        "colab_type": "text"
      },
      "source": [
        "##Scrap Dates"
      ]
    },
    {
      "cell_type": "code",
      "metadata": {
        "id": "7UA41oBq63PF",
        "colab_type": "code",
        "colab": {
          "base_uri": "https://localhost:8080/",
          "height": 54
        },
        "outputId": "bf9bee55-a4a5-4692-c447-b9688b1a2508"
      },
      "source": [
        "dates_raw = df['time'].tolist()\n",
        "dates_time = set(dates_raw)\n",
        "\n",
        "just_dates = []\n",
        "for dt in dates_time:\n",
        "    try:\n",
        "        date = datetime.strptime(dt,'%Y-%m-%d %H:%M').date()\n",
        "    except:\n",
        "        date = datetime.strptime(dt,'%Y-%m-%d %H_%M').date()\n",
        "\n",
        "    if not date in just_dates:\n",
        "        just_dates.append(date)\n",
        "\n",
        "just_dates.sort()\n",
        "print(just_dates)"
      ],
      "execution_count": null,
      "outputs": [
        {
          "output_type": "stream",
          "text": [
            "[datetime.date(2020, 7, 31), datetime.date(2020, 8, 1), datetime.date(2020, 8, 2), datetime.date(2020, 8, 3), datetime.date(2020, 8, 4), datetime.date(2020, 8, 5), datetime.date(2020, 8, 6), datetime.date(2020, 8, 7), datetime.date(2020, 8, 8), datetime.date(2020, 8, 9), datetime.date(2020, 8, 10), datetime.date(2020, 8, 11), datetime.date(2020, 8, 12), datetime.date(2020, 8, 13)]\n"
          ],
          "name": "stdout"
        }
      ]
    },
    {
      "cell_type": "markdown",
      "metadata": {
        "id": "NfRFjxnNAcpl",
        "colab_type": "text"
      },
      "source": [
        "#Obtaining All Ranks"
      ]
    },
    {
      "cell_type": "code",
      "metadata": {
        "id": "hjje59KxCayy",
        "colab_type": "code",
        "colab": {}
      },
      "source": [
        "products_dict = {products[n]:n for n in range(len(products))}\n",
        "# products_dict"
      ],
      "execution_count": null,
      "outputs": []
    },
    {
      "cell_type": "code",
      "metadata": {
        "id": "Sk-TZdR_AkqX",
        "colab_type": "code",
        "colab": {
          "base_uri": "https://localhost:8080/",
          "height": 275
        },
        "outputId": "308fc8c4-af60-42de-8b7a-923199fb8d99"
      },
      "source": [
        "ranks = df['Rank'].tolist()\n",
        "day_arrays = [None] * len(just_dates)\n",
        "rank_day_array = [None] * len(products)\n",
        "\n",
        "d_counter = 0\n",
        "first_date = just_dates[0]\n",
        "\n",
        "for r in range(len(ranks)):\n",
        "    \n",
        "    #Day that we are\n",
        "    try:\n",
        "        date_check = datetime.strptime(dates_raw[r],'%Y-%m-%d %H:%M').date()\n",
        "    except:\n",
        "        date_check = datetime.strptime(dates_raw[r],'%Y-%m-%d %H_%M').date()\n",
        "\n",
        "    if date_check != first_date:\n",
        "        day_arrays[d_counter] = rank_day_array\n",
        "        rank_day_array = [None] * len(products)\n",
        "        if d_counter < (len(just_dates)-1):\n",
        "            d_counter += 1\n",
        "            first_date = just_dates[d_counter]\n",
        "\n",
        "    if date_check == first_date:\n",
        "        # if date_check == just_dates[0]:\n",
        "        #     print(date_check)\n",
        "        rank = ranks[r]\n",
        "        #What product are we talking about\n",
        "        product_name = product_names_raw[r]\n",
        "        product_position = products_dict[product_name]\n",
        "        if rank_day_array[product_position] == None:\n",
        "            array = []\n",
        "            rank_day_array[product_position] = array\n",
        "        else:\n",
        "            array_rank = rank_day_array[product_position]\n",
        "            array_rank.append(rank)\n",
        "        # print(f'{product_name} Position: {product_position} rank: {rank} -> {rank_day_array[product_position]}')\n",
        "\n",
        "for ranked_day in day_arrays:\n",
        "    print(ranked_day)"
      ],
      "execution_count": null,
      "outputs": [
        {
          "output_type": "stream",
          "text": [
            "[[39.0, 39.0, 39.0], None, None, None, None, None, None, None, None, [], None, None, None, None, None, None, None, None, None, None, None, None, [], None, None, None, None, [6.0, 6.0, 6.0, 6.0, 11.0, 11.0, 11.0, 11.0, 11.0, 20.0, 20.0, 20.0, 20.0, 20.0, 20.0], None, None, None, [12.0, 12.0, 12.0, 12.0, 12.0], None, None, None, None, None, [25.0, 25.0, 25.0, 25.0], None, None, None, None, None, None, None, None, None, None, [9.0, 9.0, 9.0, 6.0, 6.0, 6.0, 6.0, 6.0, 1.0, 1.0, 1.0, 1.0, 1.0, 1.0], [], None, None, None, [], None, None, None, [24.0, 24.0, 24.0, 24.0, 37.0, 37.0, 37.0, 37.0, 37.0, 24.0, 24.0, 24.0, 24.0, 24.0, 24.0], None, None, None, [38.0, 38.0, 38.0, 38.0, 38.0], None, None, [12.0, 12.0, 12.0, 12.0, 18.0, 18.0, 18.0, 18.0, 18.0, 34.0, 34.0, 34.0, 34.0, 34.0, 34.0], [46.0, 46.0, 46.0, 46.0], None, None, None, [47.0, 47.0, 47.0], None, None, None, None, [49.0, 49.0, 49.0], None, None, None, None, None, None, None, [14.0, 14.0, 14.0, 4.0, 4.0, 4.0, 4.0, 4.0, 4.0, 4.0, 4.0, 4.0, 4.0, 4.0], None, None, None, None, [3.0, 3.0, 3.0, 3.0, 1.0, 1.0, 1.0, 1.0, 1.0, 2.0, 2.0, 2.0, 2.0, 2.0, 2.0], None, None, None, None, None, None, None, None, None, None, None, None, None, [16.0, 16.0, 16.0, 16.0, 9.0, 9.0, 9.0, 9.0, 9.0, 19.0, 19.0, 19.0, 19.0, 19.0, 19.0], None, None, [21.0, 21.0, 21.0, 21.0, 45.0, 45.0, 45.0, 45.0, 45.0, 45.0], [31.0, 31.0, 31.0], None, None, None, None, None, None, None, None, None, None, None, None, None, None, None, None, None, None, None, None, None, None, None, None, [], None, None, None, [29.0, 29.0, 29.0, 42.0, 42.0, 42.0, 42.0, 42.0], None, None, None, None, None, None, [38.0, 38.0, 38.0, 16.0, 16.0, 16.0, 16.0, 16.0, 13.0, 13.0, 13.0, 13.0, 13.0, 13.0], [], None, [14.0, 14.0, 14.0, 14.0, 14.0, 14.0], None, None, None, None, None, None, None, None, [39.0, 39.0, 39.0, 39.0, 39.0], None, None, None, None, None, None, None, [18.0, 18.0, 18.0, 18.0, 27.0, 27.0, 27.0, 27.0, 27.0], None, [35.0, 35.0, 35.0, 35.0, 43.0, 43.0, 43.0, 43.0, 43.0], None, None, None, None, None, [], None, None, None, [48.0, 48.0, 48.0, 48.0], [31.0, 31.0, 31.0, 31.0, 31.0, 31.0], [7.0, 7.0, 7.0, 7.0, 5.0, 5.0, 5.0, 5.0, 5.0, 9.0, 9.0, 9.0, 9.0, 9.0, 9.0], [5.0, 5.0, 5.0, 5.0, 8.0, 8.0, 8.0, 8.0, 8.0, 15.0, 15.0, 15.0, 15.0, 15.0, 15.0], None, None, [11.0, 11.0, 11.0, 7.0, 7.0, 7.0, 7.0, 7.0, 21.0, 21.0, 21.0, 21.0, 21.0, 21.0], None, None, None, None, [], None, None, None, None, None, None, [15.0, 15.0, 15.0, 15.0, 22.0, 22.0, 22.0, 22.0, 22.0, 17.0, 17.0, 17.0, 17.0, 17.0, 17.0], None, None, None, None, None, None, None, [50.0, 50.0, 50.0], None, None, None, None, None, None, None, None, None, None, [33.0, 33.0, 33.0, 33.0, 33.0, 33.0], None, None, [1.0, 1.0, 1.0, 1.0, 2.0, 2.0, 2.0, 2.0, 2.0, 7.0, 7.0, 7.0, 7.0, 7.0, 7.0], [], None, None, None, None, [34.0, 34.0, 34.0], None, [49.0, 49.0, 49.0, 49.0, 49.0], None, None, None, None, None, [18.0, 18.0, 18.0, 18.0, 18.0], None, [26.0, 26.0, 26.0, 39.0, 39.0, 39.0, 39.0, 39.0], [], None, None, None, None, None, None, [33.0, 33.0, 33.0], None, None, None, None, None, None, None, [47.0, 47.0, 47.0, 47.0, 47.0], None, [], None, None, None, [36.0, 36.0, 36.0, 36.0], None, None, None, None, None, [], None, [24.0, 24.0, 24.0, 24.0, 46.0, 46.0, 46.0, 46.0, 46.0, 46.0], None, None, None, [26.0, 26.0, 26.0, 26.0, 26.0], None, [45.0, 45.0, 45.0], None, None, None, None, None, [40.0, 40.0, 40.0, 28.0, 28.0, 28.0, 28.0, 28.0, 28.0], None, None, None, None, None, None, None, None, None, None, None, None, None, None, [21.0, 21.0, 21.0, 21.0, 29.0, 29.0, 29.0, 29.0, 29.0, 3.0, 3.0, 3.0, 3.0, 3.0, 3.0], None, None, None, None, [33.0, 33.0, 33.0, 33.0, 23.0, 23.0, 23.0, 23.0, 23.0, 23.0], None, None, None, None, [], [45.0, 45.0, 45.0, 45.0], None, None, [41.0, 41.0, 41.0], None, None, None, None, None, None, [30.0, 30.0, 30.0, 30.0, 14.0, 14.0, 14.0, 14.0, 14.0, 10.0, 10.0, 10.0, 10.0, 10.0, 10.0], None, [], [nan, nan, nan, nan, nan, nan, nan, nan, nan, nan, nan, nan, nan, nan, nan, nan, nan, nan, nan, nan, nan, nan, nan, nan, nan, nan, nan, nan, nan, nan, nan, nan, nan, nan, nan, nan, nan, nan, nan, nan, nan, nan, nan, nan, nan, nan, nan, nan, nan], None, None, None, None, None, None, None, None, None, None, None, [48.0, 48.0, 48.0, 48.0], [40.0, 40.0, 40.0, 40.0, 40.0], None, None, None, None, None, None, None, None, None, None, [32.0, 32.0, 32.0, 32.0], None, None, None, [8.0, 8.0, 20.0, 20.0, 8.0, 8.0, 20.0, 15.0, 12.0, 15.0, 12.0, 12.0, 15.0, 15.0, 12.0, 15.0, 12.0, 5.0, 6.0, 5.0, 6.0, 5.0, 6.0, 5.0, 6.0, 5.0, 6.0, 6.0, 5.0], [32.0, 32.0, 32.0], None, None, None, None, [26.0, 26.0, 26.0, 26.0, 26.0, 50.0, 50.0, 50.0, 50.0, 50.0, 50.0], None, None, None, None, None, None, None, None, None, [44.0, 44.0, 44.0, 44.0], None, None, None, None, None, None, None, None, None, None, None, [30.0, 30.0, 30.0, 30.0, 30.0, 30.0], None, None, [13.0, 13.0, 13.0, 19.0, 19.0, 19.0, 19.0, 19.0, 37.0, 37.0, 37.0, 37.0, 37.0, 37.0], [4.0, 4.0, 4.0, 10.0, 10.0, 10.0, 10.0, 10.0, 22.0, 22.0, 22.0, 22.0, 22.0, 22.0], None, [35.0, 35.0, 35.0, 35.0, 35.0, 35.0], None, [48.0, 48.0, 48.0, 48.0, 48.0], [31.0, 31.0, 31.0, 31.0, 25.0, 25.0, 25.0, 25.0, 25.0, 25.0], [37.0, 37.0, 37.0, 37.0, 32.0, 32.0, 32.0, 32.0, 32.0, 32.0], None, [27.0, 27.0, 27.0, 41.0, 41.0, 41.0, 41.0, 41.0], None, [], None, None, None, None, None, None, None, None, None, None, None, None, None, [19.0, 19.0, 19.0, 19.0, 28.0, 28.0, 28.0, 28.0, 28.0], None, None, None, None, [10.0, 10.0, 10.0, 10.0, 17.0, 17.0, 17.0, 17.0, 17.0, 29.0, 29.0, 29.0, 29.0, 29.0, 29.0], None, None, None, None, None, None, None, [17.0, 17.0, 17.0, 17.0, 23.0, 23.0, 23.0, 23.0, 23.0, 42.0, 42.0, 42.0, 42.0, 42.0, 42.0], [23.0, 23.0, 23.0, 23.0, 35.0, 35.0, 35.0, 35.0, 35.0], [], None, [36.0, 36.0, 36.0], [2.0, 2.0, 2.0, 2.0, 3.0, 3.0, 3.0, 3.0, 3.0, 8.0, 8.0, 8.0, 8.0, 8.0, 8.0], None, [22.0, 22.0, 22.0, 22.0, 34.0, 34.0, 34.0, 34.0, 34.0], None, None, None, None, None, None, None, None, None, None, None, None, [47.0, 47.0, 47.0, 47.0], None, None, None, None, None, None, None, None, [30.0, 30.0, 30.0, 30.0], None, None, None, [25.0, 25.0, 25.0, 40.0, 40.0, 40.0, 40.0, 40.0], None, [42.0, 42.0, 42.0, 42.0], None, None, None, None, None, [36.0, 36.0, 36.0, 36.0, 36.0], None, None, None, None, [44.0, 44.0, 44.0, 44.0, 44.0], None, None, None, None, None, None, None, None, [43.0, 43.0, 43.0], None, None, None, None, [38.0, 38.0, 38.0, 38.0], None, None, [43.0, 43.0, 43.0, 43.0, 43.0], None, None, None, None, None, [], None, None, None, [50.0, 50.0, 50.0, 50.0], None, None, None, [49.0, 49.0, 49.0, 49.0], [20.0, 20.0, 20.0, 20.0, 41.0, 41.0, 41.0, 41.0, 41.0, 41.0], None, None, None, None, None, None, None, [16.0, 16.0, 16.0, 16.0, 16.0], None, None, None, None, None, None, [], None, [44.0, 44.0, 44.0, 44.0], [11.0, 11.0, 11.0, 11.0, 11.0], None, None, None, None, None, None, None, None, None, None, None, None, None, None, None, None, [], None, None, None, [46.0, 46.0, 46.0, 46.0], None, None, None, None, None, [28.0, 28.0, 28.0, 28.0, 13.0, 13.0, 13.0, 13.0, 13.0, 27.0, 27.0, 27.0, 27.0, 27.0, 27.0], None, None, None, None, None, None]\n",
            "[None, None, None, None, None, None, None, None, None, None, None, None, None, [28.0, 28.0, 28.0, 28.0, 28.0, 28.0, 28.0, 28.0, 28.0, 28.0, 28.0, 28.0], None, None, None, None, None, None, None, None, None, None, None, None, None, [24.0, 24.0, 24.0, 24.0, 24.0, 24.0, 24.0, 24.0, 24.0, 24.0, 24.0, 24.0], None, None, None, [25.0, 25.0, 25.0, 25.0, 25.0, 25.0, 25.0, 25.0, 25.0, 25.0, 25.0, 25.0], None, None, None, None, None, None, None, [14.0, 14.0, 14.0, 14.0, 14.0, 14.0, 14.0, 14.0, 14.0, 14.0, 14.0, 14.0], None, None, None, None, None, None, None, None, [3.0, 3.0, 3.0, 3.0, 3.0, 3.0, 3.0, 3.0, 3.0, 3.0, 3.0, 3.0], None, [43.0, 43.0, 43.0, 43.0, 43.0, 43.0, 43.0, 43.0, 43.0, 43.0, 43.0, 43.0], None, None, None, None, None, None, None, None, None, None, None, None, None, None, None, None, None, None, None, None, None, None, None, None, [21.0, 21.0, 21.0, 21.0, 21.0, 21.0, 21.0, 21.0, 21.0, 21.0, 21.0, 21.0], None, None, None, None, None, None, None, None, None, None, None, [5.0, 5.0, 5.0, 5.0, 5.0, 5.0, 5.0, 5.0, 5.0, 5.0, 5.0, 5.0], None, None, [13.0, 13.0, 13.0, 13.0, 13.0, 13.0, 13.0, 13.0, 13.0, 13.0, 13.0, 13.0], None, None, None, None, None, None, None, None, None, [37.0, 37.0, 37.0, 37.0, 37.0, 37.0, 37.0, 37.0, 37.0, 37.0, 37.0, 37.0], [6.0, 6.0, 6.0, 6.0, 6.0, 6.0, 6.0, 6.0, 6.0, 6.0, 6.0, 6.0], None, None, None, None, None, None, None, None, None, None, None, None, None, [48.0, 48.0, 48.0, 48.0, 48.0, 48.0, 48.0, 48.0, 48.0, 48.0, 48.0, 48.0], None, None, None, None, None, None, None, None, None, None, None, None, None, None, None, [32.0, 32.0, 32.0, 32.0, 32.0, 32.0, 32.0, 32.0, 32.0, 32.0, 32.0, 32.0], None, None, None, None, None, None, [36.0, 36.0, 36.0, 36.0, 36.0, 36.0, 36.0, 36.0, 36.0, 36.0, 36.0, 36.0], None, None, None, None, None, None, None, None, None, None, None, None, None, None, [29.0, 29.0, 29.0, 29.0, 29.0, 29.0, 29.0, 29.0, 29.0, 29.0, 29.0, 29.0], None, None, None, None, None, None, None, None, None, [19.0, 19.0, 19.0, 19.0, 19.0, 19.0, 19.0, 19.0, 19.0, 19.0, 19.0, 19.0], None, None, None, None, None, None, None, None, None, None, None, [47.0, 47.0, 47.0, 47.0, 47.0, 47.0, 47.0, 47.0, 47.0, 47.0, 47.0, 47.0], [8.0, 8.0, 8.0, 8.0, 8.0, 8.0, 8.0, 8.0, 8.0, 8.0, 8.0, 8.0], None, None, [11.0, 11.0, 11.0, 11.0, 11.0, 11.0, 11.0, 11.0, 11.0, 11.0, 11.0, 11.0], None, None, None, None, None, None, None, None, None, None, None, [7.0, 7.0, 7.0, 7.0, 7.0, 7.0, 7.0, 7.0, 7.0, 7.0, 7.0, 7.0], None, None, None, None, None, None, None, None, None, None, None, [40.0, 40.0, 40.0, 40.0, 40.0, 40.0, 40.0, 40.0, 40.0, 40.0, 40.0, 40.0], None, None, None, None, None, None, None, None, None, [1.0, 1.0, 1.0, 1.0, 1.0, 1.0, 1.0, 1.0, 1.0, 1.0, 1.0, 1.0], None, [26.0, 26.0, 26.0, 26.0, 26.0, 26.0, 26.0, 26.0, 26.0, 26.0, 26.0, 26.0], None, None, None, None, None, None, None, None, None, None, None, None, None, [33.0, 33.0, 33.0, 33.0, 33.0, 33.0, 33.0, 33.0, 33.0, 33.0, 33.0, 33.0], None, None, None, None, None, None, None, None, None, None, [22.0, 22.0, 22.0, 22.0, 22.0, 22.0, 22.0, 22.0, 22.0, 22.0, 22.0, 22.0], None, None, None, None, None, None, None, None, None, None, [41.0, 41.0, 41.0, 41.0, 41.0, 41.0, 41.0, 41.0, 41.0, 41.0, 41.0, 41.0], None, None, None, None, None, None, None, None, None, None, None, None, None, None, None, None, None, None, None, [31.0, 31.0, 31.0, 31.0, 31.0, 31.0, 31.0, 31.0, 31.0, 31.0, 31.0, 31.0], None, None, None, None, None, None, None, None, None, None, None, None, None, None, [10.0, 10.0, 10.0, 10.0, 10.0, 10.0, 10.0, 10.0, 10.0, 10.0, 10.0, 10.0], None, None, None, None, [20.0, 20.0, 20.0, 20.0, 20.0, 20.0, 20.0, 20.0, 20.0, 20.0, 20.0, 20.0], None, [49.0, 49.0, 49.0, 49.0, 49.0, 49.0, 49.0, 49.0, 49.0, 49.0, 49.0, 49.0], None, None, None, None, None, None, None, None, None, None, None, None, None, None, None, None, None, None, None, None, None, None, [34.0, 34.0, 34.0, 34.0, 34.0, 34.0, 34.0, 34.0, 34.0, 34.0, 34.0, 34.0], None, None, None, None, None, [30.0, 30.0, 30.0, 30.0, 30.0, 30.0, 30.0, 30.0, 30.0, 30.0, 30.0, 30.0], None, None, None, None, None, None, None, [38.0, 38.0, 38.0, 38.0, 38.0, 38.0, 38.0, 38.0, 38.0, 38.0, 38.0, 38.0], None, None, None, None, None, None, None, [9.0, 4.0, 9.0, 9.0, 4.0, 9.0, 4.0, 9.0, 4.0, 9.0, 4.0, 9.0, 4.0, 4.0, 9.0, 9.0, 4.0, 4.0, 9.0, 4.0, 9.0, 9.0, 4.0, 4.0, 9.0], None, None, None, None, None, None, [39.0, 39.0, 39.0, 39.0, 39.0, 39.0, 39.0, 39.0, 39.0, 39.0, 39.0, 39.0], None, None, None, None, None, None, None, None, [42.0, 42.0, 42.0, 42.0, 42.0, 42.0, 42.0, 42.0, 42.0, 42.0, 42.0, 42.0], None, None, None, None, None, None, None, None, None, None, None, None, None, None, None, None, None, None, None, None, None, [23.0, 23.0, 23.0, 23.0, 23.0, 23.0, 23.0, 23.0, 23.0, 23.0, 23.0, 23.0], None, None, None, None, None, None, None, None, [12.0, 12.0, 12.0, 12.0, 12.0, 12.0, 12.0, 12.0, 12.0, 12.0, 12.0, 12.0], None, None, None, None, None, None, None, None, None, None, None, None, None, [45.0, 45.0, 45.0, 45.0, 45.0, 45.0, 45.0, 45.0, 45.0, 45.0, 45.0, 45.0], None, None, None, None, None, None, None, [15.0, 15.0, 15.0, 15.0, 15.0, 15.0, 15.0, 15.0, 15.0, 15.0, 15.0, 15.0], None, None, None, None, [2.0, 2.0, 2.0, 2.0, 2.0, 2.0, 2.0, 2.0, 2.0, 2.0, 2.0, 2.0], None, [35.0, 35.0, 35.0, 35.0, 35.0, 35.0, 35.0, 35.0, 35.0, 35.0, 35.0, 35.0], None, None, None, None, None, None, None, [44.0, 44.0, 44.0, 44.0, 44.0, 44.0, 44.0, 44.0, 44.0, 44.0, 44.0, 44.0], None, None, None, None, None, None, None, None, None, None, None, None, None, None, None, None, None, None, None, None, None, None, None, None, None, None, None, None, None, None, None, None, None, None, None, None, None, None, None, None, None, None, None, None, None, None, None, None, None, None, None, None, None, None, None, None, None, None, None, None, None, None, None, None, None, [17.0, 17.0, 17.0, 17.0, 17.0, 17.0, 17.0, 17.0, 17.0, 17.0, 17.0, 17.0], None, None, None, None, None, None, None, None, None, None, None, None, None, None, [27.0, 27.0, 27.0, 27.0, 27.0, 27.0, 27.0, 27.0, 27.0, 27.0, 27.0, 27.0], [18.0, 18.0, 18.0, 18.0, 18.0, 18.0, 18.0, 18.0, 18.0, 18.0, 18.0, 18.0], None, None, None, None, None, None, None, None, None, None, None, None, None, None, None, None, None, None, None, None, None, [46.0, 46.0, 46.0, 46.0, 46.0, 46.0, 46.0, 46.0, 46.0, 46.0, 46.0, 46.0], None, [50.0, 50.0, 50.0, 50.0, 50.0, 50.0, 50.0, 50.0, 50.0, 50.0, 50.0, 50.0], None, [16.0, 16.0, 16.0, 16.0, 16.0, 16.0, 16.0, 16.0, 16.0, 16.0, 16.0, 16.0], None, None, None, None, None, None]\n",
            "[None, None, None, None, None, None, None, None, None, None, None, None, None, None, None, None, None, None, None, None, None, None, None, None, None, None, None, [12.0, 12.0, 12.0, 12.0], None, None, [48.0, 48.0, 48.0, 48.0], None, None, None, None, [45.0, 45.0, 45.0, 45.0], None, None, None, None, None, None, None, None, None, None, None, None, [16.0, 16.0, 16.0, 16.0], None, None, None, None, None, None, None, None, None, None, None, None, [34.0, 34.0, 34.0, 34.0], None, None, [43.0, 43.0, 43.0, 43.0], None, [46.0, 46.0, 46.0, 46.0], None, None, None, None, None, None, None, None, None, None, None, None, None, None, None, [9.0, 9.0, 9.0, 9.0], None, None, None, None, [3.0, 3.0, 3.0, 3.0], None, None, None, None, None, None, None, None, None, None, None, None, None, [29.0, 29.0, 29.0, 29.0], None, [30.0, 30.0, 30.0, 30.0], None, None, None, None, None, None, None, None, None, None, [33.0, 33.0, 33.0, 33.0], None, None, None, None, None, None, None, None, None, None, None, None, None, [36.0, 36.0, 36.0, 36.0], None, None, None, None, None, None, None, None, None, None, [27.0, 27.0, 27.0, 27.0], None, None, None, None, [21.0, 21.0, 21.0, 21.0], [35.0, 35.0, 35.0, 35.0], None, None, None, None, None, None, None, None, None, None, None, None, None, None, None, [14.0, 14.0, 14.0, 14.0], None, [24.0, 24.0, 24.0, 24.0], None, None, None, None, None, None, None, None, None, None, None, [19.0, 19.0, 19.0, 19.0], [7.0, 7.0, 7.0, 7.0], [32.0, 32.0, 32.0, 32.0], None, [41.0, 41.0, 41.0, 41.0], None, None, None, None, None, None, None, None, None, None, None, [8.0, 8.0, 8.0, 8.0], None, None, None, None, None, None, None, None, None, None, None, [26.0, 26.0, 26.0, 26.0], None, None, None, None, None, None, None, None, None, [5.0, 5.0, 5.0, 5.0], [22.0, 22.0, 22.0, 22.0], None, None, None, None, None, None, None, None, None, None, None, None, None, None, [11.0, 11.0, 11.0, 11.0], None, None, None, [50.0, 50.0, 50.0, 50.0], None, None, None, None, None, None, [42.0, 42.0, 42.0, 42.0], None, None, None, None, None, None, None, None, None, None, None, None, None, None, None, None, None, [20.0, 20.0, 20.0, 20.0], None, None, None, None, None, None, None, None, None, None, None, None, [13.0, 13.0, 13.0, 13.0], None, [38.0, 38.0, 38.0, 38.0], None, None, None, [44.0, 44.0, 44.0, 44.0], None, None, None, None, None, [37.0, 37.0, 37.0, 37.0], None, None, [2.0, 2.0, 2.0, 2.0], None, None, None, None, None, None, None, None, None, None, None, None, [39.0, 39.0, 39.0, 39.0], None, None, None, None, None, None, None, None, None, None, None, None, None, None, None, None, None, None, None, None, None, None, None, [31.0, 31.0, 31.0, 31.0], None, None, None, None, None, None, None, None, None, None, None, None, None, None, [1.0, 6.0, 1.0, 6.0, 1.0, 1.0, 6.0, 6.0, 1.0], None, None, None, None, None, [10.0, 10.0, 10.0, 10.0], None, None, None, None, None, None, None, None, None, None, None, None, None, None, None, None, None, None, None, None, None, None, None, None, [40.0, 40.0, 40.0, 40.0], None, None, None, None, None, None, None, None, None, None, None, None, None, None, None, None, None, None, None, None, None, None, [49.0, 49.0, 49.0, 49.0], None, [15.0, 15.0, 15.0, 15.0], None, None, None, None, [23.0, 23.0, 23.0, 23.0], None, None, None, None, None, None, None, [25.0, 25.0, 25.0, 25.0], [17.0, 17.0, 17.0, 17.0], None, None, None, [4.0, 4.0, 4.0, 4.0], None, None, None, None, None, None, [47.0, 47.0, 47.0, 47.0], None, None, None, None, None, None, None, None, None, None, None, None, None, None, None, None, None, None, None, None, None, None, None, [28.0, 28.0, 28.0, 28.0], None, None, None, None, None, None, None, None, None, None, None, None, None, None, None, None, None, None, None, None, None, None, None, None, None, None, None, None, None, None, None, None, None, None, None, None, None, None, None, None, None, None, None, None, None, None, None, None, None, None, None, None, None, None, None, None, None, None, None, None, None, None, None, None, None, None, None, [18.0, 18.0, 18.0, 18.0], None, None, None, None, None, None, None, None, None, None, None, None, None, None, None, None, None, None, None, None, None, None, None, None, None]\n",
            "[None, None, [46.0, 46.0], None, None, None, None, None, None, [], None, None, None, None, None, None, None, [43.0, 43.0], None, [40.0, 40.0], None, None, None, None, None, None, None, [12.0, 12.0, 26.0], None, None, None, None, None, None, None, None, None, None, None, None, None, None, [], None, None, None, None, None, [26.0, 26.0], None, None, None, None, None, None, None, None, None, None, [], [27.0, 27.0], None, None, None, [44.0, 44.0, 30.0], None, None, None, [24.0, 24.0], None, None, None, None, None, None, None, None, None, None, None, None, None, [36.0, 36.0], None, None, None, None, [1.0, 1.0, 2.0], None, None, None, None, None, None, None, None, None, [22.0, 22.0], None, None, None, [11.0, 11.0, 14.0], [], None, None, None, None, None, None, None, None, None, None, None, None, None, None, None, None, [47.0, 47.0], None, None, None, None, None, None, None, None, None, [], None, None, None, None, None, None, None, None, None, None, None, None, None, None, [29.0, 29.0, 19.0], None, None, None, None, None, None, None, None, [34.0, 34.0, 22.0], None, None, None, None, None, None, None, [23.0, 23.0, 17.0], None, [13.0, 13.0, 28.0], None, None, None, None, None, None, None, None, None, None, None, None, [2.0, 2.0, 1.0], [33.0, 33.0], None, None, None, None, None, None, None, [], [], None, None, None, None, [9.0, 9.0, 7.0], None, None, None, None, None, None, None, None, None, None, None, None, None, None, None, None, None, None, [], [], None, [3.0, 3.0, 4.0], [], None, None, None, None, None, None, None, None, [35.0, 35.0], None, None, None, None, None, [6.0, 6.0, 8.0], None, None, None, None, [], None, None, [], None, None, [14.0, 14.0], None, None, [], None, None, None, None, None, None, None, None, None, None, None, None, [32.0, 32.0], None, None, None, None, None, None, None, None, None, None, None, None, None, None, None, None, None, None, None, None, None, None, None, None, [28.0, 28.0], [], None, None, None, [5.0, 5.0, 5.0], None, [17.0, 17.0], None, None, None, None, [], None, None, None, None, None, None, None, None, None, None, None, None, None, None, [], None, None, None, None, None, None, None, None, [42.0, 42.0], None, None, None, None, [], None, None, None, None, None, None, None, None, None, None, None, None, None, None, None, [7.0, 7.0, 15.0, 7.0, 15.0, 34.0, 10.0], None, None, None, None, None, [8.0, 8.0, 20.0], None, None, None, None, None, None, None, [], None, [], None, None, None, None, None, None, None, None, None, None, None, [], [], None, [10.0, 10.0, 6.0], None, None, None, None, None, None, None, None, None, None, None, None, None, None, [50.0, 50.0], None, None, None, None, None, None, None, None, None, [19.0, 19.0, 11.0], [], None, None, None, [20.0, 20.0, 49.0], None, None, None, [25.0, 25.0], None, None, None, None, [], None, None, None, [4.0, 4.0, 15.0], [38.0, 38.0], [], None, None, None, None, None, None, [37.0, 37.0], None, None, None, None, None, None, None, None, None, None, None, None, None, None, None, None, None, None, None, None, None, None, None, None, None, None, None, None, None, None, None, None, None, None, None, None, [21.0, 21.0], None, None, None, None, None, None, None, None, None, [], None, None, [], None, None, None, None, None, None, None, None, None, None, None, None, None, None, None, [30.0, 30.0, 45.0], None, None, [39.0, 39.0], None, None, [], None, None, [45.0, 45.0], None, None, None, None, None, None, [], None, None, None, [48.0, 48.0], None, None, None, [18.0, 18.0, 3.0], [16.0, 16.0], [41.0, 41.0], None, None, None, [49.0, 49.0], None, [31.0, 31.0], None, None, None, None, None, None, None, None, None, None, None, None, None, None, None, None, None]\n",
            "[None, [44.0, 44.0, 44.0, 20.0, 20.0], None, None, None, None, None, None, None, None, [18.0, 18.0, 32.0, 32.0, 32.0, 32.0, 47.0, 47.0], [41.0, 41.0, 41.0], None, None, None, None, None, None, None, None, None, None, None, None, None, [32.0, 32.0], [], [12.0, 19.0, 19.0, 19.0, 28.0, 28.0, 28.0, 28.0, 35.0, 35.0], None, None, [], None, [26.0, 26.0, 26.0, 13.0, 13.0, 13.0, 13.0, 19.0, 19.0], None, None, None, None, None, None, [], None, None, [17.0, 30.0, 30.0, 30.0, 46.0, 46.0, 46.0, 46.0], [29.0], None, None, None, None, [13.0, 5.0, 5.0, 5.0, 5.0, 5.0, 5.0, 5.0, 4.0, 4.0], None, None, None, None, [40.0, 40.0, 40.0], None, None, None, None, None, [], None, None, None, None, [22.0, 34.0, 34.0, 34.0, 14.0, 14.0, 14.0, 14.0, 17.0, 17.0], None, None, [40.0, 40.0, 22.0, 22.0], None, None, None, None, None, None, None, None, None, None, None, [28.0, 28.0], None, None, None, None, None, None, None, [2.0, 2.0, 2.0, 2.0, 4.0, 4.0, 4.0, 4.0, 2.0, 2.0], None, [], [], [41.0, 18.0, 18.0], None, None, None, None, None, None, None, None, None, [5.0, 7.0, 7.0, 7.0, 12.0, 12.0, 12.0, 12.0, 15.0, 15.0], None, None, None, [24.0, 24.0, 24.0, 24.0, 38.0, 38.0], None, None, None, None, None, None, None, None, None, None, None, [43.0, 43.0, 43.0], None, None, [38.0, 38.0], None, [], [21.0, 21.0, 39.0, 39.0, 39.0, 39.0], None, None, None, None, [], None, None, None, None, None, None, [], None, None, None, None, None, None, None, None, [38.0, 24.0, 24.0, 24.0, 36.0, 36.0, 36.0, 36.0, 48.0, 48.0], None, None, None, None, None, None, None, None, [48.0, 20.0, 20.0, 20.0, 20.0, 32.0, 32.0], None, None, None, [], None, [37.0, 37.0], None, [39.0], None, [46.0], None, None, None, None, None, None, None, None, None, None, [39.0, 39.0, 17.0, 17.0, 17.0, 17.0, 30.0, 30.0], [45.0, 45.0, 45.0, 15.0, 15.0, 15.0, 15.0, 23.0, 23.0], [1.0, 1.0, 1.0, 1.0, 2.0, 2.0, 2.0, 2.0, 1.0, 1.0], None, None, [36.0, 36.0], None, None, None, None, None, None, [19.0, 29.0, 29.0, 29.0, 44.0, 44.0, 44.0, 44.0, 14.0, 14.0], None, None, None, None, [16.0, 23.0, 23.0, 23.0, 9.0, 9.0, 9.0, 9.0, 10.0, 10.0], [49.0, 49.0, 49.0], None, None, None, None, None, None, None, [8.0, 11.0, 11.0, 11.0, 19.0, 19.0, 19.0, 19.0, 31.0, 31.0], None, None, None, [33.0, 33.0, 33.0], [25.0, 25.0, 10.0, 10.0, 10.0, 10.0, 16.0, 16.0], [17.0, 17.0, 17.0, 29.0, 29.0, 29.0, 29.0, 42.0, 42.0], None, None, None, None, None, None, [7.0, 9.0, 9.0, 9.0, 6.0, 6.0, 6.0, 6.0, 6.0, 6.0], None, None, None, None, None, None, None, None, None, None, None, None, None, None, None, [15.0, 22.0, 22.0, 22.0, 31.0, 31.0, 31.0, 31.0, 36.0, 36.0], None, None, None, None, None, None, None, None, [45.0, 45.0, 45.0, 12.0, 12.0], None, [31.0, 7.0, 7.0, 7.0, 7.0, 8.0, 8.0], None, None, None, None, None, None, [47.0, 47.0], None, None, None, None, None, None, None, None, [48.0, 48.0], None, None, None, None, None, None, None, None, [27.0, 27.0, 27.0, 27.0, 41.0, 41.0], [26.0], None, None, [33.0, 33.0, 33.0, 49.0, 49.0], None, [], None, None, None, None, None, [], None, None, None, [30.0, 30.0, 30.0, 9.0, 9.0], [44.0], None, None, None, [3.0, 3.0, 3.0, 3.0, 1.0, 1.0, 1.0, 1.0, 3.0, 3.0], None, [41.0, 41.0, 41.0], None, None, [31.0, 31.0, 48.0, 48.0, 48.0, 48.0], None, [33.0], None, [35.0, 35.0, 35.0], None, None, None, None, None, None, None, [], None, None, None, [37.0, 37.0, 37.0], None, None, None, [], [22.0, 22.0, 22.0, 22.0, 37.0, 37.0], None, None, None, [], None, None, None, None, None, [39.0], None, None, None, None, None, None, [50.0, 50.0, 50.0], None, [45.0], None, None, None, None, None, [], [9.0, 10.0, 10.0, 10.0, 18.0, 18.0, 18.0, 18.0, 25.0, 25.0], None, None, None, None, None, [15.0, 15.0, 15.0, 26.0, 26.0, 26.0, 26.0, 7.0, 7.0], None, [], [50.0, 50.0, 50.0], None, None, None, None, None, None, None, None, None, [43.0], None, None, None, None, None, None, None, None, None, None, None, [4.0, 6.0, 6.0, 6.0, 11.0, 11.0, 11.0, 11.0, 13.0, 13.0], None, None, None, None, None, None, None, None, None, [14.0, 27.0, 27.0, 27.0, 42.0, 42.0, 42.0, 42.0], None, None, None, None, None, None, None, None, None, None, None, None, None, None, [16.0, 16.0, 16.0, 8.0, 8.0, 8.0, 8.0, 11.0, 11.0], [27.0, 27.0], [28.0, 28.0, 47.0, 47.0, 47.0, 47.0], None, None, [8.0, 8.0, 8.0, 16.0, 16.0, 16.0, 16.0, 24.0, 24.0], None, None, None, None, None, None, None, None, [10.0, 14.0, 14.0, 14.0, 23.0, 23.0, 23.0, 23.0, 33.0, 33.0], None, None, None, [34.0, 43.0, 43.0, 43.0], None, [20.0, 20.0, 20.0, 34.0, 34.0, 34.0, 34.0, 46.0, 46.0], None, [44.0], None, None, None, None, None, None, None, None, None, None, None, None, None, None, None, None, None, None, None, None, None, None, None, None, None, None, [], None, None, None, None, None, None, None, None, None, None, None, None, [46.0, 46.0, 46.0], None, None, None, None, None, [11.0, 12.0, 12.0, 12.0, 21.0, 21.0, 21.0, 21.0, 34.0, 34.0], None, None, None, None, None, None, None, None, None, None, None, [], None, [21.0], None, None, None, None, None, None, [49.0, 49.0, 49.0], None, None, [], None, None, None, None, None, None, [26.0, 42.0, 42.0, 42.0], None, None, [13.0, 13.0, 13.0, 25.0, 25.0, 25.0, 25.0, 40.0, 40.0], None, None, None, None, [], None, [], None, None, None, None, None, None, None, [6.0, 4.0, 4.0, 4.0, 3.0, 3.0, 3.0, 3.0, 5.0, 5.0], None, None, None, None, None, None, None, None, [38.0, 38.0, 38.0], None, None, None, [50.0], None, None, None, None, None, [35.0, 35.0, 35.0], None, None, None, None, None, None]\n",
            "[[44.0], None, None, [50.0, 50.0, 50.0], [20.0], [43.0, 43.0, 43.0], [48.0], None, None, None, [15.0, 15.0, 15.0], None, None, None, None, [43.0], None, None, None, None, None, None, None, None, None, None, None, [48.0, 48.0, 48.0, 18.0, 18.0, 22.0, 22.0], None, None, None, [16.0, 25.0, 25.0], None, None, None, None, [22.0, 22.0, 22.0], None, [46.0, 46.0, 46.0], None, [21.0, 21.0, 21.0], None, [18.0, 18.0, 18.0, 17.0, 17.0, 24.0, 24.0], None, None, None, None, None, [5.0, 5.0, 5.0, 6.0, 6.0, 6.0, 6.0, 13.0, 13.0, 4.0, 4.0], None, None, None, None, [33.0], None, None, None, None, None, None, None, None, None, None, [17.0, 17.0, 17.0, 35.0, 35.0, 35.0, 35.0], None, None, None, None, None, None, None, [27.0, 40.0, 40.0], [41.0, 41.0, 41.0], None, None, [20.0, 20.0, 20.0, 20.0, 20.0, 29.0, 29.0], None, None, None, None, None, None, [36.0, 36.0, 36.0], None, None, None, [4.0, 4.0, 4.0, 5.0, 5.0, 5.0, 5.0, 3.0, 3.0, 3.0, 3.0], [43.0, 43.0, 43.0, 34.0, 34.0, 46.0, 46.0], None, [15.0, 19.0, 19.0], None, None, None, [41.0], None, [36.0, 48.0, 48.0], None, None, None, None, [11.0, 11.0, 11.0, 7.0, 7.0, 7.0, 7.0, 6.0, 6.0, 21.0, 21.0], None, None, None, [34.0, 34.0, 34.0, 13.0, 13.0, 13.0, 13.0, 40.0, 40.0], None, [30.0, 30.0, 30.0], None, None, None, None, None, None, None, None, None, None, None, None, None, None, None, None, [32.0, 32.0, 32.0], None, [37.0, 37.0, 37.0], None, None, None, None, None, [46.0], None, None, None, None, [18.0], None, None, None, None, None, [24.0, 24.0, 24.0], [16.0, 16.0, 16.0], None, None, None, None, None, None, None, None, [21.0, 21.0, 21.0, 41.0, 41.0, 41.0, 41.0, 23.0, 23.0, 27.0, 27.0], [35.0, 35.0, 35.0], None, None, None, None, None, None, [40.0, 40.0, 40.0, 30.0, 30.0, 39.0, 39.0], None, [8.0, 8.0, 8.0, 9.0, 9.0, 9.0, 9.0, 8.0, 8.0, 11.0, 11.0], None, None, None, None, None, None, [35.0], None, None, None, [20.0, 20.0, 20.0, 40.0, 40.0, 40.0, 40.0], [9.0, 36.0, 36.0], [1.0, 1.0, 1.0, 2.0, 2.0, 2.0, 2.0, 1.0, 1.0, 2.0, 2.0], [47.0], None, None, [31.0, 45.0, 45.0], None, None, None, None, None, [42.0, 42.0, 42.0, 12.0, 12.0, 17.0, 17.0], None, None, [28.0, 28.0, 28.0], None, [10.0, 10.0, 10.0, 19.0, 19.0, 19.0, 19.0, 45.0, 45.0, 50.0, 50.0], [26.0, 26.0, 26.0], None, None, None, None, None, None, None, None, None, None, None, None, [22.0, 22.0, 22.0, 48.0, 48.0, 48.0, 48.0], None, None, [49.0, 49.0, 49.0], [23.0], None, None, None, [6.0, 6.0, 6.0, 3.0, 3.0, 3.0, 3.0, 14.0, 14.0, 7.0, 7.0], None, None, None, None, None, None, None, None, [49.0], None, None, None, [17.0, 17.0, 17.0], None, None, [18.0, 18.0, 18.0, 39.0, 39.0, 39.0, 39.0, 15.0, 15.0], None, [44.0, 44.0, 44.0], [12.0, 12.0, 12.0, 30.0, 30.0, 30.0, 30.0, 7.0, 7.0, 9.0, 9.0], None, [28.0], [39.0], [31.0], None, [32.0], None, [33.0, 33.0, 33.0], None, None, None, None, None, None, None, None, None, [25.0, 25.0, 25.0], None, None, None, None, None, None, None, None, None, [49.0], None, None, None, None, None, None, None, None, None, None, None, None, None, [22.0, 34.0, 34.0], None, [29.0, 29.0, 29.0], None, None, None, None, [46.0, 46.0, 46.0, 14.0, 14.0, 14.0, 14.0, 42.0, 42.0], None, None, [14.0], None, [2.0, 2.0, 2.0, 1.0, 1.0, 1.0, 1.0, 2.0, 2.0, 1.0, 1.0], [28.0, 42.0, 42.0], None, None, None, [47.0, 47.0, 47.0], [6.0], None, None, None, None, [14.0, 14.0, 14.0, 36.0, 36.0, 36.0, 36.0], None, None, None, None, None, None, None, None, None, [25.0, 25.0, 25.0], None, None, None, None, None, None, None, None, None, None, None, None, None, None, [27.0, 27.0, 27.0], [27.0, 27.0, 27.0, 26.0, 26.0, 37.0, 37.0], None, [38.0, 38.0, 38.0], None, None, None, None, None, [37.0], [37.0, 37.0, 37.0], None, None, [32.0, 13.0, 13.0], None, None, [19.0, 19.0, 19.0, 31.0, 31.0, 31.0, 31.0, 16.0, 16.0], None, None, None, None, None, [9.0, 9.0, 9.0, 11.0, 11.0, 11.0, 11.0, 10.0, 10.0, 12.0, 12.0], [47.0, 47.0, 47.0], None, None, None, None, None, None, None, None, None, None, None, None, None, None, None, None, None, [44.0], [39.0, 39.0, 39.0], None, [34.0, 34.0, 34.0, 33.0, 33.0, 43.0, 43.0], None, [50.0], [7.0, 7.0, 7.0, 8.0, 8.0, 8.0, 8.0, 11.0, 11.0, 10.0, 10.0], None, None, None, None, None, None, None, None, [42.0, 42.0, 42.0], None, None, None, [13.0, 13.0, 13.0, 32.0, 32.0, 32.0, 32.0], [50.0, 50.0, 50.0], None, None, None, None, [31.0, 31.0, 31.0], None, None, None, None, [44.0, 44.0, 44.0], [29.0, 29.0, 29.0], None, None, None, None, [15.0, 15.0, 15.0, 33.0, 33.0, 33.0, 33.0, 5.0, 5.0, 8.0, 8.0], None, None, [38.0, 38.0, 38.0], None, None, [49.0, 49.0, 49.0], None, None, None, None, None, None, None, None, [24.0, 24.0, 24.0, 12.0, 12.0, 12.0, 12.0, 21.0, 21.0, 26.0, 26.0], [25.0], None, None, None, None, None, None, None, None, None, None, None, None, None, None, None, None, None, [45.0, 45.0, 45.0], None, None, None, None, None, None, None, None, None, None, None, None, None, None, None, None, None, None, None, None, None, None, None, None, None, None, None, None, None, [19.0, 30.0, 30.0], None, None, None, None, None, None, None, None, None, None, None, None, [23.0, 23.0, 23.0], None, None, None, None, None, None, None, None, None, None, None, None, None, None, None, [45.0, 45.0, 45.0], None, [23.0, 23.0, 23.0], None, [26.0, 26.0, 26.0], None, None, None, [38.0], None, [41.0], [16.0, 16.0, 16.0, 10.0, 10.0, 10.0, 10.0, 35.0, 35.0, 47.0, 47.0], None, None, None, None, None, None, None, [3.0, 3.0, 3.0, 4.0, 4.0, 4.0, 4.0, 4.0, 4.0, 5.0, 5.0], None, None, None, None, None, None, None, None, None, None, None, [28.0, 28.0, 28.0], None, None, [29.0], None, None, [24.0, 38.0, 38.0], None, None, None, None, None, None, None]\n",
            "[None, None, None, None, [1.0, 1.0, 1.0, 1.0, 1.0, 1.0, 1.0, 1.0, 1.0, 1.0], None, None, None, None, None, None, None, None, None, None, None, None, None, None, None, None, None, None, None, None, None, None, [46.0, 46.0, 46.0, 46.0], [44.0, 44.0, 44.0, 44.0, 44.0], [47.0, 47.0, 47.0, 47.0, 47.0], None, [23.0, 23.0, 23.0, 23.0, 16.0, 16.0, 16.0, 16.0, 16.0, 16.0], None, None, None, None, None, None, None, None, None, [35.0, 35.0, 35.0, 35.0], None, None, None, None, [33.0, 33.0, 33.0, 33.0, 33.0], None, [7.0, 7.0, 7.0, 7.0, 20.0, 20.0, 20.0, 20.0, 20.0, 20.0], None, None, None, None, None, None, None, None, None, None, None, None, [39.0, 39.0, 39.0, 27.0, 27.0, 27.0, 27.0, 27.0, 27.0], None, None, None, None, None, None, None, None, None, None, None, None, None, None, None, None, None, None, None, None, None, None, [37.0, 37.0, 37.0], None, None, [3.0, 3.0, 3.0, 3.0, 3.0, 3.0, 3.0, 3.0, 3.0, 3.0], [33.0, 33.0, 33.0, 33.0], [], [8.0, 8.0, 8.0, 8.0, 26.0, 26.0, 26.0, 26.0, 26.0, 26.0], [36.0, 36.0, 36.0, 36.0], None, None, None, None, None, None, None, None, None, [], None, None, None, None, None, None, None, None, [42.0, 42.0, 42.0, 42.0], None, None, [43.0, 43.0, 43.0, 43.0], None, None, [], None, None, None, None, None, None, None, None, [25.0, 25.0, 25.0], None, None, None, None, None, None, None, None, None, None, None, [30.0, 30.0, 30.0, 30.0, 13.0, 13.0, 13.0, 13.0, 13.0, 13.0], None, None, [], None, None, None, None, None, None, None, [36.0, 36.0, 36.0, 36.0, 36.0], None, None, None, None, [22.0, 22.0, 22.0, 22.0, 5.0, 5.0, 5.0, 5.0, 5.0, 5.0], None, None, None, None, None, None, None, [28.0, 28.0, 28.0, 28.0, 46.0, 46.0, 46.0, 46.0, 46.0, 46.0], [32.0, 32.0, 32.0], [24.0, 24.0, 24.0, 24.0, 39.0, 39.0, 39.0, 39.0, 39.0, 39.0], None, None, [], None, None, None, [41.0, 41.0, 41.0, 41.0, 41.0], None, None, [23.0, 23.0, 23.0, 23.0, 23.0], None, [12.0, 12.0, 12.0, 12.0, 10.0, 10.0, 10.0, 10.0, 10.0, 10.0], [4.0, 4.0, 4.0, 4.0, 6.0, 6.0, 6.0, 6.0, 6.0, 6.0], [41.0, 41.0, 41.0], None, None, None, [24.0, 24.0, 24.0, 24.0, 24.0, 24.0], None, None, None, None, None, None, None, None, None, [30.0, 30.0, 30.0, 30.0, 30.0], None, [48.0, 48.0, 48.0], None, [28.0, 28.0, 28.0, 28.0, 28.0], None, None, None, None, [15.0, 15.0, 15.0, 15.0, 40.0, 40.0, 40.0, 40.0, 40.0, 40.0], None, None, None, None, None, [43.0, 43.0, 43.0, 43.0, 43.0], None, None, None, None, None, None, [13.0, 13.0, 13.0, 13.0, 8.0, 8.0, 8.0, 8.0, 8.0, 8.0], [29.0, 29.0, 29.0, 29.0, 29.0], None, None, [49.0, 49.0, 49.0, 49.0, 49.0], None, None, None, None, [], None, None, None, None, None, None, [29.0, 29.0, 29.0, 29.0, 15.0, 15.0, 15.0, 15.0, 15.0, 15.0], None, None, [], None, None, None, None, None, [34.0, 34.0, 34.0, 34.0, 34.0], [27.0, 27.0, 27.0], None, None, None, None, None, None, [], None, None, None, None, None, [], None, None, None, None, None, None, None, None, None, None, None, None, None, None, None, None, [14.0, 14.0, 14.0, 42.0, 42.0, 42.0, 42.0, 42.0, 42.0], [49.0, 49.0, 49.0], None, None, None, None, None, None, None, None, None, None, None, None, None, [32.0, 32.0, 32.0, 32.0, 32.0], None, [5.0, 5.0, 5.0, 5.0, 4.0, 4.0, 4.0, 4.0, 4.0, 4.0], None, None, [48.0, 48.0, 48.0, 48.0, 48.0], None, [26.0, 26.0, 26.0], None, [34.0, 34.0, 34.0], None, None, None, None, None, None, None, None, None, None, None, None, None, [11.0, 11.0, 11.0, 11.0, 11.0], None, None, None, None, None, None, [], None, None, None, None, [50.0, 50.0, 50.0, 50.0, 50.0], None, None, None, [20.0, 20.0, 20.0, 19.0, 19.0, 19.0, 19.0, 19.0, 19.0], None, None, None, None, None, None, None, [], [44.0, 44.0, 44.0, 44.0], None, None, None, None, None, [31.0, 18.0, 31.0, 18.0, 31.0, 18.0, 31.0, 18.0, 31.0, 18.0, 31.0, 18.0], None, None, None, None, None, [9.0, 9.0, 9.0, 9.0, 22.0, 22.0, 22.0, 22.0, 22.0, 22.0], None, None, None, None, None, [31.0, 31.0, 31.0, 31.0], None, None, None, None, None, None, None, [50.0, 50.0, 50.0, 21.0, 21.0, 21.0, 21.0, 21.0, 21.0], None, None, [38.0, 38.0, 38.0, 38.0, 38.0], None, None, None, None, [16.0, 16.0, 16.0, 14.0, 14.0, 14.0, 14.0, 14.0, 14.0], None, [], [18.0, 18.0, 18.0, 18.0, 12.0, 12.0, 12.0, 12.0, 12.0, 12.0], None, None, [17.0, 17.0, 17.0, 17.0, 17.0, 17.0, 17.0, 17.0, 17.0], None, None, None, None, None, [], None, None, [25.0, 25.0, 25.0, 25.0, 25.0], None, None, None, None, None, None, None, None, None, None, None, None, None, None, None, None, None, [11.0, 11.0, 11.0, 11.0, 9.0, 9.0, 9.0, 9.0, 9.0, 9.0], None, None, None, None, None, None, None, None, None, None, None, None, [21.0, 21.0, 21.0], None, [47.0, 47.0, 47.0, 47.0], None, None, None, None, None, None, None, None, None, None, None, None, None, [40.0, 40.0, 40.0], None, None, None, None, None, None, None, None, None, None, [10.0, 10.0, 10.0, 35.0, 35.0, 35.0, 35.0, 35.0, 35.0], None, None, [], None, None, None, None, None, None, [45.0, 45.0, 45.0, 45.0, 45.0], None, None, None, None, None, None, None, None, None, None, None, None, None, None, None, None, None, None, None, [37.0, 37.0, 37.0, 37.0, 37.0], None, None, None, None, None, None, [45.0, 45.0, 45.0, 45.0], None, [], None, None, None, [38.0, 38.0, 38.0], None, None, None, None, None, None, None, None, None, None, [19.0, 19.0, 19.0], None, None, None, [], None, None, None, None, None, None, None, None, None, None, None, None, [], [2.0, 2.0, 2.0, 2.0, 2.0, 2.0, 2.0, 2.0, 2.0, 2.0], None, None, None, None, [], None, None, None, None, None, None, None, None, None, None, [6.0, 6.0, 6.0, 7.0, 7.0, 7.0, 7.0, 7.0, 7.0], None, [], None, None, None, None, None, None, None]\n",
            "[None, None, None, None, [3.0, 3.0, 3.0, 3.0, 3.0, 3.0, 3.0, 3.0, 3.0, 3.0, 3.0, 3.0], None, None, None, [40.0, 40.0], [], None, [39.0, 39.0, 26.0, 26.0, 26.0], None, None, None, None, None, None, [37.0, 37.0], None, None, None, None, [49.0, 49.0], [9.0, 9.0, 14.0, 14.0, 14.0, 30.0, 30.0, 30.0, 48.0, 48.0, 48.0], None, None, [10.0, 10.0, 10.0, 11.0, 11.0, 11.0, 20.0, 20.0, 20.0, 28.0, 28.0, 28.0], None, None, None, [24.0, 24.0, 41.0, 41.0, 41.0, 12.0, 12.0, 12.0], None, None, None, None, None, None, None, [50.0, 50.0], None, None, [28.0, 28.0, 28.0, 13.0, 13.0, 13.0, 26.0, 26.0, 26.0, 39.0, 39.0, 39.0], None, [48.0, 48.0], [], None, [42.0, 42.0], [11.0, 11.0, 11.0, 15.0, 15.0, 15.0, 22.0, 22.0, 22.0, 14.0, 14.0, 14.0], None, None, None, None, None, None, None, None, None, None, None, None, None, None, [45.0, 45.0], [47.0, 47.0], None, None, None, None, None, None, [21.0, 21.0, 40.0, 40.0, 40.0], None, None, None, None, [30.0, 30.0], None, None, None, None, None, None, None, None, None, None, [2.0, 2.0, 2.0, 4.0, 4.0, 4.0, 7.0, 7.0, 7.0, 11.0, 11.0, 11.0], None, None, [27.0, 27.0], None, None, None, None, [34.0, 34.0], None, None, None, None, None, [17.0, 17.0, 17.0, 31.0, 31.0, 31.0, 11.0, 11.0, 11.0, 20.0, 20.0, 20.0], None, None, None, None, None, None, None, [44.0, 44.0], None, None, None, None, None, None, None, None, None, None, None, None, None, None, None, None, [], None, None, None, None, None, None, None, None, None, None, [32.0, 32.0, 47.0, 47.0, 47.0], None, None, None, [13.0, 13.0, 13.0, 5.0, 5.0, 5.0, 4.0, 4.0, 4.0, 6.0, 6.0, 6.0], None, [45.0, 45.0], [35.0, 35.0], [32.0, 32.0], None, None, None, None, None, None, None, [8.0, 8.0, 8.0, 10.0, 10.0, 10.0, 9.0, 9.0, 9.0, 15.0, 15.0, 15.0], None, None, None, None, None, None, None, [18.0, 18.0, 18.0, 35.0, 35.0, 35.0, 13.0, 13.0, 13.0, 22.0, 22.0, 22.0], None, [42.0, 42.0, 42.0, 17.0, 17.0, 17.0, 28.0, 28.0, 28.0, 38.0, 38.0, 38.0], [49.0, 49.0], None, None, [38.0, 38.0], [27.0, 27.0], None, None, None, [], None, None, [23.0, 23.0, 39.0, 39.0, 39.0, 17.0, 17.0, 17.0], [4.0, 4.0, 4.0, 6.0, 6.0, 6.0, 6.0, 6.0, 6.0, 2.0, 2.0, 2.0], None, None, [], None, None, [19.0, 19.0, 36.0, 36.0, 36.0], None, None, None, None, None, None, None, [21.0, 21.0, 46.0, 46.0, 46.0], [35.0, 35.0, 35.0, 12.0, 12.0, 12.0, 24.0, 24.0, 24.0, 35.0, 35.0, 35.0], None, None, None, None, None, [50.0, 50.0], None, None, None, [22.0, 22.0, 45.0, 45.0, 45.0], None, None, None, None, [50.0, 50.0], None, None, None, [16.0, 16.0, 33.0, 33.0, 33.0], None, [1.0, 1.0, 1.0, 1.0, 1.0, 1.0, 1.0, 1.0, 1.0, 1.0, 1.0, 1.0], [12.0, 12.0, 12.0, 18.0, 18.0, 18.0, 27.0, 27.0, 27.0, 30.0, 30.0, 30.0], [44.0, 44.0], None, [], None, [50.0, 50.0], None, None, None, [], None, [], None, None, None, None, [7.0, 7.0, 7.0, 7.0, 7.0, 7.0, 10.0, 10.0, 10.0, 7.0, 7.0, 7.0], None, None, [5.0, 5.0, 5.0, 2.0, 2.0, 2.0, 2.0, 2.0, 2.0, 4.0, 4.0, 4.0], None, None, None, None, None, [], [25.0, 25.0, 25.0, 41.0, 41.0, 41.0], [9.0, 9.0, 18.0, 18.0, 18.0, 32.0, 32.0, 32.0], None, None, None, None, None, None, None, [20.0, 20.0, 20.0, 42.0, 42.0, 42.0], None, None, None, None, None, None, [41.0, 41.0], None, None, None, None, None, [29.0, 29.0], None, None, None, None, None, [36.0, 36.0], None, [42.0, 42.0, 19.0, 19.0, 19.0], None, None, None, None, None, None, None, [24.0, 24.0, 15.0, 15.0, 15.0, 13.0, 13.0, 13.0], [36.0, 36.0], [33.0, 33.0, 33.0], [23.0, 23.0], [25.0, 25.0, 25.0, 24.0, 24.0, 24.0], [40.0, 40.0], None, None, None, [15.0, 15.0, 15.0, 25.0, 25.0, 25.0, 36.0, 36.0, 36.0, 16.0, 16.0, 16.0], None, [26.0, 26.0, 49.0, 49.0, 49.0], None, None, None, None, [37.0, 37.0], None, [], None, [39.0, 39.0], None, None, None, None, None, None, None, None, None, [14.0, 14.0, 14.0, 21.0, 21.0, 21.0, 37.0, 37.0, 37.0], None, None, None, [41.0, 41.0], None, [49.0, 49.0], None, None, None, None, None, None, None, None, None, None, None, None, None, [44.0, 44.0], None, None, None, None, None, None, None, None, None, None, [33.0, 33.0, 9.0, 9.0, 9.0], None, None, [47.0, 47.0], None, None, [23.0, 23.0, 23.0, 43.0, 43.0, 43.0, 14.0, 14.0, 14.0], None, None, None, [26.0, 26.0, 26.0], None, [], None, None, None, None, [48.0, 48.0], [46.0, 46.0], None, [25.0, 25.0, 25.0], None, None, None, None, None, None, None, [29.0, 29.0, 43.0, 43.0, 43.0], None, None, [43.0, 43.0, 43.0], None, None, [30.0, 30.0, 30.0, 23.0, 23.0, 23.0, 37.0, 37.0, 37.0], None, None, None, None, None, [48.0, 48.0], None, None, None, None, None, None, None, [22.0, 22.0, 43.0, 43.0, 43.0], None, None, None, None, [], None, None, None, None, [], None, None, [31.0, 31.0, 31.0, 21.0, 21.0, 21.0], [32.0, 32.0], None, None, None, [34.0, 34.0], None, None, None, [28.0, 28.0], None, None, None, [34.0, 34.0], None, [20.0, 20.0, 20.0, 5.0, 5.0, 5.0, 10.0, 10.0, 10.0], None, None, None, None, None, None, None, None, None, None, None, None, None, None, [17.0, 17.0, 29.0, 29.0, 29.0], None, [31.0, 31.0, 31.0], None, None, [34.0, 34.0], [47.0, 47.0], None, [], None, [], None, None, None, None, None, None, None, None, None, [], None, None, None, None, None, None, None, None, None, None, None, [16.0, 16.0, 31.0, 31.0, 31.0], None, [38.0, 38.0], None, None, None, None, None, None, None, None, None, None, None, [19.0, 19.0, 38.0, 38.0, 38.0], None, None, None, None, None, [], None, None, None, None, None, None, None, None, None, None, None, None, None, None, None, None, [46.0, 46.0], None, [27.0, 27.0, 46.0, 46.0, 46.0], None, None, None, None, None, None, None, None, None, None, [6.0, 6.0, 6.0, 8.0, 8.0, 8.0, 12.0, 12.0, 12.0, 5.0, 5.0, 5.0], None, None, [44.0, 44.0], None, None, None, None, None, None, None, None, None, None, None, [], [19.0, 19.0, 19.0, 40.0, 40.0, 40.0, 16.0, 16.0, 16.0, 33.0, 33.0, 33.0], None, None, None, None, None, [29.0, 29.0, 8.0, 8.0, 8.0, 8.0, 8.0, 8.0], None, None, [45.0, 45.0, 18.0, 18.0, 18.0]]\n",
            "[None, None, None, None, [2.0, 2.0, 2.0, 3.0, 3.0, 3.0, 5.0, 5.0, 5.0, 4.0], None, None, [49.0, 49.0, 49.0], None, [27.0, 27.0, 27.0, 44.0, 44.0, 44.0], None, None, None, None, None, [30.0, 30.0], [41.0, 41.0], None, None, None, None, None, None, None, [11.0, 11.0, 11.0, 18.0, 18.0, 18.0, 10.0, 10.0, 10.0, 16.0], None, None, None, None, None, None, [42.0, 42.0, 42.0], None, None, None, None, None, None, None, None, None, None, None, None, None, None, [42.0, 42.0], None, [16.0, 16.0, 16.0, 24.0, 24.0, 24.0, 35.0, 35.0, 35.0, 41.0], None, None, None, [], None, None, None, None, None, None, None, None, None, None, None, [18.0, 18.0, 18.0, 27.0, 27.0, 27.0], None, None, [39.0, 39.0], None, None, [38.0, 38.0, 38.0], None, None, None, None, None, None, [50.0, 50.0], None, None, None, None, None, None, None, [49.0, 49.0], [], [3.0, 3.0, 3.0, 2.0, 2.0, 2.0, 2.0, 2.0, 2.0, 3.0], None, None, None, None, None, None, [25.0, 25.0, 11.0], None, None, None, None, [48.0, 48.0], None, None, None, None, [], None, None, None, [46.0, 46.0], None, None, None, [30.0, 30.0, 14.0], None, None, None, None, None, None, None, None, None, None, None, None, None, [], None, None, None, None, None, None, None, None, [], None, None, None, None, None, [15.0, 15.0, 15.0, 20.0, 20.0, 20.0, 32.0, 32.0, 32.0, 39.0], None, [31.0, 31.0, 46.0], None, None, None, None, [22.0, 22.0, 43.0, 43.0, 43.0], [], None, None, None, [33.0, 33.0, 33.0, 49.0, 49.0, 49.0], None, [42.0, 42.0], None, None, None, None, [47.0, 47.0], [24.0, 24.0, 24.0, 36.0, 36.0, 36.0, 11.0, 11.0, 11.0, 20.0], None, None, None, None, None, None, [], None, None, [37.0, 37.0, 37.0], [24.0, 24.0, 31.0], None, None, [17.0, 17.0, 17.0, 8.0, 8.0, 8.0, 15.0, 15.0, 15.0, 21.0], [6.0, 6.0, 6.0, 4.0, 4.0, 4.0, 3.0, 3.0, 3.0, 2.0], [37.0, 37.0], None, None, None, None, None, None, None, None, None, [43.0, 43.0, 43.0], None, None, None, [], None, None, None, None, [], None, None, None, [33.0, 33.0, 6.0, 6.0, 6.0, 9.0], None, None, None, None, None, None, None, None, None, None, None, [1.0, 1.0, 1.0, 1.0, 1.0, 1.0, 1.0, 1.0, 1.0, 1.0], [23.0, 23.0, 23.0, 31.0, 31.0, 31.0, 13.0, 13.0, 13.0, 19.0], [9.0, 9.0, 15.0], None, None, None, None, None, None, None, None, None, None, None, None, None, None, [9.0, 9.0, 9.0, 11.0, 11.0, 11.0, 17.0, 17.0, 17.0, 18.0], None, None, [13.0, 13.0, 13.0, 16.0, 16.0, 16.0, 26.0, 26.0, 26.0, 32.0], None, None, None, None, None, None, [34.0, 34.0, 34.0, 22.0], None, [47.0, 47.0], None, None, None, None, None, None, None, None, None, None, None, [34.0, 34.0], None, [26.0, 26.0], None, None, [26.0, 26.0, 26.0, 43.0, 43.0, 43.0], None, None, None, None, None, None, None, None, None, [40.0, 40.0], None, None, [28.0, 28.0, 28.0, 14.0, 14.0, 14.0, 23.0], None, None, None, None, None, None, None, None, None, [4.0, 4.0, 4.0, 9.0, 9.0, 9.0, 20.0, 20.0, 20.0, 24.0], [19.0, 19.0, 19.0, 32.0, 32.0, 32.0], None, None, None, [8.0, 8.0, 8.0, 10.0, 10.0, 10.0, 16.0, 16.0, 16.0, 17.0], None, None, None, None, None, None, None, None, None, None, None, [27.0, 27.0, 40.0], None, None, None, None, None, None, [48.0, 48.0, 48.0], None, None, None, None, None, None, None, None, None, None, None, None, None, None, None, None, [38.0, 38.0], None, [45.0, 45.0, 45.0], None, None, [7.0, 7.0, 18.0, 18.0, 18.0, 27.0], [46.0, 46.0, 46.0], None, None, None, None, None, None, [35.0, 35.0], None, None, [30.0, 30.0, 30.0, 40.0, 40.0, 40.0, 12.0, 12.0, 12.0, 6.0], None, [39.0, 39.0, 39.0, 28.0], None, None, None, [29.0, 29.0, 29.0, 39.0, 39.0, 39.0, 19.0, 19.0, 19.0, 8.0], None, [34.0, 34.0], None, None, None, None, None, None, [44.0, 44.0], None, None, None, None, [23.0, 23.0, 41.0, 41.0, 41.0], [22.0, 22.0, 22.0, 38.0, 38.0, 38.0], [33.0, 33.0], [45.0, 45.0], None, None, None, None, [15.0, 15.0, 28.0, 28.0, 28.0, 37.0], None, None, [20.0, 20.0, 20.0, 12.0, 12.0, 12.0, 21.0, 21.0, 21.0, 26.0], [25.0, 25.0], [22.0, 22.0, 30.0], [47.0, 47.0, 47.0], None, None, None, None, None, [14.0, 14.0, 29.0, 29.0, 29.0, 38.0], None, None, None, None, None, None, None, None, None, None, None, None, None, None, None, [28.0, 28.0], [], [], None, None, [7.0, 7.0, 7.0, 5.0, 5.0, 5.0, 4.0, 4.0, 4.0, 5.0], None, [50.0, 50.0, 50.0], None, [], None, None, None, None, None, None, None, None, [12.0, 12.0, 12.0, 17.0, 17.0, 17.0, 8.0, 8.0, 8.0, 13.0], None, [5.0, 5.0, 5.0, 13.0, 13.0, 13.0, 23.0, 23.0, 23.0, 10.0], None, None, None, None, None, None, None, None, None, None, [25.0, 25.0, 25.0], None, None, None, None, None, None, None, None, None, [19.0, 19.0, 36.0, 36.0, 36.0], None, None, None, None, None, [36.0, 36.0, 36.0], None, None, None, None, None, [], None, None, None, None, None, None, None, None, None, [44.0, 44.0, 44.0], None, [40.0, 40.0, 40.0], None, None, None, None, [46.0, 46.0], None, None, None, None, None, None, None, [45.0, 45.0], None, None, None, None, None, None, None, None, None, None, [50.0, 50.0], None, None, None, None, None, None, None, None, None, None, None, None, None, None, [32.0, 32.0, 32.0], None, None, None, None, None, None, None, None, None, [41.0, 41.0, 41.0], [31.0, 31.0, 31.0], None, [10.0, 10.0, 10.0, 6.0, 6.0, 6.0, 7.0, 7.0, 7.0, 12.0], None, None, None, None, None, None, [], None, None, None, None, None, [14.0, 14.0, 14.0, 21.0, 21.0, 21.0, 37.0, 37.0, 37.0, 49.0], None, None, None, None, None, None, [35.0, 35.0, 35.0], None, [21.0, 21.0, 21.0, 29.0, 29.0, 29.0, 48.0, 48.0, 48.0], None, None, None]\n",
            "[None, None, None, None, [12.0, 12.0, 12.0, 16.0], None, None, None, None, None, None, None, None, None, None, None, None, None, None, None, None, None, None, None, [], None, None, [14.0, 14.0, 14.0, 21.0], None, None, None, [], [44.0, 44.0, 44.0], None, None, None, None, None, None, None, None, None, None, None, None, None, None, None, None, None, None, [46.0, 46.0, 46.0], None, None, None, None, None, None, None, None, None, None, None, None, None, None, None, None, None, None, None, None, None, None, None, None, None, None, [40.0, 40.0, 40.0], None, None, None, None, None, None, None, [], [2.0, 2.0, 2.0, 2.0], None, None, None, [20.0, 20.0, 20.0, 34.0], [36.0, 36.0, 36.0], None, [], None, None, None, None, None, None, [13.0, 13.0, 13.0, 20.0], None, None, None, None, None, None, None, None, None, None, [37.0, 37.0, 37.0], None, None, None, None, None, None, None, None, [24.0, 24.0, 24.0, 43.0], None, None, None, None, None, None, None, None, None, None, None, None, None, None, None, None, None, None, None, [27.0, 27.0, 27.0, 41.0], None, None, None, None, None, None, None, None, None, None, None, [], None, None, None, None, None, None, None, None, None, None, None, None, None, None, None, None, None, None, None, None, [42.0, 42.0, 42.0], [33.0, 33.0, 33.0], [4.0, 4.0, 4.0, 5.0], [], None, None, None, None, None, None, None, None, None, None, None, None, None, [7.0, 7.0, 7.0, 3.0], None, None, None, None, None, None, None, None, [39.0, 39.0, 39.0], [48.0, 48.0, 48.0], None, None, None, None, None, None, None, None, None, None, [1.0, 1.0, 1.0, 1.0], [6.0, 6.0, 6.0, 9.0], [8.0, 8.0, 8.0, 32.0], None, None, None, None, None, None, None, None, None, None, None, None, None, None, [9.0, 9.0, 9.0, 11.0], None, None, None, None, None, None, None, None, None, None, None, None, None, None, None, None, None, None, None, None, None, None, None, None, None, None, None, None, None, None, None, None, None, None, [], None, None, None, None, None, None, [45.0, 45.0, 45.0], [26.0, 26.0, 26.0, 45.0], None, None, None, [16.0, 16.0, 16.0, 26.0], None, None, None, None, None, None, None, None, [49.0, 49.0, 49.0], [3.0, 3.0, 3.0, 4.0], None, None, None, None, None, None, None, None, None, None, None, None, None, None, [15.0, 15.0, 15.0, 27.0], None, None, None, None, None, None, None, None, None, None, [], None, None, None, None, None, [38.0, 38.0, 38.0], None, None, None, [30.0, 30.0, 30.0, 48.0], [], None, None, None, None, None, None, None, None, None, None, None, None, [], None, [25.0, 25.0, 25.0, 8.0], None, [], None, None, None, [17.0, 17.0, 17.0, 25.0], None, None, None, None, None, None, None, None, None, [28.0, 28.0, 28.0, 49.0], None, None, None, [], None, None, None, None, None, None, [10.0, 10.0, 10.0, 12.0], None, None, None, [23.0, 23.0, 23.0, 36.0], None, None, [], None, None, None, None, None, None, None, None, None, None, None, None, None, [34.0, 34.0, 34.0, 13.0], None, None, None, None, None, None, None, None, None, [22.0, 22.0, 22.0, 39.0], None, None, [11.0, 11.0, 11.0, 10.0], None, None, None, [41.0, 41.0, 41.0], None, None, [], None, None, None, None, None, [18.0, 18.0, 18.0, 23.0], None, [19.0, 19.0, 19.0, 24.0], None, None, None, None, None, None, None, None, None, None, None, None, None, None, None, None, None, None, None, None, None, None, None, [50.0, 50.0, 50.0], None, None, None, [31.0, 31.0, 31.0], None, None, None, None, None, None, None, None, None, None, None, None, None, None, None, None, None, None, None, None, None, None, [35.0, 35.0, 35.0], None, None, None, None, None, None, None, [], None, None, None, None, None, None, None, None, None, None, None, None, [21.0, 21.0, 21.0, 38.0], None, None, [], None, None, None, None, None, None, None, None, None, None, None, None, [47.0, 47.0, 47.0], None, None, [43.0, 43.0, 43.0], [32.0, 32.0, 32.0], None, None, None, None, [5.0, 5.0, 5.0, 7.0], None, None, None, None, None, None, [29.0, 29.0, 29.0, 6.0], None, None, None, None, None, None, None, [], None, None, None, [], None, None, [], None, None, None]\n",
            "[None, None, None, None, [19.0, 6.0, 6.0, 6.0, 3.0, 3.0, 3.0], None, None, None, None, [45.0, 45.0], None, None, None, None, None, [26.0, 17.0, 17.0, 17.0, 25.0, 25.0, 25.0], None, None, None, None, None, None, None, None, [28.0, 28.0, 46.0, 46.0, 46.0], None, None, [21.0, 21.0, 16.0, 16.0, 16.0], None, None, None, [33.0, 33.0], None, None, [41.0, 41.0], None, None, None, None, None, None, None, [37.0, 37.0], None, None, None, None, None, None, None, None, [33.0, 33.0], None, None, None, [43.0, 43.0], None, None, None, None, [50.0, 50.0], None, None, None, None, None, None, None, None, None, None, None, None, None, None, None, [40.0], None, [37.0, 37.0], None, None, None, None, None, [35.0, 35.0], None, None, [3.0, 8.0, 8.0, 8.0, 2.0, 2.0, 2.0], None, None, None, [29.0, 29.0], None, None, [48.0], None, [49.0, 29.0, 29.0, 29.0], [47.0, 47.0], [42.0], None, None, [8.0, 11.0, 11.0, 11.0, 13.0, 13.0, 13.0], None, None, None, None, None, None, None, [31.0, 31.0], None, [15.0, 13.0, 13.0, 13.0, 22.0, 22.0, 22.0], None, None, None, None, None, None, None, None, None, None, None, None, None, None, None, None, None, None, None, None, None, [34.0], None, None, None, [31.0, 47.0, 47.0, 47.0], None, None, None, None, None, None, [34.0, 34.0], [28.0, 45.0, 45.0, 45.0], [11.0], None, None, None, None, [7.0, 3.0, 3.0, 3.0, 6.0, 6.0, 6.0], None, [46.0], None, None, None, None, None, [32.0, 48.0, 48.0, 48.0], None, None, None, None, None, None, None, None, [44.0, 44.0], None, None, None, None, None, None, [36.0, 39.0, 39.0, 39.0, 21.0, 21.0, 21.0], [5.0, 2.0, 2.0, 2.0, 4.0, 4.0, 4.0], None, None, [16.0, 26.0, 26.0, 26.0, 40.0, 40.0, 40.0], None, None, None, None, None, None, [37.0, 20.0, 20.0, 20.0, 30.0, 30.0, 30.0], None, [49.0, 49.0], None, None, [24.0, 7.0, 7.0, 7.0, 7.0, 7.0, 7.0], None, None, None, None, [44.0], None, None, None, [38.0, 38.0], None, None, None, None, None, None, None, None, None, None, None, [1.0, 1.0, 1.0, 1.0, 1.0, 1.0, 1.0], [20.0, 27.0, 27.0, 27.0, 34.0, 34.0, 34.0], [26.0, 26.0], None, None, None, None, None, None, None, None, None, None, None, None, None, None, [10.0, 19.0, 19.0, 19.0, 23.0, 23.0, 23.0], None, None, None, None, None, None, None, None, None, [38.0, 50.0, 50.0, 50.0], None, None, None, None, None, None, None, None, None, None, None, None, None, None, None, None, None, None, None, None, None, None, None, None, None, None, None, None, None, None, None, None, None, None, None, None, None, None, None, None, None, None, None, None, None, None, [9.0, 18.0, 18.0, 18.0, 10.0, 10.0, 10.0], None, None, None, None, None, None, None, None, None, None, None, None, None, None, [29.0, 44.0, 44.0, 44.0], None, None, None, None, None, [36.0, 36.0], None, None, None, None, None, None, None, [35.0], None, None, None, None, None, [18.0, 40.0, 40.0, 40.0], None, None, None, None, [31.0, 31.0], None, [28.0, 28.0], None, None, None, None, None, None, None, None, None, [6.0, 12.0, 12.0, 12.0, 19.0, 19.0, 19.0], None, [39.0, 39.0], None, None, None, [32.0, 32.0], None, None, None, None, None, None, [45.0], None, None, [27.0, 32.0, 32.0, 32.0], None, None, None, [18.0, 18.0], None, None, None, None, None, None, [23.0, 14.0, 14.0, 14.0, 20.0, 20.0, 20.0], [33.0], None, None, [17.0, 25.0, 25.0, 25.0, 17.0, 17.0, 17.0], None, [38.0, 38.0], None, None, None, None, None, [43.0], None, None, None, None, None, None, None, None, None, None, None, [30.0, 49.0, 49.0, 49.0], None, None, None, None, [43.0, 43.0], None, None, [21.0, 9.0, 9.0, 9.0, 14.0, 14.0, 14.0], None, [13.0, 22.0, 22.0, 22.0, 15.0, 15.0, 15.0], None, None, None, [25.0, 16.0, 16.0, 16.0, 48.0, 48.0, 48.0], None, None, None, [41.0, 41.0], None, None, None, None, [12.0, 5.0, 5.0, 5.0, 5.0, 5.0, 5.0], None, [14.0, 23.0, 23.0, 23.0, 12.0, 12.0, 12.0], None, None, None, None, None, None, None, None, None, [36.0, 36.0], None, None, None, None, None, [50.0], None, None, None, None, None, None, None, None, None, None, None, [41.0, 24.0, 24.0, 24.0], None, None, [47.0], None, None, None, None, [39.0], None, None, None, None, [30.0, 30.0], None, None, None, None, None, None, None, None, None, None, [42.0, 42.0], None, None, None, None, None, [24.0, 24.0, 35.0, 35.0, 35.0], [22.0, 15.0, 15.0, 15.0, 9.0, 9.0, 9.0], None, None, None, None, None, None, None, None, None, None, None, None, None, None, None, None, None, None, None, None, None, None, None, None, None, None, None, None, None, None, None, None, None, None, None, None, None, [2.0, 4.0, 4.0, 4.0, 8.0, 8.0, 8.0], None, None, None, None, None, None, [4.0, 10.0, 10.0, 10.0, 11.0, 11.0, 11.0], None, None, None, [42.0, 42.0], None, None, None, None, None, None, None, [27.0, 27.0], None, None, None, None, [46.0, 46.0], None]\n",
            "[None, None, None, None, [6.0, 6.0, 6.0, 6.0, 6.0, 6.0], None, None, None, None, None, None, None, [], None, None, None, None, None, None, None, [], None, None, None, None, None, None, [24.0, 24.0, 24.0, 24.0, 24.0, 24.0], None, None, None, None, None, None, None, None, None, None, None, [16.0, 16.0, 16.0, 16.0, 16.0], None, None, None, None, None, None, None, None, [17.0, 17.0, 17.0, 17.0, 17.0], None, None, None, None, None, [], None, None, None, None, None, None, None, None, None, None, None, None, None, None, None, None, None, None, None, None, None, [], None, None, None, None, None, None, None, None, None, None, [5.0, 5.0, 5.0, 5.0, 5.0, 5.0], None, None, [], None, None, None, None, None, None, None, None, None, None, [8.0, 8.0, 8.0, 8.0, 8.0, 8.0], None, None, None, None, [], None, None, None, None, None, None, None, None, None, None, None, None, None, None, None, None, None, None, None, None, [], None, None, None, None, None, None, None, None, None, None, None, None, None, None, None, None, None, None, [], [36.0, 36.0, 36.0, 36.0, 36.0], None, None, None, [29.0, 29.0, 29.0, 29.0, 29.0, 29.0], None, None, None, None, [42.0, 42.0, 42.0, 42.0, 42.0], None, [44.0, 44.0, 44.0, 44.0, 44.0], [], None, [35.0, 35.0, 35.0, 35.0, 35.0], None, [40.0, 40.0, 40.0, 40.0, 40.0], None, None, None, None, None, None, None, None, None, None, None, [], [2.0, 2.0, 2.0, 2.0, 2.0, 2.0], [32.0, 32.0, 32.0, 32.0, 32.0], [47.0, 47.0, 47.0, 47.0, 47.0], [], None, None, None, [41.0, 41.0, 41.0, 41.0, 41.0], None, None, [], None, None, None, None, [10.0, 10.0, 10.0, 10.0, 10.0, 10.0], None, None, None, None, None, None, None, None, [], None, None, None, None, None, None, None, None, None, None, None, [1.0, 1.0, 1.0, 1.0, 1.0, 1.0], [28.0, 28.0, 28.0, 28.0, 28.0, 28.0], [39.0, 39.0, 39.0, 39.0, 39.0, 39.0], None, None, None, None, None, None, None, None, None, None, None, None, None, None, [23.0, 23.0, 23.0, 23.0, 23.0, 23.0], None, None, [19.0, 19.0, 19.0, 19.0, 19.0], None, None, None, None, None, None, [], None, None, [], None, [], None, None, None, None, None, None, None, None, None, [31.0, 31.0, 31.0, 31.0, 31.0], None, None, None, None, None, None, None, [25.0, 25.0, 25.0, 25.0, 25.0], None, None, None, None, None, None, None, None, None, None, None, None, [48.0, 48.0, 48.0, 48.0, 48.0], None, None, None, None, None, None, None, None, None, None, [12.0, 12.0, 12.0, 12.0, 12.0, 12.0], None, None, None, None, None, None, None, None, None, None, None, None, None, None, [22.0, 22.0, 22.0, 22.0, 22.0], None, None, None, None, [], None, None, None, None, None, None, None, None, None, None, None, None, None, None, [], [7.0, 7.0, 7.0, 7.0, 7.0, 7.0], None, None, None, None, None, None, None, None, None, None, None, None, None, None, None, [27.0, 27.0, 27.0, 27.0, 27.0, 27.0], None, None, None, None, [46.0, 46.0, 46.0, 46.0, 46.0], [13.0, 13.0, 13.0, 13.0, 13.0, 13.0], None, None, None, None, [43.0, 43.0, 43.0, 43.0, 43.0], None, None, None, None, None, None, None, None, [], None, None, None, None, None, None, [33.0, 33.0, 33.0, 33.0, 33.0, 33.0], None, None, None, [30.0, 30.0, 30.0, 30.0, 30.0, 30.0], None, None, None, None, None, None, None, None, None, None, None, None, None, None, None, None, None, None, None, None, None, None, None, None, None, None, None, [], None, [14.0, 14.0, 14.0, 14.0, 14.0, 14.0], None, None, None, None, None, None, None, None, [26.0, 26.0, 26.0, 26.0, 26.0], None, None, None, [11.0, 11.0, 11.0, 11.0, 11.0, 11.0], None, [15.0, 15.0, 15.0, 15.0, 15.0, 15.0], None, None, [38.0, 38.0, 38.0, 38.0, 38.0, 38.0], None, None, None, None, None, [18.0, 18.0, 18.0, 18.0, 18.0], None, None, [45.0, 45.0, 45.0, 45.0, 45.0], None, [37.0, 37.0, 37.0, 37.0, 37.0], None, None, None, None, None, None, None, None, None, None, None, [34.0, 34.0, 34.0, 34.0, 34.0], None, [21.0, 21.0, 21.0, 21.0, 21.0, 21.0], None, None, [49.0, 49.0, 49.0, 49.0, 49.0, 49.0], None, None, None, None, None, None, None, None, None, None, None, None, None, None, None, None, None, None, None, None, None, None, None, None, None, None, [], [9.0, 9.0, 9.0, 9.0, 9.0, 9.0], None, None, [20.0, 20.0, 20.0, 20.0, 20.0], None, None, [50.0, 50.0, 50.0, 50.0, 50.0], None, None, None, None, None, None, None, None, None, None, None, [], None, None, None, None, None, None, None, None, None, None, None, None, None, None, None, None, None, None, None, [4.0, 4.0, 4.0, 4.0, 4.0, 4.0], None, None, None, None, None, None, [3.0, 3.0, 3.0, 3.0, 3.0, 3.0], None, None, [], None, None, None, None, [], None, None, None, None, None, None, None, None, None, None]\n",
            "[None, None, None, None, [2.0, 2.0, 2.0, 2.0, 2.0, 2.0, 3.0, 3.0, 3.0], None, None, None, None, None, None, None, None, None, None, None, None, None, None, None, None, None, None, None, None, None, None, [24.0, 24.0, 24.0, 24.0, 24.0, 24.0, 36.0, 36.0, 36.0], None, None, None, [49.0, 49.0], None, None, None, None, None, None, None, [28.0, 28.0], None, None, None, None, None, None, None, None, [14.0, 14.0, 14.0, 14.0, 14.0, 14.0, 20.0, 20.0, 20.0], None, [47.0, 47.0], None, None, None, None, None, None, None, None, None, None, None, None, None, None, None, None, None, [44.0, 44.0, 44.0, 44.0, 44.0, 44.0], None, None, None, None, None, None, None, None, None, None, None, None, None, None, None, None, None, None, [7.0, 7.0, 7.0, 7.0, 7.0, 7.0, 4.0, 4.0, 4.0], [40.0, 40.0, 40.0, 40.0, 40.0, 40.0], None, None, [33.0, 33.0, 33.0, 33.0, 33.0, 33.0], None, [39.0, 39.0, 39.0, 39.0, 39.0, 39.0], [31.0, 31.0, 31.0, 31.0, 31.0, 31.0], None, None, None, None, None, None, [12.0, 12.0, 12.0, 12.0, 12.0, 12.0, 17.0, 17.0, 17.0], None, None, None, None, None, None, None, None, None, None, None, None, None, None, None, None, None, None, None, None, None, None, None, None, [34.0, 34.0], None, None, None, None, None, None, None, None, None, None, None, None, [27.0, 27.0, 27.0, 27.0, 27.0, 27.0, 15.0, 15.0, 15.0], None, None, None, None, [19.0, 19.0, 19.0, 19.0, 19.0, 19.0, 35.0, 35.0, 35.0], None, None, None, None, None, [24.0, 24.0], None, None, None, None, None, None, None, None, None, None, None, None, None, None, None, None, None, None, None, None, None, None, None, [21.0, 21.0, 21.0, 21.0, 21.0, 21.0, 12.0, 12.0, 12.0], [8.0, 8.0, 8.0, 8.0, 8.0, 8.0, 7.0, 7.0, 7.0], [3.0, 3.0, 3.0, 3.0, 3.0, 3.0, 2.0, 2.0, 2.0], None, None, None, None, None, None, None, None, None, [18.0, 18.0, 18.0, 18.0, 18.0, 18.0, 10.0, 10.0, 10.0], None, None, None, None, [45.0, 45.0, 45.0, 45.0, 45.0, 45.0], None, None, [41.0, 41.0], None, [22.0, 22.0], None, [41.0, 41.0, 41.0, 41.0, 41.0, 41.0], None, [5.0, 5.0, 5.0, 5.0, 5.0, 5.0, 8.0, 8.0, 8.0], None, None, None, None, None, None, None, None, None, [11.0, 11.0, 11.0, 11.0, 11.0, 11.0, 19.0, 19.0, 19.0], None, [1.0, 1.0, 1.0, 1.0, 1.0, 1.0, 1.0, 1.0, 1.0], [22.0, 22.0, 22.0, 22.0, 22.0, 22.0, 13.0, 13.0, 13.0], None, None, None, None, None, None, [43.0, 43.0], None, None, None, None, None, None, None, None, [32.0, 32.0, 32.0, 32.0, 32.0, 32.0, 50.0, 50.0, 50.0], None, None, None, None, None, None, None, None, None, None, None, None, None, None, None, None, None, None, None, None, None, None, None, None, None, None, None, None, None, None, None, None, None, [50.0, 50.0, 50.0, 50.0, 50.0, 50.0], None, None, None, None, [46.0, 46.0], None, None, None, None, None, None, None, None, None, None, None, None, None, None, None, None, None, [34.0, 34.0, 34.0, 34.0, 34.0, 34.0], None, None, None, [10.0, 10.0, 10.0, 10.0, 10.0, 10.0, 18.0, 18.0, 18.0], [16.0, 16.0], None, None, [43.0, 43.0, 43.0, 43.0, 43.0, 43.0], None, None, None, None, None, None, [47.0, 47.0, 47.0, 47.0, 47.0, 47.0], None, None, None, None, None, None, None, None, None, None, [37.0, 37.0], None, None, None, None, None, None, None, None, [32.0, 32.0], [36.0, 36.0, 36.0, 36.0, 36.0, 36.0], None, None, None, None, None, None, None, None, [33.0, 33.0], None, None, None, None, None, [26.0, 26.0], [17.0, 17.0, 17.0, 17.0, 17.0, 17.0, 30.0, 30.0, 30.0], None, None, None, [25.0, 25.0, 25.0, 25.0, 25.0, 25.0, 14.0, 14.0, 14.0], None, None, None, None, None, None, None, None, None, None, None, None, None, None, None, None, None, None, None, [15.0, 15.0, 15.0, 15.0, 15.0, 15.0, 27.0, 27.0, 27.0], None, None, None, None, None, None, [25.0, 25.0], None, [23.0, 23.0], None, [20.0, 20.0, 20.0, 20.0, 20.0, 20.0, 38.0, 38.0, 38.0], None, None, None, None, [48.0, 48.0, 48.0, 48.0, 48.0, 48.0], None, None, None, None, None, None, None, None, None, None, None, [30.0, 30.0, 30.0, 30.0, 30.0, 30.0], None, None, None, None, None, [23.0, 23.0, 23.0, 23.0, 23.0, 23.0, 39.0, 39.0, 39.0], None, [42.0, 42.0, 42.0, 42.0, 42.0, 42.0], [29.0, 29.0, 29.0, 29.0, 29.0, 29.0, 42.0, 42.0, 42.0], None, None, None, None, [16.0, 16.0, 16.0, 16.0, 16.0, 16.0, 11.0, 11.0, 11.0], None, None, None, [45.0, 45.0], None, [31.0, 31.0], None, [4.0, 4.0, 4.0, 4.0, 4.0, 4.0, 5.0, 5.0, 5.0], None, [13.0, 13.0, 13.0, 13.0, 13.0, 13.0, 21.0, 21.0, 21.0], None, None, None, None, None, [46.0, 46.0, 46.0, 46.0, 46.0, 46.0], None, None, None, None, None, None, None, [26.0, 26.0, 26.0, 26.0, 26.0, 26.0, 44.0, 44.0, 44.0], None, None, None, None, None, None, None, None, None, None, None, None, None, None, None, None, None, None, None, None, None, None, None, [37.0, 37.0, 37.0, 37.0, 37.0, 37.0], None, None, None, None, None, None, None, [29.0, 29.0], None, None, None, None, None, None, None, None, None, None, None, None, [6.0, 6.0, 6.0, 6.0, 6.0, 6.0, 6.0, 6.0, 6.0], None, None, None, None, None, None, None, None, None, None, None, None, None, None, None, None, None, None, None, None, None, None, None, None, None, [35.0, 35.0, 35.0, 35.0, 35.0, 35.0], None, None, [40.0, 40.0], None, None, None, None, None, None, None, None, [9.0, 9.0, 9.0, 9.0, 9.0, 9.0, 9.0, 9.0, 9.0], None, None, None, [49.0, 49.0, 49.0, 49.0, 49.0, 49.0], None, None, [38.0, 38.0, 38.0, 38.0, 38.0, 38.0], None, None, None, None, None, None, None, [28.0, 28.0, 28.0, 28.0, 28.0, 28.0, 48.0, 48.0, 48.0], None, None, None, None, None, None, None, None, None, None]\n",
            "None\n"
          ],
          "name": "stdout"
        }
      ]
    }
  ]
}