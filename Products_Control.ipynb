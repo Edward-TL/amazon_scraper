{
  "nbformat": 4,
  "nbformat_minor": 0,
  "metadata": {
    "colab": {
      "name": "Products_Control.ipynb",
      "provenance": [],
      "collapsed_sections": [],
      "toc_visible": true,
      "include_colab_link": true
    },
    "kernelspec": {
      "name": "python3",
      "display_name": "Python 3"
    }
  },
  "cells": [
    {
      "cell_type": "markdown",
      "metadata": {
        "id": "view-in-github",
        "colab_type": "text"
      },
      "source": [
        "<a href=\"https://colab.research.google.com/github/Edward-TL/amazon_scraper/blob/master/Products_Control.ipynb\" target=\"_parent\"><img src=\"https://colab.research.google.com/assets/colab-badge.svg\" alt=\"Open In Colab\"/></a>"
      ]
    },
    {
      "cell_type": "markdown",
      "metadata": {
        "id": "iFpwmSDo89NU",
        "colab_type": "text"
      },
      "source": [
        "#Start"
      ]
    },
    {
      "cell_type": "code",
      "metadata": {
        "id": "y3UwmIu89Dhk",
        "colab_type": "code",
        "colab": {
          "base_uri": "https://localhost:8080/",
          "height": 122
        },
        "outputId": "44e1dd2e-4afa-48d7-d5a5-4c4eead77514"
      },
      "source": [
        "from google.colab import drive\n",
        "drive.mount('/content/drive')"
      ],
      "execution_count": 2,
      "outputs": [
        {
          "output_type": "stream",
          "text": [
            "Go to this URL in a browser: https://accounts.google.com/o/oauth2/auth?client_id=947318989803-6bn6qk8qdgf4n4g3pfee6491hc0brc4i.apps.googleusercontent.com&redirect_uri=urn%3aietf%3awg%3aoauth%3a2.0%3aoob&scope=email%20https%3a%2f%2fwww.googleapis.com%2fauth%2fdocs.test%20https%3a%2f%2fwww.googleapis.com%2fauth%2fdrive%20https%3a%2f%2fwww.googleapis.com%2fauth%2fdrive.photos.readonly%20https%3a%2f%2fwww.googleapis.com%2fauth%2fpeopleapi.readonly&response_type=code\n",
            "\n",
            "Enter your authorization code:\n",
            "··········\n",
            "Mounted at /content/drive\n"
          ],
          "name": "stdout"
        }
      ]
    },
    {
      "cell_type": "markdown",
      "metadata": {
        "id": "zsyDnFS29FZ9",
        "colab_type": "text"
      },
      "source": [
        "#Import"
      ]
    },
    {
      "cell_type": "code",
      "metadata": {
        "id": "kZISofJV9Fl2",
        "colab_type": "code",
        "colab": {
          "base_uri": "https://localhost:8080/",
          "height": 105
        },
        "outputId": "794e2beb-775b-44ab-add7-87b6efbb29a8"
      },
      "source": [
        "#For the system\n",
        "import os\n",
        "\n",
        "#Manage of time\n",
        "from datetime import datetime, timedelta\n",
        "from pytz import timezone\n",
        "import time\n",
        "\n",
        "#Manage of files\n",
        "import pandas as pd\n",
        "import csv\n",
        "import numpy as np\n",
        "\n",
        "#scrap\n",
        "from bs4 import BeautifulSoup\n",
        "from openpyxl.workbook import Workbook\n",
        "import requests\n",
        "\n",
        "#For SQL\n",
        "!pip install psycopg2\n",
        "import psycopg2\n",
        "\n",
        "!pip install sqlalchemy\n",
        "import sqlalchemy as sql"
      ],
      "execution_count": 3,
      "outputs": [
        {
          "output_type": "stream",
          "text": [
            "Requirement already satisfied: psycopg2 in /usr/local/lib/python3.6/dist-packages (2.7.6.1)\n"
          ],
          "name": "stdout"
        },
        {
          "output_type": "stream",
          "text": [
            "/usr/local/lib/python3.6/dist-packages/psycopg2/__init__.py:144: UserWarning: The psycopg2 wheel package will be renamed from release 2.8; in order to keep installing from binary please use \"pip install psycopg2-binary\" instead. For details see: <http://initd.org/psycopg/docs/install.html#binary-install-from-pypi>.\n",
            "  \"\"\")\n"
          ],
          "name": "stderr"
        },
        {
          "output_type": "stream",
          "text": [
            "Requirement already satisfied: sqlalchemy in /usr/local/lib/python3.6/dist-packages (1.3.18)\n"
          ],
          "name": "stdout"
        }
      ]
    },
    {
      "cell_type": "markdown",
      "metadata": {
        "id": "-B3sfl7QBYdZ",
        "colab_type": "text"
      },
      "source": [
        "#Go to folder"
      ]
    },
    {
      "cell_type": "markdown",
      "metadata": {
        "id": "hGcBkNnQ1KZ3",
        "colab_type": "text"
      },
      "source": [
        "Hay que considerar que se trabajara con las bases de datos (cualquier formato) y con las carpetas de control de product. Por ello, es que se inicia en la carpeta que permite seleccionar esto. Recordando:\n",
        "*  Masters: Se encuentran las bases de datos, organizadas por tipo de archivo.\n",
        "*  Origin: Primeros experimentos, se encuentran los archivos originales por consulta, divididos por país y categoría del país.\n",
        "*   Products: Dónde se pretende almacenar las base de características de productos."
      ]
    },
    {
      "cell_type": "code",
      "metadata": {
        "id": "1qUDSX-SBSGK",
        "colab_type": "code",
        "colab": {
          "base_uri": "https://localhost:8080/",
          "height": 51
        },
        "outputId": "eb550251-cb6c-4c5d-94e2-611ac562aee4"
      },
      "source": [
        "%cd 'drive/My Drive/Colab Notebooks/4SS/4SS_db/testing'\n",
        "!ls"
      ],
      "execution_count": 4,
      "outputs": [
        {
          "output_type": "stream",
          "text": [
            "/content/drive/My Drive/Colab Notebooks/4SS/4SS_db/testing\n",
            "Masters  Origin  Products\n"
          ],
          "name": "stdout"
        }
      ]
    },
    {
      "cell_type": "markdown",
      "metadata": {
        "id": "si4wTbhl6Ont",
        "colab_type": "text"
      },
      "source": [
        "#Tools"
      ]
    },
    {
      "cell_type": "markdown",
      "metadata": {
        "id": "_eb_Adiq6Qz5",
        "colab_type": "text"
      },
      "source": [
        "##Centered Len"
      ]
    },
    {
      "cell_type": "code",
      "metadata": {
        "id": "2Pl3_KTM6SzC",
        "colab_type": "code",
        "colab": {}
      },
      "source": [
        ""
      ],
      "execution_count": 4,
      "outputs": []
    },
    {
      "cell_type": "markdown",
      "metadata": {
        "id": "u22BYwCD6SGS",
        "colab_type": "text"
      },
      "source": [
        "#Count if"
      ]
    },
    {
      "cell_type": "code",
      "metadata": {
        "id": "1_7XA6I76U3z",
        "colab_type": "code",
        "colab": {}
      },
      "source": [
        "def count_if(array, value):\n",
        "    count = 0\n",
        "    for element in array:\n",
        "        if element == value:\n",
        "            count += 1\n",
        "    return count"
      ],
      "execution_count": 5,
      "outputs": []
    },
    {
      "cell_type": "markdown",
      "metadata": {
        "id": "HlVD09ZaO-yj",
        "colab_type": "text"
      },
      "source": [
        "##Tools"
      ]
    },
    {
      "cell_type": "code",
      "metadata": {
        "id": "z92xbHFXPAS-",
        "colab_type": "code",
        "colab": {}
      },
      "source": [
        "def mode(array):\n",
        "    elements = [None]*len(array)\n",
        "    counter = [None]*len(array)\n",
        "\n",
        "    for element in array:\n",
        "\n",
        "        #Check the element\n",
        "        searcher = 0\n",
        "        while elements[searcher] != element and elements[searcher] != None and searcher < (len(array) - 1):\n",
        "            searcher += 1\n",
        "        \n",
        "        if elements[searcher] == element:\n",
        "            counter[searcher] += 1\n",
        "        \n",
        "        elif elements[searcher] == None:\n",
        "            elements[searcher] = element\n",
        "            counter[searcher] = 1\n",
        "\n",
        "    max = 0\n",
        "    c = 0\n",
        "    while counter[c] != None and c<(len(counter)-1):\n",
        "        if counter[c] >= max:\n",
        "            max = counter[c]\n",
        "            max_position = c\n",
        "        c += 1\n",
        "\n",
        "    mode = elements[max_position]\n",
        "    return mode"
      ],
      "execution_count": 6,
      "outputs": []
    },
    {
      "cell_type": "markdown",
      "metadata": {
        "id": "qVvuJLAGMIyi",
        "colab_type": "text"
      },
      "source": [
        "#Standarize dates"
      ]
    },
    {
      "cell_type": "code",
      "metadata": {
        "id": "MWZ93CLnMHkz",
        "colab_type": "code",
        "colab": {}
      },
      "source": [
        "def standarize_dates(date):\n",
        "    check = False\n",
        "    try:\n",
        "        date = datetime.strptime(str(date), '%Y-%m-%d %H:%M:%S.%f')\n",
        "        check = True\n",
        "    except ValueError:\n",
        "        try:\n",
        "            date = datetime.strptime(str(date), '%Y-%m-%d %H:%M:%S')\n",
        "            check = True\n",
        "        except:\n",
        "            try:\n",
        "                date = datetime.strptime(str(date), '%Y-%m-%d %H_%M')\n",
        "                check = True\n",
        "            except:\n",
        "                pass\n",
        "    if check == True:\n",
        "        date = date.strftime('%Y-%m-%d %H:%M')\n",
        "    \n",
        "    return date"
      ],
      "execution_count": 7,
      "outputs": []
    },
    {
      "cell_type": "code",
      "metadata": {
        "id": "iuuN3iQiP_fq",
        "colab_type": "code",
        "colab": {}
      },
      "source": [
        ""
      ],
      "execution_count": 7,
      "outputs": []
    },
    {
      "cell_type": "markdown",
      "metadata": {
        "id": "4YQVeDHQ0v_2",
        "colab_type": "text"
      },
      "source": [
        "#Lab"
      ]
    },
    {
      "cell_type": "markdown",
      "metadata": {
        "id": "nRGcZjM_0109",
        "colab_type": "text"
      },
      "source": [
        "##Extract Products"
      ]
    },
    {
      "cell_type": "markdown",
      "metadata": {
        "id": "VDyf-xBV4tOI",
        "colab_type": "text"
      },
      "source": [
        "###Name Products"
      ]
    },
    {
      "cell_type": "code",
      "metadata": {
        "id": "ZEm2-R_l06Xw",
        "colab_type": "code",
        "colab": {}
      },
      "source": [
        "entry = 'Masters/mx/parquet/mx-master_db_music.parquet'\n",
        "\n",
        "#Get de Nanmes\n",
        "df = pd.read_parquet(entry)\n",
        "df['time'] = df['time'].apply(standarize_dates)\n",
        "df = df.sort_values(by=\"time\")\n",
        "product_names_raw = df['Product Names'].tolist()\n",
        "#Remember, this gets de None Value\n",
        "products = list(set(product_names_raw))\n",
        "None_cases = count_if(product_names_raw, None)\n",
        "products.remove(None)"
      ],
      "execution_count": 8,
      "outputs": []
    },
    {
      "cell_type": "code",
      "metadata": {
        "id": "kRM00OAoNI67",
        "colab_type": "code",
        "colab": {
          "base_uri": "https://localhost:8080/",
          "height": 1000
        },
        "outputId": "fc3195e7-8cb4-4cb2-9526-a0287ec92187"
      },
      "source": [
        "products"
      ],
      "execution_count": 20,
      "outputs": [
        {
          "output_type": "execute_result",
          "data": {
            "text/plain": [
              "['Muzz (Vinyl)',\n",
              " 'Matenme Porque Me Muero',\n",
              " 'I Carus',\n",
              " 'Royal Blood [Importado]',\n",
              " 'Tributo a Sabina/ Ni Tan Joven Ni Tan Viejo',\n",
              " 'Midnight Marauders (Vinyl)[Importado]',\n",
              " 'Malibu Nights (Vinyl)',\n",
              " 'After Hours',\n",
              " 'Chromatica - Empaque de pasta dura- Incluye: CD + álbum + bonus tracks',\n",
              " 'A Star Is Born (Original Soundtrack)',\n",
              " 'Tainted Lunch (Vinyl)',\n",
              " 'Unplugged in Ny (Vinyl) [Importado]',\n",
              " 'To Bring You My Love - Demos (Vinyl)',\n",
              " 'Three Sixty',\n",
              " 'Kind of Magic (Vinyl)[Importado]',\n",
              " '(Whats the Story) Morning Glory [Importado]',\n",
              " 'Trick Or Treat [Importado]',\n",
              " 'Thriller (Vinyl)',\n",
              " 'Slippery When Wet (Vinyl)',\n",
              " 'Chops [Importado]',\n",
              " 'Birds of Fire [Importado]',\n",
              " 'MTV Unplugged: El Desconecte',\n",
              " 'CIGALA CANTA A MEXICO',\n",
              " 'Stadium Arcadium',\n",
              " 'The Queen is Dead (2017 Master) & Additional Recordings (Audio CD)',\n",
              " 'Random Access Memories (Vinyl) [Importado]',\n",
              " 'Sobre El Amor y Sus Efectos Secundarios (Audio CD)',\n",
              " 'Weezer (Blue Album) (Vinyl)',\n",
              " 'Goats Head Soup',\n",
              " 'X 100PRE (Vinyl)',\n",
              " 'Ten',\n",
              " 'Cancion Animal (Vinyl)',\n",
              " 'Use Your Illusion 1 [Importado]',\n",
              " 'With the Beatles (Vinyl)',\n",
              " 'Everything Not Saved Will Be Lost Part 2 (Vinyl)',\n",
              " 'The Hits Unplugged',\n",
              " 'En La Vida Conoci Mujer',\n",
              " 'Animals (Vinyl)',\n",
              " 'Guardians of the Galaxy: Awesome Mix 1 (Original Soundtrack) (Vinyl)',\n",
              " 'Direct Hits (Vinyl)',\n",
              " 'The Queen is Dead (Vinilo - LP)',\n",
              " 'Blue Train [Limited Blue Colored Vinyl]',\n",
              " 'Home (Vinyl)',\n",
              " 'Innuendo (Vinyl) [Importado]',\n",
              " 'THE LATER YEARS 1987-2019 (Vinyl)',\n",
              " 'Best of the Animals (Vinyl) [Importado]',\n",
              " 'Off The Wall (Vinyl)',\n",
              " 'Awaken My Love',\n",
              " \"(What's The Story) Morning Glory?\",\n",
              " \"SuperM The 1st Mini Album 'SuperM' [KAI Ver.]\",\n",
              " \"Paul's Boutique 20th Anniversary Edition (Vinyl) [Importado]\",\n",
              " 'ROMANCE',\n",
              " 'Dangerous',\n",
              " \"Janis Joplin's Greatest Hits (Vinyl)\",\n",
              " 'El Nervio del Volcan',\n",
              " 'Magical Mystery Tour (Vinyl) [Importado]',\n",
              " 'Glastonbury 2000 (3LP)',\n",
              " 'Fear Of The Dark',\n",
              " 'Korn',\n",
              " 'Let It Be (Vinyl) [Importado]',\n",
              " 'Melophobia (Vinyl) [Importado]',\n",
              " 'Sound of Music (Vinyl)',\n",
              " 'O!Rul8 2? [Importado]',\n",
              " 'Mexico En la Piel',\n",
              " 'The King in the Ring (Vinyl)',\n",
              " 'Elvis (Vinyl) [Importado]',\n",
              " 'Chronicle: The 20 Greatest Hits (Vinyl) [Importado]',\n",
              " 'Ram It Down',\n",
              " 'Flaming Pie',\n",
              " 'Transitus [Red Colored Vinyl]',\n",
              " 'Live Fast Die Old (Vinyl)',\n",
              " 'Matter Of Life & Death',\n",
              " 'Dark Side of the Moon (Vinyl) [Importado]',\n",
              " '(El RuÃ\\xaddo y la Furia) (DVD Audio)',\n",
              " 'London Calling',\n",
              " 'Live in Buenos Aires',\n",
              " 'Euphoria (Original Score From The HBO Series) (Vinyl)',\n",
              " 'Fake Can Be Just As Good (Vinyl)',\n",
              " 'Buena Vista Social Club (Vinyl)[Importado]',\n",
              " 'Caifanes',\n",
              " 'Spirits In The Forest',\n",
              " 'Kind of Blue',\n",
              " 'Greatest Hits (Vinyl)',\n",
              " '5 Album Box Set [Importado]',\n",
              " 'Astroworld',\n",
              " 'Pet Sounds (Vinyl)',\n",
              " 'Abbey Road Anniversary (1LP)',\n",
              " 'The Covers Record (Vinyl)',\n",
              " 'Kind of Blue (Vinyl)',\n",
              " 'First Impressions of Earth',\n",
              " 'Happiness Begins',\n",
              " 'Ok Computer (Vinyl)',\n",
              " 'Flaming Pie (Vinyl)',\n",
              " 'Whoosh! (Vinyl)',\n",
              " 'Serie Del Recuerdo',\n",
              " 'Nada Personal (Vinyl)',\n",
              " 'Time Out (Vinyl) [Importado]',\n",
              " 'Nothing Happens (Vinyl)',\n",
              " 'Lonerism (Vinyl) [Importado]',\n",
              " 'Night at the Opera (Vinyl) [Importado]',\n",
              " 'Realidad',\n",
              " 'Celebrando a Una Leyenda',\n",
              " 'Violator',\n",
              " 'Colores Santos (Vinyl)',\n",
              " 'WALLS',\n",
              " 'The King Of Limbs (Vinyl)',\n",
              " 'Reputation',\n",
              " '10,000 Days [Importado]',\n",
              " 'Origins, Vol. 2',\n",
              " 'FUTURE NOSTALGIA (Vinyl)',\n",
              " 'Bloom',\n",
              " 'To Mega Therion',\n",
              " 'Star Wars: Shadows Of The Empire (Original Game Soundtrack) (Vinyl)',\n",
              " 'Tesoros de Colección. Vol. 1 (Versiones Originales)',\n",
              " 'Dark Side of the Moon (1973)',\n",
              " 'Time [Importado]',\n",
              " 'Midnight Memories',\n",
              " 'Multi-Love (Vinyl) [Importado]',\n",
              " 'In the Aeroplane Over the Sea (Vinyl)[Importado]',\n",
              " '5 Albums',\n",
              " 'Hot Rocks 1964-1971 (Vinyl) [Importado]',\n",
              " 'Expectativas (Vinilo - LP)',\n",
              " 'The Very Best of The Doors 40 ANNIVERSARY',\n",
              " 'Loving In The Snow [Vinyl Maxi-Single]',\n",
              " 'Steel Wheels Live (Live From Atlantic City, NJ, 1989)',\n",
              " 'Mark Tom & Travis Show: The Enema Strikes Back',\n",
              " 'I Am The Cosmos (Vinyl)',\n",
              " 'Duets (Vinyl) [Importado]',\n",
              " 'Mono Masters (Vinyl)',\n",
              " 'Hecho En México',\n",
              " 'Vices & Virtues (Vinyl)',\n",
              " 'Rust in Peace (Vinyl) [Importado]',\n",
              " 'Kind of Blue (Vinyl) [Importado]',\n",
              " 'Life On A Plate (Vinyl)',\n",
              " 'Absolution (Vinyl) [Importado]',\n",
              " 'Somewhere In Time',\n",
              " 'CELEBRANDO A UNA LEYENDA SEGUNDA PARTE',\n",
              " 'Ultimate Sinatra (Vinyl) [Importado]',\n",
              " 'El Silencio',\n",
              " 'Live Baby Live (2CD+Bluray)',\n",
              " \"The 2nd Album Repackage 'NCT #127 Neo Zone: The Final Round' [2nd PLAYER Ver.]\",\n",
              " 'Three Cheers for Sweet Revenge',\n",
              " 'Arde el Cielo (CD + DVD) (DVD Audio)',\n",
              " 'Fear Inoculum - Edición Especial (Incluye cartas lenticulares 3D + libro + código de descarga + CD)',\n",
              " 'Alphaville',\n",
              " 'Queen Greatest Hits II (LP)',\n",
              " 'Leviathan (Vinyl) [Importado]',\n",
              " 'Masseduction',\n",
              " 'Bohemian Rhapsody: The Original Soundtrack',\n",
              " 'Take Me Home',\n",
              " 'Plastic Beach',\n",
              " 'Greatest Hits: Chapter One [Importado]',\n",
              " 'A Love Supreme (Vinyl)',\n",
              " 'SHAPESHIFTING',\n",
              " 'American Idiot',\n",
              " 'Head Above Water',\n",
              " 'Fetch The Bolt Cutters (Vinyl)',\n",
              " 'Ld 50 [Importado]',\n",
              " 'The Resistance (Vinyl)',\n",
              " 'Urban Hymns (2 CDs Deluxe)',\n",
              " 'Pablo Honey (Vinyl)',\n",
              " 'Back to Black (Vinyl) [Importado]',\n",
              " \"A Hero's Death (Vinyl)\",\n",
              " 'Am',\n",
              " 'Nortec Collective Presents: Bostich + Fussible (Vinyl)',\n",
              " 'The Beatles (White Album, 50 Anniversary) (Vinyl)',\n",
              " 'Release: Further Listening 2001-2004',\n",
              " 'X 100PRE',\n",
              " 'Papitour (DVD + CD) (DVD Audio)',\n",
              " 'UN CANTO POR MEXICO VOL.1',\n",
              " 'EVOLution',\n",
              " 'Ultra Mono (Vinyl)',\n",
              " 'Please Please Me (Vinyl) [Importado]',\n",
              " 'Senderos de Traición',\n",
              " 'Boston [Importado]',\n",
              " 'Donde Jugaran los Niños',\n",
              " 'The Dark Side Of The Moon (Vinyl)',\n",
              " 'For Emma, Forever Ago (Vinyl) [Importado]',\n",
              " 'Love Yourself: Tear (Random cover, incl. 104-page photobook, one random photocard, 20-page minibook and one standing photo)',\n",
              " 'Kamikaze (Vinyl)',\n",
              " 'Alien Lanes (Vinyl) [Importado]',\n",
              " 'Spiritual Black Dimensions (Vinyl)',\n",
              " 'Fuerza Natural',\n",
              " 'Babel (Vinyl)',\n",
              " '40 Exitos',\n",
              " 'Shout at the Devil (Vinyl)[Importado]',\n",
              " 'Your Song',\n",
              " 'Romances',\n",
              " 'Extended Play',\n",
              " 'Thriller',\n",
              " 'Mordechai (Vinyl)',\n",
              " 'The Essential Elvis Presley',\n",
              " 'Confessions on a Dancefloor (Vinyl) [Importado]',\n",
              " 'Mini World',\n",
              " 'Thirteenth Step (Vinyl) [Importado]',\n",
              " 'Undead',\n",
              " 'Chromatica (Vinyl)',\n",
              " 'Four',\n",
              " 'Such Pretty Forks In The Road',\n",
              " 'Colores',\n",
              " 'Attack & Release [Importado]',\n",
              " '¡México por Siempre! (Audio CD)',\n",
              " 'Volumen II (Vinilo - LP)',\n",
              " 'Audio Visions',\n",
              " 'Meddle (Vinyl)',\n",
              " 'Me Quito El Sombrero',\n",
              " 'Saturday Night Fever (Original Motion Picture Soundtrack) (Vinyl)',\n",
              " 'Rumours [Importado]',\n",
              " 'Closer (40th Anniversary Limited Crystal Clear Edition) (Vinyl)',\n",
              " 'Demon Days',\n",
              " 'Cowboys From Hell',\n",
              " 'Low (Vinyl)',\n",
              " 'Honeymoon (Vinyl)',\n",
              " 'The Trip (Original Soundtrack)',\n",
              " 'Posible (Vinyl)',\n",
              " 'Rammstein  [Special Edition]',\n",
              " 'Ruido Blanco',\n",
              " 'Flamingos',\n",
              " 'Toxicity (Vinyl)',\n",
              " 'Origins, Vol. 2 (Vinyl)',\n",
              " 'Before The Dawn',\n",
              " 'Music To Be Murdered By',\n",
              " 'Map Of The Soul: Persona',\n",
              " 'All Hope Is Gone',\n",
              " 'MUSIC FROM THE STAR WARS SAGA/ THE ESSENTIAL COLLECTION',\n",
              " 'Currents (Vinyl)',\n",
              " 'Fetch The Bolt Cutters',\n",
              " 'Step Back In Time: The Definitive Collection',\n",
              " 'Oracular Spectacular',\n",
              " 'Torches (Vinyl) [Importado]',\n",
              " 'Riot!',\n",
              " 'Gorillaz [Clean]',\n",
              " 'Elastic Days (Vinyl)',\n",
              " \"SuperM The 1st Mini Album 'SuperM' [TEN]\",\n",
              " 'Dutchess',\n",
              " 'Is This It [Importado]',\n",
              " 'Siempre Es Hoy (Vinyl)',\n",
              " 'Encores',\n",
              " 'Breakfast In America (Vinyl)',\n",
              " 'Caifanes (Vinilo - LP)',\n",
              " 'Dynasty (Vinyl) [Importado]',\n",
              " 'Greatest Hits',\n",
              " 'Abraxas (Vinyl)',\n",
              " 'Turn on the Bright Light (Vinyl) [Importado]',\n",
              " 'Nevermind (Audio Cassette)',\n",
              " 'Secrets & Escapes (Vinyl)',\n",
              " 'Angles',\n",
              " 'Live After Death (2015 Remaster)',\n",
              " 'Silent Alarm (Vinyl)',\n",
              " 'Grace [Importado]',\n",
              " 'DÃ³nde Estan Los Ladrones',\n",
              " 'Sie7E+ (Incluye canción inédita y Mala Fama versión Remix)',\n",
              " 'Nada Personal',\n",
              " 'Psalmos',\n",
              " 'Seeking Thrills (Vinyl)',\n",
              " 'El Nervio del Volcán (Vinilo - LP)',\n",
              " 'THE NEW ABNORMAL',\n",
              " 'My Short Stories [Importado]',\n",
              " 'Draconian \\u200e– A Rose For The Apocalypse',\n",
              " 'In The Nightside Eclipse',\n",
              " 'E 1999 Eternal',\n",
              " 'Flicker (Edición Deluxe)',\n",
              " '90´s Pop Tour 3',\n",
              " 'Life In Cartoon Motion (Vinyl)',\n",
              " 'Balas Pedidas Edicion Esp.',\n",
              " 'Whoosh!',\n",
              " 'Come Around Sundown (Vinyl) [Importado]',\n",
              " 'The Number of The Beast (Vinyl)',\n",
              " 'Joanne (Deluxe)',\n",
              " 'Swimming',\n",
              " 'Daptone Gold (Vinyl)[Importado]',\n",
              " 'Red Planet',\n",
              " '2 Cool 4 Skool (Incl. Booklet)',\n",
              " 'Astroworld (Vinyl)',\n",
              " 'Stripped',\n",
              " 'Def Leppard (Vinyl)',\n",
              " 'Elysium: Further Listening 2011-2012',\n",
              " 'Old World Underground Where Are You Now? (Vinyl)',\n",
              " 'The Twenty Tour Live From Croke Park (DVD+CD)',\n",
              " 'Gigaton',\n",
              " 'Wish You Were Here (1975)',\n",
              " 'The New Abnormal (Vinyl)',\n",
              " 'The Now Now',\n",
              " 'Flower Boy (Vinyl)',\n",
              " 'Huevos Revueltos en Vivo',\n",
              " 'Emergency On Planet Earth',\n",
              " 'Out of Myself',\n",
              " 'Discovery (Vinyl) [Importado]',\n",
              " 'Greatest Hits: My Prerogative',\n",
              " 'Heartbreak Weather',\n",
              " 'Point of Entry [Importado]',\n",
              " 'Ellington & Coltrane (Vinyl) [Importado]',\n",
              " 'Rumours (Vinyl) [Importado]',\n",
              " 'Hail To The Thief (Vinyl)',\n",
              " 'Rock En Tu Idioma Sinfonico (Vinyl)',\n",
              " 'Grandes Éxitos',\n",
              " 'Made in the A.M.',\n",
              " 'Beyond The Pale (Vinyl)',\n",
              " 'Scout',\n",
              " 'Petals For Armor',\n",
              " 'Kid A (Vinyl)',\n",
              " '19 Dias Y 500 Noches',\n",
              " 'The Rise and Fall of Ziggy Stardust and the Spiders from Mars (Vinyl)',\n",
              " 'Metallica (Vinyl) [Importado]',\n",
              " 'Melodie Citronique (Vinyl) [Importado]',\n",
              " 'Random Access Memories',\n",
              " 'Hydra Media Book Tour Edition [Importado]',\n",
              " 'Stranger Things: Soundtrack from the Netflix Original Series, Season )',\n",
              " 'Thank U, Next',\n",
              " 'Rocks [Importado]',\n",
              " 'Greatest Hits [Importado]',\n",
              " 'Romance',\n",
              " 'Solid Gold Hits (Vinyl) [Importado]',\n",
              " 'I Like It When You Sleep',\n",
              " 'Chromatica',\n",
              " 'X & Y',\n",
              " 'When We All Fall Asleep, Where Do We Go? (Vinyl)',\n",
              " 'Shawn Mendes',\n",
              " 'Santana Three (Vinyl) [Importado]',\n",
              " 'Tributo a Queen [Importado]',\n",
              " \"The 2nd Album 'NCT #127 Neo Zone' [N Ver.]\",\n",
              " 'Skiptracing (Vinyl)',\n",
              " \"The 2nd Album 'NCT #127 Neo Zone' [C Ver.]\",\n",
              " \"What's Your Pleasure? (Vinyl)\",\n",
              " 'Good Kid: M.A.A.D City (Vinyl) [Importado]',\n",
              " 'The Divine Feminine (Explicit)(2LP)',\n",
              " 'Gorillaz (Vinyl)',\n",
              " \"Don't Think I've Forgotten: Cambodia's Lost Rock and Roll (Various Artists) (Vinyl)\",\n",
              " 'In the Court of the Crimson King [Importado]',\n",
              " 'Discovery',\n",
              " 'Lover (Cd+Diario+Poster Edición 1)',\n",
              " 'Word Gets Around\\xa0\\xa0\\xa0 \\xa0\\xa0\\xa0\\xa0\\xa0\\xa0\\xa0\\xa0\\xa0\\xa0\\xa0 (Vinyl)',\n",
              " 'Total: From Joy Division to New Order (Vinyl)',\n",
              " 'Greatest Hits (Vinyl)[Importado]',\n",
              " 'You Want It Darker (Vinyl)',\n",
              " 'Guardians of the Galaxy (Vinyl) [Importado]',\n",
              " 'Hatful Of Hollow (180 Gram Vinyl)',\n",
              " 'Wish You Were Here (Vinyl)',\n",
              " '\"¡Despierta, mi amor!\" [LP]',\n",
              " 'Mis Boleros Favoritos (CD & DVD) (DVD Audio)',\n",
              " 'Some Girls (Vinyl)',\n",
              " 'Merriweather Post Pavilion (Vinyl)[Importado]',\n",
              " 'Dreams: The Collection (Vinyl)',\n",
              " 'Bohemian Rhapsody (Vinyl)',\n",
              " 'Continental (Vinyl)',\n",
              " 'Música de Fondo/MTV Unplugged (Vinyl)',\n",
              " 'Imploding The Mirage',\n",
              " 'Kid Krow',\n",
              " 'Help [Importado]',\n",
              " 'Speak Now [Importado]',\n",
              " 'GO LIVE (LIMITED VERSION)',\n",
              " 'Guardians of the Galaxy, Vol. 2: Awesome Mix, Vol. 2 (Various Artists) (Audio Cassette)',\n",
              " 'I Put A Spell On You (Vinyl)',\n",
              " 'El Silencio (Vinilo - LP)',\n",
              " 'Beacon (Vinyl) [Importado]',\n",
              " 'Am (Vinyl) [Importado]',\n",
              " 'Salad Days (Vinyl)',\n",
              " 'Bangerz',\n",
              " 'FINE LINE',\n",
              " 'Legacy (Vinyl)',\n",
              " 'Such Pretty Forks In The Road (Vinyl)',\n",
              " 'Songs Of Faith & Devotion (Vinyl)',\n",
              " 'Up All Night',\n",
              " 'Trouble Will Find Me (Vinyl) [Importado]',\n",
              " 'Spiritual Healing [Importado]',\n",
              " 'Wilder Mind (Vinyl)',\n",
              " 'Pies Descalzos',\n",
              " 'Issues (Vinyl)',\n",
              " 'NCT #127 We Are Superhuman (Incl. Photo Card)',\n",
              " 'Supernature (Vinyl)',\n",
              " 'Black Parade (Vinyl)',\n",
              " 'Trolsk Sortmetall 1993-1997 (Re-issue 2019)(Ltd. 4CD Box Set)',\n",
              " 'Fine Line (Vinyl)',\n",
              " \"The 2nd Album Repackage 'NCT #127 Neo Zone: The Final Round' [1st PLAYER Ver.]\",\n",
              " 'Northsea Lights [Importado]',\n",
              " 'Holiday Collection (CD)',\n",
              " 'Youngblood',\n",
              " 'Ten (Vinyl)',\n",
              " 'Lover (Cd+Diario+Poster Edición 3)',\n",
              " 'Gold: Greatest Hits (Vinyl)',\n",
              " 'MEMORIA FUTURO',\n",
              " 'Busca Una Mujer',\n",
              " 'Led Zeppelin IV (Remastered Original Vinyl)',\n",
              " 'Cancion Animal',\n",
              " 'Most Beautiful Moments in Life Part 2 (la portada puede variar)',\n",
              " 'Iowa',\n",
              " 'Dua Lipa',\n",
              " 'Lust for Life (Vinyl)',\n",
              " 'Torches',\n",
              " 'Toxicity',\n",
              " 'Blade Runner - Music From Origi [Importado]',\n",
              " 'Four: Deluxe',\n",
              " \"True Colors [Limited 180-Gram 'Flaming' Orange Colored Vinyl]\",\n",
              " 'Folklore',\n",
              " 'The Beatles 2009 (Remastered) (Vinyl)',\n",
              " 'Vivaldi: Four Seasons (Vinyl)',\n",
              " 'Black Pumas (Vinyl)',\n",
              " 'Posible',\n",
              " 'Cross Roads (Vinyl)',\n",
              " 'Bossanova (30th Anniversary) (Vinyl)',\n",
              " 'Ahora',\n",
              " 'Silver Landings (Vinyl)',\n",
              " \"What's Going on (Vinyl)\",\n",
              " 'Legend (Vinyl)[Importado]',\n",
              " 'Nemesis: The Best of & Reworked Deluxe',\n",
              " 'MTV Unplugged (CD+DVD)',\n",
              " 'Abbey Road Anniversary (1CD)',\n",
              " 'BTS World (Original Soundtrack)',\n",
              " 'Stick It To Ya (Vinyl)',\n",
              " 'Synchronicity (Vinyl)',\n",
              " 'Nirvana (Vinyl)',\n",
              " 'Amor Amarillo (Vinyl)',\n",
              " 'Heroic Beethoven [best of] (Vinyl)',\n",
              " 'Back In Black (Vinyl)',\n",
              " 'Curtain Call: The Hits (Vinyl) [Importado]',\n",
              " 'Starboy',\n",
              " 'Equilibrio De Los Jaguares',\n",
              " '1989 (Vinyl) [Importado]',\n",
              " 'The Final Tour: Copenhagen, March 24, 1960 (Vinyl)',\n",
              " 'Left Hand Path (Full Dynamic Range Remastered Audio)',\n",
              " \"That's the Spirit\",\n",
              " 'Tatoo You (Vinyl)',\n",
              " \"Flamin' Pie (Vinyl)\",\n",
              " 'Rubber Soul (Vinyl) [Importado]',\n",
              " 'Born This Way',\n",
              " 'Tranquility Base Hotel & Casino',\n",
              " 'Systematic Chaos [Importado]',\n",
              " 'Cause of Death[Importado]',\n",
              " 'Rare - Edición Deluxe (Contiene 5 temas extras)',\n",
              " 'Besame Mucho',\n",
              " 'Lover',\n",
              " 'Bocanada [Importado]',\n",
              " 'Dont Smile At Me',\n",
              " 'Glory (Deluxe Version) (Vinyl)',\n",
              " 'Return of the Space Cowboy',\n",
              " 'Currents',\n",
              " 'Legend (Vinyl)',\n",
              " 'Scott Pilgrim Vs the World (Vinyl) [Importado]',\n",
              " 'S&M2 2CD / Blu-ray',\n",
              " 'When We All Fall Asleep, Where Do We Go?',\n",
              " 'FUTURE NOSTALGIA',\n",
              " 'Remain in Light (Vinyl) [Importado]',\n",
              " 'Slow Rush (Vinyl)',\n",
              " 'Doolittle (Vinyl) [Importado]',\n",
              " 'Live in Mexico 2 cdÂ´s Digipack LTD',\n",
              " 'Surfer Rosa (Vinyl)[Importado]',\n",
              " 'Wasting Light',\n",
              " 'Re',\n",
              " 'Psalmos (Vinyl)',\n",
              " '40 (Vinyl)',\n",
              " 'Is This It (Vinyl)',\n",
              " 'Living In A Ghost Town (Vinyl)',\n",
              " \"SuperM The 1st Mini Album 'SuperM' [LUCAS Ver.]\",\n",
              " 'Fame Monster[Importado]',\n",
              " 'Ahi Vamos',\n",
              " 'Bia - Grita',\n",
              " 'Undertow (Vinyl)',\n",
              " 'High Violet [Vinyl]',\n",
              " 'Radiohead - In Rainbows (Vinyl)',\n",
              " 'Use Your Illusion 2 (Vinyl) [Importado]',\n",
              " 'Map Of The Soul: 7',\n",
              " 'Vivo (Caja CD y DVD) (DVD Audio)',\n",
              " 'Greatest Hits - 40 Trips Around The Sun (Vinyl)',\n",
              " 'Comedown Machine',\n",
              " 'Element of Freedom (Vinyl)',\n",
              " \"Sgt. Pepper's Lonely Heart (Vinyl)\",\n",
              " 'Queen , 40 (Box Set)',\n",
              " 'Whatever People Say I Am Thats What I Am Not (Vinyl)[Importado]',\n",
              " 'Fragile: Expanded / Remixed',\n",
              " 'Appeal to Reason [Importado]',\n",
              " 'Dry - Demos (Vinyl)',\n",
              " '1 (Vinyl)',\n",
              " 'Firepower (+ Audio CD)',\n",
              " 'Love Yourself: Her (Random cover, incl. 100-page photobook, one random photocard, 20-page minibook and one sticker pack)',\n",
              " 'Is This It',\n",
              " 'Feel Special',\n",
              " 'Memo Rex Commander y El Corazón Atómico de la Vía Láctea',\n",
              " 'k-12',\n",
              " 'Greatest Hits I [2 LP]',\n",
              " 'Bohemian Rhapsody (Audio Cassette)',\n",
              " 'Santana (Vinyl)',\n",
              " 'Aire',\n",
              " 'Harry Styles (Edición Especial) (Vinyl)',\n",
              " 'Rough And Rowdy Ways (Vinyl)',\n",
              " 'Blues Masters: Very Best of Lightnin Hopkins[Importado]',\n",
              " 'Harry Styles',\n",
              " 'Guerra',\n",
              " 'El Poeta Halley',\n",
              " 'Veinte Años',\n",
              " 'Interaction - Art Quartet Farmer',\n",
              " 'De Plaza en Plaza. Cumbia Sinfónica',\n",
              " 'Nu Leaf / Various (Vinyl)',\n",
              " 'Blurryface (Vinyl)',\n",
              " 'In Heaven (Red)',\n",
              " 'Confort Y Musica Para Volar',\n",
              " '2nd Law (Vinyl) [Importado]',\n",
              " 'Individual Thought Patterns [Importado]',\n",
              " 'Late Registration (Vinyl)[Importado]',\n",
              " 'Doble Vida',\n",
              " 'The Inevitable End',\n",
              " 'Gira: Me Veras Volver 1',\n",
              " 'Slow Rush',\n",
              " 'Somewhere in Time (Vinyl)',\n",
              " 'Alba',\n",
              " 'SUPERNATURAL (Vinyl)',\n",
              " 'The Singles (Vinyl)',\n",
              " 'FUERZA NATURAL TOUR/ EN VIVO EN MONTERREY MX 2009',\n",
              " 'Los Singles 1985-2005',\n",
              " 'Gira: Me Veras Volver 2',\n",
              " 'Guardians Of The Galaxy: Awesome Mix Vol. 1 [Cassette] (Audio Cassette)',\n",
              " 'Notes On A Conditional Form',\n",
              " 'Women In Music Pt. III (Vinyl)',\n",
              " 'USE YOUR ILLUSION I (Vinyl)',\n",
              " 'In The Court Of The Crimson King: 50th Anniversary Edition (Gatefold200gm Audiophile Vinyl)',\n",
              " 'Mis Boleros Favoritos',\n",
              " 'Zoe',\n",
              " 'Love Yourself: Answer (Edición Especial: Foto álbum de 116 hojas, 1 Photocard, Mini ábum de 20 páginas y 1 sticker pack)',\n",
              " 'Changes',\n",
              " 'The Wall [180 Gram] (Vinyl)',\n",
              " \"SuperM The 1st Mini Album 'SuperM' [MARK Ver.]\",\n",
              " 'Imagine (Vinyl)',\n",
              " 'Shea Butter Baby (Vinyl)',\n",
              " 'Are You Experienced (Vinyl) [Importado]',\n",
              " 'Father of All...',\n",
              " 'Jazz Samba (Vinyl)',\n",
              " 'Women In Music Pt. III',\n",
              " 'The Man Who (20th Anniversary Edition) (Vinyl)',\n",
              " 'Big Black Coat (Vinyl)',\n",
              " 'Jar Of Flies (ep)',\n",
              " 'No.6 Collaborations Project',\n",
              " 'Doors (Vinyl) [Importado]',\n",
              " 'NFR!!',\n",
              " 'Purple Rain (Vinyl)',\n",
              " 'Rules (Vinyl) [Importado]',\n",
              " 'Guardians of the Galaxy, Vol. 2 (Songs From the Motion Picture) (Deluxe Edition) (Vinyl)',\n",
              " 'Deliverance',\n",
              " 'Revolver (Vinyl) [Importado]',\n",
              " 'Animals (1977)',\n",
              " 'S&M2 2CD / DVD',\n",
              " 'The Downward Spiral (Vinyl)',\n",
              " 'The Resistance',\n",
              " 'Signos',\n",
              " 'Shrine of New Generation Slaves [Importado]',\n",
              " 'Nevermind (Vinyl) [Importado]',\n",
              " 'Calm',\n",
              " 'Skool Luv Affair [Importado]']"
            ]
          },
          "metadata": {
            "tags": []
          },
          "execution_count": 20
        }
      ]
    },
    {
      "cell_type": "markdown",
      "metadata": {
        "id": "X92oQSyNAZYH",
        "colab_type": "text"
      },
      "source": [
        "##Scrap Dates"
      ]
    },
    {
      "cell_type": "code",
      "metadata": {
        "id": "7UA41oBq63PF",
        "colab_type": "code",
        "colab": {}
      },
      "source": [
        "dates_raw = df['time'].tolist()\n",
        "dates_time = set(dates_raw)\n",
        "\n",
        "just_dates = []\n",
        "for dt in dates_time:\n",
        "    try:\n",
        "        date = datetime.strptime(dt,'%Y-%m-%d %H:%M').date()\n",
        "    except:\n",
        "        date = datetime.strptime(dt,'%Y-%m-%d %H_%M').date()\n",
        "\n",
        "    if not date in just_dates:\n",
        "        just_dates.append(date)\n",
        "\n",
        "just_dates.sort()"
      ],
      "execution_count": 9,
      "outputs": []
    },
    {
      "cell_type": "markdown",
      "metadata": {
        "id": "NfRFjxnNAcpl",
        "colab_type": "text"
      },
      "source": [
        "#Obtaining All Mode Ranks in table"
      ]
    },
    {
      "cell_type": "code",
      "metadata": {
        "id": "hjje59KxCayy",
        "colab_type": "code",
        "colab": {}
      },
      "source": [
        "products_dict = {products[n]:n for n in range(len(products))}\n",
        "# products_dict"
      ],
      "execution_count": 10,
      "outputs": []
    },
    {
      "cell_type": "code",
      "metadata": {
        "id": "Sk-TZdR_AkqX",
        "colab_type": "code",
        "colab": {
          "base_uri": "https://localhost:8080/",
          "height": 547
        },
        "outputId": "67210384-3b69-446a-91d0-57c638dd2e37"
      },
      "source": [
        "ranks = df['Rank'].tolist()\n",
        "day_arrays = [None] * (len(just_dates) - 1)\n",
        "zero_rank_day_array = [None] * len(products)\n",
        "rank_day_array = [None] * len(products)\n",
        "\n",
        "d_counter = 0\n",
        "first_date = just_dates[0]\n",
        "\n",
        "for r in range(len(ranks)):\n",
        "    \n",
        "    #Day that we are\n",
        "    try:\n",
        "        date_check = datetime.strptime(dates_raw[r],'%Y-%m-%d %H:%M').date()\n",
        "    except:\n",
        "        date_check = datetime.strptime(dates_raw[r],'%Y-%m-%d %H_%M').date()\n",
        "\n",
        "    if date_check != first_date:\n",
        "        day_arrays[d_counter] = rank_day_array\n",
        "        rank_day_array = [None] * len(products)\n",
        "        if d_counter < (len(just_dates)-1):\n",
        "            d_counter += 1\n",
        "            first_date = just_dates[d_counter]\n",
        "\n",
        "    if date_check == first_date:\n",
        "        # if date_check == just_dates[0]:\n",
        "        #     print(date_check)\n",
        "        rank = ranks[r]\n",
        "        #What product are we talking about\n",
        "        product_name = product_names_raw[r]\n",
        "        if product_name != None:\n",
        "            product_position = products_dict[product_name]\n",
        "            if rank_day_array[product_position] == None:\n",
        "                array = []\n",
        "                rank_day_array[product_position] = array\n",
        "                array_rank = rank_day_array[product_position]\n",
        "                array_rank.append(rank)\n",
        "            else:\n",
        "                array_rank = rank_day_array[product_position]\n",
        "                array_rank.append(rank)\n",
        "        \n",
        "            # print(f'{product_name} Position: {product_position} rank: {rank} -> {rank_day_array[product_position]}')\n",
        "\n",
        "for ranked_day in day_arrays:\n",
        "    print(ranked_day)\n",
        "\n",
        "print('\\n')\n",
        "\n",
        "for ranked_day in day_arrays:\n",
        "    for r in range(len(ranked_day)):\n",
        "        product = ranked_day[r]\n",
        "        if product != None:\n",
        "            if len(product) > 1:\n",
        "                moda = mode(ranked_day[r])\n",
        "                ranked_day[r] = moda\n",
        "            # elif len(product) == 0:\n",
        "            #     ranked_day[r] = None\n",
        "            elif len(product) == 1:\n",
        "                ranked_day[r] = product[0]\n",
        "\n",
        "for ranked_day in day_arrays:\n",
        "    print(ranked_day)\n"
      ],
      "execution_count": 15,
      "outputs": [
        {
          "output_type": "stream",
          "text": [
            "[None, None, None, None, [11.0, 11.0, 11.0, 11.0, 11.0, 11.0], [4.0, 4.0, 4.0, 4.0, 10.0, 10.0, 10.0, 10.0, 10.0, 22.0, 22.0, 22.0, 22.0, 22.0, 22.0], None, [44.0, 31.0, 31.0, 31.0, 31.0, 31.0, 31.0], [3.0, 1.0, 1.0, 1.0, 1.0, 2.0, 2.0, 2.0, 2.0, 2.0, 7.0, 7.0, 7.0, 7.0, 7.0, 7.0], None, None, None, None, None, None, None, None, None, [47.0, 47.0, 47.0, 47.0, 47.0, 47.0], None, None, None, None, None, [26.0, 26.0, 26.0, 26.0, 26.0, 26.0], [37.0], None, None, None, None, None, None, None, None, None, None, None, None, None, None, None, None, None, None, [40.0, 40.0, 40.0, 40.0, 40.0, 40.0], None, None, None, None, None, [29.0], None, [41.0], None, None, None, None, None, None, [12.0, 28.0, 28.0, 28.0, 28.0, 13.0, 13.0, 13.0, 13.0, 13.0, 27.0, 27.0, 27.0, 27.0, 27.0, 27.0], None, None, None, [49.0, 49.0, 49.0, 49.0, 49.0], None, None, [38.0, 38.0, 38.0, 38.0, 38.0, 38.0], None, [20.0, 8.0, 20.0, 8.0, 8.0, 20.0, 20.0, 8.0, 15.0, 12.0, 15.0, 12.0, 12.0, 15.0, 15.0, 12.0, 15.0, 12.0, 5.0, 6.0, 5.0, 6.0, 5.0, 6.0, 6.0, 5.0, 6.0, 5.0, 6.0, 5.0], None, None, None, None, None, None, None, None, None, None, None, None, None, None, None, None, None, [16.0, 30.0, 30.0, 30.0, 30.0, 14.0, 14.0, 14.0, 14.0, 14.0, 10.0, 10.0, 10.0, 10.0, 10.0, 10.0], None, None, None, None, None, [18.0, 18.0, 18.0, 18.0, 18.0, 18.0], None, None, None, None, None, None, None, None, [35.0], None, None, [13.0, 10.0, 10.0, 10.0, 10.0, 17.0, 17.0, 17.0, 17.0, 17.0, 29.0, 29.0, 29.0, 29.0, 29.0, 29.0], None, None, None, None, [15.0, 24.0, 24.0, 24.0, 24.0, 37.0, 37.0, 37.0, 37.0, 37.0, 24.0, 24.0, 24.0, 24.0, 24.0, 24.0], None, None, None, None, [32.0, 35.0, 35.0, 35.0, 35.0, 35.0, 35.0], None, [8.0, 18.0, 18.0, 18.0, 18.0, 27.0, 27.0, 27.0, 27.0, 27.0], [41.0, 41.0, 41.0, 41.0], None, [48.0, 48.0, 48.0, 48.0, 48.0, 48.0], None, None, None, None, None, None, None, None, None, None, None, [27.0, 27.0, 27.0, 27.0, 41.0, 41.0, 41.0, 41.0, 41.0], None, None, None, None, [17.0, 48.0, 48.0, 48.0, 48.0], [21.0, 21.0, 21.0, 21.0, 21.0, 45.0, 45.0, 45.0, 45.0, 45.0, 45.0], None, None, None, None, None, None, None, [40.0, 40.0, 40.0, 40.0, 28.0, 28.0, 28.0, 28.0, 28.0, 28.0], None, None, None, [9.0, 23.0, 23.0, 23.0, 23.0, 35.0, 35.0, 35.0, 35.0, 35.0], None, None, None, None, None, None, [48.0], None, None, None, None, None, None, None, None, None, None, None, None, [29.0, 29.0, 29.0, 29.0, 42.0, 42.0, 42.0, 42.0, 42.0], None, None, [38.0], [32.0, 32.0, 32.0, 32.0], [50.0, 50.0, 50.0, 50.0], None, [4.0, 16.0, 16.0, 16.0, 16.0, 9.0, 9.0, 9.0, 9.0, 9.0, 19.0, 19.0, 19.0, 19.0, 19.0, 19.0], None, None, None, None, None, None, None, None, None, None, None, None, [40.0, 37.0, 37.0, 37.0, 37.0, 32.0, 32.0, 32.0, 32.0, 32.0, 32.0], [25.0, 25.0, 25.0, 25.0, 40.0, 40.0, 40.0, 40.0, 40.0], None, None, None, None, None, None, None, [14.0, 14.0, 14.0, 14.0, 4.0, 4.0, 4.0, 4.0, 4.0, 4.0, 4.0, 4.0, 4.0, 4.0, 4.0], [16.0, 16.0, 16.0, 16.0, 16.0, 16.0], None, [25.0, 25.0, 25.0, 25.0, 25.0], None, None, [49.0], None, None, None, [28.0, 17.0, 17.0, 17.0, 17.0, 23.0, 23.0, 23.0, 23.0, 23.0, 42.0, 42.0, 42.0, 42.0, 42.0, 42.0], None, None, None, None, None, None, None, None, None, None, None, None, None, [14.0, 21.0, 21.0, 21.0, 21.0, 29.0, 29.0, 29.0, 29.0, 29.0, 3.0, 3.0, 3.0, 3.0, 3.0, 3.0], [49.0, 49.0, 49.0, 49.0, 49.0, 49.0], None, None, [43.0], [33.0], None, None, None, None, None, None, None, None, None, None, None, None, None, None, None, None, None, None, None, None, None, None, None, None, [30.0, 30.0, 30.0, 30.0, 30.0], None, None, None, [7.0, 2.0, 2.0, 2.0, 2.0, 3.0, 3.0, 3.0, 3.0, 3.0, 8.0, 8.0, 8.0, 8.0, 8.0, 8.0], None, None, None, None, [48.0, 48.0, 48.0, 48.0, 48.0], None, None, None, None, None, None, [34.0, 34.0, 34.0, 34.0], None, None, None, None, None, None, None, None, None, None, None, None, None, None, None, None, None, None, None, None, [13.0, 13.0, 13.0, 13.0, 19.0, 19.0, 19.0, 19.0, 19.0, 37.0, 37.0, 37.0, 37.0, 37.0, 37.0], None, [49.0, 49.0, 49.0, 49.0], None, None, None, [44.0, 44.0, 44.0, 44.0, 44.0], [19.0, 35.0, 35.0, 35.0, 35.0, 43.0, 43.0, 43.0, 43.0, 43.0], None, None, [25.0, 33.0, 33.0, 33.0, 33.0, 33.0, 33.0], None, None, [43.0, 43.0, 43.0, 43.0], None, None, None, None, None, None, None, None, [38.0, 38.0, 38.0, 38.0, 38.0], [38.0, 38.0, 38.0, 38.0, 16.0, 16.0, 16.0, 16.0, 16.0, 13.0, 13.0, 13.0, 13.0, 13.0, 13.0], None, [26.0, 26.0, 26.0, 26.0, 39.0, 39.0, 39.0, 39.0, 39.0], None, [12.0, 12.0, 12.0, 12.0, 12.0, 12.0], None, None, None, None, None, None, None, None, None, None, None, None, [27.0, 14.0, 14.0, 14.0, 14.0, 14.0, 14.0], None, None, None, None, None, None, None, [47.0], None, None, None, None, [31.0, 31.0, 31.0, 31.0], None, None, None, None, None, [36.0], None, [2.0, 6.0, 6.0, 6.0, 6.0, 11.0, 11.0, 11.0, 11.0, 11.0, 20.0, 20.0, 20.0, 20.0, 20.0, 20.0], None, None, None, None, None, None, None, [1.0, 3.0, 3.0, 3.0, 3.0, 1.0, 1.0, 1.0, 1.0, 1.0, 2.0, 2.0, 2.0, 2.0, 2.0, 2.0], None, [31.0, 31.0, 31.0, 31.0, 31.0, 25.0, 25.0, 25.0, 25.0, 25.0, 25.0], None, [20.0], None, None, None, None, [50.0], None, None, None, None, [34.0, 15.0, 15.0, 15.0, 15.0, 22.0, 22.0, 22.0, 22.0, 22.0, 17.0, 17.0, 17.0, 17.0, 17.0, 17.0], [31.0], None, None, None, None, None, None, None, [46.0, 46.0, 46.0, 46.0, 46.0], None, None, [39.0, 39.0, 39.0, 39.0], None, None, None, [36.0, 36.0, 36.0, 36.0, 36.0, 36.0], None, None, None, [36.0, 36.0, 36.0, 36.0], None, None, None, None, None, [45.0, 45.0, 45.0, 45.0], None, None, None, None, None, None, None, None, [9.0, 9.0, 9.0, 9.0, 6.0, 6.0, 6.0, 6.0, 6.0, 1.0, 1.0, 1.0, 1.0, 1.0, 1.0], None, None, [47.0, 47.0, 47.0, 47.0, 47.0], [33.0, 33.0, 33.0, 33.0], None, None, None, None, None, [47.0, 47.0, 47.0, 47.0], None, None, None, None, [11.0, 11.0, 11.0, 11.0, 7.0, 7.0, 7.0, 7.0, 7.0, 21.0, 21.0, 21.0, 21.0, 21.0, 21.0], None, [44.0, 44.0, 44.0, 44.0, 44.0, 44.0], None, None, [42.0], None, None, [10.0, 22.0, 22.0, 22.0, 22.0, 34.0, 34.0, 34.0, 34.0, 34.0], None, None, None, None, None, None, None, None, None, None, None, None, None, None, None, None, None, None, None, None, None, None, [43.0, 43.0, 43.0, 43.0, 43.0, 43.0], None, None, None, None, None, None, [5.0, 5.0, 5.0, 5.0, 5.0, 8.0, 8.0, 8.0, 8.0, 8.0, 15.0, 15.0, 15.0, 15.0, 15.0, 15.0], [45.0, 45.0, 45.0, 45.0, 45.0], None, None, None, [11.0, 7.0, 7.0, 7.0, 7.0, 5.0, 5.0, 5.0, 5.0, 5.0, 9.0, 9.0, 9.0, 9.0, 9.0, 9.0], None, None, None, None, None, [33.0, 33.0, 33.0, 33.0, 33.0, 23.0, 23.0, 23.0, 23.0, 23.0, 23.0], None, [24.0, 46.0, 46.0, 46.0, 46.0], None, None, None, None, [36.0, 36.0, 36.0, 36.0, 36.0], None, None, None, [23.0, 44.0, 44.0, 44.0, 44.0], [32.0, 32.0, 32.0, 32.0, 32.0], None, [18.0, 26.0, 26.0, 26.0, 26.0, 26.0, 50.0, 50.0, 50.0, 50.0, 50.0, 50.0], None, None, [20.0, 20.0, 20.0, 20.0, 20.0, 41.0, 41.0, 41.0, 41.0, 41.0, 41.0], None, None, None, [22.0], None, None, None, None, [24.0, 24.0, 24.0, 24.0, 24.0, 46.0, 46.0, 46.0, 46.0, 46.0, 46.0], None, None, None, None, None, [21.0], None, None, None, None, None, [6.0, 12.0, 12.0, 12.0, 12.0, 18.0, 18.0, 18.0, 18.0, 18.0, 34.0, 34.0, 34.0, 34.0, 34.0, 34.0], None, None, None, None, None, None, [39.0, 39.0, 39.0, 39.0, 39.0, 39.0], [26.0, 42.0, 42.0, 42.0, 42.0], None, None, None, None, None, None, None, None, None, None, [50.0, 50.0, 50.0, 50.0, 50.0], None, [45.0], None, None, None, None, None, [30.0, 30.0, 30.0, 30.0, 30.0, 30.0, 30.0], None, None, None, None, [46.0], None, None, [39.0, 19.0, 19.0, 19.0, 19.0, 28.0, 28.0, 28.0, 28.0, 28.0], None]\n",
            "[None, None, None, None, [27.0, 27.0, 27.0, 27.0, 27.0, 27.0, 27.0, 27.0, 27.0, 27.0, 27.0, 27.0, 27.0], None, None, None, [1.0, 1.0, 1.0, 1.0, 1.0, 1.0, 1.0, 1.0, 1.0, 1.0, 1.0, 1.0, 1.0], None, None, None, None, None, [21.0, 21.0, 21.0, 21.0, 21.0, 21.0, 21.0, 21.0, 21.0, 21.0, 21.0, 21.0, 21.0], None, None, None, None, None, None, None, None, None, None, None, None, None, None, None, None, None, None, None, None, None, None, None, None, [17.0, 17.0, 17.0, 17.0, 17.0, 17.0, 17.0, 17.0, 17.0, 17.0, 17.0, 17.0, 17.0], None, None, None, None, None, None, None, None, None, None, None, [44.0, 44.0, 44.0, 44.0, 44.0, 44.0, 44.0, 44.0, 44.0, 44.0, 44.0, 44.0, 44.0], None, None, None, None, None, None, None, [16.0, 16.0, 16.0, 16.0, 16.0, 16.0, 16.0, 16.0, 16.0, 16.0, 16.0, 16.0, 16.0], None, None, None, None, None, None, None, None, [9.0, 4.0, 4.0, 9.0, 4.0, 9.0, 9.0, 4.0, 4.0, 9.0, 4.0, 9.0, 9.0, 4.0, 9.0, 4.0, 9.0, 4.0, 4.0, 9.0, 4.0, 9.0, 4.0, 9.0, 9.0, 4.0], None, None, None, None, None, None, None, None, None, None, None, [22.0, 22.0, 22.0, 22.0, 22.0, 22.0, 22.0, 22.0, 22.0, 22.0, 22.0, 22.0, 22.0], None, None, None, None, None, None, None, [14.0, 14.0, 14.0, 14.0, 14.0, 14.0, 14.0, 14.0, 14.0, 14.0, 14.0, 14.0, 14.0], None, None, None, None, None, None, None, None, None, None, None, None, None, None, None, [45.0, 45.0, 45.0, 45.0, 45.0, 45.0, 45.0, 45.0, 45.0, 45.0, 45.0, 45.0, 45.0], None, [38.0, 38.0, 38.0, 38.0, 38.0, 38.0, 38.0, 38.0, 38.0, 38.0, 38.0, 38.0, 38.0], None, None, None, None, None, None, None, None, None, None, None, None, None, None, None, None, None, None, None, None, None, None, None, None, None, None, None, None, None, [30.0, 30.0, 30.0, 30.0, 30.0, 30.0, 30.0, 30.0, 30.0, 30.0, 30.0, 30.0, 30.0], None, None, None, None, None, None, [13.0, 13.0, 13.0, 13.0, 13.0, 13.0, 13.0, 13.0, 13.0, 13.0, 13.0, 13.0, 13.0], None, [31.0, 31.0, 31.0, 31.0, 31.0, 31.0, 31.0, 31.0, 31.0, 31.0, 31.0, 31.0, 31.0], None, None, None, None, [46.0, 46.0, 46.0, 46.0, 46.0, 46.0, 46.0, 46.0, 46.0, 46.0, 46.0, 46.0, 46.0], None, None, None, None, None, None, None, None, None, None, None, None, None, None, [39.0, 39.0, 39.0, 39.0, 39.0, 39.0, 39.0, 39.0, 39.0, 39.0, 39.0, 39.0, 39.0], None, None, None, None, None, None, None, None, None, None, [6.0, 6.0, 6.0, 6.0, 6.0, 6.0, 6.0, 6.0, 6.0, 6.0, 6.0, 6.0, 6.0], None, None, None, None, None, None, None, None, None, None, None, None, [23.0, 23.0, 23.0, 23.0, 23.0, 23.0, 23.0, 23.0, 23.0, 23.0, 23.0, 23.0, 23.0], None, None, [12.0, 12.0, 12.0, 12.0, 12.0, 12.0, 12.0, 12.0, 12.0, 12.0, 12.0, 12.0, 12.0], None, None, None, None, None, None, None, None, None, None, None, None, None, None, None, [15.0, 15.0, 15.0, 15.0, 15.0, 15.0, 15.0, 15.0, 15.0, 15.0, 15.0, 15.0, 15.0], None, None, None, None, None, None, None, [26.0, 26.0, 26.0, 26.0, 26.0, 26.0, 26.0, 26.0, 26.0, 26.0, 26.0, 26.0, 26.0], [43.0, 43.0, 43.0, 43.0, 43.0, 43.0, 43.0, 43.0, 43.0, 43.0, 43.0, 43.0, 43.0], None, None, None, None, [10.0, 10.0, 10.0, 10.0, 10.0, 10.0, 10.0, 10.0, 10.0, 10.0, 10.0, 10.0, 10.0], None, None, None, None, None, None, None, None, None, None, None, None, None, None, None, None, None, None, None, None, None, None, None, None, None, None, None, None, None, None, None, None, None, [2.0, 2.0, 2.0, 2.0, 2.0, 2.0, 2.0, 2.0, 2.0, 2.0, 2.0, 2.0, 2.0], None, None, None, None, None, None, None, None, None, [50.0, 50.0, 50.0, 50.0, 50.0, 50.0, 50.0, 50.0, 50.0, 50.0, 50.0, 50.0, 50.0], None, None, None, None, None, None, None, None, None, None, None, None, None, None, None, None, None, None, None, None, None, None, None, None, None, None, None, None, None, [19.0, 19.0, 19.0, 19.0, 19.0, 19.0, 19.0, 19.0, 19.0, 19.0, 19.0, 19.0, 19.0], None, None, None, None, None, None, None, None, None, [18.0, 18.0, 18.0, 18.0, 18.0, 18.0, 18.0, 18.0, 18.0, 18.0, 18.0, 18.0, 18.0], None, None, None, None, None, None, None, [33.0, 33.0, 33.0, 33.0, 33.0, 33.0, 33.0, 33.0, 33.0, 33.0, 33.0, 33.0, 33.0], None, [25.0, 25.0, 25.0, 25.0, 25.0, 25.0, 25.0, 25.0, 25.0, 25.0, 25.0, 25.0, 25.0], None, None, None, [37.0, 37.0, 37.0, 37.0, 37.0, 37.0, 37.0, 37.0, 37.0, 37.0, 37.0, 37.0, 37.0], None, None, None, None, None, None, None, None, None, None, None, None, None, None, None, None, None, None, None, None, [34.0, 34.0, 34.0, 34.0, 34.0, 34.0, 34.0, 34.0, 34.0, 34.0, 34.0, 34.0, 34.0], None, None, None, [49.0, 49.0, 49.0, 49.0, 49.0, 49.0, 49.0, 49.0, 49.0, 49.0, 49.0, 49.0, 49.0], None, None, None, None, [24.0, 24.0, 24.0, 24.0, 24.0, 24.0, 24.0, 24.0, 24.0, 24.0, 24.0, 24.0, 24.0], None, None, None, None, None, None, None, [5.0, 5.0, 5.0, 5.0, 5.0, 5.0, 5.0, 5.0, 5.0, 5.0, 5.0, 5.0, 5.0], None, None, None, None, None, None, None, None, None, None, None, None, None, [7.0, 7.0, 7.0, 7.0, 7.0, 7.0, 7.0, 7.0, 7.0, 7.0, 7.0, 7.0, 7.0], None, None, None, None, None, None, None, None, None, None, None, None, None, None, None, None, None, None, None, None, None, None, None, None, None, None, None, None, None, None, None, None, None, None, [3.0, 3.0, 3.0, 3.0, 3.0, 3.0, 3.0, 3.0, 3.0, 3.0, 3.0, 3.0, 3.0], None, None, None, None, [36.0, 36.0, 36.0, 36.0, 36.0, 36.0, 36.0, 36.0, 36.0, 36.0, 36.0, 36.0, 36.0], None, None, None, None, None, None, None, None, None, [11.0, 11.0, 11.0, 11.0, 11.0, 11.0, 11.0, 11.0, 11.0, 11.0, 11.0, 11.0, 11.0], None, None, None, None, None, None, [32.0, 32.0, 32.0, 32.0, 32.0, 32.0, 32.0, 32.0, 32.0, 32.0, 32.0, 32.0, 32.0], [35.0, 35.0, 35.0, 35.0, 35.0, 35.0, 35.0, 35.0, 35.0, 35.0, 35.0, 35.0, 35.0], None, None, None, None, None, None, None, None, None, None, None, None, None, None, None, None, None, None, None, None, None, None, None, None, None, None, None, None, None, [8.0, 8.0, 8.0, 8.0, 8.0, 8.0, 8.0, 8.0, 8.0, 8.0, 8.0, 8.0, 8.0], None, None, None, None, [47.0, 47.0, 47.0, 47.0, 47.0, 47.0, 47.0, 47.0, 47.0, 47.0, 47.0, 47.0, 47.0], None, None, None, None, None, [20.0, 20.0, 20.0, 20.0, 20.0, 20.0, 20.0, 20.0, 20.0, 20.0, 20.0, 20.0, 20.0], None, None, None, None, None, [40.0, 40.0, 40.0, 40.0, 40.0, 40.0, 40.0, 40.0, 40.0, 40.0, 40.0, 40.0, 40.0], [41.0, 41.0, 41.0, 41.0, 41.0, 41.0, 41.0, 41.0, 41.0, 41.0, 41.0, 41.0, 41.0], None, None, None, [42.0, 42.0, 42.0, 42.0, 42.0, 42.0, 42.0, 42.0, 42.0, 42.0, 42.0, 42.0, 42.0], None, None, None, None, None, None, None, None, None, None, None, None, None, None, None, None, None, None, None, None, None, None, None, None, None, None, None, None, [28.0, 28.0, 28.0, 28.0, 28.0, 28.0, 28.0, 28.0, 28.0, 28.0, 28.0, 28.0, 28.0], None, None, None, None, [29.0, 29.0, 29.0, 29.0, 29.0, 29.0, 29.0, 29.0, 29.0, 29.0, 29.0, 29.0, 29.0], None, None, None, [48.0, 48.0, 48.0, 48.0, 48.0, 48.0, 48.0, 48.0, 48.0, 48.0, 48.0, 48.0, 48.0], None, None, None, None, None, None, None, None, None, None, None, None, None, None, None, None, None, None, None, None, None, None, None, None, None]\n",
            "[None, None, None, None, None, None, [49.0, 49.0, 49.0, 49.0, 49.0], None, [5.0, 5.0, 5.0, 5.0, 5.0], [48.0, 48.0, 48.0, 48.0, 48.0], None, None, None, None, None, None, None, None, None, None, None, None, None, None, None, None, None, None, None, None, None, None, None, None, None, None, None, None, None, None, None, None, None, None, [31.0, 31.0, 31.0, 31.0, 31.0], None, None, None, None, None, None, None, None, None, None, None, None, None, None, None, None, None, None, None, None, None, [34.0, 34.0, 34.0, 34.0, 34.0], None, [1.0, 6.0, 1.0, 6.0, 6.0, 1.0, 6.0, 1.0, 1.0, 6.0], None, None, None, None, None, None, None, [27.0, 27.0, 27.0, 27.0, 27.0], None, None, None, [42.0, 42.0, 42.0, 42.0, 42.0], None, None, None, None, None, None, None, None, None, None, None, None, None, None, None, None, None, None, None, None, None, None, None, [23.0, 23.0, 23.0, 23.0, 23.0], None, None, None, None, None, None, None, None, None, None, None, [14.0, 14.0, 14.0, 14.0, 14.0], None, None, None, None, None, None, None, None, None, None, None, None, None, [50.0, 50.0, 50.0, 50.0, 50.0], None, None, None, None, None, None, None, None, None, None, None, None, None, None, [13.0, 13.0, 13.0, 13.0, 13.0], None, None, None, [17.0, 17.0, 17.0, 17.0, 17.0], None, None, None, None, None, None, None, None, None, None, None, None, None, None, None, None, None, None, None, None, [46.0, 46.0, 46.0, 46.0, 46.0], None, None, None, None, None, [29.0, 29.0, 29.0, 29.0, 29.0], [44.0, 44.0, 44.0, 44.0, 44.0], None, None, None, None, None, None, None, None, None, None, None, None, None, None, None, None, None, None, None, None, [9.0, 9.0, 9.0, 9.0, 9.0], None, None, None, None, None, None, None, [30.0, 30.0, 30.0, 30.0, 30.0], None, [25.0, 25.0, 25.0, 25.0, 25.0], None, None, None, None, None, None, None, None, None, None, None, None, None, [2.0, 2.0, 2.0, 2.0, 2.0], None, None, None, None, None, None, [45.0, 45.0, 45.0, 45.0, 45.0], None, None, None, None, None, [32.0, 32.0, 32.0, 32.0, 32.0], None, None, None, None, None, None, None, None, None, None, None, None, None, None, None, None, None, None, None, None, [4.0, 4.0, 4.0, 4.0, 4.0], None, None, None, None, None, None, None, None, None, None, None, None, None, None, None, None, None, [47.0, 47.0, 47.0, 47.0, 47.0], None, None, None, None, None, None, None, None, None, None, None, None, None, None, [40.0, 40.0, 40.0, 40.0, 40.0], None, None, None, None, None, None, [24.0, 24.0, 24.0, 24.0, 24.0], None, None, None, None, None, None, None, None, None, None, None, None, None, None, None, None, [36.0, 36.0, 36.0, 36.0, 36.0], [11.0, 11.0, 11.0, 11.0, 11.0], None, None, None, None, None, None, None, None, None, None, None, None, None, None, [21.0, 21.0, 21.0, 21.0, 21.0], None, None, None, None, None, None, None, None, None, None, None, None, None, None, None, None, None, None, None, None, [12.0, 12.0, 12.0, 12.0, 12.0], None, None, None, None, None, None, None, [3.0, 3.0, 3.0, 3.0, 3.0], None, None, None, None, None, None, None, None, None, None, None, None, None, [8.0, 8.0, 8.0, 8.0, 8.0], [22.0, 22.0, 22.0, 22.0, 22.0], None, None, None, None, None, None, None, None, None, [20.0, 20.0, 20.0, 20.0, 20.0], None, None, None, None, None, None, None, None, None, None, None, None, None, None, None, None, None, None, None, None, None, None, None, [16.0, 16.0, 16.0, 16.0, 16.0], None, None, None, None, None, None, None, None, None, None, None, None, None, None, [41.0, 41.0, 41.0, 41.0, 41.0], None, None, None, None, None, None, None, None, [28.0, 28.0, 28.0, 28.0, 28.0], None, None, None, None, None, None, None, None, [18.0, 18.0, 18.0, 18.0, 18.0], None, None, None, None, None, None, None, None, None, None, None, None, None, None, None, None, None, None, None, [7.0, 7.0, 7.0, 7.0, 7.0], None, None, None, None, [19.0, 19.0, 19.0, 19.0, 19.0], None, None, None, None, [33.0, 33.0, 33.0, 33.0, 33.0], None, None, None, None, None, None, [26.0, 26.0, 26.0, 26.0, 26.0], None, None, None, None, None, None, None, [10.0, 10.0, 10.0, 10.0, 10.0], None, None, None, None, None, None, None, None, None, None, None, None, None, None, [37.0, 37.0, 37.0, 37.0, 37.0], None, None, None, None, None, None, None, [38.0, 38.0, 38.0, 38.0, 38.0], [43.0, 43.0, 43.0, 43.0, 43.0], None, None, None, [39.0, 39.0, 39.0, 39.0, 39.0], None, None, None, None, None, None, None, None, None, None, None, None, None, None, None, None, None, None, None, None, [35.0, 35.0, 35.0, 35.0, 35.0], None, None, None, None, None, None, None, None, None, [15.0, 15.0, 15.0, 15.0, 15.0], None]\n",
            "[None, None, None, None, [29.0], None, None, None, [3.0, 3.0, 3.0, 4.0], None, None, None, None, None, None, None, None, None, None, None, None, [32.0], None, None, None, None, [38.0, 38.0, 38.0], None, None, None, None, None, None, None, None, None, None, [21.0], None, None, None, None, None, None, None, None, None, None, None, None, None, None, None, None, None, None, None, None, None, None, None, None, None, None, [42.0, 42.0, 42.0], [43.0, 43.0, 43.0], None, [50.0], [15.0, 7.0, 15.0, 7.0, 7.0, 15.0, 34.0, 10.0], None, None, None, None, None, None, None, None, None, None, None, [14.0, 14.0, 14.0], None, None, None, None, None, None, None, None, None, None, None, None, None, None, None, None, None, None, None, None, None, None, [25.0], [20.0, 20.0, 20.0, 49.0], None, None, None, None, None, None, None, None, None, None, None, [23.0, 23.0, 23.0, 17.0], None, None, None, None, None, None, None, None, None, None, None, None, None, None, None, None, None, [30.0, 30.0, 30.0, 45.0], None, [40.0], None, None, None, None, None, None, None, None, None, None, [31.0, 31.0, 31.0], None, [24.0], None, None, None, None, None, None, None, [49.0, 49.0, 49.0], None, None, None, [33.0], None, None, None, None, None, None, None, None, None, None, None, None, None, None, [11.0, 11.0, 11.0, 14.0], None, None, None, None, None, None, None, None, None, None, None, None, None, None, None, None, None, None, None, None, None, [36.0, 36.0, 36.0], [13.0], [47.0, 47.0, 47.0], None, None, None, None, None, None, None, None, None, None, None, None, None, None, None, None, None, None, None, None, None, [5.0, 5.0, 5.0, 5.0], None, None, None, None, None, None, None, None, None, None, [22.0, 22.0, 22.0], None, [33.0, 33.0, 33.0], [42.0], None, None, None, None, None, None, None, None, None, None, None, None, None, None, None, None, None, [45.0, 45.0, 45.0], None, [4.0, 4.0, 4.0, 15.0], [48.0, 48.0, 48.0], None, None, None, None, None, [50.0, 50.0, 50.0], None, None, None, None, None, [17.0, 17.0, 17.0], [35.0, 35.0, 35.0], None, None, None, None, None, None, None, None, [9.0], None, None, None, None, None, None, [40.0, 40.0, 40.0], None, None, [10.0, 10.0, 10.0, 6.0], [48.0], None, None, None, None, None, [13.0, 13.0, 13.0, 28.0], None, None, [35.0], None, None, None, None, None, None, None, None, None, None, None, None, None, None, [6.0, 6.0, 6.0, 8.0], [27.0, 27.0, 27.0], None, [31.0], None, None, None, None, None, None, None, None, None, None, None, [29.0, 29.0, 29.0, 19.0], None, None, None, None, None, None, None, None, None, [23.0], None, None, None, None, None, [37.0], None, None, None, None, [12.0, 12.0, 12.0, 26.0], [16.0], None, None, None, None, None, None, [1.0, 1.0, 1.0, 2.0], None, None, None, [38.0], None, [39.0], None, None, None, None, None, None, None, [9.0, 9.0, 9.0, 7.0], [41.0], [37.0, 37.0, 37.0], None, None, None, None, [36.0], [21.0, 21.0, 21.0], None, None, None, None, None, None, None, None, None, None, None, None, None, None, None, None, [12.0], None, None, None, None, None, None, None, None, None, [26.0, 26.0, 26.0], None, [46.0, 46.0, 46.0], None, [43.0], None, None, None, None, None, None, None, None, None, None, None, None, None, None, None, None, None, None, [46.0], None, None, None, None, [24.0, 24.0, 24.0], None, None, None, None, [18.0, 18.0, 18.0, 3.0], None, None, None, None, None, [27.0], None, None, None, None, None, None, None, None, None, None, None, None, None, [2.0, 2.0, 2.0, 1.0], None, None, [16.0, 16.0, 16.0], None, None, None, None, None, None, None, None, [25.0, 25.0, 25.0], None, [39.0, 39.0, 39.0], None, None, None, None, None, None, None, [44.0], None, None, [8.0, 8.0, 8.0, 20.0], None, None, None, None, None, None, None, None, None, None, [47.0], None, None, None, None, [32.0, 32.0, 32.0], None, None, None, None, None, None, None, [44.0, 44.0, 44.0, 30.0], None, None, None, None, None, None, [34.0, 34.0, 34.0, 22.0], None, None, None, None, None, None, None, None, None, None, None, None, None, None, None, None, None, None, None, [18.0], None, None, None, None, None, [41.0, 41.0, 41.0], None, [19.0, 19.0, 19.0, 11.0], [28.0, 28.0, 28.0]]\n",
            "[None, None, None, None, [40.0], None, None, [39.0, 39.0, 39.0, 17.0, 17.0, 17.0, 17.0, 30.0, 30.0], [6.0, 7.0, 9.0, 9.0, 9.0, 6.0, 6.0, 6.0, 6.0, 6.0, 6.0], [50.0], None, None, None, None, None, None, None, None, None, None, None, None, None, None, None, None, None, None, None, None, None, None, [38.0, 38.0, 38.0], None, None, None, None, None, None, None, None, None, [25.0, 46.0, 46.0, 46.0], None, None, None, None, None, None, None, None, None, None, None, None, None, [32.0, 32.0, 32.0], None, None, [21.0, 35.0, 35.0, 35.0], None, None, None, None, None, None, None, None, [19.0, 9.0, 10.0, 10.0, 10.0, 18.0, 18.0, 18.0, 18.0, 25.0, 25.0], None, None, None, None, None, None, None, None, None, None, [45.0, 45.0], [31.0, 32.0, 7.0, 7.0, 7.0, 7.0, 8.0, 8.0], [42.0], None, None, None, None, [37.0, 37.0, 37.0, 37.0], None, [37.0], None, None, None, None, None, None, None, None, None, None, [18.0, 18.0, 18.0, 32.0, 32.0, 32.0, 32.0, 47.0, 47.0], None, None, None, [30.0, 27.0, 27.0], [18.0, 8.0, 8.0, 8.0, 16.0, 16.0, 16.0, 16.0, 24.0, 24.0], None, None, None, None, None, None, None, None, None, None, None, [22.0, 39.0], None, [23.0, 41.0, 41.0, 41.0], None, None, None, None, None, None, None, None, None, None, [20.0, 33.0, 33.0, 33.0], None, None, None, None, None, None, [39.0, 39.0], None, [44.0, 44.0], None, [45.0, 45.0, 45.0, 45.0, 12.0, 12.0], [28.0, 17.0, 17.0, 17.0, 29.0, 29.0, 29.0, 29.0, 42.0, 42.0], None, [35.0], None, [43.0], None, None, None, [17.0, 10.0, 14.0, 14.0, 14.0, 23.0, 23.0, 23.0, 23.0, 33.0, 33.0], None, None, None, None, None, None, [40.0, 40.0, 40.0, 40.0], None, [29.0, 29.0], None, None, None, None, [28.0], None, None, None, [32.0], None, None, None, None, None, None, None, None, [10.0, 5.0, 7.0, 7.0, 7.0, 12.0, 12.0, 12.0, 12.0, 15.0, 15.0], [36.0], [24.0, 14.0, 27.0, 27.0, 27.0, 42.0, 42.0, 42.0, 42.0], None, None, None, None, None, None, None, None, None, None, None, None, None, None, None, None, None, [49.0], None, None, [14.0, 26.0, 42.0, 42.0, 42.0], None, None, None, None, None, None, None, None, None, [35.0, 35.0, 35.0, 35.0], None, None, None, None, None, None, None, None, None, None, None, None, [2.0, 3.0, 3.0, 3.0, 3.0, 1.0, 1.0, 1.0, 1.0, 3.0, 3.0], None, None, None, None, None, None, None, [40.0, 40.0, 40.0, 22.0, 22.0], None, None, None, None, None, None, None, None, None, None, None, [45.0], None, [27.0, 50.0, 50.0, 50.0], None, [28.0, 28.0, 28.0, 47.0, 47.0, 47.0, 47.0], None, None, None, None, None, None, None, [40.0, 13.0, 13.0, 13.0, 25.0, 25.0, 25.0, 25.0, 40.0, 40.0], [49.0], [23.0, 34.0, 43.0, 43.0, 43.0], None, None, None, None, None, [49.0, 49.0, 49.0, 49.0], None, [48.0, 26.0, 26.0, 26.0, 13.0, 13.0, 13.0, 13.0, 19.0, 19.0], None, None, None, None, [41.0, 41.0, 41.0, 41.0], None, None, None, None, None, None, None, None, None, [34.0], None, None, None, None, None, None, None, None, None, [7.0, 4.0, 6.0, 6.0, 6.0, 11.0, 11.0, 11.0, 11.0, 13.0, 13.0], None, None, None, None, None, None, [29.0, 46.0], None, None, None, [26.0], None, [15.0, 11.0, 12.0, 12.0, 12.0, 21.0, 21.0, 21.0, 21.0, 34.0, 34.0], None, None, None, None, None, None, [26.0, 26.0], None, None, None, [37.0], [11.0, 15.0, 22.0, 22.0, 22.0, 31.0, 31.0, 31.0, 31.0, 36.0, 36.0], None, None, None, [47.0], None, None, None, None, None, None, None, None, None, None, [21.0, 38.0, 24.0, 24.0, 24.0, 36.0, 36.0, 36.0, 36.0, 48.0, 48.0], [24.0, 44.0, 44.0, 44.0, 20.0, 20.0], None, None, None, None, None, None, [21.0, 21.0], None, None, None, [43.0], [31.0, 24.0, 24.0, 24.0, 24.0, 38.0, 38.0], None, None, [16.0, 33.0], None, None, None, None, [8.0, 12.0, 19.0, 19.0, 19.0, 28.0, 28.0, 28.0, 28.0, 35.0, 35.0], [20.0, 44.0], None, None, None, None, None, None, [3.0, 2.0, 2.0, 2.0, 2.0, 4.0, 4.0, 4.0, 4.0, 2.0, 2.0], None, None, None, None, None, None, None, None, None, None, None, None, [43.0, 43.0], [12.0, 16.0, 23.0, 23.0, 23.0, 9.0, 9.0, 9.0, 9.0, 10.0, 10.0], None, None, None, None, None, None, [9.0, 19.0, 29.0, 29.0, 29.0, 44.0, 44.0, 44.0, 44.0, 14.0, 14.0], None, None, [50.0, 28.0, 28.0], None, None, None, None, None, None, None, None, None, None, None, None, None, None, [41.0, 17.0, 30.0, 30.0, 30.0, 46.0, 46.0, 46.0, 46.0], [42.0, 27.0, 27.0, 27.0, 27.0, 41.0, 41.0], None, None, None, None, [44.0], None, None, None, [27.0, 13.0, 5.0, 5.0, 5.0, 5.0, 5.0, 5.0, 5.0, 4.0, 4.0], None, None, None, None, None, None, None, None, None, None, None, None, None, None, [36.0, 36.0, 36.0], None, None, None, None, None, None, None, [35.0, 20.0, 20.0, 20.0, 34.0, 34.0, 34.0, 34.0, 46.0, 46.0], [38.0], [25.0, 25.0, 25.0, 10.0, 10.0, 10.0, 10.0, 16.0, 16.0], None, None, None, None, None, None, [45.0, 22.0, 22.0, 22.0, 22.0, 37.0, 37.0], [5.0, 6.0, 4.0, 4.0, 4.0, 3.0, 3.0, 3.0, 3.0, 5.0, 5.0], None, None, None, None, None, None, None, None, None, None, None, None, None, None, None, None, None, None, [50.0, 50.0, 50.0, 50.0], [1.0, 1.0, 1.0, 1.0, 1.0, 2.0, 2.0, 2.0, 2.0, 1.0, 1.0], None, None, None, None, [30.0, 45.0, 45.0, 45.0, 15.0, 15.0, 15.0, 15.0, 23.0, 23.0], None, None, None, None, None, [31.0, 31.0, 31.0, 48.0, 48.0, 48.0, 48.0], None, [50.0, 50.0], None, None, None, None, None, [33.0, 33.0, 33.0, 33.0, 49.0, 49.0], [46.0], [4.0, 8.0, 11.0, 11.0, 11.0, 19.0, 19.0, 19.0, 19.0, 31.0, 31.0], None, None, None, [39.0, 15.0, 15.0, 15.0, 26.0, 26.0, 26.0, 26.0, 7.0, 7.0], None, None, None, None, [29.0, 49.0, 49.0, 49.0], None, None, None, None, None, None, None, None, None, None, [48.0, 48.0, 48.0], None, [38.0, 38.0, 38.0, 38.0], [36.0], None, None, None, None, [13.0, 22.0, 34.0, 34.0, 34.0, 14.0, 14.0, 14.0, 14.0, 17.0, 17.0], None, None, None, None, None, None, [25.0, 48.0, 20.0, 20.0, 20.0, 20.0, 32.0, 32.0], None, [37.0, 37.0, 37.0], None, None, None, None, None, None, None, [18.0, 41.0, 18.0, 18.0], None, None, [47.0], [47.0, 47.0, 47.0], None, None, [21.0, 21.0, 21.0, 39.0, 39.0, 39.0, 39.0], None, None, None, None, None, None, [43.0, 43.0, 43.0, 43.0], None, None, None, [33.0, 16.0, 16.0, 16.0, 8.0, 8.0, 8.0, 8.0, 11.0, 11.0], [30.0, 30.0, 30.0, 30.0, 9.0, 9.0]]\n",
            "[None, None, None, None, [16.0, 16.0, 16.0, 16.0, 10.0, 10.0, 10.0, 10.0, 35.0, 35.0, 47.0, 47.0], None, None, [20.0, 20.0, 20.0, 20.0, 40.0, 40.0, 40.0, 40.0], [6.0, 6.0, 6.0, 6.0, 3.0, 3.0, 3.0, 3.0, 14.0, 14.0, 7.0, 7.0], None, None, None, None, None, None, None, [30.0, 30.0, 30.0, 30.0], [37.0, 37.0, 37.0, 37.0], None, None, None, None, None, None, None, [38.0, 38.0], None, None, None, None, None, None, None, [14.0, 14.0], None, None, None, None, None, None, [36.0, 36.0, 36.0, 36.0], None, None, None, [27.0, 27.0, 27.0, 27.0, 26.0, 26.0, 37.0, 37.0], None, None, [35.0, 35.0, 35.0, 35.0], None, None, None, None, None, None, [49.0, 49.0], None, None, [44.0, 44.0, 44.0, 44.0], None, None, None, None, None, None, None, None, None, None, [19.0, 19.0, 19.0, 19.0, 31.0, 31.0, 31.0, 31.0, 16.0, 16.0], None, None, [20.0, 20.0, 20.0, 20.0, 20.0, 20.0, 29.0, 29.0], None, None, None, None, None, None, None, [37.0, 37.0], [33.0, 33.0, 33.0, 33.0], None, None, None, None, [39.0, 39.0], [25.0, 25.0, 25.0, 25.0], None, None, None, None, None, None, None, None, None, None, None, None, [15.0, 15.0, 15.0, 15.0], None, None, None, None, [15.0, 15.0, 15.0, 15.0, 33.0, 33.0, 33.0, 33.0, 5.0, 5.0, 8.0, 8.0], None, None, None, None, None, None, None, None, None, None, None, [40.0, 40.0, 40.0, 40.0, 30.0, 30.0, 39.0, 39.0], None, None, None, None, None, None, None, [28.0, 28.0, 28.0, 28.0], None, None, None, None, None, None, [42.0, 42.0, 42.0, 42.0], None, None, None, [46.0, 46.0, 46.0, 46.0], [27.0, 27.0, 27.0, 27.0], None, None, None, [32.0, 32.0], None, None, [15.0, 15.0, 19.0, 19.0], None, None, None, None, [29.0, 29.0, 29.0, 29.0], None, [29.0, 29.0], None, None, [49.0, 49.0, 49.0, 49.0], None, None, [33.0, 33.0], None, None, None, None, [28.0, 28.0], None, None, None, [47.0, 47.0, 47.0, 47.0], None, None, [45.0, 45.0, 45.0, 45.0], None, None, None, None, None, None, None, [11.0, 11.0, 11.0, 11.0, 7.0, 7.0, 7.0, 7.0, 6.0, 6.0, 21.0, 21.0], None, None, None, None, None, None, [22.0, 22.0, 34.0, 34.0], None, [49.0, 49.0], None, None, None, None, None, [38.0, 38.0, 38.0, 38.0], None, None, None, [31.0, 31.0, 31.0, 31.0], None, None, None, None, None, None, None, None, None, None, None, None, None, None, [41.0, 41.0, 41.0, 41.0], None, [22.0, 22.0, 22.0, 22.0], None, [43.0, 43.0, 43.0, 43.0], None, None, None, None, None, None, None, [2.0, 2.0, 2.0, 2.0, 1.0, 1.0, 1.0, 1.0, 2.0, 2.0, 1.0, 1.0], None, None, None, None, None, [31.0, 31.0], None, None, None, None, None, [49.0, 49.0, 49.0, 49.0], [47.0, 47.0], None, None, None, None, None, [50.0, 50.0, 50.0, 50.0], None, None, None, None, None, None, None, None, None, None, None, [36.0, 36.0, 48.0, 48.0], [26.0, 26.0, 26.0, 26.0], None, None, None, None, None, None, None, None, None, None, None, None, [41.0, 41.0], None, None, None, [27.0, 27.0, 40.0, 40.0], None, None, None, None, None, None, None, None, None, None, None, None, [46.0, 46.0], None, None, None, None, [7.0, 7.0, 7.0, 7.0, 8.0, 8.0, 8.0, 8.0, 11.0, 11.0, 10.0, 10.0], None, None, None, None, None, [41.0, 41.0], [8.0, 8.0, 8.0, 8.0, 9.0, 9.0, 9.0, 9.0, 8.0, 8.0, 11.0, 11.0], None, None, None, None, None, None, [43.0, 43.0], None, None, None, None, [18.0, 18.0], None, [39.0, 39.0, 39.0, 39.0], None, None, None, [18.0, 18.0, 18.0, 18.0, 39.0, 39.0, 39.0, 39.0, 15.0, 15.0], None, [16.0, 16.0, 25.0, 25.0], None, None, [50.0, 50.0, 50.0, 50.0], None, None, None, None, None, None, None, None, None, [16.0, 16.0, 16.0, 16.0], None, [32.0, 32.0, 32.0, 32.0], None, None, [28.0, 28.0, 28.0, 28.0], None, [35.0, 35.0], [23.0, 23.0, 23.0, 23.0], None, None, None, None, [34.0, 34.0, 34.0, 34.0, 13.0, 13.0, 13.0, 13.0, 40.0, 40.0], None, None, None, [20.0, 20.0], None, None, None, [48.0, 48.0, 48.0, 48.0, 18.0, 18.0, 22.0, 22.0], None, None, None, None, [17.0, 17.0, 17.0, 17.0], None, None, [4.0, 4.0, 4.0, 4.0, 5.0, 5.0, 5.0, 5.0, 3.0, 3.0, 3.0, 3.0], None, None, None, None, [32.0, 32.0, 13.0, 13.0], None, [31.0, 31.0, 45.0, 45.0], None, None, None, None, None, None, [10.0, 10.0, 10.0, 10.0, 19.0, 19.0, 19.0, 19.0, 45.0, 45.0, 50.0, 50.0], None, None, [13.0, 13.0, 13.0, 13.0, 32.0, 32.0, 32.0, 32.0], None, [24.0, 24.0, 24.0, 24.0], None, [42.0, 42.0, 42.0, 42.0, 12.0, 12.0, 17.0, 17.0], None, None, None, None, [44.0, 44.0], None, None, [28.0, 28.0, 42.0, 42.0], None, [21.0, 21.0, 21.0, 21.0], None, [45.0, 45.0, 45.0, 45.0], None, None, None, None, None, [18.0, 18.0, 18.0, 18.0, 17.0, 17.0, 24.0, 24.0], None, [12.0, 12.0, 12.0, 12.0, 30.0, 30.0, 30.0, 30.0, 7.0, 7.0, 9.0, 9.0], None, None, None, None, None, [44.0, 44.0], None, [5.0, 5.0, 5.0, 5.0, 6.0, 6.0, 6.0, 6.0, 13.0, 13.0, 4.0, 4.0], None, None, None, None, None, None, None, None, None, None, None, None, [37.0, 37.0, 37.0, 37.0], [6.0, 6.0], None, None, None, [23.0, 23.0, 23.0, 23.0], None, None, [43.0, 43.0, 43.0, 43.0, 34.0, 34.0, 46.0, 46.0], None, [24.0, 24.0, 24.0, 24.0, 12.0, 12.0, 12.0, 12.0, 21.0, 21.0, 26.0, 26.0], None, [22.0, 22.0, 22.0, 22.0, 48.0, 48.0, 48.0, 48.0], None, None, None, None, None, None, None, [3.0, 3.0, 3.0, 3.0, 4.0, 4.0, 4.0, 4.0, 4.0, 4.0, 5.0, 5.0], [25.0, 25.0, 25.0, 25.0], [48.0, 48.0], None, None, None, None, [25.0, 25.0], [38.0, 38.0, 38.0, 38.0], None, None, None, None, None, None, None, None, None, None, None, [1.0, 1.0, 1.0, 1.0, 2.0, 2.0, 2.0, 2.0, 1.0, 1.0, 2.0, 2.0], [14.0, 14.0, 14.0, 14.0, 36.0, 36.0, 36.0, 36.0], [19.0, 19.0, 30.0, 30.0], None, [44.0, 44.0, 44.0, 44.0], [9.0, 9.0, 36.0, 36.0], None, None, None, None, None, [47.0, 47.0, 47.0, 47.0], None, None, None, None, None, None, None, None, None, None, None, None, None, [9.0, 9.0, 9.0, 9.0, 11.0, 11.0, 11.0, 11.0, 10.0, 10.0, 12.0, 12.0], None, None, None, None, [26.0, 26.0, 26.0, 26.0], None, None, None, [50.0, 50.0], [23.0, 23.0], None, None, None, None, None, None, None, None, None, None, None, None, None, [17.0, 17.0, 17.0, 17.0, 35.0, 35.0, 35.0, 35.0], None, None, None, None, None, None, [21.0, 21.0, 21.0, 21.0, 41.0, 41.0, 41.0, 41.0, 23.0, 23.0, 27.0, 27.0], None, None, None, None, None, None, None, None, None, None, None, None, None, None, None, None, None, None, None, [34.0, 34.0, 34.0, 34.0, 33.0, 33.0, 43.0, 43.0], None, None, None, None, None, None, [24.0, 24.0, 38.0, 38.0], [29.0, 29.0, 29.0, 29.0], [46.0, 46.0, 46.0, 46.0, 14.0, 14.0, 14.0, 14.0, 42.0, 42.0]]\n",
            "[None, [43.0], None, [48.0], None, None, None, None, [9.0, 13.0, 13.0, 13.0, 13.0, 8.0, 8.0, 8.0, 8.0, 8.0, 8.0], None, None, None, None, None, None, None, None, [25.0, 44.0, 44.0, 44.0, 44.0], None, None, None, None, None, None, None, None, None, [50.0, 50.0, 50.0, 50.0, 21.0, 21.0, 21.0, 21.0, 21.0, 21.0], None, None, None, None, None, [32.0, 32.0, 32.0, 32.0, 32.0, 32.0], None, None, None, None, None, None, None, None, None, None, [20.0, 20.0, 20.0, 20.0, 19.0, 19.0, 19.0, 19.0, 19.0, 19.0], None, [41.0, 24.0, 24.0, 24.0, 24.0, 24.0, 24.0], None, None, [33.0, 33.0, 33.0, 33.0, 33.0, 33.0], None, None, None, None, [36.0], None, None, None, None, None, None, None, None, None, None, None, [39.0, 39.0, 39.0, 39.0, 27.0, 27.0, 27.0, 27.0, 27.0, 27.0], None, [46.0, 31.0, 18.0, 31.0, 18.0, 31.0, 18.0, 31.0, 18.0, 31.0, 18.0, 31.0, 18.0], None, None, None, None, None, None, None, None, None, None, [33.0], None, None, None, None, None, None, [11.0, 11.0, 11.0, 11.0, 11.0, 11.0], None, None, None, None, [36.0, 36.0, 36.0, 36.0, 36.0, 36.0], None, None, None, None, None, None, None, None, None, None, None, None, [8.0, 11.0, 11.0, 11.0, 11.0, 9.0, 9.0, 9.0, 9.0, 9.0, 9.0], None, None, [40.0, 40.0, 40.0, 40.0], None, None, [50.0], None, None, None, [17.0, 17.0, 17.0, 17.0, 17.0, 17.0, 17.0, 17.0, 17.0, 17.0], [28.0, 28.0, 28.0, 28.0, 28.0, 28.0], [16.0, 28.0, 28.0, 28.0, 28.0, 46.0, 46.0, 46.0, 46.0, 46.0, 46.0], None, None, None, None, None, None, None, None, None, None, None, None, None, None, [32.0], None, [25.0, 25.0, 25.0, 25.0], None, None, None, None, None, None, [34.0, 34.0, 34.0, 34.0, 34.0, 34.0], [43.0, 43.0, 43.0, 43.0, 43.0, 43.0], None, [27.0, 8.0, 8.0, 8.0, 8.0, 26.0, 26.0, 26.0, 26.0, 26.0, 26.0], None, None, None, None, None, None, None, None, None, None, None, [37.0, 37.0, 37.0, 37.0], None, None, None, None, [48.0, 48.0, 48.0, 48.0], None, [14.0, 31.0, 31.0, 31.0, 31.0], None, [38.0, 38.0, 38.0, 38.0], None, [38.0], None, None, None, None, None, None, None, None, None, [44.0], None, None, None, None, None, None, None, [49.0, 49.0, 49.0, 49.0], None, None, None, None, None, None, None, None, [49.0], [10.0, 10.0, 10.0, 10.0, 35.0, 35.0, 35.0, 35.0, 35.0, 35.0], None, [45.0], None, None, [19.0, 19.0, 19.0, 19.0], None, None, None, None, None, [37.0], None, None, None, None, None, None, None, None, None, None, None, None, None, None, [44.0, 44.0, 44.0, 44.0, 44.0, 44.0], [40.0], [3.0, 5.0, 5.0, 5.0, 5.0, 4.0, 4.0, 4.0, 4.0, 4.0, 4.0], None, None, None, None, None, None, None, None, None, None, None, None, [41.0, 41.0, 41.0, 41.0], None, None, None, None, None, None, None, None, None, [50.0, 50.0, 50.0, 50.0, 50.0, 50.0], None, [6.0, 6.0, 6.0, 6.0, 7.0, 7.0, 7.0, 7.0, 7.0, 7.0], None, None, None, None, None, None, None, None, [21.0, 21.0, 21.0, 21.0], None, [47.0, 47.0, 47.0, 47.0, 47.0, 47.0], None, None, [23.0, 23.0, 23.0, 23.0, 23.0, 23.0], None, None, None, None, None, None, None, None, None, None, None, None, None, None, [39.0], None, None, None, None, None, None, None, None, None, None, None, None, [12.0, 18.0, 18.0, 18.0, 18.0, 12.0, 12.0, 12.0, 12.0, 12.0, 12.0], None, None, None, None, None, None, [15.0, 24.0, 24.0, 24.0, 24.0, 39.0, 39.0, 39.0, 39.0, 39.0, 39.0], [24.0, 43.0, 43.0, 43.0, 43.0], [25.0, 25.0, 25.0, 25.0, 25.0, 25.0], None, None, None, None, None, None, None, None, None, [17.0, 30.0, 30.0, 30.0, 30.0, 13.0, 13.0, 13.0, 13.0, 13.0, 13.0], None, None, None, None, None, [18.0, 29.0, 29.0, 29.0, 29.0, 15.0, 15.0, 15.0, 15.0, 15.0, 15.0], None, [11.0, 23.0, 23.0, 23.0, 23.0, 16.0, 16.0, 16.0, 16.0, 16.0, 16.0], None, None, None, None, [38.0, 38.0, 38.0, 38.0, 38.0, 38.0], None, None, [48.0, 48.0, 48.0, 48.0, 48.0, 48.0], None, None, None, None, None, None, None, None, None, None, None, [41.0, 41.0, 41.0, 41.0, 41.0, 41.0], [26.0, 45.0, 45.0, 45.0, 45.0], None, None, None, None, None, None, [32.0, 32.0, 32.0, 32.0], [34.0, 34.0, 34.0, 34.0], [22.0, 1.0, 1.0, 1.0, 1.0, 1.0, 1.0, 1.0, 1.0, 1.0, 1.0], None, None, None, [29.0, 46.0, 46.0, 46.0, 46.0], None, None, None, None, None, None, None, [1.0, 3.0, 3.0, 3.0, 3.0, 3.0, 3.0, 3.0, 3.0, 3.0, 3.0], None, None, None, None, None, None, None, None, None, None, None, None, None, [30.0, 30.0, 30.0, 30.0, 30.0, 30.0], [29.0, 29.0, 29.0, 29.0, 29.0, 29.0], None, None, None, None, None, None, None, None, None, None, None, None, None, None, None, None, None, None, None, None, None, None, None, None, None, [47.0], [21.0, 42.0, 42.0, 42.0, 42.0], None, None, None, None, None, None, [5.0, 7.0, 7.0, 7.0, 7.0, 20.0, 20.0, 20.0, 20.0, 20.0, 20.0], None, None, None, None, None, [27.0, 27.0, 27.0, 27.0], None, None, None, None, None, None, None, None, None, [19.0, 35.0, 35.0, 35.0, 35.0], None, None, None, None, [20.0, 33.0, 33.0, 33.0, 33.0], None, [28.0, 47.0, 47.0, 47.0, 47.0], None, None, None, None, None, None, None, None, None, [6.0, 2.0, 2.0, 2.0, 2.0, 2.0, 2.0, 2.0, 2.0, 2.0, 2.0], None, None, None, [49.0, 49.0, 49.0, 49.0, 49.0, 49.0], None, None, None, None, None, None, None, None, None, None, [37.0, 37.0, 37.0, 37.0, 37.0, 37.0], None, None, None, None, [2.0, 4.0, 4.0, 4.0, 4.0, 6.0, 6.0, 6.0, 6.0, 6.0, 6.0], None, None, None, None, [7.0, 12.0, 12.0, 12.0, 12.0, 10.0, 10.0, 10.0, 10.0, 10.0, 10.0], None, None, None, None, None, [26.0, 26.0, 26.0, 26.0], None, None, None, None, None, None, None, [14.0, 14.0, 14.0, 14.0, 42.0, 42.0, 42.0, 42.0, 42.0, 42.0], None, [10.0, 15.0, 15.0, 15.0, 15.0, 40.0, 40.0, 40.0, 40.0, 40.0, 40.0], None, None, None, [4.0, 9.0, 9.0, 9.0, 9.0, 22.0, 22.0, 22.0, 22.0, 22.0, 22.0], None, None, None, None, None, None, None, None, [31.0], None, None, None, None, [34.0], None, None, None, None, None, None, None, None, None, None, [45.0, 45.0, 45.0, 45.0, 45.0, 45.0], None, None, None, None, None, [13.0, 22.0, 22.0, 22.0, 22.0, 5.0, 5.0, 5.0, 5.0, 5.0, 5.0], [30.0], None, None, None, None, None, None, None, None, [23.0, 36.0, 36.0, 36.0, 36.0], None, None, None, None, None, None, None, None, None, [16.0, 16.0, 16.0, 16.0, 14.0, 14.0, 14.0, 14.0, 14.0, 14.0], [35.0], None, None, None, None, None, [42.0], None, None]\n",
            "[[50.0, 50.0, 50.0], None, None, None, None, None, None, None, [9.0, 12.0, 12.0, 12.0, 18.0, 18.0, 18.0, 27.0, 27.0, 27.0, 30.0, 30.0, 30.0], None, None, None, None, None, None, None, None, None, None, [49.0, 49.0, 49.0], None, None, None, None, None, [27.0, 27.0, 27.0, 46.0, 46.0, 46.0], None, [41.0, 25.0, 25.0, 25.0], None, None, [34.0, 34.0, 34.0], [27.0, 27.0, 27.0], None, None, None, [40.0], None, None, None, None, None, None, None, None, None, None, None, None, None, None, None, None, None, None, [44.0], [46.0, 46.0, 46.0], None, None, [42.0, 42.0, 42.0], None, None, None, None, None, None, None, None, None, [33.0, 33.0, 33.0, 9.0, 9.0, 9.0], None, None, [30.0, 30.0, 30.0], [32.0], None, None, [44.0, 44.0, 44.0], None, None, None, None, [9.0, 9.0, 9.0, 18.0, 18.0, 18.0, 32.0, 32.0, 32.0], [41.0, 41.0, 41.0], None, None, None, None, [46.0, 14.0, 14.0, 14.0, 21.0, 21.0, 21.0, 37.0, 37.0, 37.0], None, [50.0, 50.0, 50.0], None, None, None, None, [19.0, 19.0, 19.0, 38.0, 38.0, 38.0], [50.0, 50.0, 50.0], [45.0, 45.0, 45.0], [16.0, 16.0, 16.0, 31.0, 31.0, 31.0], None, None, None, None, None, None, None, [25.0, 31.0, 31.0, 31.0, 21.0, 21.0, 21.0], None, None, None, None, None, None, [36.0, 36.0, 36.0], None, None, [22.0, 30.0, 30.0, 30.0, 23.0, 23.0, 23.0, 37.0, 37.0, 37.0], None, [16.0, 18.0, 18.0, 18.0, 35.0, 35.0, 35.0, 13.0, 13.0, 13.0, 22.0, 22.0, 22.0], None, [39.0, 39.0, 39.0, 26.0, 26.0, 26.0], None, None, None, [41.0, 41.0, 41.0], None, None, [21.0, 21.0, 21.0, 40.0, 40.0, 40.0], [37.0, 37.0, 37.0], None, None, None, None, [48.0, 48.0, 48.0], None, None, None, None, None, None, None, None, [39.0], [50.0, 50.0, 50.0], None, [27.0, 27.0, 27.0], None, None, [28.0], None, None, [28.0, 28.0, 28.0], [36.0], None, None, None, [49.0, 49.0, 49.0], None, None, None, None, None, None, None, [38.0], None, None, None, None, None, None, None, None, None, None, None, None, None, [13.0, 17.0, 17.0, 17.0, 31.0, 31.0, 31.0, 11.0, 11.0, 11.0, 20.0, 20.0, 20.0], [24.0, 24.0, 24.0, 15.0, 15.0, 15.0, 13.0, 13.0, 13.0], None, None, None, [21.0, 21.0, 21.0, 46.0, 46.0, 46.0], [22.0, 22.0, 22.0, 45.0, 45.0, 45.0], None, None, None, None, None, [29.0, 29.0, 29.0], None, None, None, None, None, [34.0], None, None, [32.0, 32.0, 32.0], None, None, None, None, None, None, None, None, None, None, None, [47.0], None, None, None, None, None, None, None, None, None, None, None, None, [12.0, 15.0, 15.0, 15.0, 25.0, 25.0, 25.0, 36.0, 36.0, 36.0, 16.0, 16.0, 16.0], None, [46.0, 46.0, 46.0], [47.0, 47.0, 47.0], None, None, None, None, None, [49.0, 49.0, 49.0], None, None, None, None, None, [48.0, 48.0, 48.0], None, None, None, None, None, None, None, None, [48.0], [15.0, 19.0, 19.0, 19.0, 40.0, 40.0, 40.0, 16.0, 16.0, 16.0, 33.0, 33.0, 33.0], [31.0], None, None, None, None, None, None, None, [34.0, 34.0, 34.0], None, None, None, None, None, None, None, None, [9.0, 9.0, 9.0, 14.0, 14.0, 14.0, 30.0, 30.0, 30.0, 48.0, 48.0, 48.0], None, None, None, [26.0, 26.0, 26.0, 49.0, 49.0, 49.0], None, None, None, None, None, None, None, None, None, None, None, None, [44.0, 44.0, 44.0], [29.0, 29.0, 29.0, 8.0, 8.0, 8.0, 8.0, 8.0, 8.0], None, None, None, [50.0], None, [30.0, 43.0, 43.0, 43.0], None, None, [34.0, 34.0, 34.0], None, [40.0, 40.0, 40.0], None, [27.0, 42.0, 42.0, 42.0, 17.0, 17.0, 17.0, 28.0, 28.0, 28.0, 38.0, 38.0, 38.0], None, None, [16.0, 16.0, 16.0, 33.0, 33.0, 33.0], None, None, None, None, None, None, None, None, [32.0, 32.0, 32.0, 47.0, 47.0, 47.0], None, None, None, [23.0, 13.0, 13.0, 13.0, 5.0, 5.0, 5.0, 4.0, 4.0, 4.0, 6.0, 6.0, 6.0], None, [6.0, 7.0, 7.0, 7.0, 7.0, 7.0, 7.0, 10.0, 10.0, 10.0, 7.0, 7.0, 7.0], None, [24.0, 24.0, 24.0, 41.0, 41.0, 41.0, 12.0, 12.0, 12.0], None, None, None, None, None, [22.0, 22.0, 22.0, 43.0, 43.0, 43.0], None, None, None, None, None, None, [35.0, 35.0, 35.0], None, None, None, None, None, None, None, None, None, None, None, None, None, [14.0, 20.0, 20.0, 20.0, 42.0, 42.0, 42.0], None, [37.0, 37.0, 37.0], [3.0, 3.0, 3.0, 3.0, 3.0, 3.0, 3.0, 3.0, 3.0, 3.0, 3.0, 3.0, 3.0], None, None, None, [7.0, 10.0, 10.0, 10.0, 11.0, 11.0, 11.0, 20.0, 20.0, 20.0, 28.0, 28.0, 28.0], [40.0, 40.0, 40.0], [34.0, 34.0, 34.0], None, None, None, None, None, [2.0, 2.0, 2.0, 2.0, 4.0, 4.0, 4.0, 7.0, 7.0, 7.0, 11.0, 11.0, 11.0], [44.0, 44.0, 44.0], None, None, [45.0], None, None, None, None, None, None, None, [45.0, 45.0, 45.0, 18.0, 18.0, 18.0], None, [24.0, 35.0, 35.0, 35.0, 12.0, 12.0, 12.0, 24.0, 24.0, 24.0, 35.0, 35.0, 35.0], [44.0, 44.0, 44.0], None, None, [20.0, 33.0, 33.0, 33.0], [45.0, 45.0, 45.0], None, None, None, None, None, None, None, None, [26.0, 31.0, 31.0, 31.0], None, None, None, None, None, None, [1.0, 1.0, 1.0, 1.0, 1.0, 1.0, 1.0, 1.0, 1.0, 1.0, 1.0, 1.0, 1.0], [48.0, 48.0, 48.0], None, None, [21.0, 28.0, 28.0, 28.0, 13.0, 13.0, 13.0, 26.0, 26.0, 26.0, 39.0, 39.0, 39.0], None, [10.0, 5.0, 5.0, 5.0, 2.0, 2.0, 2.0, 2.0, 2.0, 2.0, 4.0, 4.0, 4.0], None, None, [23.0, 23.0, 23.0], None, None, None, None, [8.0, 11.0, 11.0, 11.0, 15.0, 15.0, 15.0, 22.0, 22.0, 22.0, 14.0, 14.0, 14.0], None, None, None, None, None, [33.0, 25.0, 25.0, 25.0, 41.0, 41.0, 41.0], None, None, None, None, None, None, [29.0], None, [43.0], None, None, None, None, None, None, None, [37.0, 20.0, 20.0, 20.0, 5.0, 5.0, 5.0, 10.0, 10.0, 10.0], None, None, None, None, None, None, None, None, None, [5.0, 6.0, 6.0, 6.0, 8.0, 8.0, 8.0, 12.0, 12.0, 12.0, 5.0, 5.0, 5.0], None, None, None, None, None, None, None, None, [47.0, 47.0, 47.0], None, [17.0, 26.0, 26.0, 26.0], None, None, None, None, [35.0], None, None, None, [4.0, 4.0, 4.0, 4.0, 6.0, 6.0, 6.0, 6.0, 6.0, 6.0, 2.0, 2.0, 2.0], [39.0, 39.0, 39.0], [38.0, 38.0, 38.0], None, None, [23.0, 23.0, 23.0, 39.0, 39.0, 39.0, 17.0, 17.0, 17.0], None, None, None, [36.0, 36.0, 36.0], None, None, None, None, None, None, None, None, None, [42.0, 42.0, 42.0, 19.0, 19.0, 19.0], None, None, None, None, None, [19.0, 23.0, 23.0, 23.0, 43.0, 43.0, 43.0, 14.0, 14.0, 14.0], None, None, None, None, None, [38.0, 38.0, 38.0], None, None, None, None, None, None, None, None, None, None, None, None, None, None, [49.0], None, None, [47.0, 47.0, 47.0], [42.0], None, [19.0, 19.0, 19.0, 36.0, 36.0, 36.0], None, None, None, [11.0, 8.0, 8.0, 8.0, 10.0, 10.0, 10.0, 9.0, 9.0, 9.0, 15.0, 15.0, 15.0], None, None, None, None, None, None, None, None, None, None, None, None, None, None, None, None, None, [32.0, 32.0, 32.0], [17.0, 17.0, 17.0, 29.0, 29.0, 29.0], [29.0, 29.0, 29.0, 43.0, 43.0, 43.0], None, None, None, None, None, None, None, None, [18.0, 25.0, 25.0, 25.0, 24.0, 24.0, 24.0]]\n",
            "[None, None, None, None, None, [25.0, 25.0, 25.0], None, None, [23.0, 23.0, 23.0, 23.0, 31.0, 31.0, 31.0, 13.0, 13.0, 13.0, 19.0], None, None, None, None, None, None, [50.0, 50.0, 50.0], None, None, None, None, None, None, [30.0, 30.0, 30.0, 14.0], None, None, None, None, [23.0, 23.0, 23.0, 41.0, 41.0, 41.0], None, [39.0, 39.0, 39.0, 39.0, 28.0], None, [42.0], None, None, None, None, [41.0, 41.0, 41.0, 41.0], None, None, None, None, None, None, None, None, [49.0, 49.0, 49.0], None, None, None, [42.0, 42.0, 42.0], None, None, None, None, None, None, None, None, None, None, None, [47.0, 47.0, 47.0], None, None, None, None, None, None, [30.0, 30.0, 30.0, 30.0, 40.0, 40.0, 40.0, 12.0, 12.0, 12.0, 6.0], None, None, None, None, None, [47.0, 47.0, 47.0], [7.0, 7.0, 7.0, 18.0, 18.0, 18.0, 27.0], None, None, None, None, None, None, [43.0], [41.0, 41.0, 41.0], [50.0], None, None, None, None, None, None, [22.0, 22.0, 22.0, 43.0, 43.0, 43.0], None, None, None, None, None, [44.0, 44.0, 44.0], None, None, None, None, None, [36.0], [7.0, 7.0, 7.0, 7.0, 5.0, 5.0, 5.0, 4.0, 4.0, 4.0, 5.0], None, None, None, None, None, None, None, [44.0], [45.0, 45.0, 45.0, 45.0], [47.0, 47.0, 47.0, 47.0], None, [24.0, 24.0, 24.0, 24.0, 36.0, 36.0, 36.0, 11.0, 11.0, 11.0, 20.0], None, None, None, [22.0, 22.0, 22.0, 30.0], [22.0, 22.0, 22.0, 22.0, 38.0, 38.0, 38.0], [26.0, 26.0, 26.0], [50.0, 50.0, 50.0, 50.0], None, None, None, None, None, None, None, [14.0, 14.0, 14.0, 29.0, 29.0, 29.0, 38.0], [45.0], None, None, None, [38.0, 38.0, 38.0], [47.0], None, None, None, None, None, None, [33.0], [28.0, 28.0, 28.0, 28.0, 14.0, 14.0, 14.0, 23.0], [24.0, 24.0, 24.0, 31.0], None, None, None, None, None, None, None, None, None, None, None, None, [46.0, 46.0, 46.0], None, None, None, None, None, None, None, None, None, None, None, None, None, None, None, None, None, None, None, None, [48.0, 48.0, 48.0], None, None, None, None, None, None, None, None, None, None, None, None, None, None, None, None, None, None, None, None, None, None, [36.0, 36.0, 36.0, 36.0], None, None, None, None, None, None, None, [42.0, 42.0, 42.0], None, None, None, None, None, None, None, None, None, None, [8.0, 8.0, 8.0, 8.0, 10.0, 10.0, 10.0, 16.0, 16.0, 16.0, 17.0], None, [32.0, 32.0, 32.0, 32.0], [19.0, 19.0, 19.0, 36.0, 36.0, 36.0], None, None, None, None, [39.0, 39.0, 39.0], None, [44.0, 44.0, 44.0, 44.0], None, None, [37.0, 37.0, 37.0], None, None, None, None, None, None, None, [35.0, 35.0, 35.0, 35.0], None, None, [48.0], None, None, None, None, None, None, None, None, None, [12.0, 12.0, 12.0, 12.0, 17.0, 17.0, 17.0, 8.0, 8.0, 8.0, 13.0], None, None, [49.0, 49.0, 49.0, 49.0], None, None, [50.0, 50.0, 50.0], None, None, [11.0, 11.0, 11.0, 11.0, 18.0, 18.0, 18.0, 10.0, 10.0, 10.0, 16.0], None, [25.0, 25.0, 25.0, 11.0], None, None, None, None, None, None, None, [48.0, 48.0, 48.0, 48.0], None, None, None, None, None, None, None, [21.0, 21.0, 21.0, 21.0, 29.0, 29.0, 29.0, 48.0, 48.0, 48.0], None, None, None, None, None, [20.0, 20.0, 20.0, 20.0, 12.0, 12.0, 12.0, 21.0, 21.0, 21.0, 26.0], None, None, None, [46.0, 46.0, 46.0], None, None, None, None, None, None, [34.0, 34.0, 34.0], None, None, [30.0, 30.0, 30.0], None, None, None, None, None, None, None, None, [15.0, 15.0, 15.0, 15.0, 20.0, 20.0, 20.0, 32.0, 32.0, 32.0, 39.0], None, [9.0, 9.0, 9.0, 9.0, 11.0, 11.0, 11.0, 17.0, 17.0, 17.0, 18.0], None, [42.0, 42.0, 42.0, 42.0], None, None, None, None, [45.0, 45.0, 45.0], None, [38.0, 38.0, 38.0, 38.0], None, [33.0, 33.0, 33.0], None, [43.0, 43.0, 43.0, 43.0], None, None, None, None, None, None, None, None, None, None, None, None, None, None, None, None, None, None, [2.0, 2.0, 2.0, 2.0, 3.0, 3.0, 3.0, 5.0, 5.0, 5.0, 4.0], None, None, None, None, [19.0, 19.0, 19.0, 19.0, 32.0, 32.0, 32.0], None, None, None, None, None, None, [3.0, 3.0, 3.0, 3.0, 2.0, 2.0, 2.0, 2.0, 2.0, 2.0, 3.0], None, None, None, [27.0, 27.0, 27.0, 27.0, 44.0, 44.0, 44.0], [35.0, 35.0, 35.0], None, None, None, None, [46.0, 46.0, 46.0, 46.0], None, None, None, [25.0], [9.0, 9.0, 9.0, 15.0], None, None, None, [31.0, 31.0, 31.0, 46.0], None, None, None, None, None, [26.0, 26.0, 26.0, 26.0, 43.0, 43.0, 43.0], None, None, None, None, None, None, None, None, None, [1.0, 1.0, 1.0, 1.0, 1.0, 1.0, 1.0, 1.0, 1.0, 1.0, 1.0], None, [45.0, 45.0, 45.0], None, None, None, [13.0, 13.0, 13.0, 13.0, 16.0, 16.0, 16.0, 26.0, 26.0, 26.0, 32.0], None, None, None, None, None, None, None, [16.0, 16.0, 16.0, 16.0, 24.0, 24.0, 24.0, 35.0, 35.0, 35.0, 41.0], None, None, None, None, None, [34.0, 34.0, 34.0, 34.0, 22.0], None, None, None, None, None, None, [35.0], None, None, None, None, None, [40.0, 40.0, 40.0, 40.0], None, None, None, [5.0, 5.0, 5.0, 5.0, 13.0, 13.0, 13.0, 23.0, 23.0, 23.0, 10.0], None, None, [31.0, 31.0, 31.0, 31.0], None, None, None, None, None, None, [10.0, 10.0, 10.0, 10.0, 6.0, 6.0, 6.0, 7.0, 7.0, 7.0, 12.0], None, None, [37.0, 37.0, 37.0, 37.0], None, None, None, None, None, None, [7.0], None, None, None, None, None, None, [34.0, 34.0, 34.0], None, None, [6.0, 6.0, 6.0, 6.0, 4.0, 4.0, 4.0, 3.0, 3.0, 3.0, 2.0], None, None, None, None, [17.0, 17.0, 17.0, 17.0, 8.0, 8.0, 8.0, 15.0, 15.0, 15.0, 21.0], None, None, None, None, None, None, [29.0], [14.0, 14.0, 14.0, 14.0, 21.0, 21.0, 21.0, 37.0, 37.0, 37.0, 49.0], None, None, None, None, None, None, None, [33.0, 33.0, 33.0, 6.0, 6.0, 6.0, 9.0], None, None, None, [29.0, 29.0, 29.0, 29.0, 39.0, 39.0, 39.0, 19.0, 19.0, 19.0, 8.0], None, None, None, None, None, None, None, None, None, None, None, None, None, None, None, None, None, None, None, None, None, None, None, [18.0, 18.0, 18.0, 18.0, 27.0, 27.0, 27.0], None, None, None, None, [25.0, 25.0, 25.0, 25.0], [27.0, 27.0, 27.0, 40.0], [33.0, 33.0, 33.0, 33.0, 49.0, 49.0, 49.0], None, None, [40.0, 40.0, 40.0], None, None, None, None, None, None, None, None, None, [34.0], None, None, None, None, None, None, [15.0, 15.0, 15.0, 28.0, 28.0, 28.0, 37.0], None, None, None, None, None, None, None, [28.0, 28.0, 28.0], [4.0, 4.0, 4.0, 4.0, 9.0, 9.0, 9.0, 20.0, 20.0, 20.0, 24.0]]\n",
            "[None, None, None, None, None, None, None, [42.0, 42.0, 42.0, 42.0], [6.0, 6.0, 6.0, 6.0, 9.0], None, None, [22.0], None, None, None, None, None, None, None, None, None, None, [37.0, 37.0, 37.0, 37.0], None, None, None, None, [30.0], None, [44.0], None, None, None, None, None, None, None, None, None, None, None, None, None, None, [46.0], None, None, None, [14.0], None, None, None, None, None, None, None, None, None, None, [33.0], None, None, None, None, None, None, None, None, [25.0, 25.0, 25.0, 25.0, 8.0], None, None, None, None, None, None, None, None, None, None, None, None, None, None, None, None, None, None, None, None, None, None, None, None, None, None, None, None, None, None, None, None, None, None, None, [11.0, 11.0, 11.0, 11.0, 10.0], None, None, None, [17.0], None, None, None, None, None, [31.0], None, None, None, None, None, None, None, None, None, None, None, None, None, None, None, None, None, None, None, None, None, [30.0, 30.0, 30.0, 30.0, 48.0], None, None, None, None, None, None, None, [37.0], [45.0, 45.0, 45.0, 45.0], None, None, [16.0, 16.0, 16.0, 16.0, 26.0], None, [35.0], None, None, None, None, None, None, None, None, None, None, None, None, None, None, None, None, None, None, None, None, None, None, None, None, None, [13.0, 13.0, 13.0, 13.0, 20.0], None, None, None, None, None, [48.0, 48.0, 48.0, 48.0], None, None, None, None, [43.0, 43.0, 43.0, 43.0], None, None, None, None, None, None, None, None, None, None, None, None, None, None, [46.0, 46.0, 46.0, 46.0], None, None, None, None, None, None, None, None, None, None, None, None, None, None, None, [49.0, 49.0, 49.0, 49.0], None, None, None, [3.0, 3.0, 3.0, 3.0, 4.0], None, None, None, None, None, None, None, None, None, None, None, None, [47.0], None, None, None, [50.0, 50.0, 50.0, 50.0], None, None, None, None, None, None, [22.0, 22.0, 22.0, 22.0, 39.0], None, None, None, None, None, None, None, None, [21.0, 21.0, 21.0, 21.0, 38.0], [18.0, 18.0, 18.0, 18.0, 23.0], None, None, None, None, None, None, None, [44.0, 44.0, 44.0, 44.0], [28.0], None, [15.0], None, None, None, None, None, None, None, None, None, None, None, None, None, None, None, [42.0], None, None, None, None, None, [23.0, 23.0, 23.0, 23.0, 36.0], None, None, None, None, None, [47.0, 47.0, 47.0, 47.0], None, None, None, None, None, None, None, None, None, None, None, None, None, None, None, None, [27.0, 27.0, 27.0, 27.0, 41.0], None, [9.0, 9.0, 9.0, 9.0, 11.0], None, [40.0], None, None, None, None, None, [34.0, 34.0, 34.0, 34.0, 13.0], None, None, None, None, None, None, None, None, None, None, None, None, None, None, None, [18.0], None, None, None, None, None, None, None, [12.0, 12.0, 12.0, 12.0, 16.0], None, None, None, [14.0, 14.0, 14.0, 14.0, 21.0], None, None, [38.0, 38.0, 38.0, 38.0], [29.0], None, None, None, [2.0, 2.0, 2.0, 2.0, 2.0], None, None, [24.0, 24.0, 24.0, 24.0, 43.0], None, None, None, None, None, None, None, None, None, None, [7.0, 7.0, 7.0, 7.0, 3.0], [8.0, 8.0, 8.0, 8.0, 32.0], None, None, None, None, None, None, None, None, None, None, None, None, None, None, None, None, None, None, None, [1.0, 1.0, 1.0, 1.0, 1.0], None, None, None, None, None, None, None, None, None, None, None, None, None, None, None, None, None, None, None, None, None, None, None, None, None, [32.0, 32.0, 32.0, 32.0], None, None, None, None, None, None, None, None, None, None, [19.0, 19.0, 19.0, 19.0, 24.0], None, None, None, None, None, [10.0, 10.0, 10.0, 10.0, 12.0], None, None, [50.0], [5.0, 5.0, 5.0, 5.0, 7.0], None, None, None, None, None, None, None, None, None, [29.0, 29.0, 29.0, 29.0, 6.0], None, [26.0, 26.0, 26.0, 26.0, 45.0], None, None, None, None, None, None, None, [4.0, 4.0, 4.0, 4.0, 5.0], None, None, None, None, [33.0, 33.0, 33.0, 33.0], None, None, [35.0, 35.0, 35.0, 35.0], None, None, None, [41.0, 41.0, 41.0, 41.0], None, None, [40.0, 40.0, 40.0, 40.0], None, None, None, None, None, [39.0, 39.0, 39.0, 39.0], [28.0, 28.0, 28.0, 28.0, 49.0], None, None, [17.0, 17.0, 17.0, 17.0, 25.0], None, None, None, None, None, None, None, None, None, None, None, None, None, None, None, None, [36.0, 36.0, 36.0, 36.0], None, None, None, None, None, None, None, None, None, None, None, None, None, [19.0], [31.0, 31.0, 31.0, 31.0], None, None, None, None, None, None, None, [15.0, 15.0, 15.0, 15.0, 27.0], [20.0, 20.0, 20.0, 20.0, 34.0], None, None, None, None, None, None, None, None, None, None, None, None, None, None, None, None, None, None, None]\n",
            "[None, None, None, None, None, None, None, None, [20.0, 20.0, 27.0, 27.0, 27.0, 34.0, 34.0, 34.0], None, [45.0, 45.0], None, None, None, None, None, None, None, None, None, None, None, None, [34.0, 34.0], None, None, None, [18.0, 18.0, 18.0], None, [39.0, 39.0, 39.0], None, [44.0, 44.0, 44.0], None, None, None, None, None, None, [41.0, 41.0, 41.0], None, None, None, None, [7.0, 7.0, 3.0, 3.0, 3.0, 6.0, 6.0, 6.0], None, None, None, None, None, None, None, None, None, None, None, None, None, None, None, [27.0, 27.0, 27.0], [18.0, 18.0, 40.0, 40.0, 40.0], None, None, None, None, None, None, None, [6.0, 6.0, 12.0, 12.0, 12.0, 19.0, 19.0, 19.0], [11.0, 11.0], None, [40.0, 40.0], None, None, None, None, None, None, None, None, None, None, [44.0, 44.0], None, None, None, [36.0, 36.0, 36.0], None, None, None, [36.0, 36.0, 36.0], None, None, None, None, None, None, None, [35.0, 35.0], None, None, None, None, None, [13.0, 13.0, 22.0, 22.0, 22.0, 15.0, 15.0, 15.0], [46.0, 46.0, 46.0], None, None, None, None, None, None, None, None, None, None, None, None, None, None, [38.0, 38.0, 38.0], None, None, None, None, None, None, None, None, None, None, None, None, None, None, None, None, None, None, None, None, None, [42.0, 42.0, 42.0], None, None, None, None, None, None, None, None, None, None, None, None, [35.0, 35.0, 35.0], None, None, None, None, None, None, None, None, None, None, None, None, None, None, None, None, None, None, None, [42.0, 42.0], [8.0, 8.0, 11.0, 11.0, 11.0, 13.0, 13.0, 13.0], None, None, None, None, None, None, None, None, None, None, None, None, None, None, None, None, None, None, None, None, None, None, None, None, None, [33.0, 33.0, 33.0], None, None, None, None, None, [41.0, 41.0, 41.0], None, None, None, None, None, None, [31.0, 31.0, 31.0], None, None, None, [21.0, 21.0, 9.0, 9.0, 9.0, 14.0, 14.0, 14.0], None, None, [9.0, 9.0, 18.0, 18.0, 18.0, 10.0, 10.0, 10.0], None, None, None, None, None, None, None, None, None, None, [47.0, 47.0, 47.0], None, None, None, None, [15.0, 15.0, 13.0, 13.0, 13.0, 22.0, 22.0, 22.0], None, None, None, None, None, None, None, None, None, None, None, None, None, None, [49.0, 49.0, 29.0, 29.0, 29.0], None, None, [12.0, 12.0, 5.0, 5.0, 5.0, 5.0, 5.0, 5.0], None, None, None, [43.0, 43.0], None, None, None, None, [28.0, 28.0, 28.0, 46.0, 46.0, 46.0], None, [48.0, 48.0], None, None, None, None, None, None, None, None, None, None, [39.0, 39.0], None, None, [30.0, 30.0, 49.0, 49.0, 49.0], [31.0, 31.0, 31.0], None, None, None, None, None, None, [17.0, 17.0, 25.0, 25.0, 25.0, 17.0, 17.0, 17.0], None, None, None, None, None, None, None, None, None, None, None, None, None, [26.0, 26.0, 17.0, 17.0, 17.0, 25.0, 25.0, 25.0], None, None, None, None, [31.0, 31.0, 47.0, 47.0, 47.0], None, None, None, None, None, [10.0, 10.0, 19.0, 19.0, 19.0, 23.0, 23.0, 23.0], [50.0, 50.0, 50.0], [33.0, 33.0, 33.0], None, None, None, None, None, None, None, None, None, None, None, None, [34.0, 34.0, 34.0], None, None, None, None, None, None, None, None, [22.0, 22.0, 15.0, 15.0, 15.0, 9.0, 9.0, 9.0], None, None, None, None, None, None, None, [19.0, 19.0, 6.0, 6.0, 6.0, 3.0, 3.0, 3.0], None, None, None, [21.0, 21.0, 21.0, 16.0, 16.0, 16.0], None, None, None, None, None, None, None, [3.0, 3.0, 8.0, 8.0, 8.0, 2.0, 2.0, 2.0], None, None, None, [45.0, 45.0, 45.0], None, None, None, None, None, [28.0, 28.0, 28.0], None, None, None, [24.0, 24.0, 7.0, 7.0, 7.0, 7.0, 7.0, 7.0], [26.0, 26.0, 26.0], None, None, None, None, None, [37.0, 37.0, 20.0, 20.0, 20.0, 30.0, 30.0, 30.0], None, None, None, None, None, [42.0, 42.0, 42.0], None, None, None, None, None, None, None, [1.0, 1.0, 1.0, 1.0, 1.0, 1.0, 1.0, 1.0], None, [24.0, 24.0, 24.0, 35.0, 35.0, 35.0], None, [37.0, 37.0, 37.0], None, None, None, None, None, None, None, None, None, None, None, None, None, None, None, [38.0, 38.0, 50.0, 50.0, 50.0], [49.0, 49.0, 49.0], None, None, None, None, None, None, None, [16.0, 16.0, 26.0, 26.0, 26.0, 40.0, 40.0, 40.0], None, None, None, None, None, None, None, [14.0, 14.0, 23.0, 23.0, 23.0, 12.0, 12.0, 12.0], None, None, None, None, None, [23.0, 23.0, 14.0, 14.0, 14.0, 20.0, 20.0, 20.0], None, None, None, [2.0, 2.0, 4.0, 4.0, 4.0, 8.0, 8.0, 8.0], None, None, None, None, [50.0, 50.0], None, None, None, None, [4.0, 4.0, 10.0, 10.0, 10.0, 11.0, 11.0, 11.0], None, None, None, None, None, None, None, None, None, [5.0, 5.0, 2.0, 2.0, 2.0, 4.0, 4.0, 4.0], None, None, None, None, [36.0, 36.0, 39.0, 39.0, 39.0, 21.0, 21.0, 21.0], None, [47.0, 47.0], None, None, None, None, [25.0, 25.0, 16.0, 16.0, 16.0, 48.0, 48.0, 48.0], None, None, [37.0, 37.0, 37.0], None, None, None, None, None, [38.0, 38.0, 38.0], [27.0, 27.0, 32.0, 32.0, 32.0], None, None, [32.0, 32.0, 32.0], None, [30.0, 30.0, 30.0], None, None, None, None, None, None, None, None, None, None, None, None, None, None, None, None, None, None, None, None, None, None, None, None, None, None, None, None, [46.0, 46.0], [41.0, 41.0, 24.0, 24.0, 24.0], [32.0, 32.0, 48.0, 48.0, 48.0], None, None, None, None, None, None, [29.0, 29.0, 44.0, 44.0, 44.0], [29.0, 29.0, 29.0], None, None, None, None, [43.0, 43.0, 43.0], None, None, [28.0, 28.0, 45.0, 45.0, 45.0], None, [33.0, 33.0], None, None, None, None, None, None, None, [43.0, 43.0, 43.0], None]\n",
            "[None, None, None, None, None, None, None, None, [20.0, 28.0, 28.0, 28.0, 28.0, 28.0, 28.0], None, None, None, [25.0, 25.0, 25.0, 25.0, 25.0, 25.0], None, None, None, None, None, None, None, [48.0, 48.0, 48.0, 48.0, 48.0, 48.0], None, None, None, None, None, None, [45.0], None, None, None, None, None, None, None, None, None, None, None, None, None, [41.0, 41.0, 41.0, 41.0, 41.0, 41.0], None, [19.0, 29.0, 29.0, 29.0, 29.0, 29.0, 29.0], None, None, None, None, None, None, None, None, None, None, None, None, None, None, None, None, [28.0], None, [39.0], None, None, None, None, None, [18.0, 27.0, 27.0, 27.0, 27.0, 27.0, 27.0], [49.0], None, [47.0], None, None, None, None, None, None, None, None, None, None, None, None, None, None, None, None, [16.0, 16.0, 16.0, 16.0, 16.0, 16.0], [43.0, 43.0, 43.0, 43.0, 43.0, 43.0], None, None, None, None, None, None, None, None, None, None, None, None, None, None, [11.0, 14.0, 14.0, 14.0, 14.0, 14.0, 14.0], None, None, [37.0, 37.0, 37.0, 37.0, 37.0, 37.0], None, None, None, None, None, None, None, None, [35.0, 35.0, 35.0, 35.0, 35.0, 35.0], None, None, None, None, None, None, None, None, None, None, None, None, None, None, None, None, None, None, None, [26.0, 7.0, 7.0, 7.0, 7.0, 7.0, 7.0], None, None, None, None, None, None, [50.0], None, None, None, None, None, [26.0, 26.0, 26.0, 26.0, 26.0, 26.0], [41.0], None, None, None, None, None, None, None, None, None, None, None, None, None, None, None, None, None, None, None, None, None, None, None, None, None, [5.0, 8.0, 8.0, 8.0, 8.0, 8.0, 8.0], None, None, [50.0, 50.0, 50.0, 50.0, 50.0, 50.0], None, None, None, None, None, None, None, None, None, None, [34.0, 34.0, 34.0, 34.0, 34.0, 34.0], None, None, None, None, None, None, None, None, None, None, None, None, None, None, None, None, None, None, None, None, None, None, [42.0, 42.0, 42.0, 42.0, 42.0, 42.0], None, None, None, None, None, [34.0], None, None, [12.0, 12.0, 12.0, 12.0, 12.0, 12.0, 12.0], None, None, None, None, None, None, None, None, None, None, None, None, [32.0, 32.0, 32.0, 32.0, 32.0, 32.0], None, None, None, None, None, None, None, None, None, None, None, None, None, None, [42.0], None, None, None, None, None, [9.0, 11.0, 11.0, 11.0, 11.0, 11.0, 11.0], None, None, None, None, None, None, None, None, None, None, None, None, None, None, None, None, None, None, None, None, None, None, None, None, None, None, None, None, [35.0], None, None, [43.0], [21.0, 30.0, 30.0, 30.0, 30.0, 30.0, 30.0], None, None, None, None, None, None, [40.0, 40.0, 40.0, 40.0, 40.0, 40.0], None, None, None, None, [36.0, 36.0, 36.0, 36.0, 36.0, 36.0], None, None, None, None, None, None, None, None, None, None, None, None, [17.0, 23.0, 23.0, 23.0, 23.0, 23.0, 23.0], None, None, None, None, None, None, None, None, None, None, None, None, None, None, None, None, None, None, None, None, None, None, [20.0, 20.0, 20.0, 20.0, 20.0, 20.0], [6.0, 9.0, 9.0, 9.0, 9.0, 9.0, 9.0], None, [47.0, 47.0, 47.0, 47.0, 47.0, 47.0], None, None, None, None, None, [4.0, 6.0, 6.0, 6.0, 6.0, 6.0, 6.0], None, None, None, [16.0, 24.0, 24.0, 24.0, 24.0, 24.0, 24.0], None, None, None, None, None, [33.0], None, [3.0, 5.0, 5.0, 5.0, 5.0, 5.0, 5.0], None, None, None, None, None, None, None, None, None, None, None, None, None, [8.0, 10.0, 10.0, 10.0, 10.0, 10.0, 10.0], [24.0, 39.0, 39.0, 39.0, 39.0, 39.0, 39.0], None, None, None, None, [23.0, 38.0, 38.0, 38.0, 38.0, 38.0, 38.0], [31.0], None, None, None, None, None, None, None, None, None, None, None, None, None, [1.0, 1.0, 1.0, 1.0, 1.0, 1.0, 1.0], None, [37.0], None, None, None, [19.0, 19.0, 19.0, 19.0, 19.0, 19.0], None, None, None, None, None, None, None, [17.0, 17.0, 17.0, 17.0, 17.0, 17.0], [40.0], None, None, None, None, [32.0], None, None, None, None, None, None, None, None, [44.0], None, None, None, None, None, None, None, [13.0, 15.0, 15.0, 15.0, 15.0, 15.0, 15.0], None, None, None, [36.0], None, [22.0, 33.0, 33.0, 33.0, 33.0, 33.0, 33.0], [29.0], None, None, [7.0, 4.0, 4.0, 4.0, 4.0, 4.0, 4.0], None, None, None, None, None, None, None, None, None, [14.0, 3.0, 3.0, 3.0, 3.0, 3.0, 3.0], None, None, None, None, None, None, None, [30.0], None, [2.0, 2.0, 2.0, 2.0, 2.0, 2.0, 2.0], None, None, None, None, [38.0], [31.0, 31.0, 31.0, 31.0, 31.0, 31.0], [25.0, 49.0, 49.0, 49.0, 49.0, 49.0, 49.0], None, None, None, None, None, None, None, None, None, None, None, None, None, [27.0], None, None, [44.0, 44.0, 44.0, 44.0, 44.0, 44.0], [10.0, 13.0, 13.0, 13.0, 13.0, 13.0, 13.0], None, None, None, [45.0, 45.0, 45.0, 45.0, 45.0, 45.0], None, None, None, [46.0, 46.0, 46.0, 46.0, 46.0, 46.0], None, None, None, None, None, None, None, None, None, None, None, [18.0, 18.0, 18.0, 18.0, 18.0, 18.0], None, None, None, None, None, None, None, None, None, None, None, [15.0, 21.0, 21.0, 21.0, 21.0, 21.0, 21.0], [46.0], None, None, [48.0], None, None, None, [22.0, 22.0, 22.0, 22.0, 22.0, 22.0], None, None, None, None, None, None, None, None, None, None, None, None, None, None, None, None, None, None, None, None]\n",
            "[None, None, [43.0, 43.0, 43.0], None, None, None, None, [21.0, 21.0, 21.0, 21.0, 21.0, 21.0, 21.0, 12.0, 12.0, 12.0], [22.0, 22.0, 22.0, 22.0, 22.0, 22.0, 22.0, 13.0, 13.0, 13.0], None, None, None, None, None, None, None, None, None, None, None, None, None, None, None, [50.0, 50.0, 50.0, 50.0, 50.0, 50.0, 50.0], None, None, None, None, None, None, None, None, None, None, None, None, None, None, None, None, None, None, None, None, None, None, None, None, None, None, None, None, None, None, None, None, None, None, None, [32.0, 32.0, 32.0], None, None, None, None, None, None, None, [17.0, 17.0, 17.0, 17.0, 17.0, 17.0, 17.0, 30.0, 30.0, 30.0], None, None, None, None, [41.0, 41.0, 41.0, 41.0, 41.0, 41.0, 41.0], None, None, [27.0, 27.0, 27.0, 27.0, 27.0, 27.0, 27.0, 15.0, 15.0, 15.0], None, [46.0, 46.0, 46.0, 46.0, 46.0, 46.0, 46.0], [33.0, 33.0, 33.0], None, None, [22.0, 22.0, 22.0], None, None, None, None, None, [28.0, 28.0, 28.0], None, None, None, None, None, None, None, None, None, None, None, None, None, None, None, [29.0, 29.0, 29.0, 29.0, 29.0, 29.0, 29.0, 42.0, 42.0, 42.0], None, None, [26.0, 26.0, 26.0, 26.0, 26.0, 26.0, 26.0, 44.0, 44.0, 44.0], None, None, None, None, None, None, None, None, None, None, None, None, [23.0, 23.0, 23.0], None, None, None, None, None, None, None, None, None, None, [48.0, 48.0, 48.0, 48.0, 48.0, 48.0, 48.0], None, None, None, None, [36.0, 36.0, 36.0, 36.0, 36.0, 36.0, 36.0], None, None, None, None, None, None, None, None, None, None, None, None, [45.0, 45.0, 45.0], [28.0, 28.0, 28.0, 28.0, 28.0, 28.0, 28.0, 48.0, 48.0, 48.0], None, None, None, None, None, None, None, None, None, None, None, None, [26.0, 26.0, 26.0], None, None, None, None, None, None, None, [39.0, 39.0, 39.0, 39.0, 39.0, 39.0, 39.0], None, None, None, None, [12.0, 12.0, 12.0, 12.0, 12.0, 12.0, 12.0, 17.0, 17.0, 17.0], None, None, None, None, None, None, None, None, None, None, None, None, None, None, None, None, None, None, None, None, None, None, None, None, None, None, None, None, None, None, None, None, None, None, None, None, None, None, None, None, [47.0, 47.0, 47.0], None, None, None, None, [34.0, 34.0, 34.0, 34.0, 34.0, 34.0, 34.0], None, None, None, None, None, None, None, None, None, None, None, None, None, None, None, None, None, [10.0, 10.0, 10.0, 10.0, 10.0, 10.0, 10.0, 18.0, 18.0, 18.0], None, None, None, None, None, [23.0, 23.0, 23.0, 23.0, 23.0, 23.0, 23.0, 39.0, 39.0, 39.0], None, None, None, None, [31.0, 31.0, 31.0], None, None, None, None, [4.0, 4.0, 4.0, 4.0, 4.0, 4.0, 4.0, 5.0, 5.0, 5.0], None, None, None, None, None, None, None, None, None, None, [31.0, 31.0, 31.0, 31.0, 31.0, 31.0, 31.0], None, None, None, None, [20.0, 20.0, 20.0, 20.0, 20.0, 20.0, 20.0, 38.0, 38.0, 38.0], None, None, None, None, None, None, None, None, None, None, None, None, None, None, None, None, [25.0, 25.0, 25.0], None, None, [16.0, 16.0, 16.0, 16.0, 16.0, 16.0, 16.0, 11.0, 11.0, 11.0], None, None, [40.0, 40.0, 40.0], None, None, None, [11.0, 11.0, 11.0, 11.0, 11.0, 11.0, 11.0, 19.0, 19.0, 19.0], None, None, None, None, None, None, None, [15.0, 15.0, 15.0, 15.0, 15.0, 15.0, 15.0, 27.0, 27.0, 27.0], None, None, None, None, None, None, [32.0, 32.0, 32.0, 32.0, 32.0, 32.0, 32.0, 50.0, 50.0, 50.0], None, [49.0, 49.0, 49.0], None, None, None, None, None, None, None, None, None, None, None, None, [19.0, 19.0, 19.0, 19.0, 19.0, 19.0, 19.0, 35.0, 35.0, 35.0], None, None, None, None, None, None, None, None, [6.0, 6.0, 6.0, 6.0, 6.0, 6.0, 6.0, 6.0, 6.0, 6.0], None, None, None, None, None, None, None, [2.0, 2.0, 2.0, 2.0, 2.0, 2.0, 2.0, 3.0, 3.0, 3.0], None, None, [49.0, 49.0, 49.0, 49.0, 49.0, 49.0, 49.0], [24.0, 24.0, 24.0, 24.0, 24.0, 24.0, 24.0, 36.0, 36.0, 36.0], None, None, None, None, None, None, None, [7.0, 7.0, 7.0, 7.0, 7.0, 7.0, 7.0, 4.0, 4.0, 4.0], None, None, None, None, None, None, None, [30.0, 30.0, 30.0, 30.0, 30.0, 30.0, 30.0], None, None, None, None, None, [45.0, 45.0, 45.0, 45.0, 45.0, 45.0, 45.0], None, None, None, None, None, None, [18.0, 18.0, 18.0, 18.0, 18.0, 18.0, 18.0, 10.0, 10.0, 10.0], None, None, None, None, None, None, None, None, None, None, None, None, None, [1.0, 1.0, 1.0, 1.0, 1.0, 1.0, 1.0, 1.0, 1.0, 1.0], None, None, None, None, None, None, None, None, None, None, None, None, None, [14.0, 14.0, 14.0, 14.0, 14.0, 14.0, 14.0, 20.0, 20.0, 20.0], None, None, None, None, None, None, None, [43.0, 43.0, 43.0, 43.0, 43.0, 43.0, 43.0], [42.0, 42.0, 42.0, 42.0, 42.0, 42.0, 42.0], None, None, None, [34.0, 34.0, 34.0], None, None, None, None, None, None, None, [40.0, 40.0, 40.0, 40.0, 40.0, 40.0, 40.0], None, [13.0, 13.0, 13.0, 13.0, 13.0, 13.0, 13.0, 21.0, 21.0, 21.0], None, None, None, None, [44.0, 44.0, 44.0, 44.0, 44.0, 44.0, 44.0], None, None, None, [37.0, 37.0, 37.0], [9.0, 9.0, 9.0, 9.0, 9.0, 9.0, 9.0, 9.0, 9.0, 9.0], None, None, None, None, None, None, None, None, None, [38.0, 38.0, 38.0, 38.0, 38.0, 38.0, 38.0], None, None, None, [35.0, 35.0, 35.0, 35.0, 35.0, 35.0, 35.0], None, None, None, None, None, [3.0, 3.0, 3.0, 3.0, 3.0, 3.0, 3.0, 2.0, 2.0, 2.0], None, None, None, None, [8.0, 8.0, 8.0, 8.0, 8.0, 8.0, 8.0, 7.0, 7.0, 7.0], None, None, None, None, None, [16.0, 16.0, 16.0], None, None, None, None, [41.0, 41.0, 41.0], None, None, None, None, [5.0, 5.0, 5.0, 5.0, 5.0, 5.0, 5.0, 8.0, 8.0, 8.0], None, None, None, None, [29.0, 29.0, 29.0], None, None, None, None, None, None, None, None, None, None, None, [37.0, 37.0, 37.0, 37.0, 37.0, 37.0, 37.0], None, None, None, None, None, None, None, None, None, None, None, None, None, None, None, None, None, None, None, None, [46.0, 46.0, 46.0], None, None, None, None, None, [47.0, 47.0, 47.0, 47.0, 47.0, 47.0, 47.0], [33.0, 33.0, 33.0, 33.0, 33.0, 33.0, 33.0], None, None, None, None, None, None, None, None, None, None, None, [25.0, 25.0, 25.0, 25.0, 25.0, 25.0, 25.0, 14.0, 14.0, 14.0], [24.0, 24.0, 24.0], None, None, None, None, None, None]\n",
            "[None, [39.0, 39.0, 39.0, 39.0], None, None, None, None, None, [15.0, 15.0, 15.0, 18.0, 18.0, 26.0, 36.0, 36.0, 36.0, 36.0], [27.0, 27.0, 27.0, 49.0, 49.0, 15.0, 7.0, 7.0, 7.0, 7.0], None, None, None, None, [50.0, 50.0], None, None, None, [29.0, 29.0, 29.0], None, None, None, [27.0, 27.0, 27.0, 27.0], None, None, None, None, None, [20.0, 20.0, 20.0], None, None, None, [27.0, 27.0, 13.0, 18.0, 18.0, 18.0, 18.0], None, None, [50.0, 50.0, 50.0], None, None, None, None, None, None, [46.0], None, [46.0, 46.0, 46.0], None, None, None, None, None, None, None, None, None, [40.0], None, [40.0, 40.0, 40.0], None, None, None, [32.0, 32.0, 32.0], None, None, None, None, None, None, [36.0], None, [25.0, 25.0, 25.0, 25.0], None, None, None, None, None, None, None, [11.0, 11.0, 11.0, 13.0, 13.0, 18.0, 24.0, 24.0, 24.0, 24.0], [47.0, 47.0], None, [33.0, 33.0, 33.0, 21.0, 21.0, 21.0, 21.0], None, None, [25.0, 25.0, 38.0], None, None, None, [21.0, 21.0, 32.0, 49.0, 49.0, 49.0, 49.0], [46.0, 46.0], [18.0, 18.0, 18.0, 24.0, 24.0, 34.0], None, None, None, None, None, None, None, None, None, None, None, None, None, [39.0, 39.0, 39.0], None, [25.0, 25.0, 25.0, 36.0, 36.0], None, None, None, None, None, None, None, None, None, None, None, None, None, None, None, None, None, None, None, None, None, None, [28.0, 28.0, 28.0, 28.0], [15.0, 15.0, 27.0, 45.0, 45.0, 45.0, 45.0], None, None, None, None, None, None, None, None, [44.0, 44.0, 44.0, 19.0, 19.0, 19.0, 19.0], None, [37.0], None, None, None, None, None, [26.0, 26.0, 41.0], [38.0, 38.0, 38.0], None, None, [36.0, 36.0, 36.0], None, [43.0, 43.0, 43.0, 43.0], [49.0], None, None, [41.0, 41.0], None, None, [31.0, 31.0], None, None, None, None, None, None, [30.0, 30.0, 30.0], None, None, None, None, None, None, None, None, None, None, [12.0, 12.0, 12.0, 4.0, 4.0, 7.0, 4.0, 4.0, 4.0, 4.0], None, None, None, None, None, None, None, None, None, [43.0, 43.0], [30.0, 30.0, 45.0], None, None, None, None, None, None, None, None, None, None, None, [16.0, 16.0, 16.0, 20.0, 20.0, 29.0, 42.0, 42.0, 42.0, 42.0], None, [29.0, 29.0, 43.0], None, None, None, None, None, [14.0, 23.0, 23.0, 23.0, 23.0], None, None, None, None, None, None, None, None, None, None, None, None, None, None, [24.0, 24.0, 24.0, 35.0, 35.0, 50.0], None, None, None, None, None, None, None, None, None, None, None, None, None, None, None, None, None, [31.0, 31.0, 31.0, 3.0, 12.0, 12.0, 12.0, 12.0], None, None, None, None, None, [22.0, 22.0, 11.0, 16.0, 16.0, 16.0, 16.0], None, None, None, None, None, None, None, None, None, [2.0, 2.0, 2.0, 5.0, 5.0, 4.0, 10.0, 10.0, 10.0, 10.0], None, None, None, None, None, None, None, None, None, None, [31.0, 31.0, 31.0, 31.0], None, None, None, None, [42.0], [22.0, 35.0, 35.0, 35.0, 35.0], None, None, None, [45.0, 45.0], None, [23.0, 23.0, 23.0, 40.0, 40.0], None, [48.0], [43.0, 43.0, 43.0], None, None, None, None, None, None, [17.0, 17.0, 17.0, 19.0, 19.0, 25.0, 34.0, 34.0, 34.0, 34.0], None, None, [21.0, 21.0, 21.0, 32.0, 32.0, 47.0], None, None, [33.0, 33.0, 33.0, 33.0], None, None, None, None, None, None, [48.0, 48.0, 48.0, 14.0, 14.0, 24.0, 38.0, 38.0, 38.0, 38.0], None, [48.0, 48.0], [50.0, 50.0, 50.0, 50.0], None, None, None, None, None, None, None, None, None, None, [13.0, 13.0, 13.0, 13.0], None, None, None, None, [46.0, 46.0, 46.0, 46.0], None, None, None, None, [19.0, 30.0, 30.0, 30.0, 30.0], None, [35.0], [37.0, 37.0, 37.0], None, None, [37.0, 37.0], [38.0, 38.0], None, [41.0, 41.0, 41.0], None, None, [4.0, 4.0, 4.0, 8.0, 8.0, 8.0, 14.0, 14.0, 14.0, 14.0], None, None, [35.0, 35.0, 35.0], None, None, None, None, [6.0, 6.0, 6.0, 9.0, 9.0, 10.0, 15.0, 15.0, 15.0, 15.0], [47.0, 47.0, 47.0, 47.0], None, None, None, None, None, None, None, None, None, [44.0, 44.0, 44.0, 44.0], [3.0, 3.0, 3.0, 6.0, 6.0, 6.0, 11.0, 11.0, 11.0, 11.0], None, None, None, None, None, None, None, None, None, None, None, None, None, [23.0, 23.0, 30.0, 40.0, 40.0, 40.0, 40.0], None, None, None, None, None, None, [26.0, 26.0, 26.0, 42.0, 42.0], None, None, None, None, None, None, None, None, None, None, [47.0, 47.0, 47.0], None, None, [1.0, 1.0, 1.0, 1.0, 1.0, 1.0, 1.0, 1.0, 1.0, 1.0], None, None, [31.0, 22.0, 22.0, 22.0, 22.0], None, None, None, None, [42.0, 42.0, 42.0], None, None, [45.0, 45.0, 45.0], None, [33.0, 33.0], [10.0, 10.0, 10.0, 12.0, 12.0, 16.0, 8.0, 8.0, 8.0, 8.0], None, None, None, None, None, None, None, None, None, None, None, None, None, None, None, None, None, None, None, None, None, [44.0], [14.0, 14.0, 14.0, 17.0, 17.0, 21.0, 9.0, 9.0, 9.0, 9.0], None, None, None, None, [28.0, 48.0, 48.0, 48.0, 48.0], [13.0, 13.0, 13.0, 16.0, 16.0, 23.0, 29.0, 29.0, 29.0, 29.0], None, [34.0, 34.0, 34.0, 7.0, 7.0, 9.0, 6.0, 6.0, 6.0, 6.0], None, [7.0, 7.0, 7.0, 3.0, 3.0, 5.0, 2.0, 2.0, 2.0, 2.0], None, None, None, None, None, None, None, None, None, [8.0, 8.0, 8.0, 11.0, 11.0, 17.0, 20.0, 20.0, 20.0, 20.0], None, None, None, None, None, None, None, None, None, [9.0, 9.0, 9.0, 10.0, 10.0, 12.0, 5.0, 5.0, 5.0, 5.0], None, None, None, None, [5.0, 5.0, 5.0, 2.0, 2.0, 2.0, 3.0, 3.0, 3.0, 3.0], None, None, None, None, None, None, None, None, None, None, None, None, None, None, None, [19.0, 19.0, 19.0, 28.0, 28.0, 33.0, 41.0, 41.0, 41.0, 41.0], None, None, None, [28.0, 28.0, 28.0, 17.0, 17.0, 17.0, 17.0], None, None, None, None, None, None, None, None, None, [39.0, 39.0], None, None, None, None, None, None, None, None, None, None, None, [39.0], None, None, None, None, None, None, None, None, [26.0, 26.0, 26.0, 26.0], None, [20.0, 32.0, 32.0, 32.0, 32.0], None, None, None, [49.0, 49.0, 49.0], None, None, None, None, None, None, None, None, [37.0, 37.0, 37.0, 37.0], [44.0, 44.0], None, None, None, None, None, [22.0, 22.0, 22.0, 34.0, 34.0], None, None, None, None, None, None, None]\n",
            "\n",
            "\n",
            "[None, None, None, None, 11.0, 22.0, None, 31.0, 7.0, None, None, None, None, None, None, None, None, None, 47.0, None, None, None, None, None, 26.0, 37.0, None, None, None, None, None, None, None, None, None, None, None, None, None, None, None, None, None, None, 40.0, None, None, None, None, None, 29.0, None, 41.0, None, None, None, None, None, None, 27.0, None, None, None, 49.0, None, None, 38.0, None, 6.0, None, None, None, None, None, None, None, None, None, None, None, None, None, None, None, None, None, 10.0, None, None, None, None, None, 18.0, None, None, None, None, None, None, None, None, 35.0, None, None, 29.0, None, None, None, None, 24.0, None, None, None, None, 35.0, None, 27.0, 41.0, None, 48.0, None, None, None, None, None, None, None, None, None, None, None, 41.0, None, None, None, None, 48.0, 45.0, None, None, None, None, None, None, None, 28.0, None, None, None, 35.0, None, None, None, None, None, None, 48.0, None, None, None, None, None, None, None, None, None, None, None, None, 42.0, None, None, 38.0, 32.0, 50.0, None, 19.0, None, None, None, None, None, None, None, None, None, None, None, None, 32.0, 40.0, None, None, None, None, None, None, None, 4.0, 16.0, None, 25.0, None, None, 49.0, None, None, None, 42.0, None, None, None, None, None, None, None, None, None, None, None, None, None, 3.0, 49.0, None, None, 43.0, 33.0, None, None, None, None, None, None, None, None, None, None, None, None, None, None, None, None, None, None, None, None, None, None, None, None, 30.0, None, None, None, 8.0, None, None, None, None, 48.0, None, None, None, None, None, None, 34.0, None, None, None, None, None, None, None, None, None, None, None, None, None, None, None, None, None, None, None, None, 37.0, None, 49.0, None, None, None, 44.0, 43.0, None, None, 33.0, None, None, 43.0, None, None, None, None, None, None, None, None, 38.0, 13.0, None, 39.0, None, 12.0, None, None, None, None, None, None, None, None, None, None, None, None, 14.0, None, None, None, None, None, None, None, 47.0, None, None, None, None, 31.0, None, None, None, None, None, 36.0, None, 20.0, None, None, None, None, None, None, None, 2.0, None, 25.0, None, 20.0, None, None, None, None, 50.0, None, None, None, None, 17.0, 31.0, None, None, None, None, None, None, None, 46.0, None, None, 39.0, None, None, None, 36.0, None, None, None, 36.0, None, None, None, None, None, 45.0, None, None, None, None, None, None, None, None, 1.0, None, None, 47.0, 33.0, None, None, None, None, None, 47.0, None, None, None, None, 21.0, None, 44.0, None, None, 42.0, None, None, 34.0, None, None, None, None, None, None, None, None, None, None, None, None, None, None, None, None, None, None, None, None, None, None, 43.0, None, None, None, None, None, None, 15.0, 45.0, None, None, None, 9.0, None, None, None, None, None, 23.0, None, 46.0, None, None, None, None, 36.0, None, None, None, 44.0, 32.0, None, 50.0, None, None, 41.0, None, None, None, 22.0, None, None, None, None, 46.0, None, None, None, None, None, 21.0, None, None, None, None, None, 34.0, None, None, None, None, None, None, 39.0, 42.0, None, None, None, None, None, None, None, None, None, None, 50.0, None, 45.0, None, None, None, None, None, 30.0, None, None, None, None, 46.0, None, None, 28.0, None]\n",
            "[None, None, None, None, 27.0, None, None, None, 1.0, None, None, None, None, None, 21.0, None, None, None, None, None, None, None, None, None, None, None, None, None, None, None, None, None, None, None, None, None, None, None, None, 17.0, None, None, None, None, None, None, None, None, None, None, None, 44.0, None, None, None, None, None, None, None, 16.0, None, None, None, None, None, None, None, None, 4.0, None, None, None, None, None, None, None, None, None, None, None, 22.0, None, None, None, None, None, None, None, 14.0, None, None, None, None, None, None, None, None, None, None, None, None, None, None, None, 45.0, None, 38.0, None, None, None, None, None, None, None, None, None, None, None, None, None, None, None, None, None, None, None, None, None, None, None, None, None, None, None, None, None, 30.0, None, None, None, None, None, None, 13.0, None, 31.0, None, None, None, None, 46.0, None, None, None, None, None, None, None, None, None, None, None, None, None, None, 39.0, None, None, None, None, None, None, None, None, None, None, 6.0, None, None, None, None, None, None, None, None, None, None, None, None, 23.0, None, None, 12.0, None, None, None, None, None, None, None, None, None, None, None, None, None, None, None, 15.0, None, None, None, None, None, None, None, 26.0, 43.0, None, None, None, None, 10.0, None, None, None, None, None, None, None, None, None, None, None, None, None, None, None, None, None, None, None, None, None, None, None, None, None, None, None, None, None, None, None, None, None, 2.0, None, None, None, None, None, None, None, None, None, 50.0, None, None, None, None, None, None, None, None, None, None, None, None, None, None, None, None, None, None, None, None, None, None, None, None, None, None, None, None, None, 19.0, None, None, None, None, None, None, None, None, None, 18.0, None, None, None, None, None, None, None, 33.0, None, 25.0, None, None, None, 37.0, None, None, None, None, None, None, None, None, None, None, None, None, None, None, None, None, None, None, None, None, 34.0, None, None, None, 49.0, None, None, None, None, 24.0, None, None, None, None, None, None, None, 5.0, None, None, None, None, None, None, None, None, None, None, None, None, None, 7.0, None, None, None, None, None, None, None, None, None, None, None, None, None, None, None, None, None, None, None, None, None, None, None, None, None, None, None, None, None, None, None, None, None, None, 3.0, None, None, None, None, 36.0, None, None, None, None, None, None, None, None, None, 11.0, None, None, None, None, None, None, 32.0, 35.0, None, None, None, None, None, None, None, None, None, None, None, None, None, None, None, None, None, None, None, None, None, None, None, None, None, None, None, None, None, 8.0, None, None, None, None, 47.0, None, None, None, None, None, 20.0, None, None, None, None, None, 40.0, 41.0, None, None, None, 42.0, None, None, None, None, None, None, None, None, None, None, None, None, None, None, None, None, None, None, None, None, None, None, None, None, None, None, None, None, 28.0, None, None, None, None, 29.0, None, None, None, 48.0, None, None, None, None, None, None, None, None, None, None, None, None, None, None, None, None, None, None, None, None, None, None, None, None, None]\n",
            "[None, None, None, None, None, None, 49.0, None, 5.0, 48.0, None, None, None, None, None, None, None, None, None, None, None, None, None, None, None, None, None, None, None, None, None, None, None, None, None, None, None, None, None, None, None, None, None, None, 31.0, None, None, None, None, None, None, None, None, None, None, None, None, None, None, None, None, None, None, None, None, None, 34.0, None, 6.0, None, None, None, None, None, None, None, 27.0, None, None, None, 42.0, None, None, None, None, None, None, None, None, None, None, None, None, None, None, None, None, None, None, None, None, None, None, None, 23.0, None, None, None, None, None, None, None, None, None, None, None, 14.0, None, None, None, None, None, None, None, None, None, None, None, None, None, 50.0, None, None, None, None, None, None, None, None, None, None, None, None, None, None, 13.0, None, None, None, 17.0, None, None, None, None, None, None, None, None, None, None, None, None, None, None, None, None, None, None, None, None, 46.0, None, None, None, None, None, 29.0, 44.0, None, None, None, None, None, None, None, None, None, None, None, None, None, None, None, None, None, None, None, None, 9.0, None, None, None, None, None, None, None, 30.0, None, 25.0, None, None, None, None, None, None, None, None, None, None, None, None, None, 2.0, None, None, None, None, None, None, 45.0, None, None, None, None, None, 32.0, None, None, None, None, None, None, None, None, None, None, None, None, None, None, None, None, None, None, None, None, 4.0, None, None, None, None, None, None, None, None, None, None, None, None, None, None, None, None, None, 47.0, None, None, None, None, None, None, None, None, None, None, None, None, None, None, 40.0, None, None, None, None, None, None, 24.0, None, None, None, None, None, None, None, None, None, None, None, None, None, None, None, None, 36.0, 11.0, None, None, None, None, None, None, None, None, None, None, None, None, None, None, 21.0, None, None, None, None, None, None, None, None, None, None, None, None, None, None, None, None, None, None, None, None, 12.0, None, None, None, None, None, None, None, 3.0, None, None, None, None, None, None, None, None, None, None, None, None, None, 8.0, 22.0, None, None, None, None, None, None, None, None, None, 20.0, None, None, None, None, None, None, None, None, None, None, None, None, None, None, None, None, None, None, None, None, None, None, None, 16.0, None, None, None, None, None, None, None, None, None, None, None, None, None, None, 41.0, None, None, None, None, None, None, None, None, 28.0, None, None, None, None, None, None, None, None, 18.0, None, None, None, None, None, None, None, None, None, None, None, None, None, None, None, None, None, None, None, 7.0, None, None, None, None, 19.0, None, None, None, None, 33.0, None, None, None, None, None, None, 26.0, None, None, None, None, None, None, None, 10.0, None, None, None, None, None, None, None, None, None, None, None, None, None, None, 37.0, None, None, None, None, None, None, None, 38.0, 43.0, None, None, None, 39.0, None, None, None, None, None, None, None, None, None, None, None, None, None, None, None, None, None, None, None, None, 35.0, None, None, None, None, None, None, None, None, None, 15.0, None]\n",
            "[None, None, None, None, 29.0, None, None, None, 3.0, None, None, None, None, None, None, None, None, None, None, None, None, 32.0, None, None, None, None, 38.0, None, None, None, None, None, None, None, None, None, None, 21.0, None, None, None, None, None, None, None, None, None, None, None, None, None, None, None, None, None, None, None, None, None, None, None, None, None, None, 42.0, 43.0, None, 50.0, 7.0, None, None, None, None, None, None, None, None, None, None, None, 14.0, None, None, None, None, None, None, None, None, None, None, None, None, None, None, None, None, None, None, None, None, None, None, 25.0, 20.0, None, None, None, None, None, None, None, None, None, None, None, 23.0, None, None, None, None, None, None, None, None, None, None, None, None, None, None, None, None, None, 30.0, None, 40.0, None, None, None, None, None, None, None, None, None, None, 31.0, None, 24.0, None, None, None, None, None, None, None, 49.0, None, None, None, 33.0, None, None, None, None, None, None, None, None, None, None, None, None, None, None, 11.0, None, None, None, None, None, None, None, None, None, None, None, None, None, None, None, None, None, None, None, None, None, 36.0, 13.0, 47.0, None, None, None, None, None, None, None, None, None, None, None, None, None, None, None, None, None, None, None, None, None, 5.0, None, None, None, None, None, None, None, None, None, None, 22.0, None, 33.0, 42.0, None, None, None, None, None, None, None, None, None, None, None, None, None, None, None, None, None, 45.0, None, 4.0, 48.0, None, None, None, None, None, 50.0, None, None, None, None, None, 17.0, 35.0, None, None, None, None, None, None, None, None, 9.0, None, None, None, None, None, None, 40.0, None, None, 10.0, 48.0, None, None, None, None, None, 13.0, None, None, 35.0, None, None, None, None, None, None, None, None, None, None, None, None, None, None, 6.0, 27.0, None, 31.0, None, None, None, None, None, None, None, None, None, None, None, 29.0, None, None, None, None, None, None, None, None, None, 23.0, None, None, None, None, None, 37.0, None, None, None, None, 12.0, 16.0, None, None, None, None, None, None, 1.0, None, None, None, 38.0, None, 39.0, None, None, None, None, None, None, None, 9.0, 41.0, 37.0, None, None, None, None, 36.0, 21.0, None, None, None, None, None, None, None, None, None, None, None, None, None, None, None, None, 12.0, None, None, None, None, None, None, None, None, None, 26.0, None, 46.0, None, 43.0, None, None, None, None, None, None, None, None, None, None, None, None, None, None, None, None, None, None, 46.0, None, None, None, None, 24.0, None, None, None, None, 18.0, None, None, None, None, None, 27.0, None, None, None, None, None, None, None, None, None, None, None, None, None, 2.0, None, None, 16.0, None, None, None, None, None, None, None, None, 25.0, None, 39.0, None, None, None, None, None, None, None, 44.0, None, None, 8.0, None, None, None, None, None, None, None, None, None, None, 47.0, None, None, None, None, 32.0, None, None, None, None, None, None, None, 44.0, None, None, None, None, None, None, 34.0, None, None, None, None, None, None, None, None, None, None, None, None, None, None, None, None, None, None, None, 18.0, None, None, None, None, None, 41.0, None, 19.0, 28.0]\n",
            "[None, None, None, None, 40.0, None, None, 17.0, 6.0, 50.0, None, None, None, None, None, None, None, None, None, None, None, None, None, None, None, None, None, None, None, None, None, None, 38.0, None, None, None, None, None, None, None, None, None, 46.0, None, None, None, None, None, None, None, None, None, None, None, None, None, 32.0, None, None, 35.0, None, None, None, None, None, None, None, None, 18.0, None, None, None, None, None, None, None, None, None, None, 45.0, 7.0, 42.0, None, None, None, None, 37.0, None, 37.0, None, None, None, None, None, None, None, None, None, None, 32.0, None, None, None, 27.0, 16.0, None, None, None, None, None, None, None, None, None, None, None, 22.0, None, 41.0, None, None, None, None, None, None, None, None, None, None, 33.0, None, None, None, None, None, None, 39.0, None, 44.0, None, 45.0, 29.0, None, 35.0, None, 43.0, None, None, None, 23.0, None, None, None, None, None, None, 40.0, None, 29.0, None, None, None, None, 28.0, None, None, None, 32.0, None, None, None, None, None, None, None, None, 12.0, 36.0, 42.0, None, None, None, None, None, None, None, None, None, None, None, None, None, None, None, None, None, 49.0, None, None, 42.0, None, None, None, None, None, None, None, None, None, 35.0, None, None, None, None, None, None, None, None, None, None, None, None, 3.0, None, None, None, None, None, None, None, 40.0, None, None, None, None, None, None, None, None, None, None, None, 45.0, None, 50.0, None, 47.0, None, None, None, None, None, None, None, 25.0, 49.0, 43.0, None, None, None, None, None, 49.0, None, 13.0, None, None, None, None, 41.0, None, None, None, None, None, None, None, None, None, 34.0, None, None, None, None, None, None, None, None, None, 11.0, None, None, None, None, None, None, 29.0, None, None, None, 26.0, None, 21.0, None, None, None, None, None, None, 26.0, None, None, None, 37.0, 31.0, None, None, None, 47.0, None, None, None, None, None, None, None, None, None, None, 36.0, 44.0, None, None, None, None, None, None, 21.0, None, None, None, 43.0, 24.0, None, None, 16.0, None, None, None, None, 28.0, 20.0, None, None, None, None, None, None, 2.0, None, None, None, None, None, None, None, None, None, None, None, None, 43.0, 9.0, None, None, None, None, None, None, 44.0, None, None, 28.0, None, None, None, None, None, None, None, None, None, None, None, None, None, None, 46.0, 27.0, None, None, None, None, 44.0, None, None, None, 5.0, None, None, None, None, None, None, None, None, None, None, None, None, None, None, 36.0, None, None, None, None, None, None, None, 34.0, 38.0, 10.0, None, None, None, None, None, None, 22.0, 3.0, None, None, None, None, None, None, None, None, None, None, None, None, None, None, None, None, None, None, 50.0, 1.0, None, None, None, None, 15.0, None, None, None, None, None, 48.0, None, 50.0, None, None, None, None, None, 33.0, 46.0, 19.0, None, None, None, 26.0, None, None, None, None, 49.0, None, None, None, None, None, None, None, None, None, None, 48.0, None, 38.0, 36.0, None, None, None, None, 14.0, None, None, None, None, None, None, 20.0, None, 37.0, None, None, None, None, None, None, None, 18.0, None, None, 47.0, 47.0, None, None, 39.0, None, None, None, None, None, None, 43.0, None, None, None, 8.0, 30.0]\n",
            "[None, None, None, None, 10.0, None, None, 40.0, 3.0, None, None, None, None, None, None, None, 30.0, 37.0, None, None, None, None, None, None, None, 38.0, None, None, None, None, None, None, None, 14.0, None, None, None, None, None, None, 36.0, None, None, None, 27.0, None, None, 35.0, None, None, None, None, None, None, 49.0, None, None, 44.0, None, None, None, None, None, None, None, None, None, None, 31.0, None, None, 20.0, None, None, None, None, None, None, None, 37.0, 33.0, None, None, None, None, 39.0, 25.0, None, None, None, None, None, None, None, None, None, None, None, None, 15.0, None, None, None, None, 33.0, None, None, None, None, None, None, None, None, None, None, None, 40.0, None, None, None, None, None, None, None, 28.0, None, None, None, None, None, None, 42.0, None, None, None, 46.0, 27.0, None, None, None, 32.0, None, None, 19.0, None, None, None, None, 29.0, None, 29.0, None, None, 49.0, None, None, 33.0, None, None, None, None, 28.0, None, None, None, 47.0, None, None, 45.0, None, None, None, None, None, None, None, 7.0, None, None, None, None, None, None, 34.0, None, 49.0, None, None, None, None, None, 38.0, None, None, None, 31.0, None, None, None, None, None, None, None, None, None, None, None, None, None, None, 41.0, None, 22.0, None, 43.0, None, None, None, None, None, None, None, 1.0, None, None, None, None, None, 31.0, None, None, None, None, None, 49.0, 47.0, None, None, None, None, None, 50.0, None, None, None, None, None, None, None, None, None, None, None, 48.0, 26.0, None, None, None, None, None, None, None, None, None, None, None, None, 41.0, None, None, None, 40.0, None, None, None, None, None, None, None, None, None, None, None, None, 46.0, None, None, None, None, 8.0, None, None, None, None, None, 41.0, 8.0, None, None, None, None, None, None, 43.0, None, None, None, None, 18.0, None, 39.0, None, None, None, 39.0, None, 25.0, None, None, 50.0, None, None, None, None, None, None, None, None, None, 16.0, None, 32.0, None, None, 28.0, None, 35.0, 23.0, None, None, None, None, 13.0, None, None, None, 20.0, None, None, None, 48.0, None, None, None, None, 17.0, None, None, 3.0, None, None, None, None, 13.0, None, 45.0, None, None, None, None, None, None, 19.0, None, None, 32.0, None, 24.0, None, 42.0, None, None, None, None, 44.0, None, None, 42.0, None, 21.0, None, 45.0, None, None, None, None, None, 18.0, None, 30.0, None, None, None, None, None, 44.0, None, 6.0, None, None, None, None, None, None, None, None, None, None, None, None, 37.0, 6.0, None, None, None, 23.0, None, None, 43.0, None, 12.0, None, 48.0, None, None, None, None, None, None, None, 4.0, 25.0, 48.0, None, None, None, None, 25.0, 38.0, None, None, None, None, None, None, None, None, None, None, None, 2.0, 36.0, 30.0, None, 44.0, 36.0, None, None, None, None, None, 47.0, None, None, None, None, None, None, None, None, None, None, None, None, None, 11.0, None, None, None, None, 26.0, None, None, None, 50.0, 23.0, None, None, None, None, None, None, None, None, None, None, None, None, None, 35.0, None, None, None, None, None, None, 41.0, None, None, None, None, None, None, None, None, None, None, None, None, None, None, None, None, None, None, None, 34.0, None, None, None, None, None, None, 38.0, 29.0, 14.0]\n",
            "[None, 43.0, None, 48.0, None, None, None, None, 8.0, None, None, None, None, None, None, None, None, 44.0, None, None, None, None, None, None, None, None, None, 21.0, None, None, None, None, None, 32.0, None, None, None, None, None, None, None, None, None, None, 19.0, None, 24.0, None, None, 33.0, None, None, None, None, 36.0, None, None, None, None, None, None, None, None, None, None, None, 27.0, None, 18.0, None, None, None, None, None, None, None, None, None, None, 33.0, None, None, None, None, None, None, 11.0, None, None, None, None, 36.0, None, None, None, None, None, None, None, None, None, None, None, None, 9.0, None, None, 40.0, None, None, 50.0, None, None, None, 17.0, 28.0, 46.0, None, None, None, None, None, None, None, None, None, None, None, None, None, None, 32.0, None, 25.0, None, None, None, None, None, None, 34.0, 43.0, None, 26.0, None, None, None, None, None, None, None, None, None, None, None, 37.0, None, None, None, None, 48.0, None, 31.0, None, 38.0, None, 38.0, None, None, None, None, None, None, None, None, None, 44.0, None, None, None, None, None, None, None, 49.0, None, None, None, None, None, None, None, None, 49.0, 35.0, None, 45.0, None, None, 19.0, None, None, None, None, None, 37.0, None, None, None, None, None, None, None, None, None, None, None, None, None, None, 44.0, 40.0, 4.0, None, None, None, None, None, None, None, None, None, None, None, None, 41.0, None, None, None, None, None, None, None, None, None, 50.0, None, 7.0, None, None, None, None, None, None, None, None, 21.0, None, 47.0, None, None, 23.0, None, None, None, None, None, None, None, None, None, None, None, None, None, None, 39.0, None, None, None, None, None, None, None, None, None, None, None, None, 12.0, None, None, None, None, None, None, 39.0, 43.0, 25.0, None, None, None, None, None, None, None, None, None, 13.0, None, None, None, None, None, 15.0, None, 16.0, None, None, None, None, 38.0, None, None, 48.0, None, None, None, None, None, None, None, None, None, None, None, 41.0, 45.0, None, None, None, None, None, None, 32.0, 34.0, 1.0, None, None, None, 46.0, None, None, None, None, None, None, None, 3.0, None, None, None, None, None, None, None, None, None, None, None, None, None, 30.0, 29.0, None, None, None, None, None, None, None, None, None, None, None, None, None, None, None, None, None, None, None, None, None, None, None, None, None, 47.0, 42.0, None, None, None, None, None, None, 20.0, None, None, None, None, None, 27.0, None, None, None, None, None, None, None, None, None, 35.0, None, None, None, None, 33.0, None, 47.0, None, None, None, None, None, None, None, None, None, 2.0, None, None, None, 49.0, None, None, None, None, None, None, None, None, None, None, 37.0, None, None, None, None, 6.0, None, None, None, None, 10.0, None, None, None, None, None, 26.0, None, None, None, None, None, None, None, 42.0, None, 40.0, None, None, None, 22.0, None, None, None, None, None, None, None, None, 31.0, None, None, None, None, 34.0, None, None, None, None, None, None, None, None, None, None, 45.0, None, None, None, None, None, 5.0, 30.0, None, None, None, None, None, None, None, None, 36.0, None, None, None, None, None, None, None, None, None, 14.0, 35.0, None, None, None, None, None, 42.0, None, None]\n",
            "[50.0, None, None, None, None, None, None, None, 30.0, None, None, None, None, None, None, None, None, None, None, 49.0, None, None, None, None, None, 46.0, None, 25.0, None, None, 34.0, 27.0, None, None, None, 40.0, None, None, None, None, None, None, None, None, None, None, None, None, None, None, None, None, None, None, 44.0, 46.0, None, None, 42.0, None, None, None, None, None, None, None, None, None, 9.0, None, None, 30.0, 32.0, None, None, 44.0, None, None, None, None, 32.0, 41.0, None, None, None, None, 37.0, None, 50.0, None, None, None, None, 38.0, 50.0, 45.0, 31.0, None, None, None, None, None, None, None, 21.0, None, None, None, None, None, None, 36.0, None, None, 37.0, None, 22.0, None, 26.0, None, None, None, 41.0, None, None, 40.0, 37.0, None, None, None, None, 48.0, None, None, None, None, None, None, None, None, 39.0, 50.0, None, 27.0, None, None, 28.0, None, None, 28.0, 36.0, None, None, None, 49.0, None, None, None, None, None, None, None, 38.0, None, None, None, None, None, None, None, None, None, None, None, None, None, 20.0, 13.0, None, None, None, 46.0, 45.0, None, None, None, None, None, 29.0, None, None, None, None, None, 34.0, None, None, 32.0, None, None, None, None, None, None, None, None, None, None, None, 47.0, None, None, None, None, None, None, None, None, None, None, None, None, 16.0, None, 46.0, 47.0, None, None, None, None, None, 49.0, None, None, None, None, None, 48.0, None, None, None, None, None, None, None, None, 48.0, 33.0, 31.0, None, None, None, None, None, None, None, 34.0, None, None, None, None, None, None, None, None, 48.0, None, None, None, 49.0, None, None, None, None, None, None, None, None, None, None, None, None, 44.0, 8.0, None, None, None, 50.0, None, 43.0, None, None, 34.0, None, 40.0, None, 38.0, None, None, 33.0, None, None, None, None, None, None, None, None, 47.0, None, None, None, 6.0, None, 7.0, None, 12.0, None, None, None, None, None, 43.0, None, None, None, None, None, None, 35.0, None, None, None, None, None, None, None, None, None, None, None, None, None, 42.0, None, 37.0, 3.0, None, None, None, 28.0, 40.0, 34.0, None, None, None, None, None, 2.0, 44.0, None, None, 45.0, None, None, None, None, None, None, None, 18.0, None, 35.0, 44.0, None, None, 33.0, 45.0, None, None, None, None, None, None, None, None, 31.0, None, None, None, None, None, None, 1.0, 48.0, None, None, 39.0, None, 2.0, None, None, 23.0, None, None, None, None, 14.0, None, None, None, None, None, 41.0, None, None, None, None, None, None, 29.0, None, 43.0, None, None, None, None, None, None, None, 10.0, None, None, None, None, None, None, None, None, None, 5.0, None, None, None, None, None, None, None, None, 47.0, None, 26.0, None, None, None, None, 35.0, None, None, None, 6.0, 39.0, 38.0, None, None, 17.0, None, None, None, 36.0, None, None, None, None, None, None, None, None, None, 19.0, None, None, None, None, None, 14.0, None, None, None, None, None, 38.0, None, None, None, None, None, None, None, None, None, None, None, None, None, None, 49.0, None, None, 47.0, 42.0, None, 36.0, None, None, None, 15.0, None, None, None, None, None, None, None, None, None, None, None, None, None, None, None, None, None, 32.0, 29.0, 43.0, None, None, None, None, None, None, None, None, 24.0]\n",
            "[None, None, None, None, None, 25.0, None, None, 23.0, None, None, None, None, None, None, 50.0, None, None, None, None, None, None, 30.0, None, None, None, None, 41.0, None, 39.0, None, 42.0, None, None, None, None, 41.0, None, None, None, None, None, None, None, None, 49.0, None, None, None, 42.0, None, None, None, None, None, None, None, None, None, None, None, 47.0, None, None, None, None, None, None, 30.0, None, None, None, None, None, 47.0, 18.0, None, None, None, None, None, None, 43.0, 41.0, 50.0, None, None, None, None, None, None, 43.0, None, None, None, None, None, 44.0, None, None, None, None, None, 36.0, 5.0, None, None, None, None, None, None, None, 44.0, 45.0, 47.0, None, 24.0, None, None, None, 22.0, 22.0, 26.0, 50.0, None, None, None, None, None, None, None, 29.0, 45.0, None, None, None, 38.0, 47.0, None, None, None, None, None, None, 33.0, 28.0, 24.0, None, None, None, None, None, None, None, None, None, None, None, None, 46.0, None, None, None, None, None, None, None, None, None, None, None, None, None, None, None, None, None, None, None, None, 48.0, None, None, None, None, None, None, None, None, None, None, None, None, None, None, None, None, None, None, None, None, None, None, 36.0, None, None, None, None, None, None, None, 42.0, None, None, None, None, None, None, None, None, None, None, 8.0, None, 32.0, 36.0, None, None, None, None, 39.0, None, 44.0, None, None, 37.0, None, None, None, None, None, None, None, 35.0, None, None, 48.0, None, None, None, None, None, None, None, None, None, 12.0, None, None, 49.0, None, None, 50.0, None, None, 11.0, None, 25.0, None, None, None, None, None, None, None, 48.0, None, None, None, None, None, None, None, 21.0, None, None, None, None, None, 20.0, None, None, None, 46.0, None, None, None, None, None, None, 34.0, None, None, 30.0, None, None, None, None, None, None, None, None, 15.0, None, 9.0, None, 42.0, None, None, None, None, 45.0, None, 38.0, None, 33.0, None, 43.0, None, None, None, None, None, None, None, None, None, None, None, None, None, None, None, None, None, None, 2.0, None, None, None, None, 19.0, None, None, None, None, None, None, 2.0, None, None, None, 27.0, 35.0, None, None, None, None, 46.0, None, None, None, 25.0, 9.0, None, None, None, 31.0, None, None, None, None, None, 26.0, None, None, None, None, None, None, None, None, None, 1.0, None, 45.0, None, None, None, 13.0, None, None, None, None, None, None, None, 16.0, None, None, None, None, None, 34.0, None, None, None, None, None, None, 35.0, None, None, None, None, None, 40.0, None, None, None, 5.0, None, None, 31.0, None, None, None, None, None, None, 10.0, None, None, 37.0, None, None, None, None, None, None, 7.0, None, None, None, None, None, None, 34.0, None, None, 6.0, None, None, None, None, 17.0, None, None, None, None, None, None, 29.0, 14.0, None, None, None, None, None, None, None, 6.0, None, None, None, 29.0, None, None, None, None, None, None, None, None, None, None, None, None, None, None, None, None, None, None, None, None, None, None, None, 18.0, None, None, None, None, 25.0, 27.0, 33.0, None, None, 40.0, None, None, None, None, None, None, None, None, None, 34.0, None, None, None, None, None, None, 28.0, None, None, None, None, None, None, None, 28.0, 4.0]\n",
            "[None, None, None, None, None, None, None, 42.0, 6.0, None, None, 22.0, None, None, None, None, None, None, None, None, None, None, 37.0, None, None, None, None, 30.0, None, 44.0, None, None, None, None, None, None, None, None, None, None, None, None, None, None, 46.0, None, None, None, 14.0, None, None, None, None, None, None, None, None, None, None, 33.0, None, None, None, None, None, None, None, None, 25.0, None, None, None, None, None, None, None, None, None, None, None, None, None, None, None, None, None, None, None, None, None, None, None, None, None, None, None, None, None, None, None, None, None, None, None, 11.0, None, None, None, 17.0, None, None, None, None, None, 31.0, None, None, None, None, None, None, None, None, None, None, None, None, None, None, None, None, None, None, None, None, None, 30.0, None, None, None, None, None, None, None, 37.0, 45.0, None, None, 16.0, None, 35.0, None, None, None, None, None, None, None, None, None, None, None, None, None, None, None, None, None, None, None, None, None, None, None, None, None, 13.0, None, None, None, None, None, 48.0, None, None, None, None, 43.0, None, None, None, None, None, None, None, None, None, None, None, None, None, None, 46.0, None, None, None, None, None, None, None, None, None, None, None, None, None, None, None, 49.0, None, None, None, 3.0, None, None, None, None, None, None, None, None, None, None, None, None, 47.0, None, None, None, 50.0, None, None, None, None, None, None, 22.0, None, None, None, None, None, None, None, None, 21.0, 18.0, None, None, None, None, None, None, None, 44.0, 28.0, None, 15.0, None, None, None, None, None, None, None, None, None, None, None, None, None, None, None, 42.0, None, None, None, None, None, 23.0, None, None, None, None, None, 47.0, None, None, None, None, None, None, None, None, None, None, None, None, None, None, None, None, 27.0, None, 9.0, None, 40.0, None, None, None, None, None, 34.0, None, None, None, None, None, None, None, None, None, None, None, None, None, None, None, 18.0, None, None, None, None, None, None, None, 12.0, None, None, None, 14.0, None, None, 38.0, 29.0, None, None, None, 2.0, None, None, 24.0, None, None, None, None, None, None, None, None, None, None, 7.0, 8.0, None, None, None, None, None, None, None, None, None, None, None, None, None, None, None, None, None, None, None, 1.0, None, None, None, None, None, None, None, None, None, None, None, None, None, None, None, None, None, None, None, None, None, None, None, None, None, 32.0, None, None, None, None, None, None, None, None, None, None, 19.0, None, None, None, None, None, 10.0, None, None, 50.0, 5.0, None, None, None, None, None, None, None, None, None, 29.0, None, 26.0, None, None, None, None, None, None, None, 4.0, None, None, None, None, 33.0, None, None, 35.0, None, None, None, 41.0, None, None, 40.0, None, None, None, None, None, 39.0, 28.0, None, None, 17.0, None, None, None, None, None, None, None, None, None, None, None, None, None, None, None, None, 36.0, None, None, None, None, None, None, None, None, None, None, None, None, None, 19.0, 31.0, None, None, None, None, None, None, None, 15.0, 20.0, None, None, None, None, None, None, None, None, None, None, None, None, None, None, None, None, None, None, None]\n",
            "[None, None, None, None, None, None, None, None, 34.0, None, 45.0, None, None, None, None, None, None, None, None, None, None, None, None, 34.0, None, None, None, 18.0, None, 39.0, None, 44.0, None, None, None, None, None, None, 41.0, None, None, None, None, 6.0, None, None, None, None, None, None, None, None, None, None, None, None, None, None, None, 27.0, 40.0, None, None, None, None, None, None, None, 19.0, 11.0, None, 40.0, None, None, None, None, None, None, None, None, None, None, 44.0, None, None, None, 36.0, None, None, None, 36.0, None, None, None, None, None, None, None, 35.0, None, None, None, None, None, 15.0, 46.0, None, None, None, None, None, None, None, None, None, None, None, None, None, None, 38.0, None, None, None, None, None, None, None, None, None, None, None, None, None, None, None, None, None, None, None, None, None, 42.0, None, None, None, None, None, None, None, None, None, None, None, None, 35.0, None, None, None, None, None, None, None, None, None, None, None, None, None, None, None, None, None, None, None, 42.0, 13.0, None, None, None, None, None, None, None, None, None, None, None, None, None, None, None, None, None, None, None, None, None, None, None, None, None, 33.0, None, None, None, None, None, 41.0, None, None, None, None, None, None, 31.0, None, None, None, 14.0, None, None, 10.0, None, None, None, None, None, None, None, None, None, None, 47.0, None, None, None, None, 22.0, None, None, None, None, None, None, None, None, None, None, None, None, None, None, 29.0, None, None, 5.0, None, None, None, 43.0, None, None, None, None, 46.0, None, 48.0, None, None, None, None, None, None, None, None, None, None, 39.0, None, None, 49.0, 31.0, None, None, None, None, None, None, 17.0, None, None, None, None, None, None, None, None, None, None, None, None, None, 25.0, None, None, None, None, 47.0, None, None, None, None, None, 23.0, 50.0, 33.0, None, None, None, None, None, None, None, None, None, None, None, None, 34.0, None, None, None, None, None, None, None, None, 9.0, None, None, None, None, None, None, None, 3.0, None, None, None, 16.0, None, None, None, None, None, None, None, 2.0, None, None, None, 45.0, None, None, None, None, None, 28.0, None, None, None, 7.0, 26.0, None, None, None, None, None, 30.0, None, None, None, None, None, 42.0, None, None, None, None, None, None, None, 1.0, None, 35.0, None, 37.0, None, None, None, None, None, None, None, None, None, None, None, None, None, None, None, 50.0, 49.0, None, None, None, None, None, None, None, 40.0, None, None, None, None, None, None, None, 12.0, None, None, None, None, None, 20.0, None, None, None, 8.0, None, None, None, None, 50.0, None, None, None, None, 11.0, None, None, None, None, None, None, None, None, None, 4.0, None, None, None, None, 21.0, None, 47.0, None, None, None, None, 48.0, None, None, 37.0, None, None, None, None, None, 38.0, 32.0, None, None, 32.0, None, 30.0, None, None, None, None, None, None, None, None, None, None, None, None, None, None, None, None, None, None, None, None, None, None, None, None, None, None, None, None, 46.0, 24.0, 48.0, None, None, None, None, None, None, 44.0, 29.0, None, None, None, None, 43.0, None, None, 45.0, None, 33.0, None, None, None, None, None, None, None, 43.0, None]\n",
            "[None, None, None, None, None, None, None, None, 28.0, None, None, None, 25.0, None, None, None, None, None, None, None, 48.0, None, None, None, None, None, None, 45.0, None, None, None, None, None, None, None, None, None, None, None, None, None, 41.0, None, 29.0, None, None, None, None, None, None, None, None, None, None, None, None, None, None, None, None, 28.0, None, 39.0, None, None, None, None, None, 27.0, 49.0, None, 47.0, None, None, None, None, None, None, None, None, None, None, None, None, None, None, None, None, 16.0, 43.0, None, None, None, None, None, None, None, None, None, None, None, None, None, None, 14.0, None, None, 37.0, None, None, None, None, None, None, None, None, 35.0, None, None, None, None, None, None, None, None, None, None, None, None, None, None, None, None, None, None, None, 7.0, None, None, None, None, None, None, 50.0, None, None, None, None, None, 26.0, 41.0, None, None, None, None, None, None, None, None, None, None, None, None, None, None, None, None, None, None, None, None, None, None, None, None, None, 8.0, None, None, 50.0, None, None, None, None, None, None, None, None, None, None, 34.0, None, None, None, None, None, None, None, None, None, None, None, None, None, None, None, None, None, None, None, None, None, None, 42.0, None, None, None, None, None, 34.0, None, None, 12.0, None, None, None, None, None, None, None, None, None, None, None, None, 32.0, None, None, None, None, None, None, None, None, None, None, None, None, None, None, 42.0, None, None, None, None, None, 11.0, None, None, None, None, None, None, None, None, None, None, None, None, None, None, None, None, None, None, None, None, None, None, None, None, None, None, None, None, 35.0, None, None, 43.0, 30.0, None, None, None, None, None, None, 40.0, None, None, None, None, 36.0, None, None, None, None, None, None, None, None, None, None, None, None, 23.0, None, None, None, None, None, None, None, None, None, None, None, None, None, None, None, None, None, None, None, None, None, None, 20.0, 9.0, None, 47.0, None, None, None, None, None, 6.0, None, None, None, 24.0, None, None, None, None, None, 33.0, None, 5.0, None, None, None, None, None, None, None, None, None, None, None, None, None, 10.0, 39.0, None, None, None, None, 38.0, 31.0, None, None, None, None, None, None, None, None, None, None, None, None, None, 1.0, None, 37.0, None, None, None, 19.0, None, None, None, None, None, None, None, 17.0, 40.0, None, None, None, None, 32.0, None, None, None, None, None, None, None, None, 44.0, None, None, None, None, None, None, None, 15.0, None, None, None, 36.0, None, 33.0, 29.0, None, None, 4.0, None, None, None, None, None, None, None, None, None, 3.0, None, None, None, None, None, None, None, 30.0, None, 2.0, None, None, None, None, 38.0, 31.0, 49.0, None, None, None, None, None, None, None, None, None, None, None, None, None, 27.0, None, None, 44.0, 13.0, None, None, None, 45.0, None, None, None, 46.0, None, None, None, None, None, None, None, None, None, None, None, 18.0, None, None, None, None, None, None, None, None, None, None, None, 21.0, 46.0, None, None, 48.0, None, None, None, 22.0, None, None, None, None, None, None, None, None, None, None, None, None, None, None, None, None, None, None, None, None]\n",
            "[None, None, 43.0, None, None, None, None, 21.0, 22.0, None, None, None, None, None, None, None, None, None, None, None, None, None, None, None, 50.0, None, None, None, None, None, None, None, None, None, None, None, None, None, None, None, None, None, None, None, None, None, None, None, None, None, None, None, None, None, None, None, None, None, None, None, 32.0, None, None, None, None, None, None, None, 17.0, None, None, None, None, 41.0, None, None, 27.0, None, 46.0, 33.0, None, None, 22.0, None, None, None, None, None, 28.0, None, None, None, None, None, None, None, None, None, None, None, None, None, None, None, 29.0, None, None, 26.0, None, None, None, None, None, None, None, None, None, None, None, None, 23.0, None, None, None, None, None, None, None, None, None, None, 48.0, None, None, None, None, 36.0, None, None, None, None, None, None, None, None, None, None, None, None, 45.0, 28.0, None, None, None, None, None, None, None, None, None, None, None, None, 26.0, None, None, None, None, None, None, None, 39.0, None, None, None, None, 12.0, None, None, None, None, None, None, None, None, None, None, None, None, None, None, None, None, None, None, None, None, None, None, None, None, None, None, None, None, None, None, None, None, None, None, None, None, None, None, None, None, 47.0, None, None, None, None, 34.0, None, None, None, None, None, None, None, None, None, None, None, None, None, None, None, None, None, 10.0, None, None, None, None, None, 23.0, None, None, None, None, 31.0, None, None, None, None, 4.0, None, None, None, None, None, None, None, None, None, None, 31.0, None, None, None, None, 20.0, None, None, None, None, None, None, None, None, None, None, None, None, None, None, None, None, 25.0, None, None, 16.0, None, None, 40.0, None, None, None, 11.0, None, None, None, None, None, None, None, 15.0, None, None, None, None, None, None, 32.0, None, 49.0, None, None, None, None, None, None, None, None, None, None, None, None, 19.0, None, None, None, None, None, None, None, None, 6.0, None, None, None, None, None, None, None, 2.0, None, None, 49.0, 24.0, None, None, None, None, None, None, None, 7.0, None, None, None, None, None, None, None, 30.0, None, None, None, None, None, 45.0, None, None, None, None, None, None, 18.0, None, None, None, None, None, None, None, None, None, None, None, None, None, 1.0, None, None, None, None, None, None, None, None, None, None, None, None, None, 14.0, None, None, None, None, None, None, None, 43.0, 42.0, None, None, None, 34.0, None, None, None, None, None, None, None, 40.0, None, 13.0, None, None, None, None, 44.0, None, None, None, 37.0, 9.0, None, None, None, None, None, None, None, None, None, 38.0, None, None, None, 35.0, None, None, None, None, None, 3.0, None, None, None, None, 8.0, None, None, None, None, None, 16.0, None, None, None, None, 41.0, None, None, None, None, 5.0, None, None, None, None, 29.0, None, None, None, None, None, None, None, None, None, None, None, 37.0, None, None, None, None, None, None, None, None, None, None, None, None, None, None, None, None, None, None, None, None, 46.0, None, None, None, None, None, 47.0, 33.0, None, None, None, None, None, None, None, None, None, None, None, 25.0, 24.0, None, None, None, None, None, None]\n",
            "[None, 39.0, None, None, None, None, None, 36.0, 7.0, None, None, None, None, 50.0, None, None, None, 29.0, None, None, None, 27.0, None, None, None, None, None, 20.0, None, None, None, 18.0, None, None, 50.0, None, None, None, None, None, None, 46.0, None, 46.0, None, None, None, None, None, None, None, None, None, 40.0, None, 40.0, None, None, None, 32.0, None, None, None, None, None, None, 36.0, None, 25.0, None, None, None, None, None, None, None, 24.0, 47.0, None, 21.0, None, None, 25.0, None, None, None, 49.0, 46.0, 18.0, None, None, None, None, None, None, None, None, None, None, None, None, None, 39.0, None, 25.0, None, None, None, None, None, None, None, None, None, None, None, None, None, None, None, None, None, None, None, None, None, None, 28.0, 45.0, None, None, None, None, None, None, None, None, 19.0, None, 37.0, None, None, None, None, None, 26.0, 38.0, None, None, 36.0, None, 43.0, 49.0, None, None, 41.0, None, None, 31.0, None, None, None, None, None, None, 30.0, None, None, None, None, None, None, None, None, None, None, 4.0, None, None, None, None, None, None, None, None, None, 43.0, 30.0, None, None, None, None, None, None, None, None, None, None, None, 42.0, None, 29.0, None, None, None, None, None, 23.0, None, None, None, None, None, None, None, None, None, None, None, None, None, None, 24.0, None, None, None, None, None, None, None, None, None, None, None, None, None, None, None, None, None, 12.0, None, None, None, None, None, 16.0, None, None, None, None, None, None, None, None, None, 10.0, None, None, None, None, None, None, None, None, None, None, 31.0, None, None, None, None, 42.0, 35.0, None, None, None, 45.0, None, 23.0, None, 48.0, 43.0, None, None, None, None, None, None, 34.0, None, None, 21.0, None, None, 33.0, None, None, None, None, None, None, 38.0, None, 48.0, 50.0, None, None, None, None, None, None, None, None, None, None, 13.0, None, None, None, None, 46.0, None, None, None, None, 30.0, None, 35.0, 37.0, None, None, 37.0, 38.0, None, 41.0, None, None, 14.0, None, None, 35.0, None, None, None, None, 15.0, 47.0, None, None, None, None, None, None, None, None, None, 44.0, 11.0, None, None, None, None, None, None, None, None, None, None, None, None, None, 40.0, None, None, None, None, None, None, 26.0, None, None, None, None, None, None, None, None, None, None, 47.0, None, None, 1.0, None, None, 22.0, None, None, None, None, 42.0, None, None, 45.0, None, 33.0, 8.0, None, None, None, None, None, None, None, None, None, None, None, None, None, None, None, None, None, None, None, None, None, 44.0, 9.0, None, None, None, None, 48.0, 29.0, None, 6.0, None, 2.0, None, None, None, None, None, None, None, None, None, 20.0, None, None, None, None, None, None, None, None, None, 5.0, None, None, None, None, 3.0, None, None, None, None, None, None, None, None, None, None, None, None, None, None, None, 41.0, None, None, None, 17.0, None, None, None, None, None, None, None, None, None, 39.0, None, None, None, None, None, None, None, None, None, None, None, 39.0, None, None, None, None, None, None, None, None, 26.0, None, 32.0, None, None, None, 49.0, None, None, None, None, None, None, None, None, 37.0, 44.0, None, None, None, None, None, 22.0, None, None, None, None, None, None, None]\n"
          ],
          "name": "stdout"
        }
      ]
    },
    {
      "cell_type": "code",
      "metadata": {
        "id": "3BiOc6onigdV",
        "colab_type": "code",
        "colab": {}
      },
      "source": [
        ""
      ],
      "execution_count": 11,
      "outputs": []
    },
    {
      "cell_type": "markdown",
      "metadata": {
        "id": "wob_3zLrX1H1",
        "colab_type": "text"
      },
      "source": [
        "##Pandas Queries"
      ]
    },
    {
      "cell_type": "markdown",
      "metadata": {
        "id": "mL1I7q0eInHB",
        "colab_type": "text"
      },
      "source": [
        "###About a Product"
      ]
    },
    {
      "cell_type": "code",
      "metadata": {
        "id": "kb_YRx1QihhV",
        "colab_type": "code",
        "colab": {}
      },
      "source": [
        "product_query = products[335]"
      ],
      "execution_count": 43,
      "outputs": []
    },
    {
      "cell_type": "code",
      "metadata": {
        "id": "pf87dqbqH7PP",
        "colab_type": "code",
        "colab": {}
      },
      "source": [
        "Select_query = 'Product Names'"
      ],
      "execution_count": 38,
      "outputs": []
    },
    {
      "cell_type": "code",
      "metadata": {
        "id": "5vljBozME2aA",
        "colab_type": "code",
        "colab": {
          "base_uri": "https://localhost:8080/",
          "height": 193
        },
        "outputId": "fbe675d8-5ac1-4267-81fc-bad638540b4c"
      },
      "source": [
        "df[df[Select_query] == product_query]"
      ],
      "execution_count": 44,
      "outputs": [
        {
          "output_type": "execute_result",
          "data": {
            "text/html": [
              "<div>\n",
              "<style scoped>\n",
              "    .dataframe tbody tr th:only-of-type {\n",
              "        vertical-align: middle;\n",
              "    }\n",
              "\n",
              "    .dataframe tbody tr th {\n",
              "        vertical-align: top;\n",
              "    }\n",
              "\n",
              "    .dataframe thead th {\n",
              "        text-align: right;\n",
              "    }\n",
              "</style>\n",
              "<table border=\"1\" class=\"dataframe\">\n",
              "  <thead>\n",
              "    <tr style=\"text-align: right;\">\n",
              "      <th></th>\n",
              "      <th>time</th>\n",
              "      <th>Rank</th>\n",
              "      <th>Product Names</th>\n",
              "      <th>Image urls</th>\n",
              "      <th>Product links</th>\n",
              "      <th>Stars</th>\n",
              "      <th>Reviews</th>\n",
              "      <th>Authors/Company</th>\n",
              "      <th>Edition/Console</th>\n",
              "      <th>Price_std_or_min</th>\n",
              "      <th>Max_prices</th>\n",
              "    </tr>\n",
              "  </thead>\n",
              "  <tbody>\n",
              "    <tr>\n",
              "      <th>40</th>\n",
              "      <td>2020-08-13 10:53</td>\n",
              "      <td>41.0</td>\n",
              "      <td>Guardians of the Galaxy (Vinyl) [Importado]</td>\n",
              "      <td>https://images-na.ssl-images-amazon.com/images...</td>\n",
              "      <td>https://www.amazon.com.mx/Guardians-Galaxy-Vin...</td>\n",
              "      <td>4.7</td>\n",
              "      <td>1723.0</td>\n",
              "      <td>Tyler Bates</td>\n",
              "      <td>Vinil</td>\n",
              "      <td>737.0</td>\n",
              "      <td>None</td>\n",
              "    </tr>\n",
              "    <tr>\n",
              "      <th>40</th>\n",
              "      <td>2020-08-13 11:43</td>\n",
              "      <td>41.0</td>\n",
              "      <td>Guardians of the Galaxy (Vinyl) [Importado]</td>\n",
              "      <td>https://images-na.ssl-images-amazon.com/images...</td>\n",
              "      <td>https://www.amazon.com.mx/Guardians-Galaxy-Vin...</td>\n",
              "      <td>4.7</td>\n",
              "      <td>1723.0</td>\n",
              "      <td>Tyler Bates</td>\n",
              "      <td>Vinil</td>\n",
              "      <td>737.0</td>\n",
              "      <td>None</td>\n",
              "    </tr>\n",
              "    <tr>\n",
              "      <th>40</th>\n",
              "      <td>2020-08-13 12:29</td>\n",
              "      <td>41.0</td>\n",
              "      <td>Guardians of the Galaxy (Vinyl) [Importado]</td>\n",
              "      <td>https://images-na.ssl-images-amazon.com/images...</td>\n",
              "      <td>https://www.amazon.com.mx/Guardians-Galaxy-Vin...</td>\n",
              "      <td>4.7</td>\n",
              "      <td>1723.0</td>\n",
              "      <td>Tyler Bates</td>\n",
              "      <td>Vinil</td>\n",
              "      <td>737.0</td>\n",
              "      <td>None</td>\n",
              "    </tr>\n",
              "  </tbody>\n",
              "</table>\n",
              "</div>"
            ],
            "text/plain": [
              "                time  Rank  ... Price_std_or_min Max_prices\n",
              "40  2020-08-13 10:53  41.0  ...            737.0       None\n",
              "40  2020-08-13 11:43  41.0  ...            737.0       None\n",
              "40  2020-08-13 12:29  41.0  ...            737.0       None\n",
              "\n",
              "[3 rows x 11 columns]"
            ]
          },
          "metadata": {
            "tags": []
          },
          "execution_count": 44
        }
      ]
    },
    {
      "cell_type": "markdown",
      "metadata": {
        "id": "kFxhjFLCIeEN",
        "colab_type": "text"
      },
      "source": [
        "###Best Seller of the day"
      ]
    },
    {
      "cell_type": "code",
      "metadata": {
        "id": "dcewmjO8IhbU",
        "colab_type": "code",
        "colab": {
          "base_uri": "https://localhost:8080/",
          "height": 589
        },
        "outputId": "6dc8f63c-c529-433d-eee2-5650ef83e40d"
      },
      "source": [
        "rank_1_df = df[df['Rank'] == 1]\n",
        "rank_1_df"
      ],
      "execution_count": 46,
      "outputs": [
        {
          "output_type": "execute_result",
          "data": {
            "text/html": [
              "<div>\n",
              "<style scoped>\n",
              "    .dataframe tbody tr th:only-of-type {\n",
              "        vertical-align: middle;\n",
              "    }\n",
              "\n",
              "    .dataframe tbody tr th {\n",
              "        vertical-align: top;\n",
              "    }\n",
              "\n",
              "    .dataframe thead th {\n",
              "        text-align: right;\n",
              "    }\n",
              "</style>\n",
              "<table border=\"1\" class=\"dataframe\">\n",
              "  <thead>\n",
              "    <tr style=\"text-align: right;\">\n",
              "      <th></th>\n",
              "      <th>time</th>\n",
              "      <th>Rank</th>\n",
              "      <th>Product Names</th>\n",
              "      <th>Image urls</th>\n",
              "      <th>Product links</th>\n",
              "      <th>Stars</th>\n",
              "      <th>Reviews</th>\n",
              "      <th>Authors/Company</th>\n",
              "      <th>Edition/Console</th>\n",
              "      <th>Price_std_or_min</th>\n",
              "      <th>Max_prices</th>\n",
              "    </tr>\n",
              "  </thead>\n",
              "  <tbody>\n",
              "    <tr>\n",
              "      <th>3750</th>\n",
              "      <td>2020-07-31 00:38</td>\n",
              "      <td>1.0</td>\n",
              "      <td>FINE LINE</td>\n",
              "      <td>https://images-na.ssl-images-amazon.com/images...</td>\n",
              "      <td>https://www.amazon.com.mx/FINE-LINE-HARRY-STYL...</td>\n",
              "      <td>4.8</td>\n",
              "      <td>775.0</td>\n",
              "      <td>HARRY STYLES</td>\n",
              "      <td>Audio CD</td>\n",
              "      <td>170.0</td>\n",
              "      <td>None</td>\n",
              "    </tr>\n",
              "    <tr>\n",
              "      <th>2950</th>\n",
              "      <td>2020-07-31 11:00</td>\n",
              "      <td>1.0</td>\n",
              "      <td>Chromatica - Empaque de pasta dura- Incluye: C...</td>\n",
              "      <td>https://images-na.ssl-images-amazon.com/images...</td>\n",
              "      <td>https://www.amazon.com.mx/Chromatica-Empaque-p...</td>\n",
              "      <td>4.6</td>\n",
              "      <td>190.0</td>\n",
              "      <td>Lady Gaga</td>\n",
              "      <td>Audio CD</td>\n",
              "      <td>429.8</td>\n",
              "      <td>None</td>\n",
              "    </tr>\n",
              "    <tr>\n",
              "      <th>2750</th>\n",
              "      <td>2020-07-31 11:28</td>\n",
              "      <td>1.0</td>\n",
              "      <td>Chromatica - Empaque de pasta dura- Incluye: C...</td>\n",
              "      <td>https://images-na.ssl-images-amazon.com/images...</td>\n",
              "      <td>https://www.amazon.com.mx/Chromatica-Empaque-p...</td>\n",
              "      <td>4.6</td>\n",
              "      <td>190.0</td>\n",
              "      <td>Lady Gaga</td>\n",
              "      <td>Audio CD</td>\n",
              "      <td>429.8</td>\n",
              "      <td>None</td>\n",
              "    </tr>\n",
              "    <tr>\n",
              "      <th>2900</th>\n",
              "      <td>2020-07-31 11:49</td>\n",
              "      <td>1.0</td>\n",
              "      <td>Chromatica - Empaque de pasta dura- Incluye: C...</td>\n",
              "      <td>https://images-na.ssl-images-amazon.com/images...</td>\n",
              "      <td>https://www.amazon.com.mx/Chromatica-Empaque-p...</td>\n",
              "      <td>4.6</td>\n",
              "      <td>190.0</td>\n",
              "      <td>Lady Gaga</td>\n",
              "      <td>Audio CD</td>\n",
              "      <td>429.8</td>\n",
              "      <td>None</td>\n",
              "    </tr>\n",
              "    <tr>\n",
              "      <th>2500</th>\n",
              "      <td>2020-07-31 12:10</td>\n",
              "      <td>1.0</td>\n",
              "      <td>Chromatica - Empaque de pasta dura- Incluye: C...</td>\n",
              "      <td>https://images-na.ssl-images-amazon.com/images...</td>\n",
              "      <td>https://www.amazon.com.mx/Chromatica-Empaque-p...</td>\n",
              "      <td>4.6</td>\n",
              "      <td>191.0</td>\n",
              "      <td>Lady Gaga</td>\n",
              "      <td>Audio CD</td>\n",
              "      <td>429.8</td>\n",
              "      <td>None</td>\n",
              "    </tr>\n",
              "    <tr>\n",
              "      <th>...</th>\n",
              "      <td>...</td>\n",
              "      <td>...</td>\n",
              "      <td>...</td>\n",
              "      <td>...</td>\n",
              "      <td>...</td>\n",
              "      <td>...</td>\n",
              "      <td>...</td>\n",
              "      <td>...</td>\n",
              "      <td>...</td>\n",
              "      <td>...</td>\n",
              "      <td>...</td>\n",
              "    </tr>\n",
              "    <tr>\n",
              "      <th>0</th>\n",
              "      <td>2020-08-13 18:25</td>\n",
              "      <td>1.0</td>\n",
              "      <td>Folklore</td>\n",
              "      <td>https://images-na.ssl-images-amazon.com/images...</td>\n",
              "      <td>https://www.amazon.com.mx/Folklore-Taylor-Swif...</td>\n",
              "      <td>5.0</td>\n",
              "      <td>9.0</td>\n",
              "      <td>Taylor Swift</td>\n",
              "      <td>Audio CD</td>\n",
              "      <td>338.7</td>\n",
              "      <td>None</td>\n",
              "    </tr>\n",
              "    <tr>\n",
              "      <th>0</th>\n",
              "      <td>2020-08-13 19:12</td>\n",
              "      <td>1.0</td>\n",
              "      <td>Folklore</td>\n",
              "      <td>https://images-na.ssl-images-amazon.com/images...</td>\n",
              "      <td>https://www.amazon.com.mx/Folklore-Taylor-Swif...</td>\n",
              "      <td>5.0</td>\n",
              "      <td>9.0</td>\n",
              "      <td>Taylor Swift</td>\n",
              "      <td>Audio CD</td>\n",
              "      <td>338.7</td>\n",
              "      <td>None</td>\n",
              "    </tr>\n",
              "    <tr>\n",
              "      <th>0</th>\n",
              "      <td>2020-08-13 19:59</td>\n",
              "      <td>1.0</td>\n",
              "      <td>Folklore</td>\n",
              "      <td>https://images-na.ssl-images-amazon.com/images...</td>\n",
              "      <td>https://www.amazon.com.mx/Folklore-Taylor-Swif...</td>\n",
              "      <td>5.0</td>\n",
              "      <td>9.0</td>\n",
              "      <td>Taylor Swift</td>\n",
              "      <td>Audio CD</td>\n",
              "      <td>338.7</td>\n",
              "      <td>None</td>\n",
              "    </tr>\n",
              "    <tr>\n",
              "      <th>0</th>\n",
              "      <td>2020-08-13 20:46</td>\n",
              "      <td>1.0</td>\n",
              "      <td>Folklore</td>\n",
              "      <td>https://images-na.ssl-images-amazon.com/images...</td>\n",
              "      <td>https://www.amazon.com.mx/Folklore-Taylor-Swif...</td>\n",
              "      <td>5.0</td>\n",
              "      <td>9.0</td>\n",
              "      <td>Taylor Swift</td>\n",
              "      <td>Audio CD</td>\n",
              "      <td>338.7</td>\n",
              "      <td>None</td>\n",
              "    </tr>\n",
              "    <tr>\n",
              "      <th>0</th>\n",
              "      <td>2020-08-14 12:12</td>\n",
              "      <td>1.0</td>\n",
              "      <td>Folklore</td>\n",
              "      <td>https://images-na.ssl-images-amazon.com/images...</td>\n",
              "      <td>https://www.amazon.com.mx/Folklore-Taylor-Swif...</td>\n",
              "      <td>4.5</td>\n",
              "      <td>11.0</td>\n",
              "      <td>Taylor Swift</td>\n",
              "      <td>Audio CD</td>\n",
              "      <td>176.0</td>\n",
              "      <td>None</td>\n",
              "    </tr>\n",
              "  </tbody>\n",
              "</table>\n",
              "<p>137 rows × 11 columns</p>\n",
              "</div>"
            ],
            "text/plain": [
              "                  time  Rank  ... Price_std_or_min Max_prices\n",
              "3750  2020-07-31 00:38   1.0  ...            170.0       None\n",
              "2950  2020-07-31 11:00   1.0  ...            429.8       None\n",
              "2750  2020-07-31 11:28   1.0  ...            429.8       None\n",
              "2900  2020-07-31 11:49   1.0  ...            429.8       None\n",
              "2500  2020-07-31 12:10   1.0  ...            429.8       None\n",
              "...                ...   ...  ...              ...        ...\n",
              "0     2020-08-13 18:25   1.0  ...            338.7       None\n",
              "0     2020-08-13 19:12   1.0  ...            338.7       None\n",
              "0     2020-08-13 19:59   1.0  ...            338.7       None\n",
              "0     2020-08-13 20:46   1.0  ...            338.7       None\n",
              "0     2020-08-14 12:12   1.0  ...            176.0       None\n",
              "\n",
              "[137 rows x 11 columns]"
            ]
          },
          "metadata": {
            "tags": []
          },
          "execution_count": 46
        }
      ]
    },
    {
      "cell_type": "code",
      "metadata": {
        "id": "F56TjcILJGvX",
        "colab_type": "code",
        "colab": {
          "base_uri": "https://localhost:8080/",
          "height": 34
        },
        "outputId": "3bbab91a-4e28-4095-a8f4-028f1408e46e"
      },
      "source": [
        "MX__COL_tz = 'America/Mexico_City'\n",
        "timezone_MXCOL = timezone(MX__COL_tz) \n",
        "today_datetime = datetime.now(timezone_MXCOL)\n",
        "today = today_datetime.date()\n",
        "today"
      ],
      "execution_count": 49,
      "outputs": [
        {
          "output_type": "execute_result",
          "data": {
            "text/plain": [
              "datetime.date(2020, 8, 14)"
            ]
          },
          "metadata": {
            "tags": []
          },
          "execution_count": 49
        }
      ]
    },
    {
      "cell_type": "code",
      "metadata": {
        "id": "3vcurbvNJEYL",
        "colab_type": "code",
        "colab": {
          "base_uri": "https://localhost:8080/",
          "height": 49
        },
        "outputId": "4d35a906-0526-4a4d-992d-ca643048832e"
      },
      "source": [
        "yesterday = today - timedelta(days=1)\n",
        "rank_1_df[rank_1_df['time'] == yesterday]"
      ],
      "execution_count": 54,
      "outputs": [
        {
          "output_type": "execute_result",
          "data": {
            "text/html": [
              "<div>\n",
              "<style scoped>\n",
              "    .dataframe tbody tr th:only-of-type {\n",
              "        vertical-align: middle;\n",
              "    }\n",
              "\n",
              "    .dataframe tbody tr th {\n",
              "        vertical-align: top;\n",
              "    }\n",
              "\n",
              "    .dataframe thead th {\n",
              "        text-align: right;\n",
              "    }\n",
              "</style>\n",
              "<table border=\"1\" class=\"dataframe\">\n",
              "  <thead>\n",
              "    <tr style=\"text-align: right;\">\n",
              "      <th></th>\n",
              "      <th>time</th>\n",
              "      <th>Rank</th>\n",
              "      <th>Product Names</th>\n",
              "      <th>Image urls</th>\n",
              "      <th>Product links</th>\n",
              "      <th>Stars</th>\n",
              "      <th>Reviews</th>\n",
              "      <th>Authors/Company</th>\n",
              "      <th>Edition/Console</th>\n",
              "      <th>Price_std_or_min</th>\n",
              "      <th>Max_prices</th>\n",
              "    </tr>\n",
              "  </thead>\n",
              "  <tbody>\n",
              "  </tbody>\n",
              "</table>\n",
              "</div>"
            ],
            "text/plain": [
              "Empty DataFrame\n",
              "Columns: [time, Rank, Product Names, Image urls, Product links, Stars, Reviews, Authors/Company, Edition/Console, Price_std_or_min, Max_prices]\n",
              "Index: []"
            ]
          },
          "metadata": {
            "tags": []
          },
          "execution_count": 54
        }
      ]
    }
  ]
}