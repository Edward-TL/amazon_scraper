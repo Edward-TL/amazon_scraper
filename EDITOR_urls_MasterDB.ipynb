{
  "nbformat": 4,
  "nbformat_minor": 0,
  "metadata": {
    "colab": {
      "name": "EDITOR_urls_MasterDB.ipynb",
      "provenance": [],
      "collapsed_sections": [],
      "toc_visible": true,
      "authorship_tag": "ABX9TyN1vMCKWpv0d4c8U6AUz906",
      "include_colab_link": true
    },
    "kernelspec": {
      "name": "python3",
      "display_name": "Python 3"
    }
  },
  "cells": [
    {
      "cell_type": "markdown",
      "metadata": {
        "id": "view-in-github",
        "colab_type": "text"
      },
      "source": [
        "<a href=\"https://colab.research.google.com/github/Edward-TL/amazon_scraper/blob/master/EDITOR_urls_MasterDB.ipynb\" target=\"_parent\"><img src=\"https://colab.research.google.com/assets/colab-badge.svg\" alt=\"Open In Colab\"/></a>"
      ]
    },
    {
      "cell_type": "code",
      "metadata": {
        "id": "sE2GNmTBCP6c",
        "colab_type": "code",
        "colab": {
          "base_uri": "https://localhost:8080/",
          "height": 126
        },
        "outputId": "db596cb4-6241-4396-80bc-8ce345adbc91"
      },
      "source": [
        "from google.colab import drive\n",
        "drive.mount('/content/drive')"
      ],
      "execution_count": 9,
      "outputs": [
        {
          "output_type": "stream",
          "text": [
            "Go to this URL in a browser: https://accounts.google.com/o/oauth2/auth?client_id=947318989803-6bn6qk8qdgf4n4g3pfee6491hc0brc4i.apps.googleusercontent.com&redirect_uri=urn%3aietf%3awg%3aoauth%3a2.0%3aoob&scope=email%20https%3a%2f%2fwww.googleapis.com%2fauth%2fdocs.test%20https%3a%2f%2fwww.googleapis.com%2fauth%2fdrive%20https%3a%2f%2fwww.googleapis.com%2fauth%2fdrive.photos.readonly%20https%3a%2f%2fwww.googleapis.com%2fauth%2fpeopleapi.readonly&response_type=code\n",
            "\n",
            "Enter your authorization code:\n",
            "··········\n",
            "Mounted at /content/drive\n"
          ],
          "name": "stdout"
        }
      ]
    },
    {
      "cell_type": "markdown",
      "metadata": {
        "id": "vU1wPAprmtkz",
        "colab_type": "text"
      },
      "source": [
        "#imports"
      ]
    },
    {
      "cell_type": "code",
      "metadata": {
        "id": "tbM7-CkwCQTK",
        "colab_type": "code",
        "colab": {}
      },
      "source": [
        "#For the system\n",
        "import os\n",
        "\n",
        "#Manage of time\n",
        "from datetime import datetime, timedelta\n",
        "from pytz import timezone\n",
        "import time\n",
        "\n",
        "#Manage of files\n",
        "import pandas as pd\n",
        "import csv\n",
        "\n",
        "#scrap\n",
        "from bs4 import BeautifulSoup\n",
        "from openpyxl.workbook import Workbook\n",
        "import requests"
      ],
      "execution_count": 10,
      "outputs": []
    },
    {
      "cell_type": "code",
      "metadata": {
        "id": "h_IszAnhCP--",
        "colab_type": "code",
        "colab": {
          "base_uri": "https://localhost:8080/",
          "height": 52
        },
        "outputId": "a2a48712-a5fe-4456-8331-88a2863fde89"
      },
      "source": [
        "%cd 'drive/My Drive/Colab Notebooks/4SS/4SS_db/testing/Edition Test'\n",
        "!ls"
      ],
      "execution_count": 11,
      "outputs": [
        {
          "output_type": "stream",
          "text": [
            "/content/drive/My Drive/Colab Notebooks/4SS/4SS_db/testing/Edition Test\n",
            "br\n"
          ],
          "name": "stdout"
        }
      ]
    },
    {
      "cell_type": "markdown",
      "metadata": {
        "id": "iW0SYQlIsUTm",
        "colab_type": "text"
      },
      "source": [
        "#Centered Len"
      ]
    },
    {
      "cell_type": "code",
      "metadata": {
        "id": "spM2KsJMeRE3",
        "colab_type": "code",
        "colab": {}
      },
      "source": [
        "def centered_len(max_len):\n",
        "    def centered_string(string):\n",
        "        if type(string) != 'string':\n",
        "            string = str(string)\n",
        "            \n",
        "        rest = max_len - len(string)\n",
        "        n_spaces = int(rest/2)\n",
        "\n",
        "        string_spaces = ' ' * n_spaces\n",
        "        \n",
        "        centered_string = string_spaces + string + string_spaces\n",
        "\n",
        "        if len(centered_string)<max_len:\n",
        "            centered_string = ' ' + centered_string\n",
        "\n",
        "        return centered_string\n",
        "    return centered_string"
      ],
      "execution_count": 12,
      "outputs": []
    },
    {
      "cell_type": "markdown",
      "metadata": {
        "id": "Xdlg32IysfZV",
        "colab_type": "text"
      },
      "source": [
        "##Ubicación"
      ]
    },
    {
      "cell_type": "code",
      "metadata": {
        "id": "cjiIpdujj_4c",
        "colab_type": "code",
        "colab": {
          "base_uri": "https://localhost:8080/",
          "height": 52
        },
        "outputId": "ad707e38-1474-400d-f9b9-ff7b6cf974c2"
      },
      "source": [
        "# %cd '..'\n",
        "%cd '..'\n",
        "!ls"
      ],
      "execution_count": 24,
      "outputs": [
        {
          "output_type": "stream",
          "text": [
            "/content/drive/My Drive/Colab Notebooks/4SS/4SS_db/testing/Edition Test\n",
            "br\n"
          ],
          "name": "stdout"
        }
      ]
    },
    {
      "cell_type": "markdown",
      "metadata": {
        "id": "ASBBjQ3cr40F",
        "colab_type": "text"
      },
      "source": [
        "##Corrección de fechas y Ranking"
      ]
    },
    {
      "cell_type": "code",
      "metadata": {
        "id": "SMCxVj9tIMG1",
        "colab_type": "code",
        "colab": {}
      },
      "source": [
        "def preload_dbs(dir):\n",
        "\n",
        "    '''Recive a directory with a group of dbs and returns an info array\n",
        "    info[0] = array of DB's names\n",
        "    info[1] = largest_len_db, for centered'''\n",
        "    \n",
        "    databases = os.listdir(dir)\n",
        "    n_databases = len(databases)\n",
        "\n",
        "    #initialize\n",
        "    df = [None]*n_databases\n",
        "    largest_len_db = 0\n",
        "    n = 0\n",
        "\n",
        "    for file_name in databases:\n",
        "        db_name = f'{file_name}'\n",
        "        df[n] = db_name\n",
        "        if len(db_name) > largest_len_db:\n",
        "            largest_len_db = len(db_name)\n",
        "\n",
        "        n = n + 1\n",
        "\n",
        "    info = [df, largest_len_db]\n",
        "    return info"
      ],
      "execution_count": 43,
      "outputs": []
    },
    {
      "cell_type": "code",
      "metadata": {
        "id": "ggEKThogdU9t",
        "colab_type": "code",
        "colab": {}
      },
      "source": [
        "def print_info_headers(len: int):\n",
        "    largest_len = info[1]\n",
        "    centered_db = centered_len(largest_len_db)\n",
        "    centered_header = centered_db('masterdbs')\n",
        "    dashes = '-'*largest_len_db\n",
        "\n",
        "    print(f' {centered_header} | Edition')\n",
        "    print(f' {dashes} | ------ ')\n",
        "\n",
        "    yield centered_db, centered_header"
      ],
      "execution_count": 16,
      "outputs": []
    },
    {
      "cell_type": "code",
      "metadata": {
        "id": "4vmXNGNYoene",
        "colab_type": "code",
        "colab": {}
      },
      "source": [
        "def replace_urls_with_ids(db_to_edit):\n",
        "    #We don't need them now\n",
        "    df = pd.read_parquet(db_to_edit)\n",
        "    df.dropna(thresh=3)\n",
        "\n",
        "    #Extraction of ID's\n",
        "    df['Product ID B'] = df['Product links'].str.extract(r'(?<=dp\\/)(.+)(?=\\/ref)')\n",
        "    df['Product ID A'] = df['Product links'].str.extract(r'(?<=dp\\/)(.+)(?=\\?)')\n",
        "    \n",
        "    df['Product ID'] = df['Product ID B'].fillna(df['Product ID A'], inplace=True)\n",
        "\n",
        "    df['Image ID'] = df['Image urls'].str.extract(r'(?<=I\\/)(.*)(?=\\.jpg)')\n",
        "\n",
        "    #Drop Other columns\n",
        "    df.drop(columns=['Product links', 'Image urls'], inplace=True)\n",
        "\n",
        "    # Reorder de DF\n",
        "    df = df[['time', 'Rank', 'Product Names', 'Product ID', 'Image ID',\n",
        "            'Stars', 'Reviews', 'Authors/Company', 'Edition/Console',\n",
        "            'Price_std_or_min', 'Max_prices']]\n",
        "    \n",
        "    return df"
      ],
      "execution_count": 120,
      "outputs": []
    },
    {
      "cell_type": "code",
      "metadata": {
        "id": "UDZalxUtqYxB",
        "colab_type": "code",
        "colab": {}
      },
      "source": [
        "# @replace_urls_with_ids\n",
        "# def edit_function(db_to_edit):\n",
        "#     return"
      ],
      "execution_count": 93,
      "outputs": []
    },
    {
      "cell_type": "code",
      "metadata": {
        "id": "EVuia7TnePk8",
        "colab_type": "code",
        "colab": {}
      },
      "source": [
        "def main_edition(info):\n",
        "\n",
        "    centered_db = centered_len(info[1])\n",
        "\n",
        "    df_names = info[0]\n",
        "    \n",
        "    for n in range(len(df_names)):\n",
        "        #file name extract\n",
        "        parquet_len = len('.parquet')\n",
        "        file_name_len = len(df_names[n])-parquet_len\n",
        "        file_name = df_names[n][0:file_name_len]\n",
        "\n",
        "        #File name print to log\n",
        "        print(f' {centered_db(file_name)}', end=' | ')\n",
        "\n",
        "        #--------Edition--------\n",
        "        #Load Dataframe\n",
        "        db_to_edit = f'{dir}/{df_names[n]}'\n",
        "\n",
        "        edited_db = replace_urls_with_ids(db_to_edit)\n",
        "        #--------Upadting--------\n",
        "        #File names\n",
        "        csv_file = f'{country}/csv/{file_name}.csv'\n",
        "        excel_file = f'{country}/excel/{file_name}.xlsx'\n",
        "        parquet_file = f'{country}/parquet/{file_name}.parquet'\n",
        "        #File updating\n",
        "        edited_db.to_csv(csv_file,sep=\"|\")\n",
        "        edited_db.to_excel(excel_file, index=False)\n",
        "        edited_db.to_parquet(parquet_file, allow_truncated_timestamps=True)\n",
        "\n",
        "        print('Frutifantastico')"
      ],
      "execution_count": 117,
      "outputs": []
    },
    {
      "cell_type": "markdown",
      "metadata": {
        "id": "-QlbOPR_n78G",
        "colab_type": "text"
      },
      "source": [
        "## Deploy\n"
      ]
    },
    {
      "cell_type": "code",
      "metadata": {
        "colab_type": "code",
        "id": "RPpwgLdVr8f9",
        "colab": {
          "base_uri": "https://localhost:8080/",
          "height": 461
        },
        "outputId": "a72a71e0-2baf-4b57-cab3-b471f88a8f6b"
      },
      "source": [
        "secure = True\n",
        "\n",
        "\n",
        "if secure == True:\n",
        "    country = 'br'\n",
        "    \n",
        "    dir = f'{country}/parquet'\n",
        "\n",
        "    info = preload_dbs(dir)\n",
        "    print_info_headers(info[1])\n",
        "    main_edition(info)"
      ],
      "execution_count": 119,
      "outputs": [
        {
          "output_type": "stream",
          "text": [
            "        Copy of br-master_db_videogames       | Frutifantastico\n",
            "           Copy of br-master_db_toys          | Frutifantastico\n",
            "          Copy of br-master_db_sports         | Frutifantastico\n",
            "       Copy of br-master_db_pet-products      | Frutifantastico\n",
            "          Copy of br-master_db_office         | Frutifantastico\n",
            "          Copy of br-master_db_music          | Frutifantastico\n",
            "       Copy of br-master_db_mobile-apps       | Frutifantastico\n",
            "     Copy of br-master_db_lawn-and-garden     | Frutifantastico\n",
            "         Copy of br-master_db_kitchen         | Frutifantastico\n",
            "           Copy of br-master_db_hpc           | Frutifantastico\n",
            "           Copy of br-master_db_home          | Frutifantastico\n",
            "            Copy of br-master_db_hi           | Frutifantastico\n",
            "         Copy of br-master_db_grocery         | Frutifantastico\n",
            "        Copy of br-master_db_furniture        | Frutifantastico\n",
            "         Copy of br-master_db_fashion         | Frutifantastico\n",
            "       Copy of br-master_db_electronics       | Frutifantastico\n",
            "           Copy of br-master_db_dvd           | Frutifantastico\n",
            "       Copy of br-master_db_digital-text      | Frutifantastico\n",
            "        Copy of br-master_db_computers        | Frutifantastico\n",
            "          Copy of br-master_db_books          | Frutifantastico\n",
            "          Copy of br-master_db_beauty         | Frutifantastico\n",
            "      Copy of br-master_db_baby-products      | Frutifantastico\n",
            "        Copy of br-master_db_automotive       | Frutifantastico\n",
            "        Copy of br-master_db_appliances       | Frutifantastico\n",
            "      Copy of br-master_db_amazon-devices     | Frutifantastico\n"
          ],
          "name": "stdout"
        }
      ]
    },
    {
      "cell_type": "code",
      "metadata": {
        "id": "AmOaL_RLLKj-",
        "colab_type": "code",
        "colab": {}
      },
      "source": [
        "def centered_len(max_len):\n",
        "    def centered_string(string):\n",
        "        if type(string) != 'string':\n",
        "            string = str(string)\n",
        "            \n",
        "        rest = max_len - len(string)\n",
        "        n_spaces = int(rest/2)\n",
        "\n",
        "        string_spaces = ' ' * n_spaces\n",
        "        \n",
        "        centered_string = string_spaces + string + string_spaces\n",
        "\n",
        "        if len(centered_string)<max_len:\n",
        "            centered_string = ' ' + centered_string\n",
        "\n",
        "        return centered_string\n",
        "    return centered_string"
      ],
      "execution_count": null,
      "outputs": []
    },
    {
      "cell_type": "code",
      "metadata": {
        "id": "vEctUyZylWEZ",
        "colab_type": "code",
        "colab": {}
      },
      "source": [
        ""
      ],
      "execution_count": null,
      "outputs": []
    },
    {
      "cell_type": "code",
      "metadata": {
        "id": "WfBNHU413ttU",
        "colab_type": "code",
        "colab": {}
      },
      "source": [
        ""
      ],
      "execution_count": null,
      "outputs": []
    },
    {
      "cell_type": "code",
      "metadata": {
        "id": "2uoIPxko3tmg",
        "colab_type": "code",
        "colab": {}
      },
      "source": [
        ""
      ],
      "execution_count": null,
      "outputs": []
    },
    {
      "cell_type": "code",
      "metadata": {
        "id": "UfP0lh6C3tiL",
        "colab_type": "code",
        "colab": {}
      },
      "source": [
        ""
      ],
      "execution_count": null,
      "outputs": []
    },
    {
      "cell_type": "code",
      "metadata": {
        "id": "6QKKKMr93tah",
        "colab_type": "code",
        "colab": {}
      },
      "source": [
        ""
      ],
      "execution_count": null,
      "outputs": []
    },
    {
      "cell_type": "code",
      "metadata": {
        "id": "CGzFLZbq3tTn",
        "colab_type": "code",
        "colab": {}
      },
      "source": [
        ""
      ],
      "execution_count": null,
      "outputs": []
    }
  ]
}