{
  "nbformat": 4,
  "nbformat_minor": 0,
  "metadata": {
    "colab": {
      "name": "EDITOR_urls_MasterDB.ipynb",
      "provenance": [],
      "collapsed_sections": [],
      "toc_visible": true,
      "authorship_tag": "ABX9TyP8YIHNEB4NjvCkqR0tcYjI",
      "include_colab_link": true
    },
    "kernelspec": {
      "name": "python3",
      "display_name": "Python 3"
    }
  },
  "cells": [
    {
      "cell_type": "markdown",
      "metadata": {
        "id": "view-in-github",
        "colab_type": "text"
      },
      "source": [
        "<a href=\"https://colab.research.google.com/github/Edward-TL/amazon_scraper/blob/master/EDITOR_urls_MasterDB.ipynb\" target=\"_parent\"><img src=\"https://colab.research.google.com/assets/colab-badge.svg\" alt=\"Open In Colab\"/></a>"
      ]
    },
    {
      "cell_type": "code",
      "metadata": {
        "id": "sE2GNmTBCP6c",
        "colab_type": "code",
        "colab": {
          "base_uri": "https://localhost:8080/",
          "height": 35
        },
        "outputId": "045c5fc7-ddf7-466d-b90c-7c2d0c3b872e"
      },
      "source": [
        "from google.colab import drive\n",
        "drive.mount('/content/drive')"
      ],
      "execution_count": 1,
      "outputs": [
        {
          "output_type": "stream",
          "text": [
            "Drive already mounted at /content/drive; to attempt to forcibly remount, call drive.mount(\"/content/drive\", force_remount=True).\n"
          ],
          "name": "stdout"
        }
      ]
    },
    {
      "cell_type": "markdown",
      "metadata": {
        "id": "vU1wPAprmtkz",
        "colab_type": "text"
      },
      "source": [
        "#imports"
      ]
    },
    {
      "cell_type": "code",
      "metadata": {
        "id": "tbM7-CkwCQTK",
        "colab_type": "code",
        "colab": {}
      },
      "source": [
        "#For the system\n",
        "import os\n",
        "\n",
        "#Manage of time\n",
        "from datetime import datetime, timedelta\n",
        "from pytz import timezone\n",
        "import time\n",
        "import re\n",
        "\n",
        "#Manage of files\n",
        "import pandas as pd\n",
        "import csv\n",
        "\n",
        "#scrap\n",
        "from bs4 import BeautifulSoup\n",
        "from openpyxl.workbook import Workbook\n",
        "import requests"
      ],
      "execution_count": 2,
      "outputs": []
    },
    {
      "cell_type": "code",
      "metadata": {
        "id": "h_IszAnhCP--",
        "colab_type": "code",
        "colab": {
          "base_uri": "https://localhost:8080/",
          "height": 52
        },
        "outputId": "8896eae2-d9ca-4397-c455-c25f74d1d2de"
      },
      "source": [
        "%cd 'drive/My Drive/Colab Notebooks/4SS/4SS_db/testing/Edition Test'\n",
        "!ls"
      ],
      "execution_count": 3,
      "outputs": [
        {
          "output_type": "stream",
          "text": [
            "/content/drive/My Drive/Colab Notebooks/4SS/4SS_db/testing/Edition Test\n",
            "br\n"
          ],
          "name": "stdout"
        }
      ]
    },
    {
      "cell_type": "markdown",
      "metadata": {
        "id": "iW0SYQlIsUTm",
        "colab_type": "text"
      },
      "source": [
        "#Centered Len"
      ]
    },
    {
      "cell_type": "code",
      "metadata": {
        "id": "spM2KsJMeRE3",
        "colab_type": "code",
        "colab": {}
      },
      "source": [
        "def centered_len(max_len):\n",
        "    def centered_string(string):\n",
        "        if type(string) != 'string':\n",
        "            string = str(string)\n",
        "            \n",
        "        rest = max_len - len(string)\n",
        "        n_spaces = int(rest/2)\n",
        "\n",
        "        string_spaces = ' ' * n_spaces\n",
        "        \n",
        "        centered_string = string_spaces + string + string_spaces\n",
        "\n",
        "        if len(centered_string)<max_len:\n",
        "            centered_string = ' ' + centered_string\n",
        "\n",
        "        return centered_string\n",
        "    return centered_string"
      ],
      "execution_count": 4,
      "outputs": []
    },
    {
      "cell_type": "markdown",
      "metadata": {
        "id": "Xdlg32IysfZV",
        "colab_type": "text"
      },
      "source": [
        "##Ubicación"
      ]
    },
    {
      "cell_type": "code",
      "metadata": {
        "id": "cjiIpdujj_4c",
        "colab_type": "code",
        "colab": {
          "base_uri": "https://localhost:8080/",
          "height": 70
        },
        "outputId": "e456cee6-37b9-4ce7-82b1-9440cb961aa4"
      },
      "source": [
        "%cd '..'\n",
        "%cd 'Masters'\n",
        "!ls"
      ],
      "execution_count": 12,
      "outputs": [
        {
          "output_type": "stream",
          "text": [
            "/content/drive/My Drive/Colab Notebooks/4SS/4SS_db/testing\n",
            "/content/drive/My Drive/Colab Notebooks/4SS/4SS_db/testing/Masters\n",
            "br  master_db_logs.csv\tmx\n"
          ],
          "name": "stdout"
        }
      ]
    },
    {
      "cell_type": "markdown",
      "metadata": {
        "id": "ASBBjQ3cr40F",
        "colab_type": "text"
      },
      "source": [
        "##Corrección de fechas y Ranking"
      ]
    },
    {
      "cell_type": "code",
      "metadata": {
        "id": "SMCxVj9tIMG1",
        "colab_type": "code",
        "colab": {}
      },
      "source": [
        "def preload_dbs(dir):\n",
        "\n",
        "    '''Recive a directory with a group of dbs and returns an info array\n",
        "    info[0] = array of DB's names\n",
        "    info[1] = largest_len_db, for centered'''\n",
        "    \n",
        "    databases = os.listdir(dir)\n",
        "    n_databases = len(databases)\n",
        "\n",
        "    #initialize\n",
        "    df = [None]*n_databases\n",
        "    largest_len_db = 0\n",
        "    n = 0\n",
        "\n",
        "    for file_name in databases:\n",
        "        db_name = f'{file_name}'\n",
        "        df[n] = db_name\n",
        "        if len(db_name) > largest_len_db:\n",
        "            largest_len_db = len(db_name)\n",
        "\n",
        "        n = n + 1\n",
        "\n",
        "    info = [df, largest_len_db]\n",
        "    return info"
      ],
      "execution_count": 6,
      "outputs": []
    },
    {
      "cell_type": "code",
      "metadata": {
        "id": "ggEKThogdU9t",
        "colab_type": "code",
        "colab": {}
      },
      "source": [
        "def print_info_headers(len: int):\n",
        "    largest_len = info[1]\n",
        "    centered_db = centered_len(largest_len)\n",
        "    centered_header = centered_db('masterdbs')\n",
        "    dashes = '-'*largest_len\n",
        "\n",
        "    print(f' country | {centered_header}  | Edition')\n",
        "    print(f' ------- | {dashes} | ------ ')"
      ],
      "execution_count": 7,
      "outputs": []
    },
    {
      "cell_type": "code",
      "metadata": {
        "id": "4vmXNGNYoene",
        "colab_type": "code",
        "colab": {}
      },
      "source": [
        "def replace_urls_with_ids(db_to_edit):\n",
        "    #We don't need them now\n",
        "    df = pd.read_parquet(db_to_edit)\n",
        "    df.dropna(thresh=3)\n",
        "\n",
        "    #Extraction of ID's\n",
        "    df['Product ID B'] = df['Product links'].str.extract(r'(?<=dp\\/)(.+)(?=\\/ref)')\n",
        "    df['Product ID A'] = df['Product links'].str.extract(r'(?<=dp\\/)(.+)(?=\\?)')\n",
        "    \n",
        "    df['Product ID B'].fillna(df['Product ID A'], inplace=True)\n",
        "\n",
        "    df['Product ID'] = df['Product ID B']\n",
        "\n",
        "    df['Image ID'] = df['Image urls'].str.extract(r'(?<=I\\/)(.*)(?=\\.jpg)')\n",
        "\n",
        "    #Drop Other columns\n",
        "    df.drop(columns=['Product links', 'Image urls'], inplace=True)\n",
        "\n",
        "    # Reorder de DF\n",
        "    df = df[['time', 'Rank', 'Product Names', 'Product ID', 'Image ID',\n",
        "            'Stars', 'Reviews', 'Authors/Company', 'Edition/Console',\n",
        "            'Price_std_or_min', 'Max_prices']]\n",
        "    \n",
        "    return df"
      ],
      "execution_count": 14,
      "outputs": []
    },
    {
      "cell_type": "code",
      "metadata": {
        "id": "UDZalxUtqYxB",
        "colab_type": "code",
        "colab": {}
      },
      "source": [
        "# @replace_urls_with_ids\n",
        "# def edit_function(db_to_edit):\n",
        "#     return"
      ],
      "execution_count": 9,
      "outputs": []
    },
    {
      "cell_type": "code",
      "metadata": {
        "id": "EVuia7TnePk8",
        "colab_type": "code",
        "colab": {}
      },
      "source": [
        "def main_edition(info, country=None):\n",
        "\n",
        "    centered_db = centered_len(info[1])\n",
        "\n",
        "    df_names = info[0]\n",
        "    \n",
        "    for n in range(len(df_names)):\n",
        "\n",
        "        if country:\n",
        "            print(f'   {country}   ', end=' | ')\n",
        "\n",
        "        #file name extract\n",
        "        parquet_len = len('.parquet')\n",
        "        file_name_len = len(df_names[n])-parquet_len\n",
        "        file_name = df_names[n][0:file_name_len]\n",
        "\n",
        "        #File name print to log\n",
        "        print(f' {centered_db(file_name)}', end=' | ')\n",
        "\n",
        "        #--------Edition--------\n",
        "        #Load Dataframe\n",
        "        db_to_edit = f'{dir}/{df_names[n]}'\n",
        "\n",
        "        edited_db = replace_urls_with_ids(db_to_edit)\n",
        "        #--------Upadting--------\n",
        "        #File names\n",
        "        csv_file = f'{country}/csv/{file_name}.csv'\n",
        "        excel_file = f'{country}/excel/{file_name}.xlsx'\n",
        "        parquet_file = f'{country}/parquet/{file_name}.parquet'\n",
        "        #File updating\n",
        "        edited_db.to_csv(csv_file,sep=\"|\")\n",
        "        edited_db.to_excel(excel_file, index=False)\n",
        "        edited_db.to_parquet(parquet_file, allow_truncated_timestamps=True)\n",
        "\n",
        "        print('Done')"
      ],
      "execution_count": 10,
      "outputs": []
    },
    {
      "cell_type": "markdown",
      "metadata": {
        "id": "-QlbOPR_n78G",
        "colab_type": "text"
      },
      "source": [
        "## Deploy\n"
      ]
    },
    {
      "cell_type": "code",
      "metadata": {
        "colab_type": "code",
        "id": "RPpwgLdVr8f9",
        "colab": {
          "base_uri": "https://localhost:8080/",
          "height": 924
        },
        "outputId": "c65cc8ab-a970-4558-ce6d-00db21389b63"
      },
      "source": [
        "secure = True\n",
        "\n",
        "if secure == True:\n",
        "    countries = ['mx', 'br']\n",
        "\n",
        "    for country in countries:\n",
        "        dir = f'{country}/parquet'\n",
        "        info = preload_dbs(dir)\n",
        "        print_info_headers(info[1])\n",
        "        main_edition(info, country)"
      ],
      "execution_count": 15,
      "outputs": [
        {
          "output_type": "stream",
          "text": [
            " country |                 masterdbs                 | Edition\n",
            " ------- | ---------------------------------------- | ------ \n",
            "   mx    |            mx-master_db_handmade          | Done\n",
            "   mx    |              mx-master_db_hpc             | Done\n",
            "   mx    |            mx-master_db_grocery           | Done\n",
            "   mx    |          mx-master_db_electronics         | Done\n",
            "   mx    |              mx-master_db_dvd             | Done\n",
            "   mx    |          mx-master_db_digital-text        | Done\n",
            "   mx    |             mx-master_db_books            | Done\n",
            "   mx    |              mx-master_db_baby            | Done\n",
            "   mx    |           mx-master_db_automotive         | Done\n",
            "   mx    |         mx-master_db_amazon-devices       | Done\n",
            "   mx    |            mx-master_db_kitchen           | Done\n",
            "   mx    |           mx-master_db_industrial         | Done\n",
            "   mx    |           mx-master_db_videogames         | Done\n",
            "   mx    |              mx-master_db_toys            | Done\n",
            "   mx    |             mx-master_db_tools            | Done\n",
            "   mx    |             mx-master_db_sports           | Done\n",
            "   mx    |            mx-master_db_software          | Done\n",
            "   mx    |          mx-master_db_pet-supplies        | Done\n",
            "   mx    |             mx-master_db_shoes            | Done\n",
            "   mx    |         mx-master_db_officeproduct        | Done\n",
            "   mx    |      mx-master_db_musical-instruments     | Done\n",
            "   mx    |             mx-master_db_music            | Done\n",
            " country |               masterdbs               | Edition\n",
            " ------- | ------------------------------------ | ------ \n",
            "   br    |            br-master_db_home          | Done\n",
            "   br    |          br-master_db_grocery         | Done\n",
            "   br    |         br-master_db_furniture        | Done\n",
            "   br    |             br-master_db_hi           | Done\n",
            "   br    |          br-master_db_fashion         | Done\n",
            "   br    |         br-master_db_computers        | Done\n",
            "   br    |           br-master_db_books          | Done\n",
            "   br    |        br-master_db_electronics       | Done\n",
            "   br    |            br-master_db_dvd           | Done\n",
            "   br    |           br-master_db_beauty         | Done\n",
            "   br    |       br-master_db_baby-products      | Done\n",
            "   br    |         br-master_db_automotive       | Done\n",
            "   br    |        br-master_db_digital-text      | Done\n",
            "   br    |         br-master_db_appliances       | Done\n",
            "   br    |       br-master_db_amazon-devices     | Done\n",
            "   br    |         br-master_db_videogames       | Done\n",
            "   br    |           br-master_db_music          | Done\n",
            "   br    |            br-master_db_toys          | Done\n",
            "   br    |        br-master_db_mobile-apps       | Done\n",
            "   br    |      br-master_db_lawn-and-garden     | Done\n",
            "   br    |           br-master_db_sports         | Done\n",
            "   br    |        br-master_db_pet-products      | Done\n",
            "   br    |          br-master_db_kitchen         | Done\n",
            "   br    |           br-master_db_office         | Done\n",
            "   br    |            br-master_db_hpc           | Done\n"
          ],
          "name": "stdout"
        }
      ]
    },
    {
      "cell_type": "code",
      "metadata": {
        "id": "AmOaL_RLLKj-",
        "colab_type": "code",
        "colab": {}
      },
      "source": [
        "def centered_len(max_len):\n",
        "    def centered_string(string):\n",
        "        if type(string) != 'string':\n",
        "            string = str(string)\n",
        "            \n",
        "        rest = max_len - len(string)\n",
        "        n_spaces = int(rest/2)\n",
        "\n",
        "        string_spaces = ' ' * n_spaces\n",
        "        \n",
        "        centered_string = string_spaces + string + string_spaces\n",
        "\n",
        "        if len(centered_string)<max_len:\n",
        "            centered_string = ' ' + centered_string\n",
        "\n",
        "        return centered_string\n",
        "    return centered_string"
      ],
      "execution_count": null,
      "outputs": []
    },
    {
      "cell_type": "code",
      "metadata": {
        "id": "vEctUyZylWEZ",
        "colab_type": "code",
        "colab": {}
      },
      "source": [
        ""
      ],
      "execution_count": null,
      "outputs": []
    },
    {
      "cell_type": "code",
      "metadata": {
        "id": "WfBNHU413ttU",
        "colab_type": "code",
        "colab": {}
      },
      "source": [
        ""
      ],
      "execution_count": null,
      "outputs": []
    },
    {
      "cell_type": "code",
      "metadata": {
        "id": "2uoIPxko3tmg",
        "colab_type": "code",
        "colab": {}
      },
      "source": [
        ""
      ],
      "execution_count": null,
      "outputs": []
    },
    {
      "cell_type": "code",
      "metadata": {
        "id": "UfP0lh6C3tiL",
        "colab_type": "code",
        "colab": {}
      },
      "source": [
        ""
      ],
      "execution_count": null,
      "outputs": []
    },
    {
      "cell_type": "code",
      "metadata": {
        "id": "6QKKKMr93tah",
        "colab_type": "code",
        "colab": {}
      },
      "source": [
        ""
      ],
      "execution_count": null,
      "outputs": []
    },
    {
      "cell_type": "code",
      "metadata": {
        "id": "CGzFLZbq3tTn",
        "colab_type": "code",
        "colab": {}
      },
      "source": [
        ""
      ],
      "execution_count": null,
      "outputs": []
    }
  ]
}