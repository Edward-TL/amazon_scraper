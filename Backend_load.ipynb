{
  "nbformat": 4,
  "nbformat_minor": 0,
  "metadata": {
    "colab": {
      "name": "Backend load.ipynb",
      "provenance": [],
      "collapsed_sections": [],
      "authorship_tag": "ABX9TyNlwBUkXK4i5tpZyUNbjwvf",
      "include_colab_link": true
    },
    "kernelspec": {
      "name": "python3",
      "display_name": "Python 3"
    }
  },
  "cells": [
    {
      "cell_type": "markdown",
      "metadata": {
        "id": "view-in-github",
        "colab_type": "text"
      },
      "source": [
        "<a href=\"https://colab.research.google.com/github/Edward-TL/amazon_scraper/blob/master/Backend_load.ipynb\" target=\"_parent\"><img src=\"https://colab.research.google.com/assets/colab-badge.svg\" alt=\"Open In Colab\"/></a>"
      ]
    },
    {
      "cell_type": "code",
      "metadata": {
        "id": "jjQXqM8rU-Qk",
        "colab_type": "code",
        "colab": {}
      },
      "source": [
        "import requests\n",
        "\n",
        "url = 'http://34.95.224.171/api'\n",
        "json = { 'query' : 'mutation { getProducts { name } }' }\n",
        "\n",
        "# r = requests.post(url=url, json=json)\n",
        "# print (r.text)"
      ],
      "execution_count": 1,
      "outputs": []
    },
    {
      "cell_type": "code",
      "metadata": {
        "id": "eBYGoHB23sPW",
        "colab_type": "code",
        "colab": {
          "base_uri": "https://localhost:8080/",
          "height": 125
        },
        "outputId": "ccf8fea6-7afe-49dd-8da1-c26a64a29ec7"
      },
      "source": [
        "from google.colab import drive\n",
        "drive.mount('/content/drive')"
      ],
      "execution_count": 2,
      "outputs": [
        {
          "output_type": "stream",
          "text": [
            "Go to this URL in a browser: https://accounts.google.com/o/oauth2/auth?client_id=947318989803-6bn6qk8qdgf4n4g3pfee6491hc0brc4i.apps.googleusercontent.com&redirect_uri=urn%3aietf%3awg%3aoauth%3a2.0%3aoob&scope=email%20https%3a%2f%2fwww.googleapis.com%2fauth%2fdocs.test%20https%3a%2f%2fwww.googleapis.com%2fauth%2fdrive%20https%3a%2f%2fwww.googleapis.com%2fauth%2fdrive.photos.readonly%20https%3a%2f%2fwww.googleapis.com%2fauth%2fpeopleapi.readonly&response_type=code\n",
            "\n",
            "Enter your authorization code:\n",
            "4/4AGQJe94JhIHOLc1FksDF2x4yKVysgE4xmUCNpsacFU9m11YTPggldM\n",
            "Mounted at /content/drive\n"
          ],
          "name": "stdout"
        }
      ]
    },
    {
      "cell_type": "code",
      "metadata": {
        "id": "si7GO3fD4QpV",
        "colab_type": "code",
        "colab": {}
      },
      "source": [
        "#For the system\n",
        "import os\n",
        "import progressbar\n",
        "from tabulate import tabulate\n",
        "\n",
        "#Manage of time\n",
        "from datetime import datetime, timedelta\n",
        "from pytz import timezone\n",
        "import time\n",
        "import re\n",
        "\n",
        "#Manage of files\n",
        "import pandas as pd\n",
        "import csv\n",
        "\n",
        "#scrap\n",
        "from bs4 import BeautifulSoup\n",
        "from openpyxl.workbook import Workbook\n",
        "import requests"
      ],
      "execution_count": 3,
      "outputs": []
    },
    {
      "cell_type": "code",
      "metadata": {
        "id": "EOkqJ-HD4TMJ",
        "colab_type": "code",
        "colab": {
          "base_uri": "https://localhost:8080/",
          "height": 52
        },
        "outputId": "1496a6cb-db79-4a2d-c8b7-08bf0a248f94"
      },
      "source": [
        "%cd 'drive/My Drive/Colab Notebooks/4SS/4SS_db/testing/'\n",
        "!ls"
      ],
      "execution_count": 4,
      "outputs": [
        {
          "output_type": "stream",
          "text": [
            "/content/drive/My Drive/Colab Notebooks/4SS/4SS_db/testing\n",
            "'Day Update'  'Edition Test'  'links amazon.gdoc'   Masters   Origin   Products\n"
          ],
          "name": "stdout"
        }
      ]
    },
    {
      "cell_type": "code",
      "metadata": {
        "id": "wZbZKSqXjoL9",
        "colab_type": "code",
        "colab": {
          "base_uri": "https://localhost:8080/",
          "height": 230
        },
        "outputId": "5b14e1e8-32ba-4a17-a2bb-c33534712374"
      },
      "source": [
        "%cd 'Products/mx/parquet'\n",
        "!ls"
      ],
      "execution_count": 6,
      "outputs": [
        {
          "output_type": "stream",
          "text": [
            "/content/drive/My Drive/Colab Notebooks/4SS/4SS_db/testing/Products/mx/parquet\n",
            "mx-master_db_amazon-devices.parquet  mx-master_db_kitchen.parquet\n",
            "mx-master_db_automotive.parquet      mx-master_db_musical-instruments.parquet\n",
            "mx-master_db_baby.parquet\t     mx-master_db_music.parquet\n",
            "mx-master_db_books.parquet\t     mx-master_db_officeproduct.parquet\n",
            "mx-master_db_digital-text.parquet    mx-master_db_pet-supplies.parquet\n",
            "mx-master_db_dvd.parquet\t     mx-master_db_shoes.parquet\n",
            "mx-master_db_electronics.parquet     mx-master_db_software.parquet\n",
            "mx-master_db_grocery.parquet\t     mx-master_db_sports.parquet\n",
            "mx-master_db_handmade.parquet\t     mx-master_db_tools.parquet\n",
            "mx-master_db_hpc.parquet\t     mx-master_db_toys.parquet\n",
            "mx-master_db_industrial.parquet      mx-master_db_videogames.parquet\n"
          ],
          "name": "stdout"
        }
      ]
    },
    {
      "cell_type": "code",
      "metadata": {
        "id": "QPOmjeUrkFkS",
        "colab_type": "code",
        "colab": {
          "base_uri": "https://localhost:8080/",
          "height": 406
        },
        "outputId": "6f5df5bc-cc90-42fe-d62e-e35cb8f3eaa3"
      },
      "source": [
        "df = pd.read_parquet('mx-master_db_amazon-devices.parquet')\n",
        "df.drop(columns=['Image ID (product page)', 'Product Description', ' Product Bullets', 'Principal Review - Title', 'Principal Review - Body', 'Principal Review - Stars'], inplace=True)\n",
        "df"
      ],
      "execution_count": 58,
      "outputs": [
        {
          "output_type": "execute_result",
          "data": {
            "text/html": [
              "<div>\n",
              "<style scoped>\n",
              "    .dataframe tbody tr th:only-of-type {\n",
              "        vertical-align: middle;\n",
              "    }\n",
              "\n",
              "    .dataframe tbody tr th {\n",
              "        vertical-align: top;\n",
              "    }\n",
              "\n",
              "    .dataframe thead th {\n",
              "        text-align: right;\n",
              "    }\n",
              "</style>\n",
              "<table border=\"1\" class=\"dataframe\">\n",
              "  <thead>\n",
              "    <tr style=\"text-align: right;\">\n",
              "      <th></th>\n",
              "      <th>Product Name</th>\n",
              "      <th>Product ID</th>\n",
              "      <th>Image ID (ranking page)</th>\n",
              "      <th>Last Update</th>\n",
              "      <th>Last Rank Position</th>\n",
              "      <th>Last Stars Rate</th>\n",
              "      <th>Last n_Reviews</th>\n",
              "      <th>Last Price</th>\n",
              "      <th>Last Max Price</th>\n",
              "    </tr>\n",
              "  </thead>\n",
              "  <tbody>\n",
              "    <tr>\n",
              "      <th>0</th>\n",
              "      <td>Funda de piel Amazon para Kindle Paperwhite, c...</td>\n",
              "      <td>B008BQH3CS</td>\n",
              "      <td>91TyJ2-NxXL._AC_UL200_SR200,200_</td>\n",
              "      <td>2020-08-27 23:53</td>\n",
              "      <td>25.0</td>\n",
              "      <td>4.8</td>\n",
              "      <td>26167.0</td>\n",
              "      <td>699.00</td>\n",
              "      <td>NaN</td>\n",
              "    </tr>\n",
              "    <tr>\n",
              "      <th>1</th>\n",
              "      <td>Nuevo Kindle Oasis, ahora con luz cálida ajust...</td>\n",
              "      <td>B07L57H5X4</td>\n",
              "      <td>51fKKv-LXxL._AC_UL200_SR200,200_</td>\n",
              "      <td>2020-09-01 20:43</td>\n",
              "      <td>15.0</td>\n",
              "      <td>4.7</td>\n",
              "      <td>284.0</td>\n",
              "      <td>5649.00</td>\n",
              "      <td>NaN</td>\n",
              "    </tr>\n",
              "    <tr>\n",
              "      <th>2</th>\n",
              "      <td>Echo (2da Generación) - Bocina inteligente con...</td>\n",
              "      <td>B07CH6H6BG</td>\n",
              "      <td>614L-pbd7mL._AC_UL200_SR200,200_</td>\n",
              "      <td>2020-09-01 20:43</td>\n",
              "      <td>26.0</td>\n",
              "      <td>4.7</td>\n",
              "      <td>1773.0</td>\n",
              "      <td>NaN</td>\n",
              "      <td>NaN</td>\n",
              "    </tr>\n",
              "    <tr>\n",
              "      <th>3</th>\n",
              "      <td>Funda protectora de piel Amazon para Kindle (7...</td>\n",
              "      <td>B00KRM8RS8</td>\n",
              "      <td>91VsiSKdjhL._AC_UL200_SR200,200_</td>\n",
              "      <td>2020-08-27 23:53</td>\n",
              "      <td>47.0</td>\n",
              "      <td>3.9</td>\n",
              "      <td>510.0</td>\n",
              "      <td>699.00</td>\n",
              "      <td>NaN</td>\n",
              "    </tr>\n",
              "    <tr>\n",
              "      <th>4</th>\n",
              "      <td>Presentamos Ring Indoor Cam, cámara de segurid...</td>\n",
              "      <td>B07Q621FZ8</td>\n",
              "      <td>71EEMUhwy9L._AC_UL200_SR200,200_</td>\n",
              "      <td>2020-09-01 20:43</td>\n",
              "      <td>32.0</td>\n",
              "      <td>4.7</td>\n",
              "      <td>15.0</td>\n",
              "      <td>NaN</td>\n",
              "      <td>NaN</td>\n",
              "    </tr>\n",
              "    <tr>\n",
              "      <th>...</th>\n",
              "      <td>...</td>\n",
              "      <td>...</td>\n",
              "      <td>...</td>\n",
              "      <td>...</td>\n",
              "      <td>...</td>\n",
              "      <td>...</td>\n",
              "      <td>...</td>\n",
              "      <td>...</td>\n",
              "      <td>...</td>\n",
              "    </tr>\n",
              "    <tr>\n",
              "      <th>61</th>\n",
              "      <td>kwmobile - Funda para Kindle Paperwhite (piel ...</td>\n",
              "      <td>B07L4YQV5Z</td>\n",
              "      <td>81hjgZCWJXL._AC_UL200_SR200,200_</td>\n",
              "      <td>2020-09-01 20:43</td>\n",
              "      <td>50.0</td>\n",
              "      <td>NaN</td>\n",
              "      <td>NaN</td>\n",
              "      <td>NaN</td>\n",
              "      <td>NaN</td>\n",
              "    </tr>\n",
              "    <tr>\n",
              "      <th>62</th>\n",
              "      <td>Cubierta estampada para Kindle - Biblioteca (K...</td>\n",
              "      <td>B0863G34G4</td>\n",
              "      <td>81N7xN400EL._AC_UL200_SR200,200_</td>\n",
              "      <td>2020-09-01 20:43</td>\n",
              "      <td>20.0</td>\n",
              "      <td>5.0</td>\n",
              "      <td>6.0</td>\n",
              "      <td>529.99</td>\n",
              "      <td>NaN</td>\n",
              "    </tr>\n",
              "    <tr>\n",
              "      <th>63</th>\n",
              "      <td>Echo Dot (3ra generación) - Bocina inteligente...</td>\n",
              "      <td>B07WLSQMHF</td>\n",
              "      <td>61V25P7mlyL._AC_UL200_SR200,200_</td>\n",
              "      <td>2020-09-01 20:43</td>\n",
              "      <td>1.0</td>\n",
              "      <td>4.8</td>\n",
              "      <td>33548.0</td>\n",
              "      <td>849.00</td>\n",
              "      <td>1499.00</td>\n",
              "    </tr>\n",
              "    <tr>\n",
              "      <th>64</th>\n",
              "      <td>Ozeri Kandle - Luz LED de Lectura para Libros ...</td>\n",
              "      <td>B004P7CEBC</td>\n",
              "      <td>61yqZis9RFL._AC_UL200_SR200,200_</td>\n",
              "      <td>2020-09-01 20:43</td>\n",
              "      <td>47.0</td>\n",
              "      <td>3.6</td>\n",
              "      <td>324.0</td>\n",
              "      <td>370.02</td>\n",
              "      <td>450.12</td>\n",
              "    </tr>\n",
              "    <tr>\n",
              "      <th>65</th>\n",
              "      <td>Echo Plus (2da generación) - Sonido de alta ca...</td>\n",
              "      <td>B07CNW67ND</td>\n",
              "      <td>61xX00S2ECL._AC_UL200_SR200,200_</td>\n",
              "      <td>2020-08-26 22:44</td>\n",
              "      <td>17.0</td>\n",
              "      <td>4.8</td>\n",
              "      <td>1538.0</td>\n",
              "      <td>3299.00</td>\n",
              "      <td>NaN</td>\n",
              "    </tr>\n",
              "  </tbody>\n",
              "</table>\n",
              "<p>66 rows × 9 columns</p>\n",
              "</div>"
            ],
            "text/plain": [
              "                                         Product Name  ... Last Max Price\n",
              "0   Funda de piel Amazon para Kindle Paperwhite, c...  ...            NaN\n",
              "1   Nuevo Kindle Oasis, ahora con luz cálida ajust...  ...            NaN\n",
              "2   Echo (2da Generación) - Bocina inteligente con...  ...            NaN\n",
              "3   Funda protectora de piel Amazon para Kindle (7...  ...            NaN\n",
              "4   Presentamos Ring Indoor Cam, cámara de segurid...  ...            NaN\n",
              "..                                                ...  ...            ...\n",
              "61  kwmobile - Funda para Kindle Paperwhite (piel ...  ...            NaN\n",
              "62  Cubierta estampada para Kindle - Biblioteca (K...  ...            NaN\n",
              "63  Echo Dot (3ra generación) - Bocina inteligente...  ...        1499.00\n",
              "64  Ozeri Kandle - Luz LED de Lectura para Libros ...  ...         450.12\n",
              "65  Echo Plus (2da generación) - Sonido de alta ca...  ...            NaN\n",
              "\n",
              "[66 rows x 9 columns]"
            ]
          },
          "metadata": {
            "tags": []
          },
          "execution_count": 58
        }
      ]
    },
    {
      "cell_type": "code",
      "metadata": {
        "id": "UHQONluurLWV",
        "colab_type": "code",
        "colab": {}
      },
      "source": [
        "countries = ['mx', 'br']"
      ],
      "execution_count": 9,
      "outputs": []
    },
    {
      "cell_type": "code",
      "metadata": {
        "id": "SnBNciz2k_gV",
        "colab_type": "code",
        "colab": {}
      },
      "source": [
        "#On the file\n",
        "product_name = df['Product Names'].to_list()\n",
        "date = df['time'].to_list()\n",
        "rank = df['Rank'].to_list()\n",
        "stars = df['Stars'].to_list()\n",
        "reviews = df['Reviews'].to_list()\n",
        "price = df['Price_std_or_min'].to_list()\n",
        "max_price = df['Max_prices'].to_list()\n",
        "\n",
        "#images ID to URL\n",
        "image_id = df['Image ID'].to_list()\n",
        "image_url = [f'https://images-na.ssl-images-amazon.com/images/I/{img_id}.jpg' for img_id in image_id]\n",
        "\n",
        "#Static and quasi-static properties\n",
        "store = 'Amazon'\n",
        "\n",
        "#Country\n",
        "country = countries[0]\n",
        "country = country\n",
        "\n",
        "#Product ID to URL\n",
        "product_id = df['Product ID'].to_list()\n",
        "product_url = [f'https://www.amazon.com.{country}/dp/{pid}' for pid in product_id]\n",
        "\n",
        "#Constant\n",
        "parquet_len = len('.parquet')\n",
        "\n",
        "#variables\n",
        "\n",
        "#Main Name Extracter\n",
        "file_name_len = len(df_name)-parquet_len\n",
        "file_name = df_name[13:file_name_len]\n",
        "\n",
        "#Dictionary \n",
        "category = file_name\n",
        "string_1 = '''mutation {\n",
        "  releaseProduct (input: {'''\n",
        "\n",
        "string_3 = '''}) {\n",
        "    _id\n",
        "    name\n",
        "    stars\n",
        "  }\n",
        "}'''\n",
        "query_json = string_1 + query_string + string_3\n",
        "\n",
        "for n in product_name:\n",
        "    query_string = f'''\n",
        "    name : \"{product_name[n]}\",\n",
        "    imageURL: \"{image_url[n]}\",\n",
        "    link: \"{product_url[n]}\",\n",
        "    cathegory: \"{category}\",\n",
        "    country: \"{country}\",\n",
        "    store: \"Amazon\",\n",
        "    Time: \"{date[n]}\",\n",
        "    Rank: {int(rank[n])},\n",
        "    Price : {price[n]},\n",
        "    '''\n",
        "    url = 'http://34.95.224.171/api'\n",
        "\n",
        "    json = { 'query' : query_json}\n",
        "\n",
        "    r = requests.post(url=url, json=json)\n",
        "    "
      ],
      "execution_count": null,
      "outputs": []
    },
    {
      "cell_type": "code",
      "metadata": {
        "id": "t41SwotqySAz",
        "colab_type": "code",
        "colab": {}
      },
      "source": [
        ""
      ],
      "execution_count": 44,
      "outputs": []
    },
    {
      "cell_type": "code",
      "metadata": {
        "id": "AxG1Z3lXyNLF",
        "colab_type": "code",
        "colab": {}
      },
      "source": [
        ""
      ],
      "execution_count": 45,
      "outputs": []
    },
    {
      "cell_type": "code",
      "metadata": {
        "id": "O6kMve0NxygG",
        "colab_type": "code",
        "colab": {
          "base_uri": "https://localhost:8080/",
          "height": 318
        },
        "outputId": "b43a05de-c8b3-4f6e-cd62-2094dcd44139"
      },
      "source": [
        "\n",
        "print(query_json)"
      ],
      "execution_count": 55,
      "outputs": [
        {
          "output_type": "stream",
          "text": [
            "mutation {\n",
            "  releaseProduct (input: {\n",
            "    name : \"Funda de piel Amazon para Kindle Paperwhite, color amarillo miel (sólo sirve para Kindle Paperwhite 5ª, 6ª, y 7ª generaciones)\",\n",
            "    imageURL: \"https://images-na.ssl-images-amazon.com/images/I/91TyJ2-NxXL._AC_UL200_SR200,200_.jpg\",\n",
            "    link: \"https://www.amazon.com.mx/dp/B008BQH3CS\",\n",
            "    cathegory: \"amazon-devices\",\n",
            "    country: \"mx\",\n",
            "    store: \"Amazon\",\n",
            "    Time: \"2020-08-27 23:53\",\n",
            "    Rank: 25,\n",
            "    Price : 699.0,\n",
            "}) {\n",
            "    _id\n",
            "    name\n",
            "    stars\n",
            "  }\n",
            "}\n"
          ],
          "name": "stdout"
        }
      ]
    },
    {
      "cell_type": "code",
      "metadata": {
        "id": "4y7q3JRc10sh",
        "colab_type": "code",
        "colab": {
          "base_uri": "https://localhost:8080/",
          "height": 34
        },
        "outputId": "930c1289-57b9-4d48-c4a2-2b557bd57f70"
      },
      "source": [
        "url = 'http://34.95.224.171/api'\n",
        "\n",
        "\n",
        "\n",
        "json = { 'query' : query_json}\n",
        "\n",
        "r = requests.post(url=url, json=json)\n",
        "print (r.text)"
      ],
      "execution_count": 56,
      "outputs": [
        {
          "output_type": "stream",
          "text": [
            "{\"data\":{\"releaseProduct\":{\"_id\":\"5f5a981f3df33517d20a7b08\",\"name\":\"Funda de piel Amazon para Kindle Paperwhite, color amarillo miel (sólo sirve para Kindle Paperwhite 5ª, 6ª, y 7ª generaciones)\",\"stars\":null}}}\n"
          ],
          "name": "stdout"
        }
      ]
    }
  ]
}