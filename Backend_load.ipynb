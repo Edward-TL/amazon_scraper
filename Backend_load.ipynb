{
  "nbformat": 4,
  "nbformat_minor": 0,
  "metadata": {
    "colab": {
      "name": "Backend load.ipynb",
      "provenance": [],
      "authorship_tag": "ABX9TyOHpHoFKLG5o+QZr7Rthjn6",
      "include_colab_link": true
    },
    "kernelspec": {
      "name": "python3",
      "display_name": "Python 3"
    }
  },
  "cells": [
    {
      "cell_type": "markdown",
      "metadata": {
        "id": "view-in-github",
        "colab_type": "text"
      },
      "source": [
        "<a href=\"https://colab.research.google.com/github/Edward-TL/amazon_scraper/blob/master/Backend_load.ipynb\" target=\"_parent\"><img src=\"https://colab.research.google.com/assets/colab-badge.svg\" alt=\"Open In Colab\"/></a>"
      ]
    },
    {
      "cell_type": "code",
      "metadata": {
        "id": "jjQXqM8rU-Qk",
        "colab_type": "code",
        "colab": {
          "base_uri": "https://localhost:8080/",
          "height": 54
        },
        "outputId": "563832bd-edd2-4e4f-982c-968b7d64e895"
      },
      "source": [
        "import requests\n",
        "\n",
        "url = 'http://34.95.224.171/api'\n",
        "json = { 'query' : 'mutation { getProducts { name } }' }\n",
        "\n",
        "# r = requests.post(url=url, json=json)\n",
        "# print (r.text)"
      ],
      "execution_count": null,
      "outputs": [
        {
          "output_type": "stream",
          "text": [
            "{\"data\":{\"getProducts\":[{\"name\":\"barbie\"},{\"name\":\"carrito\"},{\"name\":\"almohada para perro\"},{\"name\":\"croquetas\"},{\"name\":\"hueso\"},{\"name\":\"docomida cachorro\"},{\"name\":\"bolsas 500gr marca NosE\"},{\"name\":\"bolsa de cafe\"}]}}\n"
          ],
          "name": "stdout"
        }
      ]
    },
    {
      "cell_type": "code",
      "metadata": {
        "id": "eBYGoHB23sPW",
        "colab_type": "code",
        "colab": {}
      },
      "source": [
        "from google.colab import drive\n",
        "drive.mount('/content/drive')"
      ],
      "execution_count": null,
      "outputs": []
    },
    {
      "cell_type": "code",
      "metadata": {
        "id": "si7GO3fD4QpV",
        "colab_type": "code",
        "colab": {}
      },
      "source": [
        "#For the system\n",
        "import os\n",
        "import progressbar\n",
        "from tabulate import tabulate\n",
        "\n",
        "#Manage of time\n",
        "from datetime import datetime, timedelta\n",
        "from pytz import timezone\n",
        "import time\n",
        "import re\n",
        "\n",
        "#Manage of files\n",
        "import pandas as pd\n",
        "import csv\n",
        "\n",
        "#scrap\n",
        "from bs4 import BeautifulSoup\n",
        "from openpyxl.workbook import Workbook\n",
        "import requests"
      ],
      "execution_count": null,
      "outputs": []
    },
    {
      "cell_type": "code",
      "metadata": {
        "id": "EOkqJ-HD4TMJ",
        "colab_type": "code",
        "colab": {}
      },
      "source": [
        "%cd 'drive/My Drive/Colab Notebooks/4SS/4SS_db/testing/'\n",
        "!ls"
      ],
      "execution_count": null,
      "outputs": []
    },
    {
      "cell_type": "code",
      "metadata": {
        "id": "4y7q3JRc10sh",
        "colab_type": "code",
        "colab": {
          "base_uri": "https://localhost:8080/",
          "height": 34
        },
        "outputId": "7ef8f9ea-1112-4734-f627-f38f7128d4ed"
      },
      "source": [
        "url = 'http://34.95.224.171/api'\n",
        "\n",
        "product = None\n",
        "image_url = None\n",
        "product_url = None\n",
        "category = None\n",
        "country = None\n",
        "store = None\n",
        "date = None\n",
        "rank = None\n",
        "\n",
        "json = { 'query' : \n",
        "f'''mutation {\n",
        "  releaseProduct (input: {\n",
        "    name: {product}\n",
        "    imageURL: \"http://LinkDeLaImagen100%realnofeik.com\"\n",
        "    link: \"http://prueba100%realnofeik.com\"\n",
        "    cathegory: \"Edward Test's 2 The revenge\"\n",
        "    country: \"Argentina\"\n",
        "    store: \"Platzi\"\n",
        "    Time: \"2049\"\n",
        "    Rank: 1\n",
        "    Price: 340\n",
        "  }) {\n",
        "    _id\n",
        "    name\n",
        "    stars\n",
        "  }\n",
        "}\n",
        "''' }\n",
        "\n",
        "# r = requests.post(url=url, json=json)\n",
        "# print (r.text)"
      ],
      "execution_count": null,
      "outputs": [
        {
          "output_type": "stream",
          "text": [
            "{\"data\":{\"releaseProduct\":{\"_id\":\"5f599088b5f76608a39680ba\",\"name\":\"Prueba\",\"stars\":null}}}\n"
          ],
          "name": "stdout"
        }
      ]
    }
  ]
}