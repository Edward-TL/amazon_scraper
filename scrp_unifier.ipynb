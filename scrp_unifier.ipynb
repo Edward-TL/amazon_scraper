{
  "nbformat": 4,
  "nbformat_minor": 0,
  "metadata": {
    "colab": {
      "name": "scrp_unifier.ipynb",
      "provenance": [],
      "collapsed_sections": [],
      "authorship_tag": "ABX9TyNnoAFIrtrRTFemwh6LWaW5",
      "include_colab_link": true
    },
    "kernelspec": {
      "name": "python3",
      "display_name": "Python 3"
    }
  },
  "cells": [
    {
      "cell_type": "markdown",
      "metadata": {
        "id": "view-in-github",
        "colab_type": "text"
      },
      "source": [
        "<a href=\"https://colab.research.google.com/github/Edward-TL/amazon_scraper/blob/master/scrp_unifier.ipynb\" target=\"_parent\"><img src=\"https://colab.research.google.com/assets/colab-badge.svg\" alt=\"Open In Colab\"/></a>"
      ]
    },
    {
      "cell_type": "markdown",
      "metadata": {
        "id": "VETqPMp7eh6e",
        "colab_type": "text"
      },
      "source": [
        "<ol>\n",
        "<li>**CHECKED** Obtener nombres de las categorias a las que pertenecen los archivos</li>\n",
        "<li>**CHECKED** Enviarlas a las carpetas a las que pertenecen con las fechas agregadas</li>\n",
        "<li>verificar que todos los archivos tengan la columna de las fechas</li>\n",
        "<li>Se crea una base maestra a partir de los registros más viejos</li>\n",
        "\n",
        "<li>crear el ID concatenando ranking y url</li>\n",
        "<li>si los 50 estan intactactos:</li>\n",
        "        no se consideran\n",
        "<li>si existe un cambio de posición</li>\n",
        "        se agrega a la base maestra.\n",
        "</ol>"
      ]
    },
    {
      "cell_type": "code",
      "metadata": {
        "id": "9t5CIDTcSVz6",
        "colab_type": "code",
        "colab": {
          "base_uri": "https://localhost:8080/",
          "height": 122
        },
        "outputId": "60fc35ff-22cd-4eac-e12f-7866b76720e0"
      },
      "source": [
        "from google.colab import drive\n",
        "drive.mount('/content/drive')"
      ],
      "execution_count": 2,
      "outputs": [
        {
          "output_type": "stream",
          "text": [
            "Go to this URL in a browser: https://accounts.google.com/o/oauth2/auth?client_id=947318989803-6bn6qk8qdgf4n4g3pfee6491hc0brc4i.apps.googleusercontent.com&redirect_uri=urn%3aietf%3awg%3aoauth%3a2.0%3aoob&response_type=code&scope=email%20https%3a%2f%2fwww.googleapis.com%2fauth%2fdocs.test%20https%3a%2f%2fwww.googleapis.com%2fauth%2fdrive%20https%3a%2f%2fwww.googleapis.com%2fauth%2fdrive.photos.readonly%20https%3a%2f%2fwww.googleapis.com%2fauth%2fpeopleapi.readonly\n",
            "\n",
            "Enter your authorization code:\n",
            "··········\n",
            "Mounted at /content/drive\n"
          ],
          "name": "stdout"
        }
      ]
    },
    {
      "cell_type": "code",
      "metadata": {
        "id": "k3ThUSbRWCAx",
        "colab_type": "code",
        "colab": {}
      },
      "source": [
        "#For the system\n",
        "import os\n",
        "\n",
        "#Manage of time\n",
        "from datetime import datetime\n",
        "import time\n",
        "\n",
        "#Manage of files\n",
        "import pandas as pd\n",
        "import csv"
      ],
      "execution_count": 3,
      "outputs": []
    },
    {
      "cell_type": "code",
      "metadata": {
        "id": "o955ldYMZDJj",
        "colab_type": "code",
        "colab": {
          "base_uri": "https://localhost:8080/",
          "height": 51
        },
        "outputId": "e946abfd-e621-4de2-940f-def8fcb548bc"
      },
      "source": [
        "%cd 'drive/My Drive/Colab Notebooks/4SS/4SS_db/testing'\n",
        "!ls"
      ],
      "execution_count": 4,
      "outputs": [
        {
          "output_type": "stream",
          "text": [
            "/content/drive/My Drive/Colab Notebooks/4SS/4SS_db/testing\n",
            "br  logs  mx\n"
          ],
          "name": "stdout"
        }
      ]
    },
    {
      "cell_type": "code",
      "metadata": {
        "id": "AkIiW-90Zjmc",
        "colab_type": "code",
        "colab": {}
      },
      "source": [
        "# entries_mx = os.listdir('mx')\n",
        "# print(entries_mx)\n",
        "# entries_br = os.listdir('br')\n",
        "# print(entries_br)"
      ],
      "execution_count": 5,
      "outputs": []
    },
    {
      "cell_type": "code",
      "metadata": {
        "id": "G1UHMpplroiA",
        "colab_type": "code",
        "colab": {}
      },
      "source": [
        "def rename_folders_files(str_dir, change_this, to_this):\n",
        "\n",
        "    edited_name = str_dir.replace(change_this, to_this)\n",
        "    if edited_name != str_dir:\n",
        "        os.rename(str_dir, edited_name)\n",
        "    else:\n",
        "        pass"
      ],
      "execution_count": 6,
      "outputs": []
    },
    {
      "cell_type": "code",
      "metadata": {
        "id": "radkoalqh4MI",
        "colab_type": "code",
        "colab": {
          "base_uri": "https://localhost:8080/",
          "height": 316
        },
        "outputId": "f0428595-b817-419d-b9b1-337911346232"
      },
      "source": [
        "string_test = 'mx/grocery/mx-test_grocery_2020-07-31 15_52.csv'\n",
        "change_this = ':'\n",
        "to_this = '_'\n",
        "rename_folders_files(string_test, change_this, to_this)\n"
      ],
      "execution_count": 17,
      "outputs": [
        {
          "output_type": "error",
          "ename": "FileNotFoundError",
          "evalue": "ignored",
          "traceback": [
            "\u001b[0;31m---------------------------------------------------------------------------\u001b[0m",
            "\u001b[0;31mFileNotFoundError\u001b[0m                         Traceback (most recent call last)",
            "\u001b[0;32m<ipython-input-17-8d106e42f2ef>\u001b[0m in \u001b[0;36m<module>\u001b[0;34m()\u001b[0m\n\u001b[1;32m      2\u001b[0m \u001b[0mchange_this\u001b[0m \u001b[0;34m=\u001b[0m \u001b[0;34m':'\u001b[0m\u001b[0;34m\u001b[0m\u001b[0;34m\u001b[0m\u001b[0m\n\u001b[1;32m      3\u001b[0m \u001b[0mto_this\u001b[0m \u001b[0;34m=\u001b[0m \u001b[0;34m'_'\u001b[0m\u001b[0;34m\u001b[0m\u001b[0;34m\u001b[0m\u001b[0m\n\u001b[0;32m----> 4\u001b[0;31m \u001b[0mrename_folders_files\u001b[0m\u001b[0;34m(\u001b[0m\u001b[0mstring_test\u001b[0m\u001b[0;34m,\u001b[0m \u001b[0mchange_this\u001b[0m\u001b[0;34m,\u001b[0m \u001b[0mto_this\u001b[0m\u001b[0;34m)\u001b[0m\u001b[0;34m\u001b[0m\u001b[0;34m\u001b[0m\u001b[0m\n\u001b[0m",
            "\u001b[0;32m<ipython-input-6-64c935d8fe7d>\u001b[0m in \u001b[0;36mrename_folders_files\u001b[0;34m(str_dir, change_this, to_this)\u001b[0m\n\u001b[1;32m      3\u001b[0m     \u001b[0medited_name\u001b[0m \u001b[0;34m=\u001b[0m \u001b[0mstr_dir\u001b[0m\u001b[0;34m.\u001b[0m\u001b[0mreplace\u001b[0m\u001b[0;34m(\u001b[0m\u001b[0mchange_this\u001b[0m\u001b[0;34m,\u001b[0m \u001b[0mto_this\u001b[0m\u001b[0;34m)\u001b[0m\u001b[0;34m\u001b[0m\u001b[0;34m\u001b[0m\u001b[0m\n\u001b[1;32m      4\u001b[0m     \u001b[0;32mif\u001b[0m \u001b[0medited_name\u001b[0m \u001b[0;34m!=\u001b[0m \u001b[0mstr_dir\u001b[0m\u001b[0;34m:\u001b[0m\u001b[0;34m\u001b[0m\u001b[0;34m\u001b[0m\u001b[0m\n\u001b[0;32m----> 5\u001b[0;31m         \u001b[0mos\u001b[0m\u001b[0;34m.\u001b[0m\u001b[0mrename\u001b[0m\u001b[0;34m(\u001b[0m\u001b[0mstr_dir\u001b[0m\u001b[0;34m,\u001b[0m \u001b[0medited_name\u001b[0m\u001b[0;34m)\u001b[0m\u001b[0;34m\u001b[0m\u001b[0;34m\u001b[0m\u001b[0m\n\u001b[0m\u001b[1;32m      6\u001b[0m     \u001b[0;32melse\u001b[0m\u001b[0;34m:\u001b[0m\u001b[0;34m\u001b[0m\u001b[0;34m\u001b[0m\u001b[0m\n\u001b[1;32m      7\u001b[0m         \u001b[0;32mpass\u001b[0m\u001b[0;34m\u001b[0m\u001b[0;34m\u001b[0m\u001b[0m\n",
            "\u001b[0;31mFileNotFoundError\u001b[0m: [Errno 2] No such file or directory: 'mx/grocery/mx-test_grocery_2020-07-31 15:52.csv' -> 'mx/grocery/mx-test_grocery_2020-07-31 15_52.csv'"
          ]
        }
      ]
    },
    {
      "cell_type": "code",
      "metadata": {
        "id": "hvkYlDjR8Lrh",
        "colab_type": "code",
        "colab": {
          "base_uri": "https://localhost:8080/",
          "height": 34
        },
        "outputId": "8f05e7c3-a2c9-4e45-be6b-d7eb3f8ad9f1"
      },
      "source": [
        "date = datetime.now()\n",
        "date"
      ],
      "execution_count": 8,
      "outputs": [
        {
          "output_type": "execute_result",
          "data": {
            "text/plain": [
              "datetime.datetime(2020, 8, 5, 23, 45, 54, 657537)"
            ]
          },
          "metadata": {
            "tags": []
          },
          "execution_count": 8
        }
      ]
    },
    {
      "cell_type": "code",
      "metadata": {
        "id": "SblG0OnL__Un",
        "colab_type": "code",
        "colab": {}
      },
      "source": [
        "def centered_len(max_len):\n",
        "    def centered_string(string):\n",
        "        if type(string) != 'string':\n",
        "            string = str(string)\n",
        "            \n",
        "        rest = max_len - len(string)\n",
        "        n_spaces = int(rest/2)\n",
        "\n",
        "        string_spaces = ' ' * n_spaces\n",
        "        \n",
        "        centered_string = string_spaces + string + string_spaces\n",
        "\n",
        "        if len(centered_string)<max_len:\n",
        "            centered_string = ' ' + centered_string\n",
        "\n",
        "        return centered_string\n",
        "    return centered_string"
      ],
      "execution_count": 9,
      "outputs": []
    },
    {
      "cell_type": "code",
      "metadata": {
        "id": "x_PgW4uq1_Yp",
        "colab_type": "code",
        "colab": {
          "base_uri": "https://localhost:8080/",
          "height": 52
        },
        "outputId": "ab81b5c4-39d7-452c-ea5f-47a719dff101"
      },
      "source": [
        "centered_missing = centered_len(len('musical-instruments'))\n",
        "print('musical-instruments')\n",
        "centered_missing('category')\n"
      ],
      "execution_count": 10,
      "outputs": [
        {
          "output_type": "stream",
          "text": [
            "musical-instruments\n"
          ],
          "name": "stdout"
        },
        {
          "output_type": "execute_result",
          "data": {
            "application/vnd.google.colaboratory.intrinsic+json": {
              "type": "string"
            },
            "text/plain": [
              "'      category     '"
            ]
          },
          "metadata": {
            "tags": []
          },
          "execution_count": 10
        }
      ]
    },
    {
      "cell_type": "code",
      "metadata": {
        "id": "icTSdbrc_shZ",
        "colab_type": "code",
        "colab": {}
      },
      "source": [
        "countries= ['mx','br']"
      ],
      "execution_count": 11,
      "outputs": []
    },
    {
      "cell_type": "code",
      "metadata": {
        "id": "FhY_6bflISNm",
        "colab_type": "code",
        "colab": {
          "base_uri": "https://localhost:8080/",
          "height": 34
        },
        "outputId": "51940d58-018c-4f6a-e343-4c57362b3774"
      },
      "source": [
        "!ls"
      ],
      "execution_count": 12,
      "outputs": [
        {
          "output_type": "stream",
          "text": [
            "br  logs  mx\n"
          ],
          "name": "stdout"
        }
      ]
    },
    {
      "cell_type": "code",
      "metadata": {
        "id": "LyIAjsDoeuRK",
        "colab_type": "code",
        "colab": {
          "base_uri": "https://localhost:8080/",
          "height": 1000
        },
        "outputId": "ea38df7c-4280-40fe-d284-17ee9fe8427d"
      },
      "source": [
        "#por pais en paises\n",
        "initial_time = datetime.now()\n",
        "print(initial_time)\n",
        "\n",
        "\n",
        "country_counter = 0\n",
        "print(' Missing date/time | With date/time | csv_files | country | ------Category---- ')\n",
        "\n",
        "centered_missing = centered_len(len('Missing date/time'))\n",
        "centered_with = centered_len(len('With date/time'))\n",
        "centered_csv = centered_len(len('csv_files'))\n",
        "centered_country = centered_len(len('country'))\n",
        "#largest category name: musical-instruments\n",
        "centered_category = centered_len(len('musical-instruments'))\n",
        "\n",
        "total_csv_files = 0\n",
        "total_dirs = 0\n",
        "total_missing = 0\n",
        "\n",
        "for country in countries:\n",
        "    country_entries = os.listdir(country)\n",
        "    if country_counter > 0:\n",
        "        print(' ----------------- | -------------- | --------- | ------- | -------------------')\n",
        "    #por carpeta en paises\n",
        "    for entry in country_entries:\n",
        "        try:\n",
        "            total_dirs = total_dirs + 1\n",
        "            #Archivos en carpetas\n",
        "            folder_files = os.listdir(country + '/' + entry)\n",
        "            if folder_files[:2] != country:\n",
        "                csv_counter = 0\n",
        "                with_dt = 0\n",
        "                missing_dt = 0        \n",
        "\n",
        "                for file_content in folder_files:\n",
        "                    total_dirs = total_dirs + 1    \n",
        "                    #Archivo csv\n",
        "                    if file_content[-3:] == 'csv':\n",
        "                        csv_counter = csv_counter + 1\n",
        "                        complete_file = country + '/' + entry + '/' + file_content\n",
        "\n",
        "                        with open(complete_file, mode=\"r\", encoding='utf-8') as csv_file:\n",
        "                            csv_reader = csv.reader(csv_file, delimiter='|')\n",
        "                            header = next(csv_reader)\n",
        "                            if header[0] == 'time' or header[0] == 'Date':\n",
        "                                with_dt = with_dt + 1\n",
        "                            else:\n",
        "                                missing_dt = missing_dt + 1\n",
        "                                total_missing = total_missing + 1\n",
        "                        csv_file.close()\n",
        "                \n",
        "                print(f' {centered_missing(missing_dt)}', end=' | ')\n",
        "                print(centered_with(with_dt), end=' | ')\n",
        "                print(centered_csv(csv_counter), end=' | ')\n",
        "                print(centered_country(country), end=' | ')\n",
        "                print(centered_category(entry))\n",
        "                total_csv_files = total_csv_files + csv_counter\n",
        "                \n",
        "        except:\n",
        "            total_dirs = total_dirs + 1\n",
        "            pass\n",
        "\n",
        "    country_counter = country_counter+1\n",
        "\n",
        "final_time = datetime.now()\n",
        "time_elapsed = final_time - initial_time\n",
        "print(f'\\nPasaron {time_elapsed.total_seconds()} segundos')\n",
        "print(final_time)\n",
        "\n",
        "print(f'\\nNeeds to check: {total_missing}')\n",
        "print(f'Total of csv files = {total_csv_files}')\n",
        "print(f'Total dirs: {total_dirs}')\n"
      ],
      "execution_count": 13,
      "outputs": [
        {
          "output_type": "stream",
          "text": [
            "2020-08-05 23:45:56.499590\n",
            " Missing date/time | With date/time | csv_files | country |       Category     \n",
            "         16        |       40       |     56    |    mx   |      videogames    \n",
            "         16        |       42       |     58    |    mx   |         toys       \n",
            "         16        |       42       |     58    |    mx   | musical-instruments\n",
            "         16        |       41       |     57    |    mx   |     pet-supplies   \n",
            "         16        |       43       |     59    |    mx   |        tools       \n",
            "         16        |       41       |     57    |    mx   |    officeproduct   \n",
            "         16        |       40       |     56    |    mx   |       software     \n",
            "         16        |       41       |     57    |    mx   |        shoes       \n",
            "         16        |       41       |     57    |    mx   |        music       \n",
            "         0         |       56       |     56    |    mx   |     digital-text   \n",
            "         16        |       41       |     57    |    mx   |        books       \n",
            "         17        |       43       |     60    |    mx   |     electronics    \n",
            "         16        |       41       |     57    |    mx   |         dvd        \n",
            "         17        |       48       |     65    |    mx   |         baby       \n",
            "         16        |       41       |     57    |    mx   |         hpc        \n",
            "         18        |       50       |     68    |    mx   |       grocery      \n",
            "         16        |       41       |     57    |    mx   |       handmade     \n",
            "         16        |       43       |     59    |    mx   |       kitchen      \n",
            "         16        |       42       |     58    |    mx   |      industrial    \n",
            "         17        |       49       |     66    |    mx   |      automotive    \n",
            "         16        |       45       |     61    |    mx   |    amazon-devices  \n",
            " ----------------- | -------------- | --------- | ------- | -------------------\n",
            "         0         |       34       |     34    |    br   |     pet-products   \n",
            "         16        |        0       |     16    |    br   |        tools       \n",
            "         16        |        0       |     16    |    br   |       software     \n",
            "         16        |       39       |     55    |    br   |        sports      \n",
            "         16        |        0       |     16    |    br   |        shoes       \n",
            "         16        |       35       |     51    |    br   |      videogames    \n",
            "         16        |       38       |     54    |    br   |         toys       \n",
            "         16        |        0       |     16    |    br   |     pet-supplies   \n",
            "         0         |       33       |     33    |    br   |   lawn-and-garden  \n",
            "         16        |        0       |     16    |    br   | musical-instruments\n",
            "         16        |        0       |     16    |    br   |      industrial    \n",
            "         16        |       35       |     51    |    br   |         hpc        \n",
            "         16        |        0       |     16    |    br   |    officeproduct   \n",
            "         0         |       33       |     33    |    br   |         home       \n",
            "         0         |       35       |     35    |    br   |        office      \n",
            "         16        |       38       |     54    |    br   |        music       \n",
            "         0         |       34       |     34    |    br   |     mobile-apps    \n",
            "         0         |       38       |     38    |    br   |          hi        \n",
            "         16        |       39       |     55    |    br   |     electronics    \n",
            "         16        |       37       |     53    |    br   |         dvd        \n",
            "         0         |       33       |     33    |    br   |      furniture     \n",
            "         16        |       38       |     54    |    br   |        books       \n",
            "         16        |        0       |     16    |    br   |       grocery      \n",
            "         16        |        0       |     16    |    br   |       handmade     \n",
            "         16        |       35       |     51    |    br   |     digital-text   \n",
            "         0         |       34       |     34    |    br   |      computers     \n",
            "         0         |       35       |     35    |    br   |       fashion      \n",
            "         0         |       33       |     33    |    br   |      appliances    \n",
            "         16        |       40       |     56    |    br   |    amazon-devices  \n",
            "         0         |       33       |     33    |    br   |        beauty      \n",
            "         16        |        0       |     16    |    br   |      automotive    \n",
            "         16        |        0       |     16    |    br   |         baby       \n",
            "         0         |       39       |     39    |    br   |    baby-products   \n",
            "\n",
            "Pasaron 475.379378 segundos\n",
            "2020-08-05 23:53:51.878968\n",
            "\n",
            "Needs to check: 684\n",
            "Total of csv files = 2414\n",
            "Total dirs: 5103\n"
          ],
          "name": "stdout"
        }
      ]
    },
    {
      "cell_type": "code",
      "metadata": {
        "id": "zLhvV-bzAYc7",
        "colab_type": "code",
        "colab": {
          "base_uri": "https://localhost:8080/",
          "height": 34
        },
        "outputId": "b6ca6eca-4970-4609-8a9e-65da2357632b"
      },
      "source": [
        "!ls"
      ],
      "execution_count": 16,
      "outputs": [
        {
          "output_type": "stream",
          "text": [
            "mx\n"
          ],
          "name": "stdout"
        }
      ]
    },
    {
      "cell_type": "code",
      "metadata": {
        "id": "FrXNWaBiZwQu",
        "colab_type": "code",
        "colab": {}
      },
      "source": [
        "def add_date(entry):\n",
        "    '''Bbtain date and made it a Pandas Series'''\n",
        "    date_file = entry[-20:]\n",
        "    str_date = date_file[:16]\n",
        "    date = datetime.strptime(str_date,'%Y-%m-%d %H_%M')\n",
        "    date_array = [date]*50\n",
        "    date_series = pd.Series(date_array, name='time')\n",
        "\n",
        "    '''Concat the Date Serie to the main dataframe'''\n",
        "    main_df = pd.read_csv(entry, sep='|')\n",
        "    new_df = pd.concat([date_series, main_df], axis=1)\n",
        "    new_df.to_csv(entry, sep='|', index= False)\n",
        "    new_df\n",
        "\n",
        "    file_name_len = (len(entry)-3)\n",
        "    file_name = entry[:file_name_len]\n",
        "    excel_name = file_name + 'xlsx'\n",
        "    new_df.to_excel(excel_name, index= False)\n"
      ],
      "execution_count": 25,
      "outputs": []
    },
    {
      "cell_type": "code",
      "metadata": {
        "id": "253YAhmnGPLq",
        "colab_type": "code",
        "colab": {
          "base_uri": "https://localhost:8080/",
          "height": 255
        },
        "outputId": "9708610f-3c04-469e-9ee1-e889f67292a5"
      },
      "source": [
        "initial_time = datetime.now()\n",
        "print(initial_time)\n",
        "\n",
        "\n",
        "country_counter = 0\n",
        "print(' Added date/time | With date/time | csv_files | country |       Category     ')\n",
        "\n",
        "centered_missing = centered_len(len('Missing date/time'))\n",
        "centered_with = centered_len(len('With date/time'))\n",
        "centered_csv = centered_len(len('csv_files'))\n",
        "centered_country = centered_len(len('country'))\n",
        "#largest category name: musical-instruments\n",
        "centered_category = centered_len(len('musical-instruments'))\n",
        "\n",
        "total_csv_files = 0\n",
        "total_dirs = 0\n",
        "total_changed = 0\n",
        "error_count = 0\n",
        "errors = []\n",
        "\n",
        "country_entries = os.listdir('mx')\n",
        "country = 'mx'\n",
        "\n",
        "for entry in country_entries:\n",
        "\n",
        "    total_dirs = total_dirs + 1\n",
        "    #Archivos en carpetas\n",
        "    files_dir = f'{country}/{entry}'\n",
        "    folder_files = os.listdir(files_dir)\n",
        "    # if folder_files[:2] != country:\n",
        "    csv_counter = 0\n",
        "    with_dt = 0\n",
        "    changed_dt = 0        \n",
        "\n",
        "    for file_content in folder_files:\n",
        "        total_dirs = total_dirs + 1    \n",
        "        #Archivo csv\n",
        "        if file_content[-3:] == 'csv':\n",
        "            csv_counter = csv_counter + 1\n",
        "            complete_file = f'{country}/{entry}/{file_content}'\n",
        "\n",
        "            with open(complete_file, mode=\"r\", encoding='utf-8') as csv_file:\n",
        "                csv_reader = csv.reader(csv_file, delimiter='|')\n",
        "                header = next(csv_reader)\n",
        "                if header[0] == 'time' or header[0] == 'Date':\n",
        "                    with_dt = with_dt + 1\n",
        "                else:\n",
        "                    rename_folders_files(complete_file, ':', '_')\n",
        "                    add_date(complete_file)\n",
        "                    changed_dt = changed_dt + 1\n",
        "                    total_changed = total_changed + 1\n",
        "\n",
        "                if header[0] == header[1]:\n",
        "                    error_count = error_count + 1\n",
        "                    errors.append(complete_file)\n",
        "                elif header[0] == header[1][:4]:\n",
        "                    error_count = error_count + 1\n",
        "                    errors.append(complete_file)\n",
        "\n",
        "    \n",
        "    print(f' {centered_missing(changed_dt)}', end=' | ')\n",
        "    print(centered_with(with_dt), end=' | ')\n",
        "    print(centered_csv(csv_counter), end=' | ')\n",
        "    print(centered_country(country), end=' | ')\n",
        "    print(centered_category(entry))\n",
        "    total_csv_files = total_csv_files + csv_counter\n",
        "\n",
        "final_time = datetime.now()\n",
        "time_elapsed = final_time - initial_time\n",
        "print(f'\\nPasaron {time_elapsed.total_seconds()} segundos')\n",
        "print(final_time)\n",
        "\n",
        "print(f'\\nChanged to check: {total_changed}')\n",
        "print(f'Total of csv files = {total_csv_files}')\n",
        "print(f'Total dirs: {total_dirs}')\n",
        "print(f'\\nErrors: {error_count}')\n",
        "print(errors)"
      ],
      "execution_count": 30,
      "outputs": [
        {
          "output_type": "stream",
          "text": [
            "2020-08-06 00:21:15.438797\n",
            " Added date/time | With date/time | csv_files | country |       Category     \n",
            "         0         |       56       |     56    |    mx   |      videogames    \n",
            "         0         |       57       |     57    |    mx   |     pet-supplies   \n",
            "\n",
            "Pasaron 0.186776 segundos\n",
            "2020-08-06 00:21:15.625573\n",
            "\n",
            "Changed to check: 0\n",
            "Total of csv files = 113\n",
            "Total dirs: 228\n",
            "\n",
            "Errors: 0\n",
            "[]\n"
          ],
          "name": "stdout"
        }
      ]
    },
    {
      "cell_type": "code",
      "metadata": {
        "id": "OWv5yYATM04q",
        "colab_type": "code",
        "colab": {
          "base_uri": "https://localhost:8080/",
          "height": 986
        },
        "outputId": "b6f4e5e5-3831-4e89-b7b2-8dcd2e813b3e"
      },
      "source": [
        "#por pais en paises\n",
        "initial_time = datetime.now()\n",
        "print(initial_time)\n",
        "\n",
        "\n",
        "country_counter = 0\n",
        "print(' Added date/time | With date/time | csv_files | country |       Category     ')\n",
        "\n",
        "centered_missing = centered_len(len('Missing date/time'))\n",
        "centered_with = centered_len(len('With date/time'))\n",
        "centered_csv = centered_len(len('csv_files'))\n",
        "centered_country = centered_len(len('country'))\n",
        "#largest category name: musical-instruments\n",
        "centered_category = centered_len(len('musical-instruments'))\n",
        "\n",
        "total_csv_files = 0\n",
        "total_dirs = 0\n",
        "total_changed = 0\n",
        "error_count = 0\n",
        "errors = []\n",
        "\n",
        "for country in countries:\n",
        "    country_entries = os.listdir(country)\n",
        "    if country_counter > 0:\n",
        "        print(' ----------------- | -------------- | --------- | ------- | -------------------')\n",
        "    #por carpeta en paises\n",
        "    for entry in country_entries:\n",
        "        try:\n",
        "            total_dirs = total_dirs + 1\n",
        "            #Archivos en carpetas\n",
        "            folder_files = os.listdir(country + '/' + entry)\n",
        "            if folder_files[:2] != country:\n",
        "                csv_counter = 0\n",
        "                with_dt = 0\n",
        "                changed_dt = 0        \n",
        "\n",
        "                for file_content in folder_files:\n",
        "                    total_dirs = total_dirs + 1    \n",
        "                    #Archivo csv\n",
        "                    if file_content[-3:] == 'csv':\n",
        "                        csv_counter = csv_counter + 1\n",
        "                        complete_file = f'{country}/{entry}/{file_content}'\n",
        "\n",
        "                        with open(complete_file, mode=\"r\", encoding='utf-8') as csv_file:\n",
        "                            csv_reader = csv.reader(csv_file, delimiter='|')\n",
        "                            header = next(csv_reader)\n",
        "                            if header[0] == 'time' or header[0] == 'Date':\n",
        "                                with_dt = with_dt + 1\n",
        "                            else:\n",
        "                                rename_folders_files(complete_file, ':', '_')\n",
        "                                add_date(complete_file)\n",
        "                                changed_dt = changed_dt + 1\n",
        "                                total_changed = total_changed + 1\n",
        "\n",
        "                            if header[0] == header[1]:\n",
        "                                error_count = error_count + 1\n",
        "                                errors.append(complete_file)\n",
        "                            elif header[0] == header[1][:4]:\n",
        "                                error_count = error_count + 1\n",
        "                                errors.append(complete_file)\n",
        "\n",
        "                \n",
        "                print(f' {centered_missing(changed_dt)}', end=' | ')\n",
        "                print(centered_with(with_dt), end=' | ')\n",
        "                print(centered_csv(csv_counter), end=' | ')\n",
        "                print(centered_country(country), end=' | ')\n",
        "                print(centered_category(entry))\n",
        "                total_csv_files = total_csv_files + csv_counter\n",
        "                \n",
        "        except:\n",
        "            total_dirs = total_dirs + 1\n",
        "            pass\n",
        "\n",
        "    country_counter = country_counter+1\n",
        "\n",
        "final_time = datetime.now()\n",
        "time_elapsed = final_time - initial_time\n",
        "print(f'\\nPasaron {time_elapsed.total_seconds()} segundos')\n",
        "print(final_time)\n",
        "\n",
        "print(f'\\nChanged to check: {total_changed}')\n",
        "print(f'Total of csv files = {total_csv_files}')\n",
        "print(f'Total dirs: {total_dirs}')\n",
        "print(f'\\nErrors: {error_count}')\n",
        "print(errors)"
      ],
      "execution_count": null,
      "outputs": [
        {
          "output_type": "stream",
          "text": [
            "2020-08-05 21:46:56.673117\n",
            " Added date/time | With date/time | csv_files | country |       Category     \n",
            "         0         |       68       |     68    |    mx   |       grocery      \n",
            "         0         |       61       |     61    |    mx   |    amazon-devices  \n",
            "         0         |       59       |     59    |    mx   |        tools       \n",
            "         0         |       59       |     59    |    mx   |       kitchen      \n",
            "         0         |       58       |     58    |    mx   |      industrial    \n",
            "         0         |       58       |     58    |    mx   | musical-instruments\n",
            "         0         |       58       |     58    |    mx   |         toys       \n",
            "         0         |       57       |     57    |    mx   |        books       \n",
            "         0         |       57       |     57    |    mx   |        music       \n",
            "         0         |       57       |     57    |    mx   |    officeproduct   \n",
            "         0         |       57       |     57    |    mx   |         dvd        \n",
            "         0         |       57       |     57    |    mx   |       handmade     \n",
            "         0         |       57       |     57    |    mx   |     pet-supplies   \n",
            "         0         |       57       |     57    |    mx   |        shoes       \n",
            "         0         |       57       |     57    |    mx   |         hpc        \n",
            "         0         |       56       |     56    |    mx   |       software     \n",
            "         0         |       56       |     56    |    mx   |     digital-text   \n",
            "         0         |       56       |     56    |    mx   |      videogames    \n",
            " ----------------- | -------------- | --------- | ------- | -------------------\n",
            "         0         |       16       |     16    |    br   |       grocery      \n",
            "         0         |       16       |     16    |    br   |      automotive    \n",
            "         0         |       56       |     56    |    br   |    amazon-devices  \n",
            "         0         |       16       |     16    |    br   |         baby       \n",
            "         0         |       55       |     55    |    br   |        sports      \n",
            "         0         |       55       |     55    |    br   |     electronics    \n",
            "         0         |       16       |     16    |    br   |        tools       \n",
            "         0         |       54       |     54    |    br   |       kitchen      \n",
            "         0         |       16       |     16    |    br   |      industrial    \n",
            "         0         |       16       |     16    |    br   | musical-instruments\n",
            "         0         |       54       |     54    |    br   |         toys       \n",
            "         0         |       54       |     54    |    br   |        books       \n",
            "         0         |       54       |     54    |    br   |        music       \n",
            "         0         |       16       |     16    |    br   |    officeproduct   \n",
            "         0         |       39       |     39    |    br   |    baby-products   \n",
            "         0         |       38       |     38    |    br   |          hi        \n",
            "         0         |       35       |     35    |    br   |       fashion      \n",
            "         0         |       34       |     34    |    br   |     mobile-apps    \n",
            "         0         |       35       |     35    |    br   |        office      \n",
            "         0         |       34       |     34    |    br   |      computers     \n",
            "         0         |       34       |     34    |    br   |     pet-products   \n",
            "         0         |       33       |     33    |    br   |        beauty      \n",
            "         0         |       33       |     33    |    br   |         home       \n",
            "         0         |       33       |     33    |    br   |      appliances    \n",
            "         0         |       33       |     33    |    br   |   lawn-and-garden  \n",
            "         0         |       33       |     33    |    br   |      furniture     \n",
            "\n",
            "Pasaron 1.88015 segundos\n",
            "2020-08-05 21:46:58.553267\n",
            "\n",
            "Changed to check: 0\n",
            "Total of csv files = 1953\n",
            "Total dirs: 4210\n",
            "\n",
            "Errors: 0\n",
            "[]\n"
          ],
          "name": "stdout"
        }
      ]
    },
    {
      "cell_type": "code",
      "metadata": {
        "id": "QHn42oZGf7qi",
        "colab_type": "code",
        "colab": {}
      },
      "source": [
        ""
      ],
      "execution_count": null,
      "outputs": []
    },
    {
      "cell_type": "code",
      "metadata": {
        "colab_type": "code",
        "id": "nqF9eH27f8Pn",
        "colab": {
          "base_uri": "https://localhost:8080/",
          "height": 1000
        },
        "outputId": "6471d6a5-5bc9-4979-d4bd-8a0184e0e35e"
      },
      "source": [
        "#por pais en paises\n",
        "initial_time = datetime.now()\n",
        "print(initial_time)\n",
        "\n",
        "\n",
        "country_counter = 0\n",
        "print(' Missing date/time | With date/time | csv_files | country |       Category     ')\n",
        "\n",
        "centered_missing = centered_len(len('Missing date/time'))\n",
        "centered_with = centered_len(len('With date/time'))\n",
        "centered_csv = centered_len(len('csv_files'))\n",
        "centered_country = centered_len(len('country'))\n",
        "#largest category name: musical-instruments\n",
        "centered_category = centered_len(len('musical-instruments'))\n",
        "\n",
        "total_csv_files = 0\n",
        "total_dirs = 0\n",
        "total_missing = 0\n",
        "\n",
        "for country in countries:\n",
        "    country_entries = os.listdir(country)\n",
        "    if country_counter > 0:\n",
        "        print(' ----------------- | -------------- | --------- | ------- | -------------------')\n",
        "    #por carpeta en paises\n",
        "    for entry in country_entries:\n",
        "        try:\n",
        "            total_dirs = total_dirs + 1\n",
        "            #Archivos en carpetas\n",
        "            folder_files = os.listdir(country + '/' + entry)\n",
        "            if folder_files[:2] != country:\n",
        "                csv_counter = 0\n",
        "                with_dt = 0\n",
        "                missing_dt = 0        \n",
        "\n",
        "                for file_content in folder_files:\n",
        "                    total_dirs = total_dirs + 1    \n",
        "                    #Archivo csv\n",
        "                    if file_content[-3:] == 'csv':\n",
        "                        csv_counter = csv_counter + 1\n",
        "                        complete_file = country + '/' + entry + '/' + file_content\n",
        "\n",
        "                        with open(complete_file, mode=\"r\", encoding='utf-8') as csv_file:\n",
        "                            csv_reader = csv.reader(csv_file, delimiter='|')\n",
        "                            header = next(csv_reader)\n",
        "                            if header[0] == 'time' or header[0] == 'Date':\n",
        "                                with_dt = with_dt + 1\n",
        "                            else:\n",
        "                                missing_dt = missing_dt + 1\n",
        "                                total_missing = total_missing + 1\n",
        "                        csv_file.close()\n",
        "                \n",
        "                print(f' {centered_missing(missing_dt)}', end=' | ')\n",
        "                print(centered_with(with_dt), end=' | ')\n",
        "                print(centered_csv(csv_counter), end=' | ')\n",
        "                print(centered_country(country), end=' | ')\n",
        "                print(centered_category(entry))\n",
        "                total_csv_files = total_csv_files + csv_counter\n",
        "                \n",
        "        except:\n",
        "            total_dirs = total_dirs + 1\n",
        "            pass\n",
        "\n",
        "    country_counter = country_counter+1\n",
        "\n",
        "final_time = datetime.now()\n",
        "time_elapsed = final_time - initial_time\n",
        "print(f'\\nPasaron {time_elapsed.total_seconds()} segundos')\n",
        "print(final_time)\n",
        "\n",
        "print(f'\\nNeeds to check: {total_missing}')\n",
        "print(f'Total of csv files = {total_csv_files}')\n",
        "print(f'Total dirs: {total_dirs}')\n"
      ],
      "execution_count": null,
      "outputs": [
        {
          "output_type": "stream",
          "text": [
            "2020-08-05 21:40:08.675428\n",
            " Missing date/time | With date/time | csv_files | country |       Category     \n",
            "         17        |       51       |     68    |    mx   |       grocery      \n",
            "         17        |       49       |     66    |    mx   |      automotive    \n",
            "         16        |       45       |     61    |    mx   |    amazon-devices  \n",
            "         17        |       48       |     65    |    mx   |         baby       \n",
            "         17        |       43       |     60    |    mx   |     electronics    \n",
            "         16        |       43       |     59    |    mx   |        tools       \n",
            "         16        |       43       |     59    |    mx   |       kitchen      \n",
            "         16        |       42       |     58    |    mx   |      industrial    \n",
            "         16        |       42       |     58    |    mx   | musical-instruments\n",
            "         16        |       42       |     58    |    mx   |         toys       \n",
            "         16        |       41       |     57    |    mx   |        books       \n",
            "         16        |       41       |     57    |    mx   |        music       \n",
            "         16        |       41       |     57    |    mx   |    officeproduct   \n",
            "         16        |       41       |     57    |    mx   |         dvd        \n",
            "         16        |       41       |     57    |    mx   |       handmade     \n",
            "         16        |       41       |     57    |    mx   |     pet-supplies   \n",
            "         16        |       41       |     57    |    mx   |        shoes       \n",
            "         16        |       41       |     57    |    mx   |         hpc        \n",
            "         16        |       40       |     56    |    mx   |       software     \n",
            "         0         |       56       |     56    |    mx   |     digital-text   \n",
            "         16        |       40       |     56    |    mx   |      videogames    \n",
            " ----------------- | -------------- | --------- | ------- | -------------------\n",
            "         16        |        0       |     16    |    br   |       grocery      \n",
            "         16        |        0       |     16    |    br   |      automotive    \n",
            "         16        |       40       |     56    |    br   |    amazon-devices  \n",
            "         16        |        0       |     16    |    br   |         baby       \n",
            "         16        |       39       |     55    |    br   |        sports      \n",
            "         16        |       39       |     55    |    br   |     electronics    \n",
            "         16        |        0       |     16    |    br   |        tools       \n",
            "         16        |       38       |     54    |    br   |       kitchen      \n",
            "         16        |        0       |     16    |    br   |      industrial    \n",
            "         16        |        0       |     16    |    br   | musical-instruments\n",
            "         16        |       38       |     54    |    br   |         toys       \n",
            "         16        |       38       |     54    |    br   |        books       \n",
            "         16        |       38       |     54    |    br   |        music       \n",
            "         16        |        0       |     16    |    br   |    officeproduct   \n",
            "         16        |       37       |     53    |    br   |         dvd        \n",
            "         16        |        0       |     16    |    br   |       handmade     \n",
            "         16        |        0       |     16    |    br   |     pet-supplies   \n",
            "         16        |        0       |     16    |    br   |        shoes       \n",
            "         16        |       35       |     51    |    br   |         hpc        \n",
            "         16        |        0       |     16    |    br   |       software     \n",
            "         16        |       35       |     51    |    br   |     digital-text   \n",
            "         16        |       35       |     51    |    br   |      videogames    \n",
            "         0         |       39       |     39    |    br   |    baby-products   \n",
            "         0         |       38       |     38    |    br   |          hi        \n",
            "         0         |       35       |     35    |    br   |       fashion      \n",
            "         0         |       34       |     34    |    br   |     mobile-apps    \n",
            "         0         |       35       |     35    |    br   |        office      \n",
            "         0         |       34       |     34    |    br   |      computers     \n",
            "         0         |       34       |     34    |    br   |     pet-products   \n",
            "         0         |       33       |     33    |    br   |        beauty      \n",
            "         0         |       33       |     33    |    br   |         home       \n",
            "         0         |       33       |     33    |    br   |      appliances    \n",
            "         0         |       33       |     33    |    br   |   lawn-and-garden  \n",
            "         0         |       33       |     33    |    br   |      furniture     \n",
            "\n",
            "Pasaron 2.151733 segundos\n",
            "2020-08-05 21:40:10.827161\n",
            "\n",
            "Needs to check: 693\n",
            "Total of csv files = 2414\n",
            "Total dirs: 5127\n"
          ],
          "name": "stdout"
        }
      ]
    }
  ]
}