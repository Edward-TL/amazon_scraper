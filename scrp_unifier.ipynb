{
  "nbformat": 4,
  "nbformat_minor": 0,
  "metadata": {
    "colab": {
      "name": "scrp_unifier.ipynb",
      "provenance": [],
      "collapsed_sections": [],
      "toc_visible": true,
      "authorship_tag": "ABX9TyOqHTgmUR01hYLu8lqtBnmG",
      "include_colab_link": true
    },
    "kernelspec": {
      "name": "python3",
      "display_name": "Python 3"
    }
  },
  "cells": [
    {
      "cell_type": "markdown",
      "metadata": {
        "id": "view-in-github",
        "colab_type": "text"
      },
      "source": [
        "<a href=\"https://colab.research.google.com/github/Edward-TL/amazon_scraper/blob/master/scrp_unifier.ipynb\" target=\"_parent\"><img src=\"https://colab.research.google.com/assets/colab-badge.svg\" alt=\"Open In Colab\"/></a>"
      ]
    },
    {
      "cell_type": "markdown",
      "metadata": {
        "id": "VETqPMp7eh6e",
        "colab_type": "text"
      },
      "source": [
        "<ol>\n",
        "<li>**CHECKED** Obtener nombres de las categorias a las que pertenecen los archivos</li>\n",
        "<li>**CHECKED** Enviarlas a las carpetas a las que pertenecen con las fechas agregadas</li>\n",
        "<li>verificar que todos los archivos tengan la columna de las fechas</li>\n",
        "<li>Se crea una base maestra a partir de los registros más viejos</li>\n",
        "\n",
        "<li>crear el ID concatenando ranking y url</li>\n",
        "<li>si los 50 estan intactactos:</li>\n",
        "        no se consideran\n",
        "<li>si existe un cambio de posición</li>\n",
        "        se agrega a la base maestra.\n",
        "</ol>"
      ]
    },
    {
      "cell_type": "code",
      "metadata": {
        "id": "9t5CIDTcSVz6",
        "colab_type": "code",
        "colab": {
          "base_uri": "https://localhost:8080/",
          "height": 122
        },
        "outputId": "a8ff442e-9c0e-4d2a-928a-17a341cbe76e"
      },
      "source": [
        "from google.colab import drive\n",
        "drive.mount('/content/drive')"
      ],
      "execution_count": null,
      "outputs": [
        {
          "output_type": "stream",
          "text": [
            "Go to this URL in a browser: https://accounts.google.com/o/oauth2/auth?client_id=947318989803-6bn6qk8qdgf4n4g3pfee6491hc0brc4i.apps.googleusercontent.com&redirect_uri=urn%3aietf%3awg%3aoauth%3a2.0%3aoob&response_type=code&scope=email%20https%3a%2f%2fwww.googleapis.com%2fauth%2fdocs.test%20https%3a%2f%2fwww.googleapis.com%2fauth%2fdrive%20https%3a%2f%2fwww.googleapis.com%2fauth%2fdrive.photos.readonly%20https%3a%2f%2fwww.googleapis.com%2fauth%2fpeopleapi.readonly\n",
            "\n",
            "Enter your authorization code:\n",
            "··········\n",
            "Mounted at /content/drive\n"
          ],
          "name": "stdout"
        }
      ]
    },
    {
      "cell_type": "markdown",
      "metadata": {
        "id": "vom26fzG5LeT",
        "colab_type": "text"
      },
      "source": [
        "#Import and ubication"
      ]
    },
    {
      "cell_type": "markdown",
      "metadata": {
        "id": "lssGPVVp5Nuv",
        "colab_type": "text"
      },
      "source": [
        "##import"
      ]
    },
    {
      "cell_type": "code",
      "metadata": {
        "id": "k3ThUSbRWCAx",
        "colab_type": "code",
        "colab": {}
      },
      "source": [
        "#For the system\n",
        "import os\n",
        "\n",
        "#Manage of time\n",
        "from datetime import datetime\n",
        "import time\n",
        "\n",
        "#Manage of files\n",
        "import pandas as pd\n",
        "import csv"
      ],
      "execution_count": null,
      "outputs": []
    },
    {
      "cell_type": "markdown",
      "metadata": {
        "id": "HUuWuacf5PRp",
        "colab_type": "text"
      },
      "source": [
        "##%cd 'drive/My Drive/Colab Notebooks/4SS/4SS_db/testing'"
      ]
    },
    {
      "cell_type": "code",
      "metadata": {
        "id": "o955ldYMZDJj",
        "colab_type": "code",
        "colab": {
          "base_uri": "https://localhost:8080/",
          "height": 52
        },
        "outputId": "a3555b28-d58f-4a3b-d7a1-f5fa3773caed"
      },
      "source": [
        "%cd 'drive/My Drive/Colab Notebooks/4SS/4SS_db/testing'\n",
        "!ls"
      ],
      "execution_count": null,
      "outputs": [
        {
          "output_type": "stream",
          "text": [
            "/content/drive/My Drive/Colab Notebooks/4SS/4SS_db/testing\n",
            "br  logs  mx\n"
          ],
          "name": "stdout"
        }
      ]
    },
    {
      "cell_type": "code",
      "metadata": {
        "id": "AkIiW-90Zjmc",
        "colab_type": "code",
        "colab": {}
      },
      "source": [
        "# entries_mx = os.listdir('mx')\n",
        "# print(entries_mx)\n",
        "# entries_br = os.listdir('br')\n",
        "# print(entries_br)"
      ],
      "execution_count": null,
      "outputs": []
    },
    {
      "cell_type": "markdown",
      "metadata": {
        "id": "t4lw0N6M13MM",
        "colab_type": "text"
      },
      "source": [
        "##rename_folders_files"
      ]
    },
    {
      "cell_type": "code",
      "metadata": {
        "id": "G1UHMpplroiA",
        "colab_type": "code",
        "colab": {}
      },
      "source": [
        "def rename_folders_files(str_dir, change_this, to_this):\n",
        "\n",
        "    edited_name = str_dir.replace(change_this, to_this)\n",
        "    if edited_name != str_dir:\n",
        "        os.rename(str_dir, edited_name)\n",
        "    else:\n",
        "        pass"
      ],
      "execution_count": null,
      "outputs": []
    },
    {
      "cell_type": "code",
      "metadata": {
        "id": "radkoalqh4MI",
        "colab_type": "code",
        "colab": {}
      },
      "source": [
        "string_test = 'mx/grocery/mx-test_grocery_2020-07-31 15_52.csv'\n",
        "change_this = ':'\n",
        "to_this = '_'\n",
        "rename_folders_files(string_test, change_this, to_this)\n"
      ],
      "execution_count": null,
      "outputs": []
    },
    {
      "cell_type": "code",
      "metadata": {
        "id": "hvkYlDjR8Lrh",
        "colab_type": "code",
        "colab": {
          "base_uri": "https://localhost:8080/",
          "height": 34
        },
        "outputId": "b800b0f7-95e0-4add-ab30-532f18c8820b"
      },
      "source": [
        "date = datetime.now()\n",
        "date"
      ],
      "execution_count": null,
      "outputs": [
        {
          "output_type": "execute_result",
          "data": {
            "text/plain": [
              "datetime.datetime(2020, 8, 6, 1, 2, 23, 70034)"
            ]
          },
          "metadata": {
            "tags": []
          },
          "execution_count": 7
        }
      ]
    },
    {
      "cell_type": "markdown",
      "metadata": {
        "id": "43kkkE6y10H-",
        "colab_type": "text"
      },
      "source": [
        "##Centered_len"
      ]
    },
    {
      "cell_type": "code",
      "metadata": {
        "id": "SblG0OnL__Un",
        "colab_type": "code",
        "colab": {}
      },
      "source": [
        "def centered_len(max_len):\n",
        "    def centered_string(string):\n",
        "        if type(string) != 'string':\n",
        "            string = str(string)\n",
        "            \n",
        "        rest = max_len - len(string)\n",
        "        n_spaces = int(rest/2)\n",
        "\n",
        "        string_spaces = ' ' * n_spaces\n",
        "        \n",
        "        centered_string = string_spaces + string + string_spaces\n",
        "\n",
        "        if len(centered_string)<max_len:\n",
        "            centered_string = ' ' + centered_string\n",
        "\n",
        "        return centered_string\n",
        "    return centered_string"
      ],
      "execution_count": null,
      "outputs": []
    },
    {
      "cell_type": "code",
      "metadata": {
        "id": "x_PgW4uq1_Yp",
        "colab_type": "code",
        "colab": {
          "base_uri": "https://localhost:8080/",
          "height": 52
        },
        "outputId": "d21aa415-98b6-415d-ba03-11f7157bbf7c"
      },
      "source": [
        "centered_missing = centered_len(len('musical-instruments'))\n",
        "print('musical-instruments')\n",
        "centered_missing('category')\n"
      ],
      "execution_count": null,
      "outputs": [
        {
          "output_type": "stream",
          "text": [
            "musical-instruments\n"
          ],
          "name": "stdout"
        },
        {
          "output_type": "execute_result",
          "data": {
            "application/vnd.google.colaboratory.intrinsic+json": {
              "type": "string"
            },
            "text/plain": [
              "'      category     '"
            ]
          },
          "metadata": {
            "tags": []
          },
          "execution_count": 9
        }
      ]
    },
    {
      "cell_type": "code",
      "metadata": {
        "id": "icTSdbrc_shZ",
        "colab_type": "code",
        "colab": {}
      },
      "source": [
        "countries= ['mx','br']"
      ],
      "execution_count": null,
      "outputs": []
    },
    {
      "cell_type": "code",
      "metadata": {
        "id": "FhY_6bflISNm",
        "colab_type": "code",
        "colab": {
          "base_uri": "https://localhost:8080/",
          "height": 34
        },
        "outputId": "1d7b4696-aaae-4bd9-f959-2b6e26342341"
      },
      "source": [
        "!ls"
      ],
      "execution_count": null,
      "outputs": [
        {
          "output_type": "stream",
          "text": [
            "br  logs  mx\n"
          ],
          "name": "stdout"
        }
      ]
    },
    {
      "cell_type": "code",
      "metadata": {
        "id": "LyIAjsDoeuRK",
        "colab_type": "code",
        "colab": {
          "base_uri": "https://localhost:8080/",
          "height": 1000
        },
        "outputId": "b2eed999-23c5-45a5-c335-fa0fe8019d79"
      },
      "source": [
        "#por pais en paises\n",
        "initial_time = datetime.now()\n",
        "print(initial_time)\n",
        "\n",
        "\n",
        "country_counter = 0\n",
        "print(' Missing date/time | With date/time | csv_files | country | ------Category---- ')\n",
        "\n",
        "centered_missing = centered_len(len('Missing date/time'))\n",
        "centered_with = centered_len(len('With date/time'))\n",
        "centered_csv = centered_len(len('csv_files'))\n",
        "centered_country = centered_len(len('country'))\n",
        "#largest category name: musical-instruments\n",
        "centered_category = centered_len(len('musical-instruments'))\n",
        "\n",
        "total_csv_files = 0\n",
        "total_dirs = 0\n",
        "total_missing = 0\n",
        "\n",
        "for country in countries:\n",
        "    country_entries = os.listdir(country)\n",
        "    if country_counter > 0:\n",
        "        print(' ----------------- | -------------- | --------- | ------- | -------------------')\n",
        "    #por carpeta en paises\n",
        "    for entry in country_entries:\n",
        "        try:\n",
        "            total_dirs = total_dirs + 1\n",
        "            #Archivos en carpetas\n",
        "            folder_files = os.listdir(country + '/' + entry)\n",
        "            if folder_files[:2] != country:\n",
        "                csv_counter = 0\n",
        "                with_dt = 0\n",
        "                missing_dt = 0        \n",
        "\n",
        "                for file_content in folder_files:\n",
        "                    total_dirs = total_dirs + 1    \n",
        "                    #Archivo csv\n",
        "                    if file_content[-3:] == 'csv':\n",
        "                        csv_counter = csv_counter + 1\n",
        "                        complete_file = country + '/' + entry + '/' + file_content\n",
        "\n",
        "                        with open(complete_file, mode=\"r\", encoding='utf-8') as csv_file:\n",
        "                            csv_reader = csv.reader(csv_file, delimiter='|')\n",
        "                            header = next(csv_reader)\n",
        "                            if header[0] == 'time' or header[0] == 'Date':\n",
        "                                with_dt = with_dt + 1\n",
        "                            else:\n",
        "                                missing_dt = missing_dt + 1\n",
        "                                total_missing = total_missing + 1\n",
        "                        csv_file.close()\n",
        "                \n",
        "                print(f' {centered_missing(missing_dt)}', end=' | ')\n",
        "                print(centered_with(with_dt), end=' | ')\n",
        "                print(centered_csv(csv_counter), end=' | ')\n",
        "                print(centered_country(country), end=' | ')\n",
        "                print(centered_category(entry))\n",
        "                total_csv_files = total_csv_files + csv_counter\n",
        "                \n",
        "        except:\n",
        "            total_dirs = total_dirs + 1\n",
        "            pass\n",
        "\n",
        "    country_counter = country_counter+1\n",
        "\n",
        "final_time = datetime.now()\n",
        "time_elapsed = final_time - initial_time\n",
        "print(f'\\nPasaron {time_elapsed.total_seconds()} segundos')\n",
        "print(final_time)\n",
        "\n",
        "print(f'\\nNeeds to check: {total_missing}')\n",
        "print(f'Total of csv files = {total_csv_files}')\n",
        "print(f'Total dirs: {total_dirs}')\n"
      ],
      "execution_count": null,
      "outputs": [
        {
          "output_type": "stream",
          "text": [
            "2020-08-06 01:02:24.348107\n",
            " Missing date/time | With date/time | csv_files | country | ------Category---- \n",
            "         16        |       40       |     56    |    mx   |      videogames    \n",
            "         16        |       42       |     58    |    mx   |         toys       \n",
            "         16        |       42       |     58    |    mx   | musical-instruments\n",
            "         16        |       41       |     57    |    mx   |     pet-supplies   \n",
            "         16        |       43       |     59    |    mx   |        tools       \n",
            "         16        |       41       |     57    |    mx   |    officeproduct   \n",
            "         16        |       40       |     56    |    mx   |       software     \n",
            "         16        |       41       |     57    |    mx   |        shoes       \n",
            "         16        |       41       |     57    |    mx   |        music       \n",
            "         0         |       56       |     56    |    mx   |     digital-text   \n",
            "         16        |       41       |     57    |    mx   |        books       \n",
            "         17        |       43       |     60    |    mx   |     electronics    \n",
            "         16        |       41       |     57    |    mx   |         dvd        \n",
            "         17        |       48       |     65    |    mx   |         baby       \n",
            "         16        |       41       |     57    |    mx   |         hpc        \n",
            "         18        |       50       |     68    |    mx   |       grocery      \n",
            "         16        |       41       |     57    |    mx   |       handmade     \n",
            "         16        |       43       |     59    |    mx   |       kitchen      \n",
            "         16        |       42       |     58    |    mx   |      industrial    \n",
            "         17        |       49       |     66    |    mx   |      automotive    \n",
            "         16        |       45       |     61    |    mx   |    amazon-devices  \n",
            " ----------------- | -------------- | --------- | ------- | -------------------\n",
            "         0         |       34       |     34    |    br   |     pet-products   \n",
            "         16        |        0       |     16    |    br   |        tools       \n",
            "         16        |        0       |     16    |    br   |       software     \n",
            "         16        |       39       |     55    |    br   |        sports      \n",
            "         16        |        0       |     16    |    br   |        shoes       \n",
            "         16        |       35       |     51    |    br   |      videogames    \n",
            "         16        |       38       |     54    |    br   |         toys       \n",
            "         16        |        0       |     16    |    br   |     pet-supplies   \n",
            "         0         |       33       |     33    |    br   |   lawn-and-garden  \n",
            "         16        |        0       |     16    |    br   | musical-instruments\n",
            "         16        |       38       |     54    |    br   |       kitchen      \n",
            "         16        |        0       |     16    |    br   |      industrial    \n",
            "         16        |       35       |     51    |    br   |         hpc        \n",
            "         16        |        0       |     16    |    br   |    officeproduct   \n",
            "         0         |       33       |     33    |    br   |         home       \n",
            "         0         |       35       |     35    |    br   |        office      \n",
            "         16        |       38       |     54    |    br   |        music       \n",
            "         0         |       34       |     34    |    br   |     mobile-apps    \n",
            "         0         |       38       |     38    |    br   |          hi        \n",
            "         16        |       39       |     55    |    br   |     electronics    \n",
            "         16        |       37       |     53    |    br   |         dvd        \n",
            "         0         |       33       |     33    |    br   |      furniture     \n",
            "         16        |       38       |     54    |    br   |        books       \n",
            "         16        |        0       |     16    |    br   |       grocery      \n",
            "         16        |        0       |     16    |    br   |       handmade     \n",
            "         16        |       35       |     51    |    br   |     digital-text   \n",
            "         0         |       34       |     34    |    br   |      computers     \n",
            "         0         |       35       |     35    |    br   |       fashion      \n",
            "         0         |       33       |     33    |    br   |      appliances    \n",
            "         16        |       40       |     56    |    br   |    amazon-devices  \n",
            "         0         |       33       |     33    |    br   |        beauty      \n",
            "         16        |        0       |     16    |    br   |      automotive    \n",
            "         16        |        0       |     16    |    br   |         baby       \n",
            "         0         |       39       |     39    |    br   |    baby-products   \n",
            "\n",
            "Pasaron 2.179858 segundos\n",
            "2020-08-06 01:02:26.527965\n",
            "\n",
            "Needs to check: 684\n",
            "Total of csv files = 2414\n",
            "Total dirs: 5103\n"
          ],
          "name": "stdout"
        }
      ]
    },
    {
      "cell_type": "code",
      "metadata": {
        "id": "zLhvV-bzAYc7",
        "colab_type": "code",
        "colab": {
          "base_uri": "https://localhost:8080/",
          "height": 66
        },
        "outputId": "a144ee1d-fef5-4003-84ac-103f49d7ab99"
      },
      "source": [
        "%cd '..'\n",
        "%cd 'test_adder'\n",
        "!ls"
      ],
      "execution_count": null,
      "outputs": [
        {
          "output_type": "stream",
          "text": [
            "/content/drive/My Drive/Colab Notebooks/4SS/4SS_db\n",
            "/content/drive/My Drive/Colab Notebooks/4SS/4SS_db/test_adder\n",
            "br  mx\n"
          ],
          "name": "stdout"
        }
      ]
    },
    {
      "cell_type": "markdown",
      "metadata": {
        "id": "v3A8O1tZ791s",
        "colab_type": "text"
      },
      "source": [
        "##add_date"
      ]
    },
    {
      "cell_type": "code",
      "metadata": {
        "id": "FrXNWaBiZwQu",
        "colab_type": "code",
        "colab": {}
      },
      "source": [
        "def add_date(entry):\n",
        "    '''Bbtain date and made it a Pandas Series'''\n",
        "    date_file = entry[-20:]\n",
        "    str_date = date_file[:16]\n",
        "    date = datetime.strptime(str_date,'%Y-%m-%d %H_%M')\n",
        "    date_array = [date]*50\n",
        "    date_series = pd.Series(date_array, name='time')\n",
        "\n",
        "    '''Concat the Date Serie to the main dataframe'''\n",
        "    main_df = pd.read_csv(entry, sep='|')\n",
        "    new_df = pd.concat([date_series, main_df], axis=1)\n",
        "    new_df.to_csv(entry, sep='|', index= False)\n",
        "    new_df\n",
        "\n",
        "    file_name_len = (len(entry)-3)\n",
        "    file_name = entry[:file_name_len]\n",
        "    excel_name = file_name + 'xlsx'\n",
        "    new_df.to_excel(excel_name, index= False)\n"
      ],
      "execution_count": null,
      "outputs": []
    },
    {
      "cell_type": "markdown",
      "metadata": {
        "id": "PW_TlmtSTDIU",
        "colab_type": "text"
      },
      "source": [
        "#Prueba en test_Adder"
      ]
    },
    {
      "cell_type": "code",
      "metadata": {
        "id": "253YAhmnGPLq",
        "colab_type": "code",
        "colab": {
          "base_uri": "https://localhost:8080/",
          "height": 326
        },
        "outputId": "f57d7686-e637-457f-cde3-0873ad97bc24"
      },
      "source": [
        "initial_time = datetime.now()\n",
        "print(initial_time)\n",
        "\n",
        "\n",
        "country_counter = 0\n",
        "print(' Added date/time | With date/time | csv_files | country |       Category     ')\n",
        "\n",
        "centered_missing = centered_len(len('Added date/time'))\n",
        "centered_with = centered_len(len('With date/time'))\n",
        "centered_csv = centered_len(len('csv_files'))\n",
        "centered_country = centered_len(len('country'))\n",
        "#largest category name: musical-instruments\n",
        "centered_category = centered_len(len('musical-instruments'))\n",
        "\n",
        "total_csv_files = 0\n",
        "total_dirs = 0\n",
        "total_changed = 0\n",
        "error_count = 0\n",
        "errors = []\n",
        "\n",
        "countries = ['mx', 'br']\n",
        "\n",
        "for country in countries:\n",
        "    country_entries = os.listdir(country)\n",
        "    if country_counter > 0:\n",
        "        print(' ----------------- | -------------- | --------- | ------- | -------------------')\n",
        "    #por carpeta en paises\n",
        "    for entry in country_entries:\n",
        "        files_ok = False\n",
        "        try:\n",
        "            total_dirs = total_dirs + 1\n",
        "            #Archivos en carpetas\n",
        "            files_dir = f'{country}/{entry}'\n",
        "            folder_files = os.listdir(files_dir)\n",
        "\n",
        "            files_ok = True\n",
        "        except:\n",
        "            total_dirs = total_dirs + 1\n",
        "            pass\n",
        "        \n",
        "        if files_ok == True:\n",
        "            if folder_files[:2] != country:\n",
        "                csv_counter = 0\n",
        "                with_dt = 0\n",
        "                changed_dt = 0        \n",
        "\n",
        "                for file_content in folder_files:\n",
        "                    total_dirs = total_dirs + 1    \n",
        "                    #Archivo csv\n",
        "                    if file_content[-3:] == 'csv':\n",
        "                        csv_counter = csv_counter + 1\n",
        "                        complete_file = f'{country}/{entry}/{file_content}'\n",
        "\n",
        "                        with open(complete_file, mode=\"r\", encoding='utf-8') as csv_file:\n",
        "                            csv_reader = csv.reader(csv_file, delimiter='|')\n",
        "                            header = next(csv_reader)\n",
        "                            if header[0] == 'time' or header[0] == 'Date':\n",
        "                                with_dt = with_dt + 1\n",
        "                            else:\n",
        "                                rename_folders_files(complete_file, ':', '_')\n",
        "                                try:\n",
        "                                    add_date(complete_file)\n",
        "                                except: \n",
        "                                    pass\n",
        "                                changed_dt = changed_dt + 1\n",
        "                                total_changed = total_changed + 1\n",
        "\n",
        "                            if header[0] == header[1]:\n",
        "                                error_count = error_count + 1\n",
        "                                errors.append(complete_file)\n",
        "                            elif header[0] == header[1][:4]:\n",
        "                                error_count = error_count + 1\n",
        "                                errors.append(complete_file)\n",
        "\n",
        "                \n",
        "            print(f' {centered_missing(changed_dt)}', end=' | ')\n",
        "            print(centered_with(with_dt), end=' | ')\n",
        "            print(centered_csv(csv_counter), end=' | ')\n",
        "            print(centered_country(country), end=' | ')\n",
        "            print(centered_category(entry))\n",
        "            total_csv_files = total_csv_files + csv_counter\n",
        "\n",
        "final_time = datetime.now()\n",
        "time_elapsed = final_time - initial_time\n",
        "print(f'\\nPasaron {time_elapsed.total_seconds()} segundos')\n",
        "print(final_time)\n",
        "\n",
        "print(f'\\nChanged to check: {total_changed}')\n",
        "print(f'Total of csv files = {total_csv_files}')\n",
        "print(f'Total dirs: {total_dirs}')\n",
        "print(f'\\nErrors: {error_count}')\n",
        "print(errors)"
      ],
      "execution_count": null,
      "outputs": [
        {
          "output_type": "stream",
          "text": [
            "2020-08-06 01:57:07.003403\n",
            " Added date/time | With date/time | csv_files | country |       Category     \n",
            "        0        |       57       |     57    |    mx   |       handmade     \n",
            "        0        |       57       |     57    |    mx   |        shoes       \n",
            "        0        |       56       |     56    |    mx   |      videogames    \n",
            "        4        |       56       |     60    |    br   |    amazon-devices  \n",
            "        0        |       16       |     16    |    br   |         baby       \n",
            "        0        |       39       |     39    |    br   |    baby-products   \n",
            "        0        |       33       |     33    |    br   |      furniture     \n",
            "\n",
            "Pasaron 0.278798 segundos\n",
            "2020-08-06 01:57:07.282201\n",
            "\n",
            "Changed to check: 4\n",
            "Total of csv files = 318\n",
            "Total dirs: 405\n",
            "\n",
            "Errors: 0\n",
            "[]\n"
          ],
          "name": "stdout"
        }
      ]
    },
    {
      "cell_type": "markdown",
      "metadata": {
        "id": "sdkyvmwKTIYc",
        "colab_type": "text"
      },
      "source": [
        "#100% real no fake"
      ]
    },
    {
      "cell_type": "code",
      "metadata": {
        "id": "msl4aTcbfbma",
        "colab_type": "code",
        "colab": {
          "base_uri": "https://localhost:8080/",
          "height": 66
        },
        "outputId": "cc6239b0-2a0b-4900-d42f-133e3a7a6b0f"
      },
      "source": [
        "%cd '..'\n",
        "%cd 'testing'\n",
        "!ls"
      ],
      "execution_count": null,
      "outputs": [
        {
          "output_type": "stream",
          "text": [
            "/content/drive/My Drive/Colab Notebooks/4SS/4SS_db\n",
            "/content/drive/My Drive/Colab Notebooks/4SS/4SS_db/testing\n",
            "br  logs  mx\n"
          ],
          "name": "stdout"
        }
      ]
    },
    {
      "cell_type": "code",
      "metadata": {
        "id": "OWv5yYATM04q",
        "colab_type": "code",
        "colab": {
          "base_uri": "https://localhost:8080/",
          "height": 1000
        },
        "outputId": "de6434f0-4588-45b8-82eb-54844f1475af"
      },
      "source": [
        "#por pais en paises\n",
        "initial_time = datetime.now()\n",
        "print(initial_time)\n",
        "\n",
        "\n",
        "country_counter = 0\n",
        "print(' Added date/time | With date/time | csv_files | country |       Category     ')\n",
        "\n",
        "centered_missing = centered_len(len('Missing date/time'))\n",
        "centered_with = centered_len(len('With date/time'))\n",
        "centered_csv = centered_len(len('csv_files'))\n",
        "centered_country = centered_len(len('country'))\n",
        "#largest category name: musical-instruments\n",
        "centered_category = centered_len(len('musical-instruments'))\n",
        "\n",
        "total_csv_files = 0\n",
        "total_dirs = 0\n",
        "total_changed = 0\n",
        "error_count = 0\n",
        "errors = []\n",
        "\n",
        "for country in countries:\n",
        "    country_entries = os.listdir(country)\n",
        "    if country_counter > 0:\n",
        "        print(' ----------------- | -------------- | --------- | ------- | -------------------')\n",
        "    #por carpeta en paises\n",
        "    for entry in country_entries:\n",
        "        files_ok = False\n",
        "        try:\n",
        "            total_dirs = total_dirs + 1\n",
        "            #Archivos en carpetas\n",
        "            files_dir = f'{country}/{entry}'\n",
        "            folder_files = os.listdir(files_dir)\n",
        "            files_ok = True\n",
        "        except:\n",
        "            total_dirs = total_dirs + 1\n",
        "            pass\n",
        "        \n",
        "        if files_ok == True:\n",
        "            if folder_files[:2] != country:\n",
        "                csv_counter = 0\n",
        "                with_dt = 0\n",
        "                changed_dt = 0        \n",
        "\n",
        "                for file_content in folder_files:\n",
        "                    total_dirs = total_dirs + 1    \n",
        "                    #Archivo csv\n",
        "                    if file_content[-3:] == 'csv':\n",
        "                        csv_counter = csv_counter + 1\n",
        "                        complete_file = f'{country}/{entry}/{file_content}'\n",
        "                        \n",
        "                        with open(complete_file, mode=\"r\", encoding='utf-8') as csv_file:\n",
        "                            csv_reader = csv.reader(csv_file, delimiter='|')\n",
        "                            \n",
        "                            try:\n",
        "                                header = next(csv_reader)\n",
        "                                if header[0] == 'time' or header[0] == 'Date':\n",
        "                                    with_dt = with_dt + 1\n",
        "                                else:\n",
        "                                    rename_folders_files(complete_file, ':', '_')\n",
        "                                    try:\n",
        "                                        add_date(complete_file)\n",
        "                                    except: \n",
        "                                        pass\n",
        "                                    changed_dt = changed_dt + 1\n",
        "                                    total_changed = total_changed + 1\n",
        "\n",
        "                                if header[0] == header[1]:\n",
        "                                    error_count = error_count + 1\n",
        "                                    errors.append(complete_file)\n",
        "                                elif header[0] == header[1][:4]:\n",
        "                                    error_count = error_count + 1\n",
        "                                    errors.append(complete_file)\n",
        "\n",
        "                                csv_file.close()\n",
        "                                #File is empty\n",
        "                            except StopIteration:\n",
        "                                csv_file.close()\n",
        "                                \n",
        "\n",
        "                print(f' {centered_missing(changed_dt)}', end=' | ')\n",
        "                print(centered_with(with_dt), end=' | ')\n",
        "                print(centered_csv(csv_counter), end=' | ')\n",
        "                print(centered_country(country), end=' | ')\n",
        "                print(centered_category(entry))\n",
        "                total_csv_files = total_csv_files + csv_counter\n",
        "                \n",
        "\n",
        "\n",
        "    country_counter = country_counter+1\n",
        "\n",
        "final_time = datetime.now()\n",
        "time_elapsed = final_time - initial_time\n",
        "print(f'\\nPasaron {time_elapsed.total_seconds()} segundos')\n",
        "print(final_time)\n",
        "\n",
        "print(f'\\nChanged to check: {total_changed}')\n",
        "print(f'Total of csv files = {total_csv_files}')\n",
        "print(f'Total dirs: {total_dirs}')\n",
        "print(f'\\nErrors: {error_count}')\n",
        "print(errors)"
      ],
      "execution_count": null,
      "outputs": [
        {
          "output_type": "stream",
          "text": [
            "2020-08-06 02:08:55.308543\n",
            " Added date/time | With date/time | csv_files | country |       Category     \n",
            "         0         |       56       |     56    |    mx   |      videogames    \n",
            "         0         |       58       |     58    |    mx   |         toys       \n",
            "         0         |       58       |     58    |    mx   | musical-instruments\n",
            "         0         |       57       |     57    |    mx   |     pet-supplies   \n",
            "         0         |       59       |     59    |    mx   |        tools       \n",
            "         0         |       57       |     57    |    mx   |    officeproduct   \n",
            "         0         |       56       |     56    |    mx   |       software     \n",
            "         10        |       52       |     63    |    mx   |        sports      \n",
            "         16        |       41       |     57    |    mx   |        shoes       \n",
            "         16        |       41       |     57    |    mx   |        music       \n",
            "         0         |       56       |     56    |    mx   |     digital-text   \n",
            "         16        |       41       |     57    |    mx   |        books       \n",
            "         17        |       43       |     60    |    mx   |     electronics    \n",
            "         16        |       41       |     57    |    mx   |         dvd        \n",
            "         17        |       48       |     65    |    mx   |         baby       \n",
            "         16        |       41       |     57    |    mx   |         hpc        \n",
            "         18        |       50       |     68    |    mx   |       grocery      \n",
            "         16        |       41       |     57    |    mx   |       handmade     \n",
            "         16        |       43       |     59    |    mx   |       kitchen      \n",
            "         16        |       42       |     58    |    mx   |      industrial    \n",
            "         17        |       49       |     66    |    mx   |      automotive    \n",
            "         16        |       45       |     61    |    mx   |    amazon-devices  \n",
            " ----------------- | -------------- | --------- | ------- | -------------------\n",
            "         0         |       34       |     34    |    br   |     pet-products   \n",
            "         16        |        0       |     16    |    br   |        tools       \n",
            "         16        |        0       |     16    |    br   |       software     \n",
            "         16        |       39       |     55    |    br   |        sports      \n",
            "         16        |        0       |     16    |    br   |        shoes       \n",
            "         16        |       35       |     51    |    br   |      videogames    \n",
            "         16        |       38       |     54    |    br   |         toys       \n",
            "         16        |        0       |     16    |    br   |     pet-supplies   \n",
            "         0         |       33       |     33    |    br   |   lawn-and-garden  \n",
            "         16        |        0       |     16    |    br   | musical-instruments\n",
            "         16        |       38       |     54    |    br   |       kitchen      \n",
            "         16        |        0       |     16    |    br   |      industrial    \n",
            "         16        |       35       |     51    |    br   |         hpc        \n",
            "         16        |        0       |     16    |    br   |    officeproduct   \n",
            "         0         |       33       |     33    |    br   |         home       \n",
            "         0         |       35       |     35    |    br   |        office      \n",
            "         16        |       38       |     54    |    br   |        music       \n",
            "         0         |       34       |     34    |    br   |     mobile-apps    \n",
            "         0         |       38       |     38    |    br   |          hi        \n",
            "         16        |       39       |     55    |    br   |     electronics    \n",
            "         16        |       37       |     53    |    br   |         dvd        \n",
            "         0         |       33       |     33    |    br   |      furniture     \n",
            "         16        |       38       |     54    |    br   |        books       \n",
            "         16        |        0       |     16    |    br   |       grocery      \n",
            "         16        |        0       |     16    |    br   |       handmade     \n",
            "         16        |       35       |     51    |    br   |     digital-text   \n",
            "         0         |       34       |     34    |    br   |      computers     \n",
            "         0         |       35       |     35    |    br   |       fashion      \n",
            "         0         |       33       |     33    |    br   |      appliances    \n",
            "         16        |       40       |     56    |    br   |    amazon-devices  \n",
            "         0         |       33       |     33    |    br   |        beauty      \n",
            "         16        |        0       |     16    |    br   |      automotive    \n",
            "         16        |        0       |     16    |    br   |         baby       \n",
            "         0         |       39       |     39    |    br   |    baby-products   \n",
            "\n",
            "Pasaron 155.813955 segundos\n",
            "2020-08-06 02:11:31.122498\n",
            "\n",
            "Changed to check: 575\n",
            "Total of csv files = 2477\n",
            "Total dirs: 5185\n",
            "\n",
            "Errors: 0\n",
            "[]\n"
          ],
          "name": "stdout"
        }
      ]
    },
    {
      "cell_type": "code",
      "metadata": {
        "id": "QHn42oZGf7qi",
        "colab_type": "code",
        "colab": {}
      },
      "source": [
        ""
      ],
      "execution_count": null,
      "outputs": []
    },
    {
      "cell_type": "code",
      "metadata": {
        "colab_type": "code",
        "id": "nqF9eH27f8Pn",
        "colab": {
          "base_uri": "https://localhost:8080/",
          "height": 1000
        },
        "outputId": "6471d6a5-5bc9-4979-d4bd-8a0184e0e35e"
      },
      "source": [
        "#por pais en paises\n",
        "initial_time = datetime.now()\n",
        "print(initial_time)\n",
        "\n",
        "\n",
        "country_counter = 0\n",
        "print(' Missing date/time | With date/time | csv_files | country |       Category     ')\n",
        "\n",
        "centered_missing = centered_len(len('Missing date/time'))\n",
        "centered_with = centered_len(len('With date/time'))\n",
        "centered_csv = centered_len(len('csv_files'))\n",
        "centered_country = centered_len(len('country'))\n",
        "#largest category name: musical-instruments\n",
        "centered_category = centered_len(len('musical-instruments'))\n",
        "\n",
        "total_csv_files = 0\n",
        "total_dirs = 0\n",
        "total_missing = 0\n",
        "\n",
        "for country in countries:\n",
        "    country_entries = os.listdir(country)\n",
        "    if country_counter > 0:\n",
        "        print(' ----------------- | -------------- | --------- | ------- | -------------------')\n",
        "    #por carpeta en paises\n",
        "    for entry in country_entries:\n",
        "        try:\n",
        "            total_dirs = total_dirs + 1\n",
        "            #Archivos en carpetas\n",
        "            folder_files = os.listdir(country + '/' + entry)\n",
        "            if folder_files[:2] != country:\n",
        "                csv_counter = 0\n",
        "                with_dt = 0\n",
        "                missing_dt = 0        \n",
        "\n",
        "                for file_content in folder_files:\n",
        "                    total_dirs = total_dirs + 1    \n",
        "                    #Archivo csv\n",
        "                    if file_content[-3:] == 'csv':\n",
        "                        csv_counter = csv_counter + 1\n",
        "                        complete_file = country + '/' + entry + '/' + file_content\n",
        "\n",
        "                        with open(complete_file, mode=\"r\", encoding='utf-8') as csv_file:\n",
        "                            csv_reader = csv.reader(csv_file, delimiter='|')\n",
        "                            header = next(csv_reader)\n",
        "                            if header[0] == 'time' or header[0] == 'Date':\n",
        "                                with_dt = with_dt + 1\n",
        "                            else:\n",
        "                                missing_dt = missing_dt + 1\n",
        "                                total_missing = total_missing + 1\n",
        "                        csv_file.close()\n",
        "                \n",
        "                print(f' {centered_missing(missing_dt)}', end=' | ')\n",
        "                print(centered_with(with_dt), end=' | ')\n",
        "                print(centered_csv(csv_counter), end=' | ')\n",
        "                print(centered_country(country), end=' | ')\n",
        "                print(centered_category(entry))\n",
        "                total_csv_files = total_csv_files + csv_counter\n",
        "                \n",
        "        except:\n",
        "            total_dirs = total_dirs + 1\n",
        "            pass\n",
        "\n",
        "    country_counter = country_counter+1\n",
        "\n",
        "final_time = datetime.now()\n",
        "time_elapsed = final_time - initial_time\n",
        "print(f'\\nPasaron {time_elapsed.total_seconds()} segundos')\n",
        "print(final_time)\n",
        "\n",
        "print(f'\\nNeeds to check: {total_missing}')\n",
        "print(f'Total of csv files = {total_csv_files}')\n",
        "print(f'Total dirs: {total_dirs}')\n"
      ],
      "execution_count": null,
      "outputs": [
        {
          "output_type": "stream",
          "text": [
            "2020-08-05 21:40:08.675428\n",
            " Missing date/time | With date/time | csv_files | country |       Category     \n",
            "         17        |       51       |     68    |    mx   |       grocery      \n",
            "         17        |       49       |     66    |    mx   |      automotive    \n",
            "         16        |       45       |     61    |    mx   |    amazon-devices  \n",
            "         17        |       48       |     65    |    mx   |         baby       \n",
            "         17        |       43       |     60    |    mx   |     electronics    \n",
            "         16        |       43       |     59    |    mx   |        tools       \n",
            "         16        |       43       |     59    |    mx   |       kitchen      \n",
            "         16        |       42       |     58    |    mx   |      industrial    \n",
            "         16        |       42       |     58    |    mx   | musical-instruments\n",
            "         16        |       42       |     58    |    mx   |         toys       \n",
            "         16        |       41       |     57    |    mx   |        books       \n",
            "         16        |       41       |     57    |    mx   |        music       \n",
            "         16        |       41       |     57    |    mx   |    officeproduct   \n",
            "         16        |       41       |     57    |    mx   |         dvd        \n",
            "         16        |       41       |     57    |    mx   |       handmade     \n",
            "         16        |       41       |     57    |    mx   |     pet-supplies   \n",
            "         16        |       41       |     57    |    mx   |        shoes       \n",
            "         16        |       41       |     57    |    mx   |         hpc        \n",
            "         16        |       40       |     56    |    mx   |       software     \n",
            "         0         |       56       |     56    |    mx   |     digital-text   \n",
            "         16        |       40       |     56    |    mx   |      videogames    \n",
            " ----------------- | -------------- | --------- | ------- | -------------------\n",
            "         16        |        0       |     16    |    br   |       grocery      \n",
            "         16        |        0       |     16    |    br   |      automotive    \n",
            "         16        |       40       |     56    |    br   |    amazon-devices  \n",
            "         16        |        0       |     16    |    br   |         baby       \n",
            "         16        |       39       |     55    |    br   |        sports      \n",
            "         16        |       39       |     55    |    br   |     electronics    \n",
            "         16        |        0       |     16    |    br   |        tools       \n",
            "         16        |       38       |     54    |    br   |       kitchen      \n",
            "         16        |        0       |     16    |    br   |      industrial    \n",
            "         16        |        0       |     16    |    br   | musical-instruments\n",
            "         16        |       38       |     54    |    br   |         toys       \n",
            "         16        |       38       |     54    |    br   |        books       \n",
            "         16        |       38       |     54    |    br   |        music       \n",
            "         16        |        0       |     16    |    br   |    officeproduct   \n",
            "         16        |       37       |     53    |    br   |         dvd        \n",
            "         16        |        0       |     16    |    br   |       handmade     \n",
            "         16        |        0       |     16    |    br   |     pet-supplies   \n",
            "         16        |        0       |     16    |    br   |        shoes       \n",
            "         16        |       35       |     51    |    br   |         hpc        \n",
            "         16        |        0       |     16    |    br   |       software     \n",
            "         16        |       35       |     51    |    br   |     digital-text   \n",
            "         16        |       35       |     51    |    br   |      videogames    \n",
            "         0         |       39       |     39    |    br   |    baby-products   \n",
            "         0         |       38       |     38    |    br   |          hi        \n",
            "         0         |       35       |     35    |    br   |       fashion      \n",
            "         0         |       34       |     34    |    br   |     mobile-apps    \n",
            "         0         |       35       |     35    |    br   |        office      \n",
            "         0         |       34       |     34    |    br   |      computers     \n",
            "         0         |       34       |     34    |    br   |     pet-products   \n",
            "         0         |       33       |     33    |    br   |        beauty      \n",
            "         0         |       33       |     33    |    br   |         home       \n",
            "         0         |       33       |     33    |    br   |      appliances    \n",
            "         0         |       33       |     33    |    br   |   lawn-and-garden  \n",
            "         0         |       33       |     33    |    br   |      furniture     \n",
            "\n",
            "Pasaron 2.151733 segundos\n",
            "2020-08-05 21:40:10.827161\n",
            "\n",
            "Needs to check: 693\n",
            "Total of csv files = 2414\n",
            "Total dirs: 5127\n"
          ],
          "name": "stdout"
        }
      ]
    },
    {
      "cell_type": "markdown",
      "metadata": {
        "id": "s3TwOlNLvwjy",
        "colab_type": "text"
      },
      "source": [
        "##Corrije las fechas\n",
        "Solo quitale 5 horas. Para ello: primero la función\n"
      ]
    },
    {
      "cell_type": "markdown",
      "metadata": {
        "id": "Xs19IVBu7MTy",
        "colab_type": "text"
      },
      "source": [
        "Hubiese estado chido, si no le hubieses agregado ya esa información a los csv's esperancito..."
      ]
    },
    {
      "cell_type": "code",
      "metadata": {
        "id": "SCeD1031yM66",
        "colab_type": "code",
        "colab": {}
      },
      "source": [
        "from datetime import datetime, timedelta"
      ],
      "execution_count": null,
      "outputs": []
    },
    {
      "cell_type": "code",
      "metadata": {
        "id": "0g-yN-hT21eF",
        "colab_type": "code",
        "colab": {}
      },
      "source": [
        "import os"
      ],
      "execution_count": null,
      "outputs": []
    },
    {
      "cell_type": "code",
      "metadata": {
        "id": "rQWwNkJT2FbB",
        "colab_type": "code",
        "colab": {}
      },
      "source": [
        "def rename_folders_files(str_dir, change_this, to_this):\n",
        "    '''str_dir must be the complete dir where the file is located, considering\n",
        "    the start point as the folder where the program is posisionated.'''\n",
        "    edited_name = str_dir.replace(change_this, to_this)\n",
        "    if edited_name != str_dir:\n",
        "        os.rename(str_dir, edited_name)\n",
        "    else:\n",
        "        pass"
      ],
      "execution_count": null,
      "outputs": []
    },
    {
      "cell_type": "code",
      "metadata": {
        "id": "sgmtgjvZySIr",
        "colab_type": "code",
        "colab": {}
      },
      "source": [
        "def reduce_hours_str_date(str_date, n_hours):\n",
        "    date = datetime.strptime(str_date,'%Y-%m-%d %H_%M')\n",
        "\n",
        "    corrected_date = date - timedelta(hours=n_hours)\n",
        "    corrected_str_date = datetime.strftime(corrected_date, '%Y-%m-%d %H_%M')\n",
        "\n",
        "    return corrected_entry"
      ],
      "execution_count": null,
      "outputs": []
    },
    {
      "cell_type": "code",
      "metadata": {
        "id": "n26kgXtX4PvT",
        "colab_type": "code",
        "colab": {}
      },
      "source": [
        "def extract_date(entry):\n",
        "    date_file = entry[-20:]\n",
        "    str_date = date_file[:16]\n",
        "\n",
        "    return str_date"
      ],
      "execution_count": null,
      "outputs": []
    },
    {
      "cell_type": "code",
      "metadata": {
        "id": "iRZtghxTyJAU",
        "colab_type": "code",
        "colab": {
          "base_uri": "https://localhost:8080/",
          "height": 35
        },
        "outputId": "e965798c-84ec-48bc-ce3d-6bf5bbea6d02"
      },
      "source": [
        "entry = 'mx/handmade/mx-test_handmade_2020-07-31 16_00.csv'\n",
        "str_date = extract_date(entry)\n",
        "corrected_date = reduce_hours_str_date(str_date, 5)\n",
        "\n",
        "edited_name = rename_folders_files(str_dir=entry, change_this=str_date, to_this=corrected_date)\n",
        "edited_name"
      ],
      "execution_count": null,
      "outputs": [
        {
          "output_type": "execute_result",
          "data": {
            "application/vnd.google.colaboratory.intrinsic+json": {
              "type": "string"
            },
            "text/plain": [
              "'mx/handmade/mx-test_handmade_2020-07-31 11_00.csv'"
            ]
          },
          "metadata": {
            "tags": []
          },
          "execution_count": 49
        }
      ]
    },
    {
      "cell_type": "markdown",
      "metadata": {
        "id": "-Q7ouGgp7d5A",
        "colab_type": "text"
      },
      "source": [
        "##Unificador"
      ]
    },
    {
      "cell_type": "markdown",
      "metadata": {
        "id": "THQobyH67K-x",
        "colab_type": "text"
      },
      "source": [
        "Une todos los csv's en uno solo. Crea la master_db pues\n",
        "\n"
      ]
    },
    {
      "cell_type": "code",
      "metadata": {
        "id": "9-rmQxol-Nvl",
        "colab_type": "code",
        "colab": {}
      },
      "source": [
        "pd.options.display.max_rows = 300"
      ],
      "execution_count": null,
      "outputs": []
    },
    {
      "cell_type": "code",
      "metadata": {
        "id": "5ff4eBOY7wu9",
        "colab_type": "code",
        "colab": {}
      },
      "source": [
        "entry = 'mx/handmade/mx-test_handmade_2020-07-31 11_00.csv'\n",
        "\n",
        "add_1 = 'mx/handmade/mx-test_handmade_2020-07-31 16_28.csv'\n",
        "add_2 = 'mx/handmade/mx-test_handmade_2020-07-31 16_49.csv'\n",
        "add_3 = 'mx/handmade/mx-test_handmade_2020-07-31 17_10.csv'\n",
        "\n",
        "to_add = [add_1, add_2, add_3]\n",
        "main_df = pd.read_csv(entry, sep='|')\n",
        "\n",
        "for csv_file in to_add:\n",
        "    add_df = pd.read_csv(csv_file, sep='|')\n",
        "    main_df = pd.concat([main_df, add_df])\n",
        "\n",
        "main_df.reset_index(drop=True, inplace=True)\n",
        "main_df"
      ],
      "execution_count": null,
      "outputs": []
    },
    {
      "cell_type": "markdown",
      "metadata": {
        "id": "IbFxLv2VBPNJ",
        "colab_type": "text"
      },
      "source": [
        "Sí, así de simple. Te amo pandas <3"
      ]
    },
    {
      "cell_type": "markdown",
      "metadata": {
        "id": "yn9tYqPdBlHr",
        "colab_type": "text"
      },
      "source": [
        "Recuerda cambiar la ubicación"
      ]
    },
    {
      "cell_type": "code",
      "metadata": {
        "id": "3MWGOXAxBkPr",
        "colab_type": "code",
        "colab": {}
      },
      "source": [
        "%cd 'drive/My Drive/Colab Notebooks/4SS/4SS_db/testing'\n",
        "!ls"
      ],
      "execution_count": null,
      "outputs": []
    },
    {
      "cell_type": "code",
      "metadata": {
        "id": "oySJjCSDvwEk",
        "colab_type": "code",
        "colab": {}
      },
      "source": [
        "initial_time = datetime.now()\n",
        "print(initial_time)\n",
        "country_counter = 0\n",
        "print(' Added date/time | With date/time | csv_files | country |       Category     ')\n",
        "\n",
        "centered_missing = centered_len(len('Missing date/time'))\n",
        "centered_with = centered_len(len('With date/time'))\n",
        "centered_csv = centered_len(len('csv_files'))\n",
        "centered_country = centered_len(len('country'))\n",
        "#largest category name: musical-instruments\n",
        "centered_category = centered_len(len('musical-instruments'))\n",
        "\n",
        "total_files = 0\n",
        "total_folders = 0\n",
        "total_changed = 0\n",
        "error_count = 0\n",
        "errors = []\n",
        "\n",
        "for country in countries:\n",
        "    total_folders = total_folders + 1\n",
        "    country_entries = os.listdir(country)\n",
        "    if country_counter > 0:\n",
        "        print(' ----------------- | -------------- | --------- | ------- | -------------------')\n",
        "    #por carpeta en paises\n",
        "    for entry in country_entries:\n",
        "        is_folder = False\n",
        "        try:\n",
        "            total_folders = total_folders + 1\n",
        "            #Archivos en carpetas\n",
        "            files_dir = f'{country}/{entry}'\n",
        "            folder_files = os.listdir(files_dir)\n",
        "            is_folder = True\n",
        "        except:\n",
        "            pass\n",
        "        \n",
        "        if is_folder == True:\n",
        "            total_folders = total_folders + 1\n",
        "\n",
        "            #Archivos en carpetas\n",
        "            folder_files = os.listdir(country + '/' + entry)\n",
        "            if folder_files[:2] != country:\n",
        "                csv_counter = 0\n",
        "                with_dt = 0\n",
        "                missing_dt = 0        \n",
        "\n",
        "                for file_content in folder_files:\n",
        "                    total_dirs = total_dirs + 1    \n",
        "                    #Archivo csv\n",
        "                    if file_content[-3:] == 'csv':\n",
        "                        csv_counter = csv_counter + 1\n",
        "                        complete_file = country + '/' + entry + '/' + file_content\n",
        "\n",
        "                        with open(complete_file, mode=\"r\", encoding='utf-8') as csv_file:\n",
        "                            csv_reader = csv.reader(csv_file, delimiter='|')\n",
        "                            header = next(csv_reader)\n",
        "                            if header[0] == 'time' or header[0] == 'Date':\n",
        "                                with_dt = with_dt + 1\n",
        "                            else:\n",
        "                                missing_dt = missing_dt + 1\n",
        "                                total_missing = total_missing + 1\n",
        "                        csv_file.close()\n",
        "\n",
        "                print(f' {centered_missing(changed_dt)}', end=' | ')\n",
        "                print(centered_with(with_dt), end=' | ')\n",
        "                print(centered_csv(csv_counter), end=' | ')\n",
        "                print(centered_country(country), end=' | ')\n",
        "                print(centered_category(entry))\n",
        "                total_csv_files = total_csv_files + csv_counter\n",
        "                \n",
        "\n",
        "\n",
        "    country_counter = country_counter+1\n",
        "\n",
        "final_time = datetime.now()\n",
        "time_elapsed = final_time - initial_time\n",
        "print(f'\\nPasaron {time_elapsed.total_seconds()} segundos')\n",
        "print(final_time)\n",
        "\n",
        "print(f'\\nChanged to check: {total_changed}')\n",
        "print(f'Total of csv files = {total_csv_files}')\n",
        "print(f'Total dirs: {total_dirs}')\n",
        "print(f'\\nErrors: {error_count}')\n",
        "print(errors)"
      ],
      "execution_count": null,
      "outputs": []
    },
    {
      "cell_type": "code",
      "metadata": {
        "id": "ky97zFZJv4UW",
        "colab_type": "code",
        "colab": {}
      },
      "source": [
        ""
      ],
      "execution_count": null,
      "outputs": []
    }
  ]
}