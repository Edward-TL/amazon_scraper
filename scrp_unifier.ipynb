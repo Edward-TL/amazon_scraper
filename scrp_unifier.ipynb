{
  "nbformat": 4,
  "nbformat_minor": 0,
  "metadata": {
    "colab": {
      "name": "scrp_unifier.ipynb",
      "provenance": [],
      "collapsed_sections": [],
      "authorship_tag": "ABX9TyNJ5O3jhdshknqzXY3RbAM4",
      "include_colab_link": true
    },
    "kernelspec": {
      "name": "python3",
      "display_name": "Python 3"
    }
  },
  "cells": [
    {
      "cell_type": "markdown",
      "metadata": {
        "id": "view-in-github",
        "colab_type": "text"
      },
      "source": [
        "<a href=\"https://colab.research.google.com/github/Edward-TL/amazon_scraper/blob/master/scrp_unifier.ipynb\" target=\"_parent\"><img src=\"https://colab.research.google.com/assets/colab-badge.svg\" alt=\"Open In Colab\"/></a>"
      ]
    },
    {
      "cell_type": "code",
      "metadata": {
        "id": "9t5CIDTcSVz6",
        "colab_type": "code",
        "colab": {
          "base_uri": "https://localhost:8080/",
          "height": 128
        },
        "outputId": "985deb13-d3ca-4a5a-fd89-8d363cfc175d"
      },
      "source": [
        "from google.colab import drive\n",
        "drive.mount('/content/drive')\n"
      ],
      "execution_count": 2,
      "outputs": [
        {
          "output_type": "stream",
          "text": [
            "Go to this URL in a browser: https://accounts.google.com/o/oauth2/auth?client_id=947318989803-6bn6qk8qdgf4n4g3pfee6491hc0brc4i.apps.googleusercontent.com&redirect_uri=urn%3aietf%3awg%3aoauth%3a2.0%3aoob&response_type=code&scope=email%20https%3a%2f%2fwww.googleapis.com%2fauth%2fdocs.test%20https%3a%2f%2fwww.googleapis.com%2fauth%2fdrive%20https%3a%2f%2fwww.googleapis.com%2fauth%2fdrive.photos.readonly%20https%3a%2f%2fwww.googleapis.com%2fauth%2fpeopleapi.readonly\n",
            "\n",
            "Enter your authorization code:\n",
            "··········\n",
            "Mounted at /content/drive\n"
          ],
          "name": "stdout"
        }
      ]
    },
    {
      "cell_type": "code",
      "metadata": {
        "id": "k3ThUSbRWCAx",
        "colab_type": "code",
        "colab": {}
      },
      "source": [
        "from bs4 import BeautifulSoup\n",
        "from openpyxl.workbook import Workbook\n",
        "\n",
        "import os\n",
        "from datetime import datetime\n",
        "import time\n",
        "\n",
        "import requests\n",
        "\n",
        "import pandas as pd\n",
        "\n",
        "import csv"
      ],
      "execution_count": 3,
      "outputs": []
    },
    {
      "cell_type": "code",
      "metadata": {
        "id": "o955ldYMZDJj",
        "colab_type": "code",
        "colab": {
          "base_uri": "https://localhost:8080/",
          "height": 54
        },
        "outputId": "900dfed7-890a-42b4-afb2-6a0dcccd472a"
      },
      "source": [
        "%cd 'drive/My Drive/Colab Notebooks/4SS/4SS_db/testing'\n",
        "!ls"
      ],
      "execution_count": 4,
      "outputs": [
        {
          "output_type": "stream",
          "text": [
            "/content/drive/My Drive/Colab Notebooks/4SS/4SS_db/testing\n",
            "br  logs  mx\n"
          ],
          "name": "stdout"
        }
      ]
    },
    {
      "cell_type": "code",
      "metadata": {
        "id": "AkIiW-90Zjmc",
        "colab_type": "code",
        "colab": {
          "base_uri": "https://localhost:8080/",
          "height": 74
        },
        "outputId": "24ff370f-2e43-4ae1-8250-10c91d473950"
      },
      "source": [
        "entries_mx = os.listdir('mx')\n",
        "print(entries_mx)\n",
        "entries_br = os.listdir('br')\n",
        "print(entries_br)"
      ],
      "execution_count": 5,
      "outputs": [
        {
          "output_type": "stream",
          "text": [
            "['grocery', 'automotive', 'amazon-devices', 'baby', 'sports', 'electronics', 'tools', 'kitchen', 'industrial', 'musical-instruments', 'toys', 'books', 'music', 'officeproduct', 'dvd', 'handmade', 'pet-supplies', 'shoes', 'hpc', 'software', 'digital-text', 'videogames', 'mx-test_grocery_2020-07-31 05_38.csv', 'mx-test_grocery_2020-07-31 05_38.xlsx', 'mx-test_automotive_2020-07-31 05_38.csv', 'mx-test_automotive_2020-07-31 05_38.xlsx', 'mx-test_amazon-devices_2020-07-31 05_38.csv', 'mx-test_amazon-devices_2020-07-31 05_38.xlsx', 'mx-test_baby_2020-07-31 05_38.csv', 'mx-test_baby_2020-07-31 05_38.xlsx', 'mx-test_sports_2020-07-31 05_38.csv', 'mx-test_electronics_2020-07-31 05_38.csv', 'mx-test_electronics_2020-07-31 05_38.xlsx', 'mx-test_tools_2020-07-31 05_38.csv', 'mx-test_tools_2020-07-31 05_38.xlsx', 'mx-test_kitchen_2020-07-31 05_38.csv', 'mx-test_kitchen_2020-07-31 05_38.xlsx', 'mx-test_industrial_2020-07-31 05_38.csv', 'mx-test_industrial_2020-07-31 05_38.xlsx', 'mx-test_musical-instruments_2020-07-31 05_38.csv', 'mx-test_musical-instruments_2020-07-31 05_38.xlsx', 'mx-test_toys_2020-07-31 05_38.csv', 'mx-test_toys_2020-07-31 05_38.xlsx', 'mx-test_books_2020-07-31 05_38.csv', 'mx-test_music_2020-07-31 05_38.csv', 'mx-test_music_2020-07-31 05_38.xlsx', 'mx-test_officeproduct_2020-07-31 05_38.csv', 'mx-test_officeproduct_2020-07-31 05_38.xlsx', 'mx-test_dvd_2020-07-31 05_38.csv', 'mx-test_dvd_2020-07-31 05_38.xlsx', 'mx-test_handmade_2020-07-31 05_38.csv', 'mx-test_handmade_2020-07-31 05_38.xlsx', 'mx-test_pet-supplies_2020-07-31 05_38.csv', 'mx-test_pet-supplies_2020-07-31 05_38.xlsx', 'mx-test_shoes_2020-07-31 05_38.csv', 'mx-test_shoes_2020-07-31 05_38.xlsx', 'mx-test_hpc_2020-07-31 05_38.csv', 'mx-test_hpc_2020-07-31 05_38.xlsx', 'mx-test_software_2020-07-31 05_38.csv', 'mx-test_software_2020-07-31 05_38.xlsx', 'mx-test_digital-text_2020-07-31 05_38.csv', 'mx-test_digital-text_2020-07-31 05_38.xlsx', 'mx-test_videogames_2020-07-31 05_38.csv', 'mx-test_sports_2020-07-31 05_38.xlsx', 'mx-test_videogames_2020-07-31 05_38.xlsx', 'mx-test_books_2020-07-31 05_38.xlsx']\n",
            "['grocery', 'automotive', 'amazon-devices', 'baby', 'sports', 'electronics', 'tools', 'kitchen', 'industrial', 'musical-instruments', 'toys', 'books', 'music', 'officeproduct', 'dvd', 'handmade', 'pet-supplies', 'shoes', 'hpc', 'software', 'digital-text', 'videogames', 'categogry', 'baby-products', 'hi', 'fashion', 'mobile-apps', 'office', 'computers', 'pet-products', 'beauty', 'home', 'appliances', 'lawn-and-garden', 'furniture', 'br-test_videogames_2020-07-31 05_39.gsheet', 'br-test_grocery_2020-07-31 05_38.csv', 'br-test_grocery_2020-07-31 05_38.xlsx', 'br-test_automotive_2020-07-31 05_38.csv', 'br-test_automotive_2020-07-31 05_38.xlsx', 'br-test_amazon-devices_2020-07-31 05_38.csv', 'br-test_amazon-devices_2020-07-31 05_38.xlsx', 'br-test_baby_2020-07-31 05_38.csv', 'br-test_baby_2020-07-31 05_38.xlsx', 'br-test_sports_2020-07-31 05_38.csv', 'br-test_sports_2020-07-31 05_38.xlsx', 'br-test_electronics_2020-07-31 05_38.csv', 'br-test_electronics_2020-07-31 05_38.xlsx', 'br-test_tools_2020-07-31 05_39.csv', 'br-test_tools_2020-07-31 05_39.xlsx', 'br-test_kitchen_2020-07-31 05_39.csv', 'br-test_kitchen_2020-07-31 05_39.xlsx', 'br-test_industrial_2020-07-31 05_39.csv', 'br-test_industrial_2020-07-31 05_39.xlsx', 'br-test_musical-instruments_2020-07-31 05_39.csv', 'br-test_musical-instruments_2020-07-31 05_39.xlsx', 'br-test_toys_2020-07-31 05_39.csv', 'br-test_toys_2020-07-31 05_39.xlsx', 'br-test_books_2020-07-31 05_39.csv', 'br-test_books_2020-07-31 05_39.xlsx', 'br-test_music_2020-07-31 05_39.csv', 'br-test_music_2020-07-31 05_39.xlsx', 'br-test_officeproduct_2020-07-31 05_39.csv', 'br-test_officeproduct_2020-07-31 05_39.xlsx', 'br-test_dvd_2020-07-31 05_39.csv', 'br-test_dvd_2020-07-31 05_39.xlsx', 'br-test_handmade_2020-07-31 05_39.csv', 'br-test_handmade_2020-07-31 05_39.xlsx', 'br-test_pet-supplies_2020-07-31 05_39.csv', 'br-test_pet-supplies_2020-07-31 05_39.xlsx', 'br-test_shoes_2020-07-31 05_39.csv', 'br-test_shoes_2020-07-31 05_39.xlsx', 'br-test_hpc_2020-07-31 05_39.csv', 'br-test_hpc_2020-07-31 05_39.xlsx', 'br-test_software_2020-07-31 05_39.csv', 'br-test_software_2020-07-31 05_39.xlsx', 'br-test_digital-text_2020-07-31 05_39.csv', 'br-test_digital-text_2020-07-31 05_39.xlsx', 'br-test_videogames_2020-07-31 05_39.csv', 'br-test_videogames_2020-07-31 05_39.xlsx']\n"
          ],
          "name": "stdout"
        }
      ]
    },
    {
      "cell_type": "code",
      "metadata": {
        "id": "G1UHMpplroiA",
        "colab_type": "code",
        "colab": {}
      },
      "source": [
        "def rename_folders_files(str_dir, change_this, to_this):\n",
        "    str_dir = str_dir + '/'\n",
        "    for entry in str_dir:\n",
        "        original_file = str_dir + entry\n",
        "\n",
        "        entry_edited = entry.replace(change_this, to_this)\n",
        "        edited_name = str_dir + entry_edited\n",
        "        \n",
        "        os.rename(original_file, edited_name)"
      ],
      "execution_count": 6,
      "outputs": []
    },
    {
      "cell_type": "code",
      "metadata": {
        "id": "hvkYlDjR8Lrh",
        "colab_type": "code",
        "colab": {
          "base_uri": "https://localhost:8080/",
          "height": 35
        },
        "outputId": "4eae669a-0125-4504-81e8-f821fa5d7820"
      },
      "source": [
        "date = datetime.now()\n",
        "date"
      ],
      "execution_count": 7,
      "outputs": [
        {
          "output_type": "execute_result",
          "data": {
            "text/plain": [
              "datetime.datetime(2020, 8, 5, 4, 46, 21, 745351)"
            ]
          },
          "metadata": {
            "tags": []
          },
          "execution_count": 7
        }
      ]
    },
    {
      "cell_type": "code",
      "metadata": {
        "id": "SblG0OnL__Un",
        "colab_type": "code",
        "colab": {
          "base_uri": "https://localhost:8080/",
          "height": 35
        },
        "outputId": "a04d5cd8-a845-4c7a-9fe1-61d715963385"
      },
      "source": [
        "%cd 'mx/amazon-devices/'"
      ],
      "execution_count": 8,
      "outputs": [
        {
          "output_type": "stream",
          "text": [
            "/content/drive/My Drive/Colab Notebooks/4SS/4SS_db/testing/mx/amazon-devices\n"
          ],
          "name": "stdout"
        }
      ]
    },
    {
      "cell_type": "code",
      "metadata": {
        "id": "FrXNWaBiZwQu",
        "colab_type": "code",
        "colab": {
          "base_uri": "https://localhost:8080/",
          "height": 54
        },
        "outputId": "ad43c115-ad93-467a-bcd6-0cf3b7609453"
      },
      "source": [
        "# for entry in entries_mx:\n",
        "entry = 'mx-test_amazon-devices_2020-07-31 15_52.csv'\n",
        "# if entry[:2] == 'mx':\n",
        "\n",
        "#     if entry[-3:] == 'csv':\n",
        "date_file = entry[-20:]\n",
        "str_date = date_file[:16]\n",
        "\n",
        "date = datetime.strptime(str_date,'%Y-%m-%d %H_%M')\n",
        "date_array = [date]*50\n",
        "\n",
        "category = entry[8:(len(entry)-21)]\n",
        "\n",
        "date_series = pd.Series(date_array, name='Date')\n",
        "main_df = pd.read_csv(entry, sep='|')\n",
        "new_df = pd.concat([date_series, main_df], axis=1)\n",
        "new_df.to_csv(entry, sep='|', index= False)\n",
        "new_df\n",
        "\n",
        "file_name_len = (len(entry)-3)\n",
        "print(file_name_len)\n",
        "file_name = entry[:file_name_len]\n",
        "excel_name = file_name + 'xlsx'\n",
        "print(excel_name)\n",
        "new_df.to_excel(excel_name, index= False)"
      ],
      "execution_count": 16,
      "outputs": [
        {
          "output_type": "stream",
          "text": [
            "40\n",
            "mx-test_amazon-devices_2020-07-31 15_52.xlsx\n"
          ],
          "name": "stdout"
        }
      ]
    },
    {
      "cell_type": "markdown",
      "metadata": {
        "id": "VETqPMp7eh6e",
        "colab_type": "text"
      },
      "source": [
        "<ol>\n",
        "<li>Obtener nombres de las categorias a las que pertenecen los archivos</li>\n",
        "<li>Enviarlas a las carpetas a las que pertenecen con las fechas agregadas</li>\n",
        "<li>verificar que todos los archivos tengan la columna de las fechas</li>\n",
        "<li>Se crea una base maestra a partir de los registros más viejos</li>\n",
        "\n",
        "<li>crear el ID concatenando ranking y url</li>\n",
        "<li>si los 50 estan intactactos:</li>\n",
        "        no se consideran\n",
        "<li>si existe un cambio de posición</li>\n",
        "        se agrega a la base maestra.\n",
        "</ol>"
      ]
    },
    {
      "cell_type": "code",
      "metadata": {
        "id": "LyIAjsDoeuRK",
        "colab_type": "code",
        "colab": {}
      },
      "source": [
        ""
      ],
      "execution_count": null,
      "outputs": []
    }
  ]
}