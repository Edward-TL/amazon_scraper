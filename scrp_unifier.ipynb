{
  "nbformat": 4,
  "nbformat_minor": 0,
  "metadata": {
    "colab": {
      "name": "scrp_unifier.ipynb",
      "provenance": [],
      "collapsed_sections": [],
      "history_visible": true,
      "authorship_tag": "ABX9TyNOOnRC6PW6+wY1n43w4BqX",
      "include_colab_link": true
    },
    "kernelspec": {
      "name": "python3",
      "display_name": "Python 3"
    }
  },
  "cells": [
    {
      "cell_type": "markdown",
      "metadata": {
        "id": "view-in-github",
        "colab_type": "text"
      },
      "source": [
        "<a href=\"https://colab.research.google.com/github/Edward-TL/amazon_scraper/blob/master/scrp_unifier.ipynb\" target=\"_parent\"><img src=\"https://colab.research.google.com/assets/colab-badge.svg\" alt=\"Open In Colab\"/></a>"
      ]
    },
    {
      "cell_type": "markdown",
      "metadata": {
        "id": "VETqPMp7eh6e",
        "colab_type": "text"
      },
      "source": [
        "<ol>\n",
        "<li>**CHECKED** Obtener nombres de las categorias a las que pertenecen los archivos</li>\n",
        "<li>**CHECKED** Enviarlas a las carpetas a las que pertenecen con las fechas agregadas</li>\n",
        "<li>verificar que todos los archivos tengan la columna de las fechas</li>\n",
        "<li>Se crea una base maestra a partir de los registros más viejos</li>\n",
        "\n",
        "<li>crear el ID concatenando ranking y url</li>\n",
        "<li>si los 50 estan intactactos:</li>\n",
        "        no se consideran\n",
        "<li>si existe un cambio de posición</li>\n",
        "        se agrega a la base maestra.\n",
        "</ol>"
      ]
    },
    {
      "cell_type": "code",
      "metadata": {
        "id": "9t5CIDTcSVz6",
        "colab_type": "code",
        "colab": {
          "base_uri": "https://localhost:8080/",
          "height": 35
        },
        "outputId": "0269fcea-8774-46af-f9e6-284d273538e3"
      },
      "source": [
        "from google.colab import drive\n",
        "drive.mount('/content/drive')\n"
      ],
      "execution_count": 14,
      "outputs": [
        {
          "output_type": "stream",
          "text": [
            "Drive already mounted at /content/drive; to attempt to forcibly remount, call drive.mount(\"/content/drive\", force_remount=True).\n"
          ],
          "name": "stdout"
        }
      ]
    },
    {
      "cell_type": "code",
      "metadata": {
        "id": "k3ThUSbRWCAx",
        "colab_type": "code",
        "colab": {}
      },
      "source": [
        "from bs4 import BeautifulSoup\n",
        "from openpyxl.workbook import Workbook\n",
        "\n",
        "import os\n",
        "from datetime import datetime\n",
        "import time\n",
        "\n",
        "import requests\n",
        "\n",
        "import pandas as pd\n",
        "\n",
        "import csv"
      ],
      "execution_count": 15,
      "outputs": []
    },
    {
      "cell_type": "code",
      "metadata": {
        "id": "o955ldYMZDJj",
        "colab_type": "code",
        "colab": {
          "base_uri": "https://localhost:8080/",
          "height": 72
        },
        "outputId": "915d789a-5a79-4241-ae21-668cbc04d6ae"
      },
      "source": [
        "%cd 'drive/My Drive/Colab Notebooks/4SS/4SS_db/testing'\n",
        "!ls"
      ],
      "execution_count": 16,
      "outputs": [
        {
          "output_type": "stream",
          "text": [
            "[Errno 2] No such file or directory: 'drive/My Drive/Colab Notebooks/4SS/4SS_db/testing'\n",
            "/content/drive/My Drive/Colab Notebooks/4SS/4SS_db/testing\n",
            "br  logs  mx\n"
          ],
          "name": "stdout"
        }
      ]
    },
    {
      "cell_type": "code",
      "metadata": {
        "id": "AkIiW-90Zjmc",
        "colab_type": "code",
        "colab": {
          "base_uri": "https://localhost:8080/",
          "height": 74
        },
        "outputId": "318f35df-3902-4c7d-fb8a-109cefec3c08"
      },
      "source": [
        "entries_mx = os.listdir('mx')\n",
        "print(entries_mx)\n",
        "entries_br = os.listdir('br')\n",
        "print(entries_br)"
      ],
      "execution_count": 17,
      "outputs": [
        {
          "output_type": "stream",
          "text": [
            "['grocery', 'automotive', 'amazon-devices', 'baby', 'sports', 'electronics', 'tools', 'kitchen', 'industrial', 'musical-instruments', 'toys', 'books', 'music', 'officeproduct', 'dvd', 'handmade', 'pet-supplies', 'shoes', 'hpc', 'software', 'digital-text', 'videogames', 'mx-test_grocery_2020-07-31 05_38.csv', 'mx-test_grocery_2020-07-31 05_38.xlsx', 'mx-test_automotive_2020-07-31 05_38.csv', 'mx-test_automotive_2020-07-31 05_38.xlsx', 'mx-test_amazon-devices_2020-07-31 05_38.csv', 'mx-test_amazon-devices_2020-07-31 05_38.xlsx', 'mx-test_baby_2020-07-31 05_38.csv', 'mx-test_baby_2020-07-31 05_38.xlsx', 'mx-test_sports_2020-07-31 05_38.csv', 'mx-test_electronics_2020-07-31 05_38.csv', 'mx-test_electronics_2020-07-31 05_38.xlsx', 'mx-test_tools_2020-07-31 05_38.csv', 'mx-test_tools_2020-07-31 05_38.xlsx', 'mx-test_kitchen_2020-07-31 05_38.csv', 'mx-test_kitchen_2020-07-31 05_38.xlsx', 'mx-test_industrial_2020-07-31 05_38.csv', 'mx-test_industrial_2020-07-31 05_38.xlsx', 'mx-test_musical-instruments_2020-07-31 05_38.csv', 'mx-test_musical-instruments_2020-07-31 05_38.xlsx', 'mx-test_toys_2020-07-31 05_38.csv', 'mx-test_toys_2020-07-31 05_38.xlsx', 'mx-test_books_2020-07-31 05_38.csv', 'mx-test_music_2020-07-31 05_38.csv', 'mx-test_music_2020-07-31 05_38.xlsx', 'mx-test_officeproduct_2020-07-31 05_38.csv', 'mx-test_officeproduct_2020-07-31 05_38.xlsx', 'mx-test_dvd_2020-07-31 05_38.csv', 'mx-test_dvd_2020-07-31 05_38.xlsx', 'mx-test_handmade_2020-07-31 05_38.csv', 'mx-test_handmade_2020-07-31 05_38.xlsx', 'mx-test_pet-supplies_2020-07-31 05_38.csv', 'mx-test_pet-supplies_2020-07-31 05_38.xlsx', 'mx-test_shoes_2020-07-31 05_38.csv', 'mx-test_shoes_2020-07-31 05_38.xlsx', 'mx-test_hpc_2020-07-31 05_38.csv', 'mx-test_hpc_2020-07-31 05_38.xlsx', 'mx-test_software_2020-07-31 05_38.csv', 'mx-test_software_2020-07-31 05_38.xlsx', 'mx-test_digital-text_2020-07-31 05_38.csv', 'mx-test_digital-text_2020-07-31 05_38.xlsx', 'mx-test_videogames_2020-07-31 05_38.csv', 'mx-test_sports_2020-07-31 05_38.xlsx', 'mx-test_videogames_2020-07-31 05_38.xlsx', 'mx-test_books_2020-07-31 05_38.xlsx']\n",
            "['grocery', 'automotive', 'amazon-devices', 'baby', 'sports', 'electronics', 'tools', 'kitchen', 'industrial', 'musical-instruments', 'toys', 'books', 'music', 'officeproduct', 'dvd', 'handmade', 'pet-supplies', 'shoes', 'hpc', 'software', 'digital-text', 'videogames', 'baby-products', 'hi', 'fashion', 'mobile-apps', 'office', 'computers', 'pet-products', 'beauty', 'home', 'appliances', 'lawn-and-garden', 'furniture', 'br-test_videogames_2020-07-31 05_39.gsheet', 'br-test_grocery_2020-07-31 05_38.csv', 'br-test_grocery_2020-07-31 05_38.xlsx', 'br-test_automotive_2020-07-31 05_38.csv', 'br-test_automotive_2020-07-31 05_38.xlsx', 'br-test_amazon-devices_2020-07-31 05_38.csv', 'br-test_amazon-devices_2020-07-31 05_38.xlsx', 'br-test_baby_2020-07-31 05_38.csv', 'br-test_baby_2020-07-31 05_38.xlsx', 'br-test_sports_2020-07-31 05_38.csv', 'br-test_sports_2020-07-31 05_38.xlsx', 'br-test_electronics_2020-07-31 05_38.csv', 'br-test_electronics_2020-07-31 05_38.xlsx', 'br-test_tools_2020-07-31 05_39.csv', 'br-test_tools_2020-07-31 05_39.xlsx', 'br-test_kitchen_2020-07-31 05_39.csv', 'br-test_kitchen_2020-07-31 05_39.xlsx', 'br-test_industrial_2020-07-31 05_39.csv', 'br-test_industrial_2020-07-31 05_39.xlsx', 'br-test_musical-instruments_2020-07-31 05_39.csv', 'br-test_musical-instruments_2020-07-31 05_39.xlsx', 'br-test_toys_2020-07-31 05_39.csv', 'br-test_toys_2020-07-31 05_39.xlsx', 'br-test_books_2020-07-31 05_39.csv', 'br-test_books_2020-07-31 05_39.xlsx', 'br-test_music_2020-07-31 05_39.csv', 'br-test_music_2020-07-31 05_39.xlsx', 'br-test_officeproduct_2020-07-31 05_39.csv', 'br-test_officeproduct_2020-07-31 05_39.xlsx', 'br-test_dvd_2020-07-31 05_39.csv', 'br-test_dvd_2020-07-31 05_39.xlsx', 'br-test_handmade_2020-07-31 05_39.csv', 'br-test_handmade_2020-07-31 05_39.xlsx', 'br-test_pet-supplies_2020-07-31 05_39.csv', 'br-test_pet-supplies_2020-07-31 05_39.xlsx', 'br-test_shoes_2020-07-31 05_39.csv', 'br-test_shoes_2020-07-31 05_39.xlsx', 'br-test_hpc_2020-07-31 05_39.csv', 'br-test_hpc_2020-07-31 05_39.xlsx', 'br-test_software_2020-07-31 05_39.csv', 'br-test_software_2020-07-31 05_39.xlsx', 'br-test_digital-text_2020-07-31 05_39.csv', 'br-test_digital-text_2020-07-31 05_39.xlsx', 'br-test_videogames_2020-07-31 05_39.csv', 'br-test_videogames_2020-07-31 05_39.xlsx']\n"
          ],
          "name": "stdout"
        }
      ]
    },
    {
      "cell_type": "code",
      "metadata": {
        "id": "G1UHMpplroiA",
        "colab_type": "code",
        "colab": {}
      },
      "source": [
        "def rename_folders_files(str_dir, change_this, to_this):\n",
        "    str_dir = str_dir + '/'\n",
        "    for entry in str_dir:\n",
        "        original_file = str_dir + entry\n",
        "\n",
        "        entry_edited = entry.replace(change_this, to_this)\n",
        "        edited_name = str_dir + entry_edited\n",
        "        \n",
        "        os.rename(original_file, edited_name)"
      ],
      "execution_count": 18,
      "outputs": []
    },
    {
      "cell_type": "code",
      "metadata": {
        "id": "hvkYlDjR8Lrh",
        "colab_type": "code",
        "colab": {
          "base_uri": "https://localhost:8080/",
          "height": 35
        },
        "outputId": "f78ee77f-8c97-4163-deb2-2cf22b37af93"
      },
      "source": [
        "date = datetime.now()\n",
        "date"
      ],
      "execution_count": 19,
      "outputs": [
        {
          "output_type": "execute_result",
          "data": {
            "text/plain": [
              "datetime.datetime(2020, 8, 5, 6, 13, 4, 987484)"
            ]
          },
          "metadata": {
            "tags": []
          },
          "execution_count": 19
        }
      ]
    },
    {
      "cell_type": "code",
      "metadata": {
        "id": "SblG0OnL__Un",
        "colab_type": "code",
        "colab": {}
      },
      "source": [
        ""
      ],
      "execution_count": 19,
      "outputs": []
    },
    {
      "cell_type": "code",
      "metadata": {
        "id": "FrXNWaBiZwQu",
        "colab_type": "code",
        "colab": {}
      },
      "source": [
        "def add_date(entry):\n",
        "    '''Bbtain date and made it a Pandas Series'''\n",
        "    date_file = entry[-20:]\n",
        "    str_date = date_file[:16]\n",
        "    date = datetime.strptime(str_date,'%Y-%m-%d %H_%M')\n",
        "    date_array = [date]*50\n",
        "    date_series = pd.Series(date_array, name='Date')\n",
        "\n",
        "    category = entry[8:(len(entry)-21)]\n",
        "\n",
        "    '''Concat the Date Serie to the main dataframe'''\n",
        "    main_df = pd.read_csv(entry, sep='|')\n",
        "    new_df = pd.concat([date_series, main_df], axis=1)\n",
        "    new_df.to_csv(entry, sep='|', index= False)\n",
        "    new_df\n",
        "\n",
        "    file_name_len = (len(entry)-3)\n",
        "    file_name = entry[:file_name_len]\n",
        "    excel_name = file_name + 'xlsx'\n",
        "    new_df.to_excel(excel_name, index= False)"
      ],
      "execution_count": 20,
      "outputs": []
    },
    {
      "cell_type": "code",
      "metadata": {
        "id": "icTSdbrc_shZ",
        "colab_type": "code",
        "colab": {}
      },
      "source": [
        "countries= ['mx','br']"
      ],
      "execution_count": 21,
      "outputs": []
    },
    {
      "cell_type": "code",
      "metadata": {
        "id": "FhY_6bflISNm",
        "colab_type": "code",
        "colab": {
          "base_uri": "https://localhost:8080/",
          "height": 35
        },
        "outputId": "697ab62e-0423-4234-d4ac-707fb9bafe5c"
      },
      "source": [
        "!ls"
      ],
      "execution_count": 22,
      "outputs": [
        {
          "output_type": "stream",
          "text": [
            "br  logs  mx\n"
          ],
          "name": "stdout"
        }
      ]
    },
    {
      "cell_type": "code",
      "metadata": {
        "id": "LyIAjsDoeuRK",
        "colab_type": "code",
        "colab": {
          "base_uri": "https://localhost:8080/",
          "height": 1000
        },
        "outputId": "5e4b7640-d9e0-45ff-bb6a-85aa6aacd4c4"
      },
      "source": [
        "#por pais en paises\n",
        "for country in countries:\n",
        "    country_entries = os.listdir(country)\n",
        "    \n",
        "    #por carpeta en paises\n",
        "    for entry in country_entries:\n",
        "        try:\n",
        "            \n",
        "            #Archivos en carpetas\n",
        "            folder_files = os.listdir(country + '/' + entry)\n",
        "            if folder_files[:2] != country:\n",
        "                csv_counter = 0\n",
        "                eleven_cells = 0\n",
        "                ten_cells = 0\n",
        "\n",
        "                for file_content in folder_files:    \n",
        "                    #Archivo csv\n",
        "                    if file_content[-3:] == 'csv':\n",
        "                        csv_counter = csv_counter + 1\n",
        "                        complete_file = country + '/' + entry + '/' + file_content\n",
        "                        with open(complete_file, mode=\"r\", encoding='utf-8') as csv_file:\n",
        "                            csv_reader = csv.reader(csv_file, delimiter='|')\n",
        "                            header = next(csv_reader)\n",
        "                            if len(header) == 10:\n",
        "                                ten_cells = ten_cells + 1\n",
        "                            elif len(header) == 11:\n",
        "                                eleven_cells = eleven_cells + 1\n",
        "                        csv_file.close()\n",
        "                print(f'ten_s {ten_cells} | elevens {eleven_cells} | of {csv_counter} csv_files in {country} - {entry}')\n",
        "        except:\n",
        "            pass"
      ],
      "execution_count": 23,
      "outputs": [
        {
          "output_type": "stream",
          "text": [
            "ten_s 18 | elevens 42 | of 60 csv_files in mx - grocery\n",
            "ten_s 17 | elevens 41 | of 58 csv_files in mx - automotive\n",
            "ten_s 16 | elevens 36 | of 53 csv_files in mx - amazon-devices\n",
            "ten_s 17 | elevens 40 | of 57 csv_files in mx - baby\n",
            "ten_s 17 | elevens 35 | of 52 csv_files in mx - electronics\n",
            "ten_s 16 | elevens 35 | of 51 csv_files in mx - tools\n",
            "ten_s 16 | elevens 35 | of 51 csv_files in mx - kitchen\n",
            "ten_s 16 | elevens 34 | of 50 csv_files in mx - industrial\n",
            "ten_s 16 | elevens 34 | of 50 csv_files in mx - musical-instruments\n",
            "ten_s 16 | elevens 34 | of 50 csv_files in mx - toys\n",
            "ten_s 16 | elevens 33 | of 49 csv_files in mx - books\n",
            "ten_s 16 | elevens 33 | of 49 csv_files in mx - music\n",
            "ten_s 16 | elevens 33 | of 49 csv_files in mx - officeproduct\n",
            "ten_s 16 | elevens 33 | of 49 csv_files in mx - dvd\n",
            "ten_s 16 | elevens 33 | of 49 csv_files in mx - handmade\n",
            "ten_s 16 | elevens 33 | of 49 csv_files in mx - pet-supplies\n",
            "ten_s 16 | elevens 33 | of 49 csv_files in mx - shoes\n",
            "ten_s 16 | elevens 33 | of 49 csv_files in mx - hpc\n",
            "ten_s 16 | elevens 32 | of 48 csv_files in mx - software\n",
            "ten_s 16 | elevens 32 | of 48 csv_files in mx - digital-text\n",
            "ten_s 16 | elevens 32 | of 48 csv_files in mx - videogames\n",
            "ten_s 16 | elevens 0 | of 16 csv_files in br - grocery\n",
            "ten_s 16 | elevens 0 | of 16 csv_files in br - automotive\n",
            "ten_s 16 | elevens 32 | of 48 csv_files in br - amazon-devices\n",
            "ten_s 16 | elevens 0 | of 16 csv_files in br - baby\n",
            "ten_s 16 | elevens 31 | of 47 csv_files in br - sports\n",
            "ten_s 16 | elevens 31 | of 47 csv_files in br - electronics\n",
            "ten_s 16 | elevens 0 | of 16 csv_files in br - tools\n",
            "ten_s 16 | elevens 30 | of 46 csv_files in br - kitchen\n",
            "ten_s 16 | elevens 0 | of 16 csv_files in br - industrial\n",
            "ten_s 16 | elevens 0 | of 16 csv_files in br - musical-instruments\n",
            "ten_s 16 | elevens 30 | of 46 csv_files in br - toys\n",
            "ten_s 16 | elevens 30 | of 46 csv_files in br - books\n",
            "ten_s 16 | elevens 30 | of 46 csv_files in br - music\n",
            "ten_s 16 | elevens 0 | of 16 csv_files in br - officeproduct\n",
            "ten_s 16 | elevens 29 | of 45 csv_files in br - dvd\n",
            "ten_s 16 | elevens 0 | of 16 csv_files in br - handmade\n",
            "ten_s 16 | elevens 0 | of 16 csv_files in br - pet-supplies\n",
            "ten_s 16 | elevens 0 | of 16 csv_files in br - shoes\n",
            "ten_s 16 | elevens 27 | of 43 csv_files in br - hpc\n",
            "ten_s 16 | elevens 0 | of 16 csv_files in br - software\n",
            "ten_s 16 | elevens 27 | of 43 csv_files in br - digital-text\n",
            "ten_s 16 | elevens 27 | of 43 csv_files in br - videogames\n",
            "ten_s 0 | elevens 31 | of 31 csv_files in br - baby-products\n",
            "ten_s 0 | elevens 30 | of 30 csv_files in br - hi\n",
            "ten_s 0 | elevens 27 | of 27 csv_files in br - fashion\n",
            "ten_s 0 | elevens 26 | of 26 csv_files in br - mobile-apps\n",
            "ten_s 0 | elevens 27 | of 27 csv_files in br - office\n",
            "ten_s 0 | elevens 26 | of 26 csv_files in br - computers\n",
            "ten_s 0 | elevens 26 | of 26 csv_files in br - pet-products\n",
            "ten_s 0 | elevens 25 | of 25 csv_files in br - beauty\n",
            "ten_s 0 | elevens 25 | of 25 csv_files in br - home\n",
            "ten_s 0 | elevens 25 | of 25 csv_files in br - appliances\n",
            "ten_s 0 | elevens 25 | of 25 csv_files in br - lawn-and-garden\n",
            "ten_s 0 | elevens 25 | of 25 csv_files in br - furniture\n"
          ],
          "name": "stdout"
        }
      ]
    }
  ]
}