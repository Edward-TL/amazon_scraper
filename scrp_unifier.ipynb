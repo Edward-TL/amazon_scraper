{
  "nbformat": 4,
  "nbformat_minor": 0,
  "metadata": {
    "colab": {
      "name": "scrp_unifier.ipynb",
      "provenance": [],
      "collapsed_sections": [],
      "history_visible": true,
      "authorship_tag": "ABX9TyOfF+5EToR/aL60TaCYoWfI",
      "include_colab_link": true
    },
    "kernelspec": {
      "name": "python3",
      "display_name": "Python 3"
    }
  },
  "cells": [
    {
      "cell_type": "markdown",
      "metadata": {
        "id": "view-in-github",
        "colab_type": "text"
      },
      "source": [
        "<a href=\"https://colab.research.google.com/github/Edward-TL/amazon_scraper/blob/master/scrp_unifier.ipynb\" target=\"_parent\"><img src=\"https://colab.research.google.com/assets/colab-badge.svg\" alt=\"Open In Colab\"/></a>"
      ]
    },
    {
      "cell_type": "markdown",
      "metadata": {
        "id": "VETqPMp7eh6e",
        "colab_type": "text"
      },
      "source": [
        "<ol>\n",
        "<li>**CHECKED** Obtener nombres de las categorias a las que pertenecen los archivos</li>\n",
        "<li>**CHECKED** Enviarlas a las carpetas a las que pertenecen con las fechas agregadas</li>\n",
        "<li>verificar que todos los archivos tengan la columna de las fechas</li>\n",
        "<li>Se crea una base maestra a partir de los registros más viejos</li>\n",
        "\n",
        "<li>crear el ID concatenando ranking y url</li>\n",
        "<li>si los 50 estan intactactos:</li>\n",
        "        no se consideran\n",
        "<li>si existe un cambio de posición</li>\n",
        "        se agrega a la base maestra.\n",
        "</ol>"
      ]
    },
    {
      "cell_type": "code",
      "metadata": {
        "id": "9t5CIDTcSVz6",
        "colab_type": "code",
        "colab": {
          "base_uri": "https://localhost:8080/",
          "height": 34
        },
        "outputId": "fe993da4-75e2-4a65-a8ec-2c9a810d0365"
      },
      "source": [
        "from google.colab import drive\n",
        "drive.mount('/content/drive')"
      ],
      "execution_count": 30,
      "outputs": [
        {
          "output_type": "stream",
          "text": [
            "Drive already mounted at /content/drive; to attempt to forcibly remount, call drive.mount(\"/content/drive\", force_remount=True).\n"
          ],
          "name": "stdout"
        }
      ]
    },
    {
      "cell_type": "code",
      "metadata": {
        "id": "k3ThUSbRWCAx",
        "colab_type": "code",
        "colab": {}
      },
      "source": [
        "#For the system\n",
        "import os\n",
        "\n",
        "#Manage of time\n",
        "from datetime import datetime\n",
        "import time\n",
        "\n",
        "#Manage of files\n",
        "import pandas as pd\n",
        "import csv"
      ],
      "execution_count": 3,
      "outputs": []
    },
    {
      "cell_type": "code",
      "metadata": {
        "id": "o955ldYMZDJj",
        "colab_type": "code",
        "colab": {
          "base_uri": "https://localhost:8080/",
          "height": 51
        },
        "outputId": "bfeb806c-ff65-42ac-97ee-7a8530392209"
      },
      "source": [
        "%cd 'drive/My Drive/Colab Notebooks/4SS/4SS_db/testing'\n",
        "!ls"
      ],
      "execution_count": 4,
      "outputs": [
        {
          "output_type": "stream",
          "text": [
            "/content/drive/My Drive/Colab Notebooks/4SS/4SS_db/testing\n",
            "br  logs  mx\n"
          ],
          "name": "stdout"
        }
      ]
    },
    {
      "cell_type": "code",
      "metadata": {
        "id": "AkIiW-90Zjmc",
        "colab_type": "code",
        "colab": {}
      },
      "source": [
        "# entries_mx = os.listdir('mx')\n",
        "# print(entries_mx)\n",
        "# entries_br = os.listdir('br')\n",
        "# print(entries_br)"
      ],
      "execution_count": 5,
      "outputs": []
    },
    {
      "cell_type": "code",
      "metadata": {
        "id": "G1UHMpplroiA",
        "colab_type": "code",
        "colab": {}
      },
      "source": [
        "def rename_folders_files(str_dir, change_this, to_this):\n",
        "    \n",
        "    edited_name = str_dir.replace(change_this, to_this)\n",
        "    print(edited_name)\n",
        "    \n",
        "    if edited_name != str_dir:\n",
        "        os.rename(str_dir, edited_name)\n",
        "    else:\n",
        "        pass"
      ],
      "execution_count": 50,
      "outputs": []
    },
    {
      "cell_type": "code",
      "metadata": {
        "id": "radkoalqh4MI",
        "colab_type": "code",
        "colab": {
          "base_uri": "https://localhost:8080/",
          "height": 34
        },
        "outputId": "1f96eb9d-b1b4-4404-e4dc-a51b24d74ae9"
      },
      "source": [
        "string_test = 'mx/grocery/mx-test_grocery_2020-07-31 15_52.csv'\n",
        "change_this = ':'\n",
        "to_this = '_'\n",
        "rename_folders_files(string_test, change_this, to_this)\n"
      ],
      "execution_count": 52,
      "outputs": [
        {
          "output_type": "stream",
          "text": [
            "mx/grocery/mx-test_grocery_2020-07-31 15_52.csv\n"
          ],
          "name": "stdout"
        }
      ]
    },
    {
      "cell_type": "code",
      "metadata": {
        "id": "hvkYlDjR8Lrh",
        "colab_type": "code",
        "colab": {
          "base_uri": "https://localhost:8080/",
          "height": 34
        },
        "outputId": "97d7adf5-6ee3-406d-b96e-f4843b0db711"
      },
      "source": [
        "date = datetime.now()\n",
        "date"
      ],
      "execution_count": 7,
      "outputs": [
        {
          "output_type": "execute_result",
          "data": {
            "text/plain": [
              "datetime.datetime(2020, 8, 5, 20, 2, 38, 503692)"
            ]
          },
          "metadata": {
            "tags": []
          },
          "execution_count": 7
        }
      ]
    },
    {
      "cell_type": "code",
      "metadata": {
        "id": "SblG0OnL__Un",
        "colab_type": "code",
        "colab": {}
      },
      "source": [
        "def centered_len(max_len):\n",
        "    def centered_string(string):\n",
        "        if type(string) != 'string':\n",
        "            string = str(string)\n",
        "            \n",
        "        rest = max_len - len(string)\n",
        "        n_spaces = int(rest/2)\n",
        "\n",
        "        string_spaces = ' ' * n_spaces\n",
        "        \n",
        "        centered_string = string_spaces + string + string_spaces\n",
        "\n",
        "        if len(centered_string)<max_len:\n",
        "            centered_string = ' ' + centered_string\n",
        "\n",
        "        return centered_string\n",
        "    return centered_string"
      ],
      "execution_count": 8,
      "outputs": []
    },
    {
      "cell_type": "code",
      "metadata": {
        "id": "x_PgW4uq1_Yp",
        "colab_type": "code",
        "colab": {
          "base_uri": "https://localhost:8080/",
          "height": 52
        },
        "outputId": "319b909e-22be-49bb-a28e-44bbe4816033"
      },
      "source": [
        "centered_missing = centered_len(len('musical-instruments'))\n",
        "print('musical-instruments')\n",
        "centered_missing('category')\n"
      ],
      "execution_count": 9,
      "outputs": [
        {
          "output_type": "stream",
          "text": [
            "musical-instruments\n"
          ],
          "name": "stdout"
        },
        {
          "output_type": "execute_result",
          "data": {
            "application/vnd.google.colaboratory.intrinsic+json": {
              "type": "string"
            },
            "text/plain": [
              "'      category     '"
            ]
          },
          "metadata": {
            "tags": []
          },
          "execution_count": 9
        }
      ]
    },
    {
      "cell_type": "code",
      "metadata": {
        "id": "icTSdbrc_shZ",
        "colab_type": "code",
        "colab": {}
      },
      "source": [
        "countries= ['mx','br']"
      ],
      "execution_count": 11,
      "outputs": []
    },
    {
      "cell_type": "code",
      "metadata": {
        "id": "FhY_6bflISNm",
        "colab_type": "code",
        "colab": {
          "base_uri": "https://localhost:8080/",
          "height": 34
        },
        "outputId": "3f685d1c-6aff-4963-f742-076b24f87597"
      },
      "source": [
        "!ls"
      ],
      "execution_count": 12,
      "outputs": [
        {
          "output_type": "stream",
          "text": [
            "br  logs  mx\n"
          ],
          "name": "stdout"
        }
      ]
    },
    {
      "cell_type": "code",
      "metadata": {
        "id": "LyIAjsDoeuRK",
        "colab_type": "code",
        "colab": {
          "base_uri": "https://localhost:8080/",
          "height": 1000
        },
        "outputId": "bcf832a1-e389-4fc9-d527-c3d705878424"
      },
      "source": [
        "#por pais en paises\n",
        "initial_time = datetime.now()\n",
        "print(initial_time)\n",
        "\n",
        "\n",
        "country_counter = 0\n",
        "print(' Missing date/time | With date/time | csv_files | country |       Category     ')\n",
        "\n",
        "centered_missing = centered_len(len('Missing date/time'))\n",
        "centered_with = centered_len(len('With date/time'))\n",
        "centered_csv = centered_len(len('csv_files'))\n",
        "centered_country = centered_len(len('country'))\n",
        "#largest category name: musical-instruments\n",
        "centered_category = centered_len(len('musical-instruments'))\n",
        "\n",
        "total_csv_files = 0\n",
        "total_dirs = 0\n",
        "total_missing = 0\n",
        "\n",
        "for country in countries:\n",
        "    country_entries = os.listdir(country)\n",
        "    if country_counter > 0:\n",
        "        print(' ----------------- | -------------- | --------- | ------- | -------------------')\n",
        "    #por carpeta en paises\n",
        "    for entry in country_entries:\n",
        "        try:\n",
        "            total_dirs = total_dirs + 1\n",
        "            #Archivos en carpetas\n",
        "            folder_files = os.listdir(country + '/' + entry)\n",
        "            if folder_files[:2] != country:\n",
        "                csv_counter = 0\n",
        "                with_dt = 0\n",
        "                missing_dt = 0        \n",
        "\n",
        "                for file_content in folder_files:\n",
        "                    total_dirs = total_dirs + 1    \n",
        "                    #Archivo csv\n",
        "                    if file_content[-3:] == 'csv':\n",
        "                        csv_counter = csv_counter + 1\n",
        "                        complete_file = country + '/' + entry + '/' + file_content\n",
        "\n",
        "                        with open(complete_file, mode=\"r\", encoding='utf-8') as csv_file:\n",
        "                            csv_reader = csv.reader(csv_file, delimiter='|')\n",
        "                            header = next(csv_reader)\n",
        "                            if header[0] == 'time' or header[0] == 'Date':\n",
        "                                with_dt = with_dt + 1\n",
        "                            else:\n",
        "                                missing_dt = missing_dt + 1\n",
        "                                total_missing = total_missing + 1\n",
        "                        csv_file.close()\n",
        "                \n",
        "                print(f' {centered_missing(missing_dt)}', end=' | ')\n",
        "                print(centered_with(with_dt), end=' | ')\n",
        "                print(centered_csv(csv_counter), end=' | ')\n",
        "                print(centered_country(country), end=' | ')\n",
        "                print(centered_category(entry))\n",
        "                total_csv_files = total_csv_files + csv_counter\n",
        "                \n",
        "        except:\n",
        "            total_dirs = total_dirs + 1\n",
        "            pass\n",
        "\n",
        "    country_counter = country_counter+1\n",
        "\n",
        "final_time = datetime.now()\n",
        "time_elapsed = final_time - initial_time\n",
        "print(f'\\nPasaron {time_elapsed.total_seconds()} segundos')\n",
        "print(final_time)\n",
        "\n",
        "print(f'\\nNeeds to check: {total_missing}')\n",
        "print(f'Total of csv files = {total_csv_files}')\n",
        "print(f'Total dirs: {total_dirs}')\n"
      ],
      "execution_count": 15,
      "outputs": [
        {
          "output_type": "stream",
          "text": [
            "2020-08-05 20:03:24.822402\n",
            " Missing date/time | With date/time | csv_files | country |       Category     \n",
            "         18        |       47       |     65    |    mx   |       grocery      \n",
            "         17        |       46       |     63    |    mx   |      automotive    \n",
            "         16        |       42       |     58    |    mx   |    amazon-devices  \n",
            "         17        |       45       |     62    |    mx   |         baby       \n",
            "         17        |       40       |     57    |    mx   |     electronics    \n",
            "         16        |       40       |     56    |    mx   |        tools       \n",
            "         16        |       40       |     56    |    mx   |       kitchen      \n",
            "         16        |       39       |     55    |    mx   |      industrial    \n",
            "         16        |       39       |     55    |    mx   | musical-instruments\n",
            "         16        |       39       |     55    |    mx   |         toys       \n",
            "         16        |       38       |     54    |    mx   |        books       \n",
            "         16        |       38       |     54    |    mx   |        music       \n",
            "         16        |       38       |     54    |    mx   |    officeproduct   \n",
            "         16        |       38       |     54    |    mx   |         dvd        \n",
            "         16        |       38       |     54    |    mx   |       handmade     \n",
            "         16        |       38       |     54    |    mx   |     pet-supplies   \n",
            "         16        |       38       |     54    |    mx   |        shoes       \n",
            "         16        |       38       |     54    |    mx   |         hpc        \n",
            "         16        |       37       |     53    |    mx   |       software     \n",
            "         0         |       53       |     53    |    mx   |     digital-text   \n",
            "         16        |       37       |     53    |    mx   |      videogames    \n",
            " ----------------- | -------------- | --------- | ------- | -------------------\n",
            "         16        |        0       |     16    |    br   |       grocery      \n",
            "         16        |        0       |     16    |    br   |      automotive    \n",
            "         16        |       37       |     53    |    br   |    amazon-devices  \n",
            "         16        |        0       |     16    |    br   |         baby       \n",
            "         16        |       36       |     52    |    br   |        sports      \n",
            "         16        |       36       |     52    |    br   |     electronics    \n",
            "         16        |        0       |     16    |    br   |        tools       \n",
            "         16        |       35       |     51    |    br   |       kitchen      \n",
            "         16        |        0       |     16    |    br   |      industrial    \n",
            "         16        |        0       |     16    |    br   | musical-instruments\n",
            "         16        |       35       |     51    |    br   |         toys       \n",
            "         16        |       35       |     51    |    br   |        books       \n",
            "         16        |       35       |     51    |    br   |        music       \n",
            "         16        |        0       |     16    |    br   |    officeproduct   \n",
            "         16        |       34       |     50    |    br   |         dvd        \n",
            "         16        |        0       |     16    |    br   |       handmade     \n",
            "         16        |        0       |     16    |    br   |     pet-supplies   \n",
            "         16        |        0       |     16    |    br   |        shoes       \n",
            "         16        |       32       |     48    |    br   |         hpc        \n",
            "         16        |        0       |     16    |    br   |       software     \n",
            "         16        |       32       |     48    |    br   |     digital-text   \n",
            "         16        |       32       |     48    |    br   |      videogames    \n",
            "         0         |       36       |     36    |    br   |    baby-products   \n",
            "         0         |       35       |     35    |    br   |          hi        \n",
            "         0         |       32       |     32    |    br   |       fashion      \n",
            "         0         |       31       |     31    |    br   |     mobile-apps    \n",
            "         0         |       32       |     32    |    br   |        office      \n",
            "         0         |       31       |     31    |    br   |      computers     \n",
            "         0         |       31       |     31    |    br   |     pet-products   \n",
            "         0         |       30       |     30    |    br   |        beauty      \n",
            "         0         |       30       |     30    |    br   |         home       \n",
            "         0         |       30       |     30    |    br   |      appliances    \n",
            "         0         |       30       |     30    |    br   |   lawn-and-garden  \n",
            "         0         |       30       |     30    |    br   |      furniture     \n",
            "\n",
            "Pasaron 2.027445 segundos\n",
            "2020-08-05 20:03:26.849847\n",
            "\n",
            "Needs to check: 694\n",
            "Total of csv files = 2282\n",
            "Total dirs: 4862\n"
          ],
          "name": "stdout"
        }
      ]
    },
    {
      "cell_type": "code",
      "metadata": {
        "id": "OWv5yYATM04q",
        "colab_type": "code",
        "colab": {
          "base_uri": "https://localhost:8080/",
          "height": 1000
        },
        "outputId": "d7e14e58-e513-4759-d2fe-4b87d7280135"
      },
      "source": [
        "#por pais en paises\n",
        "initial_time = datetime.now()\n",
        "print(initial_time)\n",
        "\n",
        "\n",
        "country_counter = 0\n",
        "print(' Added date/time | With date/time | csv_files | country |       Category     ')\n",
        "\n",
        "centered_missing = centered_len(len('Missing date/time'))\n",
        "centered_with = centered_len(len('With date/time'))\n",
        "centered_csv = centered_len(len('csv_files'))\n",
        "centered_country = centered_len(len('country'))\n",
        "#largest category name: musical-instruments\n",
        "centered_category = centered_len(len('musical-instruments'))\n",
        "\n",
        "total_csv_files = 0\n",
        "total_dirs = 0\n",
        "total_changed = 0\n",
        "error_count = 0\n",
        "errors = []\n",
        "\n",
        "for country in countries:\n",
        "    country_entries = os.listdir(country)\n",
        "    if country_counter > 0:\n",
        "        print(' ----------------- | -------------- | --------- | ------- | -------------------')\n",
        "    #por carpeta en paises\n",
        "    for entry in country_entries:\n",
        "        try:\n",
        "            total_dirs = total_dirs + 1\n",
        "            #Archivos en carpetas\n",
        "            folder_files = os.listdir(country + '/' + entry)\n",
        "            if folder_files[:2] != country:\n",
        "                csv_counter = 0\n",
        "                with_dt = 0\n",
        "                changed_dt = 0        \n",
        "\n",
        "                for file_content in folder_files:\n",
        "                    total_dirs = total_dirs + 1    \n",
        "                    #Archivo csv\n",
        "                    if file_content[-3:] == 'csv':\n",
        "                        csv_counter = csv_counter + 1\n",
        "                        complete_file = country + '/' + entry + '/' + file_content\n",
        "\n",
        "                        with open(complete_file, mode=\"r\", encoding='utf-8') as csv_file:\n",
        "                            csv_reader = csv.reader(csv_file, delimiter='|')\n",
        "                            header = next(csv_reader)\n",
        "                            if header[0] == 'time' or header[0] == 'Date':\n",
        "                                with_dt = with_dt + 1\n",
        "                            else:\n",
        "                                rename_folders_files(complete_file, ':', '_')\n",
        "                                add_date(complete_file)\n",
        "                                changed_dt = changed_dt + 1\n",
        "                                total_changed = total_changed + 1\n",
        "\n",
        "                            if header[0] == header[1]:\n",
        "                                error_count = error_count + 1\n",
        "                                errors.append(complete_file)\n",
        "                            elif header[0] == header[1][:4]:\n",
        "                                error_count = error_count + 1\n",
        "                                errors.append(complete_file)\n",
        "\n",
        "                \n",
        "                print(f' {centered_missing(changed_dt)}', end=' | ')\n",
        "                print(centered_with(with_dt), end=' | ')\n",
        "                print(centered_csv(csv_counter), end=' | ')\n",
        "                print(centered_country(country), end=' | ')\n",
        "                print(centered_category(entry))\n",
        "                total_csv_files = total_csv_files + csv_counter\n",
        "                \n",
        "        except:\n",
        "            total_dirs = total_dirs + 1\n",
        "            pass\n",
        "\n",
        "    country_counter = country_counter+1\n",
        "\n",
        "final_time = datetime.now()\n",
        "time_elapsed = final_time - initial_time\n",
        "print(f'\\nPasaron {time_elapsed.total_seconds()} segundos')\n",
        "print(final_time)\n",
        "\n",
        "print(f'\\nNeeds to check: {total_missing}')\n",
        "print(f'Total of csv files = {total_csv_files}')\n",
        "print(f'Total dirs: {total_dirs}')\n",
        "print(f'\\nErrors: {error_count}')\n",
        "print(errors)"
      ],
      "execution_count": 31,
      "outputs": [
        {
          "output_type": "stream",
          "text": [
            "2020-08-05 21:27:24.102503\n",
            " Missing date/time | With date/time | csv_files | country |       Category     \n",
            "mx/grocery/mx-test_grocery_2020-07-31 15:52.csv\n",
            "mx/automotive/mx-test_automotive_2020-07-31 15:52.csv\n",
            "mx/amazon-devices/mx-test_amazon-devices_2020-07-31 16:00.csv\n",
            "mx/baby/mx-test_baby_2020-07-31 15:52.csv\n",
            "mx/sports/mx-test_sports_2020-07-31 15:52.csv\n",
            "mx/electronics/mx-test_electronics_2020-07-31 15:52.csv\n",
            "mx/tools/mx-test_tools_2020-07-31 16:00.csv\n",
            "mx/kitchen/mx-test_kitchen_2020-07-31 16:00.csv\n",
            "mx/industrial/mx-test_industrial_2020-07-31 16:00.csv\n",
            "mx/musical-instruments/mx-test_musical-instruments_2020-07-31 16:00.csv\n",
            "mx/toys/mx-test_toys_2020-07-31 16:00.csv\n",
            "mx/books/mx-test_books_2020-07-31 16:00.csv\n",
            "mx/music/mx-test_music_2020-07-31 16:00.csv\n",
            "mx/officeproduct/mx-test_officeproduct_2020-07-31 16:00.csv\n",
            "mx/dvd/mx-test_dvd_2020-07-31 16:00.csv\n",
            "mx/handmade/mx-test_handmade_2020-07-31 16:00.csv\n",
            "mx/pet-supplies/mx-test_pet-supplies_2020-07-31 16:00.csv\n",
            "mx/shoes/mx-test_shoes_2020-07-31 16:00.csv\n",
            "mx/hpc/mx-test_hpc_2020-07-31 16:00.csv\n",
            "mx/software/mx-test_software_2020-07-31 16:00.csv\n",
            "         0         |       56       |     56    |    mx   |     digital-text   \n",
            "mx/videogames/mx-test_videogames_2020-07-31 16:00.csv\n",
            " ----------------- | -------------- | --------- | ------- | -------------------\n",
            "br/grocery/br-test_grocery_2020-07-31 16:00.csv\n",
            "br/automotive/br-test_automotive_2020-07-31 16:00.csv\n",
            "br/amazon-devices/br-test_amazon-devices_2020-07-31 16:00.csv\n",
            "br/baby/br-test_baby_2020-07-31 16:00.csv\n",
            "br/sports/br-test_sports_2020-07-31 16:00.csv\n",
            "br/electronics/br-test_electronics_2020-07-31 16:00.csv\n",
            "br/tools/br-test_tools_2020-07-31 16:00.csv\n",
            "br/kitchen/br-test_kitchen_2020-07-31 16:00.csv\n",
            "br/industrial/br-test_industrial_2020-07-31 16:00.csv\n",
            "br/musical-instruments/br-test_musical-instruments_2020-07-31 16:00.csv\n",
            "br/toys/br-test_toys_2020-07-31 16:00.csv\n",
            "br/books/br-test_books_2020-07-31 16:00.csv\n",
            "br/music/br-test_music_2020-07-31 16:00.csv\n",
            "br/officeproduct/br-test_officeproduct_2020-07-31 16:00.csv\n",
            "br/dvd/br-test_dvd_2020-07-31 16:00.csv\n",
            "br/handmade/br-test_handmade_2020-07-31 16:00.csv\n",
            "br/pet-supplies/br-test_pet-supplies_2020-07-31 16:00.csv\n",
            "br/shoes/br-test_shoes_2020-07-31 16:00.csv\n",
            "br/hpc/br-test_hpc_2020-07-31 16:00.csv\n",
            "br/software/br-test_software_2020-07-31 16:00.csv\n",
            "br/digital-text/br-test_digital-text_2020-07-31 16:00.csv\n",
            "br/videogames/br-test_videogames_2020-07-31 16:00.csv\n",
            "         0         |       39       |     39    |    br   |    baby-products   \n",
            "         0         |       38       |     38    |    br   |          hi        \n",
            "         0         |       35       |     35    |    br   |       fashion      \n",
            "         0         |       34       |     34    |    br   |     mobile-apps    \n",
            "         0         |       35       |     35    |    br   |        office      \n",
            "         0         |       34       |     34    |    br   |      computers     \n",
            "         0         |       34       |     34    |    br   |     pet-products   \n",
            "         0         |       33       |     33    |    br   |        beauty      \n",
            "         0         |       33       |     33    |    br   |         home       \n",
            "         0         |       33       |     33    |    br   |      appliances    \n",
            "         0         |       33       |     33    |    br   |   lawn-and-garden  \n",
            "         0         |       33       |     33    |    br   |      furniture     \n",
            "\n",
            "Pasaron 0.525207 segundos\n",
            "2020-08-05 21:27:24.627710\n",
            "\n",
            "Needs to check: 0\n",
            "Total of csv files = 470\n",
            "Total dirs: 1260\n",
            "\n",
            "Errors: 0\n",
            "[]\n"
          ],
          "name": "stdout"
        }
      ]
    },
    {
      "cell_type": "code",
      "metadata": {
        "id": "FrXNWaBiZwQu",
        "colab_type": "code",
        "colab": {}
      },
      "source": [
        "def add_date(entry):\n",
        "    '''Bbtain date and made it a Pandas Series'''\n",
        "    print(entry)\n",
        "    date_file = entry[-20:]\n",
        "    str_date = date_file[:16]\n",
        "    date = datetime.strptime(str_date,'%Y-%m-%d %H_%M')\n",
        "    date_array = [date]*50\n",
        "    date_series = pd.Series(date_array, name='time')\n",
        "\n",
        "    category = entry[8:(len(entry)-21)]\n",
        "\n",
        "    '''Concat the Date Serie to the main dataframe'''\n",
        "    main_df = pd.read_csv(entry, sep='|')\n",
        "    new_df = pd.concat([date_series, main_df], axis=1)\n",
        "    new_df.to_csv(entry, sep='|', index= False)\n",
        "    new_df\n",
        "\n",
        "    file_name_len = (len(entry)-3)\n",
        "    file_name = entry[:file_name_len]\n",
        "    excel_name = file_name + 'xlsx'\n",
        "    new_df.to_excel(excel_name, index= False)\n",
        "    print(category)"
      ],
      "execution_count": 24,
      "outputs": []
    },
    {
      "cell_type": "code",
      "metadata": {
        "id": "QHn42oZGf7qi",
        "colab_type": "code",
        "colab": {}
      },
      "source": [
        ""
      ],
      "execution_count": null,
      "outputs": []
    },
    {
      "cell_type": "code",
      "metadata": {
        "colab_type": "code",
        "id": "nqF9eH27f8Pn",
        "colab": {
          "base_uri": "https://localhost:8080/",
          "height": 1000
        },
        "outputId": "68014f52-8e4b-4c8d-f164-ac9ddcb2981b"
      },
      "source": [
        "#por pais en paises\n",
        "initial_time = datetime.now()\n",
        "print(initial_time)\n",
        "\n",
        "\n",
        "country_counter = 0\n",
        "print(' Missing date/time | With date/time | csv_files | country |       Category     ')\n",
        "\n",
        "centered_missing = centered_len(len('Missing date/time'))\n",
        "centered_with = centered_len(len('With date/time'))\n",
        "centered_csv = centered_len(len('csv_files'))\n",
        "centered_country = centered_len(len('country'))\n",
        "#largest category name: musical-instruments\n",
        "centered_category = centered_len(len('musical-instruments'))\n",
        "\n",
        "total_csv_files = 0\n",
        "total_dirs = 0\n",
        "total_missing = 0\n",
        "\n",
        "for country in countries:\n",
        "    country_entries = os.listdir(country)\n",
        "    if country_counter > 0:\n",
        "        print(' ----------------- | -------------- | --------- | ------- | -------------------')\n",
        "    #por carpeta en paises\n",
        "    for entry in country_entries:\n",
        "        try:\n",
        "            total_dirs = total_dirs + 1\n",
        "            #Archivos en carpetas\n",
        "            folder_files = os.listdir(country + '/' + entry)\n",
        "            if folder_files[:2] != country:\n",
        "                csv_counter = 0\n",
        "                with_dt = 0\n",
        "                missing_dt = 0        \n",
        "\n",
        "                for file_content in folder_files:\n",
        "                    total_dirs = total_dirs + 1    \n",
        "                    #Archivo csv\n",
        "                    if file_content[-3:] == 'csv':\n",
        "                        csv_counter = csv_counter + 1\n",
        "                        complete_file = country + '/' + entry + '/' + file_content\n",
        "\n",
        "                        with open(complete_file, mode=\"r\", encoding='utf-8') as csv_file:\n",
        "                            csv_reader = csv.reader(csv_file, delimiter='|')\n",
        "                            header = next(csv_reader)\n",
        "                            if header[0] == 'time' or header[0] == 'Date':\n",
        "                                with_dt = with_dt + 1\n",
        "                            else:\n",
        "                                missing_dt = missing_dt + 1\n",
        "                                total_missing = total_missing + 1\n",
        "                        csv_file.close()\n",
        "                \n",
        "                print(f' {centered_missing(missing_dt)}', end=' | ')\n",
        "                print(centered_with(with_dt), end=' | ')\n",
        "                print(centered_csv(csv_counter), end=' | ')\n",
        "                print(centered_country(country), end=' | ')\n",
        "                print(centered_category(entry))\n",
        "                total_csv_files = total_csv_files + csv_counter\n",
        "                \n",
        "        except:\n",
        "            total_dirs = total_dirs + 1\n",
        "            pass\n",
        "\n",
        "    country_counter = country_counter+1\n",
        "\n",
        "final_time = datetime.now()\n",
        "time_elapsed = final_time - initial_time\n",
        "print(f'\\nPasaron {time_elapsed.total_seconds()} segundos')\n",
        "print(final_time)\n",
        "\n",
        "print(f'\\nNeeds to check: {total_missing}')\n",
        "print(f'Total of csv files = {total_csv_files}')\n",
        "print(f'Total dirs: {total_dirs}')\n"
      ],
      "execution_count": 23,
      "outputs": [
        {
          "output_type": "stream",
          "text": [
            "2020-08-05 21:22:26.307946\n",
            " Missing date/time | With date/time | csv_files | country |       Category     \n",
            "         18        |       50       |     68    |    mx   |       grocery      \n",
            "         17        |       49       |     66    |    mx   |      automotive    \n",
            "         16        |       45       |     61    |    mx   |    amazon-devices  \n",
            "         17        |       48       |     65    |    mx   |         baby       \n",
            "         17        |       43       |     60    |    mx   |     electronics    \n",
            "         16        |       43       |     59    |    mx   |        tools       \n",
            "         16        |       43       |     59    |    mx   |       kitchen      \n",
            "         16        |       42       |     58    |    mx   |      industrial    \n",
            "         16        |       42       |     58    |    mx   | musical-instruments\n",
            "         16        |       42       |     58    |    mx   |         toys       \n",
            "         16        |       41       |     57    |    mx   |        books       \n",
            "         16        |       41       |     57    |    mx   |        music       \n",
            "         16        |       41       |     57    |    mx   |    officeproduct   \n",
            "         16        |       41       |     57    |    mx   |         dvd        \n",
            "         16        |       41       |     57    |    mx   |       handmade     \n",
            "         16        |       41       |     57    |    mx   |     pet-supplies   \n",
            "         16        |       41       |     57    |    mx   |        shoes       \n",
            "         16        |       41       |     57    |    mx   |         hpc        \n",
            "         16        |       40       |     56    |    mx   |       software     \n",
            "         0         |       56       |     56    |    mx   |     digital-text   \n",
            "         16        |       40       |     56    |    mx   |      videogames    \n",
            " ----------------- | -------------- | --------- | ------- | -------------------\n",
            "         16        |        0       |     16    |    br   |       grocery      \n",
            "         16        |        0       |     16    |    br   |      automotive    \n",
            "         16        |       40       |     56    |    br   |    amazon-devices  \n",
            "         16        |        0       |     16    |    br   |         baby       \n",
            "         16        |       39       |     55    |    br   |        sports      \n",
            "         16        |       39       |     55    |    br   |     electronics    \n",
            "         16        |        0       |     16    |    br   |        tools       \n",
            "         16        |       38       |     54    |    br   |       kitchen      \n",
            "         16        |        0       |     16    |    br   |      industrial    \n",
            "         16        |        0       |     16    |    br   | musical-instruments\n",
            "         16        |       38       |     54    |    br   |         toys       \n",
            "         16        |       38       |     54    |    br   |        books       \n",
            "         16        |       38       |     54    |    br   |        music       \n",
            "         16        |        0       |     16    |    br   |    officeproduct   \n",
            "         16        |       37       |     53    |    br   |         dvd        \n",
            "         16        |        0       |     16    |    br   |       handmade     \n",
            "         16        |        0       |     16    |    br   |     pet-supplies   \n",
            "         16        |        0       |     16    |    br   |        shoes       \n",
            "         16        |       35       |     51    |    br   |         hpc        \n",
            "         16        |        0       |     16    |    br   |       software     \n",
            "         16        |       35       |     51    |    br   |     digital-text   \n",
            "         16        |       35       |     51    |    br   |      videogames    \n",
            "         0         |       39       |     39    |    br   |    baby-products   \n",
            "         0         |       38       |     38    |    br   |          hi        \n",
            "         0         |       35       |     35    |    br   |       fashion      \n",
            "         0         |       34       |     34    |    br   |     mobile-apps    \n",
            "         0         |       35       |     35    |    br   |        office      \n",
            "         0         |       34       |     34    |    br   |      computers     \n",
            "         0         |       34       |     34    |    br   |     pet-products   \n",
            "         0         |       33       |     33    |    br   |        beauty      \n",
            "         0         |       33       |     33    |    br   |         home       \n",
            "         0         |       33       |     33    |    br   |      appliances    \n",
            "         0         |       33       |     33    |    br   |   lawn-and-garden  \n",
            "         0         |       33       |     33    |    br   |      furniture     \n",
            "\n",
            "Pasaron 10.253235 segundos\n",
            "2020-08-05 21:22:36.561181\n",
            "\n",
            "Needs to check: 694\n",
            "Total of csv files = 2414\n",
            "Total dirs: 5126\n"
          ],
          "name": "stdout"
        }
      ]
    }
  ]
}