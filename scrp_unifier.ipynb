{
  "nbformat": 4,
  "nbformat_minor": 0,
  "metadata": {
    "colab": {
      "name": "scrp_unifier.ipynb",
      "provenance": [],
      "collapsed_sections": [],
      "authorship_tag": "ABX9TyOUB+/H5/Gvb6pNc66MbriA",
      "include_colab_link": true
    },
    "kernelspec": {
      "name": "python3",
      "display_name": "Python 3"
    }
  },
  "cells": [
    {
      "cell_type": "markdown",
      "metadata": {
        "id": "view-in-github",
        "colab_type": "text"
      },
      "source": [
        "<a href=\"https://colab.research.google.com/github/Edward-TL/amazon_scraper/blob/master/scrp_unifier.ipynb\" target=\"_parent\"><img src=\"https://colab.research.google.com/assets/colab-badge.svg\" alt=\"Open In Colab\"/></a>"
      ]
    },
    {
      "cell_type": "markdown",
      "metadata": {
        "id": "VETqPMp7eh6e",
        "colab_type": "text"
      },
      "source": [
        "<ol>\n",
        "<li>**CHECKED** Obtener nombres de las categorias a las que pertenecen los archivos</li>\n",
        "<li>**CHECKED** Enviarlas a las carpetas a las que pertenecen con las fechas agregadas</li>\n",
        "<li>verificar que todos los archivos tengan la columna de las fechas</li>\n",
        "<li>Se crea una base maestra a partir de los registros más viejos</li>\n",
        "\n",
        "<li>crear el ID concatenando ranking y url</li>\n",
        "<li>si los 50 estan intactactos:</li>\n",
        "        no se consideran\n",
        "<li>si existe un cambio de posición</li>\n",
        "        se agrega a la base maestra.\n",
        "</ol>"
      ]
    },
    {
      "cell_type": "code",
      "metadata": {
        "id": "9t5CIDTcSVz6",
        "colab_type": "code",
        "colab": {
          "base_uri": "https://localhost:8080/",
          "height": 34
        },
        "outputId": "4d3794c4-97f1-4c16-85a3-1feac85432f0"
      },
      "source": [
        "from google.colab import drive\n",
        "drive.mount('/content/drive')"
      ],
      "execution_count": 1,
      "outputs": [
        {
          "output_type": "stream",
          "text": [
            "Drive already mounted at /content/drive; to attempt to forcibly remount, call drive.mount(\"/content/drive\", force_remount=True).\n"
          ],
          "name": "stdout"
        }
      ]
    },
    {
      "cell_type": "code",
      "metadata": {
        "id": "k3ThUSbRWCAx",
        "colab_type": "code",
        "colab": {}
      },
      "source": [
        "#For the system\n",
        "import os\n",
        "\n",
        "#Manage of time\n",
        "from datetime import datetime\n",
        "import time\n",
        "\n",
        "#Manage of files\n",
        "import pandas as pd\n",
        "import csv"
      ],
      "execution_count": 2,
      "outputs": []
    },
    {
      "cell_type": "code",
      "metadata": {
        "id": "o955ldYMZDJj",
        "colab_type": "code",
        "colab": {
          "base_uri": "https://localhost:8080/",
          "height": 51
        },
        "outputId": "a0d368d5-e17f-491c-ad01-04309da262ab"
      },
      "source": [
        "%cd 'drive/My Drive/Colab Notebooks/4SS/4SS_db/testing'\n",
        "!ls"
      ],
      "execution_count": 3,
      "outputs": [
        {
          "output_type": "stream",
          "text": [
            "/content/drive/My Drive/Colab Notebooks/4SS/4SS_db/testing\n",
            "br  logs  mx\n"
          ],
          "name": "stdout"
        }
      ]
    },
    {
      "cell_type": "code",
      "metadata": {
        "id": "AkIiW-90Zjmc",
        "colab_type": "code",
        "colab": {}
      },
      "source": [
        "# entries_mx = os.listdir('mx')\n",
        "# print(entries_mx)\n",
        "# entries_br = os.listdir('br')\n",
        "# print(entries_br)"
      ],
      "execution_count": 4,
      "outputs": []
    },
    {
      "cell_type": "code",
      "metadata": {
        "id": "G1UHMpplroiA",
        "colab_type": "code",
        "colab": {}
      },
      "source": [
        "def rename_folders_files(str_dir, change_this, to_this):\n",
        "\n",
        "    edited_name = str_dir.replace(change_this, to_this)\n",
        "    if edited_name != str_dir:\n",
        "        os.rename(str_dir, edited_name)\n",
        "    else:\n",
        "        pass"
      ],
      "execution_count": 5,
      "outputs": []
    },
    {
      "cell_type": "code",
      "metadata": {
        "id": "radkoalqh4MI",
        "colab_type": "code",
        "colab": {}
      },
      "source": [
        "string_test = 'mx/grocery/mx-test_grocery_2020-07-31 15_52.csv'\n",
        "change_this = ':'\n",
        "to_this = '_'\n",
        "rename_folders_files(string_test, change_this, to_this)\n"
      ],
      "execution_count": 6,
      "outputs": []
    },
    {
      "cell_type": "code",
      "metadata": {
        "id": "hvkYlDjR8Lrh",
        "colab_type": "code",
        "colab": {
          "base_uri": "https://localhost:8080/",
          "height": 34
        },
        "outputId": "b800b0f7-95e0-4add-ab30-532f18c8820b"
      },
      "source": [
        "date = datetime.now()\n",
        "date"
      ],
      "execution_count": 7,
      "outputs": [
        {
          "output_type": "execute_result",
          "data": {
            "text/plain": [
              "datetime.datetime(2020, 8, 6, 1, 2, 23, 70034)"
            ]
          },
          "metadata": {
            "tags": []
          },
          "execution_count": 7
        }
      ]
    },
    {
      "cell_type": "code",
      "metadata": {
        "id": "SblG0OnL__Un",
        "colab_type": "code",
        "colab": {}
      },
      "source": [
        "def centered_len(max_len):\n",
        "    def centered_string(string):\n",
        "        if type(string) != 'string':\n",
        "            string = str(string)\n",
        "            \n",
        "        rest = max_len - len(string)\n",
        "        n_spaces = int(rest/2)\n",
        "\n",
        "        string_spaces = ' ' * n_spaces\n",
        "        \n",
        "        centered_string = string_spaces + string + string_spaces\n",
        "\n",
        "        if len(centered_string)<max_len:\n",
        "            centered_string = ' ' + centered_string\n",
        "\n",
        "        return centered_string\n",
        "    return centered_string"
      ],
      "execution_count": 8,
      "outputs": []
    },
    {
      "cell_type": "code",
      "metadata": {
        "id": "x_PgW4uq1_Yp",
        "colab_type": "code",
        "colab": {
          "base_uri": "https://localhost:8080/",
          "height": 52
        },
        "outputId": "d21aa415-98b6-415d-ba03-11f7157bbf7c"
      },
      "source": [
        "centered_missing = centered_len(len('musical-instruments'))\n",
        "print('musical-instruments')\n",
        "centered_missing('category')\n"
      ],
      "execution_count": 9,
      "outputs": [
        {
          "output_type": "stream",
          "text": [
            "musical-instruments\n"
          ],
          "name": "stdout"
        },
        {
          "output_type": "execute_result",
          "data": {
            "application/vnd.google.colaboratory.intrinsic+json": {
              "type": "string"
            },
            "text/plain": [
              "'      category     '"
            ]
          },
          "metadata": {
            "tags": []
          },
          "execution_count": 9
        }
      ]
    },
    {
      "cell_type": "code",
      "metadata": {
        "id": "icTSdbrc_shZ",
        "colab_type": "code",
        "colab": {}
      },
      "source": [
        "countries= ['mx','br']"
      ],
      "execution_count": 10,
      "outputs": []
    },
    {
      "cell_type": "code",
      "metadata": {
        "id": "FhY_6bflISNm",
        "colab_type": "code",
        "colab": {
          "base_uri": "https://localhost:8080/",
          "height": 34
        },
        "outputId": "1d7b4696-aaae-4bd9-f959-2b6e26342341"
      },
      "source": [
        "!ls"
      ],
      "execution_count": 11,
      "outputs": [
        {
          "output_type": "stream",
          "text": [
            "br  logs  mx\n"
          ],
          "name": "stdout"
        }
      ]
    },
    {
      "cell_type": "code",
      "metadata": {
        "id": "LyIAjsDoeuRK",
        "colab_type": "code",
        "colab": {
          "base_uri": "https://localhost:8080/",
          "height": 1000
        },
        "outputId": "b2eed999-23c5-45a5-c335-fa0fe8019d79"
      },
      "source": [
        "#por pais en paises\n",
        "initial_time = datetime.now()\n",
        "print(initial_time)\n",
        "\n",
        "\n",
        "country_counter = 0\n",
        "print(' Missing date/time | With date/time | csv_files | country | ------Category---- ')\n",
        "\n",
        "centered_missing = centered_len(len('Missing date/time'))\n",
        "centered_with = centered_len(len('With date/time'))\n",
        "centered_csv = centered_len(len('csv_files'))\n",
        "centered_country = centered_len(len('country'))\n",
        "#largest category name: musical-instruments\n",
        "centered_category = centered_len(len('musical-instruments'))\n",
        "\n",
        "total_csv_files = 0\n",
        "total_dirs = 0\n",
        "total_missing = 0\n",
        "\n",
        "for country in countries:\n",
        "    country_entries = os.listdir(country)\n",
        "    if country_counter > 0:\n",
        "        print(' ----------------- | -------------- | --------- | ------- | -------------------')\n",
        "    #por carpeta en paises\n",
        "    for entry in country_entries:\n",
        "        try:\n",
        "            total_dirs = total_dirs + 1\n",
        "            #Archivos en carpetas\n",
        "            folder_files = os.listdir(country + '/' + entry)\n",
        "            if folder_files[:2] != country:\n",
        "                csv_counter = 0\n",
        "                with_dt = 0\n",
        "                missing_dt = 0        \n",
        "\n",
        "                for file_content in folder_files:\n",
        "                    total_dirs = total_dirs + 1    \n",
        "                    #Archivo csv\n",
        "                    if file_content[-3:] == 'csv':\n",
        "                        csv_counter = csv_counter + 1\n",
        "                        complete_file = country + '/' + entry + '/' + file_content\n",
        "\n",
        "                        with open(complete_file, mode=\"r\", encoding='utf-8') as csv_file:\n",
        "                            csv_reader = csv.reader(csv_file, delimiter='|')\n",
        "                            header = next(csv_reader)\n",
        "                            if header[0] == 'time' or header[0] == 'Date':\n",
        "                                with_dt = with_dt + 1\n",
        "                            else:\n",
        "                                missing_dt = missing_dt + 1\n",
        "                                total_missing = total_missing + 1\n",
        "                        csv_file.close()\n",
        "                \n",
        "                print(f' {centered_missing(missing_dt)}', end=' | ')\n",
        "                print(centered_with(with_dt), end=' | ')\n",
        "                print(centered_csv(csv_counter), end=' | ')\n",
        "                print(centered_country(country), end=' | ')\n",
        "                print(centered_category(entry))\n",
        "                total_csv_files = total_csv_files + csv_counter\n",
        "                \n",
        "        except:\n",
        "            total_dirs = total_dirs + 1\n",
        "            pass\n",
        "\n",
        "    country_counter = country_counter+1\n",
        "\n",
        "final_time = datetime.now()\n",
        "time_elapsed = final_time - initial_time\n",
        "print(f'\\nPasaron {time_elapsed.total_seconds()} segundos')\n",
        "print(final_time)\n",
        "\n",
        "print(f'\\nNeeds to check: {total_missing}')\n",
        "print(f'Total of csv files = {total_csv_files}')\n",
        "print(f'Total dirs: {total_dirs}')\n"
      ],
      "execution_count": 12,
      "outputs": [
        {
          "output_type": "stream",
          "text": [
            "2020-08-06 01:02:24.348107\n",
            " Missing date/time | With date/time | csv_files | country | ------Category---- \n",
            "         16        |       40       |     56    |    mx   |      videogames    \n",
            "         16        |       42       |     58    |    mx   |         toys       \n",
            "         16        |       42       |     58    |    mx   | musical-instruments\n",
            "         16        |       41       |     57    |    mx   |     pet-supplies   \n",
            "         16        |       43       |     59    |    mx   |        tools       \n",
            "         16        |       41       |     57    |    mx   |    officeproduct   \n",
            "         16        |       40       |     56    |    mx   |       software     \n",
            "         16        |       41       |     57    |    mx   |        shoes       \n",
            "         16        |       41       |     57    |    mx   |        music       \n",
            "         0         |       56       |     56    |    mx   |     digital-text   \n",
            "         16        |       41       |     57    |    mx   |        books       \n",
            "         17        |       43       |     60    |    mx   |     electronics    \n",
            "         16        |       41       |     57    |    mx   |         dvd        \n",
            "         17        |       48       |     65    |    mx   |         baby       \n",
            "         16        |       41       |     57    |    mx   |         hpc        \n",
            "         18        |       50       |     68    |    mx   |       grocery      \n",
            "         16        |       41       |     57    |    mx   |       handmade     \n",
            "         16        |       43       |     59    |    mx   |       kitchen      \n",
            "         16        |       42       |     58    |    mx   |      industrial    \n",
            "         17        |       49       |     66    |    mx   |      automotive    \n",
            "         16        |       45       |     61    |    mx   |    amazon-devices  \n",
            " ----------------- | -------------- | --------- | ------- | -------------------\n",
            "         0         |       34       |     34    |    br   |     pet-products   \n",
            "         16        |        0       |     16    |    br   |        tools       \n",
            "         16        |        0       |     16    |    br   |       software     \n",
            "         16        |       39       |     55    |    br   |        sports      \n",
            "         16        |        0       |     16    |    br   |        shoes       \n",
            "         16        |       35       |     51    |    br   |      videogames    \n",
            "         16        |       38       |     54    |    br   |         toys       \n",
            "         16        |        0       |     16    |    br   |     pet-supplies   \n",
            "         0         |       33       |     33    |    br   |   lawn-and-garden  \n",
            "         16        |        0       |     16    |    br   | musical-instruments\n",
            "         16        |       38       |     54    |    br   |       kitchen      \n",
            "         16        |        0       |     16    |    br   |      industrial    \n",
            "         16        |       35       |     51    |    br   |         hpc        \n",
            "         16        |        0       |     16    |    br   |    officeproduct   \n",
            "         0         |       33       |     33    |    br   |         home       \n",
            "         0         |       35       |     35    |    br   |        office      \n",
            "         16        |       38       |     54    |    br   |        music       \n",
            "         0         |       34       |     34    |    br   |     mobile-apps    \n",
            "         0         |       38       |     38    |    br   |          hi        \n",
            "         16        |       39       |     55    |    br   |     electronics    \n",
            "         16        |       37       |     53    |    br   |         dvd        \n",
            "         0         |       33       |     33    |    br   |      furniture     \n",
            "         16        |       38       |     54    |    br   |        books       \n",
            "         16        |        0       |     16    |    br   |       grocery      \n",
            "         16        |        0       |     16    |    br   |       handmade     \n",
            "         16        |       35       |     51    |    br   |     digital-text   \n",
            "         0         |       34       |     34    |    br   |      computers     \n",
            "         0         |       35       |     35    |    br   |       fashion      \n",
            "         0         |       33       |     33    |    br   |      appliances    \n",
            "         16        |       40       |     56    |    br   |    amazon-devices  \n",
            "         0         |       33       |     33    |    br   |        beauty      \n",
            "         16        |        0       |     16    |    br   |      automotive    \n",
            "         16        |        0       |     16    |    br   |         baby       \n",
            "         0         |       39       |     39    |    br   |    baby-products   \n",
            "\n",
            "Pasaron 2.179858 segundos\n",
            "2020-08-06 01:02:26.527965\n",
            "\n",
            "Needs to check: 684\n",
            "Total of csv files = 2414\n",
            "Total dirs: 5103\n"
          ],
          "name": "stdout"
        }
      ]
    },
    {
      "cell_type": "code",
      "metadata": {
        "id": "zLhvV-bzAYc7",
        "colab_type": "code",
        "colab": {
          "base_uri": "https://localhost:8080/",
          "height": 66
        },
        "outputId": "a144ee1d-fef5-4003-84ac-103f49d7ab99"
      },
      "source": [
        "%cd '..'\n",
        "%cd 'test_adder'\n",
        "!ls"
      ],
      "execution_count": 16,
      "outputs": [
        {
          "output_type": "stream",
          "text": [
            "/content/drive/My Drive/Colab Notebooks/4SS/4SS_db\n",
            "/content/drive/My Drive/Colab Notebooks/4SS/4SS_db/test_adder\n",
            "br  mx\n"
          ],
          "name": "stdout"
        }
      ]
    },
    {
      "cell_type": "code",
      "metadata": {
        "id": "FrXNWaBiZwQu",
        "colab_type": "code",
        "colab": {}
      },
      "source": [
        "def add_date(entry):\n",
        "    '''Bbtain date and made it a Pandas Series'''\n",
        "    date_file = entry[-20:]\n",
        "    str_date = date_file[:16]\n",
        "    date = datetime.strptime(str_date,'%Y-%m-%d %H_%M')\n",
        "    date_array = [date]*50\n",
        "    date_series = pd.Series(date_array, name='time')\n",
        "\n",
        "    '''Concat the Date Serie to the main dataframe'''\n",
        "    main_df = pd.read_csv(entry, sep='|')\n",
        "    new_df = pd.concat([date_series, main_df], axis=1)\n",
        "    new_df.to_csv(entry, sep='|', index= False)\n",
        "    new_df\n",
        "\n",
        "    file_name_len = (len(entry)-3)\n",
        "    file_name = entry[:file_name_len]\n",
        "    excel_name = file_name + 'xlsx'\n",
        "    new_df.to_excel(excel_name, index= False)\n"
      ],
      "execution_count": 17,
      "outputs": []
    },
    {
      "cell_type": "markdown",
      "metadata": {
        "id": "PW_TlmtSTDIU",
        "colab_type": "text"
      },
      "source": [
        "#Prueba en test_Adder"
      ]
    },
    {
      "cell_type": "code",
      "metadata": {
        "id": "253YAhmnGPLq",
        "colab_type": "code",
        "colab": {
          "base_uri": "https://localhost:8080/",
          "height": 326
        },
        "outputId": "f57d7686-e637-457f-cde3-0873ad97bc24"
      },
      "source": [
        "initial_time = datetime.now()\n",
        "print(initial_time)\n",
        "\n",
        "\n",
        "country_counter = 0\n",
        "print(' Added date/time | With date/time | csv_files | country |       Category     ')\n",
        "\n",
        "centered_missing = centered_len(len('Added date/time'))\n",
        "centered_with = centered_len(len('With date/time'))\n",
        "centered_csv = centered_len(len('csv_files'))\n",
        "centered_country = centered_len(len('country'))\n",
        "#largest category name: musical-instruments\n",
        "centered_category = centered_len(len('musical-instruments'))\n",
        "\n",
        "total_csv_files = 0\n",
        "total_dirs = 0\n",
        "total_changed = 0\n",
        "error_count = 0\n",
        "errors = []\n",
        "\n",
        "countries = ['mx', 'br']\n",
        "\n",
        "for country in countries:\n",
        "    country_entries = os.listdir(country)\n",
        "    if country_counter > 0:\n",
        "        print(' ----------------- | -------------- | --------- | ------- | -------------------')\n",
        "    #por carpeta en paises\n",
        "    for entry in country_entries:\n",
        "        files_ok = False\n",
        "        try:\n",
        "            total_dirs = total_dirs + 1\n",
        "            #Archivos en carpetas\n",
        "            files_dir = f'{country}/{entry}'\n",
        "            folder_files = os.listdir(files_dir)\n",
        "\n",
        "            files_ok = True\n",
        "        except:\n",
        "            total_dirs = total_dirs + 1\n",
        "            pass\n",
        "        \n",
        "        if files_ok == True:\n",
        "            if folder_files[:2] != country:\n",
        "                csv_counter = 0\n",
        "                with_dt = 0\n",
        "                changed_dt = 0        \n",
        "\n",
        "                for file_content in folder_files:\n",
        "                    total_dirs = total_dirs + 1    \n",
        "                    #Archivo csv\n",
        "                    if file_content[-3:] == 'csv':\n",
        "                        csv_counter = csv_counter + 1\n",
        "                        complete_file = f'{country}/{entry}/{file_content}'\n",
        "\n",
        "                        with open(complete_file, mode=\"r\", encoding='utf-8') as csv_file:\n",
        "                            csv_reader = csv.reader(csv_file, delimiter='|')\n",
        "                            header = next(csv_reader)\n",
        "                            if header[0] == 'time' or header[0] == 'Date':\n",
        "                                with_dt = with_dt + 1\n",
        "                            else:\n",
        "                                rename_folders_files(complete_file, ':', '_')\n",
        "                                try:\n",
        "                                    add_date(complete_file)\n",
        "                                except: \n",
        "                                    pass\n",
        "                                changed_dt = changed_dt + 1\n",
        "                                total_changed = total_changed + 1\n",
        "\n",
        "                            if header[0] == header[1]:\n",
        "                                error_count = error_count + 1\n",
        "                                errors.append(complete_file)\n",
        "                            elif header[0] == header[1][:4]:\n",
        "                                error_count = error_count + 1\n",
        "                                errors.append(complete_file)\n",
        "\n",
        "                \n",
        "            print(f' {centered_missing(changed_dt)}', end=' | ')\n",
        "            print(centered_with(with_dt), end=' | ')\n",
        "            print(centered_csv(csv_counter), end=' | ')\n",
        "            print(centered_country(country), end=' | ')\n",
        "            print(centered_category(entry))\n",
        "            total_csv_files = total_csv_files + csv_counter\n",
        "\n",
        "final_time = datetime.now()\n",
        "time_elapsed = final_time - initial_time\n",
        "print(f'\\nPasaron {time_elapsed.total_seconds()} segundos')\n",
        "print(final_time)\n",
        "\n",
        "print(f'\\nChanged to check: {total_changed}')\n",
        "print(f'Total of csv files = {total_csv_files}')\n",
        "print(f'Total dirs: {total_dirs}')\n",
        "print(f'\\nErrors: {error_count}')\n",
        "print(errors)"
      ],
      "execution_count": 31,
      "outputs": [
        {
          "output_type": "stream",
          "text": [
            "2020-08-06 01:57:07.003403\n",
            " Added date/time | With date/time | csv_files | country |       Category     \n",
            "        0        |       57       |     57    |    mx   |       handmade     \n",
            "        0        |       57       |     57    |    mx   |        shoes       \n",
            "        0        |       56       |     56    |    mx   |      videogames    \n",
            "        4        |       56       |     60    |    br   |    amazon-devices  \n",
            "        0        |       16       |     16    |    br   |         baby       \n",
            "        0        |       39       |     39    |    br   |    baby-products   \n",
            "        0        |       33       |     33    |    br   |      furniture     \n",
            "\n",
            "Pasaron 0.278798 segundos\n",
            "2020-08-06 01:57:07.282201\n",
            "\n",
            "Changed to check: 4\n",
            "Total of csv files = 318\n",
            "Total dirs: 405\n",
            "\n",
            "Errors: 0\n",
            "[]\n"
          ],
          "name": "stdout"
        }
      ]
    },
    {
      "cell_type": "markdown",
      "metadata": {
        "id": "sdkyvmwKTIYc",
        "colab_type": "text"
      },
      "source": [
        "#100% real no fake"
      ]
    },
    {
      "cell_type": "code",
      "metadata": {
        "id": "msl4aTcbfbma",
        "colab_type": "code",
        "colab": {
          "base_uri": "https://localhost:8080/",
          "height": 66
        },
        "outputId": "cc6239b0-2a0b-4900-d42f-133e3a7a6b0f"
      },
      "source": [
        "%cd '..'\n",
        "%cd 'testing'\n",
        "!ls"
      ],
      "execution_count": 32,
      "outputs": [
        {
          "output_type": "stream",
          "text": [
            "/content/drive/My Drive/Colab Notebooks/4SS/4SS_db\n",
            "/content/drive/My Drive/Colab Notebooks/4SS/4SS_db/testing\n",
            "br  logs  mx\n"
          ],
          "name": "stdout"
        }
      ]
    },
    {
      "cell_type": "code",
      "metadata": {
        "id": "OWv5yYATM04q",
        "colab_type": "code",
        "colab": {
          "base_uri": "https://localhost:8080/",
          "height": 1000
        },
        "outputId": "de6434f0-4588-45b8-82eb-54844f1475af"
      },
      "source": [
        "#por pais en paises\n",
        "initial_time = datetime.now()\n",
        "print(initial_time)\n",
        "\n",
        "\n",
        "country_counter = 0\n",
        "print(' Added date/time | With date/time | csv_files | country |       Category     ')\n",
        "\n",
        "centered_missing = centered_len(len('Missing date/time'))\n",
        "centered_with = centered_len(len('With date/time'))\n",
        "centered_csv = centered_len(len('csv_files'))\n",
        "centered_country = centered_len(len('country'))\n",
        "#largest category name: musical-instruments\n",
        "centered_category = centered_len(len('musical-instruments'))\n",
        "\n",
        "total_csv_files = 0\n",
        "total_dirs = 0\n",
        "total_changed = 0\n",
        "error_count = 0\n",
        "errors = []\n",
        "\n",
        "for country in countries:\n",
        "    country_entries = os.listdir(country)\n",
        "    if country_counter > 0:\n",
        "        print(' ----------------- | -------------- | --------- | ------- | -------------------')\n",
        "    #por carpeta en paises\n",
        "    for entry in country_entries:\n",
        "        files_ok = False\n",
        "        try:\n",
        "            total_dirs = total_dirs + 1\n",
        "            #Archivos en carpetas\n",
        "            files_dir = f'{country}/{entry}'\n",
        "            folder_files = os.listdir(files_dir)\n",
        "            files_ok = True\n",
        "        except:\n",
        "            total_dirs = total_dirs + 1\n",
        "            pass\n",
        "        \n",
        "        if files_ok == True:\n",
        "            if folder_files[:2] != country:\n",
        "                csv_counter = 0\n",
        "                with_dt = 0\n",
        "                changed_dt = 0        \n",
        "\n",
        "                for file_content in folder_files:\n",
        "                    total_dirs = total_dirs + 1    \n",
        "                    #Archivo csv\n",
        "                    if file_content[-3:] == 'csv':\n",
        "                        csv_counter = csv_counter + 1\n",
        "                        complete_file = f'{country}/{entry}/{file_content}'\n",
        "                        \n",
        "                        with open(complete_file, mode=\"r\", encoding='utf-8') as csv_file:\n",
        "                            csv_reader = csv.reader(csv_file, delimiter='|')\n",
        "                            \n",
        "                            try:\n",
        "                                header = next(csv_reader)\n",
        "                                if header[0] == 'time' or header[0] == 'Date':\n",
        "                                    with_dt = with_dt + 1\n",
        "                                else:\n",
        "                                    rename_folders_files(complete_file, ':', '_')\n",
        "                                    try:\n",
        "                                        add_date(complete_file)\n",
        "                                    except: \n",
        "                                        pass\n",
        "                                    changed_dt = changed_dt + 1\n",
        "                                    total_changed = total_changed + 1\n",
        "\n",
        "                                if header[0] == header[1]:\n",
        "                                    error_count = error_count + 1\n",
        "                                    errors.append(complete_file)\n",
        "                                elif header[0] == header[1][:4]:\n",
        "                                    error_count = error_count + 1\n",
        "                                    errors.append(complete_file)\n",
        "\n",
        "                                csv_file.close()\n",
        "                                #File is empty\n",
        "                            except StopIteration:\n",
        "                                csv_file.close()\n",
        "                                \n",
        "\n",
        "                print(f' {centered_missing(changed_dt)}', end=' | ')\n",
        "                print(centered_with(with_dt), end=' | ')\n",
        "                print(centered_csv(csv_counter), end=' | ')\n",
        "                print(centered_country(country), end=' | ')\n",
        "                print(centered_category(entry))\n",
        "                total_csv_files = total_csv_files + csv_counter\n",
        "                \n",
        "\n",
        "\n",
        "    country_counter = country_counter+1\n",
        "\n",
        "final_time = datetime.now()\n",
        "time_elapsed = final_time - initial_time\n",
        "print(f'\\nPasaron {time_elapsed.total_seconds()} segundos')\n",
        "print(final_time)\n",
        "\n",
        "print(f'\\nChanged to check: {total_changed}')\n",
        "print(f'Total of csv files = {total_csv_files}')\n",
        "print(f'Total dirs: {total_dirs}')\n",
        "print(f'\\nErrors: {error_count}')\n",
        "print(errors)"
      ],
      "execution_count": 37,
      "outputs": [
        {
          "output_type": "stream",
          "text": [
            "2020-08-06 02:08:55.308543\n",
            " Added date/time | With date/time | csv_files | country |       Category     \n",
            "         0         |       56       |     56    |    mx   |      videogames    \n",
            "         0         |       58       |     58    |    mx   |         toys       \n",
            "         0         |       58       |     58    |    mx   | musical-instruments\n",
            "         0         |       57       |     57    |    mx   |     pet-supplies   \n",
            "         0         |       59       |     59    |    mx   |        tools       \n",
            "         0         |       57       |     57    |    mx   |    officeproduct   \n",
            "         0         |       56       |     56    |    mx   |       software     \n",
            "         10        |       52       |     63    |    mx   |        sports      \n",
            "         16        |       41       |     57    |    mx   |        shoes       \n",
            "         16        |       41       |     57    |    mx   |        music       \n",
            "         0         |       56       |     56    |    mx   |     digital-text   \n",
            "         16        |       41       |     57    |    mx   |        books       \n",
            "         17        |       43       |     60    |    mx   |     electronics    \n",
            "         16        |       41       |     57    |    mx   |         dvd        \n",
            "         17        |       48       |     65    |    mx   |         baby       \n",
            "         16        |       41       |     57    |    mx   |         hpc        \n",
            "         18        |       50       |     68    |    mx   |       grocery      \n",
            "         16        |       41       |     57    |    mx   |       handmade     \n",
            "         16        |       43       |     59    |    mx   |       kitchen      \n",
            "         16        |       42       |     58    |    mx   |      industrial    \n",
            "         17        |       49       |     66    |    mx   |      automotive    \n",
            "         16        |       45       |     61    |    mx   |    amazon-devices  \n",
            " ----------------- | -------------- | --------- | ------- | -------------------\n",
            "         0         |       34       |     34    |    br   |     pet-products   \n",
            "         16        |        0       |     16    |    br   |        tools       \n",
            "         16        |        0       |     16    |    br   |       software     \n",
            "         16        |       39       |     55    |    br   |        sports      \n",
            "         16        |        0       |     16    |    br   |        shoes       \n",
            "         16        |       35       |     51    |    br   |      videogames    \n",
            "         16        |       38       |     54    |    br   |         toys       \n",
            "         16        |        0       |     16    |    br   |     pet-supplies   \n",
            "         0         |       33       |     33    |    br   |   lawn-and-garden  \n",
            "         16        |        0       |     16    |    br   | musical-instruments\n",
            "         16        |       38       |     54    |    br   |       kitchen      \n",
            "         16        |        0       |     16    |    br   |      industrial    \n",
            "         16        |       35       |     51    |    br   |         hpc        \n",
            "         16        |        0       |     16    |    br   |    officeproduct   \n",
            "         0         |       33       |     33    |    br   |         home       \n",
            "         0         |       35       |     35    |    br   |        office      \n",
            "         16        |       38       |     54    |    br   |        music       \n",
            "         0         |       34       |     34    |    br   |     mobile-apps    \n",
            "         0         |       38       |     38    |    br   |          hi        \n",
            "         16        |       39       |     55    |    br   |     electronics    \n",
            "         16        |       37       |     53    |    br   |         dvd        \n",
            "         0         |       33       |     33    |    br   |      furniture     \n",
            "         16        |       38       |     54    |    br   |        books       \n",
            "         16        |        0       |     16    |    br   |       grocery      \n",
            "         16        |        0       |     16    |    br   |       handmade     \n",
            "         16        |       35       |     51    |    br   |     digital-text   \n",
            "         0         |       34       |     34    |    br   |      computers     \n",
            "         0         |       35       |     35    |    br   |       fashion      \n",
            "         0         |       33       |     33    |    br   |      appliances    \n",
            "         16        |       40       |     56    |    br   |    amazon-devices  \n",
            "         0         |       33       |     33    |    br   |        beauty      \n",
            "         16        |        0       |     16    |    br   |      automotive    \n",
            "         16        |        0       |     16    |    br   |         baby       \n",
            "         0         |       39       |     39    |    br   |    baby-products   \n",
            "\n",
            "Pasaron 155.813955 segundos\n",
            "2020-08-06 02:11:31.122498\n",
            "\n",
            "Changed to check: 575\n",
            "Total of csv files = 2477\n",
            "Total dirs: 5185\n",
            "\n",
            "Errors: 0\n",
            "[]\n"
          ],
          "name": "stdout"
        }
      ]
    },
    {
      "cell_type": "code",
      "metadata": {
        "id": "QHn42oZGf7qi",
        "colab_type": "code",
        "colab": {}
      },
      "source": [
        ""
      ],
      "execution_count": null,
      "outputs": []
    },
    {
      "cell_type": "code",
      "metadata": {
        "colab_type": "code",
        "id": "nqF9eH27f8Pn",
        "colab": {
          "base_uri": "https://localhost:8080/",
          "height": 1000
        },
        "outputId": "6471d6a5-5bc9-4979-d4bd-8a0184e0e35e"
      },
      "source": [
        "#por pais en paises\n",
        "initial_time = datetime.now()\n",
        "print(initial_time)\n",
        "\n",
        "\n",
        "country_counter = 0\n",
        "print(' Missing date/time | With date/time | csv_files | country |       Category     ')\n",
        "\n",
        "centered_missing = centered_len(len('Missing date/time'))\n",
        "centered_with = centered_len(len('With date/time'))\n",
        "centered_csv = centered_len(len('csv_files'))\n",
        "centered_country = centered_len(len('country'))\n",
        "#largest category name: musical-instruments\n",
        "centered_category = centered_len(len('musical-instruments'))\n",
        "\n",
        "total_csv_files = 0\n",
        "total_dirs = 0\n",
        "total_missing = 0\n",
        "\n",
        "for country in countries:\n",
        "    country_entries = os.listdir(country)\n",
        "    if country_counter > 0:\n",
        "        print(' ----------------- | -------------- | --------- | ------- | -------------------')\n",
        "    #por carpeta en paises\n",
        "    for entry in country_entries:\n",
        "        try:\n",
        "            total_dirs = total_dirs + 1\n",
        "            #Archivos en carpetas\n",
        "            folder_files = os.listdir(country + '/' + entry)\n",
        "            if folder_files[:2] != country:\n",
        "                csv_counter = 0\n",
        "                with_dt = 0\n",
        "                missing_dt = 0        \n",
        "\n",
        "                for file_content in folder_files:\n",
        "                    total_dirs = total_dirs + 1    \n",
        "                    #Archivo csv\n",
        "                    if file_content[-3:] == 'csv':\n",
        "                        csv_counter = csv_counter + 1\n",
        "                        complete_file = country + '/' + entry + '/' + file_content\n",
        "\n",
        "                        with open(complete_file, mode=\"r\", encoding='utf-8') as csv_file:\n",
        "                            csv_reader = csv.reader(csv_file, delimiter='|')\n",
        "                            header = next(csv_reader)\n",
        "                            if header[0] == 'time' or header[0] == 'Date':\n",
        "                                with_dt = with_dt + 1\n",
        "                            else:\n",
        "                                missing_dt = missing_dt + 1\n",
        "                                total_missing = total_missing + 1\n",
        "                        csv_file.close()\n",
        "                \n",
        "                print(f' {centered_missing(missing_dt)}', end=' | ')\n",
        "                print(centered_with(with_dt), end=' | ')\n",
        "                print(centered_csv(csv_counter), end=' | ')\n",
        "                print(centered_country(country), end=' | ')\n",
        "                print(centered_category(entry))\n",
        "                total_csv_files = total_csv_files + csv_counter\n",
        "                \n",
        "        except:\n",
        "            total_dirs = total_dirs + 1\n",
        "            pass\n",
        "\n",
        "    country_counter = country_counter+1\n",
        "\n",
        "final_time = datetime.now()\n",
        "time_elapsed = final_time - initial_time\n",
        "print(f'\\nPasaron {time_elapsed.total_seconds()} segundos')\n",
        "print(final_time)\n",
        "\n",
        "print(f'\\nNeeds to check: {total_missing}')\n",
        "print(f'Total of csv files = {total_csv_files}')\n",
        "print(f'Total dirs: {total_dirs}')\n"
      ],
      "execution_count": null,
      "outputs": [
        {
          "output_type": "stream",
          "text": [
            "2020-08-05 21:40:08.675428\n",
            " Missing date/time | With date/time | csv_files | country |       Category     \n",
            "         17        |       51       |     68    |    mx   |       grocery      \n",
            "         17        |       49       |     66    |    mx   |      automotive    \n",
            "         16        |       45       |     61    |    mx   |    amazon-devices  \n",
            "         17        |       48       |     65    |    mx   |         baby       \n",
            "         17        |       43       |     60    |    mx   |     electronics    \n",
            "         16        |       43       |     59    |    mx   |        tools       \n",
            "         16        |       43       |     59    |    mx   |       kitchen      \n",
            "         16        |       42       |     58    |    mx   |      industrial    \n",
            "         16        |       42       |     58    |    mx   | musical-instruments\n",
            "         16        |       42       |     58    |    mx   |         toys       \n",
            "         16        |       41       |     57    |    mx   |        books       \n",
            "         16        |       41       |     57    |    mx   |        music       \n",
            "         16        |       41       |     57    |    mx   |    officeproduct   \n",
            "         16        |       41       |     57    |    mx   |         dvd        \n",
            "         16        |       41       |     57    |    mx   |       handmade     \n",
            "         16        |       41       |     57    |    mx   |     pet-supplies   \n",
            "         16        |       41       |     57    |    mx   |        shoes       \n",
            "         16        |       41       |     57    |    mx   |         hpc        \n",
            "         16        |       40       |     56    |    mx   |       software     \n",
            "         0         |       56       |     56    |    mx   |     digital-text   \n",
            "         16        |       40       |     56    |    mx   |      videogames    \n",
            " ----------------- | -------------- | --------- | ------- | -------------------\n",
            "         16        |        0       |     16    |    br   |       grocery      \n",
            "         16        |        0       |     16    |    br   |      automotive    \n",
            "         16        |       40       |     56    |    br   |    amazon-devices  \n",
            "         16        |        0       |     16    |    br   |         baby       \n",
            "         16        |       39       |     55    |    br   |        sports      \n",
            "         16        |       39       |     55    |    br   |     electronics    \n",
            "         16        |        0       |     16    |    br   |        tools       \n",
            "         16        |       38       |     54    |    br   |       kitchen      \n",
            "         16        |        0       |     16    |    br   |      industrial    \n",
            "         16        |        0       |     16    |    br   | musical-instruments\n",
            "         16        |       38       |     54    |    br   |         toys       \n",
            "         16        |       38       |     54    |    br   |        books       \n",
            "         16        |       38       |     54    |    br   |        music       \n",
            "         16        |        0       |     16    |    br   |    officeproduct   \n",
            "         16        |       37       |     53    |    br   |         dvd        \n",
            "         16        |        0       |     16    |    br   |       handmade     \n",
            "         16        |        0       |     16    |    br   |     pet-supplies   \n",
            "         16        |        0       |     16    |    br   |        shoes       \n",
            "         16        |       35       |     51    |    br   |         hpc        \n",
            "         16        |        0       |     16    |    br   |       software     \n",
            "         16        |       35       |     51    |    br   |     digital-text   \n",
            "         16        |       35       |     51    |    br   |      videogames    \n",
            "         0         |       39       |     39    |    br   |    baby-products   \n",
            "         0         |       38       |     38    |    br   |          hi        \n",
            "         0         |       35       |     35    |    br   |       fashion      \n",
            "         0         |       34       |     34    |    br   |     mobile-apps    \n",
            "         0         |       35       |     35    |    br   |        office      \n",
            "         0         |       34       |     34    |    br   |      computers     \n",
            "         0         |       34       |     34    |    br   |     pet-products   \n",
            "         0         |       33       |     33    |    br   |        beauty      \n",
            "         0         |       33       |     33    |    br   |         home       \n",
            "         0         |       33       |     33    |    br   |      appliances    \n",
            "         0         |       33       |     33    |    br   |   lawn-and-garden  \n",
            "         0         |       33       |     33    |    br   |      furniture     \n",
            "\n",
            "Pasaron 2.151733 segundos\n",
            "2020-08-05 21:40:10.827161\n",
            "\n",
            "Needs to check: 693\n",
            "Total of csv files = 2414\n",
            "Total dirs: 5127\n"
          ],
          "name": "stdout"
        }
      ]
    }
  ]
}