{
  "nbformat": 4,
  "nbformat_minor": 0,
  "metadata": {
    "colab": {
      "name": "time_standarizer.ipynb",
      "provenance": [],
      "collapsed_sections": [],
      "authorship_tag": "ABX9TyM2ws1E6VZINxa+mrRtvDTZ",
      "include_colab_link": true
    },
    "kernelspec": {
      "name": "python3",
      "display_name": "Python 3"
    }
  },
  "cells": [
    {
      "cell_type": "markdown",
      "metadata": {
        "id": "view-in-github",
        "colab_type": "text"
      },
      "source": [
        "<a href=\"https://colab.research.google.com/github/Edward-TL/amazon_scraper/blob/master/time_standarizer.ipynb\" target=\"_parent\"><img src=\"https://colab.research.google.com/assets/colab-badge.svg\" alt=\"Open In Colab\"/></a>"
      ]
    },
    {
      "cell_type": "code",
      "metadata": {
        "id": "P6HgF123wCY6",
        "colab_type": "code",
        "colab": {}
      },
      "source": [
        "from google.colab import drive\n",
        "drive.mount('/content/drive')"
      ],
      "execution_count": null,
      "outputs": []
    },
    {
      "cell_type": "markdown",
      "metadata": {
        "id": "RzmgSzTDwhUX",
        "colab_type": "text"
      },
      "source": [
        "##Imports"
      ]
    },
    {
      "cell_type": "code",
      "metadata": {
        "id": "O5mH3Qu0wTAK",
        "colab_type": "code",
        "colab": {}
      },
      "source": [
        "#For the system\n",
        "import os\n",
        "\n",
        "#Manage of time\n",
        "from datetime import datetime, timedelta\n",
        "from pytz import timezone\n",
        "import time\n",
        "\n",
        "#Manage of files\n",
        "import pandas as pd\n",
        "import csv\n",
        "\n",
        "#scrap\n",
        "from bs4 import BeautifulSoup\n",
        "from openpyxl.workbook import Workbook\n",
        "import requests"
      ],
      "execution_count": null,
      "outputs": []
    },
    {
      "cell_type": "markdown",
      "metadata": {
        "id": "em6mFJ7hwiar",
        "colab_type": "text"
      },
      "source": [
        "#Manejador de todo"
      ]
    },
    {
      "cell_type": "code",
      "metadata": {
        "id": "f-neKLoSwlqE",
        "colab_type": "code",
        "colab": {}
      },
      "source": [
        "\n",
        "\n",
        "country = 'br master db'\n",
        "dir = f'{country}/parquet'\n",
        "databases = os.listdir(dir)\n",
        "n_databases = len(databases)\n",
        "\n",
        "#initialize\n",
        "df = [None]*n_databases\n",
        "largest_len_db = 0\n",
        "n = 0\n",
        "\n",
        "for file_name in databases:\n",
        "    db = f'{dir}/{file_name}'\n",
        "    dataframe = pd.read_parquet(db)\n",
        "    df[n] = db\n",
        "    if len(file_name) > largest_len_db:\n",
        "        largest_len_db = len(file_name)\n",
        "    n = n + 1\n",
        "\n",
        "#Print tools\n",
        "centered_db = centered_len(largest_len_db)\n",
        "centered_header = centered_db('masterdbs')\n",
        "dashes = '-'*largest_len_db\n",
        "print(f' {centered_header} | Edition')\n",
        "print(f' {dashes} | ------ ')\n",
        "\n",
        "for d in range(len(df)):\n",
        "    #file name extract\n",
        "    dir_len = len(dir)+1\n",
        "    parquet_len = len('.parquet')\n",
        "    file_name_len = len(df[d])-parquet_len\n",
        "    file_name = df[d][dir_len:file_name_len]\n",
        "    #File name print to log\n",
        "    print(f' {centered_db(file_name)}', end=' | ')\n",
        "\n",
        "    #--------Edition--------\n",
        "    #Load Dataframe\n",
        "    edition = pd.read_parquet(df[d])\n",
        "    #Ranking\n",
        "    try:\n",
        "        edition['Rank'] = edition['Rank'].str.extract(r'(\\d+)')\n",
        "        #Fechas\n",
        "        edition['time'] = pd.to_datetime(edition['time'])\n",
        "        edition['time'] = edition['time'] - timedelta(hours=5)\n",
        "\n",
        "        #--------Upadting--------\n",
        "        #File names\n",
        "        csv_file = f'{country}/csv/{file_name}.csv'\n",
        "        excel_file = f'{country}/excel/{file_name}.xlsx'\n",
        "        parquet_file = f'{country}/parquet/{file_name}.parquet'\n",
        "        #File updating\n",
        "        edition.to_csv(csv_file,sep=\"|\")\n",
        "        edition.to_excel(excel_file, index=False)\n",
        "        edition.to_parquet(parquet_file, allow_truncated_timestamps=True)\n",
        "\n",
        "        print('Done')\n",
        "    except AttributeError:\n",
        "        csv_file = f'{country}/csv/{file_name}.csv'\n",
        "        excel_file = f'{country}/excel/{file_name}.xlsx'\n",
        "        parquet_file = f'{country}/parquet/{file_name}.parquet'\n",
        "\n",
        "        os.remove(csv_file)\n",
        "        os.remove(excel_file)\n",
        "        os.remove(parquet_file)\n",
        "\n",
        "        print('Deleted. File Error: No data in')"
      ],
      "execution_count": null,
      "outputs": []
    },
    {
      "cell_type": "markdown",
      "metadata": {
        "id": "nwnHBEOawncd",
        "colab_type": "text"
      },
      "source": [
        "#Labs"
      ]
    },
    {
      "cell_type": "code",
      "metadata": {
        "id": "JZ8fdxSbwluc",
        "colab_type": "code",
        "colab": {}
      },
      "source": [
        ""
      ],
      "execution_count": null,
      "outputs": []
    }
  ]
}