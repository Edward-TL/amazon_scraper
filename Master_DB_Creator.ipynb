{
  "nbformat": 4,
  "nbformat_minor": 0,
  "metadata": {
    "colab": {
      "name": "Master_DB_Creator.ipynb",
      "provenance": [],
      "collapsed_sections": [],
      "authorship_tag": "ABX9TyO08XM5RK55sT8lHs+tKSWh",
      "include_colab_link": true
    },
    "kernelspec": {
      "name": "python3",
      "display_name": "Python 3"
    }
  },
  "cells": [
    {
      "cell_type": "markdown",
      "metadata": {
        "id": "view-in-github",
        "colab_type": "text"
      },
      "source": [
        "<a href=\"https://colab.research.google.com/github/Edward-TL/amazon_scraper/blob/master/Master_DB_Creator.ipynb\" target=\"_parent\"><img src=\"https://colab.research.google.com/assets/colab-badge.svg\" alt=\"Open In Colab\"/></a>"
      ]
    },
    {
      "cell_type": "code",
      "metadata": {
        "id": "bGayDUerCF0N",
        "colab_type": "code",
        "colab": {}
      },
      "source": [
        ""
      ],
      "execution_count": null,
      "outputs": []
    },
    {
      "cell_type": "code",
      "metadata": {
        "id": "sE2GNmTBCP6c",
        "colab_type": "code",
        "colab": {
          "base_uri": "https://localhost:8080/",
          "height": 125
        },
        "outputId": "553818aa-76e9-409f-fddd-d548a5212467"
      },
      "source": [
        "from google.colab import drive\n",
        "drive.mount('/content/drive')"
      ],
      "execution_count": 1,
      "outputs": [
        {
          "output_type": "stream",
          "text": [
            "Go to this URL in a browser: https://accounts.google.com/o/oauth2/auth?client_id=947318989803-6bn6qk8qdgf4n4g3pfee6491hc0brc4i.apps.googleusercontent.com&redirect_uri=urn%3aietf%3awg%3aoauth%3a2.0%3aoob&response_type=code&scope=email%20https%3a%2f%2fwww.googleapis.com%2fauth%2fdocs.test%20https%3a%2f%2fwww.googleapis.com%2fauth%2fdrive%20https%3a%2f%2fwww.googleapis.com%2fauth%2fdrive.photos.readonly%20https%3a%2f%2fwww.googleapis.com%2fauth%2fpeopleapi.readonly\n",
            "\n",
            "Enter your authorization code:\n",
            "··········\n",
            "Mounted at /content/drive\n"
          ],
          "name": "stdout"
        }
      ]
    },
    {
      "cell_type": "code",
      "metadata": {
        "id": "tbM7-CkwCQTK",
        "colab_type": "code",
        "colab": {}
      },
      "source": [
        "#For the system\n",
        "import os\n",
        "\n",
        "#Manage of time\n",
        "from datetime import datetime\n",
        "import time\n",
        "\n",
        "#Manage of files\n",
        "import pandas as pd\n",
        "import csv"
      ],
      "execution_count": 2,
      "outputs": []
    },
    {
      "cell_type": "code",
      "metadata": {
        "id": "h_IszAnhCP--",
        "colab_type": "code",
        "colab": {
          "base_uri": "https://localhost:8080/",
          "height": 52
        },
        "outputId": "edf4e65f-3842-4429-d745-d3a20d337677"
      },
      "source": [
        "%cd 'drive/My Drive/Colab Notebooks/4SS/4SS_db/test_adder'\n",
        "!ls"
      ],
      "execution_count": 3,
      "outputs": [
        {
          "output_type": "stream",
          "text": [
            "/content/drive/My Drive/Colab Notebooks/4SS/4SS_db/test_adder\n",
            "br  mx\n"
          ],
          "name": "stdout"
        }
      ]
    },
    {
      "cell_type": "code",
      "metadata": {
        "id": "buanFWVzCQC1",
        "colab_type": "code",
        "colab": {}
      },
      "source": [
        "pd.options.display.max_rows = 300"
      ],
      "execution_count": 4,
      "outputs": []
    },
    {
      "cell_type": "code",
      "metadata": {
        "id": "D-O0RmaPCQI0",
        "colab_type": "code",
        "colab": {}
      },
      "source": [
        "country = 'mx'\n",
        "folder = 'handmade'\n",
        "\n",
        "entry = 'mx/handmade/mx-test_handmade_2020-07-31 16_00.csv'\n",
        "\n",
        "master_db_csv = f'{country}/csv/master_db_{folder}.csv'\n",
        "master_db_excel = f'{country}/excel/master_db_{folder}.xlsx'\n",
        "\n",
        "add_1 = 'mx/handmade/mx-test_handmade_2020-07-31 16_28.csv'\n",
        "add_2 = 'mx/handmade/mx-test_handmade_2020-07-31 16_49.csv'\n",
        "add_3 = 'mx/handmade/mx-test_handmade_2020-07-31 17_10.csv'\n",
        "\n",
        "to_add = [add_1, add_2, add_3]\n",
        "main_df = pd.read_csv(entry, sep='|')\n",
        "\n",
        "for csv_file in to_add:\n",
        "    add_df = pd.read_csv(csv_file, sep='|')\n",
        "    main_df = pd.concat([main_df, add_df])\n",
        "\n",
        "main_df.reset_index(drop=True, inplace=True)\n",
        "main_df.to_csv(master_db_csv, sep=\"|\", index=False)\n",
        "main_df.to_excel(master_db_excel, index=False)\n",
        "main_df"
      ],
      "execution_count": null,
      "outputs": []
    },
    {
      "cell_type": "code",
      "metadata": {
        "id": "AmOaL_RLLKj-",
        "colab_type": "code",
        "colab": {}
      },
      "source": [
        "def centered_len(max_len):\n",
        "    def centered_string(string):\n",
        "        if type(string) != 'string':\n",
        "            string = str(string)\n",
        "            \n",
        "        rest = max_len - len(string)\n",
        "        n_spaces = int(rest/2)\n",
        "\n",
        "        string_spaces = ' ' * n_spaces\n",
        "        \n",
        "        centered_string = string_spaces + string + string_spaces\n",
        "\n",
        "        if len(centered_string)<max_len:\n",
        "            centered_string = ' ' + centered_string\n",
        "\n",
        "        return centered_string\n",
        "    return centered_string"
      ],
      "execution_count": 15,
      "outputs": []
    },
    {
      "cell_type": "code",
      "metadata": {
        "id": "9qWAsxR7ONLG",
        "colab_type": "code",
        "colab": {
          "base_uri": "https://localhost:8080/",
          "height": 34
        },
        "outputId": "f82c3185-df75-42a8-c4ab-65766abc773b"
      },
      "source": [
        "!ls"
      ],
      "execution_count": 16,
      "outputs": [
        {
          "output_type": "stream",
          "text": [
            "br  mx\n"
          ],
          "name": "stdout"
        }
      ]
    },
    {
      "cell_type": "code",
      "metadata": {
        "id": "6soBwJS_CQQ5",
        "colab_type": "code",
        "colab": {}
      },
      "source": [
        "initial_time = datetime.now()\n",
        "print(initial_time)\n",
        "country_counter = 0\n",
        "print(' country |       Category      | csv_files | Created_Master_DB ')\n",
        "\n",
        "centered_csv = centered_len(len('csv_files'))\n",
        "centered_country = centered_len(len('country'))\n",
        "#largest category name: musical-instruments\n",
        "centered_category = centered_len(len('musical-instruments'))\n",
        "centered_file = centered_len(len('Created_Master_DB'))\n",
        "\n",
        "total_files = 0\n",
        "# total_folders = 0\n",
        "total_bases = 0\n",
        "error_count = 0\n",
        "total_csv_files = 0\n",
        "errors = []\n",
        "\n",
        "for country in countries:\n",
        "    # total_folders = total_folders + 1\n",
        "    country_entries = os.listdir(country)\n",
        "    if country_counter > 0:\n",
        "        print(' ------- | ------------------- | --------- | ----------------- ')\n",
        "\n",
        "    #por carpeta en paises\n",
        "    for entry in country_entries:\n",
        "        is_folder = False\n",
        "        try:\n",
        "            # total_folders = total_folders + 1\n",
        "            #Archivos en carpetas\n",
        "            files_dir = f'{country}/{entry}'\n",
        "            folder_files = os.listdir(files_dir)\n",
        "            is_folder = True\n",
        "        except:\n",
        "            pass\n",
        "        \n",
        "        if is_folder == True:\n",
        "            # total_folders = total_folders + 1\n",
        "\n",
        "            #Archivos en carpetas\n",
        "            folder_files = os.listdir(country + '/' + entry)\n",
        "            if folder_files[:2] != country:\n",
        "                print(f' {centered_missing(country)}', end=' | ')\n",
        "                print(centered_category(entry))\n",
        "\n",
        "                csv_counter = 0   \n",
        "\n",
        "                for file_content in folder_files:\n",
        "                    total_dirs = total_dirs + 1    \n",
        "                    #Archivo csv\n",
        "                    if file_content[-3:] == 'csv':\n",
        "\n",
        "                        #here's why csv_counter never enters as 0 in main_df\n",
        "                        csv_counter = csv_counter + 1\n",
        "                        complete_file = country + '/' + entry + '/' + file_content\n",
        "                        \n",
        "                        #For a start\n",
        "                        if csv_counter == 1:\n",
        "                            main_df = pd.read_csv(complete_file, sep='|')\n",
        "                        \n",
        "                        #Add the rest\n",
        "                        else:\n",
        "                            add_df = pd.read_csv(csv_file, sep='|')\n",
        "                            main_df = pd.concat([main_df, add_df])\n",
        "\n",
        "                print(centered_csv(csv_counter), end=' | ')\n",
        "                total_csv_files = total_csv_files + csv_counter\n",
        "                \n",
        "                master_db_csv = f'{country}/csv/master_db_{entry}.csv'\n",
        "                master_db_excel = f'{country}/excel/master_db_{entry}.xlsx'\n",
        "\n",
        "                main_df.reset_index(drop=True, inplace=True)\n",
        "                main_df.to_csv(master_db_csv, sep=\"|\", index=False)\n",
        "                main_df.to_excel(master_db_excel, index=False)\n",
        "                print(centered_file('csv, excel'), end=' | ')\n",
        "                total_bases = total_bases + 1\n",
        "                \n",
        "\n",
        "    country_counter = country_counter + 1\n",
        "\n",
        "final_time = datetime.now()\n",
        "time_elapsed = final_time - initial_time\n",
        "print(f'\\nPasaron {time_elapsed.total_seconds()} segundos')\n",
        "print(final_time)\n",
        "\n",
        "print(f'\\nBases creadas: {total_bases} en csv y excel')\n",
        "print(f'Total of csv files = {total_csv_files}')\n",
        "print(f'Total dirs: {total_dirs}')\n"
      ],
      "execution_count": null,
      "outputs": []
    },
    {
      "cell_type": "code",
      "metadata": {
        "id": "0cUTdBJMCQPI",
        "colab_type": "code",
        "colab": {}
      },
      "source": [
        ""
      ],
      "execution_count": null,
      "outputs": []
    },
    {
      "cell_type": "code",
      "metadata": {
        "id": "__4it4QYCQMv",
        "colab_type": "code",
        "colab": {}
      },
      "source": [
        ""
      ],
      "execution_count": null,
      "outputs": []
    },
    {
      "cell_type": "code",
      "metadata": {
        "id": "xJTjhjVPCQHC",
        "colab_type": "code",
        "colab": {}
      },
      "source": [
        ""
      ],
      "execution_count": null,
      "outputs": []
    }
  ]
}