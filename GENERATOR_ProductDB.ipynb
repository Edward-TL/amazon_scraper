{
  "nbformat": 4,
  "nbformat_minor": 0,
  "metadata": {
    "colab": {
      "name": "GENERATOR_ProductDB.ipynb",
      "provenance": [],
      "collapsed_sections": [],
      "toc_visible": true,
      "authorship_tag": "ABX9TyN+pDqLO71LCKOeiLFjTyBk",
      "include_colab_link": true
    },
    "kernelspec": {
      "name": "python3",
      "display_name": "Python 3"
    }
  },
  "cells": [
    {
      "cell_type": "markdown",
      "metadata": {
        "id": "view-in-github",
        "colab_type": "text"
      },
      "source": [
        "<a href=\"https://colab.research.google.com/github/Edward-TL/amazon_scraper/blob/master/GENERATOR_ProductDB.ipynb\" target=\"_parent\"><img src=\"https://colab.research.google.com/assets/colab-badge.svg\" alt=\"Open In Colab\"/></a>"
      ]
    },
    {
      "cell_type": "code",
      "metadata": {
        "id": "sE2GNmTBCP6c",
        "colab_type": "code",
        "colab": {
          "base_uri": "https://localhost:8080/",
          "height": 125
        },
        "outputId": "92965d52-f6ed-40eb-ee87-fea71864b2dc"
      },
      "source": [
        "from google.colab import drive\n",
        "drive.mount('/content/drive')"
      ],
      "execution_count": null,
      "outputs": [
        {
          "output_type": "stream",
          "text": [
            "Go to this URL in a browser: https://accounts.google.com/o/oauth2/auth?client_id=947318989803-6bn6qk8qdgf4n4g3pfee6491hc0brc4i.apps.googleusercontent.com&redirect_uri=urn%3aietf%3awg%3aoauth%3a2.0%3aoob&scope=email%20https%3a%2f%2fwww.googleapis.com%2fauth%2fdocs.test%20https%3a%2f%2fwww.googleapis.com%2fauth%2fdrive%20https%3a%2f%2fwww.googleapis.com%2fauth%2fdrive.photos.readonly%20https%3a%2f%2fwww.googleapis.com%2fauth%2fpeopleapi.readonly&response_type=code\n",
            "\n",
            "Enter your authorization code:\n",
            "4/4AErYAalLPdz8bCVW6XDxPqWEvzCxSbkF6ytRY57du8lv_aixZ3lbsU\n",
            "Mounted at /content/drive\n"
          ],
          "name": "stdout"
        }
      ]
    },
    {
      "cell_type": "code",
      "metadata": {
        "id": "NH9tKzOghyhp",
        "colab_type": "code",
        "colab": {
          "base_uri": "https://localhost:8080/",
          "height": 34
        },
        "outputId": "fecab1fe-b3c6-4168-8b57-f899b9f1a3ff"
      },
      "source": [
        "!pip install tqdm"
      ],
      "execution_count": null,
      "outputs": [
        {
          "output_type": "stream",
          "text": [
            "Requirement already satisfied: tqdm in /usr/local/lib/python3.6/dist-packages (4.41.1)\n"
          ],
          "name": "stdout"
        }
      ]
    },
    {
      "cell_type": "markdown",
      "metadata": {
        "id": "vU1wPAprmtkz",
        "colab_type": "text"
      },
      "source": [
        "#imports"
      ]
    },
    {
      "cell_type": "code",
      "metadata": {
        "id": "tbM7-CkwCQTK",
        "colab_type": "code",
        "colab": {}
      },
      "source": [
        "#For the system\n",
        "import os\n",
        "import progressbar\n",
        "from tabulate import tabulate\n",
        "\n",
        "#Manage of time\n",
        "from datetime import datetime, timedelta\n",
        "from pytz import timezone\n",
        "import time\n",
        "import re\n",
        "\n",
        "#Manage of files\n",
        "import pandas as pd\n",
        "import csv\n",
        "\n",
        "#scrap\n",
        "from bs4 import BeautifulSoup\n",
        "from openpyxl.workbook import Workbook\n",
        "import requests"
      ],
      "execution_count": null,
      "outputs": []
    },
    {
      "cell_type": "markdown",
      "metadata": {
        "id": "Xdlg32IysfZV",
        "colab_type": "text"
      },
      "source": [
        "##Ubicación"
      ]
    },
    {
      "cell_type": "code",
      "metadata": {
        "id": "h_IszAnhCP--",
        "colab_type": "code",
        "colab": {
          "base_uri": "https://localhost:8080/",
          "height": 70
        },
        "outputId": "9cde1e4e-9c6c-461e-d47f-f4056e969cb6"
      },
      "source": [
        "%cd 'drive/My Drive/Colab Notebooks/4SS/4SS_db/testing/'\n",
        "!ls"
      ],
      "execution_count": null,
      "outputs": [
        {
          "output_type": "stream",
          "text": [
            "/content/drive/My Drive/Colab Notebooks/4SS/4SS_db/testing\n",
            "'Day Update'\t'Last 50'\t      Masters   Products\n",
            "'Edition Test'\t'links amazon.gdoc'   Origin\n"
          ],
          "name": "stdout"
        }
      ]
    },
    {
      "cell_type": "markdown",
      "metadata": {
        "id": "iW0SYQlIsUTm",
        "colab_type": "text"
      },
      "source": [
        "#Centered Len"
      ]
    },
    {
      "cell_type": "code",
      "metadata": {
        "id": "spM2KsJMeRE3",
        "colab_type": "code",
        "colab": {}
      },
      "source": [
        "def centered_len(max_len):\n",
        "    def centered_string(string):\n",
        "        if type(string) != 'string':\n",
        "            string = str(string)\n",
        "            \n",
        "        rest = max_len - len(string)\n",
        "        n_spaces = int(rest/2)\n",
        "\n",
        "        string_spaces = ' ' * n_spaces\n",
        "        \n",
        "        centered_string = string_spaces + string + string_spaces\n",
        "\n",
        "        if len(centered_string)<max_len:\n",
        "            centered_string = ' ' + centered_string\n",
        "\n",
        "        return centered_string\n",
        "    return centered_string"
      ],
      "execution_count": null,
      "outputs": []
    },
    {
      "cell_type": "markdown",
      "metadata": {
        "id": "ASBBjQ3cr40F",
        "colab_type": "text"
      },
      "source": [
        "# Preload DBs"
      ]
    },
    {
      "cell_type": "code",
      "metadata": {
        "id": "SMCxVj9tIMG1",
        "colab_type": "code",
        "colab": {}
      },
      "source": [
        "def preload_dbs(dir):\n",
        "\n",
        "    '''Recive a directory with a group of dbs and returns an info array\n",
        "    info[0] = array of DB's names\n",
        "    info[1] = largest_len_db, for centered'''\n",
        "    \n",
        "    databases = os.listdir(dir)\n",
        "    n_databases = len(databases)\n",
        "\n",
        "    #initialize\n",
        "    df = [None]*n_databases\n",
        "    largest_len_db = 0\n",
        "    n = 0\n",
        "\n",
        "    for file_name in databases:\n",
        "        db_name = f'{file_name}'\n",
        "        df[n] = db_name\n",
        "        if len(db_name) > largest_len_db:\n",
        "            largest_len_db = len(db_name)\n",
        "\n",
        "        n = n + 1\n",
        "\n",
        "    info = [df, largest_len_db]\n",
        "    return info"
      ],
      "execution_count": null,
      "outputs": []
    },
    {
      "cell_type": "markdown",
      "metadata": {
        "id": "fmntxIi5r83J",
        "colab_type": "text"
      },
      "source": [
        "# Print info Headers"
      ]
    },
    {
      "cell_type": "code",
      "metadata": {
        "id": "ggEKThogdU9t",
        "colab_type": "code",
        "colab": {}
      },
      "source": [
        "def print_info_headers(len: int):\n",
        "    largest_len = info[1]\n",
        "    centered_db = centered_len(largest_len)\n",
        "    centered_header = centered_db('masterdbs')\n",
        "    dashes = '-'*largest_len + '-'\n",
        "\n",
        "    print(f' country | {centered_header}  | Edition')\n",
        "    print(f' ------- | {dashes} | ------ ')"
      ],
      "execution_count": null,
      "outputs": []
    },
    {
      "cell_type": "markdown",
      "metadata": {
        "id": "_vZnrqu_oKcZ",
        "colab_type": "text"
      },
      "source": [
        "# Editor Functions"
      ]
    },
    {
      "cell_type": "markdown",
      "metadata": {
        "id": "MWpoJydrrko2",
        "colab_type": "text"
      },
      "source": [
        "## Count if"
      ]
    },
    {
      "cell_type": "code",
      "metadata": {
        "id": "hYBt5jzjriay",
        "colab_type": "code",
        "colab": {}
      },
      "source": [
        "def count_if(array, value):\n",
        "    count = 0\n",
        "    for element in array:\n",
        "        if element == value:\n",
        "            count += 1\n",
        "    return count"
      ],
      "execution_count": null,
      "outputs": []
    },
    {
      "cell_type": "markdown",
      "metadata": {
        "id": "l04ozA2Prr6j",
        "colab_type": "text"
      },
      "source": [
        "## Column To Set"
      ]
    },
    {
      "cell_type": "code",
      "metadata": {
        "id": "fN2T2YfYoONu",
        "colab_type": "code",
        "colab": {}
      },
      "source": [
        "def column_to_set(df, df_column, remove_None=True, sort=False, raw_data=False):\n",
        "    raw_info = df[df_column].tolist()\n",
        "    #Remember, this gets de None Value\n",
        "    array = list(set(raw_info))\n",
        "\n",
        "    if remove_None == True:\n",
        "        None_cases = count_if(raw_info, None)\n",
        "        if None_cases:\n",
        "            array.remove(None)\n",
        "\n",
        "    if sort == True:\n",
        "        array = sorted(array)\n",
        "\n",
        "    if raw_data == True:\n",
        "        return array, raw_info\n",
        "    \n",
        "    else:\n",
        "        return array"
      ],
      "execution_count": null,
      "outputs": []
    },
    {
      "cell_type": "markdown",
      "metadata": {
        "id": "OslyJYhlrwFA",
        "colab_type": "text"
      },
      "source": [
        "## Gen Product DB"
      ]
    },
    {
      "cell_type": "code",
      "metadata": {
        "id": "wP-whyM72fYB",
        "colab_type": "code",
        "colab": {}
      },
      "source": [
        "def gen_product_db(df):\n",
        "\n",
        "    #Get arrays\n",
        "    time_array = df['time'].to_list()\n",
        "    ranks = df['Rank'].to_list()\n",
        "    product_names = df['Product Names'].to_list()\n",
        "    product_IDs = df['Product ID'].to_list()\n",
        "    images_id = df['Image ID'].to_list()\n",
        "    stars = df['Stars'].to_list()\n",
        "    reviews = df['Reviews'].to_list()\n",
        "    authors = df['Authors/Company'].to_list()\n",
        "    editions = df['Edition/Console'].to_list()\n",
        "    prices_1 = df['Price_std_or_min'].to_list()\n",
        "    max_prices = df['Max_prices'].to_list()\n",
        "\n",
        "    #From column name main info\n",
        "    products_names = column_to_set(df, 'Product Names', sort=False)\n",
        "    n_header = 0\n",
        "    start = (len(product_names) - 1)\n",
        "    #Generate de Columns for the main info\n",
        "    \n",
        "    products_ID = [None] * len(products_names)\n",
        "    image_id_rp = [None] * len(products_names)\n",
        "    image_id_pp = [None] * len(products_names)\n",
        "    products_description = [None] * len(products_names)\n",
        "    product_bullets = [None] * len(products_names)\n",
        "    last_update = [None] * len(products_names)\n",
        "    last_rank = [None] * len(products_names)\n",
        "    last_stars_rate = [None] * len(products_names)\n",
        "    last_n_reviews = [None] * len(products_names)\n",
        "    last_price = [None] * len(products_names)\n",
        "    last_max_price = [None] * len(products_names)\n",
        "    principal_review_title = [None] * len(products_names)\n",
        "    principal_review_body = [None] * len(products_names)\n",
        "    principal_review_star = [None] * len(products_names)\n",
        "\n",
        "    #Check from the bottom \n",
        "    for product in range(len(products_names)):\n",
        "        product_name = products_names[product]\n",
        "        check = start\n",
        "\n",
        "        while product_names[check] != product_name:\n",
        "            check -= 1\n",
        "            if check < 0:\n",
        "                print(len(product_names), check, product, product_name)\n",
        "                break\n",
        "        \n",
        "        #General Amazon Scraper Data (from file)\n",
        "        products_ID[product] = product_IDs[check]\n",
        "        image_id_rp[product] = images_id[check]\n",
        "        last_update[product] = time_array[check]\n",
        "        last_rank[product] = ranks[check]\n",
        "        last_stars_rate[product] = stars[check]\n",
        "        last_n_reviews[product] = reviews[check]\n",
        "        last_price[product] = prices_1[check]\n",
        "        last_max_price[product] = max_prices[check]\n",
        "\n",
        "    #info to dictionary\n",
        "    headers = ['Product Name', 'Product ID',\n",
        "               'Image ID (ranking page)', 'Image ID (product page)',\n",
        "               'Product Description', ' Product Bullets', \n",
        "               'Last Update', 'Last Rank Position', 'Last Stars Rate','Last n_Reviews', 'Last Price', 'Last Max Price',\n",
        "               'Principal Review - Title', 'Principal Review - Body', 'Principal Review - Stars']\n",
        "\n",
        "    info = {headers[0] : products_names,\n",
        "            headers[1] : products_ID,\n",
        "            headers[2] : image_id_rp,\n",
        "            headers[3] : image_id_pp,\n",
        "            headers[4] : products_description,\n",
        "            headers[5] : product_bullets,\n",
        "            headers[6] : last_update,\n",
        "            headers[7] : last_rank,\n",
        "            headers[8] : last_stars_rate,\n",
        "            headers[9] : last_n_reviews,\n",
        "            headers[10] : last_price,\n",
        "            headers[11] : last_max_price,\n",
        "            headers[12] : principal_review_title,\n",
        "\t\t\theaders[13] : principal_review_body,\n",
        "\t\t\theaders[14] : principal_review_star\n",
        "            }\n",
        "    \n",
        "    \n",
        "    product_db = pd.DataFrame.from_dict(info)\n",
        "\n",
        "    return product_db"
      ],
      "execution_count": null,
      "outputs": []
    },
    {
      "cell_type": "markdown",
      "metadata": {
        "id": "Hdbixhh0Ibn1",
        "colab_type": "text"
      },
      "source": [
        ""
      ]
    },
    {
      "cell_type": "code",
      "metadata": {
        "id": "UDZalxUtqYxB",
        "colab_type": "code",
        "colab": {}
      },
      "source": [
        "# @replace_urls_with_ids\n",
        "# def edit_function(db_to_edit):\n",
        "#     return"
      ],
      "execution_count": null,
      "outputs": []
    },
    {
      "cell_type": "markdown",
      "metadata": {
        "id": "Swgxb2aSryy4",
        "colab_type": "text"
      },
      "source": [
        "# Main Edition"
      ]
    },
    {
      "cell_type": "code",
      "metadata": {
        "id": "EVuia7TnePk8",
        "colab_type": "code",
        "colab": {}
      },
      "source": [
        "def main_edition(info,original_dir, dir_to_send, country=None):\n",
        "\n",
        "    centered_db = centered_len(info[1])\n",
        "\n",
        "    df_names = info[0]\n",
        "    \n",
        "    for n in range(len(df_names)):\n",
        "\n",
        "        if country:\n",
        "            print(f'   {country}   ', end=' | ')\n",
        "\n",
        "        #file name extract\n",
        "        parquet_len = len('.parquet')\n",
        "        file_name_len = len(df_names[n])-parquet_len\n",
        "        file_name = df_names[n][0:file_name_len]\n",
        "\n",
        "        #File name print to log\n",
        "        print(f' {centered_db(file_name)}', end=' | ')\n",
        "\n",
        "        #--------Edition--------\n",
        "        #Load Dataframe\n",
        "        db_dir = f'{original_dir}/{df_names[n]}'\n",
        "        db_to_edit = pd.read_parquet(db_dir)\n",
        "        edited_db = gen_product_db(db_to_edit)\n",
        "        \n",
        "        #--------Upadting--------\n",
        "        #File names\n",
        "        csv_file = f'{dir_to_send}/csv/{file_name}.csv'\n",
        "        excel_file = f'{dir_to_send}/excel/{file_name}.xlsx'\n",
        "        parquet_file = f'{dir_to_send}/parquet/{file_name}.parquet'\n",
        "        #File creation\n",
        "        edited_db.to_csv(csv_file,sep=\"|\")\n",
        "        edited_db.to_excel(excel_file, index=False)\n",
        "        edited_db.to_parquet(parquet_file, allow_truncated_timestamps=True)\n",
        "\n",
        "        print('Done')"
      ],
      "execution_count": null,
      "outputs": []
    },
    {
      "cell_type": "markdown",
      "metadata": {
        "id": "-QlbOPR_n78G",
        "colab_type": "text"
      },
      "source": [
        "# Deploy\n"
      ]
    },
    {
      "cell_type": "code",
      "metadata": {
        "colab_type": "code",
        "id": "RPpwgLdVr8f9",
        "colab": {
          "base_uri": "https://localhost:8080/",
          "height": 923
        },
        "outputId": "5964303e-f1c3-4751-9116-5b093a1ba3ad"
      },
      "source": [
        "secure = True\n",
        "\n",
        "if secure == True:\n",
        "    countries = ['mx', 'br']\n",
        "\n",
        "    for country in countries:\n",
        "        scrap_dir = f'Masters/Parquet backup/{country}/parquet'\n",
        "        product_db_dir = f'Products/{country}'\n",
        "        info = preload_dbs(scrap_dir)\n",
        "        print_info_headers(info[1])\n",
        "        main_edition(info, original_dir=scrap_dir, dir_to_send=product_db_dir, country=country)"
      ],
      "execution_count": null,
      "outputs": [
        {
          "output_type": "stream",
          "text": [
            " country |                 masterdbs                 | Edition\n",
            " ------- | ----------------------------------------- | ------ \n",
            "   mx    |          mx-master_db_pet-supplies        | Done\n",
            "   mx    |             mx-master_db_music            | Done\n",
            "   mx    |           mx-master_db_automotive         | Done\n",
            "   mx    |            mx-master_db_kitchen           | Done\n",
            "   mx    |              mx-master_db_toys            | Done\n",
            "   mx    |           mx-master_db_videogames         | Done\n",
            "   mx    |             mx-master_db_books            | Done\n",
            "   mx    |          mx-master_db_electronics         | Done\n",
            "   mx    |           mx-master_db_industrial         | Done\n",
            "   mx    |             mx-master_db_shoes            | Done\n",
            "   mx    |              mx-master_db_hpc             | Done\n",
            "   mx    |          mx-master_db_digital-text        | Done\n",
            "   mx    |         mx-master_db_officeproduct        | Done\n",
            "   mx    |             mx-master_db_tools            | Done\n",
            "   mx    |              mx-master_db_dvd             | Done\n",
            "   mx    |             mx-master_db_sports           | Done\n",
            "   mx    |              mx-master_db_baby            | Done\n",
            "   mx    |            mx-master_db_grocery           | Done\n",
            "   mx    |      mx-master_db_musical-instruments     | Done\n",
            "   mx    |            mx-master_db_software          | Done\n",
            "   mx    |            mx-master_db_handmade          | Done\n",
            "   mx    |         mx-master_db_amazon-devices       | Done\n",
            " country |               masterdbs               | Edition\n",
            " ------- | ------------------------------------- | ------ \n",
            "   br    |           br-master_db_beauty         | Done\n",
            "   br    |        br-master_db_electronics       | Done\n",
            "   br    |         br-master_db_appliances       | Done\n",
            "   br    |          br-master_db_fashion         | Done\n",
            "   br    |          br-master_db_kitchen         | Done\n",
            "   br    |            br-master_db_toys          | Done\n",
            "   br    |           br-master_db_office         | Done\n",
            "   br    |            br-master_db_hpc           | Done\n",
            "   br    |        br-master_db_mobile-apps       | Done\n",
            "   br    |      br-master_db_lawn-and-garden     | Done\n",
            "   br    |        br-master_db_digital-text      | Done\n",
            "   br    |         br-master_db_videogames       | Done\n",
            "   br    |             br-master_db_hi           | Done\n",
            "   br    |           br-master_db_books          | Done\n",
            "   br    |         br-master_db_computers        | Done\n",
            "   br    |            br-master_db_home          | Done\n",
            "   br    |            br-master_db_dvd           | Done\n",
            "   br    |           br-master_db_sports         | Done\n",
            "   br    |           br-master_db_music          | Done\n",
            "   br    |        br-master_db_pet-products      | Done\n",
            "   br    |       br-master_db_baby-products      | Done\n",
            "   br    |          br-master_db_grocery         | Done\n",
            "   br    |         br-master_db_furniture        | Done\n",
            "   br    |         br-master_db_automotive       | Done\n",
            "   br    |       br-master_db_amazon-devices     | Done\n"
          ],
          "name": "stdout"
        }
      ]
    },
    {
      "cell_type": "code",
      "metadata": {
        "id": "JED81ToaOx7t",
        "colab_type": "code",
        "colab": {}
      },
      "source": [
        "def main_files_overcheck(info, scraper_dir, products_dir, country=None):\n",
        "\n",
        "    centered_db = centered_len(info[1])\n",
        "\n",
        "    df_names = info[0]\n",
        "    total = 0\n",
        "    \n",
        "    for n in range(len(df_names)):\n",
        "\n",
        "        if country:\n",
        "            print(f'   {country}   ', end=' | ')\n",
        "\n",
        "        #file name extract\n",
        "        parquet_len = len('.parquet')\n",
        "        file_name_len = len(df_names[n])-parquet_len\n",
        "        file_name = df_names[n][0:file_name_len]\n",
        "\n",
        "        #File name print to log\n",
        "        print(f' {centered_db(file_name)}', end=' | ')\n",
        "\n",
        "        #--------Edition--------\n",
        "        #Load Dataframe\n",
        "        db_check_dir = f'{scraper_dir}/{df_names[n]}'\n",
        "        db_check = pd.read_parquet(db_check_dir)\n",
        "\n",
        "        shape = db_check.shape\n",
        "\n",
        "        rows = shape[0]\n",
        "\n",
        "        print(shape, end=' | ')\n",
        "\n",
        "        product_check_dir = f'{products_dir}/{df_names[n]}'\n",
        "        product_check = pd.read_parquet(product_check_dir)\n",
        "\n",
        "        prod_shape = product_check.shape\n",
        "\n",
        "        rows = prod_shape[0]\n",
        "\n",
        "        total += rows\n",
        "\n",
        "        print(prod_shape)\n",
        "\n",
        "    time_estimated = (total * 0.15)/ 60\n",
        "    text = f\"\"\"\n",
        "\n",
        "    Total Rows = {total}\n",
        "    Time estimated = {time_estimated} min\n",
        "\n",
        "\n",
        "    \"\"\"\n",
        "    print(text)"
      ],
      "execution_count": null,
      "outputs": []
    },
    {
      "cell_type": "code",
      "metadata": {
        "id": "dkwqdV6XVQgH",
        "colab_type": "code",
        "colab": {
          "base_uri": "https://localhost:8080/",
          "height": 34
        },
        "outputId": "6351e5fc-1fba-49c8-d401-7b16018153a1"
      },
      "source": [
        "df = pd.read_parquet('Products/mx/parquet/mx-master_db_pet-supplies.parquet')\n",
        "df.shape"
      ],
      "execution_count": null,
      "outputs": [
        {
          "output_type": "execute_result",
          "data": {
            "text/plain": [
              "(204, 15)"
            ]
          },
          "metadata": {
            "tags": []
          },
          "execution_count": 15
        }
      ]
    },
    {
      "cell_type": "code",
      "metadata": {
        "id": "WWuvgQVOP8hN",
        "colab_type": "code",
        "colab": {}
      },
      "source": [
        "def print_info_headers_check(len: int):\n",
        "    largest_len = info[1]\n",
        "    centered_db = centered_len(largest_len)\n",
        "    centered_header = centered_db('masterdbs')\n",
        "    db_dashes = '-'*largest_len + '-'\n",
        "\n",
        "    centered_scraper = centered_len(11)\n",
        "    centered_scrp_hd = centered_scraper('Scraper')\n",
        "    \n",
        "\n",
        "    print(f' country | {centered_header}  | {centered_scrp_hd} | Product DB')\n",
        "    print(f' ------- | {db_dashes} | ----------- |  ')"
      ],
      "execution_count": null,
      "outputs": []
    },
    {
      "cell_type": "code",
      "metadata": {
        "id": "sTcoeSl9USVO",
        "colab_type": "code",
        "colab": {
          "base_uri": "https://localhost:8080/",
          "height": 35
        },
        "outputId": "27bdbed5-53d0-4d73-d525-33bc7ebf1dc2"
      },
      "source": [
        "%pwd"
      ],
      "execution_count": null,
      "outputs": [
        {
          "output_type": "execute_result",
          "data": {
            "application/vnd.google.colaboratory.intrinsic+json": {
              "type": "string"
            },
            "text/plain": [
              "'/content/drive/My Drive/Colab Notebooks/4SS/4SS_db/testing'"
            ]
          },
          "metadata": {
            "tags": []
          },
          "execution_count": 17
        }
      ]
    },
    {
      "cell_type": "code",
      "metadata": {
        "id": "vEctUyZylWEZ",
        "colab_type": "code",
        "colab": {
          "base_uri": "https://localhost:8080/",
          "height": 1000
        },
        "outputId": "be2d99c0-5d76-4819-8942-a24fdfa58a87"
      },
      "source": [
        "secure = True\n",
        "\n",
        "if secure == True:\n",
        "    countries = ['mx', 'br']\n",
        "\n",
        "    for country in countries:\n",
        "        scrap_dir = f'Masters/Parquet backup/{country}/parquet'\n",
        "        product_db_dir = f'Products/{country}/parquet'\n",
        "        info = preload_dbs(scrap_dir)\n",
        "        print_info_headers_check(info[1])\n",
        "        main_files_overcheck(info, scraper_dir=scrap_dir, products_dir=product_db_dir, country=country)"
      ],
      "execution_count": null,
      "outputs": [
        {
          "output_type": "stream",
          "text": [
            " country |                 masterdbs                 |   Scraper   | Product DB\n",
            " ------- | ----------------------------------------- | ----------- |  \n",
            "   mx    |          mx-master_db_pet-supplies        | (18700, 11) | (204, 15)\n",
            "   mx    |             mx-master_db_music            | (18700, 11) | (1052, 15)\n",
            "   mx    |           mx-master_db_automotive         | (19300, 11) | (406, 15)\n",
            "   mx    |            mx-master_db_kitchen           | (18800, 11) | (280, 15)\n",
            "   mx    |              mx-master_db_toys            | (18750, 11) | (307, 15)\n",
            "   mx    |           mx-master_db_videogames         | (18450, 11) | (231, 15)\n",
            "   mx    |             mx-master_db_books            | (18700, 11) | (252, 15)\n",
            "   mx    |          mx-master_db_electronics         | (18900, 11) | (199, 15)\n",
            "   mx    |           mx-master_db_industrial         | (18800, 11) | (301, 15)\n",
            "   mx    |             mx-master_db_shoes            | (18700, 11) | (357, 15)\n",
            "   mx    |              mx-master_db_hpc             | (18700, 11) | (212, 15)\n",
            "   mx    |          mx-master_db_digital-text        | (18450, 11) | (340, 15)\n",
            "   mx    |         mx-master_db_officeproduct        | (18700, 11) | (246, 15)\n",
            "   mx    |             mx-master_db_tools            | (18850, 11) | (260, 15)\n",
            "   mx    |              mx-master_db_dvd             | (18700, 11) | (649, 15)\n",
            "   mx    |             mx-master_db_sports           | (19000, 11) | (286, 15)\n",
            "   mx    |              mx-master_db_baby            | (19250, 11) | (156, 15)\n",
            "   mx    |            mx-master_db_grocery           | (19400, 11) | (186, 15)\n",
            "   mx    |      mx-master_db_musical-instruments     | (18750, 11) | (320, 15)\n",
            "   mx    |            mx-master_db_software          | (18650, 11) | (111, 15)\n",
            "   mx    |            mx-master_db_handmade          | (18700, 11) | (912, 15)\n",
            "   mx    |         mx-master_db_amazon-devices       | (19050, 11) | (66, 15)\n",
            "\n",
            "\n",
            "    Total Rows = 7333\n",
            "    Time estimated = 18.3325 min\n",
            "\n",
            "\n",
            "    \n",
            " country |               masterdbs               |   Scraper   | Product DB\n",
            " ------- | ------------------------------------- | ----------- |  \n",
            "   br    |           br-master_db_beauty         | (17100, 11) | (231, 15)\n",
            "   br    |        br-master_db_electronics       | (18400, 11) | (145, 15)\n",
            "   br    |         br-master_db_appliances       | (17100, 11) | (790, 15)\n",
            "   br    |          br-master_db_fashion         | (17300, 11) | (492, 15)\n",
            "   br    |          br-master_db_kitchen         | (18350, 11) | (325, 15)\n",
            "   br    |            br-master_db_toys          | (18350, 11) | (271, 15)\n",
            "   br    |           br-master_db_office         | (17350, 11) | (187, 15)\n",
            "   br    |            br-master_db_hpc           | (18150, 11) | (245, 15)\n",
            "   br    |        br-master_db_mobile-apps       | (17200, 11) | (366, 15)\n",
            "   br    |      br-master_db_lawn-and-garden     | (17050, 11) | (476, 15)\n",
            "   br    |        br-master_db_digital-text      | (18150, 11) | (246, 15)\n",
            "   br    |         br-master_db_videogames       | (18100, 11) | (177, 15)\n",
            "   br    |             br-master_db_hi           | (17500, 11) | (268, 15)\n",
            "   br    |           br-master_db_books          | (18350, 11) | (253, 15)\n",
            "   br    |         br-master_db_computers        | (17250, 11) | (188, 15)\n",
            "   br    |            br-master_db_home          | (17100, 11) | (270, 15)\n",
            "   br    |            br-master_db_dvd           | (18300, 11) | (637, 15)\n",
            "   br    |           br-master_db_sports         | (18400, 11) | (390, 15)\n",
            "   br    |           br-master_db_music          | (18350, 11) | (863, 15)\n",
            "   br    |        br-master_db_pet-products      | (17300, 11) | (573, 15)\n",
            "   br    |       br-master_db_baby-products      | (17550, 11) | (203, 15)\n",
            "   br    |          br-master_db_grocery         | (2300, 11) | (108, 15)\n",
            "   br    |         br-master_db_furniture        | (17050, 11) | (483, 15)\n",
            "   br    |         br-master_db_automotive       | (2300, 11) | (279, 15)\n",
            "   br    |       br-master_db_amazon-devices     | (18450, 11) | (82, 15)\n",
            "\n",
            "\n",
            "    Total Rows = 8548\n",
            "    Time estimated = 21.37 min\n",
            "\n",
            "\n",
            "    \n"
          ],
          "name": "stdout"
        }
      ]
    },
    {
      "cell_type": "markdown",
      "metadata": {
        "id": "4bIFa9AvLLIq",
        "colab_type": "text"
      },
      "source": [
        "## tqdm"
      ]
    },
    {
      "cell_type": "code",
      "metadata": {
        "id": "WfBNHU413ttU",
        "colab_type": "code",
        "colab": {
          "base_uri": "https://localhost:8080/",
          "height": 34
        },
        "outputId": "5c40b134-4d01-4a87-8f70-5f9b9cb416f9"
      },
      "source": [
        "from tqdm import tqdm\n",
        "for i in tqdm(range(10000)):\n",
        "    ..."
      ],
      "execution_count": null,
      "outputs": [
        {
          "output_type": "stream",
          "text": [
            "100%|██████████| 10000/10000 [00:00<00:00, 2209971.02it/s]\n"
          ],
          "name": "stderr"
        }
      ]
    },
    {
      "cell_type": "code",
      "metadata": {
        "id": "2uoIPxko3tmg",
        "colab_type": "code",
        "colab": {}
      },
      "source": [
        "def main_files_tqdmbar_check(info, scraper_dir, products_dir, country=None):\n",
        "\n",
        "    centered_db = centered_len(info[1])\n",
        "\n",
        "    df_names = info[0]\n",
        "    total = 0\n",
        "    if country:\n",
        "        print(f'   {country}:   ', end=' | ')\n",
        "    \n",
        "    t = tqdm(iterable=len(df_names), total=len(df_names), leave=True,\n",
        "             disable=True, miniters=True)\n",
        "    for n in tqdm(range(len(df_names))):\n",
        "\n",
        "        #file name extract\n",
        "        parquet_len = len('.parquet')\n",
        "        file_name_len = len(df_names[n])-parquet_len\n",
        "        file_name = df_names[n][0:file_name_len]\n",
        "\n",
        "        #--------Edition--------\n",
        "        #Load Dataframe\n",
        "        db_check_dir = f'{scraper_dir}/{df_names[n]}'\n",
        "        db_check = pd.read_parquet(db_check_dir)\n",
        "\n",
        "        shape = db_check.shape\n",
        "\n",
        "        rows = shape[0]\n",
        "\n",
        "\n",
        "        product_check_dir = f'{products_dir}/{df_names[n]}'\n",
        "        product_check = pd.read_parquet(product_check_dir)\n",
        "\n",
        "        prod_shape = product_check.shape\n",
        "\n",
        "        rows = prod_shape[0]\n",
        "\n",
        "        total += rows\n",
        "\n",
        "        t.update()\n",
        "\n",
        "    t.close()\n",
        "    time_estimated = (total * 0.15)/ 60\n",
        "    text = f\"\"\"\n",
        "    Total Rows = {total}\n",
        "    Time estimated = {time_estimated} min\n",
        "    \"\"\"\n",
        "    print(text)"
      ],
      "execution_count": null,
      "outputs": []
    },
    {
      "cell_type": "code",
      "metadata": {
        "id": "UfP0lh6C3tiL",
        "colab_type": "code",
        "colab": {
          "base_uri": "https://localhost:8080/",
          "height": 194
        },
        "outputId": "15e36dc7-8052-4f99-b680-7d0addcc2988"
      },
      "source": [
        "secure = True\n",
        "\n",
        "if secure == True:\n",
        "    countries = ['mx', 'br']\n",
        "\n",
        "    for country in countries:\n",
        "        scrap_dir = f'Masters/Parquet backup/{country}/parquet'\n",
        "        product_db_dir = f'Products/{country}/parquet'\n",
        "        info = preload_dbs(scrap_dir)\n",
        "        # print(f'{country}:')\n",
        "        main_files_tqdmbar_check(info, scraper_dir=scrap_dir, products_dir=product_db_dir, country=country)"
      ],
      "execution_count": null,
      "outputs": [
        {
          "output_type": "stream",
          "text": [
            "\r  0%|          | 0/22 [00:00<?, ?it/s]"
          ],
          "name": "stderr"
        },
        {
          "output_type": "stream",
          "text": [
            "   mx:    | "
          ],
          "name": "stdout"
        },
        {
          "output_type": "stream",
          "text": [
            "100%|██████████| 22/22 [00:00<00:00, 39.79it/s]\n",
            " 20%|██        | 5/25 [00:00<00:00, 43.61it/s]"
          ],
          "name": "stderr"
        },
        {
          "output_type": "stream",
          "text": [
            "\n",
            "    Total Rows = 7333\n",
            "    Time estimated = 18.3325 min\n",
            "    \n",
            "   br:    | "
          ],
          "name": "stdout"
        },
        {
          "output_type": "stream",
          "text": [
            "100%|██████████| 25/25 [00:00<00:00, 43.48it/s]"
          ],
          "name": "stderr"
        },
        {
          "output_type": "stream",
          "text": [
            "\n",
            "    Total Rows = 8548\n",
            "    Time estimated = 21.37 min\n",
            "    \n"
          ],
          "name": "stdout"
        },
        {
          "output_type": "stream",
          "text": [
            "\n"
          ],
          "name": "stderr"
        }
      ]
    },
    {
      "cell_type": "markdown",
      "metadata": {
        "id": "udVX0B3rLIM2",
        "colab_type": "text"
      },
      "source": [
        "## ProgresBar"
      ]
    },
    {
      "cell_type": "code",
      "metadata": {
        "id": "6QKKKMr93tah",
        "colab_type": "code",
        "colab": {
          "base_uri": "https://localhost:8080/",
          "height": 70
        },
        "outputId": "8ffaa84c-17f5-4bb4-e2b3-921f75d53358"
      },
      "source": [
        "!pip install progressbar2"
      ],
      "execution_count": null,
      "outputs": [
        {
          "output_type": "stream",
          "text": [
            "Requirement already satisfied: progressbar2 in /usr/local/lib/python3.6/dist-packages (3.38.0)\n",
            "Requirement already satisfied: python-utils>=2.3.0 in /usr/local/lib/python3.6/dist-packages (from progressbar2) (2.4.0)\n",
            "Requirement already satisfied: six in /usr/local/lib/python3.6/dist-packages (from progressbar2) (1.15.0)\n"
          ],
          "name": "stdout"
        }
      ]
    },
    {
      "cell_type": "code",
      "metadata": {
        "id": "CRR-frvAAOjs",
        "colab_type": "code",
        "colab": {
          "base_uri": "https://localhost:8080/",
          "height": 52
        },
        "outputId": "a040536d-93f6-4a2e-e11f-52b34b0def0e"
      },
      "source": [
        "import progressbar\n",
        "\n",
        "for country in countries:\n",
        "    with progressbar.ProgressBar(max_value=100) as bar:\n",
        "        for i in range(100):\n",
        "            time.sleep(0.02)\n",
        "            bar.update(i)"
      ],
      "execution_count": null,
      "outputs": [
        {
          "output_type": "stream",
          "text": [
            "100% (100 of 100) |######################| Elapsed Time: 0:00:02 Time:  0:00:02\n",
            "100% (100 of 100) |######################| Elapsed Time: 0:00:02 Time:  0:00:02\n"
          ],
          "name": "stderr"
        }
      ]
    },
    {
      "cell_type": "code",
      "metadata": {
        "id": "qMSntrwmCXt9",
        "colab_type": "code",
        "colab": {
          "base_uri": "https://localhost:8080/",
          "height": 52
        },
        "outputId": "6109f3f8-899c-4a33-a7a1-a00e6b4092c8"
      },
      "source": [
        "# import progressbar\n",
        "# from progressbar.widgets\n",
        "\n",
        "\n",
        "for country in countries:\n",
        "    widgets=[\n",
        "        #  '[', progressbar.Variable(), ']',\n",
        "         '[', progressbar.Timer(), ']',\n",
        "         '[', progressbar.Percentage(), ']',\n",
        "         '[',country, ']',\n",
        "         progressbar.Bar(marker='▥'),\n",
        "         '[', progressbar.Timer(), ']',\n",
        "        #  '[', progressbar.widgets.BouncingBar() , ']',\n",
        "\n",
        "]\n",
        "    for i in progressbar.progressbar(range(20), widgets=widgets):\n",
        "        time.sleep(0.1)"
      ],
      "execution_count": null,
      "outputs": [
        {
          "output_type": "stream",
          "text": [
            "[Elapsed Time: 0:00:02][100%][mx]|▥▥▥▥▥▥▥▥▥▥▥▥▥▥▥▥▥▥▥▥▥|[Elapsed Time: 0:00:02]\n",
            "[Elapsed Time: 0:00:02][100%][br]|▥▥▥▥▥▥▥▥▥▥▥▥▥▥▥▥▥▥▥▥▥|[Elapsed Time: 0:00:02]\n"
          ],
          "name": "stderr"
        }
      ]
    },
    {
      "cell_type": "code",
      "metadata": {
        "id": "AMCxhi-vPqID",
        "colab_type": "code",
        "colab": {}
      },
      "source": [
        "def load_to_backend(df, country, df_name):\n",
        "    #On the file\n",
        "    product_name = df['Product Names'].to_list()\n",
        "    date = df['time'].to_list()\n",
        "    rank = df['Rank'].to_list()\n",
        "    stars = df['Stars'].to_list()\n",
        "    reviews = df['Reviews'].to_list()\n",
        "    price = df['Price_std_or_min'].to_list()\n",
        "    max_price = df['Max_prices'].to_list()\n",
        "\n",
        "    #images ID to URL\n",
        "    image_id = df['Image ID'].to_list()\n",
        "    image_url = [f'https://images-na.ssl-images-amazon.com/images/I/{img_id}.jpg' for img_id in image_id]\n",
        "\n",
        "    #Static and quasi-static properties\n",
        "    store = 'Amazon'\n",
        "\n",
        "    #Country\n",
        "    country = countries[0]\n",
        "    country = country\n",
        "\n",
        "    #Product ID to URL\n",
        "    product_id = df['Product ID'].to_list()\n",
        "    product_url = [f'https://www.amazon.com.{country}/dp/{pid}' for pid in product_id]\n",
        "\n",
        "    #Constant\n",
        "    parquet_len = len('.parquet')\n",
        "\n",
        "    #variables\n",
        "\n",
        "    #Main Name Extracter\n",
        "    file_name_len = len(df_name)-parquet_len\n",
        "    file_name = df_name[13:file_name_len]\n",
        "\n",
        "    #Dictionary \n",
        "    category = file_name\n",
        "    string_1 = '''mutation {\n",
        "    releaseProduct (input: {'''\n",
        "\n",
        "    string_3 = '''}) {\n",
        "        _id\n",
        "        name\n",
        "        stars\n",
        "    }\n",
        "    }'''\n",
        "    \n",
        "    url = 'http://34.95.224.171/api'\n",
        "\n",
        "    for n in range(len(product_name)):\n",
        "        query_string = f'''\n",
        "        name : \"{product_name[n]}\",\n",
        "        imageURL: \"{image_url[n]}\",\n",
        "        link: \"{product_url[n]}\",\n",
        "        cathegory: \"{category}\",\n",
        "        country: \"{country}\",\n",
        "        store: \"Amazon\",\n",
        "        Time: \"{date[n]}\",\n",
        "        Rank: {int(rank[n])},\n",
        "        Price : {float(price[n])}'''\n",
        "\n",
        "        query_json = string_1 + query_string + string_3\n",
        "        \n",
        "\n",
        "        json = { 'query' : query_json}\n",
        "\n",
        "        r = requests.post(url=url, json=json)\n",
        "        print('.', end='')\n",
        "        "
      ],
      "execution_count": null,
      "outputs": []
    },
    {
      "cell_type": "markdown",
      "metadata": {
        "id": "Z_NrsjgOPoPe",
        "colab_type": "text"
      },
      "source": [
        "#Backend Load\n"
      ]
    },
    {
      "cell_type": "code",
      "metadata": {
        "id": "CGzFLZbq3tTn",
        "colab_type": "code",
        "colab": {}
      },
      "source": [
        "def main_files_bar_check(info, scraper_dir, products_dir, country=None):\n",
        "\n",
        "    centered_db = centered_len(info[1])\n",
        "\n",
        "    df_names = info[0]\n",
        "    total = 0\n",
        "\n",
        "    widgets=[\n",
        "    #  '[', progressbar.Variable(), ']',\n",
        "        '[', progressbar.Timer(), ']',\n",
        "        '[', progressbar.Percentage(), ']',\n",
        "        '[',country, ']',\n",
        "        progressbar.Bar(marker='▥'),\n",
        "        '[', progressbar.Timer(), ']',\n",
        "    #  '[', progressbar.widgets.BouncingBar() , ']',\n",
        "\n",
        "]\n",
        "    for n in progressbar.progressbar(range(len(df_names)), widgets=widgets):\n",
        "\n",
        "        #file name extract\n",
        "        parquet_len = len('.parquet')\n",
        "        file_name_len = len(df_names[n])-parquet_len\n",
        "        file_name = df_names[n][0:file_name_len]\n",
        "        df_name = df_names[n]\n",
        "\n",
        "        #File name print to log\n",
        "\n",
        "        #--------Edition--------\n",
        "        #Load Dataframe\n",
        "        product_check_dir = f'{scraper_dir}/{df_names[n]}'\n",
        "        product_check = pd.read_parquet(product_check_dir)\n",
        "        df = product_check\n",
        "        load_to_backend(df, country, df_name)\n",
        "\n",
        "        prod_shape = product_check.shape\n",
        "\n",
        "        rows = prod_shape[0]\n",
        "\n",
        "        total += rows\n",
        "\n",
        "    time_estimated = (total * 0.15)/ 60\n",
        "\n",
        "    row_info = [country,total, time_estimated]\n",
        "    \n",
        "    return row_info"
      ],
      "execution_count": null,
      "outputs": []
    },
    {
      "cell_type": "markdown",
      "metadata": {
        "id": "wUIFMsPdNJzr",
        "colab_type": "text"
      },
      "source": [
        "#ProgressBar Deploy"
      ]
    },
    {
      "cell_type": "code",
      "metadata": {
        "id": "VPgFVP_PTOs7",
        "colab_type": "code",
        "colab": {
          "base_uri": "https://localhost:8080/",
          "height": 34
        },
        "outputId": "3ec22538-b92e-40ca-d304-22c40421744c"
      },
      "source": [
        "%cd 'testing'"
      ],
      "execution_count": null,
      "outputs": [
        {
          "output_type": "stream",
          "text": [
            "/content/drive/My Drive/Colab Notebooks/4SS/4SS_db/testing\n"
          ],
          "name": "stdout"
        }
      ]
    },
    {
      "cell_type": "code",
      "metadata": {
        "id": "tFSLXjdLLbGb",
        "colab_type": "code",
        "colab": {
          "base_uri": "https://localhost:8080/",
          "height": 994
        },
        "outputId": "a481c19e-56ad-4568-bff4-0e6391ef9f42"
      },
      "source": [
        "secure = True\n",
        "\n",
        "if secure == True:\n",
        "    countries = ['mx', 'br']\n",
        "    estimation_info = [None, None]\n",
        "    for c in range(len(countries)):\n",
        "        country= countries[c]\n",
        "        scrap_dir = f'Last 50/{country}/parquet'\n",
        "        info = preload_dbs(scrap_dir)\n",
        "        estimation_info[c] = main_files_bar_check(info, scraper_dir=scrap_dir, products_dir=product_db_dir, country=country)\n",
        "\n",
        "        \n",
        "    headers = ['country', 'Data To Scrap','Time estimated (min)']\n",
        "    table = [\n",
        "             estimation_info[0],\n",
        "             estimation_info[1]\n",
        "    ]\n",
        "    print('\\n')\n",
        "    print(tabulate(table, headers))"
      ],
      "execution_count": 51,
      "outputs": [
        {
          "output_type": "stream",
          "text": [
            "\r                                                                               \r\r[Elapsed Time: 0:00:00][N/A%][mx]|                     |[Elapsed Time: 0:00:00]"
          ],
          "name": "stderr"
        },
        {
          "output_type": "stream",
          "text": [
            "................................................."
          ],
          "name": "stdout"
        },
        {
          "output_type": "stream",
          "text": [
            "\r                                                                               \r\r[Elapsed Time: 0:01:07][  4%][mx]|                     |[Elapsed Time: 0:01:07]"
          ],
          "name": "stderr"
        },
        {
          "output_type": "stream",
          "text": [
            ".................................................."
          ],
          "name": "stdout"
        },
        {
          "output_type": "stream",
          "text": [
            "\r                                                                               \r\r[Elapsed Time: 0:02:15][  9%][mx]|▥                    |[Elapsed Time: 0:02:15]"
          ],
          "name": "stderr"
        },
        {
          "output_type": "stream",
          "text": [
            ".................................................."
          ],
          "name": "stdout"
        },
        {
          "output_type": "stream",
          "text": [
            "\r                                                                               \r\r[Elapsed Time: 0:03:23][ 13%][mx]|▥▥                   |[Elapsed Time: 0:03:23]"
          ],
          "name": "stderr"
        },
        {
          "output_type": "stream",
          "text": [
            ".................................................."
          ],
          "name": "stdout"
        },
        {
          "output_type": "stream",
          "text": [
            "\r                                                                               \r\r[Elapsed Time: 0:04:31][ 18%][mx]|▥▥▥                  |[Elapsed Time: 0:04:31]"
          ],
          "name": "stderr"
        },
        {
          "output_type": "stream",
          "text": [
            ".................................................."
          ],
          "name": "stdout"
        },
        {
          "output_type": "stream",
          "text": [
            "\r                                                                               \r\r[Elapsed Time: 0:05:32][ 22%][mx]|▥▥▥▥                 |[Elapsed Time: 0:05:32]"
          ],
          "name": "stderr"
        },
        {
          "output_type": "stream",
          "text": [
            ".................................................."
          ],
          "name": "stdout"
        },
        {
          "output_type": "stream",
          "text": [
            "\r                                                                               \r\r[Elapsed Time: 0:06:37][ 27%][mx]|▥▥▥▥▥                |[Elapsed Time: 0:06:37]"
          ],
          "name": "stderr"
        },
        {
          "output_type": "stream",
          "text": [
            ".................................................."
          ],
          "name": "stdout"
        },
        {
          "output_type": "stream",
          "text": [
            "\r                                                                               \r\r[Elapsed Time: 0:07:44][ 31%][mx]|▥▥▥▥▥▥               |[Elapsed Time: 0:07:44]"
          ],
          "name": "stderr"
        },
        {
          "output_type": "stream",
          "text": [
            ".................................................."
          ],
          "name": "stdout"
        },
        {
          "output_type": "stream",
          "text": [
            "\r                                                                               \r\r[Elapsed Time: 0:08:51][ 36%][mx]|▥▥▥▥▥▥▥              |[Elapsed Time: 0:08:51]"
          ],
          "name": "stderr"
        },
        {
          "output_type": "stream",
          "text": [
            ".................................................."
          ],
          "name": "stdout"
        },
        {
          "output_type": "stream",
          "text": [
            "\r                                                                               \r\r[Elapsed Time: 0:09:59][ 40%][mx]|▥▥▥▥▥▥▥▥             |[Elapsed Time: 0:09:59]"
          ],
          "name": "stderr"
        },
        {
          "output_type": "stream",
          "text": [
            ".................................................."
          ],
          "name": "stdout"
        },
        {
          "output_type": "stream",
          "text": [
            "\r                                                                               \r\r[Elapsed Time: 0:11:07][ 45%][mx]|▥▥▥▥▥▥▥▥▥            |[Elapsed Time: 0:11:07]"
          ],
          "name": "stderr"
        },
        {
          "output_type": "stream",
          "text": [
            ".................................................."
          ],
          "name": "stdout"
        },
        {
          "output_type": "stream",
          "text": [
            "\r                                                                               \r\r[Elapsed Time: 0:12:15][ 50%][mx]|▥▥▥▥▥▥▥▥▥▥           |[Elapsed Time: 0:12:15]"
          ],
          "name": "stderr"
        },
        {
          "output_type": "stream",
          "text": [
            ".................................................."
          ],
          "name": "stdout"
        },
        {
          "output_type": "stream",
          "text": [
            "\r                                                                               \r\r[Elapsed Time: 0:13:23][ 54%][mx]|▥▥▥▥▥▥▥▥▥▥▥          |[Elapsed Time: 0:13:23]"
          ],
          "name": "stderr"
        },
        {
          "output_type": "stream",
          "text": [
            ".................................................."
          ],
          "name": "stdout"
        },
        {
          "output_type": "stream",
          "text": [
            "\r                                                                               \r\r[Elapsed Time: 0:14:28][ 59%][mx]|▥▥▥▥▥▥▥▥▥▥▥▥         |[Elapsed Time: 0:14:28]"
          ],
          "name": "stderr"
        },
        {
          "output_type": "stream",
          "text": [
            ".................................................."
          ],
          "name": "stdout"
        },
        {
          "output_type": "stream",
          "text": [
            "\r                                                                               \r\r[Elapsed Time: 0:15:33][ 63%][mx]|▥▥▥▥▥▥▥▥▥▥▥▥▥        |[Elapsed Time: 0:15:33]"
          ],
          "name": "stderr"
        },
        {
          "output_type": "stream",
          "text": [
            ".................................................."
          ],
          "name": "stdout"
        },
        {
          "output_type": "stream",
          "text": [
            "\r                                                                               \r\r[Elapsed Time: 0:16:40][ 68%][mx]|▥▥▥▥▥▥▥▥▥▥▥▥▥▥       |[Elapsed Time: 0:16:40]"
          ],
          "name": "stderr"
        },
        {
          "output_type": "stream",
          "text": [
            ".................................................."
          ],
          "name": "stdout"
        },
        {
          "output_type": "stream",
          "text": [
            "\r                                                                               \r\r[Elapsed Time: 0:17:49][ 72%][mx]|▥▥▥▥▥▥▥▥▥▥▥▥▥▥▥      |[Elapsed Time: 0:17:49]"
          ],
          "name": "stderr"
        },
        {
          "output_type": "stream",
          "text": [
            ".................................................."
          ],
          "name": "stdout"
        },
        {
          "output_type": "stream",
          "text": [
            "\r                                                                               \r\r[Elapsed Time: 0:18:57][ 77%][mx]|▥▥▥▥▥▥▥▥▥▥▥▥▥▥▥▥     |[Elapsed Time: 0:18:57]"
          ],
          "name": "stderr"
        },
        {
          "output_type": "stream",
          "text": [
            ".................................................."
          ],
          "name": "stdout"
        },
        {
          "output_type": "stream",
          "text": [
            "\r                                                                               \r\r[Elapsed Time: 0:20:06][ 81%][mx]|▥▥▥▥▥▥▥▥▥▥▥▥▥▥▥▥▥    |[Elapsed Time: 0:20:06]"
          ],
          "name": "stderr"
        },
        {
          "output_type": "stream",
          "text": [
            ".................................................."
          ],
          "name": "stdout"
        },
        {
          "output_type": "stream",
          "text": [
            "\r                                                                               \r\r[Elapsed Time: 0:21:14][ 86%][mx]|▥▥▥▥▥▥▥▥▥▥▥▥▥▥▥▥▥▥   |[Elapsed Time: 0:21:14]"
          ],
          "name": "stderr"
        },
        {
          "output_type": "stream",
          "text": [
            ".................................................."
          ],
          "name": "stdout"
        },
        {
          "output_type": "stream",
          "text": [
            "\r                                                                               \r\r[Elapsed Time: 0:22:18][ 90%][mx]|▥▥▥▥▥▥▥▥▥▥▥▥▥▥▥▥▥▥▥  |[Elapsed Time: 0:22:18]"
          ],
          "name": "stderr"
        },
        {
          "output_type": "stream",
          "text": [
            ".................................................."
          ],
          "name": "stdout"
        },
        {
          "output_type": "stream",
          "text": [
            "\r                                                                               \r\r[Elapsed Time: 0:23:27][ 95%][mx]|▥▥▥▥▥▥▥▥▥▥▥▥▥▥▥▥▥▥▥▥ |[Elapsed Time: 0:23:27]"
          ],
          "name": "stderr"
        },
        {
          "output_type": "stream",
          "text": [
            ".................................................."
          ],
          "name": "stdout"
        },
        {
          "output_type": "stream",
          "text": [
            "\r                                                                               \r\r[Elapsed Time: 0:24:35][100%][mx]|▥▥▥▥▥▥▥▥▥▥▥▥▥▥▥▥▥▥▥▥▥|[Elapsed Time: 0:24:35]\n"
          ],
          "name": "stderr"
        },
        {
          "output_type": "stream",
          "text": [
            "."
          ],
          "name": "stdout"
        },
        {
          "output_type": "stream",
          "text": [
            "\r                                                                               \r\r[Elapsed Time: 0:00:00][N/A%][br]|                     |[Elapsed Time: 0:00:00]"
          ],
          "name": "stderr"
        },
        {
          "output_type": "stream",
          "text": [
            "................................................."
          ],
          "name": "stdout"
        },
        {
          "output_type": "stream",
          "text": [
            "\r                                                                               \r\r[Elapsed Time: 0:00:51][  4%][br]|                     |[Elapsed Time: 0:00:51]"
          ],
          "name": "stderr"
        },
        {
          "output_type": "stream",
          "text": [
            ".................................................."
          ],
          "name": "stdout"
        },
        {
          "output_type": "stream",
          "text": [
            "\r                                                                               \r\r[Elapsed Time: 0:01:58][  8%][br]|▥                    |[Elapsed Time: 0:01:58]"
          ],
          "name": "stderr"
        },
        {
          "output_type": "stream",
          "text": [
            ".................................................."
          ],
          "name": "stdout"
        },
        {
          "output_type": "stream",
          "text": [
            "\r                                                                               \r\r[Elapsed Time: 0:03:06][ 12%][br]|▥▥                   |[Elapsed Time: 0:03:06]"
          ],
          "name": "stderr"
        },
        {
          "output_type": "stream",
          "text": [
            ".................................................."
          ],
          "name": "stdout"
        },
        {
          "output_type": "stream",
          "text": [
            "\r                                                                               \r\r[Elapsed Time: 0:04:14][ 16%][br]|▥▥▥                  |[Elapsed Time: 0:04:14]"
          ],
          "name": "stderr"
        },
        {
          "output_type": "stream",
          "text": [
            ".................................................."
          ],
          "name": "stdout"
        },
        {
          "output_type": "stream",
          "text": [
            "\r                                                                               \r\r[Elapsed Time: 0:05:23][ 20%][br]|▥▥▥▥                 |[Elapsed Time: 0:05:23]"
          ],
          "name": "stderr"
        },
        {
          "output_type": "stream",
          "text": [
            ".................................................."
          ],
          "name": "stdout"
        },
        {
          "output_type": "stream",
          "text": [
            "\r                                                                               \r\r[Elapsed Time: 0:06:21][ 24%][br]|▥▥▥▥▥                |[Elapsed Time: 0:06:21]"
          ],
          "name": "stderr"
        },
        {
          "output_type": "stream",
          "text": [
            ".................................................."
          ],
          "name": "stdout"
        },
        {
          "output_type": "stream",
          "text": [
            "\r                                                                               \r\r[Elapsed Time: 0:07:28][ 28%][br]|▥▥▥▥▥                |[Elapsed Time: 0:07:28]"
          ],
          "name": "stderr"
        },
        {
          "output_type": "stream",
          "text": [
            ".................................................."
          ],
          "name": "stdout"
        },
        {
          "output_type": "stream",
          "text": [
            "\r                                                                               \r\r[Elapsed Time: 0:08:36][ 32%][br]|▥▥▥▥▥▥               |[Elapsed Time: 0:08:36]"
          ],
          "name": "stderr"
        },
        {
          "output_type": "stream",
          "text": [
            ".................................................."
          ],
          "name": "stdout"
        },
        {
          "output_type": "stream",
          "text": [
            "\r                                                                               \r\r[Elapsed Time: 0:09:45][ 36%][br]|▥▥▥▥▥▥▥              |[Elapsed Time: 0:09:45]"
          ],
          "name": "stderr"
        },
        {
          "output_type": "stream",
          "text": [
            ".................................................."
          ],
          "name": "stdout"
        },
        {
          "output_type": "stream",
          "text": [
            "\r                                                                               \r\r[Elapsed Time: 0:10:53][ 40%][br]|▥▥▥▥▥▥▥▥             |[Elapsed Time: 0:10:53]"
          ],
          "name": "stderr"
        },
        {
          "output_type": "stream",
          "text": [
            ".................................................."
          ],
          "name": "stdout"
        },
        {
          "output_type": "stream",
          "text": [
            "\r                                                                               \r\r[Elapsed Time: 0:12:00][ 44%][br]|▥▥▥▥▥▥▥▥▥            |[Elapsed Time: 0:12:00]"
          ],
          "name": "stderr"
        },
        {
          "output_type": "stream",
          "text": [
            ".................................................."
          ],
          "name": "stdout"
        },
        {
          "output_type": "stream",
          "text": [
            "\r                                                                               \r\r[Elapsed Time: 0:13:08][ 48%][br]|▥▥▥▥▥▥▥▥▥▥           |[Elapsed Time: 0:13:08]"
          ],
          "name": "stderr"
        },
        {
          "output_type": "stream",
          "text": [
            ".................................................."
          ],
          "name": "stdout"
        },
        {
          "output_type": "stream",
          "text": [
            "\r                                                                               \r\r[Elapsed Time: 0:14:17][ 52%][br]|▥▥▥▥▥▥▥▥▥▥           |[Elapsed Time: 0:14:17]"
          ],
          "name": "stderr"
        },
        {
          "output_type": "stream",
          "text": [
            ".................................................."
          ],
          "name": "stdout"
        },
        {
          "output_type": "stream",
          "text": [
            "\r                                                                               \r\r[Elapsed Time: 0:15:23][ 56%][br]|▥▥▥▥▥▥▥▥▥▥▥          |[Elapsed Time: 0:15:23]"
          ],
          "name": "stderr"
        },
        {
          "output_type": "stream",
          "text": [
            ".................................................."
          ],
          "name": "stdout"
        },
        {
          "output_type": "stream",
          "text": [
            "\r                                                                               \r\r[Elapsed Time: 0:16:32][ 60%][br]|▥▥▥▥▥▥▥▥▥▥▥▥         |[Elapsed Time: 0:16:32]"
          ],
          "name": "stderr"
        },
        {
          "output_type": "stream",
          "text": [
            ".................................................."
          ],
          "name": "stdout"
        },
        {
          "output_type": "stream",
          "text": [
            "\r                                                                               \r\r[Elapsed Time: 0:17:40][ 64%][br]|▥▥▥▥▥▥▥▥▥▥▥▥▥        |[Elapsed Time: 0:17:40]"
          ],
          "name": "stderr"
        },
        {
          "output_type": "stream",
          "text": [
            ".................................................."
          ],
          "name": "stdout"
        },
        {
          "output_type": "stream",
          "text": [
            "\r                                                                               \r\r[Elapsed Time: 0:18:47][ 68%][br]|▥▥▥▥▥▥▥▥▥▥▥▥▥▥       |[Elapsed Time: 0:18:47]"
          ],
          "name": "stderr"
        },
        {
          "output_type": "stream",
          "text": [
            ".................................................."
          ],
          "name": "stdout"
        },
        {
          "output_type": "stream",
          "text": [
            "\r                                                                               \r\r[Elapsed Time: 0:19:56][ 72%][br]|▥▥▥▥▥▥▥▥▥▥▥▥▥▥▥      |[Elapsed Time: 0:19:56]"
          ],
          "name": "stderr"
        },
        {
          "output_type": "stream",
          "text": [
            ".................................................."
          ],
          "name": "stdout"
        },
        {
          "output_type": "stream",
          "text": [
            "\r                                                                               \r\r[Elapsed Time: 0:21:03][ 76%][br]|▥▥▥▥▥▥▥▥▥▥▥▥▥▥▥      |[Elapsed Time: 0:21:03]"
          ],
          "name": "stderr"
        },
        {
          "output_type": "stream",
          "text": [
            ".................................................."
          ],
          "name": "stdout"
        },
        {
          "output_type": "stream",
          "text": [
            "\r                                                                               \r\r[Elapsed Time: 0:22:12][ 80%][br]|▥▥▥▥▥▥▥▥▥▥▥▥▥▥▥▥     |[Elapsed Time: 0:22:12]"
          ],
          "name": "stderr"
        },
        {
          "output_type": "stream",
          "text": [
            ".................................................."
          ],
          "name": "stdout"
        },
        {
          "output_type": "stream",
          "text": [
            "\r                                                                               \r\r[Elapsed Time: 0:23:20][ 84%][br]|▥▥▥▥▥▥▥▥▥▥▥▥▥▥▥▥▥    |[Elapsed Time: 0:23:20]"
          ],
          "name": "stderr"
        },
        {
          "output_type": "stream",
          "text": [
            ".................................................."
          ],
          "name": "stdout"
        },
        {
          "output_type": "stream",
          "text": [
            "\r                                                                               \r\r[Elapsed Time: 0:24:29][ 88%][br]|▥▥▥▥▥▥▥▥▥▥▥▥▥▥▥▥▥▥   |[Elapsed Time: 0:24:29]"
          ],
          "name": "stderr"
        },
        {
          "output_type": "stream",
          "text": [
            ".................................................."
          ],
          "name": "stdout"
        },
        {
          "output_type": "stream",
          "text": [
            "\r                                                                               \r\r[Elapsed Time: 0:25:36][ 92%][br]|▥▥▥▥▥▥▥▥▥▥▥▥▥▥▥▥▥▥▥  |[Elapsed Time: 0:25:36]"
          ],
          "name": "stderr"
        },
        {
          "output_type": "stream",
          "text": [
            ".................................................."
          ],
          "name": "stdout"
        },
        {
          "output_type": "stream",
          "text": [
            "\r                                                                               \r\r[Elapsed Time: 0:26:43][ 96%][br]|▥▥▥▥▥▥▥▥▥▥▥▥▥▥▥▥▥▥▥▥ |[Elapsed Time: 0:26:43]"
          ],
          "name": "stderr"
        },
        {
          "output_type": "stream",
          "text": [
            ".................................................."
          ],
          "name": "stdout"
        },
        {
          "output_type": "stream",
          "text": [
            "\r                                                                               \r\r[Elapsed Time: 0:27:51][100%][br]|▥▥▥▥▥▥▥▥▥▥▥▥▥▥▥▥▥▥▥▥▥|[Elapsed Time: 0:27:51]\n"
          ],
          "name": "stderr"
        },
        {
          "output_type": "stream",
          "text": [
            ".\n",
            "\n",
            "country      Data To Scrap    Time estimated (min)\n",
            "---------  ---------------  ----------------------\n",
            "mx                    1100                   2.75\n",
            "br                    1250                   3.125\n"
          ],
          "name": "stdout"
        }
      ]
    }
  ]
}