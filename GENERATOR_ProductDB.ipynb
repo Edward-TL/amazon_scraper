{
  "nbformat": 4,
  "nbformat_minor": 0,
  "metadata": {
    "colab": {
      "name": "GENERATOR_ProductDB.ipynb",
      "provenance": [],
      "collapsed_sections": [],
      "toc_visible": true,
      "authorship_tag": "ABX9TyOWcN5Occ2hL6rcmuR2ynkP",
      "include_colab_link": true
    },
    "kernelspec": {
      "name": "python3",
      "display_name": "Python 3"
    }
  },
  "cells": [
    {
      "cell_type": "markdown",
      "metadata": {
        "id": "view-in-github",
        "colab_type": "text"
      },
      "source": [
        "<a href=\"https://colab.research.google.com/github/Edward-TL/amazon_scraper/blob/master/GENERATOR_ProductDB.ipynb\" target=\"_parent\"><img src=\"https://colab.research.google.com/assets/colab-badge.svg\" alt=\"Open In Colab\"/></a>"
      ]
    },
    {
      "cell_type": "code",
      "metadata": {
        "id": "sE2GNmTBCP6c",
        "colab_type": "code",
        "colab": {
          "base_uri": "https://localhost:8080/",
          "height": 125
        },
        "outputId": "a2ce6000-fd4c-43db-984c-14d231c4180d"
      },
      "source": [
        "from google.colab import drive\n",
        "drive.mount('/content/drive')"
      ],
      "execution_count": 5,
      "outputs": [
        {
          "output_type": "stream",
          "text": [
            "Go to this URL in a browser: https://accounts.google.com/o/oauth2/auth?client_id=947318989803-6bn6qk8qdgf4n4g3pfee6491hc0brc4i.apps.googleusercontent.com&redirect_uri=urn%3aietf%3awg%3aoauth%3a2.0%3aoob&scope=email%20https%3a%2f%2fwww.googleapis.com%2fauth%2fdocs.test%20https%3a%2f%2fwww.googleapis.com%2fauth%2fdrive%20https%3a%2f%2fwww.googleapis.com%2fauth%2fdrive.photos.readonly%20https%3a%2f%2fwww.googleapis.com%2fauth%2fpeopleapi.readonly&response_type=code\n",
            "\n",
            "Enter your authorization code:\n",
            "··········\n",
            "Mounted at /content/drive\n"
          ],
          "name": "stdout"
        }
      ]
    },
    {
      "cell_type": "markdown",
      "metadata": {
        "id": "vU1wPAprmtkz",
        "colab_type": "text"
      },
      "source": [
        "#imports"
      ]
    },
    {
      "cell_type": "code",
      "metadata": {
        "id": "tbM7-CkwCQTK",
        "colab_type": "code",
        "colab": {}
      },
      "source": [
        "#For the system\n",
        "import os\n",
        "\n",
        "#Manage of time\n",
        "from datetime import datetime, timedelta\n",
        "from pytz import timezone\n",
        "import time\n",
        "import re\n",
        "\n",
        "#Manage of files\n",
        "import pandas as pd\n",
        "import csv\n",
        "\n",
        "#scrap\n",
        "from bs4 import BeautifulSoup\n",
        "from openpyxl.workbook import Workbook\n",
        "import requests"
      ],
      "execution_count": 6,
      "outputs": []
    },
    {
      "cell_type": "markdown",
      "metadata": {
        "id": "Xdlg32IysfZV",
        "colab_type": "text"
      },
      "source": [
        "##Ubicación"
      ]
    },
    {
      "cell_type": "code",
      "metadata": {
        "id": "h_IszAnhCP--",
        "colab_type": "code",
        "colab": {
          "base_uri": "https://localhost:8080/",
          "height": 70
        },
        "outputId": "5278a31d-0210-4925-ba73-bf0481099568"
      },
      "source": [
        "%cd 'drive/My Drive/Colab Notebooks/4SS/4SS_db/testing/'\n",
        "!ls"
      ],
      "execution_count": 7,
      "outputs": [
        {
          "output_type": "stream",
          "text": [
            "/content/drive/My Drive/Colab Notebooks/4SS/4SS_db/testing\n",
            "'Day Update'\t Masters   Products\n",
            "'Edition Test'\t Origin   'Untitled document.gdoc'\n"
          ],
          "name": "stdout"
        }
      ]
    },
    {
      "cell_type": "markdown",
      "metadata": {
        "id": "iW0SYQlIsUTm",
        "colab_type": "text"
      },
      "source": [
        "#Centered Len"
      ]
    },
    {
      "cell_type": "code",
      "metadata": {
        "id": "spM2KsJMeRE3",
        "colab_type": "code",
        "colab": {}
      },
      "source": [
        "def centered_len(max_len):\n",
        "    def centered_string(string):\n",
        "        if type(string) != 'string':\n",
        "            string = str(string)\n",
        "            \n",
        "        rest = max_len - len(string)\n",
        "        n_spaces = int(rest/2)\n",
        "\n",
        "        string_spaces = ' ' * n_spaces\n",
        "        \n",
        "        centered_string = string_spaces + string + string_spaces\n",
        "\n",
        "        if len(centered_string)<max_len:\n",
        "            centered_string = ' ' + centered_string\n",
        "\n",
        "        return centered_string\n",
        "    return centered_string"
      ],
      "execution_count": 9,
      "outputs": []
    },
    {
      "cell_type": "markdown",
      "metadata": {
        "id": "ASBBjQ3cr40F",
        "colab_type": "text"
      },
      "source": [
        "# Preload DBs"
      ]
    },
    {
      "cell_type": "code",
      "metadata": {
        "id": "SMCxVj9tIMG1",
        "colab_type": "code",
        "colab": {}
      },
      "source": [
        "def preload_dbs(dir):\n",
        "\n",
        "    '''Recive a directory with a group of dbs and returns an info array\n",
        "    info[0] = array of DB's names\n",
        "    info[1] = largest_len_db, for centered'''\n",
        "    \n",
        "    databases = os.listdir(dir)\n",
        "    n_databases = len(databases)\n",
        "\n",
        "    #initialize\n",
        "    df = [None]*n_databases\n",
        "    largest_len_db = 0\n",
        "    n = 0\n",
        "\n",
        "    for file_name in databases:\n",
        "        db_name = f'{file_name}'\n",
        "        df[n] = db_name\n",
        "        if len(db_name) > largest_len_db:\n",
        "            largest_len_db = len(db_name)\n",
        "\n",
        "        n = n + 1\n",
        "\n",
        "    info = [df, largest_len_db]\n",
        "    return info"
      ],
      "execution_count": 10,
      "outputs": []
    },
    {
      "cell_type": "markdown",
      "metadata": {
        "id": "fmntxIi5r83J",
        "colab_type": "text"
      },
      "source": [
        "# Print info Headers"
      ]
    },
    {
      "cell_type": "code",
      "metadata": {
        "id": "ggEKThogdU9t",
        "colab_type": "code",
        "colab": {}
      },
      "source": [
        "def print_info_headers(len: int):\n",
        "    largest_len = info[1]\n",
        "    centered_db = centered_len(largest_len)\n",
        "    centered_header = centered_db('masterdbs')\n",
        "    dashes = '-'*largest_len + '-'\n",
        "\n",
        "    print(f' country | {centered_header}  | Edition')\n",
        "    print(f' ------- | {dashes} | ------ ')"
      ],
      "execution_count": 24,
      "outputs": []
    },
    {
      "cell_type": "markdown",
      "metadata": {
        "id": "_vZnrqu_oKcZ",
        "colab_type": "text"
      },
      "source": [
        "# Editor Functions"
      ]
    },
    {
      "cell_type": "markdown",
      "metadata": {
        "id": "MWpoJydrrko2",
        "colab_type": "text"
      },
      "source": [
        "## Count if"
      ]
    },
    {
      "cell_type": "code",
      "metadata": {
        "id": "hYBt5jzjriay",
        "colab_type": "code",
        "colab": {}
      },
      "source": [
        "def count_if(array, value):\n",
        "    count = 0\n",
        "    for element in array:\n",
        "        if element == value:\n",
        "            count += 1\n",
        "    return count"
      ],
      "execution_count": 30,
      "outputs": []
    },
    {
      "cell_type": "markdown",
      "metadata": {
        "id": "l04ozA2Prr6j",
        "colab_type": "text"
      },
      "source": [
        "## Column To Set"
      ]
    },
    {
      "cell_type": "code",
      "metadata": {
        "id": "fN2T2YfYoONu",
        "colab_type": "code",
        "colab": {}
      },
      "source": [
        "def column_to_set(df, df_column, remove_None=True, sort=False, raw_data=False):\n",
        "    raw_info = df[df_column].tolist()\n",
        "    #Remember, this gets de None Value\n",
        "    array = list(set(raw_info))\n",
        "\n",
        "    if remove_None == True:\n",
        "        None_cases = count_if(raw_info, None)\n",
        "        if None_cases:\n",
        "            array.remove(None)\n",
        "\n",
        "    if sort == True:\n",
        "        array = sorted(array)\n",
        "\n",
        "    if raw_data == True:\n",
        "        return array, raw_info\n",
        "    \n",
        "    else:\n",
        "        return array"
      ],
      "execution_count": 28,
      "outputs": []
    },
    {
      "cell_type": "markdown",
      "metadata": {
        "id": "OslyJYhlrwFA",
        "colab_type": "text"
      },
      "source": [
        "## Gen Product DB"
      ]
    },
    {
      "cell_type": "code",
      "metadata": {
        "id": "wP-whyM72fYB",
        "colab_type": "code",
        "colab": {}
      },
      "source": [
        "def gen_product_db(df):\n",
        "\n",
        "    #Get arrays\n",
        "    time_array = df['time'].to_list()\n",
        "    ranks = df['Rank'].to_list()\n",
        "    product_names = df['Product Names'].to_list()\n",
        "    product_IDs = df['Product ID'].to_list()\n",
        "    images_id = df['Image ID'].to_list()\n",
        "    stars = df['Stars'].to_list()\n",
        "    reviews = df['Reviews'].to_list()\n",
        "    authors = df['Authors/Company'].to_list()\n",
        "    editions = df['Edition/Console'].to_list()\n",
        "    prices_1 = df['Price_std_or_min'].to_list()\n",
        "    max_prices = df['Max_prices'].to_list()\n",
        "\n",
        "    #From column name main info\n",
        "    products_list = column_to_set(df, 'Product Names', sort=False)\n",
        "    start = (len(product_names) - 1)\n",
        "    n_header = 0\n",
        "    \n",
        "    #Generate de Columns for the main info\n",
        "    product_ID = [None] * len(products_list)\n",
        "    product_url = [None] * len(products_list)\n",
        "    product_rank_image = [None] * len(products_list)\n",
        "    product_image = [None] * len(products_list)\n",
        "    last_date = [None] * len(products_list)\n",
        "    rank = [None] * len(products_list)\n",
        "    n_stars = [None] * len(products_list)\n",
        "    n_reviews = [None] * len(products_list)\n",
        "    price = [None] * len(products_list)\n",
        "    max_price = [None] * len(products_list)\n",
        "    last_review = [None] * len(products_list)\n",
        "    Description = [None] * len(products_list)\n",
        "\n",
        "    #Check from the bottom \n",
        "    for product in range(len(products_list)):\n",
        "        product_name = products_list[product]\n",
        "        check = start\n",
        "\n",
        "        while product_names[check] != product_name:\n",
        "            check -= 1\n",
        "            if check < 0:\n",
        "                print(len(product_names), check, product, product_name)\n",
        "                break\n",
        "\n",
        "        product_ID[product] = product_IDs[check]\n",
        "        product_rank_image[product] = images_id[check]\n",
        "        last_date[product] = time_array[check]\n",
        "        rank[product] = ranks[check]\n",
        "        n_stars[product] = stars[check]\n",
        "        n_reviews[product] = reviews[check]\n",
        "        price[product] = prices_1[check]\n",
        "        max_price[product] = max_prices[check]\n",
        "\n",
        "    #info to dictionary\n",
        "    headers = ['Product Name', 'Product ID', 'Product URL', 'Image ID (ranking page)', 'Image ID (product page)',\n",
        "            'Last Update', 'Rank', 'Stars','Reviews', 'Price (Min or Mean)', 'Max Price', 'Last Principal Review - Title', 'Last Principal Review', 'Last Star Rate', 'Product Description']\n",
        "    info = {headers[0] : products_list,\n",
        "            headers[1] : product_ID,\n",
        "            headers[2] : product_url,\n",
        "            headers[3] : product_rank_image,\n",
        "            headers[4] : product_image,\n",
        "            headers[5] : last_date,\n",
        "            headers[6] : rank,\n",
        "            headers[7] : n_stars,\n",
        "            headers[8] : n_reviews,\n",
        "            headers[9] : price,\n",
        "            headers[10] : max_price,\n",
        "            headers[11] : last_review,\n",
        "            headers[12] : Description,\n",
        "            }\n",
        "    \n",
        "    product_db = pd.DataFrame.from_dict(info)\n",
        "\n",
        "    return product_db"
      ],
      "execution_count": 32,
      "outputs": []
    },
    {
      "cell_type": "code",
      "metadata": {
        "id": "UDZalxUtqYxB",
        "colab_type": "code",
        "colab": {}
      },
      "source": [
        "# @replace_urls_with_ids\n",
        "# def edit_function(db_to_edit):\n",
        "#     return"
      ],
      "execution_count": null,
      "outputs": []
    },
    {
      "cell_type": "markdown",
      "metadata": {
        "id": "Swgxb2aSryy4",
        "colab_type": "text"
      },
      "source": [
        "# Main Edition"
      ]
    },
    {
      "cell_type": "code",
      "metadata": {
        "id": "EVuia7TnePk8",
        "colab_type": "code",
        "colab": {}
      },
      "source": [
        "def main_edition(info,original_dir, dir_to_send, country=None):\n",
        "\n",
        "    centered_db = centered_len(info[1])\n",
        "\n",
        "    df_names = info[0]\n",
        "    \n",
        "    for n in range(len(df_names)):\n",
        "\n",
        "        if country:\n",
        "            print(f'   {country}   ', end=' | ')\n",
        "\n",
        "        #file name extract\n",
        "        parquet_len = len('.parquet')\n",
        "        file_name_len = len(df_names[n])-parquet_len\n",
        "        file_name = df_names[n][0:file_name_len]\n",
        "\n",
        "        #File name print to log\n",
        "        print(f' {centered_db(file_name)}', end=' | ')\n",
        "\n",
        "        #--------Edition--------\n",
        "        #Load Dataframe\n",
        "        db_dir = f'{original_dir}/{df_names[n]}'\n",
        "        db_to_edit = pd.read_parquet(db_dir)\n",
        "        \n",
        "\n",
        "        edited_db = gen_product_db(db_to_edit)\n",
        "        #--------Upadting--------\n",
        "        #File names\n",
        "        csv_file = f'{dir_to_send}/csv/{file_name}.csv'\n",
        "        excel_file = f'{dir_to_send}/excel/{file_name}.xlsx'\n",
        "        parquet_file = f'{dir_to_send}/parquet/{file_name}.parquet'\n",
        "        #File creation\n",
        "        edited_db.to_csv(csv_file,sep=\"|\")\n",
        "        edited_db.to_excel(excel_file, index=False)\n",
        "        edited_db.to_parquet(parquet_file, allow_truncated_timestamps=True)\n",
        "\n",
        "        print('Done')"
      ],
      "execution_count": 25,
      "outputs": []
    },
    {
      "cell_type": "markdown",
      "metadata": {
        "id": "-QlbOPR_n78G",
        "colab_type": "text"
      },
      "source": [
        "# Deploy\n"
      ]
    },
    {
      "cell_type": "code",
      "metadata": {
        "colab_type": "code",
        "id": "RPpwgLdVr8f9",
        "colab": {
          "base_uri": "https://localhost:8080/",
          "height": 923
        },
        "outputId": "cfb04011-5783-4d14-fdac-05fd2dbb63a4"
      },
      "source": [
        "secure = True\n",
        "\n",
        "if secure == True:\n",
        "    countries = ['mx', 'br']\n",
        "\n",
        "    for country in countries:\n",
        "        scrap_dir = f'Masters/Parquet backup/{country}/parquet'\n",
        "        product_db_dir = f'Products/{country}'\n",
        "        info = preload_dbs(scrap_dir)\n",
        "        print_info_headers(info[1])\n",
        "        main_edition(info, original_dir=scrap_dir, dir_to_send=product_db_dir, country=country)"
      ],
      "execution_count": 33,
      "outputs": [
        {
          "output_type": "stream",
          "text": [
            " country |                 masterdbs                 | Edition\n",
            " ------- | ----------------------------------------- | ------ \n",
            "   mx    |           mx-master_db_videogames         | Done\n",
            "   mx    |              mx-master_db_toys            | Done\n",
            "   mx    |             mx-master_db_tools            | Done\n",
            "   mx    |             mx-master_db_sports           | Done\n",
            "   mx    |            mx-master_db_software          | Done\n",
            "   mx    |             mx-master_db_shoes            | Done\n",
            "   mx    |          mx-master_db_pet-supplies        | Done\n",
            "   mx    |         mx-master_db_officeproduct        | Done\n",
            "   mx    |      mx-master_db_musical-instruments     | Done\n",
            "   mx    |            mx-master_db_kitchen           | Done\n",
            "   mx    |             mx-master_db_music            | Done\n",
            "   mx    |           mx-master_db_industrial         | Done\n",
            "   mx    |              mx-master_db_hpc             | Done\n",
            "   mx    |            mx-master_db_handmade          | Done\n",
            "   mx    |            mx-master_db_grocery           | Done\n",
            "   mx    |          mx-master_db_electronics         | Done\n",
            "   mx    |              mx-master_db_dvd             | Done\n",
            "   mx    |          mx-master_db_digital-text        | Done\n",
            "   mx    |             mx-master_db_books            | Done\n",
            "   mx    |              mx-master_db_baby            | Done\n",
            "   mx    |           mx-master_db_automotive         | Done\n",
            "   mx    |         mx-master_db_amazon-devices       | Done\n",
            " country |               masterdbs               | Edition\n",
            " ------- | ------------------------------------- | ------ \n",
            "   br    |           br-master_db_music          | Done\n",
            "   br    |        br-master_db_mobile-apps       | Done\n",
            "   br    |      br-master_db_lawn-and-garden     | Done\n",
            "   br    |          br-master_db_kitchen         | Done\n",
            "   br    |            br-master_db_hpc           | Done\n",
            "   br    |            br-master_db_home          | Done\n",
            "   br    |             br-master_db_hi           | Done\n",
            "   br    |          br-master_db_grocery         | Done\n",
            "   br    |         br-master_db_furniture        | Done\n",
            "   br    |          br-master_db_fashion         | Done\n",
            "   br    |        br-master_db_electronics       | Done\n",
            "   br    |            br-master_db_dvd           | Done\n",
            "   br    |        br-master_db_digital-text      | Done\n",
            "   br    |         br-master_db_computers        | Done\n",
            "   br    |           br-master_db_books          | Done\n",
            "   br    |           br-master_db_beauty         | Done\n",
            "   br    |       br-master_db_baby-products      | Done\n",
            "   br    |         br-master_db_automotive       | Done\n",
            "   br    |         br-master_db_appliances       | Done\n",
            "   br    |       br-master_db_amazon-devices     | Done\n",
            "   br    |         br-master_db_videogames       | Done\n",
            "   br    |            br-master_db_toys          | Done\n",
            "   br    |           br-master_db_sports         | Done\n",
            "   br    |        br-master_db_pet-products      | Done\n",
            "   br    |           br-master_db_office         | Done\n"
          ],
          "name": "stdout"
        }
      ]
    },
    {
      "cell_type": "code",
      "metadata": {
        "id": "vEctUyZylWEZ",
        "colab_type": "code",
        "colab": {}
      },
      "source": [
        ""
      ],
      "execution_count": null,
      "outputs": []
    },
    {
      "cell_type": "code",
      "metadata": {
        "id": "WfBNHU413ttU",
        "colab_type": "code",
        "colab": {}
      },
      "source": [
        ""
      ],
      "execution_count": null,
      "outputs": []
    },
    {
      "cell_type": "code",
      "metadata": {
        "id": "2uoIPxko3tmg",
        "colab_type": "code",
        "colab": {}
      },
      "source": [
        ""
      ],
      "execution_count": null,
      "outputs": []
    },
    {
      "cell_type": "code",
      "metadata": {
        "id": "UfP0lh6C3tiL",
        "colab_type": "code",
        "colab": {}
      },
      "source": [
        ""
      ],
      "execution_count": null,
      "outputs": []
    },
    {
      "cell_type": "code",
      "metadata": {
        "id": "6QKKKMr93tah",
        "colab_type": "code",
        "colab": {}
      },
      "source": [
        ""
      ],
      "execution_count": null,
      "outputs": []
    },
    {
      "cell_type": "code",
      "metadata": {
        "id": "CGzFLZbq3tTn",
        "colab_type": "code",
        "colab": {}
      },
      "source": [
        ""
      ],
      "execution_count": null,
      "outputs": []
    }
  ]
}