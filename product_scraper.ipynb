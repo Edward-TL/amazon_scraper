{
  "nbformat": 4,
  "nbformat_minor": 0,
  "metadata": {
    "colab": {
      "name": "product_scraper.ipynb",
      "provenance": [],
      "collapsed_sections": [],
      "toc_visible": true,
      "authorship_tag": "ABX9TyMpZxcK69Xmq8RmE2uill2L",
      "include_colab_link": true
    },
    "kernelspec": {
      "name": "python3",
      "display_name": "Python 3"
    }
  },
  "cells": [
    {
      "cell_type": "markdown",
      "metadata": {
        "id": "view-in-github",
        "colab_type": "text"
      },
      "source": [
        "<a href=\"https://colab.research.google.com/github/Edward-TL/amazon_scraper/blob/master/product_scraper.ipynb\" target=\"_parent\"><img src=\"https://colab.research.google.com/assets/colab-badge.svg\" alt=\"Open In Colab\"/></a>"
      ]
    },
    {
      "cell_type": "markdown",
      "metadata": {
        "id": "9Mc9nY8MEyGA",
        "colab_type": "text"
      },
      "source": [
        "#Start"
      ]
    },
    {
      "cell_type": "code",
      "metadata": {
        "id": "c0LRodG5EtcW",
        "colab_type": "code",
        "colab": {
          "base_uri": "https://localhost:8080/",
          "height": 121
        },
        "outputId": "68b6ef05-a0db-4735-fd4b-f09a8694fdc5"
      },
      "source": [
        "from google.colab import drive\n",
        "drive.mount(\"/content/drive\")"
      ],
      "execution_count": 1,
      "outputs": [
        {
          "output_type": "stream",
          "text": [
            "Go to this URL in a browser: https://accounts.google.com/o/oauth2/auth?client_id=947318989803-6bn6qk8qdgf4n4g3pfee6491hc0brc4i.apps.googleusercontent.com&redirect_uri=urn%3aietf%3awg%3aoauth%3a2.0%3aoob&scope=email%20https%3a%2f%2fwww.googleapis.com%2fauth%2fdocs.test%20https%3a%2f%2fwww.googleapis.com%2fauth%2fdrive%20https%3a%2f%2fwww.googleapis.com%2fauth%2fdrive.photos.readonly%20https%3a%2f%2fwww.googleapis.com%2fauth%2fpeopleapi.readonly&response_type=code\n",
            "\n",
            "Enter your authorization code:\n",
            "··········\n",
            "Mounted at /content/drive\n"
          ],
          "name": "stdout"
        }
      ]
    },
    {
      "cell_type": "markdown",
      "metadata": {
        "id": "FnHCzyJ1E0nI",
        "colab_type": "text"
      },
      "source": [
        "#Import"
      ]
    },
    {
      "cell_type": "code",
      "metadata": {
        "id": "-wjm1e9xE1z9",
        "colab_type": "code",
        "colab": {}
      },
      "source": [
        "#For the system\n",
        "import os\n",
        "from prettytable import PrettyTable, HEADER\n",
        "from tabulate import tabulate\n",
        "import re\n",
        "import json\n",
        "\n",
        "#Manage of time\n",
        "from datetime import datetime, timedelta\n",
        "from pytz import timezone\n",
        "import time\n",
        "\n",
        "#Manage of files\n",
        "import pandas as pd\n",
        "import csv\n",
        "\n",
        "#scrap\n",
        "from bs4 import BeautifulSoup\n",
        "from openpyxl.workbook import Workbook\n",
        "import requests"
      ],
      "execution_count": 81,
      "outputs": []
    },
    {
      "cell_type": "markdown",
      "metadata": {
        "id": "v1alW4vEfYQn",
        "colab_type": "text"
      },
      "source": [
        "# Tools"
      ]
    },
    {
      "cell_type": "markdown",
      "metadata": {
        "id": "m4kX010KOyAL",
        "colab_type": "text"
      },
      "source": [
        "## headers"
      ]
    },
    {
      "cell_type": "code",
      "metadata": {
        "id": "jOHTQZ8MOz30",
        "colab_type": "code",
        "colab": {}
      },
      "source": [
        "headers_0 = {\"User-Agent\":\"Mozilla/5.0 (Windows NT 10.0; Win64;x64; rv:66.0) Gecko/20100101 Firefox/66.0\",\n",
        "           \"Accept-Encoding\":\"gzip, deflate\",\n",
        "           \"Accept\":\"text/html,application/xhtml+xml,application/xml;q=0.9,*/*;q=0.8\",\n",
        "           \"DNT\":\"1\",\n",
        "           \"Connection\":\"close\",\n",
        "           \"Upgrade-Insecure-Requests\":\"1\"}\n",
        "\n",
        "headers_1 = {\"User-Agent\": \"Mozilla/5.0 (Macintosh; Intel Mac OS X 10_14_5)AppleWebKit/605.1.15 (KHTML, like Gecko)Version/12.1.1 Safari/605.1.15\",\n",
        "           \"Accept-Encoding\":\"gzip, deflate\",\n",
        "           \"Accept\":\"text/html,application/xhtml+xml,application/xml;q=0.9,*/*;q=0.8\",\n",
        "           \"DNT\":\"1\",\n",
        "           \"Connection\":\"close\",\n",
        "           \"Upgrade-Insecure-Requests\":\"1\"}\n",
        "\n",
        "headers_2 = {\"User-Agent\": \"Mozilla/5.0 (Windows NT 10.0; Win64; x64) AppleWebKit/537.36 (KHTML, like Gecko) Chrome/75.0.3770.100 Safari/537.36\",\n",
        "           \"Accept-Encoding\":\"gzip, deflate\",\n",
        "           \"Accept\":\"text/html,application/xhtml+xml,application/xml;q=0.9,*/*;q=0.8\",\n",
        "           \"DNT\":\"1\",\n",
        "           \"Connection\":\"close\",\n",
        "           \"Upgrade-Insecure-Requests\":\"1\"}\n",
        "\n",
        "headers_3 = {'User-Agent': 'Mozilla/5.0 (Windows NT 6.3; Win64; x64) AppleWebKit/537.36 (KHTML, like Gecko) Chrome/54.0.2840.71 Safari/537.36',\n",
        "           \"Accept-Encoding\":\"gzip, deflate\",\n",
        "           \"Accept\":\"text/html,application/xhtml+xml,application/xml;q=0.9,*/*;q=0.8\",\n",
        "           \"DNT\":\"1\",\n",
        "           \"Connection\":\"close\",\n",
        "           \"Upgrade-Insecure-Requests\":\"1\"}\n",
        "\n",
        "headers_tuple = (headers_1, headers_1, headers_2, headers_3)"
      ],
      "execution_count": 3,
      "outputs": []
    },
    {
      "cell_type": "markdown",
      "metadata": {
        "id": "BTE-Kv9vVi5i",
        "colab_type": "text"
      },
      "source": [
        "## countries"
      ]
    },
    {
      "cell_type": "code",
      "metadata": {
        "id": "NreI44uUFDH2",
        "colab_type": "code",
        "colab": {}
      },
      "source": [
        "countries = ['mx', 'br']"
      ],
      "execution_count": 4,
      "outputs": []
    },
    {
      "cell_type": "markdown",
      "metadata": {
        "id": "GirV0T1iZ6kf",
        "colab_type": "text"
      },
      "source": [
        "## Image ID"
      ]
    },
    {
      "cell_type": "code",
      "metadata": {
        "id": "h58pyt1vZ7_j",
        "colab_type": "code",
        "colab": {}
      },
      "source": [
        "def image_id(complete_image_link):\n",
        "    regex_a = '(?<=I\\/)(.*)(?=\\.jpg)'\n",
        "    image_link_a = re.search(regex_a, complete_image_link)\n",
        "\n",
        "    if not image_link_a:\n",
        "        image_id = complete_image_link\n",
        "    else:\n",
        "        image_id = image_link_a.group()\n",
        "    \n",
        "    return image_id"
      ],
      "execution_count": 33,
      "outputs": []
    },
    {
      "cell_type": "markdown",
      "metadata": {
        "id": "a18Xo64fl7lL",
        "colab_type": "text"
      },
      "source": [
        ""
      ]
    },
    {
      "cell_type": "code",
      "metadata": {
        "id": "_UJcKHKFQMkx",
        "colab_type": "code",
        "colab": {
          "base_uri": "https://localhost:8080/",
          "height": 50
        },
        "outputId": "95405d3e-120b-4220-d7a6-aea5d99fc97d"
      },
      "source": [
        "%cd 'drive/My Drive/Colab Notebooks/4SS/4SS_db/testing/Masters'\n",
        "!ls"
      ],
      "execution_count": 5,
      "outputs": [
        {
          "output_type": "stream",
          "text": [
            "/content/drive/My Drive/Colab Notebooks/4SS/4SS_db/testing/Masters\n",
            " br   master_db_logs.csv   mx  'Parquet backup'\n"
          ],
          "name": "stdout"
        }
      ]
    },
    {
      "cell_type": "markdown",
      "metadata": {
        "id": "vLyLxf38D2ek",
        "colab_type": "text"
      },
      "source": [
        "# Product Page Scraper"
      ]
    },
    {
      "cell_type": "code",
      "metadata": {
        "id": "gFmtR1smLyB-",
        "colab_type": "code",
        "colab": {}
      },
      "source": [
        "def extract_soup(url, header=0, preview=True):\n",
        "    header = headers_tuple[header]\n",
        "    response = requests.get(url, headers=header)\n",
        "    status = response.status_code\n",
        "\n",
        "    soup = BeautifulSoup(response.text, 'lxml')\n",
        "\n",
        "    if preview==True:\n",
        "        print(soup.prettify())\n",
        "\n",
        "    return soup, status"
      ],
      "execution_count": 6,
      "outputs": []
    },
    {
      "cell_type": "code",
      "metadata": {
        "id": "pAUlq9lzlkq8",
        "colab_type": "code",
        "colab": {}
      },
      "source": [
        "def extract_product_box(soup):\n",
        "    box_soup = soup.find('div', attrs={'id':\"ppd\"})\n",
        "    return box_soup\n",
        "\n",
        "def extract_reviews(soup, principal=True):\n",
        "    reviews = soup.find_all('div', attrs={'data-hook':\"review\"})\n",
        "    \n",
        "    if principal == True:\n",
        "        principal_review = reviews[0]\n",
        "        return principal_review\n",
        "\n",
        "    return reviews\n"
      ],
      "execution_count": 17,
      "outputs": []
    },
    {
      "cell_type": "code",
      "metadata": {
        "id": "2YLiTfGGbvXs",
        "colab_type": "code",
        "colab": {
          "base_uri": "https://localhost:8080/",
          "height": 222
        },
        "outputId": "b1155da8-67a7-4a52-d1ae-b943261b8ccf"
      },
      "source": [
        "print(image_soup.prettify())"
      ],
      "execution_count": 58,
      "outputs": [
        {
          "output_type": "stream",
          "text": [
            "<img alt=\"Gigaton\" class=\"a-dynamic-image a-stretch-horizontal\" data-a-dynamic-image='{\"https://images-na.ssl-images-amazon.com/images/I/819bem7XN7L._AC_SX385_.jpg\":[385,385],\"https://images-na.ssl-images-amazon.com/images/I/819bem7XN7L._AC_SX425_.jpg\":[425,425],\"https://images-na.ssl-images-amazon.com/images/I/819bem7XN7L._AC_SX466_.jpg\":[466,466],\"https://images-na.ssl-images-amazon.com/images/I/819bem7XN7L._AC_SX522_.jpg\":[522,522],\"https://images-na.ssl-images-amazon.com/images/I/819bem7XN7L._AC_SX679_.jpg\":[679,679],\"https://images-na.ssl-images-amazon.com/images/I/819bem7XN7L._AC_SX342_.jpg\":[342,342],\"https://images-na.ssl-images-amazon.com/images/I/819bem7XN7L._AC_SX569_.jpg\":[569,569]}' data-old-hires=\"https://images-na.ssl-images-amazon.com/images/I/819bem7XN7L._AC_SL1200_.jpg\" id=\"landingImage\" onload=\"if(this.width/this.height &gt; 1.0){this.className += ' a-stretch-horizontal'}else{this.className += ' a-stretch-vertical'};this.onload='';\" src=\"\n",
            "data:image/jpeg;base64,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\n",
            "\n",
            "\n",
            "\n",
            "\n",
            "\n",
            "\n",
            "\n",
            "\" style=\"max-width:679px;max-height:679px;\"/>\n",
            "\n"
          ],
          "name": "stdout"
        }
      ]
    },
    {
      "cell_type": "code",
      "metadata": {
        "id": "mlNrddCdaWyF",
        "colab_type": "code",
        "colab": {
          "base_uri": "https://localhost:8080/",
          "height": 54
        },
        "outputId": "d2b4230e-b99b-4e66-ef9e-c4427621a9c1"
      },
      "source": [
        "image_soup = landing_image(box_soup)\n",
        "image_dict_string = image_soup.get(\"data-a-dynamic-image\")\n",
        "image_dict = json.loads(image_dict_string)\n",
        "image_urls = [key for key in image_dict.keys()]\n",
        "print(image_urls)\n"
      ],
      "execution_count": 88,
      "outputs": [
        {
          "output_type": "stream",
          "text": [
            "['https://images-na.ssl-images-amazon.com/images/I/819bem7XN7L._AC_SX385_.jpg', 'https://images-na.ssl-images-amazon.com/images/I/819bem7XN7L._AC_SX425_.jpg', 'https://images-na.ssl-images-amazon.com/images/I/819bem7XN7L._AC_SX466_.jpg', 'https://images-na.ssl-images-amazon.com/images/I/819bem7XN7L._AC_SX522_.jpg', 'https://images-na.ssl-images-amazon.com/images/I/819bem7XN7L._AC_SX679_.jpg', 'https://images-na.ssl-images-amazon.com/images/I/819bem7XN7L._AC_SX342_.jpg', 'https://images-na.ssl-images-amazon.com/images/I/819bem7XN7L._AC_SX569_.jpg']\n"
          ],
          "name": "stdout"
        }
      ]
    },
    {
      "cell_type": "code",
      "metadata": {
        "id": "T6DamJmkWQ4g",
        "colab_type": "code",
        "colab": {}
      },
      "source": [
        "'''Del inicio'''\n",
        "def landing_bullets(box_soup):\n",
        "    vertical_list = box_soup.find('ul', attrs={'class':\"a-unordered-list a-vertical a-spacing-mini\"})\n",
        "    if vertical_list is not None:\n",
        "        bullets = vertical_list.find('span', attrs={'class':\"a-list-item\"})\n",
        "        return bullets\n",
        "    else: return None\n",
        "\n",
        "def images_array(box_soup):\n",
        "    image_soup = box_soup.find('img', attrs={'id':\"landingImage\"})\n",
        "    image_dict_string = image_soup.get(\"data-a-dynamic-image\")\n",
        "    image_dict = json.loads(image_dict_string)\n",
        "    images_IDs = [image_id(key) for key in image_dict.keys()]\n",
        "    return images_IDs\n",
        "\n",
        "def product_stars(box_soup):\n",
        "    stars_box = box_soup.find('span', attrs={'class':\"a-icon-alt\"})\n",
        "    dot_comma = stars_box.get_text()[1:2]\n",
        "    if dot_comma == ',':\n",
        "        stars = float(stars_box.get_text()[:3].replace(',','.'))\n",
        "    elif dot_comma == '.':\n",
        "        stars = float(stars_box.get_text()[:3])\n",
        "    else:\n",
        "        stars = dot_comma\n",
        "    return stars\n",
        "\n",
        "def product_reviews(box_soup):\n",
        "    reviews = box_soup.find('span', attrs={'id':\"acrCustomerReviewText\"})\n",
        "    reviews_array = reviews.get_text().split()\n",
        "    reviews = reviews_array[0]\n",
        "    try:\n",
        "        reviews = int(reviews.replace(',',''))\n",
        "    except:\n",
        "        reviews = int(reviews.replace('.',''))\n",
        "\n",
        "    return reviews\n",
        "\n",
        "def product_price(box_soup, original_soup, country):\n",
        "    price = box_soup.find('span', attrs={'id':\"priceblock_dealprice\"})\n",
        "    if price is None:\n",
        "        buy_new_box = soup.find('div', attrs={'id':\"buyBoxAccordion\"})\n",
        "        if buy_new_box is not None:\n",
        "            buy_new_price = buy_new_box.find('span', attrs={'id':\"newBuyBoxPrice\"})\n",
        "    \n",
        "    if (buy_new_price is not None) or (price is not None):\n",
        "        if country == 'mx':\n",
        "            coin_symbol = 1\n",
        "            price = float(buy_new_price.get_text()[coin_symbol:].replace(',',''))\n",
        "            \n",
        "        elif country == 'br':\n",
        "            coin_symbol = 2\n",
        "            price = float(buy_new_price.get_text()[coin_symbol:].replace('.','').replace(',','.'))\n",
        "        \n",
        "        return price\n",
        "\n",
        "    else:\n",
        "        return None\n",
        "\n",
        "def product_description(soup):\n",
        "    description_div = soup.find('div', attrs={'id':\"productDescription\"})\n",
        "    description_body = description_div.find('p').get_text()\n",
        "\n",
        "    return description_body\n",
        "\n",
        "'''Review Principal'''\n",
        "def principal_review_body(principal_review_soup):\n",
        "    body_div = soup.find('div', attrs={'data-hook':\"review-collapsed\"})\n",
        "    body = body_div.find('span').get_text()\n",
        "    return body\n",
        "\n",
        "\n",
        "def principal_review_stars(principal_review_soup):\n",
        "    stars_box = soup.find('span', attrs={'class':\"a-icon-alt\"})\n",
        "    dot_comma = stars_box.get_text()[1:2]\n",
        "    if dot_comma == ',':\n",
        "        stars = float(stars_box.get_text()[:3].replace(',','.'))\n",
        "    elif dot_comma == '.':\n",
        "        stars = float(stars_box.get_text()[:3])\n",
        "    else:\n",
        "        stars = dot_comma\n",
        "    return stars\n",
        "\n",
        "    return r_stars"
      ],
      "execution_count": 128,
      "outputs": []
    },
    {
      "cell_type": "code",
      "metadata": {
        "id": "JQFUUUsC0SVH",
        "colab_type": "code",
        "colab": {}
      },
      "source": [
        ""
      ],
      "execution_count": null,
      "outputs": []
    },
    {
      "cell_type": "markdown",
      "metadata": {
        "id": "jnvbLQjGV0PY",
        "colab_type": "text"
      },
      "source": [
        "#LAB TESTING"
      ]
    },
    {
      "cell_type": "code",
      "metadata": {
        "id": "WxHUhmVAVz1B",
        "colab_type": "code",
        "colab": {}
      },
      "source": [
        "country = 'mx'\n",
        "products_dir = f'Products/{country}/parquet'\n",
        "ID = \"B083T61W5J\"\n",
        "product_url = f'https://www.amazon.com.{country}/dp/{ID}'\n",
        "soup, status = extract_soup(product_url, preview=True)\n",
        "# soup"
      ],
      "execution_count": null,
      "outputs": []
    },
    {
      "cell_type": "code",
      "metadata": {
        "id": "WrwFvQ9YV5mg",
        "colab_type": "code",
        "colab": {
          "base_uri": "https://localhost:8080/",
          "height": 238
        },
        "outputId": "de23f11b-0d4c-42bf-eb3e-1bb002631ea5"
      },
      "source": [
        "box_soup = extract_product_box(soup)\n",
        "principal_review = extract_reviews(soup, principal=True)\n",
        "\n",
        "print(\"landing_bullets: \", landing_bullets(box_soup))\n",
        "print(\"landing_image: \", images_array(box_soup))\n",
        "print(\"product_stars: \", product_stars(box_soup))\n",
        "print(\"product_reviews: \", product_reviews(box_soup))\n",
        "print(\"product_price: \", product_price(box_soup, original_soup=soup, country=country))\n",
        "print(\"product_description: \", product_description(soup))\n",
        "\n",
        "print(\"principal_review_body: \", principal_review_body(principal_review))\n",
        "print(\"principal_review_stars: \", principal_review_stars(principal_review))"
      ],
      "execution_count": 129,
      "outputs": [
        {
          "output_type": "stream",
          "text": [
            "landing_bullets:  None\n",
            "landing_image:  ['819bem7XN7L._AC_SX385_', '819bem7XN7L._AC_SX425_', '819bem7XN7L._AC_SX466_', '819bem7XN7L._AC_SX522_', '819bem7XN7L._AC_SX679_', '819bem7XN7L._AC_SX342_', '819bem7XN7L._AC_SX569_']\n",
            "product_stars:  4.7\n",
            "product_reviews:  840\n",
            "product_price:  409.0\n",
            "product_description:  Gigaton pone a Pearl Jam en el punto más alto de su evolución. Va desde momentos de catarsis alimentados por la guitarra como en \"Who Ever Said\" hasta la helada absolución de \"River Cross\"; las letras, los riffs y los ritmos transmiten un mensaje de esperanza, que culmina con las últimas palabras de Eddie Vedder: \"Aquí y ahora... ganó no nos sujetes... comparte la luz... no nos detendrá\". Producido por Josh Evans y Pearl Jam, Gigaton marca el primer álbum de estudio de la banda desde el galardonado al GRAMMY, Lightning Bolt, que fue lanzado el 15 de octubre de 2013.\n",
            "\n",
            "\n",
            "principal_review_body:  \n",
            "  Un excelente regreso que demuestra que tenemos PJ para rato. Clairevoyants y quick escape resaltan\n",
            "\n",
            "principal_review_stars:  4.7\n"
          ],
          "name": "stdout"
        }
      ]
    },
    {
      "cell_type": "markdown",
      "metadata": {
        "id": "QyGlJEPXLq1k",
        "colab_type": "text"
      },
      "source": [
        "# Product DB Generator"
      ]
    },
    {
      "cell_type": "code",
      "metadata": {
        "id": "qpEFmRV-VFfA",
        "colab_type": "code",
        "colab": {}
      },
      "source": [
        "db_widgets=[\n",
        "'[', progressbar.Timer(), ']',\n",
        "'[', progressbar.Percentage(), ']',\n",
        "'[',file_name, ']',\n",
        "progressbar.Bar(marker='▥'),\n",
        "'[', progressbar.Timer(), ']',\n",
        "]"
      ],
      "execution_count": null,
      "outputs": []
    },
    {
      "cell_type": "code",
      "metadata": {
        "id": "wWucgxjUUdjm",
        "colab_type": "code",
        "colab": {}
      },
      "source": [
        "def main_files_bar_check(info, scraper_dir, products_dir, country=None):\n",
        "\n",
        "    centered_db = centered_len(info[1])\n",
        "\n",
        "    df_names = info[0]\n",
        "    total = 0\n",
        "    for n in range(len(df_names)):\n",
        "\n",
        "        #file name extract\n",
        "        parquet_len = len('.parquet')\n",
        "        file_name_len = len(df_names[n])-parquet_len\n",
        "        file_name = df_names[n][0:file_name_len]\n",
        "\n",
        "        #File name print to log\n",
        "\n",
        "        #--------Edition--------\n",
        "        #Load Dataframe\n",
        "        product_check_dir = f'{products_dir}/{df_names[n]}'\n",
        "        product_check = pd.read_parquet(product_check_dir)\n",
        "\n",
        "        IDs = product_check['Product ID'].to_list()\n",
        "  \n",
        "\n",
        "        for element in progressbar.progressbar(range(len(IDs)), widgets=db_widgets):\n",
        "            ...\n",
        "\n",
        "        prod_shape = product_check.shape\n",
        "        rows = prod_shape[0]\n",
        "        total += rows\n",
        "\n",
        "    time_estimated = (total * 0.15)/ 60\n",
        "\n",
        "    row_info = [country,total, time_estimated]\n",
        "    "
      ],
      "execution_count": null,
      "outputs": []
    },
    {
      "cell_type": "code",
      "metadata": {
        "id": "W9YLbuoJFDO0",
        "colab_type": "code",
        "colab": {}
      },
      "source": [
        ""
      ],
      "execution_count": null,
      "outputs": []
    },
    {
      "cell_type": "code",
      "metadata": {
        "id": "D_cPsDR7FDS4",
        "colab_type": "code",
        "colab": {}
      },
      "source": [
        ""
      ],
      "execution_count": null,
      "outputs": []
    },
    {
      "cell_type": "code",
      "metadata": {
        "id": "6PRYCzVSFDX6",
        "colab_type": "code",
        "colab": {}
      },
      "source": [
        ""
      ],
      "execution_count": null,
      "outputs": []
    },
    {
      "cell_type": "code",
      "metadata": {
        "id": "zSN5Ei6KFDd8",
        "colab_type": "code",
        "colab": {}
      },
      "source": [
        ""
      ],
      "execution_count": null,
      "outputs": []
    }
  ]
}