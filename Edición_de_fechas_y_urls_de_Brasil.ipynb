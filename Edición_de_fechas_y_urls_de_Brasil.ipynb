{
  "nbformat": 4,
  "nbformat_minor": 0,
  "metadata": {
    "colab": {
      "name": "Edición de fechas y urls de Brasil.ipynb",
      "provenance": [],
      "toc_visible": true,
      "authorship_tag": "ABX9TyNq3kBEYyHwq5Lsezu6z/+j",
      "include_colab_link": true
    },
    "kernelspec": {
      "name": "python3",
      "display_name": "Python 3"
    }
  },
  "cells": [
    {
      "cell_type": "markdown",
      "metadata": {
        "id": "view-in-github",
        "colab_type": "text"
      },
      "source": [
        "<a href=\"https://colab.research.google.com/github/Edward-TL/amazon_scraper/blob/master/Edici%C3%B3n_de_fechas_y_urls_de_Brasil.ipynb\" target=\"_parent\"><img src=\"https://colab.research.google.com/assets/colab-badge.svg\" alt=\"Open In Colab\"/></a>"
      ]
    },
    {
      "cell_type": "markdown",
      "metadata": {
        "id": "rMhuwcOBtQvZ",
        "colab_type": "text"
      },
      "source": [
        "#Iniciador"
      ]
    },
    {
      "cell_type": "code",
      "metadata": {
        "id": "HB6ZwMnbtF_b",
        "colab_type": "code",
        "colab": {
          "base_uri": "https://localhost:8080/",
          "height": 122
        },
        "outputId": "44c38985-c65a-4aa2-909a-b55755d4582d"
      },
      "source": [
        "from google.colab import drive\n",
        "drive.mount('/content/drive')"
      ],
      "execution_count": 1,
      "outputs": [
        {
          "output_type": "stream",
          "text": [
            "Go to this URL in a browser: https://accounts.google.com/o/oauth2/auth?client_id=947318989803-6bn6qk8qdgf4n4g3pfee6491hc0brc4i.apps.googleusercontent.com&redirect_uri=urn%3aietf%3awg%3aoauth%3a2.0%3aoob&scope=email%20https%3a%2f%2fwww.googleapis.com%2fauth%2fdocs.test%20https%3a%2f%2fwww.googleapis.com%2fauth%2fdrive%20https%3a%2f%2fwww.googleapis.com%2fauth%2fdrive.photos.readonly%20https%3a%2f%2fwww.googleapis.com%2fauth%2fpeopleapi.readonly&response_type=code\n",
            "\n",
            "Enter your authorization code:\n",
            "··········\n",
            "Mounted at /content/drive\n"
          ],
          "name": "stdout"
        }
      ]
    },
    {
      "cell_type": "markdown",
      "metadata": {
        "id": "M16S3qD0tSP5",
        "colab_type": "text"
      },
      "source": [
        "#Importación"
      ]
    },
    {
      "cell_type": "code",
      "metadata": {
        "id": "xBgUgByeyqQW",
        "colab_type": "code",
        "colab": {}
      },
      "source": [
        "#For the system\n",
        "import os\n",
        "\n",
        "#Manage of time\n",
        "from datetime import datetime, timedelta\n",
        "from pytz import timezone\n",
        "import time\n",
        "\n",
        "#Manage of files\n",
        "import pandas as pd\n",
        "import csv\n",
        "\n",
        "#scrap\n",
        "from bs4 import BeautifulSoup\n",
        "from openpyxl.workbook import Workbook\n",
        "import requests"
      ],
      "execution_count": 2,
      "outputs": []
    },
    {
      "cell_type": "markdown",
      "metadata": {
        "id": "c58U95kKywSA",
        "colab_type": "text"
      },
      "source": [
        "#Posicionamiento en carpeta"
      ]
    },
    {
      "cell_type": "code",
      "metadata": {
        "id": "QH1n-bvVyybx",
        "colab_type": "code",
        "colab": {
          "base_uri": "https://localhost:8080/",
          "height": 35
        },
        "outputId": "b276d3f5-ad40-4edd-e64f-6437b1630458"
      },
      "source": [
        "%pwd"
      ],
      "execution_count": 3,
      "outputs": [
        {
          "output_type": "execute_result",
          "data": {
            "application/vnd.google.colaboratory.intrinsic+json": {
              "type": "string"
            },
            "text/plain": [
              "'/content'"
            ]
          },
          "metadata": {
            "tags": []
          },
          "execution_count": 3
        }
      ]
    },
    {
      "cell_type": "code",
      "metadata": {
        "id": "7VpqvevFy2Zs",
        "colab_type": "code",
        "colab": {
          "base_uri": "https://localhost:8080/",
          "height": 51
        },
        "outputId": "41b882af-b660-47a7-eac1-7befcff7d8c9"
      },
      "source": [
        "%cd 'drive/My Drive/Colab Notebooks/4SS/4SS_db'\n",
        "!ls"
      ],
      "execution_count": 4,
      "outputs": [
        {
          "output_type": "stream",
          "text": [
            "/content/drive/My Drive/Colab Notebooks/4SS/4SS_db\n",
            " Playground  'Team example'   testing  'testing 2'\n"
          ],
          "name": "stdout"
        }
      ]
    },
    {
      "cell_type": "code",
      "metadata": {
        "id": "Omu6J6vXzENO",
        "colab_type": "code",
        "colab": {
          "base_uri": "https://localhost:8080/",
          "height": 34
        },
        "outputId": "d309a956-bf78-4709-ce20-16ba23bf7465"
      },
      "source": [
        "%cd 'testing/Masters'"
      ],
      "execution_count": 5,
      "outputs": [
        {
          "output_type": "stream",
          "text": [
            "/content/drive/My Drive/Colab Notebooks/4SS/4SS_db/testing/Masters\n"
          ],
          "name": "stdout"
        }
      ]
    },
    {
      "cell_type": "code",
      "metadata": {
        "id": "MKmvZgiLzTI0",
        "colab_type": "code",
        "colab": {
          "base_uri": "https://localhost:8080/",
          "height": 34
        },
        "outputId": "3321690e-da73-455a-9729-f185cea3058d"
      },
      "source": [
        "%cd 'br/parquet'"
      ],
      "execution_count": 6,
      "outputs": [
        {
          "output_type": "stream",
          "text": [
            "/content/drive/My Drive/Colab Notebooks/4SS/4SS_db/testing/Masters/br/parquet\n"
          ],
          "name": "stdout"
        }
      ]
    },
    {
      "cell_type": "code",
      "metadata": {
        "id": "yhEAU-XIzZuf",
        "colab_type": "code",
        "colab": {
          "base_uri": "https://localhost:8080/",
          "height": 238
        },
        "outputId": "39747374-c972-4076-aa30-9b39c85ab5e0"
      },
      "source": [
        "!ls"
      ],
      "execution_count": 7,
      "outputs": [
        {
          "output_type": "stream",
          "text": [
            "br-master_db_amazon-devices.parquet  br-master_db_hi.parquet\n",
            "br-master_db_appliances.parquet      br-master_db_home.parquet\n",
            "br-master_db_automotive.parquet      br-master_db_hpc.parquet\n",
            "br-master_db_baby-products.parquet   br-master_db_kitchen.parquet\n",
            "br-master_db_beauty.parquet\t     br-master_db_lawn-and-garden.parquet\n",
            "br-master_db_books.parquet\t     br-master_db_mobile-apps.parquet\n",
            "br-master_db_computers.parquet\t     br-master_db_music.parquet\n",
            "br-master_db_digital-text.parquet    br-master_db_office.parquet\n",
            "br-master_db_dvd.parquet\t     br-master_db_pet-products.parquet\n",
            "br-master_db_electronics.parquet     br-master_db_sports.parquet\n",
            "br-master_db_fashion.parquet\t     br-master_db_toys.parquet\n",
            "br-master_db_furniture.parquet\t     br-master_db_videogames.parquet\n",
            "br-master_db_grocery.parquet\n"
          ],
          "name": "stdout"
        }
      ]
    },
    {
      "cell_type": "markdown",
      "metadata": {
        "id": "l7AuucFftTnO",
        "colab_type": "text"
      },
      "source": [
        "#Diseño y Prueba de función"
      ]
    },
    {
      "cell_type": "code",
      "metadata": {
        "id": "3WEdVFLb2lEm",
        "colab_type": "code",
        "colab": {}
      },
      "source": [
        "def standarize_dates(date):\n",
        "    check = False\n",
        "    try:\n",
        "        date = datetime.strptime(str(date), '%Y-%m-%d %H:%M:%S.%f')\n",
        "        check = True\n",
        "    except ValueError:\n",
        "        try:\n",
        "            date = datetime.strptime(str(date), '%Y-%m-%d %H:%M:%S')\n",
        "            check = True\n",
        "        except:\n",
        "            try:\n",
        "                date = datetime.strptime(str(date), '%Y-%m-%d %H_%M')\n",
        "                check = True\n",
        "            except:\n",
        "                pass\n",
        "    if check == True:\n",
        "        date = date.strftime('%Y-%m-%d %H:%M')\n",
        "    \n",
        "    return date"
      ],
      "execution_count": 18,
      "outputs": []
    },
    {
      "cell_type": "code",
      "metadata": {
        "id": "-8yJMd0e2yw2",
        "colab_type": "code",
        "colab": {}
      },
      "source": [
        "def edit_price(price):\n",
        "    if type(price) is float:\n",
        "        print('oh yeah')\n",
        "        price = price/100\n",
        "        return price"
      ],
      "execution_count": 36,
      "outputs": []
    },
    {
      "cell_type": "code",
      "metadata": {
        "id": "t3gfgxBgPohE",
        "colab_type": "code",
        "colab": {
          "base_uri": "https://localhost:8080/",
          "height": 221
        },
        "outputId": "0d051544-a2b3-47c0-b40e-ccabc8843f61"
      },
      "source": [
        "db_to_edit.dtypes"
      ],
      "execution_count": 38,
      "outputs": [
        {
          "output_type": "execute_result",
          "data": {
            "text/plain": [
              "time                 object\n",
              "Rank                float32\n",
              "Product Names        object\n",
              "Image urls           object\n",
              "Product links        object\n",
              "Stars               float64\n",
              "Reviews             float64\n",
              "Authors/Company      object\n",
              "Edition/Console      object\n",
              "Price_std_or_min    float64\n",
              "Max_prices           object\n",
              "dtype: object"
            ]
          },
          "metadata": {
            "tags": []
          },
          "execution_count": 38
        }
      ]
    },
    {
      "cell_type": "code",
      "metadata": {
        "id": "uW2mcRjkzXNn",
        "colab_type": "code",
        "colab": {
          "base_uri": "https://localhost:8080/",
          "height": 34
        },
        "outputId": "e006fd7f-c3f8-4b01-b0c3-a53178b0c90f"
      },
      "source": [
        "entry = 'br-master_db_music.parquet'\n",
        "db_to_edit = pd.read_parquet(entry)\n",
        "\n",
        "#Standarize dates\n",
        "db_to_edit['time'] = db_to_edit['time'].apply(standarize_dates)\n",
        "#Correct the product links\n",
        "db_to_edit['Product links'] = db_to_edit['Product links'].str.replace('amazon.com.mx', 'amazon.com.br', regex=False)\n",
        "#Sort values by date and Rank\n",
        "db_to_edit.sort_values(by=['time', 'Rank'], inplace=True)\n",
        "#Reset index\n",
        "db_to_edit.reset_index(inplace=True, drop=True)\n",
        "#Correction of prices\n",
        "db_to_edit.loc[db_to_edit['time'] < '2020-08-17 15:03', 'Price_std_or_min'] = db_to_edit['Price_std_or_min']/100 \n",
        "\n",
        "db_to_edit.to_excel('br-master_db_music_2.xlsx', index=False)\n",
        "print('save')"
      ],
      "execution_count": 62,
      "outputs": [
        {
          "output_type": "stream",
          "text": [
            "save\n"
          ],
          "name": "stdout"
        }
      ]
    },
    {
      "cell_type": "code",
      "metadata": {
        "id": "SUEeLixqbN51",
        "colab_type": "code",
        "colab": {
          "base_uri": "https://localhost:8080/",
          "height": 238
        },
        "outputId": "81378c3a-d2d1-4fa2-943c-74971421ea03"
      },
      "source": [
        "!ls"
      ],
      "execution_count": 63,
      "outputs": [
        {
          "output_type": "stream",
          "text": [
            "br-master_db_amazon-devices.parquet  br-master_db_hi.parquet\n",
            "br-master_db_appliances.parquet      br-master_db_home.parquet\n",
            "br-master_db_automotive.parquet      br-master_db_hpc.parquet\n",
            "br-master_db_baby-products.parquet   br-master_db_kitchen.parquet\n",
            "br-master_db_beauty.parquet\t     br-master_db_lawn-and-garden.parquet\n",
            "br-master_db_books.parquet\t     br-master_db_mobile-apps.parquet\n",
            "br-master_db_computers.parquet\t     br-master_db_music_2.xlsx\n",
            "br-master_db_digital-text.parquet    br-master_db_music.parquet\n",
            "br-master_db_dvd.parquet\t     br-master_db_office.parquet\n",
            "br-master_db_electronics.parquet     br-master_db_pet-products.parquet\n",
            "br-master_db_fashion.parquet\t     br-master_db_sports.parquet\n",
            "br-master_db_furniture.parquet\t     br-master_db_toys.parquet\n",
            "br-master_db_grocery.parquet\t     br-master_db_videogames.parquet\n"
          ],
          "name": "stdout"
        }
      ]
    },
    {
      "cell_type": "code",
      "metadata": {
        "id": "8iQARoyQQNjR",
        "colab_type": "code",
        "colab": {
          "base_uri": "https://localhost:8080/",
          "height": 589
        },
        "outputId": "d3037b2a-e266-4bc3-93d6-88a728b8b67d"
      },
      "source": [
        "db_to_edit"
      ],
      "execution_count": 59,
      "outputs": [
        {
          "output_type": "execute_result",
          "data": {
            "text/html": [
              "<div>\n",
              "<style scoped>\n",
              "    .dataframe tbody tr th:only-of-type {\n",
              "        vertical-align: middle;\n",
              "    }\n",
              "\n",
              "    .dataframe tbody tr th {\n",
              "        vertical-align: top;\n",
              "    }\n",
              "\n",
              "    .dataframe thead th {\n",
              "        text-align: right;\n",
              "    }\n",
              "</style>\n",
              "<table border=\"1\" class=\"dataframe\">\n",
              "  <thead>\n",
              "    <tr style=\"text-align: right;\">\n",
              "      <th></th>\n",
              "      <th>time</th>\n",
              "      <th>Rank</th>\n",
              "      <th>Product Names</th>\n",
              "      <th>Image urls</th>\n",
              "      <th>Product links</th>\n",
              "      <th>Stars</th>\n",
              "      <th>Reviews</th>\n",
              "      <th>Authors/Company</th>\n",
              "      <th>Edition/Console</th>\n",
              "      <th>Price_std_or_min</th>\n",
              "      <th>Max_prices</th>\n",
              "    </tr>\n",
              "  </thead>\n",
              "  <tbody>\n",
              "    <tr>\n",
              "      <th>0</th>\n",
              "      <td>2020-07-31 00:39</td>\n",
              "      <td>1.0</td>\n",
              "      <td>Ratos de Porão, LP \"Brasil\"- Série Clássicos e...</td>\n",
              "      <td>https://images-na.ssl-images-amazon.com/images...</td>\n",
              "      <td>https://www.amazon.com.br/Ratos-Por%C3%A3o-Bra...</td>\n",
              "      <td>NaN</td>\n",
              "      <td>NaN</td>\n",
              "      <td>Ratos de Porão</td>\n",
              "      <td>Disco de Vinil</td>\n",
              "      <td>104.00</td>\n",
              "      <td>None</td>\n",
              "    </tr>\n",
              "    <tr>\n",
              "      <th>1</th>\n",
              "      <td>2020-07-31 00:39</td>\n",
              "      <td>2.0</td>\n",
              "      <td>Alucinação - Série Clássicos em Vinil [Disco d...</td>\n",
              "      <td>https://images-na.ssl-images-amazon.com/images...</td>\n",
              "      <td>https://www.amazon.com.br/DISCO-DE-VINIL-BELCH...</td>\n",
              "      <td>NaN</td>\n",
              "      <td>NaN</td>\n",
              "      <td>Belchior</td>\n",
              "      <td>Disco de Vinil</td>\n",
              "      <td>110.00</td>\n",
              "      <td>None</td>\n",
              "    </tr>\n",
              "    <tr>\n",
              "      <th>2</th>\n",
              "      <td>2020-07-31 00:39</td>\n",
              "      <td>3.0</td>\n",
              "      <td>Novos Baianos, Acabou Chorare- Série Clássicos...</td>\n",
              "      <td>https://images-na.ssl-images-amazon.com/images...</td>\n",
              "      <td>https://www.amazon.com.br/Disco-Vinil-Baianos-...</td>\n",
              "      <td>NaN</td>\n",
              "      <td>NaN</td>\n",
              "      <td>Novos Baianos</td>\n",
              "      <td>Disco de Vinil</td>\n",
              "      <td>120.00</td>\n",
              "      <td>None</td>\n",
              "    </tr>\n",
              "    <tr>\n",
              "      <th>3</th>\n",
              "      <td>2020-07-31 00:39</td>\n",
              "      <td>4.0</td>\n",
              "      <td>Fifth Harmony - Reflection [CD]</td>\n",
              "      <td>https://images-na.ssl-images-amazon.com/images...</td>\n",
              "      <td>https://www.amazon.com.br/Reflection-Fifth-Har...</td>\n",
              "      <td>NaN</td>\n",
              "      <td>NaN</td>\n",
              "      <td>Fifth Harmony</td>\n",
              "      <td>CD de áudio</td>\n",
              "      <td>11.90</td>\n",
              "      <td>None</td>\n",
              "    </tr>\n",
              "    <tr>\n",
              "      <th>4</th>\n",
              "      <td>2020-07-31 00:39</td>\n",
              "      <td>5.0</td>\n",
              "      <td>The Dark Side Of The Moon [Disco de Vinil]</td>\n",
              "      <td>https://images-na.ssl-images-amazon.com/images...</td>\n",
              "      <td>https://www.amazon.com.br/Dark-Side-Moon-Disco...</td>\n",
              "      <td>NaN</td>\n",
              "      <td>NaN</td>\n",
              "      <td>Pink Floyd</td>\n",
              "      <td>Disco de Vinil</td>\n",
              "      <td>200.71</td>\n",
              "      <td>None</td>\n",
              "    </tr>\n",
              "    <tr>\n",
              "      <th>...</th>\n",
              "      <td>...</td>\n",
              "      <td>...</td>\n",
              "      <td>...</td>\n",
              "      <td>...</td>\n",
              "      <td>...</td>\n",
              "      <td>...</td>\n",
              "      <td>...</td>\n",
              "      <td>...</td>\n",
              "      <td>...</td>\n",
              "      <td>...</td>\n",
              "      <td>...</td>\n",
              "    </tr>\n",
              "    <tr>\n",
              "      <th>8295</th>\n",
              "      <td>2020-08-17 15:03</td>\n",
              "      <td>46.0</td>\n",
              "      <td>Amor Inventado [CD]</td>\n",
              "      <td>https://images-na.ssl-images-amazon.com/images...</td>\n",
              "      <td>https://www.amazon.com.br/Amor-Inventado-John-...</td>\n",
              "      <td>5.0</td>\n",
              "      <td>1.0</td>\n",
              "      <td>Karina Zeviani</td>\n",
              "      <td>CD de áudio</td>\n",
              "      <td>19.90</td>\n",
              "      <td>None</td>\n",
              "    </tr>\n",
              "    <tr>\n",
              "      <th>8296</th>\n",
              "      <td>2020-08-17 15:03</td>\n",
              "      <td>47.0</td>\n",
              "      <td>Kessous [CD]</td>\n",
              "      <td>https://images-na.ssl-images-amazon.com/images...</td>\n",
              "      <td>https://www.amazon.com.br/Kessous-Monique/dp/B...</td>\n",
              "      <td>NaN</td>\n",
              "      <td>NaN</td>\n",
              "      <td>Monique Kessous</td>\n",
              "      <td>CD de áudio</td>\n",
              "      <td>9.90</td>\n",
              "      <td>None</td>\n",
              "    </tr>\n",
              "    <tr>\n",
              "      <th>8297</th>\n",
              "      <td>2020-08-17 15:03</td>\n",
              "      <td>48.0</td>\n",
              "      <td>Lorena Chaves</td>\n",
              "      <td>https://images-na.ssl-images-amazon.com/images...</td>\n",
              "      <td>https://www.amazon.com.br/SISTEMA-GLOBO-DE-GRA...</td>\n",
              "      <td>5.0</td>\n",
              "      <td>1.0</td>\n",
              "      <td>Lorena Chaves</td>\n",
              "      <td>CD de áudio</td>\n",
              "      <td>12.90</td>\n",
              "      <td>None</td>\n",
              "    </tr>\n",
              "    <tr>\n",
              "      <th>8298</th>\n",
              "      <td>2020-08-17 15:03</td>\n",
              "      <td>49.0</td>\n",
              "      <td>Mutantes, LP Os Mutantes - Série Clássicos Em ...</td>\n",
              "      <td>https://images-na.ssl-images-amazon.com/images...</td>\n",
              "      <td>https://www.amazon.com.br/Mutantes-LP-Os-S%C3%...</td>\n",
              "      <td>4.5</td>\n",
              "      <td>22.0</td>\n",
              "      <td>Mutantes</td>\n",
              "      <td>Disco de Vinil</td>\n",
              "      <td>132.00</td>\n",
              "      <td>None</td>\n",
              "    </tr>\n",
              "    <tr>\n",
              "      <th>8299</th>\n",
              "      <td>2020-08-17 15:03</td>\n",
              "      <td>50.0</td>\n",
              "      <td>Laura Lavieri - Desastre Solar [CD]</td>\n",
              "      <td>https://images-na.ssl-images-amazon.com/images...</td>\n",
              "      <td>https://www.amazon.com.br/Laura-Lavieri-Desast...</td>\n",
              "      <td>4.5</td>\n",
              "      <td>2.0</td>\n",
              "      <td>Laura Lavieri</td>\n",
              "      <td>CD de áudio</td>\n",
              "      <td>15.90</td>\n",
              "      <td>None</td>\n",
              "    </tr>\n",
              "  </tbody>\n",
              "</table>\n",
              "<p>8300 rows × 11 columns</p>\n",
              "</div>"
            ],
            "text/plain": [
              "                  time  Rank  ... Price_std_or_min Max_prices\n",
              "0     2020-07-31 00:39   1.0  ...           104.00       None\n",
              "1     2020-07-31 00:39   2.0  ...           110.00       None\n",
              "2     2020-07-31 00:39   3.0  ...           120.00       None\n",
              "3     2020-07-31 00:39   4.0  ...            11.90       None\n",
              "4     2020-07-31 00:39   5.0  ...           200.71       None\n",
              "...                ...   ...  ...              ...        ...\n",
              "8295  2020-08-17 15:03  46.0  ...            19.90       None\n",
              "8296  2020-08-17 15:03  47.0  ...             9.90       None\n",
              "8297  2020-08-17 15:03  48.0  ...            12.90       None\n",
              "8298  2020-08-17 15:03  49.0  ...           132.00       None\n",
              "8299  2020-08-17 15:03  50.0  ...            15.90       None\n",
              "\n",
              "[8300 rows x 11 columns]"
            ]
          },
          "metadata": {
            "tags": []
          },
          "execution_count": 59
        }
      ]
    },
    {
      "cell_type": "markdown",
      "metadata": {
        "id": "EwgVl3UubzCE",
        "colab_type": "text"
      },
      "source": [
        "#Funcion para edicion"
      ]
    },
    {
      "cell_type": "code",
      "metadata": {
        "id": "EZmoTOCWb0lp",
        "colab_type": "code",
        "colab": {}
      },
      "source": [
        "def edit_df(df, country):\n",
        "    #Standarize dates\n",
        "    df['time'] = df['time'].apply(standarize_dates)\n",
        "\n",
        "    if country is 'br':\n",
        "        #Correct the product links\n",
        "        try:\n",
        "            df['Product links'] = df['Product links'].str.replace('amazon.com.mx', 'amazon.com.br', regex=False)\n",
        "        except:\n",
        "            df['Product links'].apply(urls_edition)\n",
        "            \n",
        "    #Sort values by date and Rank\n",
        "    df.sort_values(by=['time', 'Rank'], inplace=True)\n",
        "    #Reset index\n",
        "    df.reset_index(inplace=True, drop=True)\n",
        "\n",
        "    if country is 'br':\n",
        "        #Correction of prices\n",
        "        df.loc[df['time'] < '2020-08-17 15:03', 'Price_std_or_min'] = df['Price_std_or_min']/100 \n",
        "        df.loc[df['Max_prices'] > 10, 'Max_prices'] = df['Max_prices']/100 \n",
        "        df.loc[(df['Max_prices'] > 0) & (df['Max_prices'] < 10), 'Max_prices'] = df['Max_prices']*1000 \n",
        "    \n",
        "    return df"
      ],
      "execution_count": 112,
      "outputs": []
    },
    {
      "cell_type": "markdown",
      "metadata": {
        "id": "mld2vq_2kpWc",
        "colab_type": "text"
      },
      "source": [
        "#Centered len"
      ]
    },
    {
      "cell_type": "code",
      "metadata": {
        "id": "GhWdBrockooo",
        "colab_type": "code",
        "colab": {}
      },
      "source": [
        "def centered_len(max_len):\n",
        "    def centered_string(string):\n",
        "        if type(string) != 'string':\n",
        "            string = str(string)\n",
        "            \n",
        "        rest = max_len - len(string)\n",
        "        n_spaces = int(rest/2)\n",
        "\n",
        "        string_spaces = ' ' * n_spaces\n",
        "        \n",
        "        centered_string = string_spaces + string + string_spaces\n",
        "\n",
        "        if len(centered_string)<max_len:\n",
        "            centered_string = ' ' + centered_string\n",
        "\n",
        "        return centered_string\n",
        "    return centered_string"
      ],
      "execution_count": 87,
      "outputs": []
    },
    {
      "cell_type": "code",
      "metadata": {
        "id": "ulOizB_Jhvzz",
        "colab_type": "code",
        "colab": {}
      },
      "source": [
        "db_to_edit = pd.read_parquet(entry)\n",
        "db_to_edit = edit_df(db_to_edit, 'br')\n",
        "db_to_edit"
      ],
      "execution_count": null,
      "outputs": []
    },
    {
      "cell_type": "code",
      "metadata": {
        "id": "pzvXRXtAiHmE",
        "colab_type": "code",
        "colab": {}
      },
      "source": [
        "db_to_edit"
      ],
      "execution_count": 72,
      "outputs": []
    },
    {
      "cell_type": "markdown",
      "metadata": {
        "id": "8VLTbgx_tPkO",
        "colab_type": "text"
      },
      "source": [
        "#Editor y guardado"
      ]
    },
    {
      "cell_type": "code",
      "metadata": {
        "id": "QVWPLwGHfVnp",
        "colab_type": "code",
        "colab": {
          "base_uri": "https://localhost:8080/",
          "height": 34
        },
        "outputId": "f764b587-6b9b-4cce-ad91-461ae15775fb"
      },
      "source": [
        "%cd '..'"
      ],
      "execution_count": 76,
      "outputs": [
        {
          "output_type": "stream",
          "text": [
            "/content/drive/My Drive/Colab Notebooks/4SS/4SS_db/testing/Masters\n"
          ],
          "name": "stdout"
        }
      ]
    },
    {
      "cell_type": "code",
      "metadata": {
        "id": "dYjV2jWcig8q",
        "colab_type": "code",
        "colab": {
          "base_uri": "https://localhost:8080/",
          "height": 34
        },
        "outputId": "9a5766c0-04be-48b6-800f-728c92bb7bd6"
      },
      "source": [
        "!ls"
      ],
      "execution_count": 77,
      "outputs": [
        {
          "output_type": "stream",
          "text": [
            "br  master_db_logs.csv\tmx\n"
          ],
          "name": "stdout"
        }
      ]
    },
    {
      "cell_type": "code",
      "metadata": {
        "colab_type": "code",
        "id": "RPpwgLdVr8f9",
        "colab": {
          "base_uri": "https://localhost:8080/",
          "height": 476
        },
        "outputId": "121a21ca-9964-4acc-8c48-b984d91f77a1"
      },
      "source": [
        "country = 'br'\n",
        "\n",
        "dir = f'{country}/parquet'\n",
        "databases = os.listdir(dir)\n",
        "n_databases = len(databases)\n",
        "\n",
        "#initialize\n",
        "df = [None]*n_databases\n",
        "largest_len_db = 0\n",
        "n = 0\n",
        "\n",
        "for file_name in databases:\n",
        "    db = f'{dir}/{file_name}'\n",
        "    dataframe = pd.read_parquet(db)\n",
        "    df[n] = db\n",
        "    if len(file_name) > largest_len_db:\n",
        "        largest_len_db = len(file_name)\n",
        "    n = n + 1\n",
        "\n",
        "#Print tools\n",
        "centered_db = centered_len(largest_len_db)\n",
        "centered_header = centered_db('masterdbs')\n",
        "dashes = '-'*largest_len_db\n",
        "print(f' {centered_header} | Edition')\n",
        "print(f' {dashes} | ------ ')\n",
        "\n",
        "for d in range(len(df)):\n",
        "    #file name extract\n",
        "    dir_len = len(dir)+1\n",
        "    parquet_len = len('.parquet')\n",
        "    file_name_len = len(df[d])-parquet_len\n",
        "    file_name = df[d][dir_len:file_name_len]\n",
        "    #File name print to log\n",
        "    print(f' {centered_db(file_name)}', end=' | ')\n",
        "\n",
        "    #--------Edition--------\n",
        "    #Load Dataframe\n",
        "    file_to_edit = pd.read_parquet(df[d])\n",
        "\n",
        "    edit_df(file_to_edit, country)\n",
        "\n",
        "    #--------Upadting--------\n",
        "    #File names\n",
        "    csv_file = f'{country}/csv/{file_name}.csv'\n",
        "    excel_file = f'{country}/excel/{file_name}.xlsx'\n",
        "    parquet_file = f'{country}/parquet/{file_name}.parquet'\n",
        "    #File updating\n",
        "    file_to_edit.to_csv(csv_file,sep=\"|\")\n",
        "    file_to_edit.to_excel(excel_file, index=False)\n",
        "    file_to_edit.to_parquet(parquet_file, allow_truncated_timestamps=True)\n",
        "\n",
        "    print('Done')"
      ],
      "execution_count": 114,
      "outputs": [
        {
          "output_type": "stream",
          "text": [
            "               masterdbs              | Edition\n",
            " ------------------------------------ | ------ \n",
            "          br-master_db_books          | Done\n",
            "       br-master_db_digital-text      | Done\n",
            "        br-master_db_videogames       | Done\n",
            "      br-master_db_baby-products      | Done\n",
            "        br-master_db_appliances       | Done\n",
            "        br-master_db_computers        | Done\n",
            "          br-master_db_beauty         | Done\n",
            "        br-master_db_automotive       | Done\n",
            "      br-master_db_amazon-devices     | Done\n",
            "           br-master_db_toys          | Done\n",
            "          br-master_db_sports         | Done\n",
            "       br-master_db_pet-products      | Done\n",
            "         br-master_db_grocery         | Done\n",
            "          br-master_db_music          | Done\n",
            "          br-master_db_office         | Done\n",
            "           br-master_db_hpc           | Done\n",
            "         br-master_db_fashion         | Done\n",
            "       br-master_db_mobile-apps       | Done\n",
            "         br-master_db_kitchen         | Done\n",
            "     br-master_db_lawn-and-garden     | Done\n",
            "        br-master_db_furniture        | Done\n",
            "            br-master_db_hi           | Done\n",
            "           br-master_db_home          | Done\n",
            "       br-master_db_electronics       | Done\n",
            "           br-master_db_dvd           | Done\n"
          ],
          "name": "stdout"
        }
      ]
    },
    {
      "cell_type": "code",
      "metadata": {
        "id": "MW7qblLVogd2",
        "colab_type": "code",
        "colab": {}
      },
      "source": [
        "def urls_edition(url):\n",
        "    if type(url) is str:\n",
        "        link = url.replace('amazon.com.mx', 'amazon.com.br')\n",
        "        return link"
      ],
      "execution_count": 103,
      "outputs": []
    },
    {
      "cell_type": "code",
      "metadata": {
        "id": "xAV-AXT5lUM1",
        "colab_type": "code",
        "colab": {
          "base_uri": "https://localhost:8080/",
          "height": 589
        },
        "outputId": "4ed13d10-3aaf-4998-fe02-7e9c8d92903f"
      },
      "source": [
        "entry = 'br/parquet/br-master_db_amazon-devices.parquet'\n",
        "df = pd.read_parquet(entry)\n",
        "\n",
        "df['time'] = df['time'].apply(standarize_dates)\n",
        "\n",
        "if country is 'br':\n",
        "    #Correct the product links\n",
        "    try:\n",
        "        df['Product links'] = df['Product links'].str.replace('amazon.com.mx', 'amazon.com.br', regex=False)\n",
        "    except:\n",
        "        df['Product links'].apply(urls_edition)\n",
        "\n",
        "#Sort values by date and Rank\n",
        "df.sort_values(by=['time', 'Rank'], inplace=True)\n",
        "#Reset index\n",
        "df.reset_index(inplace=True, drop=True)\n",
        "\n",
        "if country is 'br':\n",
        "    #Correction of prices\n",
        "    df.loc[df['time'] < '2020-08-17 15:03', 'Price_std_or_min'] = df['Price_std_or_min']/100 \n",
        "    df.loc[df['Max_prices'] > 0, 'Max_prices'] = df['Max_prices']/100 \n",
        "    df.loc[(df['Max_prices'] > 0) & (df['Max_prices'] < 10), 'Max_prices'] = df['Max_prices']*1000 \n",
        "\n",
        "df"
      ],
      "execution_count": 110,
      "outputs": [
        {
          "output_type": "execute_result",
          "data": {
            "text/html": [
              "<div>\n",
              "<style scoped>\n",
              "    .dataframe tbody tr th:only-of-type {\n",
              "        vertical-align: middle;\n",
              "    }\n",
              "\n",
              "    .dataframe tbody tr th {\n",
              "        vertical-align: top;\n",
              "    }\n",
              "\n",
              "    .dataframe thead th {\n",
              "        text-align: right;\n",
              "    }\n",
              "</style>\n",
              "<table border=\"1\" class=\"dataframe\">\n",
              "  <thead>\n",
              "    <tr style=\"text-align: right;\">\n",
              "      <th></th>\n",
              "      <th>time</th>\n",
              "      <th>Rank</th>\n",
              "      <th>Product Names</th>\n",
              "      <th>Image urls</th>\n",
              "      <th>Product links</th>\n",
              "      <th>Stars</th>\n",
              "      <th>Reviews</th>\n",
              "      <th>Authors/Company</th>\n",
              "      <th>Edition/Console</th>\n",
              "      <th>Price_std_or_min</th>\n",
              "      <th>Max_prices</th>\n",
              "    </tr>\n",
              "  </thead>\n",
              "  <tbody>\n",
              "    <tr>\n",
              "      <th>0</th>\n",
              "      <td>2020-07-31 00:38</td>\n",
              "      <td>1.0</td>\n",
              "      <td>Echo Dot (3ª Geração): Smart Speaker com Alexa...</td>\n",
              "      <td>https://images-na.ssl-images-amazon.com/images...</td>\n",
              "      <td>https://www.amazon.com.br/Echo-Dot-3%C2%AA-Ger...</td>\n",
              "      <td>NaN</td>\n",
              "      <td>NaN</td>\n",
              "      <td>None</td>\n",
              "      <td>None</td>\n",
              "      <td>249.00</td>\n",
              "      <td>NaN</td>\n",
              "    </tr>\n",
              "    <tr>\n",
              "      <th>1</th>\n",
              "      <td>2020-07-31 00:38</td>\n",
              "      <td>2.0</td>\n",
              "      <td>Kindle 10a. geração com iluminação embutida  –...</td>\n",
              "      <td>https://images-na.ssl-images-amazon.com/images...</td>\n",
              "      <td>https://www.amazon.com.br/Staging-Product-Not-...</td>\n",
              "      <td>NaN</td>\n",
              "      <td>NaN</td>\n",
              "      <td>None</td>\n",
              "      <td>None</td>\n",
              "      <td>349.00</td>\n",
              "      <td>NaN</td>\n",
              "    </tr>\n",
              "    <tr>\n",
              "      <th>2</th>\n",
              "      <td>2020-07-31 00:38</td>\n",
              "      <td>3.0</td>\n",
              "      <td>Kindle Paperwhite 32 GB - Agora à prova d´água</td>\n",
              "      <td>https://images-na.ssl-images-amazon.com/images...</td>\n",
              "      <td>https://www.amazon.com.br/Novo-Kindle-Paperwhi...</td>\n",
              "      <td>NaN</td>\n",
              "      <td>NaN</td>\n",
              "      <td>None</td>\n",
              "      <td>None</td>\n",
              "      <td>499.00</td>\n",
              "      <td>649.0</td>\n",
              "    </tr>\n",
              "    <tr>\n",
              "      <th>3</th>\n",
              "      <td>2020-07-31 00:38</td>\n",
              "      <td>4.0</td>\n",
              "      <td>Echo Show 5 - Smart Speaker com tela de 5,5\" e...</td>\n",
              "      <td>https://images-na.ssl-images-amazon.com/images...</td>\n",
              "      <td>https://www.amazon.com.br/Echo-Show-Smart-Spea...</td>\n",
              "      <td>NaN</td>\n",
              "      <td>NaN</td>\n",
              "      <td>None</td>\n",
              "      <td>None</td>\n",
              "      <td>499.00</td>\n",
              "      <td>NaN</td>\n",
              "    </tr>\n",
              "    <tr>\n",
              "      <th>4</th>\n",
              "      <td>2020-07-31 00:38</td>\n",
              "      <td>5.0</td>\n",
              "      <td>Capa Nupro para Kindle Paperwhite -  Cor Azul</td>\n",
              "      <td>https://images-na.ssl-images-amazon.com/images...</td>\n",
              "      <td>https://www.amazon.com.br/Capa-Nupro-para-Kind...</td>\n",
              "      <td>NaN</td>\n",
              "      <td>NaN</td>\n",
              "      <td>None</td>\n",
              "      <td>None</td>\n",
              "      <td>79.00</td>\n",
              "      <td>NaN</td>\n",
              "    </tr>\n",
              "    <tr>\n",
              "      <th>...</th>\n",
              "      <td>...</td>\n",
              "      <td>...</td>\n",
              "      <td>...</td>\n",
              "      <td>...</td>\n",
              "      <td>...</td>\n",
              "      <td>...</td>\n",
              "      <td>...</td>\n",
              "      <td>...</td>\n",
              "      <td>...</td>\n",
              "      <td>...</td>\n",
              "      <td>...</td>\n",
              "    </tr>\n",
              "    <tr>\n",
              "      <th>8395</th>\n",
              "      <td>2020-08-17 15:03</td>\n",
              "      <td>46.0</td>\n",
              "      <td>Capa de Couro para Novo Oasis - Cor Preta</td>\n",
              "      <td>https://images-na.ssl-images-amazon.com/images...</td>\n",
              "      <td>https://www.amazon.com.br/Capa-Couro-para-Novo...</td>\n",
              "      <td>4.0</td>\n",
              "      <td>37.0</td>\n",
              "      <td>None</td>\n",
              "      <td>None</td>\n",
              "      <td>NaN</td>\n",
              "      <td>NaN</td>\n",
              "    </tr>\n",
              "    <tr>\n",
              "      <th>8396</th>\n",
              "      <td>2020-08-17 15:03</td>\n",
              "      <td>47.0</td>\n",
              "      <td>Kindle Oasis Wi-Fi, iluminação embutida, tela ...</td>\n",
              "      <td>https://images-na.ssl-images-amazon.com/images...</td>\n",
              "      <td>https://www.amazon.com.br/Kindle-ilumina%C3%A7...</td>\n",
              "      <td>3.9</td>\n",
              "      <td>142.0</td>\n",
              "      <td>None</td>\n",
              "      <td>None</td>\n",
              "      <td>NaN</td>\n",
              "      <td>NaN</td>\n",
              "    </tr>\n",
              "    <tr>\n",
              "      <th>8397</th>\n",
              "      <td>2020-08-17 15:03</td>\n",
              "      <td>48.0</td>\n",
              "      <td>Suporte Capa Para Celular Bicicleta Moto Prova...</td>\n",
              "      <td>https://images-na.ssl-images-amazon.com/images...</td>\n",
              "      <td>https://www.amazon.com.br/Suporte-Prova-D%C3%A...</td>\n",
              "      <td>NaN</td>\n",
              "      <td>NaN</td>\n",
              "      <td>None</td>\n",
              "      <td>None</td>\n",
              "      <td>48.99</td>\n",
              "      <td>NaN</td>\n",
              "    </tr>\n",
              "    <tr>\n",
              "      <th>8398</th>\n",
              "      <td>2020-08-17 15:03</td>\n",
              "      <td>49.0</td>\n",
              "      <td>Suporte Apoio Stand De Parede Amazon Echo Dot ...</td>\n",
              "      <td>https://images-na.ssl-images-amazon.com/images...</td>\n",
              "      <td>https://www.amazon.com.br/Suporte-Apoio-Stand-...</td>\n",
              "      <td>NaN</td>\n",
              "      <td>NaN</td>\n",
              "      <td>None</td>\n",
              "      <td>None</td>\n",
              "      <td>22.00</td>\n",
              "      <td>NaN</td>\n",
              "    </tr>\n",
              "    <tr>\n",
              "      <th>8399</th>\n",
              "      <td>2020-08-17 15:03</td>\n",
              "      <td>50.0</td>\n",
              "      <td>Capa à prova d'água para Novo Oasis - Cor Azul</td>\n",
              "      <td>https://images-na.ssl-images-amazon.com/images...</td>\n",
              "      <td>https://www.amazon.com.br/Capa-prova-d%C3%A1gu...</td>\n",
              "      <td>3.8</td>\n",
              "      <td>31.0</td>\n",
              "      <td>None</td>\n",
              "      <td>None</td>\n",
              "      <td>NaN</td>\n",
              "      <td>NaN</td>\n",
              "    </tr>\n",
              "  </tbody>\n",
              "</table>\n",
              "<p>8400 rows × 11 columns</p>\n",
              "</div>"
            ],
            "text/plain": [
              "                  time  Rank  ... Price_std_or_min Max_prices\n",
              "0     2020-07-31 00:38   1.0  ...           249.00        NaN\n",
              "1     2020-07-31 00:38   2.0  ...           349.00        NaN\n",
              "2     2020-07-31 00:38   3.0  ...           499.00      649.0\n",
              "3     2020-07-31 00:38   4.0  ...           499.00        NaN\n",
              "4     2020-07-31 00:38   5.0  ...            79.00        NaN\n",
              "...                ...   ...  ...              ...        ...\n",
              "8395  2020-08-17 15:03  46.0  ...              NaN        NaN\n",
              "8396  2020-08-17 15:03  47.0  ...              NaN        NaN\n",
              "8397  2020-08-17 15:03  48.0  ...            48.99        NaN\n",
              "8398  2020-08-17 15:03  49.0  ...            22.00        NaN\n",
              "8399  2020-08-17 15:03  50.0  ...              NaN        NaN\n",
              "\n",
              "[8400 rows x 11 columns]"
            ]
          },
          "metadata": {
            "tags": []
          },
          "execution_count": 110
        }
      ]
    }
  ]
}