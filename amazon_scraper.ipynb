{
  "nbformat": 4,
  "nbformat_minor": 0,
  "metadata": {
    "colab": {
      "name": "amazon_scraper.ipynb",
      "provenance": [],
      "toc_visible": true,
      "authorship_tag": "ABX9TyO4s/FBPud+AZzuYYlw2Ro9",
      "include_colab_link": true
    },
    "kernelspec": {
      "name": "python3",
      "display_name": "Python 3"
    }
  },
  "cells": [
    {
      "cell_type": "markdown",
      "metadata": {
        "id": "view-in-github",
        "colab_type": "text"
      },
      "source": [
        "<a href=\"https://colab.research.google.com/github/Edward-TL/amazon_scraper/blob/master/amazon_scraper.ipynb\" target=\"_parent\"><img src=\"https://colab.research.google.com/assets/colab-badge.svg\" alt=\"Open In Colab\"/></a>"
      ]
    },
    {
      "cell_type": "markdown",
      "metadata": {
        "id": "Mb452xBgIZYD",
        "colab_type": "text"
      },
      "source": [
        "#Amazon Web Scrapper\n",
        "\n"
      ]
    },
    {
      "cell_type": "markdown",
      "metadata": {
        "id": "gXCUpfhRIfIH",
        "colab_type": "text"
      },
      "source": [
        "Se realiza la importación de requests y BeautifulSoup para poder extraer y ordenar la información del HTML y XPath. Se deja el diccionario de Direcciones para ajustar a un futuro las condiciones de la página."
      ]
    },
    {
      "cell_type": "code",
      "metadata": {
        "id": "hP9wfgEMDlzp",
        "colab_type": "code",
        "colab": {}
      },
      "source": [
        "import requests\n",
        "from bs4 import BeautifulSoup\n",
        "import re\n",
        "import datetime\n",
        "import os\n",
        "import lxml.html as html"
      ],
      "execution_count": 55,
      "outputs": []
    },
    {
      "cell_type": "code",
      "metadata": {
        "id": "ip_U5hn8NCXv",
        "colab_type": "code",
        "colab": {}
      },
      "source": [
        "URL_dict = {'AMZ_Mex' : 'https://www.amazon.com.mx/',\n",
        "            'top_kindle' : 'https://www.amazon.com.mx/gp/bestsellers/digital-text/ref=zg_bs_digital-text_home_all?pf_rd_p=01d2df49-74bd-42d3-a898-95a4f3beb031&pf_rd_s=center-4&pf_rd_t=2101&pf_rd_i=home&pf_rd_m=AVDBXBAVVSXLQ&pf_rd_r=6APAMAKKFSPVHG8MWSXT&pf_rd_r=6APAMAKKFSPVHG8MWSXT&pf_rd_p=01d2df49-74bd-42d3-a898-95a4f3beb031'}"
      ],
      "execution_count": 56,
      "outputs": []
    },
    {
      "cell_type": "markdown",
      "metadata": {
        "id": "kPrUb6FHIvGT",
        "colab_type": "text"
      },
      "source": [
        "Se selecciona la dirección que se va a obtener y se confirma el Estado de la petición al servidor.\n"
      ]
    },
    {
      "cell_type": "code",
      "metadata": {
        "id": "nHiDZitVEjJ_",
        "colab_type": "code",
        "colab": {
          "base_uri": "https://localhost:8080/",
          "height": 71
        },
        "outputId": "f87c8851-a8e3-402e-c75b-e82d51548f4d"
      },
      "source": [
        "URL = URL_dict['top_kindle']\n",
        "print(f'URL given: {URL}')\n",
        "response = requests.get(URL)\n",
        "print(f'Request status: {response.status_code}')"
      ],
      "execution_count": 57,
      "outputs": [
        {
          "output_type": "stream",
          "text": [
            "URL given: https://www.amazon.com.mx/gp/bestsellers/digital-text/ref=zg_bs_digital-text_home_all?pf_rd_p=01d2df49-74bd-42d3-a898-95a4f3beb031&pf_rd_s=center-4&pf_rd_t=2101&pf_rd_i=home&pf_rd_m=AVDBXBAVVSXLQ&pf_rd_r=6APAMAKKFSPVHG8MWSXT&pf_rd_r=6APAMAKKFSPVHG8MWSXT&pf_rd_p=01d2df49-74bd-42d3-a898-95a4f3beb031\n",
            "Request status: 200\n"
          ],
          "name": "stdout"
        }
      ]
    },
    {
      "cell_type": "code",
      "metadata": {
        "id": "JfXHcH3R-Zkv",
        "colab_type": "code",
        "colab": {}
      },
      "source": [
        "from urllib.request import urlopen\n",
        "from lxml import etree"
      ],
      "execution_count": 58,
      "outputs": []
    },
    {
      "cell_type": "markdown",
      "metadata": {
        "id": "OWbGuHMeJPA9",
        "colab_type": "text"
      },
      "source": [
        "Para garantizar la funcionalidad del scrapper, se condiciona para que corra unicamente en caso de tener una conexión existosa (Stadus Code: 200). De lo contrario, que nos informe el error."
      ]
    },
    {
      "cell_type": "markdown",
      "metadata": {
        "id": "KpD1a6B7Wb-p",
        "colab_type": "text"
      },
      "source": [
        "#Obtención de la sopa"
      ]
    },
    {
      "cell_type": "code",
      "metadata": {
        "id": "fxsNLYFTEkvl",
        "colab_type": "code",
        "colab": {}
      },
      "source": [
        "s = BeautifulSoup(response.text, 'lxml')"
      ],
      "execution_count": 59,
      "outputs": []
    },
    {
      "cell_type": "code",
      "metadata": {
        "id": "Jq2b310LMd18",
        "colab_type": "code",
        "colab": {
          "base_uri": "https://localhost:8080/",
          "height": 34
        },
        "outputId": "13649177-354b-4713-d572-60f95a3cfc87"
      },
      "source": [
        "type(s)"
      ],
      "execution_count": 89,
      "outputs": [
        {
          "output_type": "execute_result",
          "data": {
            "text/plain": [
              "bs4.BeautifulSoup"
            ]
          },
          "metadata": {
            "tags": []
          },
          "execution_count": 89
        }
      ]
    },
    {
      "cell_type": "code",
      "metadata": {
        "id": "5i2Y7Xq6v6dU",
        "colab_type": "code",
        "colab": {}
      },
      "source": [
        "print(s.prettify())"
      ],
      "execution_count": null,
      "outputs": []
    },
    {
      "cell_type": "markdown",
      "metadata": {
        "id": "H2xPXqnyWKUh",
        "colab_type": "text"
      },
      "source": [
        "##Propiedades"
      ]
    },
    {
      "cell_type": "markdown",
      "metadata": {
        "id": "w8twpBGbYfXP",
        "colab_type": "text"
      },
      "source": [
        "###Ranking"
      ]
    },
    {
      "cell_type": "code",
      "metadata": {
        "id": "fGFq6YGbv9hf",
        "colab_type": "code",
        "colab": {}
      },
      "source": [
        "ranks_soup = s.find_all('span', attrs={'class':'zg-badge-text'})\n",
        "ranks = [rank.get_text() for rank in ranks_soup]\n",
        "ranks"
      ],
      "execution_count": null,
      "outputs": []
    },
    {
      "cell_type": "markdown",
      "metadata": {
        "id": "bVLUTGCwYuEB",
        "colab_type": "text"
      },
      "source": [
        "###División del producto con imágen"
      ]
    },
    {
      "cell_type": "code",
      "metadata": {
        "id": "6JuM1I_ywvyH",
        "colab_type": "code",
        "colab": {}
      },
      "source": [
        "products_and_image = s.find_all('div', attrs={'class' : 'a-section a-spacing-small'})\n",
        "products_and_image"
      ],
      "execution_count": null,
      "outputs": []
    },
    {
      "cell_type": "markdown",
      "metadata": {
        "id": "o5UAiLFYYyrh",
        "colab_type": "text"
      },
      "source": [
        "###Nombre de los productos"
      ]
    },
    {
      "cell_type": "code",
      "metadata": {
        "id": "tOWEXetO28OH",
        "colab_type": "code",
        "colab": {}
      },
      "source": [
        "product_names = [product_name.img.get('alt') for product_name in products_and_image]\n",
        "print(f'Nombres guardados: {len(product_names)}\\n')\n",
        "product_names"
      ],
      "execution_count": null,
      "outputs": []
    },
    {
      "cell_type": "markdown",
      "metadata": {
        "id": "CJHHzV6bY1fu",
        "colab_type": "text"
      },
      "source": [
        "###URLs de las imágenes"
      ]
    },
    {
      "cell_type": "code",
      "metadata": {
        "id": "9ATBmVmp3U4X",
        "colab_type": "code",
        "colab": {}
      },
      "source": [
        "image_urls = [image_url.img.get('src') for image_url in products_and_image]\n",
        "print(f'Nombres guardados: {len(image_urls)}\\n')\n",
        "image_urls"
      ],
      "execution_count": null,
      "outputs": []
    },
    {
      "cell_type": "code",
      "metadata": {
        "id": "pvNAIk2BzlIf",
        "colab_type": "code",
        "colab": {}
      },
      "source": [
        "# product_names = []\n",
        "# product_images_urls = []\n",
        "# for product in products_and_image:\n",
        "#     product_names = products_and_image.re(r'(?<=img\\salt=\")(.+)(?=\"\\sheight)')\n",
        "#     product_images_urls = products_and_image.re(r'(?<=src=\")(.*)(?=\"\\swidth)')"
      ],
      "execution_count": 69,
      "outputs": []
    },
    {
      "cell_type": "code",
      "metadata": {
        "id": "2xLixG5R2dV_",
        "colab_type": "code",
        "colab": {}
      },
      "source": [
        "#products = s.find_all('div', attrs={'' : ''}: 'contains(@class, \"p13n-sc-truncated\")]/text()').getall()"
      ],
      "execution_count": 70,
      "outputs": []
    },
    {
      "cell_type": "markdown",
      "metadata": {
        "id": "ok8QwFv4Y4Mg",
        "colab_type": "text"
      },
      "source": [
        "###Rating por estrella X.X de un máximo de 5 estrellas."
      ]
    },
    {
      "cell_type": "code",
      "metadata": {
        "id": "gY_fTdV62nGJ",
        "colab_type": "code",
        "colab": {}
      },
      "source": [
        "star_ratings_soup = s.find_all('span', attrs={'class' : 'a-icon-alt'})\n",
        "star_ratings = [star_rating.get_text() for star_rating in star_ratings_soup]\n",
        "print(f'Nombres guardados: {len(star_ratings)}\\n')\n",
        "star_ratings"
      ],
      "execution_count": null,
      "outputs": []
    },
    {
      "cell_type": "markdown",
      "metadata": {
        "id": "r79hL4ogZDHu",
        "colab_type": "text"
      },
      "source": [
        "###Número de Reviews"
      ]
    },
    {
      "cell_type": "code",
      "metadata": {
        "id": "WNUqzEO_y4P5",
        "colab_type": "code",
        "colab": {}
      },
      "source": [
        "reviews_soup = s.find_all('a', attrs={'class' : 'a-size-small a-link-normal'})\n",
        "reviews = [review.get_text() for review in reviews_soup]\n",
        "print(f'Nombres guardados: {len(reviews)}\\n')\n",
        "reviews"
      ],
      "execution_count": null,
      "outputs": []
    },
    {
      "cell_type": "markdown",
      "metadata": {
        "id": "9h6nSF2XZFJQ",
        "colab_type": "text"
      },
      "source": [
        "###Autores/Compañía"
      ]
    },
    {
      "cell_type": "code",
      "metadata": {
        "id": "vityn4wV6NeZ",
        "colab_type": "code",
        "colab": {}
      },
      "source": [
        "authors_soup = s.find_all('span', attrs={'class' : 'a-size-small a-color-base'})\n",
        "authors = [author.get_text() for author in authors_soup]\n",
        "print(f'Nombres guardados: {len(authors)}\\n')\n",
        "authors"
      ],
      "execution_count": null,
      "outputs": []
    },
    {
      "cell_type": "markdown",
      "metadata": {
        "id": "NwDIEvZnZKIL",
        "colab_type": "text"
      },
      "source": [
        "###Edición/Consola\n",
        "Edición para los libros y para indicar que es de Kindle\n",
        "Consola para el caso de videojuegos"
      ]
    },
    {
      "cell_type": "code",
      "metadata": {
        "id": "GUG-82Wa6v74",
        "colab_type": "code",
        "colab": {}
      },
      "source": [
        "editions_soup = s.find_all('span', attrs={'class' : 'a-size-small a-color-secondary'})\n",
        "editions = [edition.get_text() for edition in editions_soup]\n",
        "print(f'Nombres guardados: {len(editions)}\\n')\n",
        "editions"
      ],
      "execution_count": null,
      "outputs": []
    },
    {
      "cell_type": "markdown",
      "metadata": {
        "id": "j0Lk4sUgWhhL",
        "colab_type": "text"
      },
      "source": [
        "#Segmentación de la sopa por cajas. Extracción de boxes."
      ]
    },
    {
      "cell_type": "markdown",
      "metadata": {
        "id": "19K8BNdJX-e-",
        "colab_type": "text"
      },
      "source": [
        "##Extracción de una sola caja"
      ]
    },
    {
      "cell_type": "markdown",
      "metadata": {
        "id": "EHppomx0Zr_A",
        "colab_type": "text"
      },
      "source": [
        "Resulta que al momento de pedir algunas propiedades, como el rating por estrellas, el número de reviews o el equivalente a la consola, la información se desajusta. Esto se debe a que el \"Find_all\" no indica si en la caja no se encuentra un dato, solo regresa menos datos. Entonces, suponiendo que falta un dato en el producto 25, nos regresaría un arreglo de 49 datos, en vez de un \"NaN\", \"N/A\", \"Error\", \"Not Found\" en el puesto 25.\n",
        "\n",
        "Si pasaramos esta información a un csv, al momento de analizarlo veríamos que la información no coincide del producto 25 (ya que tendría información) hasta el producto 50.\n",
        "\n",
        "Por ello, este análisis para extraer cada una de las propiedades de forma individual"
      ]
    },
    {
      "cell_type": "code",
      "metadata": {
        "id": "Y0LxN-cw8JMb",
        "colab_type": "code",
        "colab": {
          "base_uri": "https://localhost:8080/",
          "height": 34
        },
        "outputId": "df866443-e989-406b-d272-e6d35ac5e662"
      },
      "source": [
        "all_product_info_soup = s.find_all('div', attrs={'class':\"a-section a-spacing-none aok-relative\"})\n",
        "print(len(all_product_info_soup))"
      ],
      "execution_count": 91,
      "outputs": [
        {
          "output_type": "stream",
          "text": [
            "50\n"
          ],
          "name": "stdout"
        }
      ]
    },
    {
      "cell_type": "code",
      "metadata": {
        "id": "s64DXqQybcBn",
        "colab_type": "code",
        "colab": {}
      },
      "source": [
        "all_product_info_soup"
      ],
      "execution_count": null,
      "outputs": []
    },
    {
      "cell_type": "code",
      "metadata": {
        "id": "nVyW_Rs3SNhF",
        "colab_type": "code",
        "colab": {
          "base_uri": "https://localhost:8080/",
          "height": 241
        },
        "outputId": "03bab4b5-79c1-4518-e9b8-4b421681828b"
      },
      "source": [
        "soup_check = all_product_info_soup[0]\n",
        "soup_check"
      ],
      "execution_count": 76,
      "outputs": [
        {
          "output_type": "execute_result",
          "data": {
            "text/plain": [
              "<div class=\"a-section a-spacing-none aok-relative\"><div class=\"a-row a-spacing-none aok-inline-block\"><span class=\"a-size-small aok-float-left zg-badge-body zg-badge-color\"><span class=\"zg-badge-text\">#1</span></span><span class=\"aok-float-left zg-badge-triangle zg-badge-color\"></span></div><span class=\"aok-inline-block zg-item\"><a class=\"a-link-normal\" href=\"/Cero-Inversionista-Domina-juego-dinero-ebook/dp/B08BY3L6C7?_encoding=UTF8&amp;psc=1\"><span class=\"zg-text-center-align\"><div class=\"a-section a-spacing-small\"><img alt=\"De Cero a Inversionista: Domina el juego del dinero\" height=\"200\" src=\"https://images-na.ssl-images-amazon.com/images/I/81w%2BvFNzElL._UX300__PJku-sticker-v7,TopRight,0,-50__BG0,0,0,0_FMpng_AC_UL200_SR200,200_.jpg\" width=\"200\"/></div></span>\n",
              "<div aria-hidden=\"true\" class=\"p13n-sc-truncate p13n-sc-line-clamp-1\" data-rows=\"1\">\n",
              "            De Cero a Inversionista: Domina el juego del dinero\n",
              "        </div>\n",
              "</a><div class=\"a-row a-size-small\"><span class=\"a-size-small a-color-base\">Omar Educación Financiera</span></div>\n",
              "<div class=\"a-icon-row a-spacing-none\">\n",
              "<a class=\"a-link-normal\" href=\"/product-reviews/B08BY3L6C7\" title=\"4.4 de un máximo de 5 estrellas\">\n",
              "<i class=\"a-icon a-icon-star a-star-4-5 aok-align-top\"><span class=\"a-icon-alt\">4.4 de un máximo de 5 estrellas</span></i>\n",
              "</a>\n",
              "<a class=\"a-size-small a-link-normal\" href=\"/product-reviews/B08BY3L6C7\">23</a>\n",
              "</div>\n",
              "<div class=\"a-row a-size-small\"><span class=\"a-size-small a-color-secondary\">Edición Kindle</span></div><div class=\"a-row\"><a class=\"a-link-normal a-text-normal\" href=\"/Cero-Inversionista-Domina-juego-dinero-ebook/dp/B08BY3L6C7?_encoding=UTF8&amp;psc=1\"><span class=\"a-size-base a-color-price\"><span class=\"p13n-sc-price\">$149.00</span></span></a> </div></span></div>"
            ]
          },
          "metadata": {
            "tags": []
          },
          "execution_count": 76
        }
      ]
    },
    {
      "cell_type": "markdown",
      "metadata": {
        "id": "tHAlIYiWcF0B",
        "colab_type": "text"
      },
      "source": [
        "Como es posible apreciar en el chunck anterior, se puede interactuar con cada uno de los elementos del arreglo como si fuera una sopa independiente. Por lo que si se hace un ciclo for con cada una de las cajas, sería el mismo efecto."
      ]
    },
    {
      "cell_type": "code",
      "metadata": {
        "id": "Oeny0Y7zbk6j",
        "colab_type": "code",
        "colab": {
          "base_uri": "https://localhost:8080/",
          "height": 122
        },
        "outputId": "4ec964e1-be18-4793-dddf-9792f6babb6a"
      },
      "source": [
        "boxes = all_product_info_soup\n",
        "cont = 1\n",
        "for box in boxes:\n",
        "    if cont == 25:\n",
        "        print(box)\n",
        "        cont+=1\n",
        "    else:\n",
        "        cont+=1"
      ],
      "execution_count": 93,
      "outputs": [
        {
          "output_type": "stream",
          "text": [
            "<div class=\"a-section a-spacing-none aok-relative\"><div class=\"a-row a-spacing-none aok-inline-block\"><span class=\"a-size-small aok-float-left zg-badge-body zg-badge-color\"><span class=\"zg-badge-text\">#25</span></span><span class=\"aok-float-left zg-badge-triangle zg-badge-color\"></span></div><span class=\"aok-inline-block zg-item\"><a class=\"a-link-normal\" href=\"/verdad-pandemia-Qui%C3%A9n-sido-por-ebook/dp/B089RQCHKQ?_encoding=UTF8&amp;psc=1\"><span class=\"zg-text-center-align\"><div class=\"a-section a-spacing-small\"><img alt=\"La verdad de la pandemia: Quién ha sido y por qué\" height=\"200\" src=\"https://images-na.ssl-images-amazon.com/images/I/81MsVSwOj6L.__BG0,0,0,0_FMpng_AC_UL200_SR200,200_.jpg\" width=\"200\"/></div></span>\n",
            "<div aria-hidden=\"true\" class=\"p13n-sc-truncate p13n-sc-line-clamp-1\" data-rows=\"1\">\n",
            "            La verdad de la pandemia: Quién ha sido y por qué\n",
            "        </div>\n",
            "</a><div class=\"a-row a-size-small\"><span class=\"a-size-small a-color-base\">Cristina Martín Jiménez</span></div><div class=\"a-row a-size-small\"><span class=\"a-size-small a-color-secondary\">Edición Kindle</span></div><div class=\"a-row\"><a class=\"a-link-normal a-text-normal\" href=\"/verdad-pandemia-Qui%C3%A9n-sido-por-ebook/dp/B089RQCHKQ?_encoding=UTF8&amp;psc=1\"><span class=\"a-size-base a-color-price\"><span class=\"p13n-sc-price\">$139.00</span></span></a> </div></span></div>\n"
          ],
          "name": "stdout"
        }
      ]
    },
    {
      "cell_type": "markdown",
      "metadata": {
        "id": "zeABQk00X6lz",
        "colab_type": "text"
      },
      "source": [
        "##Obtención del ranking"
      ]
    },
    {
      "cell_type": "code",
      "metadata": {
        "id": "kGsqzOUR_ynS",
        "colab_type": "code",
        "colab": {
          "base_uri": "https://localhost:8080/",
          "height": 35
        },
        "outputId": "d55c424d-0c86-4831-b804-4d54498bf5dd"
      },
      "source": [
        "soup_check = all_product_info_soup[0]\n",
        "ranks_soup = soup_check.find_all('span', attrs={'class':'zg-badge-text'})\n",
        "rank = ranks_soup[0].get_text()\n",
        "rank"
      ],
      "execution_count": 88,
      "outputs": [
        {
          "output_type": "execute_result",
          "data": {
            "application/vnd.google.colaboratory.intrinsic+json": {
              "type": "string"
            },
            "text/plain": [
              "'#1'"
            ]
          },
          "metadata": {
            "tags": []
          },
          "execution_count": 88
        }
      ]
    },
    {
      "cell_type": "code",
      "metadata": {
        "id": "aZkicBdTcal-",
        "colab_type": "code",
        "colab": {
          "base_uri": "https://localhost:8080/",
          "height": 34
        },
        "outputId": "4033e21a-9cdd-4a93-c25c-bc6dadaad1fc"
      },
      "source": [
        "boxes = all_product_info_soup\n",
        "cont = 1\n",
        "for box in boxes:\n",
        "    ##para obtener el número #25\n",
        "    if cont == 25:\n",
        "        rank_box = box.find_all('span', attrs={'class':'zg-badge-text'})\n",
        "        rank = rank_box[0].get_text()\n",
        "        print(rank)\n",
        "        cont+=1\n",
        "    else:\n",
        "        cont+=1"
      ],
      "execution_count": 95,
      "outputs": [
        {
          "output_type": "stream",
          "text": [
            "#25\n"
          ],
          "name": "stdout"
        }
      ]
    },
    {
      "cell_type": "markdown",
      "metadata": {
        "id": "JLWBHtAmV23L",
        "colab_type": "text"
      },
      "source": [
        "##Obtención de los links"
      ]
    },
    {
      "cell_type": "code",
      "metadata": {
        "id": "AwXiHFrITHAI",
        "colab_type": "code",
        "colab": {
          "base_uri": "https://localhost:8080/",
          "height": 139
        },
        "outputId": "7c1c74cd-a06d-4c93-ac30-21ca215fdb27"
      },
      "source": [
        "product_soup = soup_check.find_all('a', attrs={'class' : 'a-link-normal'})\n",
        "product_s = product_soup[0]\n",
        "print(product_s)\n",
        "print('https://www.amazon.com.mx' + product_s.get('href'))\n"
      ],
      "execution_count": 87,
      "outputs": [
        {
          "output_type": "stream",
          "text": [
            "<a class=\"a-link-normal\" href=\"/Cero-Inversionista-Domina-juego-dinero-ebook/dp/B08BY3L6C7?_encoding=UTF8&amp;psc=1\"><span class=\"zg-text-center-align\"><div class=\"a-section a-spacing-small\"><img alt=\"De Cero a Inversionista: Domina el juego del dinero\" height=\"200\" src=\"https://images-na.ssl-images-amazon.com/images/I/81w%2BvFNzElL._UX300__PJku-sticker-v7,TopRight,0,-50__BG0,0,0,0_FMpng_AC_UL200_SR200,200_.jpg\" width=\"200\"/></div></span>\n",
            "<div aria-hidden=\"true\" class=\"p13n-sc-truncate p13n-sc-line-clamp-1\" data-rows=\"1\">\n",
            "            De Cero a Inversionista: Domina el juego del dinero\n",
            "        </div>\n",
            "</a>\n",
            "https://www.amazon.com.mx/Cero-Inversionista-Domina-juego-dinero-ebook/dp/B08BY3L6C7?_encoding=UTF8&psc=1\n"
          ],
          "name": "stdout"
        }
      ]
    }
  ]
}